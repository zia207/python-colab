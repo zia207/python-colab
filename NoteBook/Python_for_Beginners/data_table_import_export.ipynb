{
  "cells": [
    {
      "cell_type": "markdown",
      "metadata": {
        "id": "view-in-github",
        "colab_type": "text"
      },
      "source": [
        "<a href=\"https://colab.research.google.com/github/zia207/r-colab/blob/main/NoteBook/R%20for%20Beginners/data_table_import_export.ipynb\" target=\"_parent\"><img src=\"https://colab.research.google.com/assets/colab-badge.svg\" alt=\"Open In Colab\"/></a>"
      ]
    },
    {
      "cell_type": "markdown",
      "source": [
        "![alt text](http://drive.google.com/uc?export=view&id=1bLQ3nhDbZrCCqy_WCxxckOne2lgVvn3l)"
      ],
      "metadata": {
        "id": "d5rjJ3HatfX5"
      }
    },
    {
      "cell_type": "markdown",
      "metadata": {
        "id": "MGoP0AbXEAUx"
      },
      "source": [
        "#  **Data Imoport/Extort with data.table and Feather**\n",
        "\n"
      ]
    },
    {
      "cell_type": "markdown",
      "source": [
        "## Introduction"
      ],
      "metadata": {
        "id": "dVKgDhn8thuA"
      }
    },
    {
      "cell_type": "markdown",
      "source": [
        "### Data-table\n",
        "\n",
        "The [**data.table**](https://rdatatable.gitlab.io/data.table/) is a powerful tool that offers a high-performance alternative to the standard \"data.frame\" object in base R. With a range of syntax and feature enhancements, this package provides unparalleled ease of use, convenience, and programming speed. Whether you're working with large datasets or complex queries, \"data.table\" is a versatile and efficient solution for all your data manipulation needs. With its intuitive syntax, powerful indexing capabilities, and seamless integration with other R packages, \"data.table\" is a must-have tool for any data scientist or analyst looking to optimize their workflow and get the most out of their data."
      ],
      "metadata": {
        "id": "R7aXf9ejbtgQ"
      }
    },
    {
      "cell_type": "markdown",
      "source": [
        "![alt text](http://drive.google.com/uc?export=view&id=1ok_8au0GAsR6nvk5qpejgcn5beGxdWQ5)\n",
        "\n",
        "**Features**\n",
        "\n",
        "-   fast and friendly delimited **file reader**: [**`?fread`**](https://rdatatable.gitlab.io/data.table/reference/fread.html), see also [convenience features for *small* data](https://github.com/Rdatatable/data.table/wiki/Convenience-features-of-fread)\n",
        "\n",
        "-   fast and feature rich delimited **file writer**: [**`?fwrite`**](https://rdatatable.gitlab.io/data.table/reference/fwrite.html)\n",
        "\n",
        "-   low-level **parallelism**: many common operations are internally parallelized to use multiple CPU threads\n",
        "\n",
        "-   fast and scalable aggregations; e.g. 100GB in RAM (see [benchmarks](https://h2oai.github.io/db-benchmark/) on up to **two billion rows**)\n",
        "\n",
        "-   fast and feature rich joins: **ordered joins** (e.g. rolling forwards, backwards, nearest and limited staleness), [**overlapping range joins**](https://github.com/Rdatatable/data.table/wiki/talks/EARL2014_OverlapRangeJoin_Arun.pdf) (similar to `IRanges::findOverlaps`), [**non-equi joins**](https://github.com/Rdatatable/data.table/wiki/talks/ArunSrinivasanUseR2016.pdf) (i.e. joins using operators `>, >=, <, <=`), **aggregate on join** (`by=.EACHI`), **update on join**\n",
        "\n",
        "-   fast add/update/delete columns **by reference** by group using no copies at all\n",
        "\n",
        "-   fast and feature rich **reshaping** data: [**`?dcast`**](https://rdatatable.gitlab.io/data.table/reference/dcast.data.table.html) (*pivot/wider/spread*) and [**`?melt`**](https://rdatatable.gitlab.io/data.table/reference/melt.data.table.html) (*unpivot/longer/gather*)\n",
        "\n",
        "-   **any R function from any R package** can be used in queries not just the subset of functions made available by a database backend, also columns of type `list` are supported\n",
        "\n",
        "-   has [**no dependencies**](https://en.wikipedia.org/wiki/Dependency_hell) at all other than base R itself, for simpler production/maintenance\n",
        "\n",
        "-   the R dependency is **as old as possible for as long as possible**, dated April 2014, and we continuously test against that version; e.g. v1.11.0 released on 5 May 2018 bumped the dependency up from 5 year old R 3.0.0 to 4 year old R 3.1.0\n"
      ],
      "metadata": {
        "id": "4zaBS1wiPuYn"
      }
    },
    {
      "cell_type": "markdown",
      "metadata": {
        "id": "kroLnhoOPPoV"
      },
      "source": [
        "> install.packages(\"data.table\")\n",
        "\n",
        "The latest development version (only if newer available)\n",
        "\n",
        "> data.table::update_dev_pkg()\n",
        "\n",
        "The atest development version (force install)\n",
        "\n",
        "> install.packages(\"data.table\", repos=\"https://rdatatable.gitlab.io/data.table\")"
      ]
    },
    {
      "cell_type": "markdown",
      "source": [
        "### Feather: A Fast On-Disk Format for Data Frames\n",
        "\n",
        "Feather is a binary columnar serialization tool that is specifically designed to make reading and writing data frames highly efficient, while also making it easier to share data across various data analysis languages. It offers bindings for both Python (written by Wes McKinney) and R (written by Hadley Wickham) and uses the Apache Arrow columnar memory specification to represent binary data on disk, which results in fast read and write operations. This feature is particularly useful when it comes to encoding null/NA values and variable-length types like UTF8 strings. Feather is an integral part of the Apache Arrow project and defines its own simplified schemas and metadata for on-disk representation.\n",
        "\n",
        "\n",
        "\n"
      ],
      "metadata": {
        "id": "_SZHht7wdXhy"
      }
    },
    {
      "cell_type": "markdown",
      "source": [
        "![alt text](http://drive.google.com/uc?export=view&id=1olj1URtrJ9-vnmvEw3SY3IhBvoMT1GG1)\n",
        "\n"
      ],
      "metadata": {
        "id": "tFmfVDPjfdRe"
      }
    },
    {
      "cell_type": "markdown",
      "source": [
        "Feather is a fast, lightweight, and easy-to-use binary file format for storing data frames. It has a few specific design goals:\n",
        "\n",
        "-   Lightweight, minimal API: make pushing data frames in and out of memory as simple as possible\n",
        "\n",
        "-   Language agnostic: Feather files are the same whether written by Python or R code. Other languages can read and write Feather files, too.\n",
        "\n",
        "Feather is extremely fast. Since Feather does not currently use any compression internally, it works best when used with solid-state drives as come with most of today's laptop computers. For this first release, we prioritized a simple implementation and are thus writing unmodified Arrow memory to disk [source](https://www.rstudio.com/blog/feather/).\n",
        "\n",
        "Feather currently supports the following column types:\n",
        "\n",
        "-   A wide range of numeric types (int8, int16, int32, int64, uint8, uint16, uint32, uint64, float, double).\n",
        "\n",
        "-   Logical/boolean values.\n",
        "\n",
        "-   Dates, times, and timestamps.\n",
        "\n",
        "-   Factors/categorical variables that have fixed set of possible values.\n",
        "\n",
        "-   UTF-8 encoded strings.\n",
        "\n",
        "-   Arbitrary binary data.\n",
        "\n",
        "All column types support NA/null values.\n",
        "\n",
        "> install.packages(\"feather\")"
      ],
      "metadata": {
        "id": "nQxK-AXzfYYm"
      }
    },
    {
      "cell_type": "markdown",
      "metadata": {
        "id": "CdQJ-mgsEU9J"
      },
      "source": [
        "## Install rpy2\n",
        "\n",
        "Easy way to run R in Colab with Python runtime using **rpy2** python package. We have to install this package using the pip command:"
      ]
    },
    {
      "cell_type": "code",
      "execution_count": null,
      "metadata": {
        "id": "qOD7NpajDy5k",
        "colab": {
          "base_uri": "https://localhost:8080/"
        },
        "outputId": "b1535ae6-3ed8-4d1a-9312-4bc2e3a9c639"
      },
      "outputs": [
        {
          "output_type": "stream",
          "name": "stdout",
          "text": [
            "Found existing installation: rpy2 3.4.2\n",
            "Uninstalling rpy2-3.4.2:\n",
            "  Successfully uninstalled rpy2-3.4.2\n",
            "Collecting rpy2==3.5.1\n",
            "  Downloading rpy2-3.5.1.tar.gz (201 kB)\n",
            "\u001b[2K     \u001b[90m━━━━━━━━━━━━━━━━━━━━━━━━━━━━━━━━━━━━━━━━\u001b[0m \u001b[32m201.7/201.7 kB\u001b[0m \u001b[31m2.1 MB/s\u001b[0m eta \u001b[36m0:00:00\u001b[0m\n",
            "\u001b[?25h  Preparing metadata (setup.py) ... \u001b[?25l\u001b[?25hdone\n",
            "Requirement already satisfied: cffi>=1.10.0 in /usr/local/lib/python3.10/dist-packages (from rpy2==3.5.1) (1.16.0)\n",
            "Requirement already satisfied: jinja2 in /usr/local/lib/python3.10/dist-packages (from rpy2==3.5.1) (3.1.2)\n",
            "Requirement already satisfied: pytz in /usr/local/lib/python3.10/dist-packages (from rpy2==3.5.1) (2023.3.post1)\n",
            "Requirement already satisfied: tzlocal in /usr/local/lib/python3.10/dist-packages (from rpy2==3.5.1) (5.2)\n",
            "Requirement already satisfied: pycparser in /usr/local/lib/python3.10/dist-packages (from cffi>=1.10.0->rpy2==3.5.1) (2.21)\n",
            "Requirement already satisfied: MarkupSafe>=2.0 in /usr/local/lib/python3.10/dist-packages (from jinja2->rpy2==3.5.1) (2.1.3)\n",
            "Building wheels for collected packages: rpy2\n",
            "  Building wheel for rpy2 (setup.py) ... \u001b[?25l\u001b[?25hdone\n",
            "  Created wheel for rpy2: filename=rpy2-3.5.1-cp310-cp310-linux_x86_64.whl size=314933 sha256=98839c496cc15441f335f68bb835401b55502fe06cdf291bed5d0bed4dfb055a\n",
            "  Stored in directory: /root/.cache/pip/wheels/73/a6/ff/4e75dd1ce1cfa2b9a670cbccf6a1e41c553199e9b25f05d953\n",
            "Successfully built rpy2\n",
            "Installing collected packages: rpy2\n",
            "Successfully installed rpy2-3.5.1\n"
          ]
        }
      ],
      "source": [
        "!pip uninstall rpy2 -y\n",
        "! pip install rpy2==3.5.1\n",
        "%load_ext rpy2.ipython"
      ]
    },
    {
      "cell_type": "markdown",
      "metadata": {
        "id": "qmEDD0ccEurf"
      },
      "source": [
        "##  Mount Google Drive\n",
        "\n",
        "Then you must create a folder in Goole drive named \"R\" to install all packages permanently. Before installing R-package in Python runtime. You have to mount Google Drive and follow on-screen instruction:"
      ]
    },
    {
      "cell_type": "code",
      "execution_count": null,
      "metadata": {
        "id": "lClKZUW1Eu_G",
        "colab": {
          "base_uri": "https://localhost:8080/"
        },
        "outputId": "9e92214b-527e-4468-9bde-65e5ab2dc58f"
      },
      "outputs": [
        {
          "output_type": "stream",
          "name": "stdout",
          "text": [
            "Mounted at /content/drive\n"
          ]
        }
      ],
      "source": [
        "from google.colab import drive\n",
        "drive.mount('/content/drive')"
      ]
    },
    {
      "cell_type": "markdown",
      "source": [
        "## Check and Install Required R Packages"
      ],
      "metadata": {
        "id": "BSAv-kcUTTo7"
      }
    },
    {
      "cell_type": "code",
      "source": [
        "%%R\n",
        "pkg <- c(('tidyverse', 'data.table', 'feather'),,lib='drive/My Drive/R/')\n",
        "new.packages <- pkg[!(pkg %in% installed.packages()[,\"Package\"])]\n",
        "if(length(new.packages)) install.packages(new.packages,lib='drive/My Drive/R/')"
      ],
      "metadata": {
        "id": "Nan0amGMyBv5"
      },
      "execution_count": null,
      "outputs": []
    },
    {
      "cell_type": "markdown",
      "source": [
        "## Load Libaray"
      ],
      "metadata": {
        "id": "1ldcblnJYfks"
      }
    },
    {
      "cell_type": "code",
      "source": [
        "%%R\n",
        "# set library path\n",
        ".libPaths('drive/My Drive/R')\n",
        "library(tidyverse)\n",
        "library(data.table)\n",
        "library(feather)"
      ],
      "metadata": {
        "id": "nCnpYUs9YftD"
      },
      "execution_count": null,
      "outputs": []
    },
    {
      "cell_type": "markdown",
      "source": [
        "## Data\n",
        "\n",
        "\n",
        "All data set use in this exercise can be downloaded from my [Dropbox](https://www.dropbox.com/scl/fo/fohioij7h503duitpl040/h?rlkey=3voumajiklwhgqw75fe8kby3o&dl=0) or from my [Github](https://github.com/zia207/r-colab/tree/main/Data/R_Beginners) accounts.\n",
        "\n"
      ],
      "metadata": {
        "id": "pcn48RSJ2Xnk"
      }
    },
    {
      "cell_type": "markdown",
      "metadata": {
        "id": "IrmMavWXGoM_"
      },
      "source": [
        "## Reading CSV file with **fread**\n",
        "\n",
        "If you're dealing with large datasets and looking for an efficient way to read files into R as data tables, the **data.table** package has got you covered with its highly efficient function called `fread()`. This function outperforms other alternatives like read.csv or read.table and is specifically designed to handle large datasets. So, if you want to save time and increase your productivity, consider using `fread()` for your file reading needs.\n",
        "\n",
        "The fread function in data.table offers a great level of versatility when it comes to efficiently reading various types of delimited files. You can easily specify delimiters, select specific columns, and even set particular data types while reading to optimize memory usage. This function proves to be especially powerful when dealing with large datasets due to its exceptional speed and memory efficiency."
      ]
    },
    {
      "cell_type": "code",
      "execution_count": null,
      "metadata": {
        "id": "gXfSYaGPGpbl",
        "colab": {
          "base_uri": "https://localhost:8080/"
        },
        "outputId": "71639975-af98-4541-f2f4-9cf8d2eda2cd"
      },
      "outputs": [
        {
          "output_type": "stream",
          "name": "stdout",
          "text": [
            "Classes ‘data.table’ and 'data.frame':\t3110 obs. of  25 variables:\n",
            " $ FIPS            : int  1003 1013 1013 1017 1023 1025 1031 1035 1039 1041 ...\n",
            " $ REGION_ID       : int  3 3 3 3 3 3 3 3 3 3 ...\n",
            " $ STATE           : chr  \"Alabama\" \"Alabama\" \"Alabama\" \"Alabama\" ...\n",
            " $ County          : chr  \"Baldwin County\" \"Butler County\" \"Butler County\" \"Chambers County\" ...\n",
            " $ X               : num  789778 877732 877732 984215 726606 ...\n",
            " $ Y               : num  884557 1007286 1007286 1148649 1023616 ...\n",
            " $ Empty_Column    : logi  NA NA NA NA NA NA ...\n",
            " $ LCB Rate        : num  48.1 38.3 38.3 49.6 31.8 42 53.7 46.9 65.5 57.1 ...\n",
            " $ Smoking         : num  20.8 26 26 25.1 21.8 22.6 21.2 24.9 25.9 22.9 ...\n",
            " $ PM25            : num  7.89 8.46 8.46 8.87 8.58 8.42 8.42 8.23 8.24 8.45 ...\n",
            " $ NO2             : num  0.794 0.634 0.634 0.844 0.593 ...\n",
            " $ SO2             : num  0.0353 0.0135 0.0135 0.0482 0.024 ...\n",
            " $ Ozone           : num  39.8 38.3 38.3 40.1 37.1 ...\n",
            " $ Pop 65          : num  19.5 19 19 18.9 22.1 19 16.3 21.6 20.5 18.3 ...\n",
            " $ Pop_Black       : num  9.24 43.94 43.94 39.24 41.94 ...\n",
            " $ Pop Hipanic     : num  4.54 1.26 1.26 2.14 0.86 1.34 6.76 1.84 1.62 1.86 ...\n",
            " $ Pop White       : num  83.1 52.6 52.6 56.4 56.3 ...\n",
            " $ Education       : int  66 38 38 47 55 39 60 35 53 44 ...\n",
            " $ Poverty %       : num  13.1 26.1 26.1 21.5 23.1 ...\n",
            " $ Income Equality : num  4.5 5.1 5.1 4.7 5.8 8.2 4.8 4.9 4.6 5.8 ...\n",
            " $ Uninsured       : num  13.3 12.7 12.7 13.3 12.9 ...\n",
            " $ DEM             : num  36.8 111.7 111.7 227 68.2 ...\n",
            " $ Radon Zone Class: chr  \"Zone-3\" \"Zone-3\" \"Zone-3\" \"Zone-3\" ...\n",
            " $ Urban Rural     : chr  \"Medium/small metro\" \"Nonmetro\" \"Nonmetro\" \"Nonmetro\" ...\n",
            " $ Coal Production : chr  \"No\" \"No\" \"No\" \"No\" ...\n",
            " - attr(*, \".internal.selfref\")=<externalptr> \n"
          ]
        }
      ],
      "source": [
        "%%R\n",
        "dataFolder<- \"/content/drive/MyDrive/R_Website/R_Bigenner/Data/\"\n",
        "DT<-data.table::fread(paste0(dataFolder,\"LBC_Data.csv\"), header= TRUE)\n",
        "str(DT)\n"
      ]
    },
    {
      "cell_type": "markdown",
      "source": [
        "We can also create data.table object using the `data.table()` function. Here is an example:"
      ],
      "metadata": {
        "id": "DkTnijnqiEtt"
      }
    },
    {
      "cell_type": "code",
      "source": [
        "%%R\n",
        "DT= data.table(\n",
        "    Variety =c(\"BR1\",\"BR3\", \"BR16\", \"BR17\", \"BR18\", \"BR19\",\"BR26\",\n",
        "\t      \"BR27\",\"BR28\",\"BR29\",\"BR35\",\"BR36\"),\n",
        "    Yield = c(5.2,6.0,6.6,5.6,4.7,5.2,5.7,\n",
        "\t            5.9,5.3,6.8,6.2,5.8))\n",
        "DT"
      ],
      "metadata": {
        "colab": {
          "base_uri": "https://localhost:8080/"
        },
        "id": "TPoE-bOoiE1k",
        "outputId": "7bd72d31-5d51-4b86-b85e-2bcd60b727bf"
      },
      "execution_count": null,
      "outputs": [
        {
          "output_type": "stream",
          "name": "stdout",
          "text": [
            "    Variety Yield\n",
            " 1:     BR1   5.2\n",
            " 2:     BR3   6.0\n",
            " 3:    BR16   6.6\n",
            " 4:    BR17   5.6\n",
            " 5:    BR18   4.7\n",
            " 6:    BR19   5.2\n",
            " 7:    BR26   5.7\n",
            " 8:    BR27   5.9\n",
            " 9:    BR28   5.3\n",
            "10:    BR29   6.8\n",
            "11:    BR35   6.2\n",
            "12:    BR36   5.8\n"
          ]
        }
      ]
    },
    {
      "cell_type": "markdown",
      "source": [
        "You can also convert existing objects to a `data.table` using `setDT()` (for `data.frame`s and `list`s) and `as.data.table()` (for other structures); the difference is beyond the scope of this vignette, see `?setDT` and `?as.data.table` for more details."
      ],
      "metadata": {
        "id": "rimed20miLuO"
      }
    },
    {
      "cell_type": "markdown",
      "source": [
        "Now we compare writing time of **frwite** functions with write.csv functions.:"
      ],
      "metadata": {
        "id": "SqJQoPMbC4sA"
      }
    },
    {
      "cell_type": "code",
      "execution_count": null,
      "metadata": {
        "id": "dKU4UEAtHTHd",
        "colab": {
          "base_uri": "https://localhost:8080/"
        },
        "outputId": "3208cfa8-743d-48dd-9f7f-fe2f017113c8"
      },
      "outputs": [
        {
          "output_type": "stream",
          "name": "stdout",
          "text": [
            "   user  system elapsed \n",
            "  0.021   0.000   0.024 \n"
          ]
        }
      ],
      "source": [
        "%%R\n",
        "# r-base\n",
        "system.time(read.csv(paste0(dataFolder,\"LBC_Data.csv\"), header= TRUE))"
      ]
    },
    {
      "cell_type": "code",
      "source": [
        "%%R\n",
        "# data.table\n",
        "system.time(data.table::fread(paste0(dataFolder,\"LBC_Data.csv\"), header= TRUE))\n"
      ],
      "metadata": {
        "colab": {
          "base_uri": "https://localhost:8080/"
        },
        "id": "WItmf8UyjXbI",
        "outputId": "f8e7abe5-4bee-4203-f9da-73ece25d8e2f"
      },
      "execution_count": null,
      "outputs": [
        {
          "output_type": "stream",
          "name": "stdout",
          "text": [
            "   user  system elapsed \n",
            "  0.005   0.000   0.009 \n"
          ]
        }
      ]
    },
    {
      "cell_type": "markdown",
      "source": [
        "## Writing CSV file with **fwrite**\n",
        "\n",
        "\n",
        "In the data.table package of R, `fwrite()` serves as the counterpart to **fread**. It is primarily utilized for writing data tables to files, usually in CSV or other delimited formats. With a focus on speed and efficiency, `fwrite()` is optimized to handle large datasets effectively. Therefore, it is an excellent option for saving such datasets.\n"
      ],
      "metadata": {
        "id": "l1vfNT2E3YY9"
      }
    },
    {
      "cell_type": "code",
      "source": [
        "%%R\n",
        "# read with fread()\n",
        "data.table::fwrite(DT,  paste0(dataFolder, \"DT.csv\"), row.names=F, quote=TRUE)"
      ],
      "metadata": {
        "id": "N-KkDEuYWyQs"
      },
      "execution_count": null,
      "outputs": []
    },
    {
      "cell_type": "markdown",
      "source": [
        "Now we compare writing time of `frwite()` functions with write.csv functions."
      ],
      "metadata": {
        "id": "yzM2jQ5CmelA"
      }
    },
    {
      "cell_type": "code",
      "source": [
        "%%R\n",
        "#r-base\n",
        "system.time(write.csv(DT,  paste0(dataFolder, \"DT.csv\"), row.names=F))"
      ],
      "metadata": {
        "colab": {
          "base_uri": "https://localhost:8080/"
        },
        "id": "H_y3fVXXmcuT",
        "outputId": "ab4543df-7169-442c-8966-06b42f83e919"
      },
      "execution_count": null,
      "outputs": [
        {
          "output_type": "stream",
          "name": "stdout",
          "text": [
            "   user  system elapsed \n",
            "  0.007   0.001   0.011 \n"
          ]
        }
      ]
    },
    {
      "cell_type": "code",
      "source": [
        "%%R\n",
        "## data.table\n",
        "system.time(data.table::fwrite(DT,  paste0(dataFolder, \"DT.csv\"), row.names=F, quote=TRUE))"
      ],
      "metadata": {
        "colab": {
          "base_uri": "https://localhost:8080/"
        },
        "id": "GFHNNHZimo9U",
        "outputId": "f42494f7-77f8-4509-ac8e-87a083855c27"
      },
      "execution_count": null,
      "outputs": [
        {
          "output_type": "stream",
          "name": "stdout",
          "text": [
            "   user  system elapsed \n",
            "  0.000   0.000   0.005 \n"
          ]
        }
      ]
    },
    {
      "cell_type": "markdown",
      "source": [
        "## Write with feather\n",
        "\n",
        "First we have to create feather data using `write_feather()` function"
      ],
      "metadata": {
        "id": "f4CsQrGfm6ez"
      }
    },
    {
      "cell_type": "code",
      "source": [
        "%%R\n",
        "# write_feather()\n",
        "feather::write_feather(DT, paste0(dataFolder, \"LBC_data.feather\"))"
      ],
      "metadata": {
        "id": "EjvELYSum5oN"
      },
      "execution_count": null,
      "outputs": []
    },
    {
      "cell_type": "markdown",
      "source": [
        "We can read this feather data with lighting speed using `read_feather function()`"
      ],
      "metadata": {
        "id": "1uOjIdYWnHG_"
      }
    },
    {
      "cell_type": "code",
      "source": [
        "%%R\n",
        "DT_feather <- feather::read_feather(paste0(dataFolder, \"LBC_data.feather\"))\n",
        "str(DT_feather)"
      ],
      "metadata": {
        "colab": {
          "base_uri": "https://localhost:8080/"
        },
        "id": "3atJ6zVsnHv7",
        "outputId": "6b640504-99d9-4399-f2ea-5923d4d90743"
      },
      "execution_count": null,
      "outputs": [
        {
          "output_type": "stream",
          "name": "stdout",
          "text": [
            "tibble [12 × 2] (S3: tbl_df/tbl/data.frame)\n",
            " $ Variety: chr [1:12] \"BR1\" \"BR3\" \"BR16\" \"BR17\" ...\n",
            " $ Yield  : num [1:12] 5.2 6 6.6 5.6 4.7 5.2 5.7 5.9 5.3 6.8 ...\n"
          ]
        }
      ]
    },
    {
      "cell_type": "code",
      "source": [
        "%%R\n",
        "system.time(feather::write_feather(DT, paste0(dataFolder, \"LBC_data.feather\")))"
      ],
      "metadata": {
        "colab": {
          "base_uri": "https://localhost:8080/"
        },
        "id": "_vvYSpz8nOSg",
        "outputId": "ea40d700-0ead-4fec-bf93-a1e2395df806"
      },
      "execution_count": null,
      "outputs": [
        {
          "output_type": "stream",
          "name": "stdout",
          "text": [
            "   user  system elapsed \n",
            "  0.001   0.000   0.006 \n"
          ]
        }
      ]
    },
    {
      "cell_type": "markdown",
      "source": [
        "## Summary\n",
        "\n",
        "This tutorial covers efficient data export-import processes using the R packages data.table and feather, which handle large datasets with speed and ease. We explore data.table's syntax for importing and exporting data and feather's binary columnar data format for seamless data exchange between R and other programming languages. Using these packages, data scientists can handle large datasets efficiently, ensuring speed and readability in data operations. To optimize data manipulation workflows, consider exploring advanced features of data.table and experimenting with feather's compatibility with various data science ecosystems."
      ],
      "metadata": {
        "id": "ufqaUvGBKMVe"
      }
    },
    {
      "cell_type": "markdown",
      "metadata": {
        "id": "0Ovc25MJTsD8"
      },
      "source": [
        "## Further Reading\n",
        "\n",
        "1.   [feather](https://posit.co/blog/feather/)\n",
        "\n",
        "2.  [data.tabler](https://cran.r-project.org/web/packages/data.table/vignettes/datatable-intro.html)"
      ]
    }
  ],
  "metadata": {
    "colab": {
      "provenance": [],
      "toc_visible": true,
      "authorship_tag": "ABX9TyNnLvABkr7tMFGQXlRirDgi",
      "include_colab_link": true
    },
    "kernelspec": {
      "display_name": "Python 3",
      "name": "python3"
    },
    "language_info": {
      "name": "python"
    }
  },
  "nbformat": 4,
  "nbformat_minor": 0
}