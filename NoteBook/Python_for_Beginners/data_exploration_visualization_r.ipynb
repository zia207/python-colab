{
  "cells": [
    {
      "cell_type": "markdown",
      "metadata": {
        "id": "view-in-github",
        "colab_type": "text"
      },
      "source": [
        "<a href=\"https://colab.research.google.com/github/zia207/r-colab/blob/main/NoteBook/R%20for%20Beginners/data_exploration_visualization_r.ipynb\" target=\"_parent\"><img src=\"https://colab.research.google.com/assets/colab-badge.svg\" alt=\"Open In Colab\"/></a>"
      ]
    },
    {
      "cell_type": "markdown",
      "source": [
        "![alt text](http://drive.google.com/uc?export=view&id=1bLQ3nhDbZrCCqy_WCxxckOne2lgVvn3l)"
      ],
      "metadata": {
        "id": "wVRqpyMmVqHu"
      }
    },
    {
      "cell_type": "markdown",
      "metadata": {
        "id": "MGoP0AbXEAUx"
      },
      "source": [
        "# **Data Exploration and Visualization in R**\n",
        "\n"
      ]
    },
    {
      "cell_type": "markdown",
      "source": [
        "## Introduction"
      ],
      "metadata": {
        "id": "EVT_X1XWVqVL"
      }
    },
    {
      "cell_type": "markdown",
      "metadata": {
        "id": "kroLnhoOPPoV"
      },
      "source": [
        "Data exploration and visualization, also known as Exploratory Data Analysis (EDA), is a critical component of the data analysis process. They serve several purposes, such as assessing data quality, identifying missing values, outliers, and inconsistencies, summarizing data characteristics, creating new features, and discovering patterns and trends. Visualizations help to communicate complex information and insights to stakeholders, identify patterns and anomalies, and validate models. EDA provide a foundation for making informed decisions, refine hypotheses, detect and correct errors, and tell compelling stories backed by data. In essence, data exploration and visualization are fundamental steps in extracting meaningful insights from data, driving better decision-making, and uncovering hidden patterns that can be pivotal in various fields, from business analytics to scientific research."
      ]
    },
    {
      "cell_type": "markdown",
      "source": [
        "Here are below basic steps for EDA:\n",
        "\n",
        "-   Import data: The first step in data exploration is to import your data into R. You can import data from various sources such as Excel, CSV, or databases.\n",
        "\n",
        "-   Check the structure of data: Use the str() function to check the structure of your data. This function will give you information about the dimensions of your data and the types of variables in your data.\n",
        "\n",
        "-   Check data distribution and visualize the data distribution using histograms, density plot and qqplots. Perform normality test to determine whether a given data sample is derived from a normally distributed population.\n",
        "\n",
        "-   Check for missing values: Use the is.na() function to check for missing values in your data. If you have missing values, you can use the na.omit() function to remove the missing values from your data.\n",
        "\n",
        "-   Summarize or descriptive statisics of the data: Start by summarizing the main characteristics of the data, such as the mean, median, standard deviation, and range of each variable.\n",
        "\n",
        "-   box plot to identify outliers, which are observations significantly different from the rest of the data.\n",
        "\n",
        "-   Perform statistical tests: Use the t.test() function to perform statistical tests on your data. You can use this function to test whether the means of two groups are significantly different.\n",
        "\n",
        "-   Explore and visualize the relationships between two variables using scatter plot and correlation analysis.\n",
        "\n",
        "-   Look for patterns and trends: Search for patterns and trends in the data that can help you to generate new hypotheses or insights. You can use clustering and principal component analysis (PCA) techniques in R.\n",
        "\n",
        "Overall, EDA is an important first step in any data analysis project, as it helps you to understand the data and generate hypotheses that can guide further analysis. R provides many powerful tools for EDA, making it a popular language for data scientists and analysts."
      ],
      "metadata": {
        "id": "sH5aSkdqyIBX"
      }
    },
    {
      "cell_type": "markdown",
      "metadata": {
        "id": "CdQJ-mgsEU9J"
      },
      "source": [
        "## Install rpy2\n",
        "\n",
        "Easy way to run R in Colab with Python runtime using **rpy2** python package. We have to install this package using the `pip` command:"
      ]
    },
    {
      "cell_type": "code",
      "execution_count": null,
      "metadata": {
        "id": "qOD7NpajDy5k"
      },
      "outputs": [],
      "source": [
        "!pip uninstall rpy2 -y\n",
        "! pip install rpy2==3.5.1\n",
        "%load_ext rpy2.ipython"
      ]
    },
    {
      "cell_type": "markdown",
      "metadata": {
        "id": "qmEDD0ccEurf"
      },
      "source": [
        "##  Mount Google Drive\n",
        "\n",
        "Then you must create a folder in Goole drive named \"R\" to install all packages permanently. Before installing R-package in Python runtime. You have to mount Google Drive and follow on-screen instruction:"
      ]
    },
    {
      "cell_type": "code",
      "execution_count": null,
      "metadata": {
        "id": "lClKZUW1Eu_G",
        "colab": {
          "base_uri": "https://localhost:8080/"
        },
        "outputId": "e78bb1a6-fcb9-4201-e3d5-04016f01a33b"
      },
      "outputs": [
        {
          "output_type": "stream",
          "name": "stdout",
          "text": [
            "Mounted at /content/drive\n"
          ]
        }
      ],
      "source": [
        "from google.colab import drive\n",
        "drive.mount('/content/drive')"
      ]
    },
    {
      "cell_type": "markdown",
      "source": [
        "## Check and Install Required R Packages\n",
        "\n",
        "In these exercise we will use following R-Packages:\n",
        "\n",
        "[tydyverse](https://www.tidyverse.org/): The tidyverse is a collection of R packages designed for data science.\n",
        "\n",
        "[data.table](https://rdatatable.gitlab.io/data.table/): data.table provides a high-performance version of base R's data.frame\n",
        "\n",
        "[plyr](https://github.com/hadley/plyr): plyr is a set of tools for a common set of problems\n",
        "\n",
        "[flextable](https://ardata-fr.github.io/flextable-book/): The flextable package provides a framework for easily create tables for reporting and publications.\n",
        "\n",
        "[gtsummary](https://www.danieldsjoberg.com/gtsummary/): provides an elegant and flexible way to create publication-ready analytical and summary tables.\n",
        "\n",
        "[report](https://easystats.github.io/report/): report's primary goal is to bridge the gap between R's output and the formatted results contained in your manuscript.\n",
        "\n",
        "[nortest](https://cran.r-project.org/web/packages/nortest/nortest.pdf): Five omnibus tests for testing the composite hypothesis of normality\n",
        "\n",
        "[outliers](https://cran.r-project.org/web/packages/outliers/outliers.pdf): collection of some tests commonly used for identifying outliers.\n",
        "\n",
        "[moments](https://cran.r-project.org/web/packages/moments/moments.pdf):Functions to calculate: moments, Pearson's kurtosis, Geary's kurtosis and skewness; tests related to them (Anscombe-Glynn, D'Agostino, Bonett-Seier).\n",
        "\n",
        "[car](https://cran.r-project.org/web/packages/car/car.pdf): Companion to Applied Regression\n",
        "\n",
        "[Hmisc](https://cran.r-project.org/web/packages/Hmisc/Hmisc.pdf): Contains many functions useful for data analysis, high-level graphics, utility operations,\n",
        "\n",
        "[corrplot](https://cran.r-project.org/web/packages/corrplot/vignettes/corrplot-intro.html):R package corrplot provides a visual exploratory tool on correlation matrix\n",
        "\n",
        "[ggstatsplot](https://indrajeetpatil.github.io/ggstatsplot/): ggplot2 based lots with statistical details\n",
        "\n",
        "[GGally](https://ggobi.github.io/ggally/): GGally extends ggplot2 by adding several functions to reduce the complexity of combining geoms with transformed data.\n",
        "\n",
        "[ggExtra](https://cran.r-project.org/web/packages/ggExtra/vignettes/ggExtra.html):Add marginal histograms to ggplot2\n",
        "\n",
        "[ggside](https://cran.r-project.org/web/packages/ggside/vignettes/ggside_basic_usage.html): The package ggside was designed to enable users to add metadata to their ggplots with ease.\n",
        "\n",
        "[RColorBrewer](https://cran.r-project.org/web/packages/RColorBrewer/RColorBrewer.pdf):Provides color schemes for maps (and other graphics)\n",
        "\n",
        "[patchwork](https://patchwork.data-imaginist.com/):The goal of patchwork is to make it ridiculously simple to combine separate ggplots into the same graphic.\n",
        "\n",
        "[gridExtra](https://cran.r-project.org/web/packages/gridExtra/vignettes/arrangeGrob.html):The grid package provides low-level functions to create graphical objects (grobs), and position them on a page in specific viewports.\n",
        "\n",
        "[rstatix](https://rpkgs.datanovia.com/rstatix/): Provides a simple and intuitive pipe-friendly framework, coherent with the 'tidyverse' design philosophy, for performing basic statistical tests, including t-test, Wilcoxon test, ANOVA, Kruskal-Wallis and correlation analyses."
      ],
      "metadata": {
        "id": "O8mTSRI-GknP"
      }
    },
    {
      "cell_type": "code",
      "source": [
        "! pip install pycairo\n",
        "! pip install pkgconfig"
      ],
      "metadata": {
        "id": "xsjMvIp7Ho_E"
      },
      "execution_count": null,
      "outputs": []
    },
    {
      "cell_type": "code",
      "source": [
        "%%R\n",
        "pkg <- c('tidyverse',\n",
        "         'data.table',\n",
        "         'plyr',\n",
        "         'gtsummary',\n",
        "         'report',\n",
        "         'nortest',\n",
        "         'outliers',\n",
        "         'moments',\n",
        "         'car',\n",
        "         'Hmisc',\n",
        "         'corrplot',\n",
        "         'GGally',\n",
        "         'ggExtra',\n",
        "         'ggside',\n",
        "         'RColorBrewer',\n",
        "         'patchwork',\n",
        "         'gridExtra',\n",
        "         'rstatix',\n",
        "         'report',\n",
        "         'pactchwork'\n",
        "         )\n",
        "new.packages <- pkg[!(pkg %in% installed.packages(lib='drive/My Drive/R/')[,\"Package\"])]\n",
        "if(length(new.packages)) install.packages(new.packages, lib='drive/My Drive/R/')"
      ],
      "metadata": {
        "id": "JbN1rkO7Gh2j"
      },
      "execution_count": null,
      "outputs": []
    },
    {
      "cell_type": "markdown",
      "source": [
        "### Install 'ggstatsplot'"
      ],
      "metadata": {
        "id": "H3V6ZFilg1hq"
      }
    },
    {
      "cell_type": "code",
      "source": [
        "!sudo apt install cmake\n",
        "!sudo apt install libcairo2-dev\n",
        "!sudo apt install libgmp-dev\n",
        "!sudo apt-get install libmpfr-dev"
      ],
      "metadata": {
        "id": "7WwRHiyUYHtB"
      },
      "execution_count": null,
      "outputs": []
    },
    {
      "cell_type": "code",
      "source": [
        "%%R\n",
        "install.packages(c(\"gmp\", \"Rmpfr\", \"PMCMRplus\",'hrbrthemes'), lib='drive/My Drive/R/')\n",
        "install.packages(\"ggstatsplot\", lib='drive/My Drive/R/')"
      ],
      "metadata": {
        "id": "nX48ArEvhSC9"
      },
      "execution_count": null,
      "outputs": []
    },
    {
      "cell_type": "markdown",
      "source": [
        "## Load Packages"
      ],
      "metadata": {
        "id": "DjDmVyITGsDh"
      }
    },
    {
      "cell_type": "code",
      "source": [
        "%%R\n",
        "# set library path\n",
        ".libPaths('drive/My Drive/R')\n",
        "library(tidyverse)\n",
        "library(data.table)\n",
        "library(plyr)\n",
        "#library(flextable)\n",
        "library(gtsummary)\n",
        "library(nortest)\n",
        "library(moments)\n",
        "library(car)\n",
        "library(outliers)\n",
        "library(RColorBrewer)\n",
        "library(rstatix)\n",
        "library(report)\n",
        "library(ggside)\n",
        "library(ggstatsplot)\n",
        "library(ggExtra)\n",
        "library(gridExtra)\n",
        "library(xtable)\n",
        "library(GGally)\n",
        "library(corrplot)\n",
        "library(patchwork)\n"
      ],
      "metadata": {
        "id": "9Pn9zXgyGsMM"
      },
      "execution_count": null,
      "outputs": []
    },
    {
      "cell_type": "markdown",
      "source": [
        "## Data\n",
        "\n",
        "The data set use in this exercise can be downloaded from my [Dropbox](https://www.dropbox.com/scl/fo/fohioij7h503duitpl040/h?rlkey=3voumajiklwhgqw75fe8kby3o&dl=0) or from my [Github](https://github.com/zia207/r-colab/tree/main/Data/R_Beginners) account.\n",
        "\n"
      ],
      "metadata": {
        "id": "pcn48RSJ2Xnk"
      }
    },
    {
      "cell_type": "markdown",
      "source": [
        "We will use `read_csv()` function of **readr** package to import data from github as a **tidy** data."
      ],
      "metadata": {
        "id": "WuwRh_91IxVJ"
      }
    },
    {
      "cell_type": "code",
      "source": [
        "%%R\n",
        "mf.na<-read_csv(\"https://github.com/zia207/r-colab/raw/main/Data/R_Beginners/gp_soil_data_na.csv\")\n",
        "as_df<-read_csv(\"https://github.com/zia207/r-colab/raw/main/Data/R_Beginners/rice_arsenic_data.csv\")"
      ],
      "metadata": {
        "colab": {
          "base_uri": "https://localhost:8080/"
        },
        "id": "NKhJzcrC0lGY",
        "outputId": "562e9609-45de-4872-da03-56fae4ffeb57"
      },
      "execution_count": null,
      "outputs": [
        {
          "output_type": "stream",
          "name": "stdout",
          "text": [
            "Rows: 471 Columns: 19\n",
            "── Column specification ────────────────────────────────────────────────────────\n",
            "Delimiter: \",\"\n",
            "chr  (4): STATE, COUNTY, NLCD, FRG\n",
            "dbl (15): ID, FIPS, STATE_ID, Longitude, Latitude, SOC, DEM, Aspect, Slope, ...\n",
            "\n",
            "ℹ Use `spec()` to retrieve the full column specification for this data.\n",
            "ℹ Specify the column types or set `show_col_types = FALSE` to quiet this message.\n",
            "Rows: 140 Columns: 13\n",
            "── Column specification ────────────────────────────────────────────────────────\n",
            "Delimiter: \",\"\n",
            "chr  (2): TREAT, VAR\n",
            "dbl (11): ID, TREAT_ID, PH, TN, PN, ster, DTM, GY, SW, GAs, STAs\n",
            "\n",
            "ℹ Use `spec()` to retrieve the full column specification for this data.\n",
            "ℹ Specify the column types or set `show_col_types = FALSE` to quiet this message.\n"
          ]
        }
      ]
    },
    {
      "cell_type": "markdown",
      "source": [
        "## **Data Structure**\n",
        "\n",
        "In R, the `str()` function is a useful tool for examining the structure of an object. It provides a compact and informative description of the object's internal structure, including its type, length, dimensions, and contents."
      ],
      "metadata": {
        "id": "8FyowqdjJ2Xt"
      }
    },
    {
      "cell_type": "code",
      "source": [
        "%%R\n",
        "str(mf.na)"
      ],
      "metadata": {
        "colab": {
          "base_uri": "https://localhost:8080/"
        },
        "id": "3KVqfgEwJ1xU",
        "outputId": "3fdd3ace-c3cc-4f0b-e7fe-d7ba1375d062"
      },
      "execution_count": null,
      "outputs": [
        {
          "output_type": "stream",
          "name": "stdout",
          "text": [
            "spc_tbl_ [471 × 19] (S3: spec_tbl_df/tbl_df/tbl/data.frame)\n",
            " $ ID       : num [1:471] 1 2 3 4 5 6 7 8 9 10 ...\n",
            " $ FIPS     : num [1:471] 56041 56023 56039 56039 56029 ...\n",
            " $ STATE_ID : num [1:471] 56 56 56 56 56 56 56 56 56 56 ...\n",
            " $ STATE    : chr [1:471] \"Wyoming\" \"Wyoming\" \"Wyoming\" \"Wyoming\" ...\n",
            " $ COUNTY   : chr [1:471] \"Uinta County\" \"Lincoln County\" \"Teton County\" \"Teton County\" ...\n",
            " $ Longitude: num [1:471] -111 -111 -111 -111 -111 ...\n",
            " $ Latitude : num [1:471] 41.1 42.9 44.5 44.4 44.8 ...\n",
            " $ SOC      : num [1:471] 15.8 15.9 18.1 10.7 10.5 ...\n",
            " $ DEM      : num [1:471] 2229 1889 2423 2484 2396 ...\n",
            " $ Aspect   : num [1:471] 159 157 169 198 201 ...\n",
            " $ Slope    : num [1:471] 5.67 8.91 4.77 7.12 7.95 ...\n",
            " $ TPI      : num [1:471] -0.0857 4.5591 2.6059 5.1469 3.7557 ...\n",
            " $ KFactor  : num [1:471] 0.32 0.261 0.216 0.182 0.126 ...\n",
            " $ MAP      : num [1:471] 468 536 860 869 803 ...\n",
            " $ MAT      : num [1:471] 4.595 3.86 0.886 0.471 0.759 ...\n",
            " $ NDVI     : num [1:471] 0.414 0.694 0.547 0.619 0.584 ...\n",
            " $ SiltClay : num [1:471] 64.8 72 57.2 55 51.2 ...\n",
            " $ NLCD     : chr [1:471] \"Shrubland\" \"Shrubland\" \"Forest\" \"Forest\" ...\n",
            " $ FRG      : chr [1:471] \"Fire Regime Group IV\" \"Fire Regime Group IV\" \"Fire Regime Group V\" \"Fire Regime Group V\" ...\n",
            " - attr(*, \"spec\")=\n",
            "  .. cols(\n",
            "  ..   ID = col_double(),\n",
            "  ..   FIPS = col_double(),\n",
            "  ..   STATE_ID = col_double(),\n",
            "  ..   STATE = col_character(),\n",
            "  ..   COUNTY = col_character(),\n",
            "  ..   Longitude = col_double(),\n",
            "  ..   Latitude = col_double(),\n",
            "  ..   SOC = col_double(),\n",
            "  ..   DEM = col_double(),\n",
            "  ..   Aspect = col_double(),\n",
            "  ..   Slope = col_double(),\n",
            "  ..   TPI = col_double(),\n",
            "  ..   KFactor = col_double(),\n",
            "  ..   MAP = col_double(),\n",
            "  ..   MAT = col_double(),\n",
            "  ..   NDVI = col_double(),\n",
            "  ..   SiltClay = col_double(),\n",
            "  ..   NLCD = col_character(),\n",
            "  ..   FRG = col_character()\n",
            "  .. )\n",
            " - attr(*, \"problems\")=<externalptr> \n"
          ]
        }
      ]
    },
    {
      "cell_type": "markdown",
      "source": [
        "## **Missing Values**\n",
        "\n",
        "Missing values in a dataset can significantly impact the accuracy and reliability of data analysis. Therefore, dealing with missing values is a crucial and challenging task in data analysis\n",
        "\n",
        "In R, the `is.na()` function is used to test for missing values (NA) in an object. It returns a logical vector indicating which elements of the object are missing.\n"
      ],
      "metadata": {
        "id": "TUVQPkZtLMb-"
      }
    },
    {
      "cell_type": "code",
      "source": [
        "%%R\n",
        "sum(is.na(mf.na))"
      ],
      "metadata": {
        "colab": {
          "base_uri": "https://localhost:8080/"
        },
        "id": "jTCTOQuHJ0TK",
        "outputId": "b492c216-7d49-492d-96ae-3f020be09db3"
      },
      "execution_count": null,
      "outputs": [
        {
          "output_type": "stream",
          "name": "stdout",
          "text": [
            "[1] 4\n"
          ]
        }
      ]
    },
    {
      "cell_type": "markdown",
      "source": [
        "### Dealing with missing values\n",
        "\n",
        "Several methods are available to handle missing values in data, including imputation methods such as mean imputation, median imputation, mode imputation, and regression imputation. Another approach is removing the rows or columns containing missing values, known as deletion methods. The choice of method depends on the specific dataset and the analysis goals. It's essential to consider each approach carefully, as each method has advantages and disadvantages. Furthermore, the method chosen should be able to handle missing values without introducing bias or losing essential information. Therefore, assessing the quality of imputed values and the impact of missing values on the analysis outcome is essential.\n",
        "\n",
        "Here are some common strategies for handling missing data:\n",
        "\n",
        "1.  **Delete the rows or columns with missing data**: This is the simplest approach, but it can result in the loss of valuable information if there are many missing values.\n",
        "\n",
        "2.  **Imputation**: Imputation involves filling in the missing values with estimated values based on other data points. Standard imputation techniques include mean imputation, median imputation, and regression imputation.\n",
        "\n",
        "3.  **Multiple imputation**: This involves creating several imputed datasets and analyzing each separately, then combining the results to obtain a final estimate.\n",
        "\n",
        "4.  **Modeling**: This involves building a predictive model that can estimate the missing values based on other variables in the dataset.\n",
        "\n",
        "5.  **Domain-specific knowledge**: Sometimes, domain-specific knowledge can help to fill in missing values. For example, if a person's age is missing but their date of birth is available, their age can be calculated based on the current date.\n",
        "\n",
        "In this exercise, we only show to remove missing values in data-frame. Later we will show you how to impute these missing values with machine learning."
      ],
      "metadata": {
        "id": "SMZ6BheLKMMF"
      }
    },
    {
      "cell_type": "markdown",
      "source": [
        "### Remove missing values\n",
        "\n",
        "We can remove missing values from a data frame using the `drop.na()` function. This function removes any rows that contain missing values (NA values) in any column.\n",
        "\n",
        "Here's an example to remove missing values:"
      ],
      "metadata": {
        "id": "VNL9ZeJJMeCB"
      }
    },
    {
      "cell_type": "code",
      "source": [
        "%%R\n",
        "mf<-mf.na  |>  tidyr::drop_na()\n",
        "sum(is.na(mf))"
      ],
      "metadata": {
        "colab": {
          "base_uri": "https://localhost:8080/"
        },
        "id": "jpWQnHCjMhH5",
        "outputId": "b6dc49e0-f8cb-46d8-b06c-7a0ae7e0caeb"
      },
      "execution_count": null,
      "outputs": [
        {
          "output_type": "stream",
          "name": "stdout",
          "text": [
            "[1] 0\n"
          ]
        }
      ]
    },
    {
      "cell_type": "markdown",
      "source": [
        "### Impute missing values\n",
        "\n",
        "Essay way to impute missing values with mean or median values of the observation"
      ],
      "metadata": {
        "id": "zyHdJ__JzT72"
      }
    },
    {
      "cell_type": "code",
      "source": [
        "%%R\n",
        "list_na <- colnames(mf.na)[ apply(mf.na, 2, anyNA) ]\n",
        "median_missing <- apply(mf.na[,colnames(mf.na) %in% list_na],\n",
        "      2,   median,\n",
        "      na.rm =  TRUE)\n",
        "mf.imp<- mf.na  |>\n",
        "        mutate(SOC.new  = ifelse(is.na(SOC), median_missing[1], SOC))\n",
        "head(mf.imp)"
      ],
      "metadata": {
        "colab": {
          "base_uri": "https://localhost:8080/"
        },
        "id": "kN21Zp61zVmx",
        "outputId": "e802b4f1-06df-410f-ed59-2878c055f822"
      },
      "execution_count": null,
      "outputs": [
        {
          "output_type": "stream",
          "name": "stdout",
          "text": [
            "# A tibble: 6 × 20\n",
            "     ID  FIPS STATE_ID STATE  COUNTY Longitude Latitude   SOC   DEM Aspect Slope\n",
            "  <dbl> <dbl>    <dbl> <chr>  <chr>      <dbl>    <dbl> <dbl> <dbl>  <dbl> <dbl>\n",
            "1     1 56041       56 Wyomi… Uinta…     -111.     41.1  15.8 2229.   159.  5.67\n",
            "2     2 56023       56 Wyomi… Linco…     -111.     42.9  15.9 1889.   157.  8.91\n",
            "3     3 56039       56 Wyomi… Teton…     -111.     44.5  18.1 2423.   169.  4.77\n",
            "4     4 56039       56 Wyomi… Teton…     -111.     44.4  10.7 2484.   198.  7.12\n",
            "5     5 56029       56 Wyomi… Park …     -111.     44.8  10.5 2396.   201.  7.95\n",
            "6     6 56039       56 Wyomi… Teton…     -111.     44.1  17.0 2361.   209.  9.66\n",
            "# ℹ 9 more variables: TPI <dbl>, KFactor <dbl>, MAP <dbl>, MAT <dbl>,\n",
            "#   NDVI <dbl>, SiltClay <dbl>, NLCD <chr>, FRG <chr>, SOC.new <dbl>\n"
          ]
        }
      ]
    },
    {
      "cell_type": "markdown",
      "source": [
        "## **Visual Inspection of Data Distribution**\n",
        "\n",
        "Here, we'll describe how to check the normality of the data by visual inspection by:\n",
        "\n",
        "-   Histogram\n",
        "\n",
        "-   Kernel density Plots\n",
        "\n",
        "-   Quantile-Quantile Plots (qq-plot)\n",
        "\n",
        "### Histograms\n",
        "\n",
        "A histogram is a graphical representation of the distribution of numerical data. They are commonly used in statistics to show the frequency distribution of a data set for identifying patterns, outliers, and skewness in the data. Histograms are also helpful in visualizing the shape of a distribution, such as whether it is symmetric or skewed, and whether it has one or more peaks.\n",
        "\n",
        "In R, `hist()` function is used to create histograms of numerical data. It takes one or more numeric vectors as input and displays a graphical representation of the distribution of the data in the form of a histogram.\n",
        "\n",
        "\n",
        "\n",
        "\n"
      ],
      "metadata": {
        "id": "WiDcu3duVGTv"
      }
    },
    {
      "cell_type": "code",
      "source": [
        "%%R -w 400 -h 400 -u px\n",
        "hist(mf$SOC,\n",
        "     # plot title\n",
        "     main = \"Histogram of Soil SOC\",\n",
        "     # x-axis title\n",
        "     xlab= \"Soil SOC (mg/g)\",\n",
        "     # y-axis title\n",
        "     ylab= \"Frequency\")\n"
      ],
      "metadata": {
        "colab": {
          "base_uri": "https://localhost:8080/",
          "height": 417
        },
        "id": "pK9Hjeb0zLcH",
        "outputId": "9e9ebaf3-0b9f-4d26-a07a-023c3729d440"
      },
      "execution_count": null,
      "outputs": [
        {
          "output_type": "display_data",
          "data": {
            "image/png": "[encoded data removed]"
          },
          "metadata": {}
        }
      ]
    },
    {
      "cell_type": "markdown",
      "source": [
        "We can also create histograms using the **ggplot2** package, which is a powerful data visualization tool based on The Grammar of Graphics.\n",
        "\n",
        "The **ggplot2** allows you to create complex and customizable graphics using a layered approach, which involves building a plot by adding different layers of visual elements. It comes with \"tidyverse\" package."
      ],
      "metadata": {
        "id": "3mGilzmrXPO9"
      }
    },
    {
      "cell_type": "code",
      "source": [
        "%%R -w 400 -h 400 -u px\n",
        "\n",
        "ggplot(mf, aes(SOC)) +\n",
        "  geom_histogram()+\n",
        "  # X-axis title\n",
        "  xlab(\"SOC (mg/g)\") +\n",
        "  # y-axis title\n",
        "  ylab(\"Frequency\")+\n",
        "  # plot title\n",
        "  ggtitle(\"Histogram of Soil SOC\")"
      ],
      "metadata": {
        "colab": {
          "base_uri": "https://localhost:8080/",
          "height": 435
        },
        "id": "4OOhwWP40Loc",
        "outputId": "74f48836-e8ed-48e5-cf1a-62912c046c23"
      },
      "execution_count": null,
      "outputs": [
        {
          "output_type": "stream",
          "name": "stdout",
          "text": [
            "`stat_bin()` using `bins = 30`. Pick better value with `binwidth`.\n"
          ]
        },
        {
          "output_type": "display_data",
          "data": {
            "image/png": "[encoded data removed]"
          },
          "metadata": {}
        }
      ]
    },
    {
      "cell_type": "markdown",
      "source": [
        "### Kernel Density Plots\n",
        "\n",
        "A kernel density plot (or kernel density estimation plot) is a non-parametric way of visualizing the probability density function of a variable. It represents a smoothed histogram version, where the density estimate is obtained by convolving the data with a kernel function. The kernel density plot is a helpful tool for exploring data distribution, identifying outliers, and comparing distributions.\n",
        "\n",
        "In practice, kernel density estimation involves selecting a smoothing parameter (known as the bandwidth) that determines the width of the kernel function. The choice of bandwidth can significantly impact the resulting density estimate, and various methods have been developed to select the optimal bandwidth for a given dataset.\n",
        "\n",
        "To create a density plot in R, you can use the `density()` function to estimate the density of a variable, and then plot it using the `plot()` function. If you want to use **ggplot2**, you can create a density plot with the `geom_density()` function, like this:"
      ],
      "metadata": {
        "id": "nfFxl4_t0Tzc"
      }
    },
    {
      "cell_type": "code",
      "source": [
        "%%R -w 400 -h 400 -u px\n",
        "\n",
        "## r-base\n",
        "# estimate the density\n",
        "p<-density(mf$SOC)\n",
        "# plot density\n",
        "plot(p,\n",
        "    # plot title\n",
        "     main = \"Kernel Density of Soil SOC\",\n",
        "     # x-axis tittle\n",
        "     xlab= \"Soil SOC (mg/kg)\",\n",
        "     # y-axis title\n",
        "     ylab= \"Density\")\n",
        "## ggplot2\n",
        "ggplot(mf, aes(SOC)) +\n",
        "  geom_density()+\n",
        "  # x-axis title\n",
        "  xlab(\"SOC (mg/g)\") +\n",
        "  # y-axis title\n",
        "  ylab(\"Density\")+\n",
        "  # plot title\n",
        "  ggtitle(\"Kernel Density of Soil SOC\")+\n",
        "    theme(\n",
        "    # Center the plot title\n",
        "    plot.title = element_text(hjust = 0.5))"
      ],
      "metadata": {
        "colab": {
          "base_uri": "https://localhost:8080/",
          "height": 817
        },
        "id": "yvEB5Hfj0UcJ",
        "outputId": "fb444271-5891-4f40-8819-41794d9e9cb3"
      },
      "execution_count": null,
      "outputs": [
        {
          "output_type": "display_data",
          "data": {
            "image/png": "[encoded data removed]"
          },
          "metadata": {}
        },
        {
          "output_type": "display_data",
          "data": {
            "image/png": "[encoded data removed]"
          },
          "metadata": {}
        }
      ]
    },
    {
      "cell_type": "markdown",
      "source": [
        "### QQ-Plot\n",
        "\n",
        "A Q-Q plot (quantile-quantile plot) is a graphical method used to compare two probability distributions by plotting their quantiles against each other. The two distributions being compared are first sorted in ascending order to create a Q-Q plot. Then, the corresponding quantile in the other distribution is calculated for each data point in one distribution. The resulting pairs of quantiles are plotted on a scatter plot, with one distribution's quantiles on the x-axis and the other on the y-axis. If the two distributions being compared are identical, the points will fall along a straight line.\n",
        "\n",
        "**Probability distribution** is a function that describes the likelihood of obtaining different outcomes in a random event. It gives a list of all possible outcomes and their corresponding probabilities. The probabilities assigned to each outcome must add up to 1, as one of the possible outcomes will always.\n",
        "\n",
        "In R, you can create a Q-Q plot using the two functions:\n",
        "\n",
        "`qqnorm()` is a generic function the default method of which produces a normal QQ plot of the values in y.\n",
        "\n",
        "`qqline()` adds a line to a \"theoretical\", by default normal, quantile-quantile plot which passes through the probs quantiles, by default the first and third quartiles.\n",
        "\n",
        "We can create a QQ plot using the **ggplot()** and `stat_qq()` functions and then use `stat_qq_line()` function to add a line indicating the expected values under the assumption of a normal distribution."
      ],
      "metadata": {
        "id": "O1hHSzbp0dns"
      }
    },
    {
      "cell_type": "code",
      "source": [
        "%%R  -w 400 -h 400 -u px\n",
        "\n",
        "## r-base\n",
        "# draw normal QQ plot\n",
        "qqnorm(mf$SOC)\n",
        "# Add reference or theoretical line\n",
        "qqline(mf$SOC,\n",
        "      main = \"Q-Q plot of Soil SOC from a Normal Distribution\",\n",
        "     # x-axis tittle\n",
        "     xlab= \"Theoretical Quantiles\",\n",
        "     # y-axis title\n",
        "     ylab= \"Sample Quantiles\")\n",
        "\n",
        "## ggplot2\n",
        "ggplot(mf, aes(sample = SOC)) +\n",
        "  stat_qq() +\n",
        "  stat_qq_line() +\n",
        "  # x-axis title\n",
        "  xlab(\"Theoretical Quantiles)\") +\n",
        "  # y-axis title\n",
        "  ylab(\"Sample Quantiles\")+\n",
        "  # plot title\n",
        "  ggtitle(\"Q-Q plot of Soil SOC from a Normal Distribution\")+\n",
        "    theme(\n",
        "    # Center the plot title\n",
        "    plot.title = element_text(hjust = 0.5),\n",
        "    # x-axis title font size\n",
        "    axis.title.x = element_text(size = 14),\n",
        "    # y-axis title font size\n",
        "    axis.title.y = element_text(size = 14),)\n"
      ],
      "metadata": {
        "colab": {
          "base_uri": "https://localhost:8080/",
          "height": 817
        },
        "id": "Ee_erSje0ek_",
        "outputId": "4fe6a10f-dee5-41d5-f8a9-2f22d64b25be"
      },
      "execution_count": null,
      "outputs": [
        {
          "output_type": "display_data",
          "data": {
            "image/png": "[encoded data removed]"
          },
          "metadata": {}
        },
        {
          "output_type": "display_data",
          "data": {
            "image/png": "[encoded data removed]"
          },
          "metadata": {}
        }
      ]
    },
    {
      "cell_type": "markdown",
      "source": [
        "Following command will select counties starting with \"A\". filter() with **grepl()** is used to search for pattern matching."
      ],
      "metadata": {
        "id": "s9GrOCBW0kBM"
      }
    },
    {
      "cell_type": "code",
      "source": [
        "%%R\n",
        "state.a <- df.corn  |>\n",
        "          dplyr::filter(grepl(\"^A\", STATE_NAME))\n",
        "levels(as.factor(state.a $STATE_NAME))"
      ],
      "metadata": {
        "colab": {
          "base_uri": "https://localhost:8080/"
        },
        "id": "Kmoaywlx0kIq",
        "outputId": "2e282739-aac1-4120-d6f5-ace82841b2b4"
      },
      "execution_count": null,
      "outputs": [
        {
          "output_type": "stream",
          "name": "stdout",
          "text": [
            "[1] \"Alabama\"  \"Arizona\"  \"Arkansas\"\n"
          ]
        }
      ]
    },
    {
      "cell_type": "markdown",
      "source": [
        "## **Normality Test**\n",
        "\n",
        "In statistics and data analysis, normality tests are commonly used to determine whether a given data sample is derived from a normally distributed population. A normal distribution is a bell-shaped curve that represents a set of data in which the majority of the observations fall near the mean, with fewer observations at the tails of the distribution. Normality tests provide us with evidence for or against the assumption that the data is normally distributed, but they do not prove normality. Therefore, it is crucial to visually inspect the data and consider the context in which it was collected before assuming normality, even if the data passes a normality test. By doing so, we can ensure that we have a comprehensive understanding of the data and avoid any misleading conclusions.\n",
        "\n",
        "Statistical tests for normality include:\n",
        "\n",
        "**Shapiro-Wilk test**: The Shapiro-Wilk test is a commonly used test to check for normality. The test calculates a W statistic. If the p-value associated with the test is greater than a chosen significance level (usually 0.05), it suggests that the data is normally distributed.\n",
        "\n",
        "**Anderson-Darling test**: The Anderson-Darling test is another test that can be used to check for normality. The test calculates an A2 statistic, and if the p-value associated with the test is greater than a chosen significance level, it suggests that the data is normally distributed\n",
        "\n",
        "**Kolmogorov-Smirnov test**:The Kolmogorov-Smirnov (KS) test is a statistical test used to determine if two datasets have the same distribution. The test compares the empirical cumulative distribution function (ECDF) of the two datasets and calculates the maximum vertical distance between the two ECDFs. The KS test statistic is the maximum distance and the p-value is calculated based on the distribution of the test statistic."
      ],
      "metadata": {
        "id": "XugoFtb7jy5c"
      }
    },
    {
      "cell_type": "markdown",
      "source": [
        "#### Shapiro-Wilk test\n",
        "\n",
        "The `shapiro.test()` function can be used to perform the Shapiro-Wilk test for normality. The function takes a numeric vector as input and returns a list containing the test statistic and p-value."
      ],
      "metadata": {
        "id": "0BzNbAgHiajq"
      }
    },
    {
      "cell_type": "code",
      "execution_count": null,
      "metadata": {
        "id": "dKU4UEAtHTHd",
        "colab": {
          "base_uri": "https://localhost:8080/"
        },
        "outputId": "84f20212-ec9c-40df-e4ba-909a7591deee"
      },
      "outputs": [
        {
          "output_type": "stream",
          "name": "stdout",
          "text": [
            "\n",
            "\tShapiro-Wilk normality test\n",
            "\n",
            "data:  df$SOC\n",
            "W = 0.87237, p-value < 2.2e-16\n",
            "\n"
          ]
        }
      ],
      "source": [
        "%%R\n",
        "shapiro.test(mf$SOC)"
      ]
    },
    {
      "cell_type": "markdown",
      "source": [
        "Since the p-value is lower than 0.05, we can conclude that the data is not normally distributed."
      ],
      "metadata": {
        "id": "PA_POhKSj_ZT"
      }
    },
    {
      "cell_type": "markdown",
      "source": [
        "#### Anderson-Darling test\n",
        "\n",
        "The `ad.test()` function from the **nortest** package can be used to perform the Anderson-Darling test for normality. The function takes a numeric vector as input and returns a list containing the test statistic and p-value. It is important to note that the Anderson-Darling test is also sensitive to sample size, and may not be accurate for small sample sizes. Additionally, the test may not be appropriate for non-normal distributions with heavy tails or skewness. Therefore, it is recommended to use the test in conjunction with visual inspection of the data to determine if it follows a normal distribution."
      ],
      "metadata": {
        "id": "T_GGar5Xipua"
      }
    },
    {
      "cell_type": "code",
      "source": [
        "%%R\n",
        "nortest::ad.test(mf$SOC)"
      ],
      "metadata": {
        "id": "d7aVcx1wkxXf",
        "colab": {
          "base_uri": "https://localhost:8080/"
        },
        "outputId": "089b4080-f771-4da6-a072-62fdeb1d24ec"
      },
      "execution_count": null,
      "outputs": [
        {
          "output_type": "stream",
          "name": "stdout",
          "text": [
            "\n",
            "\tAnderson-Darling normality test\n",
            "\n",
            "data:  mf$SOC\n",
            "A = 16.22, p-value < 2.2e-16\n",
            "\n"
          ]
        }
      ]
    },
    {
      "cell_type": "markdown",
      "source": [
        "Since the p-value is lower than 0.05, we can conclude that the data is not normally distributed."
      ],
      "metadata": {
        "id": "ifAPPmS81l4l"
      }
    },
    {
      "cell_type": "markdown",
      "source": [
        "#### Kolmogorov-Smirnov test\n",
        "\n",
        "`The ks.test()` function can be used to perform the Kolmogorov-Smirnov test for normality. The function takes a numeric vector as input and returns a list containing the test statistic and p-value. `pnorm` specifies the cumulative distribution function to use as the reference distribution for the test."
      ],
      "metadata": {
        "id": "AsGDiH_di0tR"
      }
    },
    {
      "cell_type": "code",
      "source": [
        "%%R\n",
        "ks.test(df$SOC, \"pnorm\")"
      ],
      "metadata": {
        "id": "uBiwbThVlOE_",
        "colab": {
          "base_uri": "https://localhost:8080/"
        },
        "outputId": "45d624c0-aa58-4675-e44a-ecba10585dd7"
      },
      "execution_count": null,
      "outputs": [
        {
          "output_type": "stream",
          "name": "stdout",
          "text": [
            "\n",
            "\tAsymptotic one-sample Kolmogorov-Smirnov test\n",
            "\n",
            "data:  df$SOC\n",
            "D = 0.81199, p-value < 2.2e-16\n",
            "alternative hypothesis: two-sided\n",
            "\n"
          ]
        }
      ]
    },
    {
      "cell_type": "markdown",
      "source": [
        "The test result shows that the maximum distance between the two ECDFs is 0.82 and the p-value is very small, which means that we can reject the null hypothesis that the two samples are from the same distribution."
      ],
      "metadata": {
        "id": "qb5WLTYV1yS0"
      }
    },
    {
      "cell_type": "markdown",
      "source": [
        "### Skewness and Kurtosis\n",
        "\n",
        "**Skewness** is a measure of the asymmetry of a probability distribution. In other words, it measures how much a distribution deviates from symmetry or normal distribution. A **positive** skewness indicates that the distribution has a longer right tail, while a **negative** skewness indicates that the distribution has a longer left tail. A skewness of **zero** indicates a perfectly symmetric distribution.\n",
        "\n",
        "**Kurtosis** measures how much a distribution deviates from a normal distribution in terms of the concentration of scores around the mean. A **positive** kurtosis indicates a more peaked distribution than a normal distribution, while a **negative** kurtosis indicates a flatter distribution than a normal distribution. A kurtosis of **zero** indicates a normal distribution.\n",
        "\n",
        "we will use `skewness()` and `kurtosis()` functions from the **moments** library in R:"
      ],
      "metadata": {
        "id": "gBMXlGygjP65"
      }
    },
    {
      "cell_type": "code",
      "source": [
        "%%R\n",
        "moments::skewness(mf$SOC)"
      ],
      "metadata": {
        "colab": {
          "base_uri": "https://localhost:8080/"
        },
        "id": "RimFV-HylSYe",
        "outputId": "37762fe0-8b4e-4de3-9b78-3cd7eb9509aa"
      },
      "execution_count": null,
      "outputs": [
        {
          "output_type": "stream",
          "name": "stdout",
          "text": [
            "[1] 1.460019\n"
          ]
        }
      ]
    },
    {
      "cell_type": "markdown",
      "source": [
        "High positive value indicates that the distribution is highly skewed at right-hand sight, which means that in some sites soil are highly contaminated with SOC."
      ],
      "metadata": {
        "id": "RqWvRAAljWa-"
      }
    },
    {
      "cell_type": "code",
      "source": [
        "%%R\n",
        "moments::kurtosis(mf$SOC)"
      ],
      "metadata": {
        "colab": {
          "base_uri": "https://localhost:8080/"
        },
        "id": "hyd_xIRd16PY",
        "outputId": "728abf64-370e-4ef5-f5c6-e01610eb1913"
      },
      "execution_count": null,
      "outputs": [
        {
          "output_type": "stream",
          "name": "stdout",
          "text": [
            "[1] 5.388462\n"
          ]
        }
      ]
    },
    {
      "cell_type": "markdown",
      "source": [
        "Again, high positive kurtosis value indicates that Soil SOC is not normal distributed"
      ],
      "metadata": {
        "id": "mO7r7bfG2Fes"
      }
    },
    {
      "cell_type": "markdown",
      "source": [
        "## **Data Transformation for Normality**\n",
        "\n",
        "Data transformation is a statistical technique that involves modifying the structure of a dataset to improve its usefulness for analysis. This method involves adjusting the scale or shape of the data distribution to make it more appropriate for statistical analysis. The goal of data transformation is often to create a more normal distribution of the data, which can make it easier to apply many common statistical models and methods. By transforming data, researchers can gain a better understanding of their data and make more accurate inferences about the underlying population.\n",
        "\n",
        "Here are some common data transformations used to achieve normality:\n",
        "\n",
        "1.  **Logarithmic transformation**: If the data are skewed to the right, taking the data's logarithm can help reduce the skewness and make the distribution more normal.\n",
        "\n",
        "-   $log10(x)$ for positively skewed data,\n",
        "\n",
        "-   $log10(max(x+1) - x)$ for negatively skewed data\n",
        "\n",
        "2.  **Square root transformation**: Similar to logarithmic transformation, taking the square root of the data can help reduce the distribution's skewness.\n",
        "\n",
        "-   $sqrt(x)$ for positively skewed data,\n",
        "\n",
        "-   $sqrt(max(x+1) - x)$ for negatively skewed data\n",
        "\n",
        "3.  **Inverse transformation**: If the data are skewed to the left, taking the inverse of the data $(1/x)$ can help to reduce the skewness and make the distribution more normal.\n",
        "\n",
        "4.  **Box-Cox transformation**: The Box-Cox transformation is a method of data transformation that is used to stabilize the variance of a dataset and make it more normally distributed. The Box-Cox transformation involves applying a power transformation to the data, which is determined by a parameter λ.\n",
        "\n",
        "The Box-Cox transformation is defined by a power transformation:\n",
        "\n",
        "$$ y(\\lambda) = \\begin{cases} \\dfrac{{y^\\lambda - 1}}{\\lambda} & \\text{if } \\lambda \\neq 0 \\\\ \\ln(y) & \\text{if } \\lambda = 0 \\end{cases} $$\n",
        "\n",
        "Here, $y$ represents the original data, and $\\lambda$ is a parameter that controls the transformation. The Box-Cox transformation aims to find the value of $\\lambda$ that maximizes the normality and homoscedasticity of the transformed data.\n",
        "\n",
        "\n",
        "When choosing a data transformation method, it is important to consider the type of data, the purpose of the analysis, and the assumptions of the statistical method being used. It is also important to check the normality of the transformed data using visual inspection (histogram) and statistical tests, such as the Shapiro-Wilk test or the Anderson-Darling test."
      ],
      "metadata": {
        "id": "DB4yEHmmjpIU"
      }
    },
    {
      "cell_type": "markdown",
      "source": [
        "#### Logarithmic"
      ],
      "metadata": {
        "id": "WFkr2_1Fk3kW"
      }
    },
    {
      "cell_type": "code",
      "source": [
        "%%R -w 400 -h 400 -u px\n",
        "# Log10 transformation\n",
        "mf$log_SOC<-log10(mf$SOC)\n",
        "# Histogram\n",
        "hist(mf$log_SOC,\n",
        "          # plot title\n",
        "     main = \"Histogram of Log Soil SOC\",\n",
        "     # x-axis title\n",
        "     xlab= \"Log Soil SOC\",\n",
        "     # y-axis title\n",
        "     ylab= \"Frequency\")\n",
        "# Shapiro-Wilk test\n",
        "shapiro.test(mf$log_SOC)"
      ],
      "metadata": {
        "colab": {
          "base_uri": "https://localhost:8080/",
          "height": 527
        },
        "id": "150ABc5I2GUi",
        "outputId": "86eb2e25-89d8-4eac-d527-f18ed5faab87"
      },
      "execution_count": null,
      "outputs": [
        {
          "output_type": "stream",
          "name": "stdout",
          "text": [
            "\n",
            "\tShapiro-Wilk normality test\n",
            "\n",
            "data:  mf$log_SOC\n",
            "W = 0.98056, p-value = 6.733e-06\n",
            "\n"
          ]
        },
        {
          "output_type": "display_data",
          "data": {
            "image/png": "[encoded data removed]"
          },
          "metadata": {}
        }
      ]
    },
    {
      "cell_type": "markdown",
      "source": [
        "#### Square root\n",
        "\n"
      ],
      "metadata": {
        "id": "stIMCS_XlCQA"
      }
    },
    {
      "cell_type": "code",
      "source": [
        "%%R -w 400 -h 400 -u px\n",
        "# Square root transformation\n",
        "mf$sqrt_SOC<-sqrt(mf$SOC)\n",
        "# histogram\n",
        "hist(mf$sqrt_SOC,\n",
        "          # plot title\n",
        "     main = \"Histogram of Square root Soil SOC\",\n",
        "     # x-axis title\n",
        "     xlab= \"Sqrt. Soil SOC\",\n",
        "     # y-axis title\n",
        "     ylab= \"Frequency\")\n",
        "# Shapiro-Wilk test\n",
        "shapiro.test(mf$sqrt_SOC)"
      ],
      "metadata": {
        "colab": {
          "base_uri": "https://localhost:8080/",
          "height": 527
        },
        "id": "2wGwDwddlCZf",
        "outputId": "f90bdca7-e83e-4087-fc6f-cfa286d9cc2a"
      },
      "execution_count": null,
      "outputs": [
        {
          "output_type": "stream",
          "name": "stdout",
          "text": [
            "\n",
            "\tShapiro-Wilk normality test\n",
            "\n",
            "data:  mf$sqrt_SOC\n",
            "W = 0.97494, p-value = 3.505e-07\n",
            "\n"
          ]
        },
        {
          "output_type": "display_data",
          "data": {
            "image/png": "[encoded data removed]"
          },
          "metadata": {}
        }
      ]
    },
    {
      "cell_type": "markdown",
      "source": [
        "#### Inverse"
      ],
      "metadata": {
        "id": "L0l8fF7qlTFs"
      }
    },
    {
      "cell_type": "code",
      "source": [
        "%%R -w 400 -h 400 -u px\n",
        "# Inverse transformation\n",
        "mf$inv_SOC<-(1/mf$SOC)\n",
        "# histogram\n",
        "hist(mf$inv_SOC,\n",
        "          # plot title\n",
        "     main = \"Histogram of Inverse of Soil SOC\",\n",
        "     # x-axis title\n",
        "     xlab= \"Inverse of Soil SOC\",\n",
        "     # y-axis title\n",
        "     ylab= \"Frequency\")\n",
        "# Shapiro-Wilk test\n",
        "shapiro.test(mf$inv_SOC)"
      ],
      "metadata": {
        "id": "vhhFzC4OlTbv",
        "colab": {
          "base_uri": "https://localhost:8080/",
          "height": 527
        },
        "outputId": "df238393-79d7-411a-e04c-29974a48bdaf"
      },
      "execution_count": null,
      "outputs": [
        {
          "output_type": "stream",
          "name": "stdout",
          "text": [
            "\n",
            "\tShapiro-Wilk normality test\n",
            "\n",
            "data:  mf$inv_SOC\n",
            "W = 0.66851, p-value < 2.2e-16\n",
            "\n"
          ]
        },
        {
          "output_type": "display_data",
          "data": {
            "image/png": "[encoded data removed]"
          },
          "metadata": {}
        }
      ]
    },
    {
      "cell_type": "markdown",
      "source": [
        "#### Box-Cox\n",
        "\n",
        "First we have to calculate appropriate transformation parameters using `powerTransform()` function of **car** package and then use this parameter to transform the data using `bcPower()` function."
      ],
      "metadata": {
        "id": "Z9TTaZrolhdB"
      }
    },
    {
      "cell_type": "code",
      "source": [
        "%%R -w 400 -h 400 -u px\n",
        "# Get appropriate power - lambda\n",
        "power<-car::powerTransform(mf$SOC)\n",
        "power$lambda\n",
        "# power transformation\n",
        "mf$bc_SOC<-car::bcPower(mf$SOC, power$lambda)\n",
        "# histogram\n",
        "hist(mf$bc_SOC,\n",
        "          # plot title\n",
        "     main = \"Histogram of BoxCox Soil SOC\",\n",
        "     # x-axis title\n",
        "     xlab= \"BoxCox of Soil SOC\",\n",
        "     # y-axis title\n",
        "     ylab= \"Frequency\")\n",
        "# Shapiro-Wilk test\n",
        "shapiro.test(mf$bc_SOC)"
      ],
      "metadata": {
        "colab": {
          "base_uri": "https://localhost:8080/",
          "height": 527
        },
        "id": "ZJSyWeFmliJ_",
        "outputId": "57ffcd99-a4c9-4816-ae70-1d1e340a2351"
      },
      "execution_count": null,
      "outputs": [
        {
          "output_type": "stream",
          "name": "stdout",
          "text": [
            "\n",
            "\tShapiro-Wilk normality test\n",
            "\n",
            "data:  mf$bc_SOC\n",
            "W = 0.99393, p-value = 0.05912\n",
            "\n"
          ]
        },
        {
          "output_type": "display_data",
          "data": {
            "image/png": "[encoded data removed]"
          },
          "metadata": {}
        }
      ]
    },
    {
      "cell_type": "markdown",
      "source": [
        "## **Outliers**\n",
        "\n",
        "Outliers are data points that have values significantly different from the other data points in a dataset. They can be caused by various factors, such as measurement errors, experimental errors, or rare extreme values. Outliers can have a significant impact on the analysis of a dataset, as they can skew the results and lead to inaccurate conclusions.\n",
        "\n",
        "There are various methods for detecting outliers, such as statistical methods, visual analysis, or machine learning algorithms. However, outlier detection is not always straightforward, and different methods may identify different outliers. Therefore, it's crucial to understand the nature of the data and the context in which it was collected to choose the most appropriate method for outlier detection. Moreover, it's essential to determine whether the outliers are genuine data points or errors. In some cases, outliers may be valid and provide valuable insights into the underlying patterns or phenomena. In other cases, outliers may be artifacts of the data collection process or measurement errors and need to be removed or corrected.\n",
        "\n",
        "In summary, outlier detection is an important step in data analysis, but it requires careful consideration and judgement to ensure that the results are reliable and accurate.\n",
        "\n"
      ],
      "metadata": {
        "id": "LoHVxqxLz9UZ"
      }
    },
    {
      "cell_type": "markdown",
      "source": [
        "In this exercise we will discuss some common methods of detecting outleirs, but we will not removing them. Here are some common methods for identifying outliers:"
      ],
      "metadata": {
        "id": "WstI9scNn_mA"
      }
    },
    {
      "cell_type": "markdown",
      "source": [
        "\n",
        "### Visual inspection with Boxplot\n",
        "\n",
        "Plotting the data and visually inspecting it can often reveal outliers. Box plot, also known as a box-and-whisker plot is useful visualizations for this purpose. It is a graphical representation of a dataset that displays its median, quartiles, and any potential outliers. Here's how to read a boxplot: Boxplots help identifies a dataset's distribution, spread, and potential outliers. They are often used in exploratory data analysis to gain insights into the characteristics of the data.\n",
        "\n",
        "• The box represents the interquartile range (IQR), which is the range between the 25th and 75th percentiles of the data. The length of the box represents the range of the middle 50% of the data.\n",
        "\n",
        "• The line inside the box represents the median of the data, which is the middle value when the data is sorted.\n",
        "\n",
        "• The whiskers extend from the box and represent the range of the data outside the IQR. They can be calculated in different ways depending on the method used to draw the boxplot. Some common methods include:\n",
        "\n",
        "-   Tukey's method: The whiskers extend to the most extreme data point within 1.5 times the IQR of the box.\n",
        "\n",
        "-   Min/max whiskers: The whiskers extend to the minimum and maximum values in the data that are not considered outliers.\n",
        "\n",
        "-   5-number summary: The whiskers extend to the minimum and maximum values in the data, excluding outliers.\n",
        "\n",
        "• Outliers are data points that fall outside the whiskers of the boxplot. They are represented as individual points on the plot.\n",
        "\n",
        "![alt text](http://drive.google.com/uc?export=view&id=1Ay535nfglVqONEn_vYYWO3a4G8mky-yI)\n",
        "\n"
      ],
      "metadata": {
        "id": "7KxJNT24oDZv"
      }
    },
    {
      "cell_type": "markdown",
      "source": [
        "The base R allows you to create boxplots using the `boxplot()` function:"
      ],
      "metadata": {
        "id": "uh7W3k1d13Qv"
      }
    },
    {
      "cell_type": "code",
      "source": [
        "%%R -w 400 -h 400 -u px\n",
        "## r-base\n",
        "boxplot(mf$SOC,\n",
        "     # plot title\n",
        "     main = \"Boxplot of Soil SOC\",\n",
        "     # x-axis title\n",
        "     #xlab= \"Soil SOC (mg/kg)\",\n",
        "     # y-axis title\n",
        "     ylab= \"Soil SOC (mg/kg)\")\n"
      ],
      "metadata": {
        "colab": {
          "base_uri": "https://localhost:8080/",
          "height": 417
        },
        "id": "Mne37YSeksua",
        "outputId": "cfb9d328-bb5f-43ec-ce15-8efd45cc5aef"
      },
      "execution_count": null,
      "outputs": [
        {
          "output_type": "display_data",
          "data": {
            "image/png": "[encoded data removed]"
          },
          "metadata": {}
        }
      ]
    },
    {
      "cell_type": "markdown",
      "source": [
        "#### ggplot2 geom_boxplot()\n",
        "\n",
        "**ggplot2** also create boxplot with `ggplot()` and `geom_boxplot()` functions. You can customize the plot further by modifying labels, colors, themes, and adding more layers to the plot using ggplot2 functions and additional aesthetic mappings (`aes()`)"
      ],
      "metadata": {
        "id": "xP_1WaGK2tC0"
      }
    },
    {
      "cell_type": "code",
      "source": [
        "%%R -w 400 -h 400 -u px\n",
        "## ggplot2\n",
        "ggplot(mf, aes(SOC))+   geom_boxplot()+\n",
        "  coord_flip()+\n",
        "  # X-axis title\n",
        "  xlab(\"Soil SOC (mg/g)\") +\n",
        "  # y-axis title\n",
        "  # ylab(\"Soil SOC (mg/kg)\")+\n",
        "  # plot title\n",
        "  ggtitle(\"Boxplot of Soil SOC\") +\n",
        "    theme(\n",
        "    # center the plot title\n",
        "    plot.title = element_text(hjust = 0.5),\n",
        "    # customize axis ticks\n",
        "    axis.text.y=element_text(size=10,\n",
        "                             angle = 90,\n",
        "                             vjust = 0.5,\n",
        "                             hjust=0.5, colour='black'))"
      ],
      "metadata": {
        "colab": {
          "base_uri": "https://localhost:8080/",
          "height": 417
        },
        "id": "9SZ4EWZI2ZSn",
        "outputId": "630d9042-7032-4bb6-9321-a592c4ab4981"
      },
      "execution_count": null,
      "outputs": [
        {
          "output_type": "display_data",
          "data": {
            "image/png": "[encoded data removed]"
          },
          "metadata": {}
        }
      ]
    },
    {
      "cell_type": "markdown",
      "source": [
        "Now check how many observation considered as outlier:"
      ],
      "metadata": {
        "id": "AHdP2wLs3jWl"
      }
    },
    {
      "cell_type": "code",
      "source": [
        "%%R\n",
        "length(boxplot.stats(mf$SOC)$out)"
      ],
      "metadata": {
        "colab": {
          "base_uri": "https://localhost:8080/"
        },
        "id": "zh615aRi0Ev4",
        "outputId": "19c2724d-257e-41f0-8c95-caeb96cead18"
      },
      "execution_count": null,
      "outputs": [
        {
          "output_type": "stream",
          "name": "stdout",
          "text": [
            "[1] 20\n"
          ]
        }
      ]
    },
    {
      "cell_type": "markdown",
      "source": [
        "\n",
        "#### Box-Jitter plot\n",
        "\n",
        "A box-jitter plot is a type of data visualization that combines elements of both a boxplot and a jitter plot. It is useful for displaying both the distribution and the individual data points of a dataset.\n",
        "\n",
        "The jitter component of the plot is used to display the individual data points. Jittering refers to adding a small amount of random noise to the position of each data point along the x-axis, to prevent overlapping and to give a better sense of the density of the data.\n",
        "\n",
        "Overall, the box-jitter plot provides a useful summary of the distribution of a dataset, while also allowing viewers to see the individual data points and any potential outliers. It is particularly useful for displaying data with a large number of observations or for comparing multiple distributions side by side.\n",
        "\n",
        "We will use **ggplot** package to create Box-Jitter plots to explore variability of Soil SOC among the Landcover classes. We will create a custom color palette using `colorRampPalette()` function of **RColorBrewer** package."
      ],
      "metadata": {
        "id": "vjnpXTq4yUYs"
      }
    },
    {
      "cell_type": "code",
      "source": [
        "%%R -w 500 -h 400 -u px\n",
        "\n",
        "rgb.palette <- colorRampPalette(c(\"red\",\"yellow\",\"green\", \"blue\"),\n",
        "space = \"rgb\")\n",
        "\n",
        "# Create plot\n",
        "ggplot(mf, aes(y=SOC, x=NLCD)) +\n",
        "  geom_point(aes(colour=MAT),size = I(1.7),\n",
        "             position=position_jitter(width=0.05, height=0.05)) +\n",
        "  geom_boxplot(fill=NA, outlier.colour=NA) +\n",
        "  labs(title=\"\")+\n",
        "  # Change figure orientation\n",
        "  coord_flip()+\n",
        "  # add custom color plate and legend title\n",
        "  scale_colour_gradientn(name=\"Soil SOC (mg/g)\", colours =rgb.palette(10))+\n",
        "  theme(legend.text = element_text(size = 10),legend.title = element_text(size = 12))+\n",
        "  # add y-axis title and x-axis title leave blank\n",
        "  labs(y=\"MAT\", x = \"\")+\n",
        "  # add plot title\n",
        "  ggtitle(\"Variability of Soil SOC in relation to MAT in four NLCD\")+\n",
        "  # customize plot themes\n",
        "  theme(\n",
        "        axis.line = element_line(colour = \"black\"),\n",
        "        # plot title position at center\n",
        "        plot.title = element_text(hjust = 0.5),\n",
        "        # axis title font size\n",
        "        axis.title.x = element_text(size = 14),\n",
        "        # X and  axis font size\n",
        "        axis.text.y=element_text(size=12,vjust = 0.5, hjust=0.5, colour='black'),\n",
        "        axis.text.x = element_text(size=12))\n"
      ],
      "metadata": {
        "colab": {
          "base_uri": "https://localhost:8080/",
          "height": 417
        },
        "id": "3H1UT1afyUhi",
        "outputId": "8244d115-bbef-4139-a493-1f4c10b4068e"
      },
      "execution_count": null,
      "outputs": [
        {
          "output_type": "display_data",
          "data": {
            "image/png": "[encoded data removed]"
          },
          "metadata": {}
        }
      ]
    },
    {
      "cell_type": "markdown",
      "source": [
        "### Tukey's method\n",
        "\n",
        "Another common method for identifying outliers is Tukey's method, which is based on the concept of the IQR. Divide the data set into Quartiles:\n",
        "\n",
        "-   Q1 (the 1st quartile): 25% of the data are less than or equal to this value\n",
        "\n",
        "-   Q3 (the 3rd quartile): 25% of the data are greater than or equal to this value\n",
        "\n",
        "-   IQR (the interquartile range): the distance between Q3 -- Q1, it contains the middle 50% of the data.\n",
        "\n",
        "-   Then outliers are then defined as any values that fall outside of:\n",
        "\n",
        "> Lower Range = Q1 -- (1.5 \\* IQR)\n",
        "\n",
        "and\n",
        "\n",
        "> Upper Range = Q3 + (1.5 \\* IQR)\n",
        "\n",
        "Below [detect_outliers](https://www.linkedin.com/pulse/outlier-treatment-tukeys-method-r-swanand-marathe/) function:"
      ],
      "metadata": {
        "id": "DQMVgQZwoWkX"
      }
    },
    {
      "cell_type": "code",
      "source": [
        "%%R\n",
        "detect_outliers <- function(x)\n",
        "{\n",
        "  ## Check if data is numeric in nature\n",
        "  if(!(class(x) %in% c(\"numeric\",\"integer\")))\n",
        "  {\n",
        "    stop(\"Data provided must be of integer\\numeric type\")\n",
        "  }\n",
        "  ## Calculate lower limit\n",
        "  lower.limit <- as.numeric(quantile(x)[2] - IQR(x)*1.5)\n",
        "  ## Calculate upper limit\n",
        "  upper.limit <- as.numeric(quantile(x)[4] + IQR(x)*1.5)\n",
        "  ## Retrieve index of elements which are outliers\n",
        "  lower.index <- which(x < lower.limit)\n",
        "  upper.index <- which(x > upper.limit)\n",
        "  ## print results\n",
        "  cat(\" Lower Limit \",lower.limit ,\"\\n\", \"Upper Limit\", upper.limit ,\"\\n\",\n",
        "\"Lower range outliers  \",x[lower.index] ,\"\\n\", \"Upper range outlers\", x[upper.index])\n",
        "}"
      ],
      "metadata": {
        "id": "OuwezKCcoZZn"
      },
      "execution_count": null,
      "outputs": []
    },
    {
      "cell_type": "code",
      "source": [
        "%%R\n",
        "detect_outliers(mf$SOC)\n"
      ],
      "metadata": {
        "colab": {
          "base_uri": "https://localhost:8080/"
        },
        "id": "bAqHRPj0ofr6",
        "outputId": "2b752251-a124-4a54-dcc7-3bee28e68b3b"
      },
      "execution_count": null,
      "outputs": [
        {
          "output_type": "stream",
          "name": "stdout",
          "text": [
            " Lower Limit  -6.1465 \n",
            " Upper Limit 17.6295 \n",
            " Lower range outliers    \n",
            " Upper range outlers 18.142 24.954 21.455 21.644 19.092 21.076 30.473 18.391 20.061 21.125 18.591 19.099 17.884 21.591 18.277 27.984 18.814 23.058 23.19 18.062"
          ]
        }
      ]
    },
    {
      "cell_type": "markdown",
      "source": [
        "### Z-score method\n",
        "\n",
        "The Z-score method is another common statistical method for identifying outliers. It finds value with largest difference between it and sample mean, which can be considered as an outlier. In R, the `outliers()` function from the **outliers** package can be used to identify outliers using the Z-score method."
      ],
      "metadata": {
        "id": "l1vfNT2E3YY9"
      }
    },
    {
      "cell_type": "code",
      "source": [
        "%%R\n",
        "outlier(mf$SOC, opposite=F)"
      ],
      "metadata": {
        "id": "1e7cYHTK5LO9",
        "colab": {
          "base_uri": "https://localhost:8080/"
        },
        "outputId": "36f67c64-48bb-4e22-f7c4-872c837dba1d"
      },
      "execution_count": null,
      "outputs": [
        {
          "output_type": "stream",
          "name": "stdout",
          "text": [
            "[1] 30.473\n"
          ]
        }
      ]
    },
    {
      "cell_type": "markdown",
      "source": [
        "## **Descriptive Statistics**\n",
        "\n",
        "Descriptive statistics are a set of methods used to summarize and describe the characteristics of a dataset. Typically, they include measures of central tendency, such as mean, median, and mode; measures of dispersion, such as variance, standard deviation, and range; and measures of shape, such as skewness and kurtosis. These statistics help to understand data distribution and make meaningful inferences about it.\n",
        "\n",
        "The `summarize()` function in R is used to create summary statistics of a data frame or a grouped data frame. This function can be used to calculate a variety of summary statistics, including mean, median, minimum, maximum, standard deviation, and percentiles.\n",
        "\n",
        "The basic syntax for using the `summarize()` function is as follows:"
      ],
      "metadata": {
        "id": "EoKoa9OQMrst"
      }
    },
    {
      "cell_type": "code",
      "source": [
        "%%R\n",
        "summary(df)"
      ],
      "metadata": {
        "colab": {
          "base_uri": "https://localhost:8080/"
        },
        "id": "0VBP5CwjwNLy",
        "outputId": "cf1018be-6cb0-40a7-8acd-15e5854ee529"
      },
      "execution_count": null,
      "outputs": [
        {
          "output_type": "stream",
          "name": "stdout",
          "text": [
            "       ID             FIPS          STATE_ID       STATE          \n",
            " Min.   :  1.0   Min.   : 8001   Min.   : 8.0   Length:467        \n",
            " 1st Qu.:120.5   1st Qu.: 8109   1st Qu.: 8.0   Class :character  \n",
            " Median :238.0   Median :20193   Median :20.0   Mode  :character  \n",
            " Mean   :237.9   Mean   :29151   Mean   :29.1                     \n",
            " 3rd Qu.:356.5   3rd Qu.:56001   3rd Qu.:56.0                     \n",
            " Max.   :473.0   Max.   :56045   Max.   :56.0                     \n",
            "    COUNTY            Longitude          Latitude          SOC        \n",
            " Length:467         Min.   :-111.01   Min.   :31.51   Min.   : 0.408  \n",
            " Class :character   1st Qu.:-107.54   1st Qu.:37.19   1st Qu.: 2.769  \n",
            " Mode  :character   Median :-105.31   Median :38.75   Median : 4.971  \n",
            "                    Mean   :-104.48   Mean   :38.86   Mean   : 6.351  \n",
            "                    3rd Qu.:-102.59   3rd Qu.:41.04   3rd Qu.: 8.713  \n",
            "                    Max.   : -94.92   Max.   :44.99   Max.   :30.473  \n",
            "      DEM             Aspect           Slope              TPI            \n",
            " Min.   : 258.6   Min.   : 86.89   Min.   : 0.6493   Min.   :-26.708651  \n",
            " 1st Qu.:1175.3   1st Qu.:148.79   1st Qu.: 1.4507   1st Qu.: -0.804917  \n",
            " Median :1592.9   Median :164.04   Median : 2.7267   Median : -0.042385  \n",
            " Mean   :1632.0   Mean   :165.34   Mean   : 4.8399   Mean   :  0.009365  \n",
            " 3rd Qu.:2238.3   3rd Qu.:178.81   3rd Qu.: 7.1353   3rd Qu.:  0.862883  \n",
            " Max.   :3618.0   Max.   :255.83   Max.   :26.1042   Max.   : 16.706257  \n",
            "    KFactor            MAP              MAT               NDVI       \n",
            " Min.   :0.0500   Min.   : 193.9   Min.   :-0.5911   Min.   :0.1424  \n",
            " 1st Qu.:0.1933   1st Qu.: 354.2   1st Qu.: 5.8697   1st Qu.:0.3083  \n",
            " Median :0.2800   Median : 433.8   Median : 9.1728   Median :0.4172  \n",
            " Mean   :0.2558   Mean   : 500.9   Mean   : 8.8795   Mean   :0.4368  \n",
            " 3rd Qu.:0.3200   3rd Qu.: 590.7   3rd Qu.:12.4443   3rd Qu.:0.5566  \n",
            " Max.   :0.4300   Max.   :1128.1   Max.   :16.8743   Max.   :0.7970  \n",
            "    SiltClay          NLCD               FRG               log_SOC       \n",
            " Min.   : 9.162   Length:467         Length:467         Min.   :-0.3893  \n",
            " 1st Qu.:42.933   Class :character   Class :character   1st Qu.: 0.4424  \n",
            " Median :52.194   Mode  :character   Mode  :character   Median : 0.6964  \n",
            " Mean   :53.813                                         Mean   : 0.6599  \n",
            " 3rd Qu.:62.878                                         3rd Qu.: 0.9402  \n",
            " Max.   :89.834                                         Max.   : 1.4839  \n",
            "    sqrt_SOC         inv_SOC            bc_SOC       \n",
            " Min.   :0.6387   Min.   :0.03282   Min.   :-0.8181  \n",
            " 1st Qu.:1.6642   1st Qu.:0.11477   1st Qu.: 1.1342  \n",
            " Median :2.2296   Median :0.20117   Median : 1.9023  \n",
            " Mean   :2.3353   Mean   :0.33227   Mean   : 1.8915  \n",
            " 3rd Qu.:2.9518   3rd Qu.:0.36108   3rd Qu.: 2.7321  \n",
            " Max.   :5.5202   Max.   :2.45098   Max.   : 4.9709  \n"
          ]
        }
      ]
    },
    {
      "cell_type": "markdown",
      "source": [
        "### Summary table with **dplyr**\n",
        "In order to present a comprehensive overview of important statistics, we will be utilizing a variety of functions from different packages. Specifically, we will be using the `select()` and `summarise_all()` functions from the **dplyr** package, as well as the `pivot_longer()` function from the **tidyr** package. This will allow us to efficiently organize and summarize the data in a way that is both informative and easily digestible."
      ],
      "metadata": {
        "id": "2EA0KzSawLuT"
      }
    },
    {
      "cell_type": "code",
      "source": [
        "%%R\n",
        "summary_stat <- mf  |>\n",
        "  # First select  numerical columns\n",
        "  dplyr::select(SOC, DEM, SOC, Slope, Aspect, TPI, KFactor, MAP, MAT, NDVI, SiltClay)  |>\n",
        "  # get summary statistics\n",
        "  dplyr::summarise_all(funs(Min = round(min(.),2),\n",
        "                      Q25 = round(quantile(., 0.25),2),\n",
        "                      Median = round(median(.),2),\n",
        "                      Q75 = round(quantile(., 0.75),2),\n",
        "                      Max = round(max(.),2),\n",
        "                      Mean = round(mean(.),2),\n",
        "                      SD = round(sd(.),3)))  |>\n",
        "                # create a nice looking table\n",
        "                tidyr::pivot_longer(everything(),\n",
        "                            names_sep = \"_\",\n",
        "                            names_to = c( \"variable\", \".value\"))"
      ],
      "metadata": {
        "id": "vnn-swQdwdF0"
      },
      "execution_count": null,
      "outputs": []
    },
    {
      "cell_type": "code",
      "source": [
        "%%R\n",
        "print(summary_stat)"
      ],
      "metadata": {
        "colab": {
          "base_uri": "https://localhost:8080/"
        },
        "id": "C0a5ET4_wqR1",
        "outputId": "357bd177-4098-4ab1-9147-79dfff2f8874"
      },
      "execution_count": null,
      "outputs": [
        {
          "output_type": "stream",
          "name": "stdout",
          "text": [
            "# A tibble: 10 × 8\n",
            "   variable    Min     Q25  Median     Q75     Max    Mean      SD\n",
            "   <chr>     <dbl>   <dbl>   <dbl>   <dbl>   <dbl>   <dbl>   <dbl>\n",
            " 1 SOC        0.41    2.77    4.97    8.71   30.5     6.35   5.04 \n",
            " 2 DEM      259.   1175.   1593.   2238.   3618.   1632.   770.   \n",
            " 3 Slope      0.65    1.45    2.73    7.14   26.1     4.84   4.70 \n",
            " 4 Aspect    86.9   149.    164.    179.    256.    165.    24.4  \n",
            " 5 TPI      -26.7    -0.8    -0.04    0.86   16.7     0.01   3.58 \n",
            " 6 KFactor    0.05    0.19    0.28    0.32    0.43    0.26   0.086\n",
            " 7 MAP      194.    354.    434.    591.   1128.    501.   207.   \n",
            " 8 MAT       -0.59    5.87    9.17   12.4    16.9     8.88   4.10 \n",
            " 9 NDVI       0.14    0.31    0.42    0.56    0.8     0.44   0.162\n",
            "10 SiltClay   9.16   42.9    52.2    62.9    89.8    53.8   17.2  \n"
          ]
        }
      ]
    },
    {
      "cell_type": "markdown",
      "source": [
        "### Summary table with **gtsummary**\n",
        "\n",
        "The **gtsummary** package is a powerful tool that enables effortless creation of analytical and summary tables using the **R** programming language. It boasts a high degree of flexibility and elegance, making it a popular choice among data analysts and researchers alike. The package provides an array of sensible defaults for summarizing a variety of data sets, regression models, and statistical analyses, which can be easily customized to suit specific needs. With its intuitive syntax and comprehensive documentation, **gtsummary** is a user-friendly option for generating publication-ready tables in a wide range of research fields.\n",
        "\n",
        "\n",
        "![alt text](http://drive.google.com/uc?export=view&id=1B8NOZ0vBpGgi26hws51aSBxgjbpbuttC)"
      ],
      "metadata": {
        "id": "RzQ40Q3twXJp"
      }
    },
    {
      "cell_type": "markdown",
      "source": [
        "For creating a summary table using the `tbl_summary()` of **gtsummary** function use data as input and returns a summary table."
      ],
      "metadata": {
        "id": "0ai9yoOWwBCu"
      }
    },
    {
      "cell_type": "code",
      "source": [
        "%%R\n",
        "mf  |>\n",
        "  dplyr::select(NLCD, SOC, DEM, MAP, MAT, NDVI ) |>\n",
        "  gtsummary::tbl_summary()"
      ],
      "metadata": {
        "id": "eSkFVQTwxAbT",
        "colab": {
          "base_uri": "https://localhost:8080/"
        },
        "outputId": "f1748d9f-de27-4c4b-927a-f9fac414abc2"
      },
      "execution_count": null,
      "outputs": [
        {
          "output_type": "stream",
          "name": "stdout",
          "text": [
            "`...` must be empty.\n",
            "✖ Problematic argument:\n",
            "• useS4 = FALSE\n"
          ]
        }
      ]
    },
    {
      "cell_type": "markdown",
      "source": [
        "There are several ways you can customize the output table. Here below some example:"
      ],
      "metadata": {
        "id": "8ogXnwZzxIjL"
      }
    },
    {
      "cell_type": "code",
      "source": [
        "%%R\n",
        "mf  |>  dplyr::select(NLCD, NLCD, SOC, DEM, MAP, MAT, NDVI)  |>\n",
        "  gtsummary::tbl_summary(by = NLCD,\n",
        "                          statistic = list(\n",
        "                          all_continuous() ~ \"{mean} ({sd})\",\n",
        "                          all_categorical() ~ \"{n} / {N} ({p}%)\"\n",
        "                          ),\n",
        "                          missing_text = \"Missing-values\")  |>\n",
        "                          add_p()"
      ],
      "metadata": {
        "id": "llZ-Z8e9xJNP",
        "colab": {
          "base_uri": "https://localhost:8080/"
        },
        "outputId": "9a8857ff-bd23-46bd-cd01-1b1c2385a6cc"
      },
      "execution_count": null,
      "outputs": [
        {
          "output_type": "stream",
          "name": "stdout",
          "text": [
            "`...` must be empty.\n",
            "✖ Problematic argument:\n",
            "• useS4 = FALSE\n"
          ]
        }
      ]
    },
    {
      "cell_type": "markdown",
      "source": [
        "### Summary table with **rstatix**\n",
        "You can use the `get_summary_stats()` function from **rstatix** to return summary statistics in a data frame format. This can be helpful for performing subsequent operations or plotting on the numbers. See the Simple statistical tests page for more details on the rstatix package and its functions."
      ],
      "metadata": {
        "id": "_otDZnXnv4gN"
      }
    },
    {
      "cell_type": "code",
      "source": [
        "%%R\n",
        "mf  |>\n",
        "  dplyr::select(NLCD, NLCD, SOC, DEM, MAP, MAT, NDVI)  |>\n",
        "  get_summary_stats (type = \"common\")"
      ],
      "metadata": {
        "colab": {
          "base_uri": "https://localhost:8080/"
        },
        "id": "5GgiqitYxY5_",
        "outputId": "70bdc8a3-b99e-400b-c541-9b55e61b8c7a"
      },
      "execution_count": null,
      "outputs": [
        {
          "output_type": "stream",
          "name": "stdout",
          "text": [
            "# A tibble: 5 × 10\n",
            "  variable     n     min      max   median     iqr    mean      sd     se     ci\n",
            "  <fct>    <dbl>   <dbl>    <dbl>    <dbl>   <dbl>   <dbl>   <dbl>  <dbl>  <dbl>\n",
            "1 SOC        467   0.408   30.5      4.97  5.94e+0 6.35e+0   5.04   0.233  0.459\n",
            "2 DEM        467 259.    3618.    1593.    1.06e+3 1.63e+3 770.    35.6   70.0  \n",
            "3 MAP        467 194.    1128.     434.    2.37e+2 5.01e+2 207.     9.58  18.8  \n",
            "4 MAT        467  -0.591   16.9      9.17  6.58e+0 8.88e+0   4.10   0.19   0.373\n",
            "5 NDVI       467   0.142    0.797    0.417 2.48e-1 4.37e-1   0.162  0.007  0.015\n"
          ]
        }
      ]
    },
    {
      "cell_type": "markdown",
      "source": [
        "### Summary statistics by group with **plyr**\n",
        "\n",
        "Before creating bar plots, we are going to calculate summary statistics of soil SOC grouped by Landcover. We will us `ddply()` function from **plyr** package.\n",
        "\n"
      ],
      "metadata": {
        "id": "o8NvPid8zZvr"
      }
    },
    {
      "cell_type": "code",
      "source": [
        "%%R\n",
        "# Standard error\n",
        "SE <- function(x){\n",
        "  sd(x)/sqrt(length(x))\n",
        "}\n",
        "# Get summary statistics\n",
        "summarise_soc<-plyr::ddply(mf,~NLCD, summarise,\n",
        "                Mean= round(mean(SOC), 3),\n",
        "                Median=round (median(SOC), 3),\n",
        "                Min= round (min(SOC),3),\n",
        "                Max= round (max(SOC),3),\n",
        "                SD= round(sd(SOC), 3),\n",
        "                SE= round (SE(SOC), 3))\n",
        "print(summarise_soc)"
      ],
      "metadata": {
        "colab": {
          "base_uri": "https://localhost:8080/"
        },
        "id": "PbU7q850zpuO",
        "outputId": "38693047-3a5a-42a7-d7cc-6bbb306e578a"
      },
      "execution_count": null,
      "outputs": [
        {
          "output_type": "stream",
          "name": "stdout",
          "text": [
            "                NLCD   Mean Median   Min    Max    SD    SE\n",
            "1             Forest 10.431  8.974 1.333 30.473 6.802 0.705\n",
            "2         Herbaceous  5.477  4.609 0.408 18.814 3.925 0.320\n",
            "3 Planted/Cultivated  6.697  6.230 0.462 16.336 3.598 0.365\n",
            "4          Shrubland  4.131  2.996 0.446 19.099 3.745 0.332\n"
          ]
        }
      ]
    },
    {
      "cell_type": "code",
      "source": [
        "%%R  -w 500 -h 400 -u px\n",
        "# bar plot\n",
        "ggplot(summarise_soc, aes(x=NLCD, y=Mean)) +\n",
        "  geom_bar(stat=\"identity\", position=position_dodge(),width=0.5, fill=\"gray\") +\n",
        "  geom_errorbar(aes(ymin=Mean-SE, ymax=Mean+SE), width=.2,\n",
        "   position=position_dodge(.9))+\n",
        "  # add y-axis title and x-axis title leave blank\n",
        "  labs(y=\"Soil SOC (mg/g)\", x = \"\")+\n",
        "  # add plot title\n",
        "  ggtitle(\"Mean ± SE of Soil SOC\")+\n",
        "  coord_flip()+\n",
        "  # customize plot themes\n",
        "  theme(\n",
        "        axis.line = element_line(colour = \"gray\"),\n",
        "        # plot title position at center\n",
        "        plot.title = element_text(hjust = 0.5),\n",
        "        # axis title font size\n",
        "        axis.title.x = element_text(size = 14),\n",
        "        # X and  axis font size\n",
        "        axis.text.y=element_text(size=12,vjust = 0.5, hjust=0.5, colour='black'),\n",
        "        axis.text.x = element_text(size=12))"
      ],
      "metadata": {
        "colab": {
          "base_uri": "https://localhost:8080/",
          "height": 417
        },
        "id": "Ik6px9kmz_7D",
        "outputId": "80d9828b-8a95-498d-ac80-c23dbf9aabef"
      },
      "execution_count": null,
      "outputs": [
        {
          "output_type": "display_data",
          "data": {
            "image/png": "[encoded data removed]"
          },
          "metadata": {}
        }
      ]
    },
    {
      "cell_type": "markdown",
      "source": [
        "## **T-test**\n",
        "\n",
        "A `t-test` is a statistical hypothesis test that is used to determine if there is a significant difference between the means of two groups or samples. It is a commonly used parametric test assuming the data follows a normal distribution.\n",
        "\n",
        "\n"
      ],
      "metadata": {
        "id": "UfxdUFAy9huA"
      }
    },
    {
      "cell_type": "markdown",
      "source": [
        "### One-sample t-test\n",
        "\n",
        "The one-samples t-test is used to determine if a sample mean is significantly different from a known population mean.\n",
        "\n",
        "$$ t = \\frac{\\bar{X} - \\mu_0}{\\frac{s}{\\sqrt{n}}} $$\n",
        "\n",
        "-   $t$ is the t-statistic.\n",
        "-   $\\bar{X}$ is the sample mean.\n",
        "-   $\\mu_0$ is the hypothesized population mean.\n",
        "-   $s$ is the sample standard deviation.\n",
        "-   $n$ is the number of observations in the sample.\n",
        "\n",
        "The `t.test()` fuction below is used to determine if a sample mean is significantly different from a known population mean."
      ],
      "metadata": {
        "id": "UJtGdaOqC2uJ"
      }
    },
    {
      "cell_type": "code",
      "source": [
        "%%R\n",
        "set.seed(42)  # Setting seed for reproducibility\n",
        "# sample\n",
        "sample_data <- sample(as_df$GAs, 50)\n",
        "sample_mean<-mean(sample)\n",
        "sample_mean\n",
        "# population\n",
        "population_mean<-mean(as_df$GAs)\n",
        "population_mean\n",
        "# One-sample t-test (testing if the sample_mean is significantly different population_mean)\n",
        "t_test_result <- t.test(sample_data, mu = population_mean)\n",
        "print(t_test_result)"
      ],
      "metadata": {
        "colab": {
          "base_uri": "https://localhost:8080/"
        },
        "id": "fvYGwKtB9nY-",
        "outputId": "2cdacc44-14e8-45c4-8fc9-96a9d4a6bb84"
      },
      "execution_count": null,
      "outputs": [
        {
          "output_type": "stream",
          "name": "stdout",
          "text": [
            "\n",
            "\tOne Sample t-test\n",
            "\n",
            "data:  sample_data\n",
            "t = -0.033051, df = 49, p-value = 0.9738\n",
            "alternative hypothesis: true mean is not equal to 1.36003\n",
            "95 percent confidence interval:\n",
            " 1.214169 1.501171\n",
            "sample estimates:\n",
            "mean of x \n",
            "  1.35767 \n",
            "\n"
          ]
        }
      ]
    },
    {
      "cell_type": "markdown",
      "source": [
        "In this example, a one-sample `t-test` has performed  to determine if the mean of the sample is significantly different from true mean. The `t.test()` function computes the test statistic, the `p-value`, and provides information to decide whether to reject the null hypothesis.Since the `p-value` is greater than the level of significance (α) = 0.05, we may to accept the null hypothesis and means sample and population are not significantly different."
      ],
      "metadata": {
        "id": "LU40MwTF-XTY"
      }
    },
    {
      "cell_type": "markdown",
      "source": [
        "### **Two-sample t-test**\n",
        "\n",
        "A two-sample `t-test` is a statistical test used to determine if two sets of data are significantly different from each other. It is typically used when comparing the means of two groups of data to determine if they come from populations with different means. The two-sample `t-test` is based on the assumption that the two populations are normally distributed and have equal variances. The test compares the means of the two samples and calculates a t-value based on the difference between the means and the standard error of the means.\n",
        "\n",
        "$$ t = \\frac{\\bar{X}_1 - \\bar{X}_2}{\\sqrt{\\frac{s_1^2}{n_1} + \\frac{s_2^2}{n_2}}} $$\n",
        "\n",
        "-   $t$ is the t-statistic.\n",
        "-   $\\bar{X}_1$ and $\\bar{X}_2$ are the means of the two independent samples.\n",
        "-   $s_1$ and $s_2$ are the standard deviations of the two independent samples.\n",
        "-   $n_1$ and $n_2$ are the sizes of the two independent samples.\n",
        "\n",
        "\n",
        "\n",
        "\n",
        "The null hypothesis of the test is that the means of the two populations are equal, while the alternative hypothesis is that the means are not equal. If the calculated t-value is large enough and the associated `p-value` is below a chosen significance level (e.g. 0.05), then the null hypothesis is rejected in favor of the alternative hypothesis, indicating that there is a significant difference between the means of the two populations.\n",
        "\n",
        "There are several variations of the two-sample `t-test`, including the independent samples t-test and the paired samples `t-test`, which are used in different situations depending on the nature of the data being compared.\n",
        "\n",
        "In this example, a two-sample `t-test` will performed to determine if the mean  rice yield in low and high arsenic soil is significantly different.\n"
      ],
      "metadata": {
        "id": "6d4wGpBO-YWH"
      }
    },
    {
      "cell_type": "code",
      "source": [
        "%%R\n",
        "# Create two dataframes\n",
        "Low <- as_df |>\n",
        "        dplyr::select(TREAT_ID, GY)  |>\n",
        "        filter(TREAT_ID == 1)\n",
        "\n",
        "High <- as_df |>\n",
        "        dplyr::select(TREAT_ID, GY) |>\n",
        "        filter(TREAT_ID == 2)\n",
        "\n",
        "# Two-Sample T-test\n",
        "t.test(x=Low$GY,\n",
        "       y=High$GY,\n",
        "       paired = TRUE,\n",
        "       alternative = \"greater\")"
      ],
      "metadata": {
        "colab": {
          "base_uri": "https://localhost:8080/"
        },
        "id": "KE--8jlV-hZG",
        "outputId": "795aff0c-c5bc-4b86-c581-914403228fb6"
      },
      "execution_count": null,
      "outputs": [
        {
          "output_type": "stream",
          "name": "stdout",
          "text": [
            "\n",
            "\tPaired t-test\n",
            "\n",
            "data:  Low$GY and High$GY\n",
            "t = 12.472, df = 69, p-value < 2.2e-16\n",
            "alternative hypothesis: true mean difference is greater than 0\n",
            "95 percent confidence interval:\n",
            " 16.96835      Inf\n",
            "sample estimates:\n",
            "mean difference \n",
            "        19.5866 \n",
            "\n"
          ]
        }
      ]
    },
    {
      "cell_type": "markdown",
      "source": [
        "Since the `p-value` is lower than the level of `significance (α) = 0.05`, we may to reject the null hypothesis and means yields in Low and high arsenic soil are not equal."
      ],
      "metadata": {
        "id": "9Basrtca-lyO"
      }
    },
    {
      "cell_type": "markdown",
      "source": [
        "## Summary\n",
        "\n",
        "The present tutorial offers a comprehensive guide to data exploration and visualization using R, providing invaluable insights into the techniques and tools that facilitate a deeper understanding of datasets. It highlights the significance of exploratory data analysis (EDA) and subsequently explores various R packages for creating impactful visualizations.\n",
        "\n",
        "The tutorial covers fundamental exploratory data analysis techniques, including summary statistics, distribution visualizations, and correlation analysis. It delves into R's built-in functions and packages like ggplot2 for generating a wide array of visualizations, emphasizing their flexibility and customization options.\n",
        "\n",
        "Visualization plays a pivotal role in the tutorial, showcasing how plots and charts can reveal patterns, trends, and outliers in data. From scatter plots and histograms to boxplots and heatmaps, the expressive power of R is leveraged to create visuals that enhance the comprehension of complex datasets.\n",
        "\n",
        "Furthermore, the tutorial stresses the importance of effective communication through visual storytelling. It discusses principles of good visualization design, ensuring that graphics convey insights and do so clearly and compellingly.\n",
        "\n",
        "It is essential to note that data exploration and visualization are iterative processes that can lead to new hypotheses and guide subsequent analyses. To this end, practitioners should practice with diverse datasets, experiment with different plot types, and adapt visualization techniques to the unique characteristics of their data. Armed with the skills acquired in this tutorial, practitioners are optimally prepared to embark on exploratory data analysis journeys and visually communicate the narratives within their datasets.\n"
      ],
      "metadata": {
        "id": "c71LJpbPZFQI"
      }
    },
    {
      "cell_type": "markdown",
      "metadata": {
        "id": "0Ovc25MJTsD8"
      },
      "source": [
        "## References\n",
        "\n",
        "1.  [Exploratory Data Analysis](https://r4ds.had.co.nz/exploratory-data-analysis.html)\n",
        "\n",
        "2.  [Data Visualization with R](https://rkabacoff.github.io/datavis/)\n",
        "\n",
        "3.  [The Complete ggplot2 Tutorial](http://r-statistics.co/Complete-Ggplot2-Tutorial-Part1-With-R-Code.html)\n",
        "\n",
        "4.  [Tutorial: tbl_summary](https://www.danieldsjoberg.com/gtsummary/articles/tbl_summary.html)"
      ]
    }
  ],
  "metadata": {
    "colab": {
      "provenance": [],
      "toc_visible": true,
      "authorship_tag": "ABX9TyPSrDuhy1B8JYN4m0cLbMFh",
      "include_colab_link": true
    },
    "kernelspec": {
      "display_name": "Python 3",
      "name": "python3"
    },
    "language_info": {
      "name": "python"
    }
  },
  "nbformat": 4,
  "nbformat_minor": 0
}