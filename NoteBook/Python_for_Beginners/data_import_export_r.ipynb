{
  "cells": [
    {
      "cell_type": "markdown",
      "metadata": {
        "id": "view-in-github",
        "colab_type": "text"
      },
      "source": [
        "<a href=\"https://colab.research.google.com/github/zia207/r-colab/blob/main/NoteBook/R%20for%20Beginners/data_import_export_r.ipynb\" target=\"_parent\"><img src=\"https://colab.research.google.com/assets/colab-badge.svg\" alt=\"Open In Colab\"/></a>"
      ]
    },
    {
      "cell_type": "markdown",
      "source": [
        "![alt text](http://drive.google.com/uc?export=view&id=1bLQ3nhDbZrCCqy_WCxxckOne2lgVvn3l)"
      ],
      "metadata": {
        "id": "aV9V_1d_rKQu"
      }
    },
    {
      "cell_type": "markdown",
      "metadata": {
        "id": "MGoP0AbXEAUx"
      },
      "source": [
        "# **Data Import/Export to/from R**\n",
        "\n"
      ]
    },
    {
      "cell_type": "markdown",
      "source": [
        "## Introduction"
      ],
      "metadata": {
        "id": "c_RUvRQprKcj"
      }
    },
    {
      "cell_type": "markdown",
      "metadata": {
        "id": "kroLnhoOPPoV"
      },
      "source": [
        "One of the most important steps in data analysis is importing data into R and exporting from R. This process can be done using various functions depending on the format of the data, such as CSV, Excel, or SQL. In this context, it is essential to learn some of the most common ways to read and write data with R. By importing data into R, users can perform a wide range of data analysis, from simple data visualization to complex machine learning algorithms. Therefore, mastering data importation and exporting is a fundamental skill for any data scientist or analyst.\n"
      ]
    },
    {
      "cell_type": "markdown",
      "metadata": {
        "id": "CdQJ-mgsEU9J"
      },
      "source": [
        "## Install rpy2\n",
        "\n",
        "Easy way to run R in Colab with Python runtime using **rpy2** python package. We have to install this package using the `pip` command:"
      ]
    },
    {
      "cell_type": "code",
      "execution_count": 1,
      "metadata": {
        "id": "qOD7NpajDy5k",
        "colab": {
          "base_uri": "https://localhost:8080/"
        },
        "outputId": "3c191f90-d889-415f-d8f2-d11644914200"
      },
      "outputs": [
        {
          "output_type": "stream",
          "name": "stdout",
          "text": [
            "Found existing installation: rpy2 3.4.2\n",
            "Uninstalling rpy2-3.4.2:\n",
            "  Successfully uninstalled rpy2-3.4.2\n",
            "Collecting rpy2==3.5.1\n",
            "  Downloading rpy2-3.5.1.tar.gz (201 kB)\n",
            "\u001b[2K     \u001b[90m━━━━━━━━━━━━━━━━━━━━━━━━━━━━━━━━━━━━━━━━\u001b[0m \u001b[32m201.7/201.7 kB\u001b[0m \u001b[31m5.2 MB/s\u001b[0m eta \u001b[36m0:00:00\u001b[0m\n",
            "\u001b[?25h  Preparing metadata (setup.py) ... \u001b[?25l\u001b[?25hdone\n",
            "Requirement already satisfied: cffi>=1.10.0 in /usr/local/lib/python3.10/dist-packages (from rpy2==3.5.1) (1.16.0)\n",
            "Requirement already satisfied: jinja2 in /usr/local/lib/python3.10/dist-packages (from rpy2==3.5.1) (3.1.3)\n",
            "Requirement already satisfied: pytz in /usr/local/lib/python3.10/dist-packages (from rpy2==3.5.1) (2023.4)\n",
            "Requirement already satisfied: tzlocal in /usr/local/lib/python3.10/dist-packages (from rpy2==3.5.1) (5.2)\n",
            "Requirement already satisfied: pycparser in /usr/local/lib/python3.10/dist-packages (from cffi>=1.10.0->rpy2==3.5.1) (2.21)\n",
            "Requirement already satisfied: MarkupSafe>=2.0 in /usr/local/lib/python3.10/dist-packages (from jinja2->rpy2==3.5.1) (2.1.5)\n",
            "Building wheels for collected packages: rpy2\n",
            "  Building wheel for rpy2 (setup.py) ... \u001b[?25l\u001b[?25hdone\n",
            "  Created wheel for rpy2: filename=rpy2-3.5.1-cp310-cp310-linux_x86_64.whl size=314930 sha256=b6171a5d76232e8bee82a227f677b67891690204ed558ef342b8e8cd374c864d\n",
            "  Stored in directory: /root/.cache/pip/wheels/73/a6/ff/4e75dd1ce1cfa2b9a670cbccf6a1e41c553199e9b25f05d953\n",
            "Successfully built rpy2\n",
            "Installing collected packages: rpy2\n",
            "Successfully installed rpy2-3.5.1\n"
          ]
        }
      ],
      "source": [
        "!pip uninstall rpy2 -y\n",
        "! pip install rpy2==3.5.1\n",
        "%load_ext rpy2.ipython"
      ]
    },
    {
      "cell_type": "markdown",
      "metadata": {
        "id": "qmEDD0ccEurf"
      },
      "source": [
        "##  Mount Google Drive\n",
        "\n",
        "Then you must create a folder in Goole drive named \"R\" to install all packages permanently. Before installing R-package in Python runtime. You have to mount Google Drive and follow on-screen instruction:"
      ]
    },
    {
      "cell_type": "code",
      "execution_count": 2,
      "metadata": {
        "id": "lClKZUW1Eu_G",
        "colab": {
          "base_uri": "https://localhost:8080/"
        },
        "outputId": "b13b3a60-8156-4b4a-9aab-ddd1c8bc4ea3"
      },
      "outputs": [
        {
          "output_type": "stream",
          "name": "stdout",
          "text": [
            "Mounted at /content/drive\n"
          ]
        }
      ],
      "source": [
        "from google.colab import drive\n",
        "drive.mount('/content/drive')"
      ]
    },
    {
      "cell_type": "markdown",
      "metadata": {
        "id": "oTvvrCXfF5AC"
      },
      "source": [
        "In this exercise, we will use the following R-packages:\n",
        "\n",
        "1.  [readxl](https://readxl.tidyverse.org/): to read MS **Excel** file.  usually comes with [tidyverse](https://www.tidyverse.org/)\n",
        "2.  [rjson](https://github.com/alexcb/rjson): to read **.json** file\n",
        "3.  [foreign](https://cran.r-project.org/web/packages/foreign/index.html): to read data stored by **Minitab**, **S**, **SAS**, **SPSS**, **Stata**, **Systat**, **dBase**, and so forth.\n",
        "4.  [haven](https://haven.tidyverse.org/): read and write data from different statistical packages. It usually comes with [tidyverse](https://www.tidyverse.org/)\n",
        "5. [writexl](https://cran.r-project.org/web/packages/writexl/writexl.pdf): to write MS **Excel** file."
      ]
    },
    {
      "cell_type": "code",
      "source": [
        "%%R\n",
        "pkg <- c('readxl','rjson', 'foreign', 'haven', 'writexl')\n",
        "new.packages <- pkg[!(pkg %in% installed.packages(lib='drive/My Drive/R/')[,\"Package\"])]\n",
        "if(length(new.packages)) install.packages(new.packages, lib='drive/My Drive/R/')"
      ],
      "metadata": {
        "id": "Nan0amGMyBv5"
      },
      "execution_count": null,
      "outputs": []
    },
    {
      "cell_type": "markdown",
      "source": [
        "## Laod Libaray"
      ],
      "metadata": {
        "id": "1ldcblnJYfks"
      }
    },
    {
      "cell_type": "code",
      "source": [
        "%%R\n",
        "# set library path\n",
        ".libPaths('drive/My Drive/R')\n",
        "library(readxl)\n",
        "library(writexl)\n",
        "library(rjson)\n",
        "library(foreign)\n",
        "library(haven)"
      ],
      "metadata": {
        "id": "nCnpYUs9YftD"
      },
      "execution_count": 28,
      "outputs": []
    },
    {
      "cell_type": "markdown",
      "source": [
        "## Data\n",
        "\n",
        "\n",
        "All data set use in this exercise can be downloaded from my [Dropbox](https://www.dropbox.com/scl/fo/fohioij7h503duitpl040/h?rlkey=3voumajiklwhgqw75fe8kby3o&dl=0) or from my [Github](https://github.com/zia207/r-colab/tree/main/Data/R_Beginners) accounts.\n",
        "\n",
        "It would be best if you created a working directory in R to read and write files locally. The following example shows how to create the working directory in R.\n",
        "\n",
        "Before creating a working directory, you may check the directory of your current R session; the function `getwd()` will print the current working directory path as a string.\n",
        "\n",
        "If you want to change the working directory in R you just need to call the `setwd()` function, specifying as argument the path of the new working directory folder.\n",
        "\n",
        "> setwd(\"F:\\\\R-Project\")\n",
        "\n",
        "> setwd(\"F:/R-Project\")\n",
        "\n",
        "Remember that you must use the forward slash `/` or double backslash `\\\\` in R! The Windows format of single backslash will not work.\n",
        "\n",
        "The files under in a directory can check using `dir()` function:\n",
        "\n",
        "> dir()"
      ],
      "metadata": {
        "id": "pcn48RSJ2Xnk"
      }
    },
    {
      "cell_type": "code",
      "source": [
        "%%R\n",
        "dataFolder<-\"/content/drive/MyDrive/R_Website/R_Bigenner/Data/\""
      ],
      "metadata": {
        "id": "VpTbJdiK5kOb"
      },
      "execution_count": 16,
      "outputs": []
    },
    {
      "cell_type": "markdown",
      "source": [
        "## Data Import to R"
      ],
      "metadata": {
        "id": "Z0vfmFRf4WmG"
      }
    },
    {
      "cell_type": "markdown",
      "metadata": {
        "id": "mOk85Ol6GQfH"
      },
      "source": [
        "### Importing data using R-Studio IDE\n",
        "\n",
        "Importing data into R becomes time-intensive. The easiest way to import data into R is by using RStudio IDE. This feature can be accessed from the **Environment pane** or from the **tools menu**. The importers are grouped into three categories: Text data, Excel data, and statistical data. The details can be found [here](https://support.posit.co/hc/en-us/articles/218611977-Importing-Data-with-the-RStudio-IDE).\n"
      ]
    },
    {
      "cell_type": "markdown",
      "source": [
        "To access this feature, use the \"Import Dataset\" dropdown from the \"Environment\" pane:\n",
        "\n"
      ],
      "metadata": {
        "id": "bq9U2wHv7ZRr"
      }
    },
    {
      "cell_type": "markdown",
      "source": [
        "![alt text](http://drive.google.com/uc?export=view&id=1nRZoZ5qU-jzpC3n0FAk63VVqQHCFVDaH)\n",
        "\n",
        "\n",
        "\n",
        "\n"
      ],
      "metadata": {
        "id": "44DCrUHI8bkX"
      }
    },
    {
      "cell_type": "markdown",
      "source": [
        "Or through the \"File\" menu, followed by the \"Import Dataset\" submenu:\n",
        "\n"
      ],
      "metadata": {
        "id": "azTkcZ1c8b34"
      }
    },
    {
      "cell_type": "markdown",
      "source": [
        "![alt text](http://drive.google.com/uc?export=view&id=1nKfmrVXro6rSlCizhJXF_rS6ZFIldNUn)\n",
        "\n"
      ],
      "metadata": {
        "id": "NJsri85Rx7Mp"
      }
    },
    {
      "cell_type": "markdown",
      "metadata": {
        "id": "IrmMavWXGoM_"
      },
      "source": [
        "### Read Text File (.txt)\n",
        "\n",
        "The easiest form of data to import into R is a simple text file. The primary function to import from a text file is `read.table()`.\n",
        "\n",
        "> read.table(file, header = FALSE, sep = \"\", quote =\"\"'\",.....)"
      ]
    },
    {
      "cell_type": "code",
      "execution_count": 15,
      "metadata": {
        "colab": {
          "base_uri": "https://localhost:8080/"
        },
        "id": "gXfSYaGPGpbl",
        "outputId": "213ea8db-d875-43d0-a4f9-6eaf6b252403"
      },
      "outputs": [
        {
          "output_type": "stream",
          "name": "stdout",
          "text": [
            "   ID treat  var rep    PH   TN   PN   GW ster   DTM   SW   GAs  STAs\n",
            "1 Low    As BR01   1  84.0 28.3 27.7 35.7 20.5 126.0 28.4 0.762 14.60\n",
            "2 Low    As BR01   2 111.7 34.0 30.0 58.1 14.8 119.0 36.7 0.722 10.77\n",
            "3 Low    As BR01   3 102.3 27.7 24.0 44.6  5.8 119.7 32.9 0.858 12.69\n",
            "4 Low    As BR06   1 118.0 23.3 19.7 46.4 20.3 119.0 40.0 1.053 18.23\n",
            "5 Low    As BR06   2 115.3 16.7 12.3 19.9 32.3 120.0 28.2 1.130 13.72\n",
            "6 Low    As BR06   3 111.0 19.0 15.3 35.9 14.9 116.3 42.3 1.011 15.97\n"
          ]
        }
      ],
      "source": [
        "%%R\n",
        "# read .txt file\n",
        "df.txt<-read.table(paste0(dataFolder,\"test_data.txt\"), header= TRUE)\n",
        "#df.txt<-read.table(\"/content/drive/MyDrive/R_Website/R_Bigenner/Data/test_data.txt\", header= TRUE)\n",
        "head(df.txt)"
      ]
    },
    {
      "cell_type": "markdown",
      "source": [
        "Or you can driectly load data directly from my [Github data folder](https://github.com/zia207/r-colab/raw/main/Data/R_Beginners/test_data.txt) using following code:"
      ],
      "metadata": {
        "id": "QoRpKaVp-gRC"
      }
    },
    {
      "cell_type": "code",
      "source": [
        "%%R\n",
        "df.txt<-read.table(\"https://github.com/zia207/r-colab/raw/main/Data/R_Beginners/test_data.txt\",\n",
        "                    header= TRUE)\n",
        "head(df.txt)"
      ],
      "metadata": {
        "colab": {
          "base_uri": "https://localhost:8080/"
        },
        "id": "CBXiV8FK9zHJ",
        "outputId": "7630c02b-dae8-4ddc-ef6b-26a0949837ab"
      },
      "execution_count": null,
      "outputs": [
        {
          "output_type": "stream",
          "name": "stdout",
          "text": [
            "   ID treat  var rep    PH   TN   PN   GW ster   DTM   SW   GAs  STAs\n",
            "1 Low    As BR01   1  84.0 28.3 27.7 35.7 20.5 126.0 28.4 0.762 14.60\n",
            "2 Low    As BR01   2 111.7 34.0 30.0 58.1 14.8 119.0 36.7 0.722 10.77\n",
            "3 Low    As BR01   3 102.3 27.7 24.0 44.6  5.8 119.7 32.9 0.858 12.69\n",
            "4 Low    As BR06   1 118.0 23.3 19.7 46.4 20.3 119.0 40.0 1.053 18.23\n",
            "5 Low    As BR06   2 115.3 16.7 12.3 19.9 32.3 120.0 28.2 1.130 13.72\n",
            "6 Low    As BR06   3 111.0 19.0 15.3 35.9 14.9 116.3 42.3 1.011 15.97\n"
          ]
        }
      ]
    },
    {
      "cell_type": "markdown",
      "source": [
        "However, `scan()` function could be used to scan and read data. It is usually used to read data into vector or list or from file in R Language.\n",
        "\n",
        "> scan(scan(file = \"\", what = double(), nmax = -1, n = -1, sep =\"\",..)"
      ],
      "metadata": {
        "id": "DtUOksnbCl6B"
      }
    },
    {
      "cell_type": "code",
      "execution_count": null,
      "metadata": {
        "colab": {
          "base_uri": "https://localhost:8080/"
        },
        "id": "6Lm8_XGaG8Il",
        "outputId": "cc8df76b-fc8a-4afa-8b54-9208babc2c3e"
      },
      "outputs": [
        {
          "output_type": "stream",
          "name": "stderr",
          "text": [
            "WARNING:rpy2.rinterface_lib.callbacks:R[write to console]: Read 201 records\n",
            "\n"
          ]
        }
      ],
      "source": [
        "%%R\n",
        "# Scan data\n",
        "df.scan<-scan(\"https://github.com/zia207/r-colab/raw/main/Data/R_Beginners/test_data.txt\",  what = list(\"\", \"\", \"\"))"
      ]
    },
    {
      "cell_type": "markdown",
      "source": [
        "### Read Comma-Separated File (.csv)\n",
        "\n",
        "A comma delimited or comma-separated file (CSV) is one where each value in the file is separated by a comma, although other characters can be used. Reading data from a CSV file is made easy by the `read.csv()`, an extension of `read.table()`. It facilitates the direct import of data from CSV"
      ],
      "metadata": {
        "id": "SqJQoPMbC4sA"
      }
    },
    {
      "cell_type": "code",
      "execution_count": 17,
      "metadata": {
        "colab": {
          "base_uri": "https://localhost:8080/"
        },
        "id": "dKU4UEAtHTHd",
        "outputId": "0cfb0432-6dc9-4d23-b425-0c8195bc67f8"
      },
      "outputs": [
        {
          "output_type": "stream",
          "name": "stdout",
          "text": [
            "  ID  treat  var rep    PH   TN   PN   GW ster   DTM   SW   GAs  STAs\n",
            "1  1 Low As BR01   1  84.0 28.3 27.7 35.7 20.5 126.0 28.4 0.762 14.60\n",
            "2  2 Low As BR01   2 111.7 34.0 30.0 58.1 14.8 119.0 36.7 0.722 10.77\n",
            "3  3 Low As BR01   3 102.3 27.7 24.0 44.6  5.8 119.7 32.9 0.858 12.69\n",
            "4  4 Low As BR06   1 118.0 23.3 19.7 46.4 20.3 119.0 40.0 1.053 18.23\n",
            "5  5 Low As BR06   2 115.3 16.7 12.3 19.9 32.3 120.0 28.2 1.130 13.72\n",
            "6  6 Low As BR06   3 111.0 19.0 15.3 35.9 14.9 116.3 42.3 1.011 15.97\n"
          ]
        }
      ],
      "source": [
        "%%R\n",
        "df.csv<-read.csv(paste0(dataFolder,\"test_data.csv\"), header= TRUE)\n",
        "#df.csv<-read.csv(\"/content/drive/MyDrive/R_Website/R_Bigenner/Data/test_data.csv\", header= TRUE)\n",
        "head(df.csv)"
      ]
    },
    {
      "cell_type": "markdown",
      "source": [
        "Or you can data directly from my Github data folder using following code:"
      ],
      "metadata": {
        "id": "IBv57CQV1ZKR"
      }
    },
    {
      "cell_type": "code",
      "source": [
        "%%R\n",
        "df.csv<-read.csv(\"https://github.com/zia207/r-colab/raw/main/Data/R_Beginners/test_data.csv\",\n",
        "                  header= TRUE)\n",
        "head(df.csv)"
      ],
      "metadata": {
        "colab": {
          "base_uri": "https://localhost:8080/"
        },
        "id": "NKhJzcrC0lGY",
        "outputId": "0659298f-340d-491e-8ddf-e5d57b1670c3"
      },
      "execution_count": null,
      "outputs": [
        {
          "output_type": "stream",
          "name": "stdout",
          "text": [
            "  ID  treat  var rep    PH   TN   PN   GW ster   DTM   SW   GAs  STAs\n",
            "1  1 Low As BR01   1  84.0 28.3 27.7 35.7 20.5 126.0 28.4 0.762 14.60\n",
            "2  2 Low As BR01   2 111.7 34.0 30.0 58.1 14.8 119.0 36.7 0.722 10.77\n",
            "3  3 Low As BR01   3 102.3 27.7 24.0 44.6  5.8 119.7 32.9 0.858 12.69\n",
            "4  4 Low As BR06   1 118.0 23.3 19.7 46.4 20.3 119.0 40.0 1.053 18.23\n",
            "5  5 Low As BR06   2 115.3 16.7 12.3 19.9 32.3 120.0 28.2 1.130 13.72\n",
            "6  6 Low As BR06   3 111.0 19.0 15.3 35.9 14.9 116.3 42.3 1.011 15.97\n"
          ]
        }
      ]
    },
    {
      "cell_type": "markdown",
      "source": [
        "### Excel Files (.xlsx)\n",
        "\n",
        "If you want to get data from Excel into R, one of the easiest ways to do it is to export the Excel file to a CSV file and then import it using the above method. But if you don't want to do that, you can use the 'readxl' package. It's easy to use since it has no extra dependencies, so thato you can install it on any operating system.\n",
        "\n",
        "**readxl** supports both the legacy `.xls` format and the modern xml-based `.xlsx` format. The libxls C library is used to support `.xls`, which abstracts away many of the complexities of the underlying binary format. To parse .`xlsx,` we use the RapidXML C++ library.\n",
        "\n",
        "`read_excel()` reads both `xls` and `xlsx` files and detects the format from the extension."
      ],
      "metadata": {
        "id": "LoHVxqxLz9UZ"
      }
    },
    {
      "cell_type": "code",
      "source": [
        "%%R\n",
        "df.xl <-readxl::read_excel(paste0(dataFolder,\"test_data.xlsx\"), 1)\n",
        "#df.xl <- readxl::read_excel(\"/content/drive/MyDrive/R_Website/R_Bigenner/Data/test_data.xlsx\", 1)\n",
        "head(df.xl)"
      ],
      "metadata": {
        "colab": {
          "base_uri": "https://localhost:8080/"
        },
        "id": "zh615aRi0Ev4",
        "outputId": "d26d81b0-caa8-4a73-c871-dbc9e5dba049"
      },
      "execution_count": 18,
      "outputs": [
        {
          "output_type": "stream",
          "name": "stdout",
          "text": [
            "# A tibble: 6 × 13\n",
            "     ID treat  var     rep    PH    TN    PN    GW  ster   DTM    SW   GAs  STAs\n",
            "  <dbl> <chr>  <chr> <dbl> <dbl> <dbl> <dbl> <dbl> <dbl> <dbl> <dbl> <dbl> <dbl>\n",
            "1     1 Low As BR01      1   84   28.3  27.7  35.7  20.5  126   28.4 0.762  14.6\n",
            "2     2 Low As BR01      2  112.  34    30    58.1  14.8  119   36.7 0.722  10.8\n",
            "3     3 Low As BR01      3  102.  27.7  24    44.6   5.8  120.  32.9 0.858  12.7\n",
            "4     4 Low As BR06      1  118   23.3  19.7  46.4  20.3  119   40   1.05   18.2\n",
            "5     5 Low As BR06      2  115.  16.7  12.3  19.9  32.3  120   28.2 1.13   13.7\n",
            "6     6 Low As BR06      3  111   19    15.3  35.9  14.9  116.  42.3 1.01   16.0\n"
          ]
        }
      ]
    },
    {
      "cell_type": "markdown",
      "source": [
        "### JSON Files (.json)\n",
        "\n",
        "JSON is an open standard file and lightweight data-interchange format that stands for *J*ava*S*cript *O*bject *N*otation. The JSON file is a text file that is language independent, self-describing, and easy to understand.\n",
        "\n",
        "The JSON file is read by R as a `list` using the function `fromJSON()` of **rjson** package."
      ],
      "metadata": {
        "id": "l1vfNT2E3YY9"
      }
    },
    {
      "cell_type": "code",
      "source": [
        "%%R\n",
        "# read .json file\n",
        "df.json <- rjson::fromJSON(file= paste0(dataFolder, \"test_data.json\"),  simplify=TRUE)\n",
        "print(df.json)"
      ],
      "metadata": {
        "id": "1e7cYHTK5LO9",
        "colab": {
          "base_uri": "https://localhost:8080/"
        },
        "outputId": "a7602313-deec-46ad-fe1a-5a66da5748fd"
      },
      "execution_count": 19,
      "outputs": [
        {
          "output_type": "stream",
          "name": "stdout",
          "text": [
            "$ID\n",
            " [1]  1  2  3  4  5  6  7  8  9 10 11 12 13 14 15 16 17 18 19 20 21 22 23 24 25\n",
            "[26] 26 27 28 29 30 31 32 33 34 35 36 37 38 39 40 41 42\n",
            "\n",
            "$treat\n",
            " [1] \"Low As\"   \"Low As\"   \"Low As\"   \"Low As\"   \"Low As\"   \"Low As\"  \n",
            " [7] \"Low As\"   \"Low As\"   \"Low As\"   \"Low As\"   \"Low As\"   \"Low As\"  \n",
            "[13] \"Low As\"   \"Low As\"   \"Low As\"   \"Low As\"   \"Low As\"   \"Low As\"  \n",
            "[19] \"Low As\"   \"Low As\"   \"Low As\"   \"High As \" \"High As \" \"High As \"\n",
            "[25] \"High As \" \"High As \" \"High As \" \"High As \" \"High As \" \"High As \"\n",
            "[31] \"High As \" \"High As \" \"High As \" \"High As \" \"High As \" \"High As \"\n",
            "[37] \"High As \" \"High As \" \"High As \" \"High As \" \"High As \" \"High As \"\n",
            "\n",
            "$var\n",
            " [1] \"BR01\"      \"BR01\"      \"BR01\"      \"BR06\"      \"BR06\"      \"BR06\"     \n",
            " [7] \"BR28\"      \"BR28\"      \"BR28\"      \"BR35\"      \"BR35\"      \"BR35\"     \n",
            "[13] \"BR36\"      \"BR36\"      \"BR36\"      \"Jefferson\" \"Jefferson\" \"Jefferson\"\n",
            "[19] \"Kaybonnet\" \"Kaybonnet\" \"Kaybonnet\" \"BR01\"      \"BR01\"      \"BR01\"     \n",
            "[25] \"BR06\"      \"BR06\"      \"BR06\"      \"BR28\"      \"BR28\"      \"BR28\"     \n",
            "[31] \"BR35\"      \"BR35\"      \"BR35\"      \"BR36\"      \"BR36\"      \"BR36\"     \n",
            "[37] \"Jefferson\" \"Jefferson\" \"Jefferson\" \"Kaybonnet\" \"Kaybonnet\" \"Kaybonnet\"\n",
            "\n",
            "$rep\n",
            " [1] 1 2 3 1 2 3 1 2 3 1 2 3 1 2 3 1 2 3 1 2 3 1 2 3 1 2 3 1 2 3 1 2 3 1 2 3 1 2\n",
            "[39] 3 1 2 3\n",
            "\n",
            "$PH\n",
            " [1]  84.0 111.7 102.3 118.0 115.3 111.0 114.3 124.0 120.3 130.0 133.3 129.0\n",
            "[13] 113.0 118.3 118.3  96.7  94.7  97.3 134.7 120.7 123.7  73.0  77.0  71.7\n",
            "[25]  97.7  90.3  91.0  97.0  92.3  91.3  94.3 102.7  97.3 101.3  94.7  93.7\n",
            "[37]  72.7  72.3  80.0  96.7 101.0 105.3\n",
            "\n",
            "$TN\n",
            " [1] 28.3 34.0 27.7 23.3 16.7 19.0 21.7 25.3 23.0 19.7 21.0 17.7 18.0 23.0 29.7\n",
            "[16]  8.7  9.7 12.3 11.7 15.3 12.7 32.0 36.3 24.3 20.7 21.3 18.3 19.7 26.3 24.3\n",
            "[31] 22.7 26.3 22.7 19.7 22.0 19.7 10.3  9.7 13.3 14.3 15.7 13.7\n",
            "\n",
            "$PN\n",
            " [1] 27.7 30.0 24.0 19.7 12.3 15.3 19.3 21.0 19.0 14.7 16.3 14.3 15.7 17.3 16.3\n",
            "[16]  8.7  9.7 10.3  9.7  9.3  9.3 21.0 31.0 20.7 14.3 18.3 14.3 15.0 17.7 18.3\n",
            "[31] 12.3 17.7 14.0 14.0 17.7 15.3  9.0  8.3 11.0  7.7  8.0 10.0\n",
            "\n",
            "$GW\n",
            " [1] 35.7 58.1 44.6 46.4 19.9 35.9 56.2 49.2 48.6 36.6 39.9 43.0 39.0 35.8 45.8\n",
            "[16] 15.9 18.0 18.9 34.9 28.9 32.4 21.8 31.7 21.8 21.2 18.9 13.2 17.0 21.1 23.6\n",
            "[31] 10.0 18.2 22.2 16.8 24.5 17.6 11.5 14.1 23.0  5.4  5.2 15.0\n",
            "\n",
            "$ster\n",
            " [1] 20.5 14.8  5.8 20.3 32.3 14.9  6.1  9.2  4.2 12.1 11.5  8.7 13.2 28.0  6.9\n",
            "[16] 21.5 18.6 16.7  7.8  4.9 10.4 22.5 20.1 20.2 11.8 34.4 58.2 13.5 21.3 27.8\n",
            "[31] 55.9 46.6 52.5 24.4 28.5 49.5 26.6 18.2 12.6 57.2 82.8 54.7\n",
            "\n",
            "$DTM\n",
            " [1] 126.0 119.0 119.7 119.0 120.0 116.3 123.7 114.3 113.3 126.0 130.7 132.3\n",
            "[13] 121.7 121.7 117.0 121.3 116.7 116.7 115.7 114.0 113.3 132.3 129.3 134.3\n",
            "[25] 131.0 133.7 132.7 128.3 126.0 128.7 154.0 152.3 151.7 133.0 133.7 134.3\n",
            "[37] 127.0 128.7 127.0 131.7 130.7 128.7\n",
            "\n",
            "$SW\n",
            " [1]  28.4  36.7  32.9  40.0  28.2  42.3  35.4  60.6  69.8  57.3  53.0  32.6\n",
            "[13]  45.8  44.1 114.3  16.8  16.7  19.0  35.6  29.0  29.4  30.3  34.3  17.6\n",
            "[25]  25.6  24.6  24.5  21.2  28.7  16.7  35.2  41.2  43.3  34.2  30.8  31.2\n",
            "[37]  14.2  11.6  16.3  18.2  28.7  28.5\n",
            "\n",
            "$GAs\n",
            " [1] 0.762 0.722 0.858 1.053 1.130 1.011 0.965 0.969 0.893 1.358 1.359 1.290\n",
            "[13] 0.832 0.903 0.932 0.610 0.605 0.629 1.005 1.020 0.946 1.482 1.548 1.564\n",
            "[25] 1.451 1.413 1.396 1.521 1.553 1.698 2.448 2.493 2.458 1.881 1.997 1.934\n",
            "[37] 1.897 1.872 2.007 1.888 1.889 1.767\n",
            "\n",
            "$STAs\n",
            " [1] 14.60 10.77 12.69 18.23 13.72 15.97 14.49 16.02 15.25 21.23 19.37 20.30\n",
            "[13] 19.23 12.34 15.78 13.50  9.32 11.41 15.89  9.30 12.59 25.41 19.12 22.27\n",
            "[25] 24.15 18.77 21.46 28.49 30.96 29.73 26.22 20.97 23.59 24.75 19.40 22.08\n",
            "[37] 23.45 18.60 21.02 20.27 22.51 21.39\n",
            "\n"
          ]
        }
      ]
    },
    {
      "cell_type": "markdown",
      "source": [
        "We can convert a JESON file to a regilar data frame:"
      ],
      "metadata": {
        "id": "iHCT14aE5nmP"
      }
    },
    {
      "cell_type": "code",
      "source": [
        "%%R\n",
        "df.json <- as.data.frame(df.json)\n",
        "head(df.json)"
      ],
      "metadata": {
        "colab": {
          "base_uri": "https://localhost:8080/"
        },
        "id": "RjFh0Wg-5nZg",
        "outputId": "761b6153-25bf-4fc2-b475-00ebe9c6bc1f"
      },
      "execution_count": null,
      "outputs": [
        {
          "output_type": "stream",
          "name": "stdout",
          "text": [
            "  ID  treat  var rep    PH   TN   PN   GW ster   DTM   SW   GAs  STAs\n",
            "1  1 Low As BR01   1  84.0 28.3 27.7 35.7 20.5 126.0 28.4 0.762 14.60\n",
            "2  2 Low As BR01   2 111.7 34.0 30.0 58.1 14.8 119.0 36.7 0.722 10.77\n",
            "3  3 Low As BR01   3 102.3 27.7 24.0 44.6  5.8 119.7 32.9 0.858 12.69\n",
            "4  4 Low As BR06   1 118.0 23.3 19.7 46.4 20.3 119.0 40.0 1.053 18.23\n",
            "5  5 Low As BR06   2 115.3 16.7 12.3 19.9 32.3 120.0 28.2 1.130 13.72\n",
            "6  6 Low As BR06   3 111.0 19.0 15.3 35.9 14.9 116.3 42.3 1.011 15.97\n"
          ]
        }
      ]
    },
    {
      "cell_type": "markdown",
      "source": [
        "### Import Data from Other Statistical Software\n",
        "\n",
        "**foreign** packages is mostly used to read data stored by **Minitab**, **S**, **SAS**, **SPSS**, **Stata**, **Systat**, **dBase**, and so forth.\n",
        "\n",
        "> install.packages(\"foreign\")\n",
        "\n",
        "**Haven** enables R to read and write various data formats used by other statistical packages by wrapping with [ReadStat](https://github.com/WizardMac/ReadStat) C library. written b Haven is part of the tidyverse. Current it support **SAS**, **SPSS** and **Stata** files\n",
        "\n",
        "`read.dta()` function from **foreign** package can reads a file in Stata version 5-12 binary format (`.dta`) into a data frame."
      ],
      "metadata": {
        "id": "tSo8Vwdd6A-w"
      }
    },
    {
      "cell_type": "markdown",
      "source": [
        "#### Read STATA File (.dta)"
      ],
      "metadata": {
        "id": "QZbz3R8n6QI5"
      }
    },
    {
      "cell_type": "code",
      "source": [
        "%%R\n",
        "# Foreign - read.dta()\n",
        "df.dta_01 <- foreign::read.dta(paste0(dataFolder,\"test_data.dta\"))\n",
        "# Haven - read_dta()\n",
        "df.dta_02 <- haven::read_dta(paste0(dataFolder,\"test_data.dta\"))\n",
        "head(df.dta_02)"
      ],
      "metadata": {
        "colab": {
          "base_uri": "https://localhost:8080/"
        },
        "id": "mOuTgYNI6Ugi",
        "outputId": "c0388dc7-da98-47ad-edd3-33c642231796"
      },
      "execution_count": 20,
      "outputs": [
        {
          "output_type": "stream",
          "name": "stdout",
          "text": [
            "# A tibble: 6 × 13\n",
            "     ID treat  var     rep    PH    TN    PN    GW  ster   DTM    SW   GAs  STAs\n",
            "  <dbl> <chr>  <chr> <dbl> <dbl> <dbl> <dbl> <dbl> <dbl> <dbl> <dbl> <dbl> <dbl>\n",
            "1     1 Low As BR01      1   84   28.3  27.7  35.7  20.5  126   28.4 0.762  14.6\n",
            "2     2 Low As BR01      2  112.  34    30    58.1  14.8  119   36.7 0.722  10.8\n",
            "3     3 Low As BR01      3  102.  27.7  24    44.6   5.8  120.  32.9 0.858  12.7\n",
            "4     4 Low As BR06      1  118   23.3  19.7  46.4  20.3  119   40   1.05   18.2\n",
            "5     5 Low As BR06      2  115.  16.7  12.3  19.9  32.3  120   28.2 1.13   13.7\n",
            "6     6 Low As BR06      3  111   19    15.3  35.9  14.9  116.  42.3 1.01   16.0\n"
          ]
        }
      ]
    },
    {
      "cell_type": "markdown",
      "source": [
        "#### Read SPSS File (.sav)"
      ],
      "metadata": {
        "id": "pfzxWJ246wwf"
      }
    },
    {
      "cell_type": "code",
      "source": [
        "%%R\n",
        "# Foreign - read.spss()\n",
        "df.sav_01 <- foreign::read.spss(paste0(dataFolder,\"test_data.sav\"))\n",
        "# Haven - read_sav()\n",
        "df.sav_02 <- haven::read_sav(paste0(dataFolder,\"test_data.sav\"))\n",
        "head(df.sav_02)"
      ],
      "metadata": {
        "colab": {
          "base_uri": "https://localhost:8080/"
        },
        "id": "hFXtvic563B2",
        "outputId": "f2a9feb0-ff8e-4d24-c9f4-8d236cfad024"
      },
      "execution_count": 21,
      "outputs": [
        {
          "output_type": "stream",
          "name": "stdout",
          "text": [
            "# A tibble: 6 × 13\n",
            "     ID treat  var     rep    PH    TN    PN    GW  ster   DTM    SW   GAs  STAs\n",
            "  <dbl> <chr>  <chr> <dbl> <dbl> <dbl> <dbl> <dbl> <dbl> <dbl> <dbl> <dbl> <dbl>\n",
            "1     1 Low As BR01      1   84   28.3  27.7  35.7  20.5  126   28.4 0.762  14.6\n",
            "2     2 Low As BR01      2  112.  34    30    58.1  14.8  119   36.7 0.722  10.8\n",
            "3     3 Low As BR01      3  102.  27.7  24    44.6   5.8  120.  32.9 0.858  12.7\n",
            "4     4 Low As BR06      1  118   23.3  19.7  46.4  20.3  119   40   1.05   18.2\n",
            "5     5 Low As BR06      2  115.  16.7  12.3  19.9  32.3  120   28.2 1.13   13.7\n",
            "6     6 Low As BR06      3  111   19    15.3  35.9  14.9  116.  42.3 1.01   16.0\n"
          ]
        }
      ]
    },
    {
      "cell_type": "markdown",
      "source": [
        "#### Read SAS File (.sas7bdat)\n",
        "\n",
        "`read_sas()` function from haven package can read sas (.sas7bdat) file easily."
      ],
      "metadata": {
        "id": "mMaUFPt87U-G"
      }
    },
    {
      "cell_type": "code",
      "source": [
        "%%R\n",
        "# read .sas7bdat file\n",
        "df.sas <- haven::read_sas(paste0(dataFolder,\"test_data.sas7bdat\"))\n",
        "head(df.sas)"
      ],
      "metadata": {
        "colab": {
          "base_uri": "https://localhost:8080/"
        },
        "id": "Jy6k8tga7bwk",
        "outputId": "2c0b4b04-3c7c-40e4-8a0a-3487d6aac05d"
      },
      "execution_count": 22,
      "outputs": [
        {
          "output_type": "stream",
          "name": "stdout",
          "text": [
            "# A tibble: 6 × 13\n",
            "     ID treat  var     rep    PH    TN    PN    GW  ster   DTM    SW   GAs  STAs\n",
            "  <dbl> <chr>  <chr> <dbl> <dbl> <dbl> <dbl> <dbl> <dbl> <dbl> <dbl> <dbl> <dbl>\n",
            "1     1 Low As BR01      1   84   28.3  27.7  35.7  20.5  126   28.4 0.762  14.6\n",
            "2     2 Low As BR01      2  112.  34    30    58.1  14.8  119   36.7 0.722  10.8\n",
            "3     3 Low As BR01      3  102.  27.7  24    44.6   5.8  120.  32.9 0.858  12.7\n",
            "4     4 Low As BR06      1  118   23.3  19.7  46.4  20.3  119   40   1.05   18.2\n",
            "5     5 Low As BR06      2  115.  16.7  12.3  19.9  32.3  120   28.2 1.13   13.7\n",
            "6     6 Low As BR06      3  111   19    15.3  35.9  14.9  116.  42.3 1.01   16.0\n"
          ]
        }
      ]
    },
    {
      "cell_type": "markdown",
      "source": [
        "## Data Export from R"
      ],
      "metadata": {
        "id": "PT_ALG054ubp"
      }
    },
    {
      "cell_type": "markdown",
      "source": [
        "### Writre as CSV file"
      ],
      "metadata": {
        "id": "ntrKWmGu44HX"
      }
    },
    {
      "cell_type": "code",
      "source": [
        "%%R\n",
        "Variety =c(\"BR1\",\"BR3\", \"BR16\", \"BR17\", \"BR18\", \"BR19\",\"BR26\",\n",
        "\t      \"BR27\",\"BR28\",\"BR29\",\"BR35\",\"BR36\") # create a text vector\n",
        "Yield = c(5.2,6.0,6.6,5.6,4.7,5.2,5.7,\n",
        "\t            5.9,5.3,6.8,6.2,5.8) # create numerical vector\n",
        "rice.data= data.frame(Variety, Yield)\n",
        "head(rice.data)"
      ],
      "metadata": {
        "colab": {
          "base_uri": "https://localhost:8080/"
        },
        "id": "YMchxRFd4zy3",
        "outputId": "f47c04b0-7351-48fd-f1de-2f1673e8c94e"
      },
      "execution_count": 8,
      "outputs": [
        {
          "output_type": "stream",
          "name": "stdout",
          "text": [
            "  Variety Yield\n",
            "1     BR1   5.2\n",
            "2     BR3   6.0\n",
            "3    BR16   6.6\n",
            "4    BR17   5.6\n",
            "5    BR18   4.7\n",
            "6    BR19   5.2\n"
          ]
        }
      ]
    },
    {
      "cell_type": "markdown",
      "source": [
        "The popular R base functions for writing data are `write.table()`, `write.csv()`, `write.csv2()` and `write.delim()` functions.\n",
        "\n",
        "Before start, you need to specify the working or destination directory in where you will save the data."
      ],
      "metadata": {
        "id": "E1ftooZh5PKy"
      }
    },
    {
      "cell_type": "code",
      "source": [
        "%%R\n",
        "write.csv(rice.data, paste0(dataFolder, \"rice_data.csv\"), row.names = F) # no row names\n",
        "# write.csv(rice.data, \"rice_data.csv\", row.names = F) # no row names"
      ],
      "metadata": {
        "id": "Cusj1Wa25Xlo"
      },
      "execution_count": 23,
      "outputs": []
    },
    {
      "cell_type": "markdown",
      "source": [
        "### Write as Excel File\n",
        "\n",
        "Exporting data from R to Excel can be achieved with several packages. The most known package to export data frames or tables as Excel is \"writexl\", that provides the `write_xlsx` functions.\n"
      ],
      "metadata": {
        "id": "SGT4p52A6Pqr"
      }
    },
    {
      "cell_type": "code",
      "source": [
        "%%R\n",
        "\n",
        "# write as xlsx file\n",
        "writexl::write_xlsx(rice.data, paste0(dataFolder, \"rice_data.xlsx\"))"
      ],
      "metadata": {
        "id": "e6KLHQ9x6Pzu"
      },
      "execution_count": 29,
      "outputs": []
    },
    {
      "cell_type": "markdown",
      "source": [
        "### JSON Objects\n",
        "\n",
        "To write JSON Object to file, the `toJSON()` function from the `rjson` library can be used to prepare a JSON object and then use the `write()` function for writing the JSON object to a local file."
      ],
      "metadata": {
        "id": "afE122Ot8SOT"
      }
    },
    {
      "cell_type": "code",
      "source": [
        "%%R\n",
        "# create a JSON object\n",
        "jsonData <-rjson::toJSON(rice.data)\n",
        "# write JSON objects\n",
        "write(jsonData, file= paste0(dataFolder,\"rice_data.json\"))"
      ],
      "metadata": {
        "id": "wthg9Qrx8TA3"
      },
      "execution_count": 30,
      "outputs": []
    },
    {
      "cell_type": "markdown",
      "source": [
        "### R Data File\n",
        "\n",
        "If you want to share the data from R as Objects and share those with your colleagues through different systems so that they can use it right away into their R-workspace. These objects are of two types **.rda/.RData** which can be used to store some or all objects, functions from R global environment.\n",
        "\n",
        "The `save()` function allows us to save multiple objects into our global environment:"
      ],
      "metadata": {
        "id": "5oNIW6W78W2a"
      }
    },
    {
      "cell_type": "code",
      "source": [
        "%%R\n",
        "save(rice.data, Variety, Yield,  file= paste0(dataFolder,\"rice_data.RData\"))\n",
        "#save(rice.data, Variety, Yield,  file=\"rice_data.RData\")"
      ],
      "metadata": {
        "id": "LikeFANa8czo"
      },
      "execution_count": 31,
      "outputs": []
    },
    {
      "cell_type": "markdown",
      "source": [
        "If you specify `save.image(file = \"R_objects.RData\")` Export all objects (the workspace image).\n",
        "\n",
        "To save only one object it is more recommended saving it as RDS with the `saveRDS()` function:"
      ],
      "metadata": {
        "id": "e0XXQhNJ8jvW"
      }
    },
    {
      "cell_type": "code",
      "source": [
        "%%R\n",
        "# write .RDS file\n",
        "saveRDS(rice.data,  file= paste0(dataFolder,\"rice_data.rds\"))"
      ],
      "metadata": {
        "id": "ZelDeeRr8XFH"
      },
      "execution_count": 32,
      "outputs": []
    },
    {
      "cell_type": "markdown",
      "source": [
        "### Export to Other Statistcal Software"
      ],
      "metadata": {
        "id": "Wt7UYPrP8s9q"
      }
    },
    {
      "cell_type": "markdown",
      "source": [
        "#### STATA File\n",
        "\n",
        "If you want export data from R to STATA, you will need to use the `write.dta()` function of the `foreign` package."
      ],
      "metadata": {
        "id": "H_FaquSC8xr6"
      }
    },
    {
      "cell_type": "code",
      "source": [
        "%%R\n",
        "# write dta file\n",
        "foreign::write.dta(rice.data, file= paste0(dataFolder,\"rice_data.dta\"))\n"
      ],
      "metadata": {
        "id": "jjVklrO38ty8"
      },
      "execution_count": 33,
      "outputs": []
    },
    {
      "cell_type": "markdown",
      "source": [
        "#### SPSS File\n",
        "\n",
        "Haven enables R to read and write various data formats used by other statistical packages by wrapping with [ReadStat](https://github.com/WizardMac/ReadStat) C library. written b Haven is part of the tidyverse. Current it support **SAS**, **SPSS** and **Stata** files\n",
        "\n",
        "The `write_sav()` function of **haven** package can be used to export R-object to SPSS"
      ],
      "metadata": {
        "id": "uL4prMiX85GG"
      }
    },
    {
      "cell_type": "code",
      "source": [
        "%%R\n",
        "# write .sav file\n",
        "haven::write_sav(rice.data, \"/content/drive/MyDrive/R_Website/R_Bigenner/Data/rice_data.sav\")"
      ],
      "metadata": {
        "id": "1sLikAHM88gp"
      },
      "execution_count": 35,
      "outputs": []
    },
    {
      "cell_type": "markdown",
      "source": [
        "#### SAS File\n",
        "\n",
        "The `write_sas()` function of **haven** package can be used to export R-object to SAS (.sas7bdat)"
      ],
      "metadata": {
        "id": "hmKy-fZH9QNj"
      }
    },
    {
      "cell_type": "code",
      "source": [
        "%%R\n",
        "# write .sav file\n",
        "haven::write_sas(rice.data, \"/content/drive/MyDrive/R_Website/R_Bigenner/Data/rice_data.sav\")"
      ],
      "metadata": {
        "id": "uPPN_fSH9Q7f"
      },
      "execution_count": 38,
      "outputs": []
    },
    {
      "cell_type": "markdown",
      "source": [
        "## Summary and Conclusion\n",
        "\n",
        "This guide covers the necessary skills to import and export data into/from R for data analysis or statistical modeling. It discusses various data formats, including CSV, Excel, and text files, and strategies for managing missing values, data types, and potential import challenges. Advanced import/export techniques are also covered, allowing you to streamline your workflow and spend more time analyzing data. By practicing these techniques, you can transform your analysis into actionable insights and make a meaningful impact in your field."
      ],
      "metadata": {
        "id": "MVqbkHlw2Lzt"
      }
    },
    {
      "cell_type": "markdown",
      "metadata": {
        "id": "0Ovc25MJTsD8"
      },
      "source": [
        "## References\n",
        "\n",
        "1.  [How do I read data into R?](https://www.datafiles.samhsa.gov/get-help/format-specific-issues/how-do-i-read-data-r)\n",
        "\n",
        "2.  [R Coder](https://r-coder.com/export-data-r/)\n",
        "\n",
        "3.  [Introduction to bioinformatics](https://uclouvain-cbio.github.io/WSBIM1207/sec-bioinfo.html)\n",
        "\n",
        "4.  [Many Ways of Reading Data Into R --- 1](https://medium.com/analytics-vidhya/many-ways-of-reading-data-into-r-1-52b02825cb27)"
      ]
    }
  ],
  "metadata": {
    "colab": {
      "provenance": [],
      "toc_visible": true,
      "authorship_tag": "ABX9TyMGY2c/1lqM1cnV2aSej6Xd",
      "include_colab_link": true
    },
    "kernelspec": {
      "display_name": "Python 3",
      "name": "python3"
    },
    "language_info": {
      "name": "python"
    }
  },
  "nbformat": 4,
  "nbformat_minor": 0
}