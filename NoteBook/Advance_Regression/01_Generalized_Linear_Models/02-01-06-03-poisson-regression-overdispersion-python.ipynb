{
  "cells": [
    {
      "cell_type": "markdown",
      "metadata": {
        "colab_type": "text",
        "id": "view-in-github"
      },
      "source": [
        "<a href=\"https://colab.research.google.com/github/zia207/r-colab/blob/main/NoteBook/Advance_Regression/01_Generalized_Linear_Models/02-01-06-03-poisson-regression-overdispersion-r.ipynb\" target=\"_parent\"><img src=\"https://colab.research.google.com/assets/colab-badge.svg\" alt=\"Open In Colab\"/></a>"
      ]
    },
    {
      "cell_type": "markdown",
      "metadata": {
        "id": "7pRnAcmfgMw5"
      },
      "source": [
        "![alt text](http://drive.google.com/uc?export=view&id=1IFEWet-Aw4DhkkVe1xv_2YYqlvRe9m5_)"
      ]
    },
    {
      "cell_type": "markdown",
      "metadata": {
        "id": "TYmWLaFj0649"
      },
      "source": [
        "# 6.3. Poisson Regression Models for Overdispersed Data\n",
        "\n",
        "When analyzing count data, you may encounter overdispersion, which occurs when the observed variability in the data is more significant than what a standard Poisson model would predict. Overdispersion often arises in real-world datasets because natural processes can introduce more variability than a simple Poisson model can accommodate. Ignoring overdispersion can lead to underestimated standard errors, unreliable confidence intervals, and misleading conclusions.\n",
        "\n",
        "In this tutorial, we will explore methods for modeling overdispersed count data in R, focusing on approaches such as quasi-Poisson and negative binomial models, which can manage the extra variability in the data. We will begin by discussing the implications of overdispersion, then move on to fitting models from scratch and using R’s `glm()` function. After that, we’ll examine model diagnostics to detect overdispersion, evaluate the models to ensure a proper fit, and interpret incidence rate ratios (IRRs).\n"
      ]
    },
    {
      "cell_type": "markdown",
      "metadata": {
        "id": "MJyJN_Lzu9Cq"
      },
      "source": [
        "## Overview\n",
        "\n",
        "**Poisson regression** is used to model count data where the response variable represents the number of occurrences of an event. A key assumption of the Poisson model is that the **mean** and the **variance** of the response variable are equal:\n",
        "\n",
        "$$ \\text{Var}(Y) = \\mu $$\n",
        "\n",
        "Where $(Y)$ is the count response variable, and $\\mu$ is the mean (expected value) of the counts. However, in many real-world datasets, this assumption is often violated. When the variance is **greater than the mean**, the data exhibit **overdispersion**. Overdispersion can lead to underestimated standard errors and, as a result, inflated Type I error rates (i.e., falsely concluding that a predictor is significant).\n",
        "\n",
        "\n",
        "\n"
      ]
    },
    {
      "cell_type": "markdown",
      "metadata": {
        "id": "OdWazZbVrHcW"
      },
      "source": [
        "### Causes of Overdispersion\n",
        "\n",
        "Overdispersion in count data can occur for several reasons, including:\n",
        "\n",
        "1.  **Unobserved heterogeneity**: There might be additional variables or factors influencing the count data that are not included in the model.\n",
        "\n",
        "2.  **Zero-inflation**: There might be an excess of zeros in the data compared to what the Poisson model predicts.\n",
        "\n",
        "3.  **Clustering**: Observations within clusters may be more similar than those across clusters, leading to greater variability than assumed.\n"
      ]
    },
    {
      "cell_type": "markdown",
      "metadata": {
        "id": "ntV3ROVXrOau"
      },
      "source": [
        "### Identifying Overdispersion\n",
        "\n",
        "-   The variance is much greater than the mean, which suggests that we will have **over-dispersion** in the model.\n",
        "\n",
        "-   **Deviance**: If the deviance is much larger than the degrees of freedom, it suggests overdispersion. We can estimate a dispersion parameter, $ϕ$ by dividing the model deviance by its corresponding degrees of freedom; i.e.,\n",
        "\n",
        "$$ ϕ^2 = \\frac{\\sum Residuals^2}{n-p} $$\n",
        "\n",
        "-   If this statistic is significantly greater than 1, it suggests the presence of overdispersion.\n",
        "-   You can also examine the **Pearson Chi-Square statistic** divided by the degrees of freedom as another indicator of overdispersion."
      ]
    },
    {
      "cell_type": "markdown",
      "metadata": {
        "id": "S6FjGEzFrWoh"
      },
      "source": [
        "### Handling Overdispersion in Poisson Regression\n",
        "\n",
        "When overdispersion is present, Poisson regression is not appropriate, and alternative models are needed. There are several approaches to address overdispersion:\n",
        "\n",
        "1.  **Quasi-Poisson Regression**: A simple extension where the Poisson model is adjusted to allow for overdispersion by adding a dispersion parameter.\n",
        "2.  **Negative Binomial Regression**: A more flexible model that explicitly accounts for overdispersion by allowing the variance to differ from the mean.\n",
        "3.  **Zero-Inflated Models**: Useful when the overdispersion is caused by excess zeros in the data.\n"
      ]
    },
    {
      "cell_type": "markdown",
      "metadata": {
        "id": "j6h_DGF9rZ25"
      },
      "source": [
        "Below is the explanation of **Quasi-Poisson Regression**, **Negative Binomial Regression**, and **Zero-Inflated Models** (including **Zero-Inflated Poisson (ZIP)**, **Zero-Inflated Negative Binomial (ZINB)**, and **Hurdle Model**) with all equations presented in final Markdown format, covering how they work, key features, applications, advantages, limitations, and how they differ.\n"
      ]
    },
    {
      "cell_type": "markdown",
      "metadata": {
        "id": "V7eH_LOdrasR"
      },
      "source": [
        "### Quasi-Poisson Regression\n",
        "\n",
        "Quasi-Poisson regression extends Poisson regression for count data to address overdispersion (variance greater than the mean). In standard Poisson regression, the response $Y$ follows a Poisson distribution with:\n",
        "\n",
        "$$\n",
        "E(Y) = Var(Y) = \\mu\n",
        "$$\n",
        "\n",
        "The mean is modeled as:\n",
        "\n",
        "$$\n",
        "\\log(\\mu) = \\beta_0 + \\beta_1 x_1 + \\dots + \\beta_p x_p\n",
        "$$\n",
        "\n",
        "Quasi-Poisson introduces a dispersion parameter $\\phi > 1$, adjusting the variance to:\n",
        "\n",
        "$$\n",
        "Var(Y) = \\phi \\mu\n",
        "$$\n",
        "\n",
        "Parameters are estimated using quasi-likelihood methods, maximizing the quasi-log-likelihood:\n",
        "\n",
        "$$\n",
        "Q(\\mu; y) = \\sum \\left( \\frac{y \\log \\mu - \\mu}{\\phi} \\right)\n",
        "$$\n",
        "\n",
        "No full distributional assumption is made, unlike Poisson.\n",
        "\n",
        "`Key Features:`\n",
        "\n",
        "-   Handles overdispersion with a scalar dispersion parameter $\\phi$.\n",
        "-   Uses log-link for the mean, similar to Poisson.\n",
        "-   No additional parameters for variance beyond $\\phi$.\n",
        "\n",
        "`Applications`:\n",
        "\n",
        "-   Count data epidemiology (e.g., disease incidents), ecology (e.g., species counts), or insurance (e.g., claim frequencies) where variance exceeds the mean.\n",
        "\n",
        "`Advantages`:\n",
        "\n",
        "-   Simple extension of Poisson; easy to implement (e.g., `glm(family=\"quasipoisson\")` in R).\n",
        "-   Robust to overdispersion without requiring a full distribution.\n",
        "-   Computationally efficient.\n",
        "\n",
        "`Limitations`:\n",
        "\n",
        "-   Cannot handle underdispersion $\\phi < 1$.\n",
        "-   Does not directly model excess zeros.\n",
        "-   Inference is approximate (quasi-likelihood, not full likelihood), with standard errors scaled by $\\sqrt{\\phi}$."
      ]
    },
    {
      "cell_type": "markdown",
      "metadata": {
        "id": "4rkSRqUVrerH"
      },
      "source": [
        "### Negative Binomial Regression\n",
        "\n",
        "Negative Binomial (NB) regression models count data with overdispersion by assuming $Y$ follows a Negative Binomial distribution (a Poisson-Gamma mixture). The mean and variance are:\n",
        "\n",
        "$$\n",
        "E(Y) = \\mu, \\quad Var(Y) = \\mu + \\alpha \\mu^2\n",
        "$$\n",
        "\n",
        "where $\\alpha > 0$ is the dispersion parameter (sometimes parameterized as $1/k$. The mean is modeled as:\n",
        "\n",
        "$$\n",
        "\\log(\\mu) = \\beta_0 + \\beta_1 x_1 + \\dots + \\beta_p x_p\n",
        "$$\n",
        "\n",
        "Parameters are estimated via maximum likelihood, maximizing the log-likelihood:\n",
        "\n",
        "$$\n",
        "\\log L = \\sum \\left[ \\log \\Gamma(y_i + 1/\\alpha) - \\log \\Gamma(1/\\alpha) - \\log(y_i!) + y_i \\log\\left(\\frac{\\mu_i \\alpha}{1 + \\mu_i \\alpha}\\right) + \\frac{1}{\\alpha} \\log\\left(\\frac{1}{1 + \\mu_i \\alpha}\\right) \\right]\n",
        "$$\n",
        "\n",
        "`Key Features:`\n",
        "\n",
        "-   Models overdispersion via a quadratic variance-mean relationship.\n",
        "-   Common forms: NB2 (quadratic variance, as above) or NB1 (linear variance).\n",
        "-   Full likelihood-based inference.\n",
        "\n",
        "`Applications`:\n",
        "\n",
        "-   Bioinformatics (e.g., RNA-seq read counts), traffic accidents (e.g., crash counts), or marketing (e.g., customer purchase counts) with high variability.\n",
        "\n",
        "`Advantages`:\n",
        "\n",
        "-   Better fit for overdispersed data than Poisson or Quasi-Poisson.\n",
        "-   Supports likelihood ratio tests and AIC/BIC model comparison.\n",
        "-   Flexible for varying dispersion in some extensions.\n",
        "\n",
        "`Limitations`:\n",
        "\n",
        "-   Assumes overdispersion; may underperform for equidispersed or underdispersed data.\n",
        "-   Cannot directly address excess zeros beyond NB distribution’s capability.\n",
        "-   More computationally intensive than Quasi-Poisson due to full ML estimation.\n"
      ]
    },
    {
      "cell_type": "markdown",
      "metadata": {
        "id": "fafmlniPrht4"
      },
      "source": [
        "### Zero-Inflated Models\n",
        "\n",
        "Zero-inflated models are statistical models designed to analyze count data with an excess of zeroes. These models are particularly useful when a dataset has more zero counts than would be expected under traditional count models like `Poisson` or `Negative Binomial distributions`. They are commonly used in fields like ecology, healthcare, economics, and social sciences, where it’s common to observe many zero values alongside non-zero counts.\n",
        "\n",
        "In some datasets, zero counts occur so frequently that traditional count models (e.g., Poisson) fail to provide an accurate fit. Zero inflation can arise due to two types of zeroes:\n",
        "\n",
        "1.  `Structural Zeroes`: These occur because some units in the data have no chance of experiencing the event of interest. For example, in a survey on smoking habits, non-smokers will have a structural zero count for cigarette consumption.\n",
        "\n",
        "2.  `Sampling Zeroes`: These are regular zeroes that occur naturally in the data as part of the random process. For example, even smokers may occasionally have a zero count for the number of cigarettes smoked on a particular day.\n",
        "\n",
        "Zero-inflated models account for both types by combining two processes:\n",
        "\n",
        "-   A `binary model` (often logistic regression) that models the probability of a structural zero.\n",
        "\n",
        "-   A `count model` (often Poisson or Negative Binomial) for the non-zero counts.\n",
        "\n",
        "The two most common types of zero-inflated models are:\n",
        "\n",
        "-   `Zero-Inflated Poisson (ZIP`: Assumes that the non-zero counts follow a Poisson distribution. Used when data do not exhibit overdispersion (variance ≈ mean).\n",
        "\n",
        "-   `Zero-Inflated Negative Binomial (ZINB)`: Assumes that non-zero counts follow a Negative Binomial distribution. Used when data exhibit overdispersion (variance \\> mean).\n",
        "\n"
      ]
    },
    {
      "cell_type": "markdown",
      "metadata": {
        "id": "ZKm5mhjUsBqk"
      },
      "source": [
        "#### Zero-Inflated Poisson (ZIP)\n",
        "\n",
        "ZIP assumes data arise from two processes: a logistic/probit model for excess zeros ($\\pi = P(Y=0)$) extra) and a Poisson model for counts (including some zeros). The probability mass function is:\n",
        "\n",
        "$$\n",
        "P(Y=0) = \\pi + (1 - \\pi) e^{-\\mu}\n",
        "$$\n",
        "\n",
        "$$\n",
        "P(Y=y) = (1 - \\pi) \\frac{e^{-\\mu} \\mu^y}{y!}, \\quad y > 0\n",
        "$$\n",
        "\n",
        "Two linked models:\n",
        "\n",
        "-   Zero-inflation: $\\text{logit}(\\pi) = \\gamma_0 + \\gamma_1 z_1 + \\dots + \\gamma_q z_q$\n",
        "-   Count: $\\log(\\mu) = \\beta_0 + \\beta_1 x_1 + \\dots + \\beta_p x_p$\n",
        "\n",
        "Parameters are estimated via maximum likelihood or EM algorithm.\n",
        "\n",
        "`Key Features\"`\n",
        "\n",
        "-   Separates \"structural\" zeros (e.g., non-events) from \"sampling\" zeros.\n",
        "-   Predictors for zero and count components can differ.\n",
        "\n",
        "`Applications:`\n",
        "\n",
        "-   Healthcare (e.g., hospital visits, many zeros for non-patients), ecology (e.g., animal sightings).\n",
        "\n",
        "`Advantages:`\n",
        "\n",
        "-   Effectively models excess zeros, improving fit over standard Poisson.\n",
        "-   Interpretable: distinguishes at-risk vs. not-at-risk populations.\n",
        "\n",
        "`Limitations`:\n",
        "\n",
        "-   Assumes no overdispersion in the count part (Poisson assumption).\n",
        "-   Sensitive to model misspecification."
      ]
    },
    {
      "cell_type": "markdown",
      "metadata": {
        "id": "XLdE3QyfrqB_"
      },
      "source": [
        "#### Zero-Inflated Negative Binomial (ZINB)\n",
        "\n",
        "ZINB extends ZIP by using a Negative Binomial for the count process to handle overdispersion. The probability mass function is:\n",
        "\n",
        "$$\n",
        "P(Y=0) = \\pi + (1 - \\pi) \\left(1 + \\alpha \\mu\\right)^{-1/\\alpha}\n",
        "$$\n",
        "\n",
        "$$\n",
        "P(Y=y) = (1 - \\pi) \\frac{\\Gamma(y + 1/\\alpha)}{y! \\Gamma(1/\\alpha)} \\left(1 + \\alpha \\mu\\right)^{-1/\\alpha} \\left(\\frac{\\alpha \\mu}{1 + \\alpha \\mu}\\right)^y, \\quad y > 0\n",
        "$$\n",
        "\n",
        "Models:\n",
        "\n",
        "-   Zero-inflation: $\\text{logit}(\\pi) = \\gamma_0 + \\gamma_1 z_1 + \\dots$\n",
        "\n",
        "-   Count: $\\log(\\mu) = \\beta_0 + \\beta_1 x_1 + \\dots$, with dispersion $\\alpha$.\n",
        "\n",
        "Estimated via maximum likelihood.\n",
        "\n",
        "`Key Features:`\n",
        "\n",
        "-   Combines zero-inflation with overdispersion modeling.\n",
        "-   More flexible than ZIP for variable count data.\n",
        "\n",
        "`Applications:`\n",
        "\n",
        "-   Insurance claims (many zeros, variable positives), defect counts in manufacturing.\n",
        "\n",
        "`Advantages`:\n",
        "\n",
        "-   Handles both excess zeros and overdispersion.\n",
        "-   Suitable for highly variable data with zeros.\n",
        "\n",
        "`Limitations:`\n",
        "\n",
        "-   More parameters increase risk of overfitting or convergence issues.\n",
        "-   Computationally intensive."
      ]
    },
    {
      "cell_type": "markdown",
      "metadata": {
        "id": "1iEZEK2Frzri"
      },
      "source": [
        "#### Hurdle Model\n",
        "\n",
        "Hurdle models are used for count data with excess zeros, where the zeros arise from a different process than the positive counts. They are particularly useful when the zero counts represent a distinct \"hurdle\" that must be crossed to observe positive counts. The hurdle model is specifically designed to address data where zeros are more frequent than would be expected from standard count models, like Poisson or negative binomial models. This makes it useful in contexts like healthcare (e.g., number of hospital visits), economics (e.g., number of purchases), or environmental science (e.g., number of rare species observed).\n",
        "\n",
        "Hurdle models separate zeros and positives explicitly: a binary model (e.g., logistic) for $P(Y>0) = 1 - \\pi$, and a zero-truncated count model (e.g., Poisson or NB) for $Y | Y>0$. For a Poisson hurdle:\n",
        "\n",
        "$$\n",
        "P(Y=0) = \\pi\n",
        "$$\n",
        "\n",
        "$$\n",
        "P(Y=y | y>0) = \\frac{e^{-\\mu} \\mu^y / y!}{1 - e^{-\\mu}}, \\quad y > 0\n",
        "$$\n",
        "\n",
        "Models:\n",
        "\n",
        "-   Hurdle: $\\text{logit}(\\pi) = \\gamma_0 + \\gamma_1 z_1 + \\dots$\n",
        "-   Count: $\\log(\\mu) = \\beta_0 + \\beta_1 x_1 + \\dots$\n",
        "\n",
        "Estimated in two stages or jointly via maximum likelihood.\n",
        "\n",
        "`Key Features:`\n",
        "\n",
        "-   All zeros from one process; positives from a zero-truncated count distribution.\n",
        "-   Can use Poisson or NB for counts.\n",
        "\n",
        "`Applications`:\n",
        "\n",
        "-   Consumer behavior (e.g., buy or not, then how many), fishing catches (catch or not, then amount).\n",
        "\n",
        "`Advantages:`\n",
        "\n",
        "-   Intuitive for \"hurdle\" processes (e.g., decision to participate, then intensity).\n",
        "-   Handles excess zeros and overdispersion (with NB).\n",
        "\n",
        "`Limitations`:\n",
        "\n",
        "-   Assumes all zeros are \"true\" zeros, not distinguishing structural vs. sampling zeros.\n",
        "-   May not fit if zeros include count-process zeros."
      ]
    },
    {
      "cell_type": "markdown",
      "metadata": {
        "id": "26RDYVrBsHVp"
      },
      "source": [
        "Below is a table summarizing the differences between Quasi-Poisson Regression, Negative Binomial Regression, Zero-Inflated Poisson (ZIP), Zero-Inflated Negative Binomial (ZINB), and Hurdle Models based on their key characteristics, mathematical structure, handling of overdispersion and excess zeros, and other relevant aspects.\n",
        "\n",
        "| **Model** | **Overdispersion?** | **Excess Zeros?** | **Mean Model** | **Variance Model** | **Zero Structure** | **Key Idea** |\n",
        "|----------|----------|----------|----------|----------|---------------|----------|\n",
        "| **Quasi-Poisson** | Yes ($\\phi$) | No | $\\log(\\mu) = \\mathbf{X}\\beta$ | $\\text{Var}(Y) = \\phi \\mu$ | All zeros from Poisson-like process | Adjusts variance via dispersion parameter; simple but no zero modeling |\n",
        "| **Negative Binomial (NB)** | Yes ($\\alpha$) | No | $\\log(\\mu) = \\mathbf{X}\\beta$ | $\\text{Var}(Y) = \\mu + \\alpha \\mu^2$ | Zeros from NB distribution only | Full likelihood model for overdispersion using mixing |\n",
        "| **ZIP** | No | Yes ($\\pi$) | $\\log(\\mu) = \\mathbf{X}\\beta$, $\\text{logit}(\\pi) = \\mathbf{Z}\\gamma$ | $\\text{Var}(Y) = \\mu$ (for count part) | $P(Y=0) = \\pi + (1-\\pi)e^{-\\mu}$ — mix of structural and sampling zeros | Two-part: some zeros are \"structural\", others from Poisson |\n",
        "| **ZINB** | Yes ($\\alpha$) | Yes ($\\pi$) | $\\log(\\mu) = \\mathbf{X}\\beta$, $\\text{logit}(\\pi) = \\mathbf{Z}\\gamma$ | $\\text{Var}(Y) = \\mu + \\alpha \\mu^2$ | $P(Y=0) = \\pi + (1-\\pi)(1+\\alpha\\mu)^{-1/\\alpha}$ — structural + NB zeros | ZIP + overdispersion: most flexible for excess zeros and variability |\n",
        "| **Hurdle Model** | Yes (if NB used) | Yes ($\\pi$) | $\\log(\\mu) = \\mathbf{X}\\beta$, $\\text{logit}(\\pi) = \\mathbf{Z}\\gamma$ | $\\mu$ (Poisson) or $\\mu + \\alpha \\mu^2$ (NB) | $P(Y=0) = \\pi$, $P(Y=y \\mid y>0)$ from zero-truncated count model | Two-stage: 1) \"hurdle\" (zero vs. positive), 2) truncated count model |\n"
      ]
    },
    {
      "cell_type": "markdown",
      "metadata": {
        "id": "so-3NE4ssI_j"
      },
      "source": [
        "### When to Use Which Model?\n",
        "\n",
        "| **Situation** | **Recommended Model** |\n",
        "|--------------------------------------|----------------------------------|\n",
        "| Overdispersion only | **Quasi-Poisson** or **NB** |\n",
        "| Excess zeros only | **ZIP** |\n",
        "| Excess zeros + overdispersion | **ZINB** or **Hurdle (NB)** |\n",
        "| Clear two-stage process (e.g., decision then amount) | **Hurdle** |\n",
        "| Simple, fast analysis | **Quasi-Poisson** |\n",
        "| Formal inference, model comparison | **NB, ZINB, or Hurdle** (use AIC/BIC) |"
      ]
    },
    {
      "cell_type": "markdown",
      "metadata": {
        "id": "tdW1j4AKsT1q"
      },
      "source": [
        "### Key Notes:\n",
        "\n",
        "-   **Overdispersion**: Variance > Mean\n",
        "-   **Excess Zeros**: More zeros than expected under Poisson/NB\n",
        "-   $\\pi$: Probability of structural/extra zero\n",
        "-   $\\mu$: Mean of the count process\n",
        "-   $\\alpha$: Dispersion parameter (NB): higher = more overdispersion\n",
        "-   $\\phi$: Scaling factor in variance (Quasi-Poisson)\n"
      ]
    },
    {
      "cell_type": "markdown",
      "metadata": {
        "id": "bmbKf9dSsbKx"
      },
      "source": [
        "## Modeling Count Data  With Overdispersion in Python\n",
        "\n",
        "This notebook demonstrates how to handle overdispersion in count data using various regression models in Python. We will use the `NMES1988` dataset from the R package `AER`, which contains information on physician office visits among Medicare beneficiaries. The primary focus will be on modeling the number of visits while addressing overdispersion and excess zeros using different approaches, including Poisson regression, Negative Binomial regression, Zero-Inflated models, and Hurdle models. "
      ]
    },
    {
      "cell_type": "code",
      "execution_count": 85,
      "metadata": {},
      "outputs": [],
      "source": [
        "import pandas as pd\n",
        "import numpy as np\n",
        "import matplotlib.pyplot as plt\n",
        "import seaborn as sns\n",
        "from scipy.stats import chi2\n",
        "from sklearn.model_selection import train_test_split\n",
        "from sklearn.linear_model import LogisticRegression, PoissonRegressor\n",
        "from sklearn.metrics import mean_squared_error, mean_absolute_error\n",
        "import statsmodels.api as sm\n",
        "import statsmodels.formula.api as smf\n",
        "from statsmodels.discrete.count_model import ZeroInflatedPoisson, ZeroInflatedNegativeBinomialP\n",
        "\n",
        "# Set random seed for reproducibility\n",
        "np.random.seed(101)"
      ]
    },
    {
      "cell_type": "markdown",
      "metadata": {
        "id": "TVlnCG8O8sWg"
      },
      "source": [
        "### Data\n",
        "\n",
        "The physician office visits data set (**NMES1988**) from [AER](https://cran.r-project.org/web/packages/AER/index.html) package represents a sample of 4,406 individuals aged 66 and over who were covered by Medicare in 1988. One of the variables in the data is the number of physician `office visits`. If we want to create a model for the number of visits using some of the other variables in the dataset, we need to start by loading the data. You may also need to install the AER package.\n",
        "\n",
        "A data frame containing 4,406 observations on 19 variables. We will use following variables:\n",
        "\n",
        "-   visits- Number of physician office visits.\n",
        "-   hospital - Number of hospital stays.\n",
        "-   health - Factor indicating self-perceived health status, levels are \"poor\", \"average\" (reference category), \"excellent\".\n",
        "-   chronic - Number of chronic conditions.\n",
        "-   age - Age in years (divided by 10).\n",
        "-   afam - Factor. Is the individual African-American?\n",
        "-   gender - Factor indicating gender.\n",
        "-   married- Factor. is the individual married?\n",
        "-   school - Number of years of education.\n",
        "-   income- Family income in USD 10,000.\n",
        "-   employed - Factor. Is the individual employed?\n",
        "-   insurance- Factor. Is the individual covered by private insurance?\n",
        "-   medicaid Factor - Is the individual covered by Medicaid?\n",
        "\n",
        "We will load this dataset from my GitHub repository into a Pandas DataFrame for analysis."
      ]
    },
    {
      "cell_type": "code",
      "execution_count": 86,
      "metadata": {
        "colab": {
          "base_uri": "https://localhost:8080/"
        },
        "id": "aSEOXseH8tBx",
        "outputId": "7dca4601-e76a-455f-d96f-7e37e32b77d4"
      },
      "outputs": [
        {
          "name": "stdout",
          "output_type": "stream",
          "text": [
            "   visits  hospital   health  chronic  age afam  gender married  school  \\\n",
            "0       5         1  average        2  6.9  yes    male     yes       6   \n",
            "1       1         0  average        2  7.4   no  female     yes      10   \n",
            "2      13         3     poor        4  6.6  yes  female      no      10   \n",
            "3      16         1     poor        2  7.6   no    male     yes       3   \n",
            "4       3         0  average        2  7.9   no  female     yes       6   \n",
            "\n",
            "   income employed insurance medicaid  \n",
            "0  2.8810      yes       yes       no  \n",
            "1  2.7478       no       yes       no  \n",
            "2  0.6532       no        no      yes  \n",
            "3  0.6588       no       yes       no  \n",
            "4  0.6588       no       yes       no  \n"
          ]
        }
      ],
      "source": [
        "# Load and glimpse the dataset\n",
        "url = \"https://github.com/zia207/r-colab/raw/main/Data/Regression_analysis/NMES1988.csv\"\n",
        "NMES1988 = pd.read_csv(url)\n",
        "\n",
        "# Select relevant columns\n",
        "df = NMES1988[['visits', 'hospital', 'health', 'chronic', 'age', 'afam', 'gender', \n",
        "               'married', 'school', 'income', 'employed', 'insurance', 'medicaid']]\n",
        "print(df.head())  # Glimpse the selected data"
      ]
    },
    {
      "cell_type": "markdown",
      "metadata": {
        "id": "v7Z-lmLuyHie"
      },
      "source": [
        "### Data Description"
      ]
    },
    {
      "cell_type": "code",
      "execution_count": 87,
      "metadata": {
        "colab": {
          "base_uri": "https://localhost:8080/"
        },
        "id": "ldc_fCkKyISQ",
        "outputId": "dab53a17-4a1d-46fa-a4bc-5c7e36e2f639"
      },
      "outputs": [
        {
          "name": "stdout",
          "output_type": "stream",
          "text": [
            "Number of zeros or missing in 'visits': 683\n"
          ]
        }
      ],
      "source": [
        "# Check for zeros or missing values in 'visits'\n",
        "print(\"Number of zeros or missing in 'visits':\", (df['visits'] == 0).sum() + df['visits'].isna().sum())"
      ]
    },
    {
      "cell_type": "markdown",
      "metadata": {
        "id": "wDF8bo8MyToi"
      },
      "source": [
        "The NMES1988 dataset includes several variables. The main variable of interest for the ZIP model is `visits`- the number of physician office visits, which is a count variable and has many zeroes (n = 683), making it suitable for zero-inflated modeling."
      ]
    },
    {
      "cell_type": "code",
      "execution_count": 88,
      "metadata": {
        "colab": {
          "base_uri": "https://localhost:8080/",
          "height": 467
        },
        "id": "CBZwVXvb2q_E",
        "outputId": "a2e86df6-f4ac-4724-ef60-e5706ed98a6b"
      },
      "outputs": [
        {
          "data": {
            "image/png": "[encoded data removed]",
            "text/plain": [
              "<Figure size 550x400 with 1 Axes>"
            ]
          },
          "metadata": {},
          "output_type": "display_data"
        }
      ],
      "source": [
        "# Plot histogram of 'visits' (equivalent to R's plot(table(df$visits)))\n",
        "plt.figure(figsize=(5.5, 4))\n",
        "df['visits'].value_counts().sort_index().plot(kind='bar')\n",
        "plt.xlabel('Visits')\n",
        "plt.ylabel('Frequency')\n",
        "plt.title('Distribution of Physician Office Visits')\n",
        "plt.show()"
      ]
    },
    {
      "cell_type": "markdown",
      "metadata": {
        "id": "w5-pUqCG24QQ"
      },
      "source": [
        "### Descriptive Statistics"
      ]
    },
    {
      "cell_type": "markdown",
      "metadata": {
        "id": "eScDHS3b262r"
      },
      "source": [
        "#### Gender"
      ]
    },
    {
      "cell_type": "code",
      "execution_count": 89,
      "metadata": {
        "colab": {
          "base_uri": "https://localhost:8080/",
          "height": 497
        },
        "id": "O747pwo525BH",
        "outputId": "64a98320-3af0-4f9e-c26a-8c123aed2960"
      },
      "outputs": [
        {
          "data": {
            "image/png": "[encoded data removed]",
            "text/plain": [
              "<Figure size 500x450 with 1 Axes>"
            ]
          },
          "metadata": {},
          "output_type": "display_data"
        }
      ],
      "source": [
        "# Descriptive Statistics: Function for Standard Error\n",
        "def se(x):\n",
        "    return np.std(x, ddof=1) / np.sqrt(len(x))\n",
        "\n",
        "# Gender summary statistics\n",
        "summarise_gender = df.groupby('gender')['visits'].agg(\n",
        "    Mean=lambda x: round(x.mean(), 2),\n",
        "    Median=lambda x: round(x.median(), 2),\n",
        "    Min=lambda x: round(x.min(), 2),\n",
        "    Max=lambda x: round(x.max(), 2),\n",
        "    SD=lambda x: round(x.std(), 2),\n",
        "    SE=lambda x: round(se(x), 3)\n",
        ").reset_index()\n",
        "\n",
        "# Barplot for gender\n",
        "plt.figure(figsize=(5, 4.5))\n",
        "sns.barplot(x='gender', y='Mean', data=summarise_gender, color='gray')\n",
        "plt.errorbar(x=summarise_gender.index, y=summarise_gender['Mean'], \n",
        "             yerr=summarise_gender['SE'], fmt='none', c='black', capsize=5)\n",
        "plt.ylabel('No. of physician office visits')\n",
        "plt.xlabel('')\n",
        "plt.title('Mean ± SE')\n",
        "plt.gca().invert_xaxis()  # Equivalent to coord_flip()\n",
        "plt.show()"
      ]
    },
    {
      "cell_type": "markdown",
      "metadata": {
        "id": "tT69N3VP2_dK"
      },
      "source": [
        "#### African-American"
      ]
    },
    {
      "cell_type": "code",
      "execution_count": 90,
      "metadata": {
        "colab": {
          "base_uri": "https://localhost:8080/",
          "height": 497
        },
        "id": "GhU_bWrS2_mn",
        "outputId": "2b179a58-8e25-4791-cfdd-f31e72ae4008"
      },
      "outputs": [
        {
          "data": {
            "image/png": "[encoded data removed]",
            "text/plain": [
              "<Figure size 500x450 with 1 Axes>"
            ]
          },
          "metadata": {},
          "output_type": "display_data"
        }
      ],
      "source": [
        "# African-American summary statistics\n",
        "summarise_afam = df.groupby('afam')['visits'].agg(\n",
        "    Mean=lambda x: round(x.mean(), 2),\n",
        "    Median=lambda x: round(x.median(), 2),\n",
        "    Min=lambda x: round(x.min(), 2),\n",
        "    Max=lambda x: round(x.max(), 2),\n",
        "    SD=lambda x: round(x.std(), 2),\n",
        "    SE=lambda x: round(se(x), 3)\n",
        ").reset_index()\n",
        "\n",
        "# Barplot for afam\n",
        "plt.figure(figsize=(5, 4.5))\n",
        "sns.barplot(x='afam', y='Mean', data=summarise_afam, color='gray')\n",
        "plt.errorbar(x=summarise_afam.index, y=summarise_afam['Mean'], \n",
        "             yerr=summarise_afam['SE'], fmt='none', c='black', capsize=5)\n",
        "plt.ylabel('No. of physician office visits')\n",
        "plt.xlabel('')\n",
        "plt.title('Mean ± SE')\n",
        "plt.gca().invert_xaxis()\n",
        "plt.show()"
      ]
    },
    {
      "cell_type": "markdown",
      "metadata": {
        "id": "M7491kpG3IIk"
      },
      "source": [
        "#### Self-perceived health status"
      ]
    },
    {
      "cell_type": "code",
      "execution_count": 91,
      "metadata": {
        "colab": {
          "base_uri": "https://localhost:8080/",
          "height": 497
        },
        "id": "pz214yzO3IhW",
        "outputId": "4916ed22-560d-4504-e1e2-42d4188fc087"
      },
      "outputs": [
        {
          "data": {
            "image/png": "[encoded data removed]",
            "text/plain": [
              "<Figure size 500x450 with 1 Axes>"
            ]
          },
          "metadata": {},
          "output_type": "display_data"
        }
      ],
      "source": [
        "# Health status summary statistics\n",
        "summarise_health = df.groupby('health')['visits'].agg(\n",
        "    Mean=lambda x: round(x.mean(), 2),\n",
        "    Median=lambda x: round(x.median(), 2),\n",
        "    Min=lambda x: round(x.min(), 2),\n",
        "    Max=lambda x: round(x.max(), 2),\n",
        "    SD=lambda x: round(x.std(), 2),\n",
        "    SE=lambda x: round(se(x), 3)\n",
        ").reset_index()\n",
        "\n",
        "# Barplot for health\n",
        "plt.figure(figsize=(5, 4.5))\n",
        "sns.barplot(x='health', y='Mean', data=summarise_health, color='gray')\n",
        "plt.errorbar(x=summarise_health.index, y=summarise_health['Mean'], \n",
        "             yerr=summarise_health['SE'], fmt='none', c='black', capsize=5)\n",
        "plt.ylabel('No. of physician office visits')\n",
        "plt.xlabel('')\n",
        "plt.title('Mean ± SE')\n",
        "plt.gca().invert_xaxis()\n",
        "plt.show()"
      ]
    },
    {
      "cell_type": "markdown",
      "metadata": {
        "id": "Ns20fytL3StA"
      },
      "source": [
        "### Data Processing"
      ]
    },
    {
      "cell_type": "code",
      "execution_count": 92,
      "metadata": {
        "id": "qK9DwLoo3V72"
      },
      "outputs": [],
      "source": [
        "# Data Processing: Convert categorical variables to category type\n",
        "categorical_cols = ['afam', 'gender', 'health', 'married', 'employed', 'insurance', 'medicaid']\n",
        "for col in categorical_cols:\n",
        "    df[col] = df[col].astype('category')"
      ]
    },
    {
      "cell_type": "code",
      "execution_count": 93,
      "metadata": {
        "id": "X8RqEPkb3YL8"
      },
      "outputs": [
        {
          "name": "stderr",
          "output_type": "stream",
          "text": [
            "/tmp/ipykernel_59277/1152439590.py:4: FutureWarning: The default of observed=False is deprecated and will be changed to True in a future version of pandas. Pass observed=False to retain current behavior or observed=True to adopt the future default and silence this warning.\n",
            "  for _, group in df.groupby(['gender', 'afam']):\n"
          ]
        }
      ],
      "source": [
        "# Split data by gender and afam with fixed proportion\n",
        "tr_prop = 0.70\n",
        "train_list = []\n",
        "for _, group in df.groupby(['gender', 'afam']):\n",
        "    train_group = group.sample(frac=tr_prop, random_state=101)\n",
        "    train_list.append(train_group)\n",
        "train = pd.concat(train_list)\n",
        "test = df[~df.index.isin(train.index)]\n",
        "\n",
        "# Reset indices\n",
        "train = train.reset_index(drop=True)\n",
        "test = test.reset_index(drop=True)"
      ]
    },
    {
      "cell_type": "markdown",
      "metadata": {
        "id": "WpPJatAr8yD8"
      },
      "source": [
        "### Check Mean and Variance for Overdispersion\n",
        "\n",
        "To check for **overdispersion** or **underdispersion** in count data, you can compare the **variance** and **mean** of the response variable (i.e., the count data). Here's how to check for overdispersion and underdispersion:\n",
        "\n",
        "-   **Poisson Distribution Assumption**: In a standard Poisson model, the mean and variance of the count variable are equal. That is:\n",
        "\n",
        "    $$ E(Y) = \\text{mean} = \\lambda, \\quad \\text{Var}(Y) = \\lambda $$\n",
        "\n",
        "-   **Overdispersion**: Occurs when the variance is greater than the mean: $$ \\text{Var}(Y) > E(Y) $$\n",
        "\n",
        "-   **Underdispersion**: Occurs when the variance is smaller than the mean: $$ text{Var}(Y) < E(Y) $$"
      ]
    },
    {
      "cell_type": "code",
      "execution_count": 94,
      "metadata": {
        "colab": {
          "base_uri": "https://localhost:8080/"
        },
        "id": "RDGxuw2t81NN",
        "outputId": "b4fcef9a-f732-4fcc-ff5a-566a98d34508"
      },
      "outputs": [
        {
          "name": "stdout",
          "output_type": "stream",
          "text": [
            "Mean of visits (train): 5.857698541329011\n",
            "Variance of visits (train): 46.5300031321801\n",
            ">> Overdispersion detected (var > mean)\n"
          ]
        }
      ],
      "source": [
        "# Check Overdispersion\n",
        "mean_visits = train['visits'].mean()\n",
        "var_visits = train['visits'].var()\n",
        "print(f\"Mean of visits (train): {mean_visits}\")\n",
        "print(f\"Variance of visits (train): {var_visits}\")\n",
        "if var_visits > mean_visits:\n",
        "    print(\">> Overdispersion detected (var > mean)\")"
      ]
    },
    {
      "cell_type": "code",
      "execution_count": 95,
      "metadata": {},
      "outputs": [],
      "source": [
        "# Prepare data for models (dummy encode categorical variables)\n",
        "model_formula = 'visits ~ hospital + C(health) + chronic + age + C(afam) + C(gender) + C(married) + school + income + C(employed) + C(insurance) + C(medicaid)'\n",
        "train_encoded = train.copy()\n",
        "test_encoded = test.copy()\n",
        "\n",
        "# Prepare numerical features for ZIP and ZINB models\n",
        "numerical_cols = ['hospital', 'chronic', 'age', 'school', 'income']\n",
        "train_num = sm.add_constant(train[numerical_cols])\n",
        "test_num = sm.add_constant(test[numerical_cols])\n",
        "\n",
        "# Prepare dummy-encoded features for hurdle models (all features)\n",
        "train_hurdle = pd.get_dummies(train, columns=categorical_cols, drop_first=True)\n",
        "test_hurdle = pd.get_dummies(test, columns=categorical_cols, drop_first=True)\n",
        "# Ensure column consistency between train and test\n",
        "missing_cols = set(train_hurdle.columns) - set(test_hurdle.columns)\n",
        "for col in missing_cols:\n",
        "    test_hurdle[col] = 0\n",
        "test_hurdle = test_hurdle[train_hurdle.columns]  # Align column order\n",
        "hurdle_cols = [col for col in train_hurdle.columns if col not in ['visits']]\n",
        "\n",
        "# Ensure all columns in hurdle_cols are numeric\n",
        "train_hurdle[hurdle_cols] = train_hurdle[hurdle_cols].apply(pd.to_numeric, errors='coerce')\n",
        "test_hurdle[hurdle_cols] = test_hurdle[hurdle_cols].apply(pd.to_numeric, errors='coerce')\n",
        "if train_hurdle[hurdle_cols].isna().any().any():\n",
        "    print(\"Warning: NaNs detected in train_hurdle. Filling with 0.\")\n",
        "    train_hurdle[hurdle_cols] = train_hurdle[hurdle_cols].fillna(0)\n",
        "if test_hurdle[hurdle_cols].isna().any().any():\n",
        "    print(\"Warning: NaNs detected in test_hurdle. Filling with 0.\")\n",
        "    test_hurdle[hurdle_cols] = test_hurdle[hurdle_cols].fillna(0)"
      ]
    },
    {
      "cell_type": "markdown",
      "metadata": {
        "id": "XZvhmbjk3hgE"
      },
      "source": [
        "### Fit a Poisson Regression Model"
      ]
    },
    {
      "cell_type": "code",
      "execution_count": 96,
      "metadata": {
        "colab": {
          "base_uri": "https://localhost:8080/"
        },
        "id": "O1ga9A6m3iO2",
        "outputId": "3b793685-b657-4c97-a896-0c161bd5ed62"
      },
      "outputs": [
        {
          "name": "stdout",
          "output_type": "stream",
          "text": [
            "                 Generalized Linear Model Regression Results                  \n",
            "==============================================================================\n",
            "Dep. Variable:                 visits   No. Observations:                 3085\n",
            "Model:                            GLM   Df Residuals:                     3071\n",
            "Model Family:                 Poisson   Df Model:                           13\n",
            "Link Function:                    Log   Scale:                          1.0000\n",
            "Method:                          IRLS   Log-Likelihood:                -12572.\n",
            "Date:                Wed, 13 Aug 2025   Deviance:                       16123.\n",
            "Time:                        16:39:28   Pearson chi2:                 2.04e+04\n",
            "No. Iterations:                     5   Pseudo R-squ. (CS):             0.6099\n",
            "Covariance Type:            nonrobust                                         \n",
            "==========================================================================================\n",
            "                             coef    std err          z      P>|z|      [0.025      0.975]\n",
            "------------------------------------------------------------------------------------------\n",
            "Intercept                  1.0466      0.101     10.413      0.000       0.850       1.244\n",
            "C(health)[T.excellent]    -0.4188      0.038    -11.106      0.000      -0.493      -0.345\n",
            "C(health)[T.poor]          0.2411      0.021     11.355      0.000       0.200       0.283\n",
            "C(afam)[T.yes]            -0.0853      0.027     -3.196      0.001      -0.138      -0.033\n",
            "C(gender)[T.male]         -0.0761      0.017     -4.497      0.000      -0.109      -0.043\n",
            "C(married)[T.yes]         -0.0208      0.018     -1.183      0.237      -0.055       0.014\n",
            "C(employed)[T.yes]         0.0246      0.026      0.931      0.352      -0.027       0.076\n",
            "C(insurance)[T.yes]        0.2853      0.023     12.178      0.000       0.239       0.331\n",
            "C(medicaid)[T.yes]         0.3607      0.029     12.269      0.000       0.303       0.418\n",
            "hospital                   0.1484      0.007     20.861      0.000       0.134       0.162\n",
            "chronic                    0.1535      0.005     28.339      0.000       0.143       0.164\n",
            "age                       -0.0250      0.012     -2.018      0.044      -0.049      -0.001\n",
            "school                     0.0324      0.002     14.160      0.000       0.028       0.037\n",
            "income                     0.0036      0.003      1.369      0.171      -0.002       0.009\n",
            "==========================================================================================\n"
          ]
        }
      ],
      "source": [
        "# Fit Poisson Regression Model\n",
        "pois_mod = smf.glm(formula=model_formula, data=train_encoded, family=sm.families.Poisson()).fit()\n",
        "print(pois_mod.summary())"
      ]
    },
    {
      "cell_type": "code",
      "execution_count": 97,
      "metadata": {
        "colab": {
          "base_uri": "https://localhost:8080/"
        },
        "id": "7b1m-PqA3rru",
        "outputId": "4ff2b8d0-07f6-4faf-895a-d64779fc5e2e"
      },
      "outputs": [
        {
          "name": "stdout",
          "output_type": "stream",
          "text": [
            "Pearson Chi-Squared / DF (Overdispersion): 6.653389570891969\n",
            ">> Significant overdispersion\n"
          ]
        }
      ],
      "source": [
        "# Check Overdispersion\n",
        "pearson_chi2 = np.sum(pois_mod.pearson_chi2 / pois_mod.df_resid)\n",
        "print(f\"Pearson Chi-Squared / DF (Overdispersion): {pearson_chi2}\")\n",
        "if pearson_chi2 > 1.5:\n",
        "    print(\">> Significant overdispersion\")"
      ]
    },
    {
      "cell_type": "markdown",
      "metadata": {
        "id": "4Omwkarr3_Mk"
      },
      "source": [
        "### Fit Quasi Poisson Model\n"
      ]
    },
    {
      "cell_type": "code",
      "execution_count": 98,
      "metadata": {
        "colab": {
          "base_uri": "https://localhost:8080/"
        },
        "id": "Q1HjWuzm3_06",
        "outputId": "70acdbe2-7d0c-4d87-a012-29750e41c007"
      },
      "outputs": [
        {
          "name": "stdout",
          "output_type": "stream",
          "text": [
            "Quasi-Poisson model fitted (no AIC due to quasi-likelihood)\n",
            "                 Generalized Linear Model Regression Results                  \n",
            "==============================================================================\n",
            "Dep. Variable:                 visits   No. Observations:                 3085\n",
            "Model:                            GLM   Df Residuals:                     3071\n",
            "Model Family:                 Poisson   Df Model:                           13\n",
            "Link Function:                    Log   Scale:                          1.0000\n",
            "Method:                          IRLS   Log-Likelihood:                -12572.\n",
            "Date:                Wed, 13 Aug 2025   Deviance:                       16123.\n",
            "Time:                        16:39:28   Pearson chi2:                 2.04e+04\n",
            "No. Iterations:                     5   Pseudo R-squ. (CS):             0.6099\n",
            "Covariance Type:            nonrobust                                         \n",
            "==========================================================================================\n",
            "                             coef    std err          z      P>|z|      [0.025      0.975]\n",
            "------------------------------------------------------------------------------------------\n",
            "Intercept                  1.0466      0.101     10.413      0.000       0.850       1.244\n",
            "C(health)[T.excellent]    -0.4188      0.038    -11.106      0.000      -0.493      -0.345\n",
            "C(health)[T.poor]          0.2411      0.021     11.355      0.000       0.200       0.283\n",
            "C(afam)[T.yes]            -0.0853      0.027     -3.196      0.001      -0.138      -0.033\n",
            "C(gender)[T.male]         -0.0761      0.017     -4.497      0.000      -0.109      -0.043\n",
            "C(married)[T.yes]         -0.0208      0.018     -1.183      0.237      -0.055       0.014\n",
            "C(employed)[T.yes]         0.0246      0.026      0.931      0.352      -0.027       0.076\n",
            "C(insurance)[T.yes]        0.2853      0.023     12.178      0.000       0.239       0.331\n",
            "C(medicaid)[T.yes]         0.3607      0.029     12.269      0.000       0.303       0.418\n",
            "hospital                   0.1484      0.007     20.861      0.000       0.134       0.162\n",
            "chronic                    0.1535      0.005     28.339      0.000       0.143       0.164\n",
            "age                       -0.0250      0.012     -2.018      0.044      -0.049      -0.001\n",
            "school                     0.0324      0.002     14.160      0.000       0.028       0.037\n",
            "income                     0.0036      0.003      1.369      0.171      -0.002       0.009\n",
            "==========================================================================================\n"
          ]
        }
      ],
      "source": [
        "# Fit Quasi-Poisson Model (approximated)\n",
        "quasi_pois_mod = smf.glm(formula=model_formula, data=train_encoded, family=sm.families.Poisson()).fit()\n",
        "dispersion = quasi_pois_mod.pearson_chi2 / quasi_pois_mod.df_resid\n",
        "print(\"Quasi-Poisson model fitted (no AIC due to quasi-likelihood)\")\n",
        "print(quasi_pois_mod.summary())"
      ]
    },
    {
      "cell_type": "markdown",
      "metadata": {
        "id": "2IOvmQJZ4G6n"
      },
      "source": [
        "### Fit Negative Binomial Model\n",
        "\n"
      ]
    },
    {
      "cell_type": "code",
      "execution_count": 99,
      "metadata": {
        "colab": {
          "base_uri": "https://localhost:8080/"
        },
        "id": "Ig8IwaKG4HW0",
        "outputId": "ae3c73b7-c720-4569-a56d-7d8f0a3e269f"
      },
      "outputs": [
        {
          "name": "stdout",
          "output_type": "stream",
          "text": [
            "                 Generalized Linear Model Regression Results                  \n",
            "==============================================================================\n",
            "Dep. Variable:                 visits   No. Observations:                 3085\n",
            "Model:                            GLM   Df Residuals:                     3071\n",
            "Model Family:        NegativeBinomial   Df Model:                           13\n",
            "Link Function:                    Log   Scale:                          1.0000\n",
            "Method:                          IRLS   Log-Likelihood:                -8560.2\n",
            "Date:                Wed, 13 Aug 2025   Deviance:                       3045.2\n",
            "Time:                        16:39:29   Pearson chi2:                 3.23e+03\n",
            "No. Iterations:                     8   Pseudo R-squ. (CS):             0.1373\n",
            "Covariance Type:            nonrobust                                         \n",
            "==========================================================================================\n",
            "                             coef    std err          z      P>|z|      [0.025      0.975]\n",
            "------------------------------------------------------------------------------------------\n",
            "Intercept                  0.7608      0.263      2.895      0.004       0.246       1.276\n",
            "C(health)[T.excellent]    -0.3967      0.081     -4.897      0.000      -0.555      -0.238\n",
            "C(health)[T.poor]          0.2884      0.063      4.574      0.000       0.165       0.412\n",
            "C(afam)[T.yes]            -0.0726      0.067     -1.080      0.280      -0.204       0.059\n",
            "C(gender)[T.male]         -0.0745      0.044     -1.687      0.092      -0.161       0.012\n",
            "C(married)[T.yes]         -0.0155      0.046     -0.334      0.738      -0.106       0.075\n",
            "C(employed)[T.yes]         0.0221      0.068      0.326      0.744      -0.111       0.155\n",
            "C(insurance)[T.yes]        0.3257      0.058      5.606      0.000       0.212       0.440\n",
            "C(medicaid)[T.yes]         0.3686      0.080      4.597      0.000       0.211       0.526\n",
            "hospital                   0.2067      0.026      7.955      0.000       0.156       0.258\n",
            "chronic                    0.1807      0.016     11.622      0.000       0.150       0.211\n",
            "age                       -0.0033      0.033     -0.101      0.919      -0.067       0.061\n",
            "school                     0.0327      0.006      5.519      0.000       0.021       0.044\n",
            "income                     0.0057      0.007      0.780      0.435      -0.009       0.020\n",
            "==========================================================================================\n"
          ]
        },
        {
          "name": "stderr",
          "output_type": "stream",
          "text": [
            "/home/zia207/.local/lib/python3.10/site-packages/statsmodels/genmod/families/family.py:1367: ValueWarning: Negative binomial dispersion parameter alpha not set. Using default value alpha=1.0.\n",
            "  warnings.warn(\"Negative binomial dispersion parameter alpha not \"\n"
          ]
        }
      ],
      "source": [
        "# Fit Negative Binomial Model\n",
        "nb_mod = smf.glm(formula=model_formula, data=train_encoded, family=sm.families.NegativeBinomial()).fit()\n",
        "print(nb_mod.summary())"
      ]
    },
    {
      "cell_type": "markdown",
      "metadata": {
        "id": "R1dvjyyz4Tlf"
      },
      "source": [
        "### Fit Zero-Inflated  Poisson (ZIP) Model\n",
        "\n"
      ]
    },
    {
      "cell_type": "code",
      "execution_count": 100,
      "metadata": {
        "colab": {
          "base_uri": "https://localhost:8080/"
        },
        "id": "4gV2glAN4T1q",
        "outputId": "e4ee2995-4a45-4273-c259-b0962917d7c9"
      },
      "outputs": [
        {
          "name": "stdout",
          "output_type": "stream",
          "text": [
            "Optimization terminated successfully.\n",
            "         Current function value: 3.762609\n",
            "         Iterations: 40\n",
            "         Function evaluations: 48\n",
            "         Gradient evaluations: 48\n",
            "                     ZeroInflatedPoisson Regression Results                    \n",
            "===============================================================================\n",
            "Dep. Variable:                  visits   No. Observations:                 3085\n",
            "Model:             ZeroInflatedPoisson   Df Residuals:                     3079\n",
            "Method:                            MLE   Df Model:                            5\n",
            "Date:                 Wed, 13 Aug 2025   Pseudo R-squ.:                 0.06641\n",
            "Time:                         16:39:29   Log-Likelihood:                -11608.\n",
            "converged:                        True   LL-Null:                       -12433.\n",
            "Covariance Type:             nonrobust   LLR p-value:                     0.000\n",
            "====================================================================================\n",
            "                       coef    std err          z      P>|z|      [0.025      0.975]\n",
            "------------------------------------------------------------------------------------\n",
            "inflate_const        1.1533      0.684      1.686      0.092      -0.188       2.494\n",
            "inflate_hospital    -0.3454      0.116     -2.982      0.003      -0.572      -0.118\n",
            "inflate_chronic     -0.5372      0.054    -10.010      0.000      -0.642      -0.432\n",
            "inflate_age         -0.1767      0.088     -2.008      0.045      -0.349      -0.004\n",
            "inflate_school      -0.0813      0.015     -5.562      0.000      -0.110      -0.053\n",
            "inflate_income      -0.0305      0.024     -1.273      0.203      -0.077       0.016\n",
            "const                1.6445      0.096     17.105      0.000       1.456       1.833\n",
            "hospital             0.1582      0.007     22.588      0.000       0.144       0.172\n",
            "chronic              0.1375      0.005     26.538      0.000       0.127       0.148\n",
            "age                 -0.0339      0.012     -2.786      0.005      -0.058      -0.010\n",
            "school               0.0211      0.002      9.732      0.000       0.017       0.025\n",
            "income              -0.0027      0.003     -1.010      0.313      -0.008       0.003\n",
            "====================================================================================\n"
          ]
        }
      ],
      "source": [
        "# Fit Zero-Inflated Poisson (ZIP) Model\n",
        "zip_mod = ZeroInflatedPoisson(endog=train['visits'], exog=train_num, \n",
        "                              exog_infl=train_num, inflation='logit').fit(maxiter=100)\n",
        "print(zip_mod.summary())"
      ]
    },
    {
      "cell_type": "markdown",
      "metadata": {
        "id": "Y65G8n4f4g7U"
      },
      "source": [
        "### Fit Zero-Inflated Negative Binomial (ZINB) Model\n",
        "\n"
      ]
    },
    {
      "cell_type": "code",
      "execution_count": 101,
      "metadata": {
        "colab": {
          "base_uri": "https://localhost:8080/"
        },
        "id": "X7gM65JX4h8E",
        "outputId": "a7d6a03f-3291-4679-d9ca-418f5fd496f0"
      },
      "outputs": [
        {
          "name": "stdout",
          "output_type": "stream",
          "text": [
            "Optimization terminated successfully.\n",
            "         Current function value: 2.768156\n",
            "         Iterations: 59\n",
            "         Function evaluations: 65\n",
            "         Gradient evaluations: 65\n",
            "                     ZeroInflatedNegativeBinomialP Regression Results                    \n",
            "=========================================================================================\n",
            "Dep. Variable:                            visits   No. Observations:                 3085\n",
            "Model:             ZeroInflatedNegativeBinomialP   Df Residuals:                     3079\n",
            "Method:                                      MLE   Df Model:                            5\n",
            "Date:                           Wed, 13 Aug 2025   Pseudo R-squ.:                 0.02822\n",
            "Time:                                   16:39:32   Log-Likelihood:                -8539.8\n",
            "converged:                                  True   LL-Null:                       -8787.7\n",
            "Covariance Type:                       nonrobust   LLR p-value:                5.918e-105\n",
            "====================================================================================\n",
            "                       coef    std err          z      P>|z|      [0.025      0.975]\n",
            "------------------------------------------------------------------------------------\n",
            "inflate_const        5.1007      1.930      2.643      0.008       1.319       8.883\n",
            "inflate_hospital    -8.5794     42.224     -0.203      0.839     -91.337      74.178\n",
            "inflate_chronic     -1.7039      0.338     -5.043      0.000      -2.366      -1.042\n",
            "inflate_age         -0.6372      0.253     -2.519      0.012      -1.133      -0.141\n",
            "inflate_school      -0.1756      0.036     -4.906      0.000      -0.246      -0.105\n",
            "inflate_income      -0.1034      0.100     -1.038      0.299      -0.299       0.092\n",
            "const                1.4172      0.233      6.084      0.000       0.961       1.874\n",
            "hospital             0.2122      0.024      8.663      0.000       0.164       0.260\n",
            "chronic              0.1700      0.014     12.159      0.000       0.143       0.197\n",
            "age                 -0.0299      0.029     -1.019      0.308      -0.087       0.028\n",
            "school               0.0223      0.005      4.484      0.000       0.013       0.032\n",
            "income           -9.279e-05      0.006     -0.015      0.988      -0.012       0.012\n",
            "alpha                0.7243      0.028     25.612      0.000       0.669       0.780\n",
            "====================================================================================\n"
          ]
        }
      ],
      "source": [
        "## Fit Zero-Inflated Negative Binomial (ZINB) Model\n",
        "zinb_mod = ZeroInflatedNegativeBinomialP(endog=train['visits'], exog=train_num, \n",
        "                                         exog_infl=train_num, inflation='logit').fit(maxiter=100)\n",
        "print(zinb_mod.summary())"
      ]
    },
    {
      "cell_type": "markdown",
      "metadata": {
        "id": "KZ7_I1Oc4n1v"
      },
      "source": [
        "### Fit Hurdle Models\n",
        "\n",
        "First we fit a Hurdle Poisson model, which assumes that the count data follows a Poisson distribution for positive counts and a binary model for the zero counts. Then we fit a Hurdle Negative Binomial model, which allows for overdispersion in the count data while still modeling the excess zeros separately."
      ]
    },
    {
      "cell_type": "markdown",
      "metadata": {},
      "source": [
        "#### Fit Hurdle Poisson Model"
      ]
    },
    {
      "cell_type": "code",
      "execution_count": 102,
      "metadata": {
        "colab": {
          "base_uri": "https://localhost:8080/"
        },
        "id": "_dsx5PzJ4o9s",
        "outputId": "06d11ddd-89fc-4b2f-fffc-0118dcec967a"
      },
      "outputs": [
        {
          "name": "stdout",
          "output_type": "stream",
          "text": [
            "                 Generalized Linear Model Regression Results                  \n",
            "==============================================================================\n",
            "Dep. Variable:                 visits   No. Observations:                 2631\n",
            "Model:                            GLM   Df Residuals:                     2617\n",
            "Model Family:                 Poisson   Df Model:                           13\n",
            "Link Function:                    Log   Scale:                          1.0000\n",
            "Method:                          IRLS   Log-Likelihood:                -10250.\n",
            "Date:                Wed, 13 Aug 2025   Deviance:                       11479.\n",
            "Time:                        16:39:32   Pearson chi2:                 1.55e+04\n",
            "No. Iterations:                     5   Pseudo R-squ. (CS):             0.4943\n",
            "Covariance Type:            nonrobust                                         \n",
            "====================================================================================\n",
            "                       coef    std err          z      P>|z|      [0.025      0.975]\n",
            "------------------------------------------------------------------------------------\n",
            "const                1.5648      0.103     15.207      0.000       1.363       1.767\n",
            "hospital             0.1393      0.007     19.265      0.000       0.125       0.154\n",
            "chronic              0.1099      0.006     19.824      0.000       0.099       0.121\n",
            "age                 -0.0443      0.013     -3.524      0.000      -0.069      -0.020\n",
            "school               0.0266      0.002     11.496      0.000       0.022       0.031\n",
            "income               0.0024      0.003      0.904      0.366      -0.003       0.008\n",
            "afam_yes            -0.0242      0.027     -0.903      0.366      -0.077       0.028\n",
            "gender_male         -0.0225      0.017     -1.316      0.188      -0.056       0.011\n",
            "health_excellent    -0.3692      0.038     -9.765      0.000      -0.443      -0.295\n",
            "health_poor          0.2424      0.021     11.489      0.000       0.201       0.284\n",
            "married_yes         -0.0376      0.018     -2.118      0.034      -0.072      -0.003\n",
            "employed_yes         0.0303      0.026      1.142      0.254      -0.022       0.082\n",
            "insurance_yes        0.1595      0.024      6.659      0.000       0.113       0.206\n",
            "medicaid_yes         0.2798      0.030      9.333      0.000       0.221       0.339\n",
            "====================================================================================\n"
          ]
        }
      ],
      "source": [
        "# Fit Hurdle Poisson Model\n",
        "# Part 1: Binary classifier (zero vs. positive) using LogisticRegression\n",
        "train_binary = (train['visits'] > 0).astype(int)\n",
        "log_reg = LogisticRegression(max_iter=1000)\n",
        "log_reg.fit(train_hurdle[hurdle_cols], train_binary)\n",
        "\n",
        "# Part 2: Poisson model for positive counts\n",
        "train_positive = train[train['visits'] > 0].copy()\n",
        "train_positive_hurdle = train_hurdle[train['visits'] > 0].copy()\n",
        "# Ensure all columns are numeric\n",
        "train_positive_hurdle[hurdle_cols] = train_positive_hurdle[hurdle_cols].apply(pd.to_numeric, errors='coerce')\n",
        "# Add constant for statsmodels\n",
        "train_positive_hurdle_const = sm.add_constant(train_positive_hurdle[hurdle_cols])\n",
        "# Verify no NaNs in input data\n",
        "if train_positive_hurdle_const.isna().any().any():\n",
        "    print(\"Warning: NaNs detected in train_positive_hurdle_const. Filling with 0.\")\n",
        "    train_positive_hurdle_const = train_positive_hurdle_const.fillna(0)\n",
        "\n",
        "# Ensure purely numeric (float) exog to avoid dtype=object issues in statsmodels\n",
        "train_positive_hurdle_const = train_positive_hurdle_const.astype(float)\n",
        "\n",
        "pois_hurdle_mod = sm.GLM(train_positive['visits'], train_positive_hurdle_const, \n",
        "                         family=sm.families.Poisson()).fit()\n",
        "print(pois_hurdle_mod.summary())"
      ]
    },
    {
      "cell_type": "code",
      "execution_count": 103,
      "metadata": {
        "colab": {
          "base_uri": "https://localhost:8080/"
        },
        "id": "Pr2GOhFp4uRz",
        "outputId": "92a919a8-ecb6-4dee-b7eb-7429c223d590"
      },
      "outputs": [
        {
          "name": "stdout",
          "output_type": "stream",
          "text": [
            "                 Generalized Linear Model Regression Results                  \n",
            "==============================================================================\n",
            "Dep. Variable:                 visits   No. Observations:                 2631\n",
            "Model:                            GLM   Df Residuals:                     2617\n",
            "Model Family:        NegativeBinomial   Df Model:                           13\n",
            "Link Function:                    Log   Scale:                          1.0000\n",
            "Method:                          IRLS   Log-Likelihood:                -7768.5\n",
            "Date:                Wed, 13 Aug 2025   Deviance:                       1461.7\n",
            "Time:                        16:39:32   Pearson chi2:                 2.02e+03\n",
            "No. Iterations:                     7   Pseudo R-squ. (CS):            0.08383\n",
            "Covariance Type:            nonrobust                                         \n",
            "====================================================================================\n",
            "                       coef    std err          z      P>|z|      [0.025      0.975]\n",
            "------------------------------------------------------------------------------------\n",
            "const                1.4667      0.287      5.102      0.000       0.903       2.030\n",
            "hospital             0.1781      0.027      6.592      0.000       0.125       0.231\n",
            "chronic              0.1197      0.017      7.225      0.000       0.087       0.152\n",
            "age                 -0.0364      0.035     -1.034      0.301      -0.105       0.033\n",
            "school               0.0246      0.006      3.810      0.000       0.012       0.037\n",
            "income               0.0034      0.008      0.440      0.660      -0.012       0.018\n",
            "afam_yes            -0.0142      0.074     -0.191      0.848      -0.160       0.132\n",
            "gender_male         -0.0062      0.048     -0.130      0.896      -0.100       0.087\n",
            "health_excellent    -0.3441      0.089     -3.877      0.000      -0.518      -0.170\n",
            "health_poor          0.2696      0.066      4.087      0.000       0.140       0.399\n",
            "married_yes         -0.0421      0.050     -0.845      0.398      -0.140       0.056\n",
            "employed_yes         0.0220      0.073      0.301      0.764      -0.121       0.165\n",
            "insurance_yes        0.1789      0.065      2.750      0.006       0.051       0.306\n",
            "medicaid_yes         0.2680      0.087      3.064      0.002       0.097       0.440\n",
            "====================================================================================\n"
          ]
        },
        {
          "name": "stderr",
          "output_type": "stream",
          "text": [
            "/home/zia207/.local/lib/python3.10/site-packages/statsmodels/genmod/families/family.py:1367: ValueWarning: Negative binomial dispersion parameter alpha not set. Using default value alpha=1.0.\n",
            "  warnings.warn(\"Negative binomial dispersion parameter alpha not \"\n"
          ]
        }
      ],
      "source": [
        "# Fit Hurdle Negative Binomial Model\n",
        "nb_hurdle_mod = sm.GLM(train_positive['visits'], train_positive_hurdle_const, \n",
        "                       family=sm.families.NegativeBinomial()).fit()\n",
        "print(nb_hurdle_mod.summary())"
      ]
    },
    {
      "cell_type": "code",
      "execution_count": 104,
      "metadata": {},
      "outputs": [],
      "source": [
        "# Custom prediction function for hurdle models\n",
        "def hurdle_predict(binary_model, count_model, data, cols):\n",
        "    try:\n",
        "        # Ensure data is numeric and convert to NumPy array\n",
        "        data_numeric = data[cols].apply(pd.to_numeric, errors='coerce').fillna(0).values\n",
        "        data_const = sm.add_constant(data_numeric, has_constant='add')\n",
        "        # Predict probability of positive counts\n",
        "        prob_positive = binary_model.predict_proba(data_numeric)[:, 1]\n",
        "        # Predict counts for positive cases\n",
        "        count_pred = count_model.predict(data_const)\n",
        "        # Check for invalid values\n",
        "        if np.any(np.isnan(prob_positive)) or np.any(np.isinf(prob_positive)):\n",
        "            print(\"Warning: Invalid prob_positive values in hurdle_predict\")\n",
        "            prob_positive = np.nan_to_num(prob_positive, nan=0.0, posinf=0.0, neginf=0.0)\n",
        "        if np.any(np.isnan(count_pred)) or np.any(np.isinf(count_pred)):\n",
        "            print(\"Warning: Invalid count_pred values in hurdle_predict\")\n",
        "            count_pred = np.nan_to_num(count_pred, nan=0.0, posinf=0.0, neginf=0.0)\n",
        "        # Combine predictions\n",
        "        return prob_positive * count_pred\n",
        "    except Exception as e:\n",
        "        print(f\"Error in hurdle_predict: {e}\")\n",
        "        return np.full(len(data), np.nan)"
      ]
    },
    {
      "cell_type": "markdown",
      "metadata": {
        "id": "feG7tfSJ4yEw"
      },
      "source": [
        "\n",
        "### Model Comparison: AIC and Likelihood Ratio Test (LRT)"
      ]
    },
    {
      "cell_type": "code",
      "execution_count": 105,
      "metadata": {
        "colab": {
          "base_uri": "https://localhost:8080/"
        },
        "id": "2vOpgNi040mR",
        "outputId": "026a75c6-2cb0-4379-8526-ecd7db8e5e2d"
      },
      "outputs": [
        {
          "name": "stdout",
          "output_type": "stream",
          "text": [
            "AIC Values:\n",
            "Poisson        25172.16\n",
            "NB             17148.44\n",
            "ZIP            23239.29\n",
            "ZINB           17105.52\n",
            "Hurdle_Pois    22867.84\n",
            "Hurdle_NB      17904.14\n",
            "dtype: float64\n"
          ]
        }
      ],
      "source": [
        "# Model Comparison: AIC and Likelihood Ratio Test\n",
        "models = {\n",
        "    'Poisson': pois_mod,\n",
        "    'NB': nb_mod,\n",
        "    'ZIP': zip_mod,\n",
        "    'ZINB': zinb_mod,\n",
        "    'Hurdle_Pois': (log_reg, pois_hurdle_mod),\n",
        "    'Hurdle_NB': (log_reg, nb_hurdle_mod)\n",
        "}\n",
        "\n",
        "aic_values = {}\n",
        "for name, model in models.items():\n",
        "    if name in ['Hurdle_Pois', 'Hurdle_NB']:\n",
        "        # Approximate AIC for hurdle models\n",
        "        binary_loglik = np.sum(log_reg.predict_log_proba(train_hurdle[hurdle_cols].apply(pd.to_numeric, errors='coerce').fillna(0))[np.arange(len(train_binary)), train_binary])\n",
        "        count_mod = model[1]\n",
        "        aic_values[name] = 2 * (count_mod.df_model + len(log_reg.coef_[0]) + 2) - 2 * (count_mod.llf + binary_loglik)\n",
        "    else:\n",
        "        aic_values[name] = model.aic\n",
        "print(\"AIC Values:\")\n",
        "print(pd.Series(aic_values).round(2))"
      ]
    },
    {
      "cell_type": "code",
      "execution_count": 106,
      "metadata": {
        "colab": {
          "base_uri": "https://localhost:8080/"
        },
        "id": "0OKUwNol481W",
        "outputId": "cb5c08ac-c52e-416d-eabc-6d473043f742"
      },
      "outputs": [
        {
          "name": "stdout",
          "output_type": "stream",
          "text": [
            "Likelihood Ratio Test: Poisson vs Negative Binomial\n",
            "LR Statistic: 8023.728\n",
            "p-value: nan\n",
            ">> Poisson model sufficient (no significant overdispersion)\n"
          ]
        }
      ],
      "source": [
        "# Likelihood Ratio Test: Poisson vs Negative Binomial\n",
        "ll_pois = pois_mod.llf\n",
        "ll_nb = nb_mod.llf\n",
        "dof = nb_mod.df_model - pois_mod.df_model\n",
        "lrt_stat = 2 * (ll_nb - ll_pois)\n",
        "p_val = chi2.sf(lrt_stat, df=dof)\n",
        "print(\"Likelihood Ratio Test: Poisson vs Negative Binomial\")\n",
        "print(f\"LR Statistic: {lrt_stat:.3f}\")\n",
        "print(f\"p-value: {p_val:.3e}\")\n",
        "if p_val < 0.05:\n",
        "    print(\">> Reject Poisson in favor of Negative Binomial (overdispersion present)\")\n",
        "else:\n",
        "    print(\">> Poisson model sufficient (no significant overdispersion)\")"
      ]
    },
    {
      "cell_type": "markdown",
      "metadata": {
        "id": "GesU-ndg5CF9"
      },
      "source": [
        "### Model Performance Metrics\n",
        "\n"
      ]
    },
    {
      "cell_type": "code",
      "execution_count": 107,
      "metadata": {},
      "outputs": [
        {
          "name": "stdout",
          "output_type": "stream",
          "text": [
            "Warning: Failed to compute PseudoR2 for ZIP: 'ZeroInflatedPoissonResults' object has no attribute 'family'\n",
            "Warning: Failed to compute PseudoR2 for ZINB: 'ZeroInflatedNegativeBinomialResults' object has no attribute 'family'\n",
            "Error in hurdle_predict: loop of ufunc does not support argument 0 of type float which has no callable exp method\n",
            "Warning: Invalid predictions (NaN or Inf) detected for model Hurdle_Pois\n",
            "Error in hurdle_predict: loop of ufunc does not support argument 0 of type float which has no callable exp method\n",
            "Warning: Invalid predictions (NaN or Inf) detected for model Hurdle_NB\n",
            "\n",
            "=== Model Performance Metrics ===\n",
            "         Model        AIC     LogLik   RMSE    MAE  PseudoR2\n",
            "0      Poisson  25172.165 -12572.082  6.433  4.143     0.104\n",
            "1           NB  17148.437  -8560.218  6.684  4.201     0.026\n",
            "2          ZIP  23239.294 -11607.647  6.474  4.197       NaN\n",
            "3         ZINB  17105.525  -8539.762  6.586  4.218       NaN\n",
            "4  Hurdle_Pois  22867.842        NaN    NaN    NaN       NaN\n",
            "5    Hurdle_NB  17904.144        NaN    NaN    NaN       NaN\n"
          ]
        },
        {
          "name": "stderr",
          "output_type": "stream",
          "text": [
            "/home/zia207/.local/lib/python3.10/site-packages/sklearn/utils/validation.py:2749: UserWarning: X does not have valid feature names, but LogisticRegression was fitted with feature names\n",
            "  warnings.warn(\n",
            "/home/zia207/.local/lib/python3.10/site-packages/sklearn/utils/validation.py:2749: UserWarning: X does not have valid feature names, but LogisticRegression was fitted with feature names\n",
            "  warnings.warn(\n"
          ]
        }
      ],
      "source": [
        "# Model Performance Metrics\n",
        "perf_stats = pd.DataFrame({\n",
        "    'Model': list(models.keys()),\n",
        "    'AIC': [aic_values[name] for name in models.keys()],\n",
        "    'LogLik': [np.nan] * len(models),\n",
        "    'RMSE': [np.nan] * len(models),\n",
        "    'MAE': [np.nan] * len(models),\n",
        "    'PseudoR2': [np.nan] * len(models)\n",
        "})\n",
        "\n",
        "for i, (name, model) in enumerate(models.items()):\n",
        "    try:\n",
        "        if name in ['Poisson', 'NB']:\n",
        "            pred = model.predict(train_encoded)\n",
        "        elif name in ['ZIP', 'ZINB']:\n",
        "            pred = model.predict(train_num)\n",
        "        else:  # Hurdle models\n",
        "            binary_mod, count_mod = model\n",
        "            train_hurdle_numeric = train_hurdle[hurdle_cols].apply(pd.to_numeric, errors='coerce').fillna(0)\n",
        "            pred = hurdle_predict(binary_mod, count_mod, train_hurdle_numeric, hurdle_cols)\n",
        "        \n",
        "        obs = train['visits']\n",
        "        if np.any(np.isnan(pred)) or np.any(np.isinf(pred)):\n",
        "            print(f\"Warning: Invalid predictions (NaN or Inf) detected for model {name}\")\n",
        "            continue\n",
        "        \n",
        "        perf_stats.loc[i, 'RMSE'] = np.sqrt(mean_squared_error(obs, pred))\n",
        "        perf_stats.loc[i, 'MAE'] = mean_absolute_error(obs, pred)\n",
        "        \n",
        "        if name not in ['Hurdle_Pois', 'Hurdle_NB']:\n",
        "            perf_stats.loc[i, 'LogLik'] = model.llf\n",
        "            try:\n",
        "                null_model = smf.glm('visits ~ 1', data=train_encoded, family=model.family).fit()\n",
        "                perf_stats.loc[i, 'PseudoR2'] = 1 - (model.llf / null_model.llf)\n",
        "            except Exception as e:\n",
        "                print(f\"Warning: Failed to compute PseudoR2 for {name}: {e}\")\n",
        "        else:\n",
        "            try:\n",
        "                train_hurdle_numeric = train_hurdle[hurdle_cols].apply(pd.to_numeric, errors='coerce').fillna(0)\n",
        "                binary_loglik = np.sum(binary_mod.predict_log_proba(train_hurdle_numeric)[np.arange(len(train_binary)), train_binary])\n",
        "                perf_stats.loc[i, 'LogLik'] = count_mod.llf + binary_loglik\n",
        "            except Exception as e:\n",
        "                print(f\"Warning: Failed to compute LogLik for {name}: {e}\")\n",
        "    except Exception as e:\n",
        "        print(f\"Error processing model {name}: {e}\")\n",
        "\n",
        "print(\"\\n=== Model Performance Metrics ===\")\n",
        "print(perf_stats.round(3))"
      ]
    },
    {
      "cell_type": "code",
      "execution_count": 108,
      "metadata": {},
      "outputs": [
        {
          "name": "stdout",
          "output_type": "stream",
          "text": [
            "Warning: Failed to compute PseudoR2 for ZIP: 'ZeroInflatedPoissonResults' object has no attribute 'family'\n",
            "Warning: Failed to compute PseudoR2 for ZINB: 'ZeroInflatedNegativeBinomialResults' object has no attribute 'family'\n",
            "Error in hurdle_predict: loop of ufunc does not support argument 0 of type float which has no callable exp method\n",
            "Warning: Invalid predictions (NaN or Inf) detected for model Hurdle_Pois\n",
            "Error in hurdle_predict: loop of ufunc does not support argument 0 of type float which has no callable exp method\n",
            "Warning: Invalid predictions (NaN or Inf) detected for model Hurdle_NB\n",
            "\n",
            "=== Model Performance Metrics ===\n",
            "         Model        AIC     LogLik   RMSE    MAE  PseudoR2\n",
            "0      Poisson  25172.165 -12572.082  6.433  4.143     0.104\n",
            "1           NB  17148.437  -8560.218  6.684  4.201     0.026\n",
            "2          ZIP  23239.294 -11607.647  6.474  4.197       NaN\n",
            "3         ZINB  17105.525  -8539.762  6.586  4.218       NaN\n",
            "4  Hurdle_Pois  22867.842        NaN    NaN    NaN       NaN\n",
            "5    Hurdle_NB  17904.144        NaN    NaN    NaN       NaN\n"
          ]
        },
        {
          "name": "stderr",
          "output_type": "stream",
          "text": [
            "/home/zia207/.local/lib/python3.10/site-packages/sklearn/utils/validation.py:2749: UserWarning: X does not have valid feature names, but LogisticRegression was fitted with feature names\n",
            "  warnings.warn(\n",
            "/home/zia207/.local/lib/python3.10/site-packages/sklearn/utils/validation.py:2749: UserWarning: X does not have valid feature names, but LogisticRegression was fitted with feature names\n",
            "  warnings.warn(\n"
          ]
        }
      ],
      "source": [
        "# Model Performance Metrics\n",
        "perf_stats = pd.DataFrame({\n",
        "    'Model': list(models.keys()),\n",
        "    'AIC': [aic_values[name] for name in models.keys()],\n",
        "    'LogLik': [np.nan] * len(models),\n",
        "    'RMSE': [np.nan] * len(models),\n",
        "    'MAE': [np.nan] * len(models),\n",
        "    'PseudoR2': [np.nan] * len(models)\n",
        "})\n",
        "\n",
        "for i, (name, model) in enumerate(models.items()):\n",
        "    try:\n",
        "        if name in ['Poisson', 'NB']:\n",
        "            pred = model.predict(train_encoded)\n",
        "        elif name in ['ZIP', 'ZINB']:\n",
        "            pred = model.predict(train_num)\n",
        "        else:  # Hurdle models\n",
        "            binary_mod, count_mod = model\n",
        "            train_hurdle_numeric = train_hurdle[hurdle_cols].apply(pd.to_numeric, errors='coerce').fillna(0)\n",
        "            pred = hurdle_predict(binary_mod, count_mod, train_hurdle_numeric, hurdle_cols)\n",
        "        \n",
        "        obs = train['visits']\n",
        "        if np.any(np.isnan(pred)) or np.any(np.isinf(pred)):\n",
        "            print(f\"Warning: Invalid predictions (NaN or Inf) detected for model {name}\")\n",
        "            continue\n",
        "        \n",
        "        perf_stats.loc[i, 'RMSE'] = np.sqrt(mean_squared_error(obs, pred))\n",
        "        perf_stats.loc[i, 'MAE'] = mean_absolute_error(obs, pred)\n",
        "        \n",
        "        if name not in ['Hurdle_Pois', 'Hurdle_NB']:\n",
        "            perf_stats.loc[i, 'LogLik'] = model.llf\n",
        "            try:\n",
        "                null_model = smf.glm('visits ~ 1', data=train_encoded, family=model.family).fit()\n",
        "                perf_stats.loc[i, 'PseudoR2'] = 1 - (model.llf / null_model.llf)\n",
        "            except Exception as e:\n",
        "                print(f\"Warning: Failed to compute PseudoR2 for {name}: {e}\")\n",
        "        else:\n",
        "            try:\n",
        "                train_hurdle_numeric = train_hurdle[hurdle_cols].apply(pd.to_numeric, errors='coerce').fillna(0)\n",
        "                binary_loglik = np.sum(binary_mod.predict_log_proba(train_hurdle_numeric)[np.arange(len(train_binary)), train_binary])\n",
        "                perf_stats.loc[i, 'LogLik'] = count_mod.llf + binary_loglik\n",
        "            except Exception as e:\n",
        "                print(f\"Warning: Failed to compute LogLik for {name}: {e}\")\n",
        "    except Exception as e:\n",
        "        print(f\"Error processing model {name}: {e}\")\n",
        "\n",
        "print(\"\\n=== Model Performance Metrics ===\")\n",
        "print(perf_stats.round(3))"
      ]
    },
    {
      "cell_type": "markdown",
      "metadata": {
        "id": "T0JwlXGp5LXn"
      },
      "source": [
        "### Prediction Performance on Test Set"
      ]
    },
    {
      "cell_type": "code",
      "execution_count": 109,
      "metadata": {},
      "outputs": [
        {
          "name": "stdout",
          "output_type": "stream",
          "text": [
            "Shape of test_num for ZIP: (1321, 6)\n",
            "Error predicting with model ZIP on test set: 'ZeroInflatedPoissonResults' object has no attribute 'k_inflate'\n",
            "Shape of test_num for ZINB: (1321, 6)\n",
            "Error predicting with model ZINB on test set: 'ZeroInflatedNegativeBinomialResults' object has no attribute 'k_inflate'\n",
            "Shape of test_hurdle_numeric for Hurdle_Pois: (1321, 13)\n",
            "Error in hurdle_predict: loop of ufunc does not support argument 0 of type float which has no callable exp method\n",
            "Warning: Invalid predictions (NaN or Inf) detected for model Hurdle_Pois on test set\n",
            "Shape of test_hurdle_numeric for Hurdle_NB: (1321, 13)\n",
            "Error in hurdle_predict: loop of ufunc does not support argument 0 of type float which has no callable exp method\n",
            "Warning: Invalid predictions (NaN or Inf) detected for model Hurdle_NB on test set\n",
            "Warning: Invalid predictions for model ZIP in metric computation\n",
            "Warning: Invalid predictions for model ZINB in metric computation\n",
            "\n",
            "=== Test Set Prediction Performance ===\n",
            "         Model   RMSE    MAE\n",
            "0      Poisson  6.318  4.067\n",
            "1           NB  6.499  4.111\n",
            "2          ZIP    NaN    NaN\n",
            "3         ZINB    NaN    NaN\n",
            "4  Hurdle_Pois  8.649  5.580\n",
            "5    Hurdle_NB  8.649  5.580\n"
          ]
        },
        {
          "name": "stderr",
          "output_type": "stream",
          "text": [
            "/home/zia207/.local/lib/python3.10/site-packages/sklearn/utils/validation.py:2749: UserWarning: X does not have valid feature names, but LogisticRegression was fitted with feature names\n",
            "  warnings.warn(\n",
            "/home/zia207/.local/lib/python3.10/site-packages/sklearn/utils/validation.py:2749: UserWarning: X does not have valid feature names, but LogisticRegression was fitted with feature names\n",
            "  warnings.warn(\n"
          ]
        }
      ],
      "source": [
        "# Prediction Performance on Test Set\n",
        "pred_test = pd.DataFrame({'true': test['visits']})\n",
        "for name, model in models.items():\n",
        "    try:\n",
        "        if name in ['Poisson', 'NB']:\n",
        "            pred_test[name] = model.predict(test_encoded)\n",
        "        elif name in ['ZIP', 'ZINB']:\n",
        "            # Ensure test_num has the correct shape\n",
        "            print(f\"Shape of test_num for {name}: {test_num.shape}\")\n",
        "            # Workaround for ZIP/ZINB: manually compute predictions\n",
        "            params = model.params\n",
        "            k_inflate = model.k_inflate\n",
        "            params_infl = params[:k_inflate]\n",
        "            params_main = params[k_inflate:]\n",
        "            prob_zero = 1 / (1 + np.exp(-np.dot(test_num, params_infl)))  # Logistic probability\n",
        "            count_pred = np.exp(np.dot(test_num, params_main))  # Poisson/NB count\n",
        "            pred_test[name] = (1 - prob_zero) * count_pred\n",
        "        else:  # Hurdle models\n",
        "            binary_mod, count_mod = model\n",
        "            test_hurdle_numeric = test_hurdle[hurdle_cols].apply(pd.to_numeric, errors='coerce').fillna(0)\n",
        "            print(f\"Shape of test_hurdle_numeric for {name}: {test_hurdle_numeric.shape}\")\n",
        "            pred_test[name] = hurdle_predict(binary_mod, count_mod, test_hurdle_numeric, hurdle_cols)\n",
        "        \n",
        "        if np.any(np.isnan(pred_test[name])) or np.any(np.isinf(pred_test[name])):\n",
        "            print(f\"Warning: Invalid predictions (NaN or Inf) detected for model {name} on test set\")\n",
        "            pred_test[name] = np.nan_to_num(pred_test[name], nan=0.0, posinf=0.0, neginf=0.0)\n",
        "    except Exception as e:\n",
        "        print(f\"Error predicting with model {name} on test set: {e}\")\n",
        "        pred_test[name] = np.full(len(test), np.nan)\n",
        "\n",
        "test_perf = pd.DataFrame({\n",
        "    'Model': list(models.keys()),\n",
        "    'RMSE': [np.nan] * len(models),\n",
        "    'MAE': [np.nan] * len(models)\n",
        "})\n",
        "\n",
        "for i, name in enumerate(models.keys()):\n",
        "    try:\n",
        "        pred = pred_test[name]\n",
        "        obs = pred_test['true']\n",
        "        if np.any(np.isnan(pred)) or np.any(np.isinf(pred)):\n",
        "            print(f\"Warning: Invalid predictions for model {name} in metric computation\")\n",
        "            continue\n",
        "        test_perf.loc[i, 'RMSE'] = np.sqrt(mean_squared_error(obs, pred))\n",
        "        test_perf.loc[i, 'MAE'] = mean_absolute_error(obs, pred)\n",
        "    except Exception as e:\n",
        "        print(f\"Error computing metrics for model {name}: {e}\")\n",
        "\n",
        "print(\"\\n=== Test Set Prediction Performance ===\")\n",
        "print(test_perf.round(3))"
      ]
    },
    {
      "cell_type": "markdown",
      "metadata": {
        "id": "7xdVgdeX63ml"
      },
      "source": [
        "## Summary and Conclusion\n",
        "\n",
        "This notebook provided a comprehensive overview of various regression models suitable for count data, particularly in the presence of overdispersion. We explored the Quasi-Poisson, Negative Binomial, and Hurdle regression models, highlighting their unique features and applications.\n",
        "\n",
        "We began with the Poisson regression model, which serves as the foundation for count data analysis. However, we recognized its limitations when faced with overdispersion, prompting us to investigate alternative approaches. The Quasi-Poisson model emerged as a valuable extension, allowing for greater flexibility by incorporating a dispersion parameter.\n",
        "\n",
        "Next, we delved into the Negative Binomial regression model, which is particularly effective in addressing overdispersion by introducing an additional parameter to account for variance. This model proved to be a robust alternative to the Poisson framework, especially in scenarios where the mean-variance relationship is not constant.\n",
        "\n",
        "Throughout the notebook, we provided practical examples and code snippets to illustrate the implementation of these models using Python. We demonstrated how to fit the models, interpret the results, and evaluate their performance using various metrics.\n",
        "\n",
        "In conclusion, understanding the nuances of Quasi-Poisson, Negative Binomial, and Hurdle regression models is essential for accurately analyzing count data in diverse fields. By leveraging the strengths of each model, researchers can make informed decisions and draw meaningful insights from their data. This notebook serves as a valuable resource for practitioners seeking to enhance their statistical modeling skills and tackle real-world challenges in count data analysis."
      ]
    },
    {
      "cell_type": "markdown",
      "metadata": {
        "id": "Im6r6rV566NF"
      },
      "source": [
        "## References\n",
        "\n",
        "\n",
        "1. **Statsmodels GLM Documentation**  \n",
        "   - Covers Poisson and Negative Binomial models for overdispersion.  \n",
        "   - [https://www.statsmodels.org/stable/glm.html](https://www.statsmodels.org/stable/glm.html)\n",
        "\n",
        "2. **Statsmodels Zero-Inflated Models**  \n",
        "   - Details Zero-Inflated Poisson (ZIP) and Negative Binomial (ZINB) models.  \n",
        "   - [https://www.statsmodels.org/stable/generated/statsmodels.discrete.discrete_model.ZeroInflatedPoisson.html](https://www.statsmodels.org/stable/generated/statsmodels.discrete.discrete_model.ZeroInflatedPoisson.html)\n",
        "\n",
        "3. **Towards Data Science: Poisson Regression**  \n",
        "   - Tutorial on Poisson and Negative Binomial regression with `statsmodels`.  \n",
        "   - [https://towardsdatascience.com/poisson-regression-in-python-8cfbf1c3c19e](https://towardsdatascience.com/poisson-regression-in-python-8cfbf1c3c19e)\n",
        "\n",
        "4. **Scikit-learn: Generalized Linear Models**  \n",
        "   - Poisson regression and Tweedie models for count data.  \n",
        "   - [https://scikit-learn.org/stable/modules/linear_model.html#generalized-linear-regression](https://scikit-learn.org/stable/modules/linear_model.html#generalized-linear-regression)\n",
        "\n",
        "5. **DataCamp: Regression with Count Data**  \n",
        "   - Covers Poisson, Negative Binomial, and zero-inflated models with code.  \n",
        "   - [https://www.datacamp.com/tutorial/regression-with-count-data-in-python](https://www.datacamp.com/tutorial/regression-with-count-data-in-python)\n",
        "\n",
        "6. **Python for Data Science: Count Data**  \n",
        "   - Guide on Poisson, Negative Binomial, and Hurdle models.  \n",
        "   - [https://pythonfordatascience.org/count-data-regression-python/](https://pythonfordatascience.org/count-data-regression-python/)\n",
        "\n",
        "\n",
        "\n",
        "\n"
      ]
    }
  ],
  "metadata": {
    "colab": {
      "authorship_tag": "ABX9TyObI9dyzT/Zb053a0vZRLmE",
      "include_colab_link": true,
      "provenance": [],
      "toc_visible": true
    },
    "kernelspec": {
      "display_name": "Python 3",
      "name": "python3"
    },
    "language_info": {
      "codemirror_mode": {
        "name": "ipython",
        "version": 3
      },
      "file_extension": ".py",
      "mimetype": "text/x-python",
      "name": "python",
      "nbconvert_exporter": "python",
      "pygments_lexer": "ipython3",
      "version": "3.10.12"
    }
  },
  "nbformat": 4,
  "nbformat_minor": 0
}
