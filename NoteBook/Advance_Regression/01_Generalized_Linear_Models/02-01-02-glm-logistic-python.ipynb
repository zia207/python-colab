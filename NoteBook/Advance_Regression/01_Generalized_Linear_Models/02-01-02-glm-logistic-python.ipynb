{
  "cells": [
    {
      "cell_type": "markdown",
      "metadata": {
        "colab_type": "text",
        "id": "view-in-github"
      },
      "source": [
        "<a href=\"https://colab.research.google.com/github/zia207/r-colab/blob/main/NoteBook/Advance_Regression/02-01-03-glm-logistic-r.ipynb\" target=\"_parent\"><img src=\"https://colab.research.google.com/assets/colab-badge.svg\" alt=\"Open In Colab\"/></a>"
      ]
    },
    {
      "cell_type": "markdown",
      "metadata": {
        "id": "KsBkpmP_qjLM"
      },
      "source": [
        "![alt text](http://drive.google.com/uc?export=view&id=1IFEWet-Aw4DhkkVe1xv_2YYqlvRe9m5_)"
      ]
    },
    {
      "cell_type": "markdown",
      "metadata": {
        "id": "Dzp9ZseROTcY"
      },
      "source": [
        "# **Logistic Regression Model (Binary Classification)**\n",
        "\n",
        "\n",
        "This tutorial will focus on implementing a logistic regression model in R, a powerful open-source statistical software that provides numerous functions for easily fitting, interpreting, and visualizing these models. We will begin by reviewing the fundamentals of logistic models, which include understanding their structure, key components, and the types of data they are best suited to handle.\n",
        "\n",
        "My approach will be step-by-step, starting with constructing a logistic model using synthetic data without relying on any built-in R packages. We will then demonstrate how to fit a logistic model using R's built-in functions (`glm`), interpret the model outputs, per and visualize the results using different R packages."
      ]
    },
    {
      "cell_type": "markdown",
      "metadata": {
        "id": "h0FPXx8mGylY"
      },
      "source": [
        "\n",
        "## Overview\n",
        "\n",
        "Logistic regression is a statistical method useful in scenarios where the categorical outcome variable has only two possible classes. It is a binary classification method that predicts the probability of an instance belonging to a particular category or class. The method derives its name from its use of the logistic function to model the probability of a given class.\n",
        "\n",
        "Logistic regression falls under the category of supervised learning. This means that it makes predictions based on labeled data. The method is widely used in various fields, such as finance, healthcare, and marketing. Logistic regression is particularly useful in analyzing datasets with many variables and can be used to identify significant variables that influence the outcome variable.\n",
        "\n",
        "Despite its name, logistic regression is not used for regression but rather for classification. It is a powerful tool that can help businesses and researchers make informed decisions based on the probability of an event occurring.\n",
        "\n",
        "Here are the key concepts and components of logistic regression:\n",
        "\n",
        "1.  **Sigmoid Function (Logistic Function):** The logistic regression model uses the sigmoid function to map any real-valued number into a value between 0 and 1. The sigmoid function is defined as:\n",
        "\n",
        "$$ \\sigma(z) = \\frac{1}{1 + e^{-z}} $$\n",
        "\n",
        "where $z$ is a linear combination of the input features and their corresponding weights.\n",
        "\n",
        "2.  **Linear Combination:** The linear combination $z$ is given by:\n",
        "\n",
        "$$ z = b + w_1x_1 + w_2x_2 + \\ldots + w_nx_n $$\n",
        "\n",
        "Here, $b$ is the bias term, $w_i$ are the weights associated with each feature $x_i$, and $n$ is the number of features.\n",
        "\n",
        "3.  **Probability Prediction:** The output of the logistic regression model is the probability that a given input belongs to a particular class. The sigmoid function ensures that the output is bounded between 0 and 1.\n",
        "\n",
        "$$ P(Y=1) = \\sigma(z) $$ \n",
        "\n",
        "$$ P(Y=0) = 1 - \\sigma(z) $$\n",
        "\n",
        "4.  **Decision Boundary:** A decision boundary is a threshold used to classify instances into one of the two classes. If the predicted probability is above the threshold, the instance is assigned to class 1; otherwise, it is assigned to class 0.\n",
        "\n",
        "5.  **Cost Function (Log Loss):** The logistic regression model is trained by minimizing a cost function, typically the log loss (cross-entropy) function. The goal is to find the set of weights and bias that minimizes the difference between the predicted probabilities and the actual class labels in the training data. Given a set of observations with binary outcomes (0 or 1), the log loss for a single observation is defined as:\n",
        "\n",
        "$$ J(w,b) = -\\frac{1}{m} \\sum_{i=1}^{m} [y^{(i)} \\log(\\hat{y}^{(i)}) + (1 - y^{(i)}) \\log(1 - \\hat{y}^{(i)})] $$\n",
        "\n",
        "where $m$ is the number of training examples, $y^{(i)}$ is the true label for the i-th example, and $\\hat{y}^{(i)}$ is the predicted probability of class 1 for the i-th example.\n",
        "\n",
        "Logistic regression is widely used in various fields, including medicine, finance, and social sciences, for binary classification problems. It can be extended to handle multiclass classification through techniques such as one-vs-rest or one-vs-one.\n",
        "\n"
      ]
    },
    {
      "cell_type": "markdown",
      "metadata": {
        "id": "90GNm717IC_k"
      },
      "source": [
        "## Building a Logistic Model  from Scratch\n",
        "\n",
        "In this section, we will demonstrate how to build a logistic regression model in R without using any external packages. We will start by generating synthetic data, then proceed to fit the model, compute summary statistics, and validate the model's performance through k-fold cross-validation. Below are the step-by-step instructions and explanations of the underlying mathematics involved."
      ]
    },
    {
      "cell_type": "code",
      "execution_count": 17,
      "metadata": {},
      "outputs": [],
      "source": [
        "import numpy as np\n",
        "import pandas as pd\n",
        "from scipy.optimize import minimize\n",
        "from scipy.stats import norm\n",
        "import matplotlib.pyplot as plt\n",
        "import statsmodels.api as sm\n",
        "import seaborn as sns\n",
        "import matplotlib.pyplot as plt\n",
        "from sklearn.model_selection import KFold\n",
        "from sklearn.metrics import roc_curve, roc_auc_score"
      ]
    },
    {
      "cell_type": "markdown",
      "metadata": {
        "id": "c5iBqcLUIEPM"
      },
      "source": [
        "\n",
        "### Generate Synthetic Data\n",
        "\n",
        "We need to create a dataset with:\n",
        "\n",
        "-   One binary response variable (contaminated: Yes = 1, No = 0).\n",
        "\n",
        "-   Four linear predictor variables (we'll call them x1, x2, x3, and x4).\n",
        "\n",
        "-   One categorical variable with two levels (region: highland or lowland)."
      ]
    },
    {
      "cell_type": "code",
      "execution_count": 6,
      "metadata": {
        "colab": {
          "base_uri": "https://localhost:8080/"
        },
        "id": "PmDFA-b9IIyi",
        "outputId": "64b9aa5d-f182-4876-d231-d2514d7d29c8"
      },
      "outputs": [
        {
          "name": "stdout",
          "output_type": "stream",
          "text": [
            "   contaminated        x1        x2        x3        x4    region\n",
            "0             1  0.496714 -1.415371  0.357787 -0.828995  highland\n",
            "1             1 -0.138264 -0.420645  0.560785 -0.560181  highland\n",
            "2             1  0.647689 -0.342715  1.083051  0.747294  highland\n",
            "3             1  1.523030 -0.802277  1.053802  0.610370  highland\n",
            "4             0 -0.234153 -0.161286 -1.377669 -0.020902   lowland\n"
          ]
        }
      ],
      "source": [
        "import numpy as np\n",
        "import pandas as pd\n",
        "\n",
        "# Set seed for reproducibility\n",
        "np.random.seed(42)\n",
        "\n",
        "# Sample size\n",
        "n = 100\n",
        "\n",
        "# Generate covariates (continuous)\n",
        "x1 = np.random.normal(loc=0, scale=1, size=n)\n",
        "x2 = np.random.normal(loc=0, scale=1, size=n)\n",
        "x3 = np.random.normal(loc=0, scale=1, size=n)\n",
        "x4 = np.random.normal(loc=0, scale=1, size=n)\n",
        "\n",
        "# Generate categorical variable 'region'\n",
        "region = np.random.choice(['highland', 'lowland'], size=n)\n",
        "\n",
        "# Define true coefficients\n",
        "beta_0 = -1      # intercept\n",
        "beta_1 = 0.5\n",
        "beta_2 = -0.3\n",
        "beta_3 = 0.2\n",
        "beta_4 = 0.1\n",
        "beta_5 = 0.7     # effect of being in \"highland\" region\n",
        "\n",
        "# Calculate linear predictor (log-odds)\n",
        "log_odds = (beta_0 + beta_1 * x1 + beta_2 * x2 + \n",
        "            beta_3 * x3 + beta_4 * x4 + \n",
        "            beta_5 * (region == 'highland'))\n",
        "\n",
        "# Convert log-odds to probability using logistic function\n",
        "probability = np.exp(log_odds) / (1 + np.exp(log_odds))\n",
        "\n",
        "# Generate binary response variable\n",
        "contaminated = np.random.binomial(n=1, p=probability, size=n)\n",
        "\n",
        "# Combine into a DataFrame\n",
        "data = pd.DataFrame({\n",
        "    'contaminated': contaminated,\n",
        "    'x1': x1,\n",
        "    'x2': x2,\n",
        "    'x3': x3,\n",
        "    'x4': x4,\n",
        "    'region': region\n",
        "})\n",
        "\n",
        "# Display first few rows\n",
        "print(data.head())\n",
        "\n"
      ]
    },
    {
      "cell_type": "markdown",
      "metadata": {
        "id": "KL4rSeKMIRGX"
      },
      "source": [
        "### Define the Log-Likelihood Function\n",
        "\n",
        "To fit a logistic regression without using `glm()` or any packages, we need to implement `maximum likelihood estimation (MLE)` from scratch. This involves defining the likelihood function for logistic regression and then using numerical optimization to estimate the coefficients.\n",
        "\n",
        "Here's how to do it in R:\n",
        "\n",
        "The probability that an observation $Y_i = 1$ (contaminated = Yes) given predictor variables $X_i$ is given by:\n",
        "\n",
        "$$ P(Y_i = 1 | X_i) = \\frac{1}{1 + e^{-(\\beta_0 + \\beta_1 x_{i1} + \\beta_2 x_{i2} + \\beta_3 x_{i3} + \\beta_4 x_{i4} + \\beta_5 \\text{region}_i)}} $$\n",
        "\n",
        "The log-likelihood function for logistic regression, which we want to maximize, is:\n",
        "\n",
        "$$ \\text{log-likelihood} = \\sum_{i=1}^n \\left( Y_i \\cdot \\log(P(Y_i = 1 | X_i)) + (1 - Y_i) \\cdot \\log(1 - P(Y_i = 1 | X_i)) \\right) $$\n",
        "\n",
        "Let's write this in R, where `params` will represent the vector of coefficients $\\beta$."
      ]
    },
    {
      "cell_type": "code",
      "execution_count": 7,
      "metadata": {
        "id": "NTUJyumpIWcl"
      },
      "outputs": [],
      "source": [
        "def log_likelihood(params, data):\n",
        "    # Extract coefficients\n",
        "    beta_0, beta_1, beta_2, beta_3, beta_4, beta_5 = params\n",
        "    \n",
        "    # Calculate linear predictor (log-odds)\n",
        "    log_odds = (beta_0 + beta_1 * data['x1'] + \n",
        "                beta_2 * data['x2'] + \n",
        "                beta_3 * data['x3'] + \n",
        "                beta_4 * data['x4'] + \n",
        "                beta_5 * (data['region'] == 'highland'))\n",
        "    \n",
        "    # Logistic transformation: probability\n",
        "    probability = 1 / (1 + np.exp(-log_odds))\n",
        "    \n",
        "    # Avoid log(0) by clipping probabilities\n",
        "    eps = 1e-15\n",
        "    probability = np.clip(probability, eps, 1 - eps)\n",
        "    \n",
        "    # Log-likelihood\n",
        "    ll = np.sum(data['contaminated'] * np.log(probability) + \n",
        "                (1 - data['contaminated']) * np.log(1 - probability))\n",
        "    \n",
        "    return -ll  # Return negative for minimization"
      ]
    },
    {
      "cell_type": "markdown",
      "metadata": {
        "id": "t0sXcePdIdnJ"
      },
      "source": [
        "### Optimize the Log-Likelihood Function\n",
        "\n",
        "We use `optim()` to find the parameter values that maximize the likelihood (minimizes the negative log-likelihood)."
      ]
    },
    {
      "cell_type": "code",
      "execution_count": 8,
      "metadata": {
        "colab": {
          "base_uri": "https://localhost:8080/"
        },
        "id": "qCSKv2r0IfFL",
        "outputId": "f3d7f762-afde-4526-d3f3-5b383356dbc3"
      },
      "outputs": [
        {
          "name": "stderr",
          "output_type": "stream",
          "text": [
            "/tmp/ipykernel_549228/812670818.py:5: RuntimeWarning: Method BFGS does not use Hessian information (hess).\n",
            "  result = minimize(log_likelihood, initial_params, args=(data,), method='BFGS', hess=True)\n"
          ]
        },
        {
          "name": "stdout",
          "output_type": "stream",
          "text": [
            "Estimated Coefficients: [-1.72223814  0.56151745 -0.67090996  0.63771895 -0.36066612  1.4468616 ]\n"
          ]
        }
      ],
      "source": [
        "# Initial guesses for coefficients\n",
        "initial_params = np.zeros(6)\n",
        "\n",
        "# Run optimization\n",
        "result = minimize(log_likelihood, initial_params, args=(data,), method='BFGS', hess=True)\n",
        "\n",
        "# Extract estimated parameters\n",
        "estimated_params = result.x\n",
        "print(\"Estimated Coefficients:\", estimated_params)"
      ]
    },
    {
      "cell_type": "markdown",
      "metadata": {},
      "source": [
        "### Standard Errors, Z-values, and p-values"
      ]
    },
    {
      "cell_type": "code",
      "execution_count": 11,
      "metadata": {},
      "outputs": [
        {
          "name": "stdout",
          "output_type": "stream",
          "text": [
            "   Coefficient  Std_Error   Z_value   p_value\n",
            "0    -1.722238   0.433556 -3.972355  0.000071\n",
            "1     0.561517   0.306666  1.831041  0.067094\n",
            "2    -0.670910   0.280882 -2.388579  0.016914\n",
            "3     0.637719   0.254278  2.507956  0.012143\n",
            "4    -0.360666   0.294092 -1.226373  0.220058\n",
            "5     1.446862   0.523692  2.762812  0.005731\n"
          ]
        }
      ],
      "source": [
        "# Get Hessian matrix\n",
        "hessian = result.hess_inv  # Inverse Hessian (BFGS approximation)\n",
        "# Or use: hessian = result.hess if available\n",
        "\n",
        "# Variance-covariance matrix\n",
        "try:\n",
        "    vcov_matrix = hessian  # For BFGS, hess_inv is already approx. inverse\n",
        "except:\n",
        "    vcov_matrix = np.linalg.inv(result.hess)\n",
        "\n",
        "# Standard errors\n",
        "standard_errors = np.sqrt(np.diag(vcov_matrix))\n",
        "\n",
        "# Z-values and p-values\n",
        "z_values = estimated_params / standard_errors\n",
        "p_values = 2 * (1 - norm.cdf(np.abs(z_values)))\n",
        "\n",
        "# Create summary table\n",
        "summary_table = pd.DataFrame({\n",
        "    'Coefficient': estimated_params,\n",
        "    'Std_Error': standard_errors,\n",
        "    'Z_value': z_values,\n",
        "    'p_value': p_values\n",
        "})\n",
        "\n",
        "print(summary_table)"
      ]
    },
    {
      "cell_type": "markdown",
      "metadata": {},
      "source": [
        "\n",
        "### Odds Ratio (OR)\n",
        "\n",
        "The odds ratio is a measure commonly used in logistic regression, to quantify the strength of association between two events. It represents the odds of an event occurring in one group compared to the odds of it occurring in another group. The odds ratio is calculated as the exponentiated coefficient of a predictor variable.\n",
        "\n",
        "The odds ratio helps us understand how a one-unit increase in a predictor variable affects the odds of the outcome. Here’s how to interpret it:\n",
        "\n",
        "-   OR = 1: The predictor does not change the odds of the outcome (no effect).\n",
        "\n",
        "-   OR \\> 1: The predictor increases the odds of the outcome. For instance, if OR = 1.5, a one-unit increase in the predictor increases the odds of the outcome by 50%.\n",
        "\n",
        "-   OR \\< 1: The predictor decreases the odds of the outcome. For example, if OR = 0.7, a one-unit increase in the predictor decreases the odds of the outcome by 30%."
      ]
    },
    {
      "cell_type": "code",
      "execution_count": 12,
      "metadata": {},
      "outputs": [
        {
          "name": "stdout",
          "output_type": "stream",
          "text": [
            "Odds Ratios: [1.75333107 0.51124315 1.89215985 0.69721175 4.24975615]\n"
          ]
        }
      ],
      "source": [
        "# Exponentiate coefficients (excluding intercept)\n",
        "odd_ratios = np.exp(estimated_params[1:])  # ORs for x1, x2, x3, x4, region\n",
        "print(\"Odds Ratios:\", odd_ratios)"
      ]
    },
    {
      "cell_type": "markdown",
      "metadata": {},
      "source": [
        "### Model Performance\n",
        "\n",
        "Evaluating the performance of a logistic regression model involves several metrics and techniques to understand how well the model predicts the outcome variable (e.g., contaminated vs. not contaminated). Here’s a detailed overview of the key evaluation metrics and methods commonly used in this context:"
      ]
    },
    {
      "cell_type": "markdown",
      "metadata": {},
      "source": [
        "#### Confusion Matrix\n",
        "\n",
        "A confusion matrix is a simple yet powerful tool for evaluating the performance of a classification model. It provides a summary of prediction results on a classification problem. The confusion matrix summarizes:\n",
        "\n",
        "-   **True Positives (TP)**: Correctly predicted positive instances.\n",
        "-   **True Negatives (TN)**: Correctly predicted negative instances.\n",
        "-   **False Positives (FP)**: Incorrectly predicted positive instances (Type I error).\n",
        "-   **False Negatives (FN)**: Incorrectly predicted negative instances (Type II error).\n",
        "\n",
        "**Confusion Matrix Layout**:\n",
        "\n",
        "|                        | Actual Positive (1) | Actual Negative (0) |\n",
        "|------------------------|---------------------|---------------------|\n",
        "| Predicted Positive (1) | TP                  | FP                  |\n",
        "| Predicted Negative (0) | FN                  | TN                  |\n"
      ]
    },
    {
      "cell_type": "code",
      "execution_count": 13,
      "metadata": {},
      "outputs": [
        {
          "name": "stdout",
          "output_type": "stream",
          "text": [
            "Actual      0   1\n",
            "Predicted        \n",
            "0          60  14\n",
            "1           7  19\n"
          ]
        }
      ],
      "source": [
        "# Compute predicted log-odds and probabilities\n",
        "log_odds_pred = (estimated_params[0] + \n",
        "                 estimated_params[1] * data['x1'] +\n",
        "                 estimated_params[2] * data['x2'] +\n",
        "                 estimated_params[3] * data['x3'] +\n",
        "                 estimated_params[4] * data['x4'] +\n",
        "                 estimated_params[5] * (data['region'] == 'highland'))\n",
        "\n",
        "predicted_probabilities = 1 / (1 + np.exp(-log_odds_pred))\n",
        "\n",
        "# Classify with threshold 0.5\n",
        "predicted_class = (predicted_probabilities > 0.5).astype(int)\n",
        "actual_class = data['contaminated'].values\n",
        "\n",
        "# Confusion Matrix\n",
        "confusion_matrix = pd.crosstab(predicted_class, actual_class, \n",
        "                               rownames=['Predicted'], colnames=['Actual'])\n",
        "print(confusion_matrix)\n",
        "\n",
        "# Extract TP, TN, FP, FN\n",
        "TP = confusion_matrix.loc[1, 1] if (1 in confusion_matrix.index and 1 in confusion_matrix.columns) else 0\n",
        "TN = confusion_matrix.loc[0, 0] if (0 in confusion_matrix.index and 0 in confusion_matrix.columns) else 0\n",
        "FP = confusion_matrix.loc[1, 0] if (1 in confusion_matrix.index and 0 in confusion_matrix.columns) else 0\n",
        "FN = confusion_matrix.loc[0, 1] if (0 in confusion_matrix.index and 1 in confusion_matrix.columns) else 0"
      ]
    },
    {
      "cell_type": "markdown",
      "metadata": {},
      "source": [
        "### Performance Metrics\n",
        "\n",
        "From the confusion matrix, several performance metrics can be derived:\n",
        "\n",
        "- ***Accuracy***: The proportion of total correct predictions.\n",
        "  \n",
        "  $$   \\text{Accuracy} = \\frac{TP + TN}{TP + TN + FP + FN} $$\n",
        "\n",
        "- ***Precision*** (Positive Predictive Value): The proportion of predicted positives that are actual positives.\n",
        "  \n",
        "  $$   \\text{Precision} = \\frac{TP}{TP + FP} $$\n",
        "\n",
        " - ***Recall*** (Sensitivity or True Positive Rate): The proportion of actual positives that are correctly predicted.\n",
        "  \n",
        "  $$ \\text{Recall} = \\frac{TP}{TP + FN} $$\n",
        "\n",
        "\n",
        "- ***Specificity*** (True Negative Rate): The proportion of actual negatives that are correctly predicted.\n",
        "  \n",
        "  $$   \\text{Specificity} = \\frac{TN}{TN + FP} $$\n",
        "\n",
        "- ***F1 Score***: The harmonic mean of precision and recall, useful when dealing with imbalanced classes.\n",
        "  \n",
        "  $$ \\text{F1 Score} = 2 \\cdot \\frac{\\text{Precision} \\cdot \\text{Recall}}{\\text{Precision} + \\text{Recall}} $$"
      ]
    },
    {
      "cell_type": "code",
      "execution_count": 14,
      "metadata": {},
      "outputs": [
        {
          "name": "stdout",
          "output_type": "stream",
          "text": [
            "Accuracy: 0.79\n",
            "Precision: 0.7307692307692307\n",
            "Recall: 0.5757575757575758\n",
            "Specificity: 0.8955223880597015\n",
            "F1 Score: 0.6440677966101696\n"
          ]
        }
      ],
      "source": [
        "accuracy = (TP + TN) / (TP + TN + FP + FN)\n",
        "precision = TP / (TP + FP) if (TP + FP) > 0 else 0\n",
        "recall = TP / (TP + FN) if (TP + FN) > 0 else 0\n",
        "specificity = TN / (TN + FP) if (TN + FP) > 0 else 0\n",
        "f1_score = 2 * (precision * recall) / (precision + recall) if (precision + recall) > 0 else 0\n",
        "\n",
        "print(f\"Accuracy: {accuracy}\")\n",
        "print(f\"Precision: {precision}\")\n",
        "print(f\"Recall: {recall}\")\n",
        "print(f\"Specificity: {specificity}\")\n",
        "print(f\"F1 Score: {f1_score}\")"
      ]
    },
    {
      "cell_type": "markdown",
      "metadata": {},
      "source": [
        "#### Receiver Operating Characteristic (ROC) Curve and AUC\n",
        "\n",
        "The ROC curve is an important tool used in evaluating the performance of a binary classification model. It is a graphical plot that illustrates how well the model can distinguish between positive and negative classes at different threshold settings. The curve displays the trade-off between the true positive rate (sensitivity) and the false positive rate (1 - specificity) as the threshold for classification changes. The true positive rate measures the proportion of actual positive instances that are correctly identified by the model, while the false positive rate measures the proportion of actual negative instances that are incorrectly classified as positive by the model. By analyzing the ROC curve, one can determine the optimal threshold setting that maximizes the true positive rate and minimizes the false positive rate, thereby improving the overall accuracy of the classification model.\n",
        "\n",
        "-   **True Positive Rate (TPR)**: The y-axis represents the true positive rate (sensitivity).\n",
        "-   **False Positive Rate (FPR)**: The x-axis represents the false positive rate.\n",
        "\n",
        "A typical ROC appears as a line that starts at the bottom left corner (0, 0) and extends towards the top right corner (1, 1). If the curve is closer to the top-left corner, it indicates better performance of the model. A diagonal line from (0, 0) to (1, 1) on the ROC curve represents the performance of a random classifier. A model with perfect discrimination will have an ROC curve passing through the top-left corner, indicating a true positive rate of 1 (sensitivity) and a false positive rate of 0 (specificity). The area under the ROC curve (AUC-ROC) is a widely used summary statistic for quantifying the performance of a classification model. AUC-ROC ranges from 0 to 1, with higher values indicating better discrimination. An AUC-ROC of 0.5 suggests that the model performs no better than random guessing, while an AUC-ROC of 1 indicates perfect classification. To summarize, the ROC curve provides a clear visualization of a classification model's performance across different threshold settings. This allows users to select an appropriate threshold based on their specific needs for sensitivity and specificity.\n",
        "\n",
        "The Area Under the Curve (AUC) quantifies the overall ability of the model to discriminate between the positive and negative classes:\n",
        "\n",
        "-   **AUC = 1**: Perfect discrimination.\n",
        "-   **AUC = 0.5**: No discrimination (random guessing)."
      ]
    },
    {
      "cell_type": "code",
      "execution_count": 19,
      "metadata": {},
      "outputs": [
        {
          "data": {
            "image/png": "[encoded data removed]",
            "text/plain": [
              "<Figure size 550x500 with 1 Axes>"
            ]
          },
          "metadata": {},
          "output_type": "display_data"
        }
      ],
      "source": [
        "# Sort data by predicted probabilities (descending)\n",
        "roc_data = pd.DataFrame({'probability': predicted_probabilities, 'actual': actual_class})\n",
        "roc_data = roc_data.sort_values(by='probability', ascending=False)\n",
        "\n",
        "# Compute TPR and FPR\n",
        "TPR = np.cumsum(roc_data['actual']) / np.sum(roc_data['actual'])\n",
        "FPR = np.cumsum(1 - roc_data['actual']) / np.sum(1 - roc_data['actual'])\n",
        "\n",
        "# Convert to numpy arrays to avoid pandas indexing issues\n",
        "FPR = np.array(FPR)\n",
        "TPR = np.array(TPR)\n",
        "\n",
        "# Plot ROC Curve\n",
        "plt.figure(figsize=(5.5, 5))\n",
        "plt.plot(FPR, TPR, color='blue', lw=2, label='ROC Curve')\n",
        "plt.plot([0, 1], [0, 1], color='red', lw=1, linestyle='--', label='Random Classifier')\n",
        "plt.xlabel('False Positive Rate (FPR)')\n",
        "plt.ylabel('True Positive Rate (TPR)')\n",
        "plt.title('ROC Curve')\n",
        "#plt.text(0.6, 0.2, f'AUC = {AUC:.2f}', color='black', fontsize=12)\n",
        "plt.legend(loc='lower right')\n",
        "plt.grid(True)\n",
        "plt.show()"
      ]
    },
    {
      "cell_type": "markdown",
      "metadata": {},
      "source": [
        "###  Log-Likelihood and Pseudo-R²"
      ]
    },
    {
      "cell_type": "code",
      "execution_count": 20,
      "metadata": {},
      "outputs": [
        {
          "name": "stdout",
          "output_type": "stream",
          "text": [
            "Log-Likelihood of the model: -47.34156366136981\n",
            "Log-Likelihood of the null model: -63.41786357122056\n",
            "Pseudo-R²: 0.253497973671038\n"
          ]
        }
      ],
      "source": [
        "def compute_log_likelihood(params, data):\n",
        "    beta_0, beta_1, beta_2, beta_3, beta_4, beta_5 = params\n",
        "    log_odds = (beta_0 + beta_1 * data['x1'] + \n",
        "                beta_2 * data['x2'] + \n",
        "                beta_3 * data['x3'] + \n",
        "                beta_4 * data['x4'] + \n",
        "                beta_5 * (data['region'] == 'highland'))\n",
        "    prob = 1 / (1 + np.exp(-log_odds))\n",
        "    prob = np.clip(prob, 1e-15, 1 - 1e-15)\n",
        "    ll = np.sum(data['contaminated'] * np.log(prob) + \n",
        "                (1 - data['contaminated']) * np.log(1 - prob))\n",
        "    return ll\n",
        "\n",
        "# Full model log-likelihood\n",
        "ll_full = compute_log_likelihood(estimated_params, data)\n",
        "\n",
        "# Null model log-likelihood (intercept only)\n",
        "p_null = data['contaminated'].mean()\n",
        "ll_null = np.sum(data['contaminated'] * np.log(p_null) + \n",
        "                 (1 - data['contaminated']) * np.log(1 - p_null))\n",
        "\n",
        "# McFadden's Pseudo R²\n",
        "pseudo_r2 = 1 - (ll_full / ll_null)\n",
        "\n",
        "print(f\"Log-Likelihood of the model: {ll_full}\")\n",
        "print(f\"Log-Likelihood of the null model: {ll_null}\")\n",
        "print(f\"Pseudo-R²: {pseudo_r2}\")"
      ]
    },
    {
      "cell_type": "markdown",
      "metadata": {},
      "source": [
        "### k-Fold Cross-Validation"
      ]
    },
    {
      "cell_type": "code",
      "execution_count": 21,
      "metadata": {},
      "outputs": [
        {
          "name": "stdout",
          "output_type": "stream",
          "text": [
            "Cross-Validation Average Metrics:\n",
            "Average Accuracy: 0.7400\n",
            "Average Precision: 0.6400\n",
            "Average Recall: 0.5529\n",
            "Average F1_score: 0.5758\n"
          ]
        }
      ],
      "source": [
        "from sklearn.model_selection import KFold\n",
        "\n",
        "# Set seed for reproducibility\n",
        "np.random.seed(42)\n",
        "\n",
        "# Prepare data\n",
        "X = data[['x1', 'x2', 'x3', 'x4', 'region']].copy()\n",
        "y = data['contaminated'].copy()\n",
        "\n",
        "# k-Fold CV\n",
        "k = 5\n",
        "kf = KFold(n_splits=k, shuffle=True, random_state=42)\n",
        "metrics = {\n",
        "    'accuracy': [], 'precision': [], 'recall': [], 'f1_score': []\n",
        "}\n",
        "\n",
        "for train_index, val_index in kf.split(X):\n",
        "    # Split data\n",
        "    X_train, X_val = X.iloc[train_index], X.iloc[val_index]\n",
        "    y_train, y_val = y.iloc[train_index], y.iloc[val_index]\n",
        "    \n",
        "    # Combine into training and validation DataFrames\n",
        "    train_data = X_train.copy()\n",
        "    train_data['contaminated'] = y_train.values\n",
        "    val_data = X_val.copy()\n",
        "    val_data['contaminated'] = y_val.values\n",
        "    \n",
        "    # Fit model on training data\n",
        "    result_cv = minimize(log_likelihood, initial_params, args=(train_data,), method='BFGS')\n",
        "    params_cv = result_cv.x\n",
        "    \n",
        "    # Predict on validation set\n",
        "    log_odds_val = (params_cv[0] + \n",
        "                    params_cv[1] * val_data['x1'] +\n",
        "                    params_cv[2] * val_data['x2'] +\n",
        "                    params_cv[3] * val_data['x3'] +\n",
        "                    params_cv[4] * val_data['x4'] +\n",
        "                    params_cv[5] * (val_data['region'] == 'highland'))\n",
        "    prob_val = 1 / (1 + np.exp(-log_odds_val))\n",
        "    pred_class = (prob_val > 0.5).astype(int)\n",
        "    \n",
        "    # Confusion matrix\n",
        "    cm = pd.crosstab(pred_class, val_data['contaminated'], rownames=['Pred'], colnames=['Actual'])\n",
        "    \n",
        "    TP = cm.loc[1, 1] if (1 in cm.index and 1 in cm.columns) else 0\n",
        "    TN = cm.loc[0, 0] if (0 in cm.index and 0 in cm.columns) else 0\n",
        "    FP = cm.loc[1, 0] if (1 in cm.index and 0 in cm.columns) else 0\n",
        "    FN = cm.loc[0, 1] if (0 in cm.index and 1 in cm.columns) else 0\n",
        "    \n",
        "    # Metrics\n",
        "    acc = (TP + TN) / (TP + TN + FP + FN + 1e-8)\n",
        "    prec = TP / (TP + FP + 1e-8)\n",
        "    rec = TP / (TP + FN + 1e-8)\n",
        "    f1 = 2 * (prec * rec) / (prec + rec + 1e-8)\n",
        "    \n",
        "    metrics['accuracy'].append(acc)\n",
        "    metrics['precision'].append(prec)\n",
        "    metrics['recall'].append(rec)\n",
        "    metrics['f1_score'].append(f1)\n",
        "\n",
        "# Average metrics\n",
        "avg_metrics = {k: np.mean(v) for k, v in metrics.items()}\n",
        "print(\"Cross-Validation Average Metrics:\")\n",
        "for metric, value in avg_metrics.items():\n",
        "    print(f\"Average {metric.capitalize()}: {value:.4f}\")"
      ]
    },
    {
      "cell_type": "markdown",
      "metadata": {
        "id": "lxClWcKWJTWu"
      },
      "source": [
        "#### Confusion Matrix\n",
        "\n",
        "A confusion matrix is a simple yet powerful tool for evaluating the performance of a classification model. It provides a summary of prediction results on a classification problem. The confusion matrix summarizes:\n",
        "\n",
        "- **True Positives (TP)**: Correctly predicted positive instances.\n",
        "- **True Negatives (TN)**: Correctly predicted negative instances.\n",
        "- **False Positives (FP)**: Incorrectly predicted positive instances (Type I error).\n",
        "- **False Negatives (FN)**: Incorrectly predicted negative instances (Type II error).\n",
        "\n",
        "**Confusion Matrix Layout**:\n",
        "\n",
        "|               | Actual Positive (1) | Actual Negative (0) |\n",
        "|---------------|---------------------|---------------------|\n",
        "| Predicted Positive (1) | TP                  | FP                  |\n",
        "| Predicted Negative (0) | FN                  | TN                  |"
      ]
    },
    {
      "cell_type": "markdown",
      "metadata": {
        "id": "rJ0PvnLsMJTs"
      },
      "source": [
        "## Logistic Model with Python\n",
        "\n",
        "The `glm()` function in R is commonly used to fit generalized linear models, including logistic regression. Here’s a guide on how to fit a logistic regression model with `glm()`."
      ]
    },
    {
      "cell_type": "markdown",
      "metadata": {
        "id": "WViZ3IdLrzNs"
      },
      "source": [
        "### Data\n",
        "\n",
        "Our goal is to develop a logistic n model to predict paddy soil arsenic class using various irrigation water and soil properties. We have available data of 263 paired groundwater and paddy soil samples from arsenic contaminated areas in Tala Upazilla, Satkhira district, Bangladesh. This data was utilized in on our publication titled \"Factors Affecting Paddy Soil Arsenic Concentration in Bangladesh: Prediction and Uncertainty of Geostatistical Risk Mapping\" which can be accessed via the this [URL](https://doi.org/10.1016/j.scitotenv.2011.10.008).\n",
        "\n",
        "Full data set is available for download from my [Dropbox](https://www.dropbox.com/scl/fo/2rh6r68i9cxmgortvbw8q/h?rlkey=bvntt66n9mcywprmdki08ch3r&dl=0) or from my [Github](https://github.com/zia207/r-colab/tree/main/Data/Regression_analysis) accounts.\n",
        "\n"
      ]
    },
    {
      "cell_type": "code",
      "execution_count": null,
      "metadata": {},
      "outputs": [],
      "source": [
        "# !pip install pandas numpy matplotlib seaborn plotnine scikit-learn statsmodels patsy"
      ]
    },
    {
      "cell_type": "code",
      "execution_count": 22,
      "metadata": {
        "colab": {
          "base_uri": "https://localhost:8080/"
        },
        "id": "CFpt_H01OPsa",
        "outputId": "aab43f5c-97f5-41e3-8f9f-58808f092480"
      },
      "outputs": [
        {
          "name": "stdout",
          "output_type": "stream",
          "text": [
            "   ID  Longitude  Latitude    WAs     WP   WFe   WEc   WpH   WMg   WNa  ...  \\\n",
            "0   1    89.1134   22.7544  0.059  0.761  3.44  1.03  7.03  33.9  69.4  ...   \n",
            "1   2    89.1232   22.7576  0.059  1.194  4.93  1.07  7.06  34.1  74.6  ...   \n",
            "2   3    89.1281   22.7499  0.079  1.317  9.70  1.40  6.84  40.5  89.4  ...   \n",
            "3   4    89.1296   22.7568  0.122  1.545  8.58  0.83  6.85  28.4  22.8  ...   \n",
            "4   5    89.1312   22.7366  0.072  0.966  4.78  1.42  6.95  43.4  93.0  ...   \n",
            "\n",
            "    SOC     SP  Sand  Silt  Clay  Elevation  Year_Irrigation  Distance_STW  \\\n",
            "0  1.66  13.79  16.3  44.8  38.9          3               14             5   \n",
            "1  1.26  15.31  11.1  48.7  40.2          5               20             6   \n",
            "2  1.36  15.54  12.3  46.4  41.3          4               10             5   \n",
            "3  1.61  16.28  12.7  43.6  43.7          3                8             8   \n",
            "4  1.26  14.20  12.1  50.9  37.1          5               10             5   \n",
            "\n",
            "   Land_type  Land_type_ID  \n",
            "0        MHL             2  \n",
            "1        MHL             2  \n",
            "2        MHL             2  \n",
            "3        MHL             2  \n",
            "4        MHL             2  \n",
            "\n",
            "[5 rows x 29 columns]\n",
            "<class 'pandas.core.frame.DataFrame'>\n",
            "RangeIndex: 263 entries, 0 to 262\n",
            "Data columns (total 29 columns):\n",
            " #   Column           Non-Null Count  Dtype  \n",
            "---  ------           --------------  -----  \n",
            " 0   ID               263 non-null    int64  \n",
            " 1   Longitude        263 non-null    float64\n",
            " 2   Latitude         263 non-null    float64\n",
            " 3   WAs              263 non-null    float64\n",
            " 4   WP               263 non-null    float64\n",
            " 5   WFe              263 non-null    float64\n",
            " 6   WEc              263 non-null    float64\n",
            " 7   WpH              263 non-null    float64\n",
            " 8   WMg              263 non-null    float64\n",
            " 9   WNa              263 non-null    float64\n",
            " 10  WCa              263 non-null    float64\n",
            " 11  WK               263 non-null    float64\n",
            " 12  WS               263 non-null    float64\n",
            " 13  SAs              263 non-null    float64\n",
            " 14  SPAs             263 non-null    float64\n",
            " 15  SAoAs            263 non-null    float64\n",
            " 16  SAoFe            263 non-null    int64  \n",
            " 17  SpH              263 non-null    float64\n",
            " 18  SEc              263 non-null    float64\n",
            " 19  SOC              263 non-null    float64\n",
            " 20  SP               263 non-null    float64\n",
            " 21  Sand             263 non-null    float64\n",
            " 22  Silt             263 non-null    float64\n",
            " 23  Clay             263 non-null    float64\n",
            " 24  Elevation        263 non-null    int64  \n",
            " 25  Year_Irrigation  263 non-null    int64  \n",
            " 26  Distance_STW     263 non-null    int64  \n",
            " 27  Land_type        263 non-null    object \n",
            " 28  Land_type_ID     263 non-null    int64  \n",
            "dtypes: float64(22), int64(6), object(1)\n",
            "memory usage: 59.7+ KB\n",
            "None\n"
          ]
        }
      ],
      "source": [
        "import pandas as pd\n",
        "import numpy as np\n",
        "\n",
        "# Load data\n",
        "url = \"https://github.com/zia207/r-colab/raw/main/Data/Regression_analysis/bd_soil_arsenic.csv\"\n",
        "mf = pd.read_csv(url)\n",
        "\n",
        "# Inspect data\n",
        "print(mf.head())\n",
        "print(mf.info())"
      ]
    },
    {
      "cell_type": "markdown",
      "metadata": {
        "id": "WaLbMQss-gul"
      },
      "source": [
        "#### Create a Binary Response Variable\n",
        "\n",
        "The `binary class` typically refers to a classification problem where there are only two possible classes or outcomes. As we see `SAs` is a continuous variable, but we need to convert it into binary class (contaminated and non-contaminated) based on our published paper. The paper suggests that we use the probability of exceeding the upper baseline soil arsenic concentration (14.8 mg/kg) to define soil samples as either As contaminated (`Yes`) or non-contaminated (`No`).\n",
        "\n",
        "Here we will convert `Soil As (SAs)` into two classes- `Yes = Contaminated`and `No = noncontaminated` and create a new binary response variables (`Class_As`) with two levels:\n",
        "\n",
        "Yes = `SAs` \\> 14.8 mg As/kg\n",
        "\n",
        "No = `SAs` \\< 14.8 mg As/kg"
      ]
    },
    {
      "cell_type": "code",
      "execution_count": 23,
      "metadata": {
        "id": "a4fWoA7I-kNf"
      },
      "outputs": [
        {
          "name": "stdout",
          "output_type": "stream",
          "text": [
            "Class_As\n",
            "Yes    170\n",
            "No      93\n",
            "Name: count, dtype: int64\n"
          ]
        }
      ],
      "source": [
        "# Create binary class based on SAs > 14.8\n",
        "mf['Class_As'] = np.where(mf['SAs'] > 14.8, 'Yes', 'No')\n",
        "mf['Class_As'] = mf['Class_As'].astype('category')\n",
        "\n",
        "print(mf['Class_As'].value_counts())"
      ]
    },
    {
      "cell_type": "markdown",
      "metadata": {
        "id": "KGb4u49IV6PE"
      },
      "source": [
        "#### Box/Violine Plots\n",
        "\n"
      ]
    },
    {
      "cell_type": "code",
      "execution_count": 24,
      "metadata": {},
      "outputs": [
        {
          "name": "stderr",
          "output_type": "stream",
          "text": [
            "/tmp/ipykernel_549228/3708190349.py:26: FutureWarning: \n",
            "\n",
            "Passing `palette` without assigning `hue` is deprecated and will be removed in v0.14.0. Assign the `x` variable to `hue` and set `legend=False` for the same effect.\n",
            "\n",
            "  sns.boxplot(data=mf, x='Class_As', y=col, ax=ax, palette=\"Set3\", width=0.6)\n",
            "/tmp/ipykernel_549228/3708190349.py:26: FutureWarning: \n",
            "\n",
            "Passing `palette` without assigning `hue` is deprecated and will be removed in v0.14.0. Assign the `x` variable to `hue` and set `legend=False` for the same effect.\n",
            "\n",
            "  sns.boxplot(data=mf, x='Class_As', y=col, ax=ax, palette=\"Set3\", width=0.6)\n",
            "/tmp/ipykernel_549228/3708190349.py:26: FutureWarning: \n",
            "\n",
            "Passing `palette` without assigning `hue` is deprecated and will be removed in v0.14.0. Assign the `x` variable to `hue` and set `legend=False` for the same effect.\n",
            "\n",
            "  sns.boxplot(data=mf, x='Class_As', y=col, ax=ax, palette=\"Set3\", width=0.6)\n",
            "/tmp/ipykernel_549228/3708190349.py:26: FutureWarning: \n",
            "\n",
            "Passing `palette` without assigning `hue` is deprecated and will be removed in v0.14.0. Assign the `x` variable to `hue` and set `legend=False` for the same effect.\n",
            "\n",
            "  sns.boxplot(data=mf, x='Class_As', y=col, ax=ax, palette=\"Set3\", width=0.6)\n"
          ]
        },
        {
          "data": {
            "image/png": "[encoded data removed]",
            "text/plain": [
              "<Figure size 1000x1000 with 4 Axes>"
            ]
          },
          "metadata": {},
          "output_type": "display_data"
        }
      ],
      "source": [
        "import seaborn as sns\n",
        "import matplotlib.pyplot as plt\n",
        "from scipy.stats import ttest_ind\n",
        "import numpy as np\n",
        "\n",
        "# Set style\n",
        "sns.set_style(\"whitegrid\")\n",
        "plt.rcParams.update({'font.size': 10})\n",
        "\n",
        "# Variables to plot\n",
        "variables = [\n",
        "    ('WAs', 'Water As (ppm)'),\n",
        "    ('WFe', 'Water Fe (%)'),\n",
        "    ('SAoFe', 'Soil Oxalate-Fe'),\n",
        "    ('SOC', 'Soil OC (%)')\n",
        "]\n",
        "\n",
        "# Create subplots (2x2)\n",
        "fig, axes = plt.subplots(2, 2, figsize=(10, 10))\n",
        "axes = axes.ravel()  # Flatten for easy indexing\n",
        "\n",
        "for idx, (col, label) in enumerate(variables):\n",
        "    ax = axes[idx]\n",
        "    \n",
        "    # Create boxplot\n",
        "    sns.boxplot(data=mf, x='Class_As', y=col, ax=ax, palette=\"Set3\", width=0.6)\n",
        "    \n",
        "    # Perform independent t-test\n",
        "    group_yes = mf[mf['Class_As'] == 'Yes'][col].dropna()\n",
        "    group_no = mf[mf['Class_As'] == 'No'][col].dropna()\n",
        "    t_stat, p_val = ttest_ind(group_yes, group_no, equal_var=True)\n",
        "    \n",
        "    # Add p-value annotation\n",
        "    y_range = mf[col].max() - mf[col].min()\n",
        "    y_max = mf[col].max()\n",
        "    y_pos = y_max + y_range * 0.08  # Slightly above max value\n",
        "    \n",
        "    ax.text(0.5, y_pos, f\"p = {p_val:.3f}\",\n",
        "            horizontalalignment='center',\n",
        "            fontsize=11, color='black', weight='bold')\n",
        "\n",
        "    # Customize labels and title\n",
        "    ax.set_title(f\"{label}\", fontsize=12, fontweight='bold')\n",
        "    ax.set_xlabel(\"As-contamination\", fontsize=11)\n",
        "    ax.set_ylabel(label, fontsize=11)\n",
        "\n",
        "# Adjust layout\n",
        "plt.suptitle(\"Comparison of Variables by Arsenic Contamination Status\",\n",
        "             fontsize=14, fontweight='bold', y=0.98)\n",
        "plt.tight_layout(rect=[0, 0, 1, 0.96])  # Leave space for suptitle\n",
        "plt.show()"
      ]
    },
    {
      "cell_type": "markdown",
      "metadata": {
        "id": "mLGsopcHr_Qn"
      },
      "source": [
        "#### Data Processing\n"
      ]
    },
    {
      "cell_type": "code",
      "execution_count": 25,
      "metadata": {
        "colab": {
          "base_uri": "https://localhost:8080/"
        },
        "id": "C4Q559D8z6vd",
        "outputId": "400f5762-1bf5-4967-d240-5bc0b973e48b"
      },
      "outputs": [
        {
          "name": "stdout",
          "output_type": "stream",
          "text": [
            "        WAs       WFe     SAoFe       SOC  Year_Irrigation  Distance_STW  \\\n",
            "0  0.107383  0.180435  0.380711  0.533333         0.684211      0.047619   \n",
            "1  0.107383  0.342391  0.423858  0.342857         1.000000      0.071429   \n",
            "2  0.152125  0.860870  0.294416  0.390476         0.473684      0.047619   \n",
            "3  0.248322  0.739130  0.380711  0.509524         0.368421      0.119048   \n",
            "4  0.136465  0.326087  0.269036  0.342857         0.473684      0.047619   \n",
            "\n",
            "  Land_type Class_As  \n",
            "0       MHL      Yes  \n",
            "1       MHL      Yes  \n",
            "2       MHL      Yes  \n",
            "3       MHL      Yes  \n",
            "4       MHL      Yes  \n"
          ]
        }
      ],
      "source": [
        "# Select and process variables\n",
        "df = mf[['WAs', 'WFe', 'SAoFe', 'SOC', 'Year_Irrigation', 'Distance_STW', 'Land_type', 'Class_As']].copy()\n",
        "\n",
        "# Convert categorical\n",
        "df['Land_type'] = df['Land_type'].astype('category')\n",
        "df['Class_As'] = df['Class_As'].astype('category')\n",
        "\n",
        "# Normalize numerical columns (min-max scaling)\n",
        "num_cols = ['WAs', 'WFe', 'SAoFe', 'SOC', 'Year_Irrigation', 'Distance_STW']\n",
        "for col in num_cols:\n",
        "    col_min = df[col].min()\n",
        "    col_max = df[col].max()\n",
        "    df[col] = (df[col] - col_min) / (col_max - col_min)\n",
        "\n",
        "print(df.head())\n"
      ]
    },
    {
      "cell_type": "markdown",
      "metadata": {
        "id": "WWLOzlOe2YPv"
      },
      "source": [
        "#### Split Data\n",
        "\n",
        "We will use the `ddply()` function of the **plyr** package to split soil carbon datainto homogeneous subgroups using **stratified random sampling**. This method involves dividing the population into strata and taking random samples from each stratum to ensure that each subgroup is proportionally represented in the sample. The goal is to obtain a representative sample of the population by adequately representing each stratum.\n"
      ]
    },
    {
      "cell_type": "code",
      "execution_count": 26,
      "metadata": {
        "id": "RpMxXBXY2ZVA"
      },
      "outputs": [
        {
          "name": "stdout",
          "output_type": "stream",
          "text": [
            "Train Class_As proportion:\n",
            "Class_As\n",
            "Yes    0.646739\n",
            "No     0.353261\n",
            "Name: proportion, dtype: float64\n",
            "\n",
            "Test Class_As proportion:\n",
            "Class_As\n",
            "Yes    0.64557\n",
            "No     0.35443\n",
            "Name: proportion, dtype: float64\n"
          ]
        }
      ],
      "source": [
        "from sklearn.model_selection import train_test_split\n",
        "\n",
        "# Set seed\n",
        "np.random.seed(101)\n",
        "\n",
        "# Stratified split by Land_type and Class_As\n",
        "df['strata'] = df['Land_type'].astype(str) + \"_\" + df['Class_As'].astype(str)\n",
        "\n",
        "train, test = train_test_split(\n",
        "    df, \n",
        "    test_size=0.3, \n",
        "    stratify=df['strata'], \n",
        "    random_state=101\n",
        ")\n",
        "\n",
        "# Drop helper column\n",
        "train = train.drop(columns=['strata'])\n",
        "test = test.drop(columns=['strata'])\n",
        "\n",
        "# Check proportions\n",
        "print(\"Train Class_As proportion:\")\n",
        "print(train['Class_As'].value_counts(normalize=True))\n",
        "print(\"\\nTest Class_As proportion:\")\n",
        "print(test['Class_As'].value_counts(normalize=True))"
      ]
    },
    {
      "cell_type": "markdown",
      "metadata": {
        "id": "tLOhL6P_2nqP"
      },
      "source": [
        "Stratified random sampling is a technique for selecting a representative sample from a population, where the sample is chosen in a way that ensures that certain subgroups within the population are adequately represented in the sample."
      ]
    },
    {
      "cell_type": "code",
      "execution_count": null,
      "metadata": {
        "colab": {
          "base_uri": "https://localhost:8080/"
        },
        "id": "VEYcn7v1_QRI",
        "outputId": "393b9d2b-32be-46aa-dc03-8ddf735f982f"
      },
      "outputs": [
        {
          "name": "stdout",
          "output_type": "stream",
          "text": [
            "\n",
            "       No       Yes \n",
            "0.3551913 0.6448087 \n",
            "\n",
            "  No  Yes \n",
            "0.35 0.65 \n"
          ]
        }
      ],
      "source": [
        "%%R\n",
        "print(prop.table(table(train$Class_As)))\n",
        "print(prop.table(table(test$Class_As)))"
      ]
    },
    {
      "cell_type": "markdown",
      "metadata": {
        "id": "nDrDY2n63wDp"
      },
      "source": [
        "### Fit a Logistic Model\n",
        "\n"
      ]
    },
    {
      "cell_type": "code",
      "execution_count": 27,
      "metadata": {
        "id": "lcZ2Bqk23yWO"
      },
      "outputs": [
        {
          "name": "stdout",
          "output_type": "stream",
          "text": [
            "                                             Generalized Linear Model Regression Results                                             \n",
            "=====================================================================================================================================\n",
            "Dep. Variable:     [\"C(Class_As, Treatment('No'))[No]\", \"C(Class_As, Treatment('No'))[Yes]\"]   No. Observations:                  184\n",
            "Model:                                                                                   GLM   Df Residuals:                      176\n",
            "Model Family:                                                                       Binomial   Df Model:                            7\n",
            "Link Function:                                                                         Logit   Scale:                          1.0000\n",
            "Method:                                                                                 IRLS   Log-Likelihood:                -78.597\n",
            "Date:                                                                       Fri, 08 Aug 2025   Deviance:                       157.19\n",
            "Time:                                                                               19:47:19   Pearson chi2:                     238.\n",
            "No. Iterations:                                                                            5   Pseudo R-squ. (CS):             0.3589\n",
            "Covariance Type:                                                                   nonrobust                                         \n",
            "=======================================================================================\n",
            "                          coef    std err          z      P>|z|      [0.025      0.975]\n",
            "---------------------------------------------------------------------------------------\n",
            "Intercept               2.6978      0.955      2.825      0.005       0.826       4.569\n",
            "C(Land_type)[T.MHL]    -1.2308      0.445     -2.764      0.006      -2.104      -0.358\n",
            "WAs                    -4.6456      1.446     -3.213      0.001      -7.479      -1.812\n",
            "WFe                    -3.4249      1.080     -3.173      0.002      -5.541      -1.309\n",
            "SAoFe                   0.5777      1.281      0.451      0.652      -1.932       3.088\n",
            "SOC                     0.1090      1.562      0.070      0.944      -2.952       3.170\n",
            "Year_Irrigation        -3.8464      1.069     -3.599      0.000      -5.941      -1.752\n",
            "Distance_STW            3.3473      1.576      2.123      0.034       0.258       6.437\n",
            "=======================================================================================\n"
          ]
        }
      ],
      "source": [
        "import statsmodels.api as sm\n",
        "import patsy\n",
        "\n",
        "# Prepare design matrix\n",
        "formula = \"C(Class_As, Treatment('No')) ~ WAs + WFe + SAoFe + SOC + Year_Irrigation + Distance_STW + C(Land_type)\"\n",
        "y_train, X_train = patsy.dmatrices(formula, train, return_type='dataframe')\n",
        "\n",
        "# Fit model\n",
        "model = sm.GLM(y_train, X_train, family=sm.families.Binomial()).fit()\n",
        "\n",
        "print(model.summary())"
      ]
    },
    {
      "cell_type": "markdown",
      "metadata": {
        "id": "aJbZqs1B5DLY"
      },
      "source": [
        "### Interpretation of Logistic Model\n",
        "\n"
      ]
    },
    {
      "cell_type": "code",
      "execution_count": 28,
      "metadata": {
        "colab": {
          "base_uri": "https://localhost:8080/"
        },
        "id": "GvBTAQIv5Qvd",
        "outputId": "24e267d0-8178-4900-901a-939a15be4dd5"
      },
      "outputs": [
        {
          "name": "stdout",
          "output_type": "stream",
          "text": [
            "                     OR_Lower    OR_Upper         OR\n",
            "Intercept            2.284577   96.494351  14.847518\n",
            "C(Land_type)[T.MHL]  0.122012    0.699115   0.292062\n",
            "WAs                  0.000565    0.163321   0.009604\n",
            "WFe                  0.003923    0.270068   0.032551\n",
            "SAoFe                0.144808   21.925406   1.781848\n",
            "SOC                  0.052225   23.809922   1.115107\n",
            "Year_Irrigation      0.002629    0.173501   0.021356\n",
            "Distance_STW         1.293880  624.562464  28.427257\n"
          ]
        }
      ],
      "source": [
        "# Odds Ratios\n",
        "odds_ratios = np.exp(model.params)\n",
        "conf_int = np.exp(model.conf_int())\n",
        "conf_int.columns = ['OR_Lower', 'OR_Upper']\n",
        "conf_int['OR'] = odds_ratios\n",
        "print(conf_int)"
      ]
    },
    {
      "cell_type": "markdown",
      "metadata": {
        "id": "9LvWgB985jhR"
      },
      "source": [
        "### Model Performance"
      ]
    },
    {
      "cell_type": "code",
      "execution_count": 30,
      "metadata": {
        "colab": {
          "base_uri": "https://localhost:8080/"
        },
        "id": "xYDEDbhB5jtN",
        "outputId": "ca9019da-e0f0-4483-ad56-22ae009e7d73"
      },
      "outputs": [
        {
          "name": "stdout",
          "output_type": "stream",
          "text": [
            "Accuracy: 0.215\n",
            "Precision: 0.296\n",
            "Recall: 0.157\n",
            "F1 Score: 0.205\n",
            "AUC: 0.154\n",
            "Log Loss: 1.790\n",
            "Tjur's R²: -0.383\n"
          ]
        }
      ],
      "source": [
        "from sklearn.metrics import accuracy_score, precision_score, recall_score, f1_score, roc_auc_score, log_loss, confusion_matrix\n",
        "from scipy.stats import bernoulli\n",
        "\n",
        "# Predict on test set\n",
        "X_test = patsy.dmatrix(formula.split('~')[1], test, return_type='dataframe')\n",
        "pred_prob = model.predict(X_test)\n",
        "pred_class = (pred_prob > 0.5).astype(int)\n",
        "true_class = (test['Class_As'] == 'Yes').astype(int)\n",
        "\n",
        "# Performance\n",
        "accuracy = accuracy_score(true_class, pred_class)\n",
        "precision = precision_score(true_class, pred_class)\n",
        "recall = recall_score(true_class, pred_class)\n",
        "f1 = f1_score(true_class, pred_class)\n",
        "auc = roc_auc_score(true_class, pred_prob)\n",
        "logloss = log_loss(true_class, pred_prob)\n",
        "\n",
        "# Tjur's R²\n",
        "tjur_r2 = np.mean(pred_prob[true_class == 1]) - np.mean(pred_prob[true_class == 0])\n",
        "\n",
        "print(f\"Accuracy: {accuracy:.3f}\")\n",
        "print(f\"Precision: {precision:.3f}\")\n",
        "print(f\"Recall: {recall:.3f}\")\n",
        "print(f\"F1 Score: {f1:.3f}\")\n",
        "print(f\"AUC: {auc:.3f}\")\n",
        "print(f\"Log Loss: {logloss:.3f}\")\n",
        "print(f\"Tjur's R²: {tjur_r2:.3f}\")"
      ]
    },
    {
      "cell_type": "markdown",
      "metadata": {
        "id": "Kc6tBE3KM-4G"
      },
      "source": [
        "**`Tjur's R²`**, also known as Tjur's coefficient of discrimination, is a measure of discrimination or predictive accuracy for binary outcomes in logistic regression. It assesses how well the model distinguishes between the two categories of the dependent variable. Tjur's R² is defined as the difference in the average predicted probabilities of the two outcomes.\n",
        "\n",
        "The formula for Tjur's R² is as follows:\n",
        "\n",
        "$$ R^2_{Tjur} = P(Y=1|\\hat{Y}=1) - P(Y=0|\\hat{Y}=1) $$\n",
        "\n",
        "Here:\n",
        "\n",
        "-   $P(Y=1|\\hat{Y}=1)$ is the probability of the actual outcome being 1 given that the predicted outcome is 1.\n",
        "\n",
        "-   $P(Y=0|\\hat{Y}=1)$ is the probability of the actual outcome being 0 given that the predicted outcome is 1.\n",
        "\n",
        "Tjur's R² ranges from -1 to 1, where a higher value indicates better discrimination. A positive value suggests that the model is better at predicting the positive class, while a negative value suggests better prediction for the negative class.\n",
        "\n",
        "In practice, Tjur's R² is not as commonly used as other metrics like the area under the ROC curve (AUC) or the Brier score, but it provides a measure of the practical significance of the logistic regression model in terms of discrimination. Keep in mind that the interpretation of Tjur's R² should be done in the context of the specific dataset and problem you are working on.\n",
        "\n",
        "**`Log_loss`**: Logarithmic Loss (Log Loss), also known as cross-entropy loss, is a commonly utilized loss function in machine learning, particularly in classification problems. It measures the performance of a classification model that outputs a probability value ranging from 0 to 1. Due to its versatility and capability to handle prediction errors, Logarithmic Loss is often preferred over alternative loss functions. Its formulation is mathematically rigorous, and its implementation is straightforward, making it an essential tool for any machine learning practitioner.\n",
        "\n",
        "The formula for Log Loss is:\n",
        "\n",
        "$$ {Log Loss} = -\\frac{1}{N} \\sum_{i=1}^{N} [y_i \\log(p_i) + (1 - y_i) \\log(1 - p_i)] $$\n",
        "\n",
        "Where:\n",
        "\n",
        "\\- $N$ is the number of samples in the dataset.\n",
        "\n",
        "\\- $y_i$ is the true label for the $i$ th sample (0 or 1 for binary classification, or one-hot encoded vectors for multiclass classification).\n",
        "\n",
        "-   $p_i$ is the predicted probability that the $i$ th sample belongs to the positive class.\n",
        "\n"
      ]
    },
    {
      "cell_type": "markdown",
      "metadata": {},
      "source": [
        "### Prediction and Evaluation"
      ]
    },
    {
      "cell_type": "code",
      "execution_count": 31,
      "metadata": {},
      "outputs": [
        {
          "name": "stdout",
          "output_type": "stream",
          "text": [
            "Accuracy: 0.215\n",
            "Precision: 0.296\n",
            "Recall: 0.157\n",
            "F1 Score: 0.205\n",
            "AUC: 0.154\n",
            "Log Loss: 1.790\n",
            "Tjur's R²: -0.383\n"
          ]
        }
      ],
      "source": [
        "from sklearn.metrics import accuracy_score, precision_score, recall_score, f1_score, roc_auc_score, log_loss, confusion_matrix\n",
        "from scipy.stats import bernoulli\n",
        "\n",
        "# Predict on test set\n",
        "X_test = patsy.dmatrix(formula.split('~')[1], test, return_type='dataframe')\n",
        "pred_prob = model.predict(X_test)\n",
        "pred_class = (pred_prob > 0.5).astype(int)\n",
        "true_class = (test['Class_As'] == 'Yes').astype(int)\n",
        "\n",
        "# Performance\n",
        "accuracy = accuracy_score(true_class, pred_class)\n",
        "precision = precision_score(true_class, pred_class)\n",
        "recall = recall_score(true_class, pred_class)\n",
        "f1 = f1_score(true_class, pred_class)\n",
        "auc = roc_auc_score(true_class, pred_prob)\n",
        "logloss = log_loss(true_class, pred_prob)\n",
        "\n",
        "# Tjur's R²\n",
        "tjur_r2 = np.mean(pred_prob[true_class == 1]) - np.mean(pred_prob[true_class == 0])\n",
        "\n",
        "print(f\"Accuracy: {accuracy:.3f}\")\n",
        "print(f\"Precision: {precision:.3f}\")\n",
        "print(f\"Recall: {recall:.3f}\")\n",
        "print(f\"F1 Score: {f1:.3f}\")\n",
        "print(f\"AUC: {auc:.3f}\")\n",
        "print(f\"Log Loss: {logloss:.3f}\")\n",
        "print(f\"Tjur's R²: {tjur_r2:.3f}\")"
      ]
    },
    {
      "cell_type": "markdown",
      "metadata": {},
      "source": [
        "### ROC Curve"
      ]
    },
    {
      "cell_type": "code",
      "execution_count": 32,
      "metadata": {},
      "outputs": [
        {
          "data": {
            "image/png": "[encoded data removed]",
            "text/plain": [
              "<Figure size 450x400 with 1 Axes>"
            ]
          },
          "metadata": {},
          "output_type": "display_data"
        }
      ],
      "source": [
        "from sklearn.metrics import roc_curve\n",
        "import matplotlib.pyplot as plt\n",
        "\n",
        "fpr, tpr, thresholds = roc_curve(true_class, pred_prob)\n",
        "auc_score = roc_auc_score(true_class, pred_prob)\n",
        "\n",
        "plt.figure(figsize=(4.5, 4))\n",
        "plt.plot(fpr, tpr, color='blue', lw=2, label=f'ROC (AUC = {auc_score:.2f})')\n",
        "plt.plot([0, 1], [0, 1], color='red', lw=1, linestyle='--', label='Random')\n",
        "plt.xlabel('False Positive Rate')\n",
        "plt.ylabel('True Positive Rate')\n",
        "plt.title('ROC Curve')\n",
        "plt.legend(loc='lower right')\n",
        "plt.grid(True)\n",
        "plt.show()"
      ]
    },
    {
      "cell_type": "markdown",
      "metadata": {
        "id": "QkZSGYvk7oGD"
      },
      "source": [
        "### The Logistic Distribution of Intercept and Slopes\n",
        "\n",
        "The `plogis()` function is used to calculate the logistic cumulative distribution function (CDF) of Intercept and Slopes. The logistic CDF is the probability that a logistic random variable is less than or equal to a specified value. The `plogis()` function takes a numeric vector of values and returns the corresponding probabilities.\n",
        "\n",
        "The `plogis()` function is particularly useful in the context of logistic regression, where you might be interested in converting log-odds into probabilities. If you have a logistic regression model with coefficients (intercept and slopes), you can use the logistic function and `plogis` to calculate probabilities."
      ]
    },
    {
      "cell_type": "code",
      "execution_count": null,
      "metadata": {
        "colab": {
          "base_uri": "https://localhost:8080/"
        },
        "id": "CzSf33djP_S1",
        "outputId": "e0112598-f2f0-42c7-a372-82af4e7d1eed"
      },
      "outputs": [
        {
          "name": "stdout",
          "output_type": "stream",
          "text": [
            "Rows: 183\n",
            "Columns: 3\n",
            "$ WAs         <dbl> 0.019, 0.043, 0.037, 0.126, 0.019, 0.020, 0.207, 0.016, 0.…\n",
            "$ LogOdds     <dbl> -5.830588, -5.527392, -5.603191, -4.478839, -5.830588, -5.…\n",
            "$ Probability <dbl> 0.002927753, 0.003960598, 0.003672546, 0.011219281, 0.0029…\n"
          ]
        }
      ],
      "source": [
        "%%R\n",
        "## Intercept\n",
        "intercept = coef(fit.logit)[1]\n",
        "# Back-transform the  Slope of WAs\n",
        "slop_was = coef(fit.logit)[2]\n",
        "log_odds<-intercept + (slop_was*train$WAs)\n",
        "probabilities <- plogis(log_odds)\n",
        "age.prob<-data.frame(WAs = train$WAs, LogOdds = log_odds, Probability = probabilities) |>\n",
        "  glimpse()"
      ]
    },
    {
      "cell_type": "markdown",
      "metadata": {
        "id": "UuaV79CZcHI6"
      },
      "source": [
        "### Marginal Effects and Adjusted Predictions\n",
        "\n",
        "The presentation of regression models, typically in the form of tables, is widely accepted as a clear and accessible method for interpreting results. However, for more intricate models that incorporate interaction or transformed terms, such as quadratic or spline terms, the use of raw regression coefficients may prove less effective, resulting in challenges when interpreting outcomes. In such cases, adjusted predictions or marginal means provide a more fitting solution. The use of visual aids can also assist in the comprehension of such effects or predictions, providing an intuitive understanding of the relationship between predictors and outcomes, even for complex models.\n",
        "\n",
        "If we want the marginal effects for \"Land_types\", you may use `margins()` function of {margins} package:"
      ]
    },
    {
      "cell_type": "code",
      "execution_count": null,
      "metadata": {
        "colab": {
          "base_uri": "https://localhost:8080/"
        },
        "id": "dh215d8ocInz",
        "outputId": "3b6b7d7b-6f78-40cf-ec90-2a0f21f031e2"
      },
      "outputs": [
        {
          "name": "stderr",
          "output_type": "stream",
          "text": [
            "WARNING:rpy2.rinterface_lib.callbacks:R[write to console]: Average marginal effects\n",
            "\n",
            "WARNING:rpy2.rinterface_lib.callbacks:R[write to console]: glm(formula = Class_As ~ ., family = binomial(link = \"logit\"),     data = train)\n",
            "\n",
            "\n"
          ]
        },
        {
          "name": "stdout",
          "output_type": "stream",
          "text": [
            "  WAs\n",
            " 1.57\n"
          ]
        }
      ],
      "source": [
        "%%R\n",
        "margins::margins(fit.logit, variables = \"WAs\")"
      ]
    },
    {
      "cell_type": "markdown",
      "metadata": {
        "id": "NVoKgj26f4b0"
      },
      "source": [
        "we get the same marginal effect using `avg_slopes()` function from the {marginaleffects} package"
      ]
    },
    {
      "cell_type": "code",
      "execution_count": null,
      "metadata": {
        "colab": {
          "base_uri": "https://localhost:8080/"
        },
        "id": "GtBYPg32f5fV",
        "outputId": "6b35906c-e02c-4536-ad7d-b3c39eef4c5b"
      },
      "outputs": [
        {
          "name": "stdout",
          "output_type": "stream",
          "text": [
            "\n",
            " Estimate Std. Error    z Pr(>|z|)    S 2.5 % 97.5 %\n",
            "     1.57      0.396 3.96   <0.001 13.7 0.794   2.35\n",
            "\n",
            "Term: WAs\n",
            "Type:  response \n",
            "Comparison: mean(dY/dX)\n",
            "Columns: term, contrast, estimate, std.error, statistic, p.value, s.value, conf.low, conf.high, predicted_lo, predicted_hi, predicted \n",
            "\n"
          ]
        }
      ],
      "source": [
        "%%R\n",
        "marginaleffects::avg_slopes(fit.logit, variables = \"WAs\")"
      ]
    },
    {
      "cell_type": "markdown",
      "metadata": {
        "id": "NXutmZ6XgCOn"
      },
      "source": [
        "To calculate marginal effects and adjusted predictions, the `predict_response()` function is used. This function can return three types of predictions, namely, conditional effects, marginal effects or marginal means, and average marginal effects or counterfactual predictions. You can set the type of prediction you want by using the `margin` argument."
      ]
    },
    {
      "cell_type": "code",
      "execution_count": null,
      "metadata": {
        "colab": {
          "base_uri": "https://localhost:8080/"
        },
        "id": "A0R86fSsgDAb",
        "outputId": "de565ee9-2712-4146-eddd-88f2d27e98ae"
      },
      "outputs": [
        {
          "name": "stderr",
          "output_type": "stream",
          "text": [
            "WARNING:rpy2.rinterface_lib.callbacks:R[write to console]: Data were 'prettified'. Consider using `terms=\"WAs [all]\"` to get smooth\n",
            "  plots.\n",
            "\n"
          ]
        },
        {
          "name": "stdout",
          "output_type": "stream",
          "text": [
            "# Average predicted probabilities of Class_As\n",
            "\n",
            " WAs | Predicted |     95% CI\n",
            "-----------------------------\n",
            "0.00 |      0.36 | 0.17, 0.59\n",
            "0.20 |      0.87 | 0.77, 0.94\n",
            "0.40 |      0.99 | 0.92, 1.00\n",
            "0.60 |      1.00 | 0.97, 1.00\n",
            "\n"
          ]
        }
      ],
      "source": [
        "%%R\n",
        "effect<-ggeffects::predict_response(fit.logit, \"WAs\", margin = \"empirical\")\n",
        "effect"
      ]
    },
    {
      "cell_type": "markdown",
      "metadata": {
        "id": "p_7SskXfgJip"
      },
      "source": [
        "The marginal effects of \"MHL\", relative to \"HL\" is:"
      ]
    },
    {
      "cell_type": "code",
      "execution_count": null,
      "metadata": {
        "colab": {
          "base_uri": "https://localhost:8080/"
        },
        "id": "VoozH-MxgKXi",
        "outputId": "b64479ff-d806-431a-ddb6-649bcd968a46"
      },
      "outputs": [
        {
          "name": "stdout",
          "output_type": "stream",
          "text": [
            "[1] 0.5179228\n"
          ]
        }
      ],
      "source": [
        "%%R\n",
        "effect$predicted[2] - effect$predicted[1]"
      ]
    },
    {
      "cell_type": "markdown",
      "metadata": {
        "id": "jXrvX-hSgQzB"
      },
      "source": [
        "{ggeffects} supports labelled data and the `plot()` method automatically sets titles, axis - and legend-labels depending on the value and variable labels of the data."
      ]
    },
    {
      "cell_type": "code",
      "execution_count": null,
      "metadata": {
        "colab": {
          "base_uri": "https://localhost:8080/",
          "height": 469
        },
        "id": "F3_nBQb6gRiW",
        "outputId": "b0e1793e-3db9-45a6-8468-85d1a6c96f59"
      },
      "outputs": [
        {
          "name": "stderr",
          "output_type": "stream",
          "text": [
            "WARNING:rpy2.rinterface_lib.callbacks:R[write to console]: Data were 'prettified'. Consider using `terms=\"WAs [all]\"` to get smooth\n",
            "  plots.\n",
            "\n"
          ]
        },
        {
          "data": {
            "image/png": "[encoded data removed]"
          },
          "metadata": {},
          "output_type": "display_data"
        }
      ],
      "source": [
        "%%R -w 650 -h 400 -u px\n",
        "was.wfe <- predict_response(fit.logit, terms = c(\"WAs\", \"WFe\"))\n",
        "plot(was.wfe, facets = TRUE)"
      ]
    },
    {
      "cell_type": "code",
      "execution_count": null,
      "metadata": {
        "colab": {
          "base_uri": "https://localhost:8080/"
        },
        "id": "ujGFMaNWghpa",
        "outputId": "7df55da0-a120-41c1-f4d6-5eb345339113"
      },
      "outputs": [
        {
          "name": "stderr",
          "output_type": "stream",
          "text": [
            "WARNING:rpy2.rinterface_lib.callbacks:R[write to console]: Data were 'prettified'. Consider using `terms=\"WAs [all]\"` to get smooth\n",
            "  plots.\n",
            "\n"
          ]
        },
        {
          "name": "stdout",
          "output_type": "stream",
          "text": [
            "# Predicted probabilities of Class_As\n",
            "\n",
            "Year_Irrigation: 2.7\n",
            "WFe: 3.25\n",
            "\n",
            " WAs | Predicted |     95% CI\n",
            "-----------------------------\n",
            "0.00 |      0.04 | 0.01, 0.13\n",
            "0.20 |      0.32 | 0.16, 0.54\n",
            "0.40 |      0.86 | 0.45, 0.98\n",
            "0.60 |      0.99 | 0.73, 1.00\n",
            "\n",
            "Year_Irrigation: 2.7\n",
            "WFe: 5.27\n",
            "\n",
            " WAs | Predicted |     95% CI\n",
            "-----------------------------\n",
            "0.00 |      0.07 | 0.02, 0.21\n",
            "0.20 |      0.49 | 0.30, 0.69\n",
            "0.40 |      0.92 | 0.62, 0.99\n",
            "0.60 |      0.99 | 0.84, 1.00\n",
            "\n",
            "Year_Irrigation: 2.7\n",
            "WFe: 7.29\n",
            "\n",
            " WAs | Predicted |     95% CI\n",
            "-----------------------------\n",
            "0.00 |      0.14 | 0.04, 0.36\n",
            "0.20 |      0.66 | 0.42, 0.84\n",
            "0.40 |      0.96 | 0.75, 1.00\n",
            "0.60 |      1.00 | 0.91, 1.00\n",
            "\n",
            "Year_Irrigation: 7.2\n",
            "WFe: 3.25\n",
            "\n",
            " WAs | Predicted |     95% CI\n",
            "-----------------------------\n",
            "0.00 |      0.13 | 0.04, 0.31\n",
            "0.20 |      0.64 | 0.43, 0.81\n",
            "0.40 |      0.96 | 0.74, 0.99\n",
            "0.60 |      1.00 | 0.90, 1.00\n",
            "\n",
            "Year_Irrigation: 7.2\n",
            "WFe: 5.27\n",
            "\n",
            " WAs | Predicted |     95% CI\n",
            "-----------------------------\n",
            "0.00 |      0.23 | 0.09, 0.45\n",
            "0.20 |      0.79 | 0.61, 0.89\n",
            "0.40 |      0.98 | 0.85, 1.00\n",
            "0.60 |      1.00 | 0.95, 1.00\n",
            "\n",
            "Year_Irrigation: 7.2\n",
            "WFe: 7.29\n",
            "\n",
            " WAs | Predicted |     95% CI\n",
            "-----------------------------\n",
            "0.00 |      0.37 | 0.16, 0.65\n",
            "0.20 |      0.88 | 0.72, 0.96\n",
            "0.40 |      0.99 | 0.91, 1.00\n",
            "0.60 |      1.00 | 0.97, 1.00\n",
            "\n",
            "Year_Irrigation: 11.6\n",
            "WFe: 3.25\n",
            "\n",
            " WAs | Predicted |     95% CI\n",
            "-----------------------------\n",
            "0.00 |      0.34 | 0.14, 0.64\n",
            "0.20 |      0.87 | 0.68, 0.95\n",
            "0.40 |      0.99 | 0.90, 1.00\n",
            "0.60 |      1.00 | 0.97, 1.00\n",
            "\n",
            "Year_Irrigation: 11.6\n",
            "WFe: 5.27\n",
            "\n",
            " WAs | Predicted |     95% CI\n",
            "-----------------------------\n",
            "0.00 |      0.52 | 0.25, 0.77\n",
            "0.20 |      0.93 | 0.81, 0.98\n",
            "0.40 |      0.99 | 0.94, 1.00\n",
            "0.60 |      1.00 | 0.98, 1.00\n",
            "\n",
            "Year_Irrigation: 11.6\n",
            "WFe: 7.29\n",
            "\n",
            " WAs | Predicted |     95% CI\n",
            "-----------------------------\n",
            "0.00 |      0.69 | 0.37, 0.89\n",
            "0.20 |      0.96 | 0.87, 0.99\n",
            "0.40 |      1.00 | 0.97, 1.00\n",
            "0.60 |      1.00 | 0.99, 1.00\n",
            "\n",
            "Adjusted for:\n",
            "*        SAoFe = 2576.72\n",
            "*          SOC =    1.35\n",
            "* Distance_STW =    9.77\n",
            "*    Land_type =      HL\n"
          ]
        }
      ],
      "source": [
        "%%R\n",
        "was.year.wfe<- predict_response(fit.logit, terms = c(\"WAs\", \"Year_Irrigation\", \"WFe\"))\n",
        "was.year.wfe"
      ]
    },
    {
      "cell_type": "code",
      "execution_count": null,
      "metadata": {
        "colab": {
          "base_uri": "https://localhost:8080/",
          "height": 434
        },
        "id": "oWsTUEX5go17",
        "outputId": "61bd2148-cdfe-4a17-e872-191ee8e962d6"
      },
      "outputs": [
        {
          "name": "stdout",
          "output_type": "stream",
          "text": [
            "`geom_smooth()` using formula = 'y ~ x'\n"
          ]
        },
        {
          "data": {
            "image/png": "[encoded data removed]"
          },
          "metadata": {},
          "output_type": "display_data"
        }
      ],
      "source": [
        "%%R -w 650 -h 400 -u px\n",
        "# select specific levels for grouping terms\n",
        "ggplot(was.year.wfe, aes(x = x, y = predicted, colour = group)) +\n",
        "  stat_smooth(method = \"lm\", se = FALSE) +\n",
        "  facet_wrap(~facet) +\n",
        "  labs(\n",
        "    y = get_y_title(was.year.wfe),\n",
        "    x = get_x_title(was.year.wfe),\n",
        "    colour = get_legend_title(was.year.wfe)\n",
        "  )"
      ]
    },
    {
      "cell_type": "markdown",
      "metadata": {
        "id": "5FdofgYAg0gG"
      },
      "source": [
        "`effect_plot()` function of **jtools** package plot simple effects in logitic regression models:"
      ]
    },
    {
      "cell_type": "code",
      "execution_count": null,
      "metadata": {
        "colab": {
          "base_uri": "https://localhost:8080/",
          "height": 497
        },
        "id": "nYFqMccig1U1",
        "outputId": "8f2e9639-920e-46b4-aca2-eeba29b03b32"
      },
      "outputs": [
        {
          "data": {
            "image/png": "[encoded data removed]"
          },
          "metadata": {},
          "output_type": "display_data"
        }
      ],
      "source": [
        "%%R\n",
        "p1<-jtools::effect_plot(fit.logit,\n",
        "                    main.title = \"Water As\",\n",
        "                    pred = WAs,\n",
        "                    interval = TRUE,\n",
        "                    partial.residuals = TRUE)\n",
        "p2<-jtools::effect_plot(fit.logit,\n",
        "                    main.title = \"Year of Irrigation \",\n",
        "                    pred = Year_Irrigation,\n",
        "                    interval = TRUE,\n",
        "                    partial.residuals = TRUE)\n",
        "p3<-jtools::effect_plot(fit.logit,\n",
        "                    main.title = \"Diastance_STW\",\n",
        "                    pred = Distance_STW ,\n",
        "                    interval = TRUE,\n",
        "                    partial.residuals = TRUE)\n",
        "p4<-jtools::effect_plot(fit.logit,\n",
        "                    main.title = \"Land type\",\n",
        "                    pred = Land_type,\n",
        "                    interval = TRUE,\n",
        "                    partial.residuals = TRUE)\n",
        "library(patchwork)\n",
        "(p1+p2)/(p3 +p4)"
      ]
    },
    {
      "cell_type": "markdown",
      "metadata": {
        "id": "5vRs80HFCX7i"
      },
      "source": [
        "### Cross-validation\n",
        "\n"
      ]
    },
    {
      "cell_type": "markdown",
      "metadata": {
        "id": "raZGNsZoCg0n"
      },
      "source": [
        "#### k-fold cross-validation\n",
        "\n",
        "The {boot} package’s `cv.glm()` function provides an easy way to do `k-fold cross-validation` on GLM models. Here first we fit GLM model for entire dataset then we apply `cv.glm()` on fitted glm object."
      ]
    },
    {
      "cell_type": "code",
      "execution_count": null,
      "metadata": {
        "colab": {
          "base_uri": "https://localhost:8080/"
        },
        "id": "Nnt1nXcaCp7p",
        "outputId": "40527c84-0978-4fd1-883f-0cfe9878058a"
      },
      "outputs": [
        {
          "name": "stdout",
          "output_type": "stream",
          "text": [
            "[1] 0.05323194 0.04259133\n"
          ]
        }
      ],
      "source": [
        "%%R\n",
        "## Define cost function (for misclassification error)\n",
        "cost <- function(r, pi) {\n",
        "  # Convert predicted probabilities to binary predictions\n",
        "  predictions <- ifelse(pi > 0.5, 1, 0)\n",
        "  # Calculate the misclassification error\n",
        "  mean(predictions != r)\n",
        "}\n",
        "\n",
        "fit.logit.mf<-glm(Class_As~., data= mf,\n",
        "             family = binomial(link = \"logit\"))\n",
        "cv_result <- cv.glm(data = mf, glmfit = fit.logit.mf, K = 5, cost = cost)\n",
        "\n",
        "# Print cross-validation error\n",
        "print(cv_result$delta)"
      ]
    },
    {
      "cell_type": "markdown",
      "metadata": {
        "id": "na7LwjsACyO6"
      },
      "source": [
        "However, this `cv.glm()` function does not directly provide predicted classes for each observation in the test folds; it only provides the `cross-validated error` estimates. However, we can achieve this by manually implementing k-fold cross-validation and storing the predictions for each fold."
      ]
    },
    {
      "cell_type": "code",
      "execution_count": null,
      "metadata": {
        "id": "tZp_4nzGC5GK"
      },
      "outputs": [],
      "source": [
        "%%R\n",
        "# Custom cross-validation function to get predicted classes\n",
        "cross_validation_glm_predictions <- function(formula, data, k = 5, family = binomial, seed = 123) {\n",
        "  set.seed(seed)\n",
        "\n",
        "  n <- nrow(data)\n",
        "  folds <- sample(rep(1:k, length.out = n))\n",
        "\n",
        "  # Initialize a vector to store predicted probabilities\n",
        "  all_probabilities <- numeric(n)\n",
        "\n",
        "  for (i in 1:k) {\n",
        "    train_data <- data[folds != i, ]\n",
        "    test_data <- data[folds == i, ]\n",
        "\n",
        "    # Fit GLM model\n",
        "    model <- glm(formula = formula, data = train_data, family = family)\n",
        "\n",
        "    # Predict probabilities for the test set\n",
        "    test_probabilities <- predict(model, newdata = test_data, type = \"response\")\n",
        "\n",
        "    # Store probabilities in the correct positions\n",
        "    all_probabilities[folds == i] <- test_probabilities\n",
        "  }\n",
        "\n",
        "  return(all_probabilities)\n",
        "}\n",
        "\n",
        "# cress-validation\n",
        "predicted_prob <- cross_validation_glm_predictions(\n",
        "  formula = Class_As ~ WAs + WFe +  SAoFe + SOC + Year_Irrigation + Distance_STW + Land_type,\n",
        "  data = mf,\n",
        "  k = 5,\n",
        "  family = binomial\n",
        ")\n"
      ]
    },
    {
      "cell_type": "markdown",
      "metadata": {
        "id": "_iJbZNVZC8yc"
      },
      "source": [
        "#### Cross-validation Performance"
      ]
    },
    {
      "cell_type": "code",
      "execution_count": null,
      "metadata": {
        "colab": {
          "base_uri": "https://localhost:8080/"
        },
        "id": "LBeJ3hnYC9j2",
        "outputId": "d4c57b4d-4891-4630-c10a-291b1aa3f575"
      },
      "outputs": [
        {
          "name": "stdout",
          "output_type": "stream",
          "text": [
            "Accuracy: 0.7984791 \n",
            "Precision: 0.8232044 \n",
            "Recall: 0.8764706 \n",
            "F1 Score: 0.8490028 \n"
          ]
        }
      ],
      "source": [
        "%%R\n",
        "## predicted class\n",
        "predicted_classes<-ifelse(predicted_prob  > 0.5, 1 ,0)\n",
        "# actual class\n",
        "actual_classes<-ifelse(mf$Class_As==\"Yes\", 1, 0)\n",
        "# Calculate True Positives, False Positives, True Negatives, False Negatives\n",
        "TP <- sum(actual_classes == 1 & predicted_classes == 1)\n",
        "FP <- sum(actual_classes == 0 & predicted_classes == 1)\n",
        "TN <- sum(actual_classes == 0 & predicted_classes == 0)\n",
        "FN <- sum(actual_classes == 1 & predicted_classes == 0)\n",
        "\n",
        "# Calculate Accuracy\n",
        "accuracy <- (TP + TN) / (TP + FP + TN + FN)\n",
        "\n",
        "# Calculate Precision\n",
        "precision <- TP / (TP + FP)\n",
        "\n",
        "# Calculate Recall\n",
        "recall <- TP / (TP + FN)\n",
        "\n",
        "# Calculate F1 Score\n",
        "f1_score <- 2 * (precision * recall) / (precision + recall)\n",
        "\n",
        "# Display results\n",
        "cat(\"Accuracy:\", accuracy, \"\\n\")\n",
        "cat(\"Precision:\", precision, \"\\n\")\n",
        "cat(\"Recall:\", recall, \"\\n\")\n",
        "cat(\"F1 Score:\", f1_score, \"\\n\")"
      ]
    },
    {
      "cell_type": "markdown",
      "metadata": {
        "id": "7Fco-joUDEIg"
      },
      "source": [
        "#### ROC Curve\n",
        "\n",
        "The ROC analysis can easily be performed using `roc()` function of {pROC} package."
      ]
    },
    {
      "cell_type": "code",
      "execution_count": null,
      "metadata": {
        "colab": {
          "base_uri": "https://localhost:8080/",
          "height": 486
        },
        "id": "94ibococDFQK",
        "outputId": "7d74a4af-0e67-442e-df43-d2593f1b35bc"
      },
      "outputs": [
        {
          "name": "stderr",
          "output_type": "stream",
          "text": [
            "WARNING:rpy2.rinterface_lib.callbacks:R[write to console]: Setting levels: control = 0, case = 1\n",
            "\n",
            "WARNING:rpy2.rinterface_lib.callbacks:R[write to console]: Setting direction: controls < cases\n",
            "\n"
          ]
        },
        {
          "data": {
            "image/png": "[encoded data removed]"
          },
          "metadata": {},
          "output_type": "display_data"
        }
      ],
      "source": [
        "%%R -w 450 -h 400 -u px\n",
        "\n",
        "# compute ROC\n",
        "roc_curve <- roc(actual_classes, predicted_prob )\n",
        "\n",
        "# Plot the ROC curve\n",
        "plot(roc_curve, main = \"ROC Curve\", col = \"blue\", lwd = 2)\n",
        "\n",
        "# Add AUC to the plot\n",
        "auc_value <- auc(roc_curve)\n",
        "legend(\"bottomright\", legend = paste(\"AUC =\", round(auc_value, 2)), bty = \"n\")"
      ]
    },
    {
      "cell_type": "markdown",
      "metadata": {
        "id": "IwT54Ppr8Yjd"
      },
      "source": [
        "### Prediction at test locations\n",
        "\n",
        "The `predict()` function for logistic models returns the default predictions of log-odds, which are probabilities on the logit scale. When type = `response`, the function provides the predicted probabilities.\n",
        "\n"
      ]
    },
    {
      "cell_type": "code",
      "execution_count": null,
      "metadata": {
        "id": "C-7eRTr48ZnL"
      },
      "outputs": [],
      "source": [
        "%%R\n",
        "test$Pred_prob<-predict(fit.logit, test, type = \"response\")\n",
        "# setting the cut-off probability\n",
        "test$Pred_Class<- ifelse(test$Pred_prob > 0.5,\"Yes\",\"No\")"
      ]
    },
    {
      "cell_type": "code",
      "execution_count": null,
      "metadata": {
        "colab": {
          "base_uri": "https://localhost:8080/"
        },
        "id": "ZN9q08iMhJEe",
        "outputId": "da0d3ae9-739c-44c9-84ce-296138fc0887"
      },
      "outputs": [
        {
          "name": "stdout",
          "output_type": "stream",
          "text": [
            "# Predicted probabilities of Class_As\n",
            "\n",
            " WAs | Predicted |     95% CI\n",
            "-----------------------------\n",
            "0.00 |      0.23 | 0.09, 0.45\n",
            "0.05 |      0.35 | 0.20, 0.55\n",
            "0.15 |      0.66 | 0.50, 0.79\n",
            "0.20 |      0.78 | 0.61, 0.89\n",
            "0.25 |      0.87 | 0.69, 0.95\n",
            "0.30 |      0.93 | 0.76, 0.98\n",
            "0.35 |      0.96 | 0.81, 0.99\n",
            "0.50 |      0.99 | 0.91, 1.00\n",
            "\n",
            "Adjusted for:\n",
            "*             WFe =    5.27\n",
            "*           SAoFe = 2576.72\n",
            "*             SOC =    1.35\n",
            "* Year_Irrigation =    7.19\n",
            "*    Distance_STW =    9.77\n",
            "*       Land_type =      HL\n"
          ]
        },
        {
          "name": "stderr",
          "output_type": "stream",
          "text": [
            "WARNING:rpy2.rinterface_lib.callbacks:R[write to console]: \n",
            "Not all rows are shown in the output. Use `print(..., n = Inf)` to show\n",
            "  all rows.\n",
            "\n"
          ]
        }
      ],
      "source": [
        "%%R\n",
        "ggpredict(fit.logit, terms = \"WAs[0:0.50 by = 0.05]\")"
      ]
    },
    {
      "cell_type": "markdown",
      "metadata": {
        "id": "HffNpARv8wZ4"
      },
      "source": [
        "#### Confusion Matrix at 50% Cut-Off Probability\n",
        "\n",
        "Now, we classified an sites in the test data set with a probability of As contamination is greater than 0.5, as `Yes`, otherwise `No`.\n",
        "\n",
        "\n"
      ]
    },
    {
      "cell_type": "code",
      "execution_count": null,
      "metadata": {
        "colab": {
          "base_uri": "https://localhost:8080/"
        },
        "id": "FeiYHGpS8xIJ",
        "outputId": "39189e8b-f491-4e85-b2f3-c75544ce2b69"
      },
      "outputs": [
        {
          "name": "stdout",
          "output_type": "stream",
          "text": [
            "      Predicted\n",
            "Actual No Yes\n",
            "   No  17  11\n",
            "   Yes  9  43\n"
          ]
        }
      ],
      "source": [
        "%%R\n",
        "# Confusion matrix, proportion of cases\n",
        "confusion_matrix = table(Actual = test$Class_As, Predicted =test$Pred_Class)\n",
        "confusion_matrix"
      ]
    },
    {
      "cell_type": "markdown",
      "metadata": {
        "id": "3k-A2MwcD1l8"
      },
      "source": [
        "\n",
        "\n",
        "#### Prediction Performance"
      ]
    },
    {
      "cell_type": "code",
      "execution_count": null,
      "metadata": {
        "colab": {
          "base_uri": "https://localhost:8080/"
        },
        "id": "-K_iMJ8zD0lG",
        "outputId": "05e2262a-cd94-432e-e790-a87b8185466a"
      },
      "outputs": [
        {
          "name": "stdout",
          "output_type": "stream",
          "text": [
            "Accuracy: 0.75 \n",
            "Precision: 0.8269231 \n",
            "Recall: 0.7962963 \n",
            "Specificity: 0.6538462 \n",
            "F1 Score: 0.8113208 \n"
          ]
        }
      ],
      "source": [
        "%%R\n",
        "# define variables\n",
        "    TP <- confusion_matrix[2, 2]\n",
        "    TN <- confusion_matrix[1, 1]\n",
        "    FP <- confusion_matrix[2, 1]\n",
        "    FN <- confusion_matrix[1, 2]\n",
        "\n",
        "    # accuracy\n",
        "    accuracy <- (TP + TN) / sum(confusion_matrix)\n",
        "\n",
        "    # precision\n",
        "    precision <- TP / (TP + FP)\n",
        "\n",
        "    # Recall\n",
        "    recall <- TP / (TP + FN)\n",
        "\n",
        "    # specificity\n",
        "    specificity <- TN / (TN + FP)\n",
        "\n",
        "    # f1_score\n",
        "    f1_score <- 2 * (precision * recall) / (precision + recall)\n",
        "\n",
        "    # Print the results\n",
        "    cat(\"Accuracy:\", accuracy, \"\\n\")\n",
        "    cat(\"Precision:\", precision, \"\\n\")\n",
        "    cat(\"Recall:\", recall, \"\\n\")\n",
        "    cat(\"Specificity:\", specificity, \"\\n\")\n",
        "    cat(\"F1 Score:\", f1_score, \"\\n\")"
      ]
    },
    {
      "cell_type": "markdown",
      "metadata": {
        "id": "Wtz0dTdMFujY"
      },
      "source": [
        "#### ROC Curve\n",
        "\n",
        "\n",
        "The ROC analysis can be easily performed using `roc()` of {pROC} package."
      ]
    },
    {
      "cell_type": "code",
      "execution_count": null,
      "metadata": {
        "colab": {
          "base_uri": "https://localhost:8080/",
          "height": 486
        },
        "id": "U-CprD8tFuto",
        "outputId": "c3f84836-1603-4cfa-84cd-2ec491c9b4a5"
      },
      "outputs": [
        {
          "name": "stderr",
          "output_type": "stream",
          "text": [
            "WARNING:rpy2.rinterface_lib.callbacks:R[write to console]: Setting levels: control = No, case = Yes\n",
            "\n",
            "WARNING:rpy2.rinterface_lib.callbacks:R[write to console]: Setting direction: controls < cases\n",
            "\n"
          ]
        },
        {
          "data": {
            "image/png": "[encoded data removed]"
          },
          "metadata": {},
          "output_type": "display_data"
        }
      ],
      "source": [
        "%%R -w 450 -h 400 -u px\n",
        "# Compute roc\n",
        "res.roc <- pROC::roc(test$Class_As, test$Pred_prob)\n",
        "plot.roc(res.roc, print.auc = TRUE)"
      ]
    },
    {
      "cell_type": "markdown",
      "metadata": {
        "id": "ZXNb9b_HF2ZB"
      },
      "source": [
        "On a graph, the gray diagonal line represents a classifier's performance that is no better than random chance. In contrast, a high-performing classifier will exhibit a ROC curve that rises steeply towards the top-left corner. This indicates that it can correctly identify a large number of positives without misclassifying many negatives. The AUC metric is commonly used to evaluate the performance of a classifier. An AUC value close to 1, which is the maximum possible value, is indicative of a highly effective classifier. In this case, our classifier exhibits an AUC value of 0.79, suggesting that it is indeed good. By contrast, a classifier that performs no better than random chance would have an AUC value of 0.5 when assessed using an independent test set that was not used for training the model."
      ]
    },
    {
      "cell_type": "code",
      "execution_count": null,
      "metadata": {
        "colab": {
          "base_uri": "https://localhost:8080/"
        },
        "id": "Uqtk5tScF32M",
        "outputId": "ca3c9c63-12b8-473b-e0bb-2c7401acaa61"
      },
      "outputs": [
        {
          "name": "stdout",
          "output_type": "stream",
          "text": [
            "# A tibble: 62 × 3\n",
            "   thresholds sensitivity specificity\n",
            "        <dbl>       <dbl>       <dbl>\n",
            " 1      0.333       0.904       0.5  \n",
            " 2      0.364       0.885       0.5  \n",
            " 3      0.374       0.885       0.536\n",
            " 4      0.391       0.865       0.536\n",
            " 5      0.405       0.865       0.571\n",
            " 6      0.416       0.846       0.571\n",
            " 7      0.437       0.827       0.571\n",
            " 8      0.478       0.827       0.607\n",
            " 9      0.513       0.827       0.643\n",
            "10      0.524       0.827       0.679\n",
            "# ℹ 52 more rows\n",
            "# ℹ Use `print(n = ...)` to see more rows\n"
          ]
        }
      ],
      "source": [
        "%%R\n",
        "# Extract some interesting results\n",
        "roc.data <-tibble(\n",
        "  thresholds = res.roc$thresholds,\n",
        "  sensitivity = res.roc$sensitivities,\n",
        "  specificity = res.roc$specificities\n",
        ")\n",
        "# Get the probability threshold for specificity = 0.5\n",
        "roc.data  |>\n",
        "  filter(specificity >= 0.5)"
      ]
    },
    {
      "cell_type": "code",
      "execution_count": null,
      "metadata": {
        "colab": {
          "base_uri": "https://localhost:8080/",
          "height": 417
        },
        "id": "3UtkNr3XF-Zj",
        "outputId": "7ec23099-19aa-43a0-d5da-c7e5ef93a8d5"
      },
      "outputs": [
        {
          "data": {
            "image/png": "[encoded data removed]"
          },
          "metadata": {},
          "output_type": "display_data"
        }
      ],
      "source": [
        "%%R -w 450 -h 400 -u px\n",
        "plot.roc(res.roc, print.auc = TRUE, print.thres = \"best\")"
      ]
    },
    {
      "cell_type": "code",
      "execution_count": null,
      "metadata": {
        "id": "eKHNkUugcF_c"
      },
      "outputs": [],
      "source": [
        "%%R\n",
        "rm(list=ls())"
      ]
    },
    {
      "cell_type": "markdown",
      "metadata": {
        "id": "obr7OxEWTcUa"
      },
      "source": [
        "## Summary and Conclusion\n",
        "\n",
        "This tutorial explains how to apply logistic regression to perform binary classification in R. It covers data preparation, model fitting, evaluation, and interpretation of results. It also provides insights into interpreting the coefficients of the logistic regression model and discusses potential challenges. By following this tutorial, readers can gain a solid understanding of logistic regression analysis in R.\n",
        "\n",
        "Using logistic regression in R, researchers and data analysts can make informed decisions, identify important factors influencing binary outcomes, and gain insights into the relationships between predictors and outcome probabilities.\n"
      ]
    },
    {
      "cell_type": "markdown",
      "metadata": {
        "id": "rUHrNY9J9lMg"
      },
      "source": [
        "## References\n",
        "\n",
        "1.  [How to Perform Logistic Regression in R](https://www.statology.org/logistic-regression-in-r/)\n",
        "\n",
        "2.  [Evaluation of Classification Model Accuracy: Essentials](http://www.sthda.com/english/articles/36-classification-methods-essentials/143-evaluation-of-classification-model-accuracy-essentials/)\n",
        "\n",
        "3.  [Precision, Recall and F1-Score using R](https://www.geeksforgeeks.org/precision-recall-and-f1-score-using-r/)\n",
        "\n",
        "4.  [Chapter 6 Binary Logistic Regression](https://www.bookdown.org/rwnahhas/RMPH/blr.html)\n",
        "\n",
        "5.  [Chapter 10 Binary Logistic Regression](https://bookdown.org/chua/ber642_advanced_regression/binary-logistic-regression.html)\n",
        "\n",
        "6.  R Online Manual: [glm](http://stat.ethz.ch/R-manual/R-patched/library/stats/html/glm.html)\n",
        "\n",
        "7.  [Applied Logistic Regression (Second Edition)](https://stats.oarc.ucla.edu/examples/alr2/) by David Hosmer and Stanley Lemeshow\n",
        "\n",
        "8.  [Stat Books for Loan, Logistic Regression and Limited Dependent Variables](https://stats.oarc.ucla.edu/books/#Logistic%20Regression%20and%20Related%20Methods)\n",
        "\n",
        "\n",
        "\n"
      ]
    }
  ],
  "metadata": {
    "colab": {
      "authorship_tag": "ABX9TyPnx7qdg6I//tH9dHlpulZv",
      "include_colab_link": true,
      "provenance": [],
      "toc_visible": true
    },
    "kernelspec": {
      "display_name": "3.11.11",
      "language": "python",
      "name": "python3"
    },
    "language_info": {
      "codemirror_mode": {
        "name": "ipython",
        "version": 3
      },
      "file_extension": ".py",
      "mimetype": "text/x-python",
      "name": "python",
      "nbconvert_exporter": "python",
      "pygments_lexer": "ipython3",
      "version": "3.11.11"
    }
  },
  "nbformat": 4,
  "nbformat_minor": 0
}
