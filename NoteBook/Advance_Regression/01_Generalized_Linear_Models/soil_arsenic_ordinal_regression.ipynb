{
 "cells": [
  {
   "cell_type": "markdown",
   "metadata": {},
   "source": [
    "# 🌱 Ordinal Regression on Soil Arsenic Data\n",
    "\n",
    "This notebook performs ordinal logistic regression to predict soil arsenic contamination levels (Non / Moderate / High) based on environmental variables."
   ]
  },
  {
   "cell_type": "code",
   "execution_count": null,
   "metadata": {},
   "outputs": [],
   "source": [
    "# Import required libraries\n",
    "import pandas as pd\n",
    "import numpy as np\n",
    "import matplotlib.pyplot as plt\n",
    "import seaborn as sns\n",
    "from scipy import stats\n",
    "\n",
    "# For ordinal logistic regression\n",
    "from statsmodels.miscmodels.ordinal_model import OrderedModel\n",
    "\n",
    "# For preprocessing\n",
    "from sklearn.preprocessing import StandardScaler\n",
    "from sklearn.model_selection import StratifiedKFold, train_test_split\n",
    "from sklearn.metrics import accuracy_score, confusion_matrix\n",
    "\n",
    "# Set plot style\n",
    "sns.set(style=\"whitegrid\")\n",
    "%matplotlib inline"
   ]
  },
  {
   "cell_type": "markdown",
   "metadata": {},
   "source": [
    "## 🔹 Step 1: Load Data"
   ]
  },
  {
   "cell_type": "code",
   "execution_count": null,
   "metadata": {},
   "outputs": [],
   "source": [
    "url = \"https://github.com/zia207/r-colab/raw/main/Data/Regression_analysis/bd_soil_arsenic.csv\"\n",
    "mf = pd.read_csv(url)\n",
    "\n",
    "print(\"✅ Data loaded successfully!\")\n",
    "print(mf.head())"
   ]
  },
  {
   "cell_type": "markdown",
   "metadata": {},
   "source": [
    "## 🔹 Step 2: Create Ordinal Class for Soil Arsenic (`SAs`)"
   ]
  },
  {
   "cell_type": "code",
   "execution_count": null,
   "metadata": {},
   "outputs": [],
   "source": [
    "# Define bins and labels\n",
    "bins = [-float('inf'), 14.8, 20, float('inf')]\n",
    "labels = ['Non-contaminated', 'Moderately-contaminated', 'Highly-contaminated']\n",
    "\n",
    "# Create ordinal categorical variable\n",
    "mf['Class_As'] = pd.cut(mf['SAs'], bins=bins, labels=labels, ordered=True)\n",
    "\n",
    "print(\"Distribution of contamination classes:\")\n",
    "print(mf['Class_As'].value_counts().sort_index())"
   ]
  },
  {
   "cell_type": "markdown",
   "metadata": {},
   "source": [
    "## 🔹 Step 3: Data Processing"
   ]
  },
  {
   "cell_type": "code",
   "execution_count": null,
   "metadata": {},
   "outputs": [],
   "source": [
    "# Select variables for modeling\n",
    "selected_cols = [\n",
    "    'WAs', 'WFe', 'SOC', 'SAoFe',\n",
    "    'Year_Irrigation', 'Distance_STW',\n",
    "    'Land_type', 'Class_As'\n",
    "]\n",
    "\n",
    "df = mf[selected_cols].copy()\n",
    "\n",
    "# Convert categorical variables\n",
    "df['Land_type'] = df['Land_type'].astype('category')\n",
    "df['Class_As'] = df['Class_As'].astype('category')\n",
    "\n",
    "# Normalize numerical columns (first 6)\n",
    "numerical_cols = selected_cols[:6]\n",
    "df[numerical_cols] = (df[numerical_cols] - df[numerical_cols].min()) / \\\n",
    "                     (df[numerical_cols].max() - df[numerical_cols].min())\n",
    "\n",
    "print(\"✅ Processed \")\n",
    "print(df.head())"
   ]
  },
  {
   "cell_type": "markdown",
   "metadata": {},
   "source": [
    "## 🔹 Step 4: Stratified Train-Test Split"
   ]
  },
  {
   "cell_type": "code",
   "execution_count": null,
   "metadata": {},
   "outputs": [],
   "source": [
    "np.random.seed(101)\n",
    "\n",
    "# Create interaction for stratification\n",
    "df['strata'] = df['Land_type'].astype(str) + \"_\" + df['Class_As'].astype(str)\n",
    "\n",
    "train, test = train_test_split(\n",
    "    df,\n",
    "    test_size=0.3,\n",
    "    stratify=df['strata'],\n",
    "    random_state=101\n",
    ")\n",
    "\n",
    "train = train.drop(columns=['strata']).reset_index(drop=True)\n",
    "test = test.drop(columns=['strata']).reset_index(drop=True)\n",
    "\n",
    "print(\"Train Class_As proportions:\")\n",
    "print(train['Class_As'].value_counts(normalize=True))\n",
    "\n",
    "print(\"\\nTest Class_As proportions:\")\n",
    "print(test['Class_As'].value_counts(normalize=True))"
   ]
  },
  {
   "cell_type": "markdown",
   "metadata": {},
   "source": [
    "## 🔹 Step 5: Prepare Features and Target"
   ]
  },
  {
   "cell_type": "code",
   "execution_count": null,
   "metadata": {},
   "outputs": [],
   "source": [
    "feature_cols = [\n",
    "    'WAs', 'WFe', 'SOC', 'SAoFe',\n",
    "    'Year_Irrigation', 'Distance_STW',\n",
    "    'Land_type'\n",
    "]\n",
    "\n",
    "# Target: ordinal encoding (0, 1, 2)\n",
    "class_order = ['Non-contaminated', 'Moderately-contaminated', 'Highly-contaminated']\n",
    "train['Class_As_ordinal'] = pd.Categorical(train['Class_As'], categories=class_order, ordered=True).codes\n",
    "test['Class_As_ordinal'] = pd.Categorical(test['Class_As'], categories=class_order, ordered=True).codes\n",
    "\n",
    "train_y = train['Class_As_ordinal']\n",
    "test_y = test['Class_As_ordinal']\n",
    "\n",
    "# Features\n",
    "X_train = train[feature_cols]\n",
    "X_test = test[feature_cols]\n",
    "\n",
    "# One-hot encode Land_type\n",
    "X_train = pd.get_dummies(X_train, drop_first=True)\n",
    "X_test = pd.get_dummies(X_test, drop_first=True)\n",
    "\n",
    "# Align columns\n",
    "X_train, X_test = X_train.align(X_test, join='left', axis=1, fill_value=0)\n",
    "\n",
    "# Scale features\n",
    "scaler = StandardScaler()\n",
    "X_train_scaled = scaler.fit_transform(X_train)\n",
    "X_test_scaled = scaler.transform(X_test)\n",
    "\n",
    "X_train_df = pd.DataFrame(X_train_scaled, columns=X_train.columns)\n",
    "X_test_df = pd.DataFrame(X_test_scaled, columns=X_test.columns)\n",
    "\n",
    "print(\"✅ Features and target are ready and aligned.\")"
   ]
  },
  {
   "cell_type": "markdown",
   "metadata": {},
   "source": [
    "## 🔹 Step 6: Fit Intercept-Only Model"
   ]
  },
  {
   "cell_type": "code",
   "execution_count": null,
   "metadata": {},
   "outputs": [],
   "source": [
    "X_intercept = np.ones((X_train_df.shape[0], 1))\n",
    "\n",
    "intercept_model = OrderedModel(\n",
    "    endog=train_y,\n",
    "    exog=X_intercept,\n",
    "    distr='logit'\n",
    ")\n",
    "\n",
    "result_intercept = intercept_model.fit(method='bfgs', disp=False)\n",
    "print(result_intercept.summary())"
   ]
  },
  {
   "cell_type": "markdown",
   "metadata": {},
   "source": [
    "## 🔹 Step 7: Fit Full Model"
   ]
  },
  {
   "cell_type": "code",
   "execution_count": null,
   "metadata": {},
   "outputs": [],
   "source": [
    "full_model = OrderedModel(\n",
    "    endog=train_y,\n",
    "    exog=X_train_df,\n",
    "    distr='logit'\n",
    ")\n",
    "\n",
    "result_full = full_model.fit(method='bfgs', disp=False)\n",
    "print(result_full.summary())"
   ]
  },
  {
   "cell_type": "markdown",
   "metadata": {},
   "source": [
    "## 🔹 Step 8: Likelihood Ratio Test"
   ]
  },
  {
   "cell_type": "code",
   "execution_count": null,
   "metadata": {},
   "outputs": [],
   "source": [
    "ll_full = result_full.llf\n",
    "ll_intercept = result_intercept.llf\n",
    "lr_stat = 2 * (ll_full - ll_intercept)\n",
    "df_diff = len(result_full.params) - len(result_intercept.params)\n",
    "p_value = 1 - stats.chi2.cdf(lr_stat, df_diff)\n",
    "\n",
    "print(\"Likelihood Ratio Test\")\n",
    "print(f\"LR Statistic: {lr_stat:.3f}\")\n",
    "print(f\"p-value: {p_value:.2e}\")"
   ]
  },
  {
   "cell_type": "markdown",
   "metadata": {},
   "source": [
    "## 🔹 Step 9: Odds Ratios"
   ]
  },
  {
   "cell_type": "code",
   "execution_count": null,
   "metadata": {},
   "outputs": [],
   "source": []
  },
  {
   "cell_type": "code",
   "execution_count": null,
   "metadata": {},
   "outputs": [],
   "source": []
  },
  {
   "cell_type": "code",
   "execution_count": null,
   "metadata": {},
   "outputs": [],
   "source": [
    "coef_names = X_train_df.columns\n",
    "params = result_full.params[:len(coef_names)]\n",
    "conf_int = result_full.conf_int().loc[coef_names]\n",
    "\n",
    "or_vals = np.exp(params)\n",
    "or_ci_lower = np.exp(conf_int.iloc[:, 0])\n",
    "or_ci_upper = np.exp(conf_int.iloc[:, 1])\n",
    "\n",
    "or_table = pd.DataFrame({\n",
    "    'Odds Ratio': or_vals,\n",
    "    '2.5%': or_ci_lower,\n",
    "    '97.5%': or_ci_upper\n",
    "}).round(3)\n",
    "\n",
    "print(\"Odds Ratios:\")\n",
    "print(or_table)"
   ]
  },
  {
   "cell_type": "markdown",
   "metadata": {},
   "source": [
    "## 🔹 Step 10: Model Performance (Train)"
   ]
  },
  {
   "cell_type": "code",
   "execution_count": null,
   "metadata": {},
   "outputs": [],
   "source": [
    "pred_train_prob = result_full.predict()\n",
    "pred_train_class = pred_train_prob.idxmax(axis=1)\n",
    "\n",
    "acc_train = accuracy_score(train_y, pred_train_class)\n",
    "print(f\"Training Accuracy: {acc_train:.3f}\")\n",
    "\n",
    "cm_train = confusion_matrix(train_y, pred_train_class)\n",
    "print(\"Confusion Matrix (Train):\")\n",
    "print(cm_train)"
   ]
  },
  {
   "cell_type": "markdown",
   "metadata": {},
   "source": [
    "## 🔹 Step 11: Test Set Predictions"
   ]
  },
  {
   "cell_type": "code",
   "execution_count": null,
   "metadata": {},
   "outputs": [],
   "source": [
    "pred_test_prob = result_full.predict(X_test_df)\n",
    "pred_test_class = pred_test_prob.idxmax(axis=1)\n",
    "\n",
    "acc_test = accuracy_score(test_y, pred_test_class)\n",
    "print(f\"Test Accuracy: {acc_test:.3f}\")\n",
    "\n",
    "cm_test = confusion_matrix(test_y, pred_test_class)\n",
    "print(\"Confusion Matrix (Test):\")\n",
    "print(cm_test)"
   ]
  },
  {
   "cell_type": "markdown",
   "metadata": {},
   "source": [
    "## 🔹 Step 12: Cross-Validation"
   ]
  },
  {
   "cell_type": "code",
   "execution_count": null,
   "metadata": {},
   "outputs": [],
   "source": [
    "skf = StratifiedKFold(n_splits=5, shuffle=True, random_state=123)\n",
    "cv_accuracies = []\n",
    "\n",
    "for train_idx, val_idx in skf.split(X_train_df, train_y):\n",
    "    X_tr, X_val = X_train_df.iloc[train_idx], X_train_df.iloc[val_idx]\n",
    "    y_tr, y_val = train_y.iloc[train_idx], train_y.iloc[val_idx]\n",
    "\n",
    "    model_cv = OrderedModel(y_tr, X_tr, distr='logit').fit(method='bfgs', disp=False)\n",
    "    pred = model_cv.predict(X_val).idxmax(axis=1)\n",
    "    acc = accuracy_score(y_val, pred)\n",
    "    cv_accuracies.append(acc)\n",
    "\n",
    "avg_cv_acc = np.mean(cv_accuracies)\n",
    "print(f\"Cross-Validated Accuracy: {avg_cv_acc:.3f} (+/- {np.std(cv_accuracies)*2:.3f})\")"
   ]
  },
  {
   "cell_type": "markdown",
   "metadata": {},
   "source": [
    "## 🔹 Step 13: Visualize Odds Ratios"
   ]
  },
  {
   "cell_type": "code",
   "execution_count": null,
   "metadata": {},
   "outputs": [],
   "source": [
    "or_table['Odds Ratio'].plot(\n",
    "    kind='barh',\n",
    "    xerr=[or_table['Odds Ratio'] - or_table['2.5%'],\n",
    "          or_table['97.5%'] - or_table['Odds Ratio']],\n",
    "    color='skyblue',\n",
    "    edgecolor='black',\n",
    "    title=\"Odds Ratios with 95% Confidence Intervals\"\n",
    ")\n",
    "plt.axvline(x=1, color='red', linestyle='--', label='No effect (OR = 1)')\n",
    "plt.xlabel(\"Odds Ratio\")\n",
    "plt.legend()\n",
    "plt.tight_layout()\n",
    "plt.show()"
   ]
  },
  {
   "cell_type": "markdown",
   "metadata": {},
   "source": [
    "## 🔹 Step 14: Predicted Probabilities by `WAs`"
   ]
  },
  {
   "cell_type": "code",
   "execution_count": null,
   "metadata": {},
   "outputs": [],
   "source": [
    "wa_grid = np.linspace(X_train_df['WAs'].min(), X_train_df['WAs'].max(), 50)\n",
    "X_mean = X_train_df.mean().values.reshape(1, -1)\n",
    "X_grid = np.tile(X_mean, (len(wa_grid), 1))\n",
    "X_grid[:, X_train_df.columns.get_loc('WAs')] = wa_grid\n",
    "\n",
    "pred_grid = result_full.predict(X_grid)\n",
    "\n",
    "plt.figure(figsize=(8, 5))\n",
    "for i, cls in enumerate(class_order):\n",
    "    plt.plot(wa_grid, pred_grid[i], label=f\"P({cls})\")\n",
    "\n",
    "plt.xlabel(\"Water As (WAs)\")\n",
    "plt.ylabel(\"Predicted Probability\")\n",
    "plt.title(\"Predicted Class Probabilities by Water As (WAs)\")\n",
    "plt.legend(title=\"Soil Arsenic Class\")\n",
    "plt.grid(False)\n",
    "plt.tight_layout()\n",
    "plt.show()"
   ]
  }
 ],
 "metadata": {
  "kernelspec": {
   "display_name": "Python 3",
   "language": "python",
   "name": "python3"
  },
  "language_info": {
   "codemirror_mode": {
    "name": "ipython",
    "version": 3
   },
   "file_extension": ".py",
   "mimetype": "text/x-python",
   "name": "python",
   "nbconvert_exporter": "python",
   "pygments_lexer": "ipython3",
   "version": "3.11.11"
  }
 },
 "nbformat": 4,
 "nbformat_minor": 4
}
