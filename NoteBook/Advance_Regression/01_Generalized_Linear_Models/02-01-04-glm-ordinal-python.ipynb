{
 "cells": [
  {
   "cell_type": "markdown",
   "metadata": {
    "id": "ALapmr7gMNeE"
   },
   "source": [
    "![alt text](http://drive.google.com/uc?export=view&id=1IFEWet-Aw4DhkkVe1xv_2YYqlvRe9m5_)"
   ]
  },
  {
   "cell_type": "markdown",
   "metadata": {
    "id": "au6nzIZ1MUQ9"
   },
   "source": [
    "# 4. Ordinal or Ordered Logistic Regression (OLR)\n",
    "\n",
    "Ordered logistic regression is used when the dependent variable is an ordinal outcome—a categorical variable with a precise rank order but not necessarily equidistant. This method estimates each response level's probability while considering the outcome's ordered nature. Typical applications include customer satisfaction assessment, academic grading, and income classification. In this tutorial, we will discuss ordered logistic regression, manually fit a model to understand its mechanics, and  {statsmodels} library in Python implement the model. We will also examine coefficients, odds ratios, and category thresholds. This tutorial will provide a practical approach to mastering ordinal logistic regression through concepts and hands-on coding.\n"
   ]
  },
  {
   "cell_type": "markdown",
   "metadata": {
    "id": "neuAm4Qy9ZYX"
   },
   "source": [
    "\n",
    "## Overview\n",
    "\n",
    "**Ordinal logistic regression (OLR)** is a statistical method used to analyze the relationship between one or more independent variables (predictors) and an ordinal dependent variable. An ordinal variable is a type of categorical variable where the categories have a specific order, but the intervals between the categories are not uniformly measured. This technique is commonly used in social sciences, psychology, and other fields where data is measured on Likert scales (e.g., strongly disagree, disagree, neutral, agree, strongly agree) or in scenarios where outcomes are ordered such as grades (e.g., A, B, C, D, F). OLR allows researchers to understand the impact of independent variables on the likelihood of an outcome falling into a particular category or higher.\n",
    "\n",
    "In ordinal logistic regression (OLR), the dependent variable is assumed to have three or more ordered categories. The objective is to predict the probability of an observation falling into one of the categories based on the independent variables' values. OLR is an extension of logistic regression, which is used for binary outcomes, and it is designed to handle multiple ordered outcome categories.\n",
    "\n",
    "The key difference between ordinal variables and nominal variables (which have no inherent order, like colors or types of fruit) is that ordinal variables convey a rank or order.\n",
    "\n",
    "**Proportional Odds Assumption**: The primary assumption in ordinal logistic regression is that the relationship between each pair of outcome groups is the same across all levels of the independent variables. In other words, the odds ratios comparing any two outcome categories are constant across all levels of the predictor variables.\n",
    "\n",
    "1.  **Model Specification**:\n",
    "\n",
    "    -   Let $Y$ be an ordinal variable with $K$ categories. Define $P(Y \\leq k)$ as the probability of being in category $k$ or lower.\n",
    "\n",
    "    -   The model assumes that each category has a threshold $\\theta_k$ such that:\n",
    "\n",
    "  $$ \\text{logit}(P(Y \\leq k)) = \\theta_k - X\\beta $$\n",
    "\n",
    "  for $k = 1, \\ldots, K-1$\n",
    "\n",
    "2.  **Link Function**:\n",
    "\n",
    "    -   The cumulative logit link function is typically used, so:\n",
    "\n",
    "$$  P(Y \\leq k) = \\frac{1}{1 + e^{-(\\theta_k - X\\beta)}} $$\n",
    "\n",
    "3.  **Parameter Estimation**:\n",
    "\n",
    "    -   Maximum likelihood estimation is used to estimate both $\\beta$ and \\$\\theta\\_k\\$0.\n",
    "\n",
    "    -   The log-likelihood is based on the cumulative probabilities:\n",
    "\n",
    "        $$ \\mathcal{L}(\\beta, \\theta) = \\sum_{i=1}^n \\sum_{k=1}^{K-1} I(Y_i \\leq k) \\ln(P(Y_i \\leq k)) + I(Y_i > k) \\ln(1 - P(Y_i \\leq k)) $$\n",
    "\n",
    "4.  **Prediction**:\n",
    "\n",
    "    -   The model predicts the probability of $Y$ falling within each category by computing $P(Y \\leq k)$ for each $k$.\n",
    "\n",
    "5.  **Interpretation**:\n",
    "\n",
    "    -   The coefficients $\\beta$ represent the change in the log-odds of being in a higher vs. lower category for a one-unit increase in $X$.\n",
    "\n"
   ]
  },
  {
   "cell_type": "markdown",
   "metadata": {
    "id": "XyMjzLY-CIZm"
   },
   "source": [
    "## Building a Ordinal Model from Scratch\n",
    "\n",
    "Fitting an ordinal logistic regression model from scratch in Python without using any external libraries involves several steps, including creating synthetic data, calculating the cumulative probabilities, estimating the model coefficients using Maximum Likelihood Estimation (MLE), and deriving the summary statistics and odds ratios with confidence intervals. Below, I will outline how to accomplish this step-by-step."
   ]
  },
  {
   "cell_type": "code",
   "execution_count": 1,
   "metadata": {},
   "outputs": [
    {
     "name": "stderr",
     "output_type": "stream",
     "text": [
      "/usr/lib/python3/dist-packages/scipy/__init__.py:146: UserWarning: A NumPy version >=1.17.3 and <1.25.0 is required for this version of SciPy (detected version 1.26.4\n",
      "  warnings.warn(f\"A NumPy version >={np_minversion} and <{np_maxversion}\"\n"
     ]
    }
   ],
   "source": [
    "import numpy as np\n",
    "import pandas as pd\n",
    "from scipy.stats import norm\n",
    "from scipy.optimize import minimize\n",
    "import warnings\n",
    "warnings.filterwarnings(\"ignore\")"
   ]
  },
  {
   "cell_type": "markdown",
   "metadata": {
    "id": "FB2p3NwCCMzb"
   },
   "source": [
    "### Generate Synthetic Data\n",
    "\n",
    "We'll create a synthetic dataset with 6 continuous predictors, one categorical predictor, and an ordinal response variable with three levels.\n"
   ]
  },
  {
   "cell_type": "code",
   "execution_count": 3,
   "metadata": {
    "id": "DKrGJOHBCPJV"
   },
   "outputs": [
    {
     "name": "stdout",
     "output_type": "stream",
     "text": [
      "   Y        X1        X2        X3        X4\n",
      "0  0  1.797754  0.650588  0.107289 -0.759926\n",
      "1  1 -0.386105  0.103921 -0.378412  0.435944\n",
      "2  0  0.858850  0.895860 -0.258410 -0.653804\n",
      "3  1 -0.438397 -0.252470  0.732019  0.947438\n",
      "4  0  1.137700 -0.368203  1.545161  0.572556\n"
     ]
    }
   ],
   "source": [
    "n = 1000\n",
    "\n",
    "# Generate four covariates\n",
    "X1 = np.random.normal(0, 1, n)\n",
    "X2 = np.random.normal(0, 1, n)\n",
    "X3 = np.random.normal(0, 1, n)\n",
    "X4 = np.random.normal(0, 1, n)\n",
    "\n",
    "# True coefficients: intercept + 4 predictors\n",
    "beta_true = np.array([0.5, -1.0, 0.8, -0.6, 1.2])\n",
    "\n",
    "# Latent variable (linear predictor)\n",
    "latent = beta_true[0] + beta_true[1]*X1 + beta_true[2]*X2 + beta_true[3]*X3 + beta_true[4]*X4\n",
    "\n",
    "# Binary outcome with probit link: Y = 1 if latent + noise > 0\n",
    "Y = (latent + np.random.normal(0, 1, n) > 0).astype(int)\n",
    "\n",
    "# Create DataFrame\n",
    "data = pd.DataFrame({'Y': Y, 'X1': X1, 'X2': X2, 'X3': X3, 'X4': X4})\n",
    "print(data.head())"
   ]
  },
  {
   "cell_type": "markdown",
   "metadata": {
    "id": "5iJ93LrECUk-"
   },
   "source": [
    "### Define Model Functions"
   ]
  },
  {
   "cell_type": "code",
   "execution_count": 4,
   "metadata": {},
   "outputs": [],
   "source": [
    "def log_likelihood(beta, Y, X):\n",
    "    \"\"\"\n",
    "    Negative log-likelihood for Probit model.\n",
    "    \"\"\"\n",
    "    linear_pred = X @ beta\n",
    "    # Use scipy's norm.cdf for Φ(linear_pred)\n",
    "    p = norm.cdf(linear_pred)\n",
    "    # Avoid log(0) by clipping probabilities\n",
    "    p = np.clip(p, 1e-10, 1 - 1e-10)\n",
    "    ll = np.sum(Y * np.log(p) + (1 - Y) * np.log(1 - p))\n",
    "    return -ll  # Minimize negative log-likelihood\n",
    "\n",
    "def fit_probit(Y, X):\n",
    "    \"\"\"\n",
    "    Fit Probit model using MLE.\n",
    "    \"\"\"\n",
    "    # Add intercept column\n",
    "    X = np.column_stack([np.ones(X.shape[0]), X])\n",
    "    \n",
    "    # Initial guess for parameters\n",
    "    initial_beta = np.zeros(X.shape[1])\n",
    "    \n",
    "    # Optimize using BFGS\n",
    "    result = minimize(log_likelihood, initial_beta, args=(Y, X), method='BFGS', hess=True)\n",
    "    \n",
    "    if not result.success:\n",
    "        print(\"Warning: Optimization failed to converge.\")\n",
    "    \n",
    "    return {\n",
    "        'coefficients': result.x,\n",
    "        'hessian': result.hess_inv,  # Approximate Hessian inverse from BFGS\n",
    "        'convergence': result.success\n",
    "    }"
   ]
  },
  {
   "cell_type": "markdown",
   "metadata": {},
   "source": [
    "### Fit Model"
   ]
  },
  {
   "cell_type": "code",
   "execution_count": 10,
   "metadata": {},
   "outputs": [],
   "source": [
    "# Fit model\n",
    "X_cols = ['X1', 'X2', 'X3', 'X4']\n",
    "Y_data = data['Y'].values\n",
    "X_data = data[X_cols].values\n",
    "\n",
    "fit = fit_probit(Y_data, X_data)\n"
   ]
  },
  {
   "cell_type": "markdown",
   "metadata": {},
   "source": [
    "### Summary Table"
   ]
  },
  {
   "cell_type": "code",
   "execution_count": 11,
   "metadata": {},
   "outputs": [
    {
     "name": "stdout",
     "output_type": "stream",
     "text": [
      "\n",
      "=== Probit Model Summary ===\n",
      "           Coefficient  Std.Error    z.value  p.value\n",
      "Intercept     0.511672   0.056559   9.046748      0.0\n",
      "X1           -0.957057   0.069850 -13.701564      0.0\n",
      "X2            0.852282   0.064646  13.183805      0.0\n",
      "X3           -0.672327   0.057621 -11.668139      0.0\n",
      "X4            1.158007   0.073148  15.831111      0.0\n"
     ]
    }
   ],
   "source": [
    "def create_summary_table(fit):\n",
    "    beta_hat = fit['coefficients']\n",
    "    # Use inverse of Hessian approximation for covariance matrix\n",
    "    try:\n",
    "        cov_matrix = fit['hessian']  # BFGS returns inverse Hessian\n",
    "    except:\n",
    "        raise ValueError(\"Hessian not available.\")\n",
    "    \n",
    "    std_errors = np.sqrt(np.diag(cov_matrix))\n",
    "    z_values = beta_hat / std_errors\n",
    "    p_values = 2 * (1 - norm.cdf(np.abs(z_values)))\n",
    "    \n",
    "    summary_df = pd.DataFrame({\n",
    "        'Coefficient': beta_hat,\n",
    "        'Std.Error': std_errors,\n",
    "        'z.value': z_values,\n",
    "        'p.value': p_values\n",
    "    }, index=['Intercept', 'X1', 'X2', 'X3', 'X4'])\n",
    "    \n",
    "    return summary_df\n",
    "\n",
    "summary_table = create_summary_table(fit)\n",
    "print(\"\\n=== Probit Model Summary ===\")\n",
    "print(summary_table)"
   ]
  },
  {
   "cell_type": "markdown",
   "metadata": {},
   "source": [
    "###  Risk Ratio (Approximate)\n",
    "\n",
    "Risk Ratio (RR) ordinal model is calculated as the ratio of the probability of the event occurring in the treatment group to the probability of the event occurring in the control group.\n",
    "\n",
    "RR = P(Y=1 | X, Treatment) / P(Y=1 | X, Control)\n",
    "\n",
    "Where:\n",
    "- P(Y=1 | X, Treatment) is the predicted probability of the event for the treatment group.\n",
    "- P(Y=1 | X, Control) is the predicted probability of the event for the control group.\n",
    "\n",
    "### Odds Ratio (OR)\n",
    "The Odds Ratio (OR) is another measure used to compare the odds of an event occurring in two groups. It is calculated as:\n",
    "\n",
    "OR = Odds(Y=1 | X, Treatment) / Odds(Y=1 | X, Control)\n",
    "\n",
    "Where:\n",
    "- Odds(Y=1 | X, Treatment) is the odds of the event for the treatment group.\n",
    "- Odds(Y=1 | X, Control) is the odds of the event for the control group."
   ]
  },
  {
   "cell_type": "code",
   "execution_count": 12,
   "metadata": {},
   "outputs": [
    {
     "name": "stdout",
     "output_type": "stream",
     "text": [
      "\n",
      "Approximate Risk Ratio (X1=1 vs X1=0): 0.4716\n"
     ]
    }
   ],
   "source": [
    "coefficients = summary_table['Coefficient']\n",
    "beta_0 = coefficients['Intercept']\n",
    "beta_1 = coefficients['X1']\n",
    "\n",
    "# Predicted probabilities\n",
    "p_X1 = norm.cdf(beta_0 + beta_1)  # P(Y=1 | X1=1, others=0?)\n",
    "p_X0 = norm.cdf(beta_0)           # P(Y=1 | X1=0)\n",
    "\n",
    "approx_risk_ratio = p_X1 / p_X0\n",
    "print(f\"\\nApproximate Risk Ratio (X1=1 vs X1=0): {approx_risk_ratio:.4f}\")"
   ]
  },
  {
   "cell_type": "markdown",
   "metadata": {},
   "source": [
    "### Odds Ratio (OR)\n",
    "\n",
    "The Odds Ratio (OR) is another measure used to compare the odds of an event occurring in two groups. It is calculated as:\n",
    "\n",
    "OR = Odds(Y=1 | X, Treatment) / Odds(Y=1 | X, Control)\n",
    "\n",
    "Where:\n",
    "- Odds(Y=1 | X, Treatment) is the odds of the event for the treatment group.\n",
    "- Odds(Y=1 | X, Control) is the odds of the event for the control group."
   ]
  },
  {
   "cell_type": "code",
   "execution_count": 15,
   "metadata": {},
   "outputs": [
    {
     "name": "stdout",
     "output_type": "stream",
     "text": [
      "\n",
      "Approximate Odds Ratio (X1=1 vs X1=0): 0.3840\n"
     ]
    }
   ],
   "source": [
    "# CALCULATE RISK AND ODDS RATIOS\n",
    "\n",
    "odds_ratio = np.exp(beta_1)\n",
    "odds_ratio\n",
    "print(f\"\\nApproximate Odds Ratio (X1=1 vs X1=0): {odds_ratio:.4f}\")     "
   ]
  },
  {
   "cell_type": "markdown",
   "metadata": {},
   "source": [
    "### Cross-validation\n",
    "\n",
    "Cross-validation is a technique used to assess the performance of a model by partitioning the data into subsets, training the model on some subsets, and validating it on the remaining subsets. This process helps to ensure that the model generalizes well to unseen data.\n",
    "\n",
    "In the context of ordinal regression, cross-validation can be particularly useful for:\n",
    "\n",
    "1. **Model Selection**: Comparing different ordinal regression models to identify the best-performing one.\n",
    "2. **Hyperparameter Tuning**: Optimizing model parameters to improve performance.\n",
    "3. **Performance Estimation**: Providing a more reliable estimate of model performance by reducing the impact of overfitting.\n",
    "\n",
    "Common cross-validation techniques include k-fold cross-validation, stratified k-fold cross-validation, and leave-one-out cross-validation. Each method has its advantages and is suitable for different types of data and modeling scenarios."
   ]
  },
  {
   "cell_type": "markdown",
   "metadata": {},
   "source": [
    "### Model Evaluation"
   ]
  },
  {
   "cell_type": "code",
   "execution_count": 17,
   "metadata": {},
   "outputs": [
    {
     "name": "stdout",
     "output_type": "stream",
     "text": [
      "\n",
      "=== Model Evaluation ===\n",
      "        Metric     Value\n",
      "0     Accuracy  0.846000\n",
      "1  Sensitivity  0.879252\n",
      "2  Specificity  0.798544\n"
     ]
    }
   ],
   "source": [
    "def evaluate_probit_model(Y, X, beta_hat):\n",
    "    # Add intercept\n",
    "    X = np.column_stack([np.ones(X.shape[0]), X])\n",
    "    linear_pred = X @ beta_hat\n",
    "    probabilities = norm.cdf(linear_pred)\n",
    "    predictions = (probabilities > 0.5).astype(int)\n",
    "    \n",
    "    accuracy = np.mean(predictions == Y)\n",
    "    \n",
    "    # Confusion matrix components\n",
    "    tp = np.sum((predictions == 1) & (Y == 1))\n",
    "    tn = np.sum((predictions == 0) & (Y == 0))\n",
    "    fp = np.sum((predictions == 1) & (Y == 0))\n",
    "    fn = np.sum((predictions == 0) & (Y == 1))\n",
    "    \n",
    "    sensitivity = tp / (tp + fn) if (tp + fn) > 0 else 0\n",
    "    specificity = tn / (tn + fp) if (tn + fp) > 0 else 0\n",
    "    \n",
    "    evaluation_df = pd.DataFrame({\n",
    "        'Metric': ['Accuracy', 'Sensitivity', 'Specificity'],\n",
    "        'Value': [accuracy, sensitivity, specificity]\n",
    "    })\n",
    "    \n",
    "    return evaluation_df\n",
    "\n",
    "# Evaluate on full dataset\n",
    "eval_results = evaluate_probit_model(Y_data, X_data, fit['coefficients'])\n",
    "print(\"\\n=== Model Evaluation ===\")\n",
    "print(eval_results)"
   ]
  },
  {
   "cell_type": "markdown",
   "metadata": {
    "id": "vlP0SnWIBO0Q"
   },
   "source": [
    "## Fit Ordinal Logistic Regression in With Python\n",
    "\n"
   ]
  },
  {
   "cell_type": "markdown",
   "metadata": {
    "id": "q5hd8qgrCx4Z"
   },
   "source": [
    "### Data\n",
    "\n",
    "Our goal is to develop a Ordinal regression model to predict ordinal class of paddy soil arsenic (non-contaminated, moderately-contaminated and highly-contaminated ) using selected irrigation water and soil properties. We have available data of 263 paired groundwater and paddy soil samples from arsenic contaminated areas in Tala Upazilla, Satkhira district, Bangladesh. This data was utilized in a publication titled \"Factors Affecting Paddy Soil Arsenic Concentration in Bangladesh: Prediction and Uncertainty of Geostatistical Risk Mapping\" which can be accessed via the this [URL](https://doi.org/10.1016/j.scitotenv.2011.10.008)\n",
    "\n",
    "Full data set is available for download can download from my [Dropbox](https://www.dropbox.com/scl/fo/2rh6r68i9cxmgortvbw8q/h?rlkey=bvntt66n9mcywprmdki08ch3r&dl=0) or from my [Github](https://github.com/zia207/r-colab/tree/main/Data/Regression_analysis) accounts.\n",
    "\n"
   ]
  },
  {
   "cell_type": "code",
   "execution_count": 18,
   "metadata": {
    "colab": {
     "base_uri": "https://localhost:8080/"
    },
    "executionInfo": {
     "elapsed": 1858,
     "status": "ok",
     "timestamp": 1730772338992,
     "user": {
      "displayName": "Zia Ahmed",
      "userId": "17946583917266624826"
     },
     "user_tz": 300
    },
    "id": "2ph3ubD_C1WL",
    "outputId": "0553219f-4c23-4bc9-bb6f-cb7ed5bbe52d"
   },
   "outputs": [
    {
     "name": "stdout",
     "output_type": "stream",
     "text": [
      "Data loaded successfully!\n",
      "   ID  Longitude  Latitude    WAs     WP   WFe   WEc   WpH   WMg   WNa  ...  \\\n",
      "0   1    89.1134   22.7544  0.059  0.761  3.44  1.03  7.03  33.9  69.4  ...   \n",
      "1   2    89.1232   22.7576  0.059  1.194  4.93  1.07  7.06  34.1  74.6  ...   \n",
      "2   3    89.1281   22.7499  0.079  1.317  9.70  1.40  6.84  40.5  89.4  ...   \n",
      "3   4    89.1296   22.7568  0.122  1.545  8.58  0.83  6.85  28.4  22.8  ...   \n",
      "4   5    89.1312   22.7366  0.072  0.966  4.78  1.42  6.95  43.4  93.0  ...   \n",
      "\n",
      "    SOC     SP  Sand  Silt  Clay  Elevation  Year_Irrigation  Distance_STW  \\\n",
      "0  1.66  13.79  16.3  44.8  38.9          3               14             5   \n",
      "1  1.26  15.31  11.1  48.7  40.2          5               20             6   \n",
      "2  1.36  15.54  12.3  46.4  41.3          4               10             5   \n",
      "3  1.61  16.28  12.7  43.6  43.7          3                8             8   \n",
      "4  1.26  14.20  12.1  50.9  37.1          5               10             5   \n",
      "\n",
      "   Land_type  Land_type_ID  \n",
      "0        MHL             2  \n",
      "1        MHL             2  \n",
      "2        MHL             2  \n",
      "3        MHL             2  \n",
      "4        MHL             2  \n",
      "\n",
      "[5 rows x 29 columns]\n"
     ]
    }
   ],
   "source": [
    "url = \"https://github.com/zia207/r-colab/raw/main/Data/Regression_analysis/bd_soil_arsenic.csv\"\n",
    "mf = pd.read_csv(url)\n",
    "\n",
    "print(\"Data loaded successfully!\")\n",
    "print(mf.head())"
   ]
  },
  {
   "cell_type": "markdown",
   "metadata": {
    "id": "0tTLUEkdItLN"
   },
   "source": [
    "#### Convert Continuous Variables into Ordinal\n",
    "\n",
    "An ordinal variable is a type of categorical variable in which the categories have a natural order or hierarchy. Unlike interval or ratio variables, the intervals between the categories are not necessarily equal or measurable. This means that while the categories have a meaningful sequence or ranking, the differences between the categories may not be consistent or quantifiable.\n",
    "\n",
    "We will convert `Soil As (SAs)` into three classes:\n",
    "\n",
    "A. Non-contaminated, SAs \\< 14.8 mg/kg\n",
    "\n",
    "B. Moderately-contaminated, SAs 14.8 - 20 mg/kg\n",
    "\n",
    "C. Highly-contaminated: SAs \\> 20 mg/kg\n",
    "\n",
    "-   14.8 mg/kg is the upper baseline soil arsenic concentration for Bangladesh [(Ahmed et al, 2011)](https://www.sciencedirect.com/science/article/pii/S0048969711011661?via%3Dihub)\n",
    "\n",
    "-   20 mg/kg is the permissible limits of arsenic in agricultural soil [(A Heikens, 2006)](https://agris.fao.org/search/en/providers/122621/records/6472474853aa8c8963049da2)\n",
    "\n"
   ]
  },
  {
   "cell_type": "code",
   "execution_count": 19,
   "metadata": {
    "id": "XCMe3RP5e4JK"
   },
   "outputs": [
    {
     "name": "stdout",
     "output_type": "stream",
     "text": [
      "Distribution of contamination classes:\n",
      "Class_As\n",
      "Non-contaminated           93\n",
      "Moderately-contaminated    85\n",
      "Highly-contaminated        85\n",
      "Name: count, dtype: int64\n"
     ]
    }
   ],
   "source": [
    "# Define bins and labels\n",
    "bins = [-float('inf'), 14.8, 20, float('inf')]\n",
    "labels = ['Non-contaminated', 'Moderately-contaminated', 'Highly-contaminated']\n",
    "\n",
    "# Create ordinal categorical variable\n",
    "mf['Class_As'] = pd.cut(mf['SAs'], bins=bins, labels=labels, ordered=True)\n",
    "\n",
    "print(\"Distribution of contamination classes:\")\n",
    "print(mf['Class_As'].value_counts().sort_index())"
   ]
  },
  {
   "cell_type": "markdown",
   "metadata": {
    "id": "T-kgIRXnfJoi"
   },
   "source": [
    "#### Data Processing"
   ]
  },
  {
   "cell_type": "code",
   "execution_count": 20,
   "metadata": {
    "colab": {
     "base_uri": "https://localhost:8080/"
    },
    "executionInfo": {
     "elapsed": 448,
     "status": "ok",
     "timestamp": 1730772380907,
     "user": {
      "displayName": "Zia Ahmed",
      "userId": "17946583917266624826"
     },
     "user_tz": 300
    },
    "id": "OVc1VRBeIwcQ",
    "outputId": "d0d99cfc-7584-4fa5-de9a-48b0277133ce"
   },
   "outputs": [
    {
     "name": "stdout",
     "output_type": "stream",
     "text": [
      "Processed \n",
      "        WAs       WFe       SOC     SAoFe  Year_Irrigation  Distance_STW  \\\n",
      "0  0.107383  0.180435  0.533333  0.380711         0.684211      0.047619   \n",
      "1  0.107383  0.342391  0.342857  0.423858         1.000000      0.071429   \n",
      "2  0.152125  0.860870  0.390476  0.294416         0.473684      0.047619   \n",
      "3  0.248322  0.739130  0.509524  0.380711         0.368421      0.119048   \n",
      "4  0.136465  0.326087  0.342857  0.269036         0.473684      0.047619   \n",
      "\n",
      "  Land_type             Class_As  \n",
      "0       MHL  Highly-contaminated  \n",
      "1       MHL  Highly-contaminated  \n",
      "2       MHL  Highly-contaminated  \n",
      "3       MHL  Highly-contaminated  \n",
      "4       MHL  Highly-contaminated  \n"
     ]
    }
   ],
   "source": [
    "# Select variables for modeling\n",
    "selected_cols = [\n",
    "    'WAs', 'WFe', 'SOC', 'SAoFe',\n",
    "    'Year_Irrigation', 'Distance_STW',\n",
    "    'Land_type', 'Class_As'\n",
    "]\n",
    "\n",
    "df = mf[selected_cols].copy()\n",
    "\n",
    "# Convert categorical variables\n",
    "df['Land_type'] = df['Land_type'].astype('category')\n",
    "df['Class_As'] = df['Class_As'].astype('category')\n",
    "\n",
    "# Normalize numerical columns (first 6)\n",
    "numerical_cols = selected_cols[:6]\n",
    "df[numerical_cols] = (df[numerical_cols] - df[numerical_cols].min()) / \\\n",
    "                     (df[numerical_cols].max() - df[numerical_cols].min())\n",
    "\n",
    "print(\"Processed \")\n",
    "print(df.head())"
   ]
  },
  {
   "cell_type": "markdown",
   "metadata": {
    "id": "irYGsm-Dh4xs"
   },
   "source": [
    "#### Split Data"
   ]
  },
  {
   "cell_type": "code",
   "execution_count": 22,
   "metadata": {
    "colab": {
     "base_uri": "https://localhost:8080/"
    },
    "executionInfo": {
     "elapsed": 149,
     "status": "ok",
     "timestamp": 1730772385145,
     "user": {
      "displayName": "Zia Ahmed",
      "userId": "17946583917266624826"
     },
     "user_tz": 300
    },
    "id": "Hl-b7QO-h5Al",
    "outputId": "302d22c0-ab73-437e-a3ce-212920a089d3"
   },
   "outputs": [
    {
     "name": "stdout",
     "output_type": "stream",
     "text": [
      "Train Class_As proportions:\n",
      "Class_As\n",
      "Non-contaminated           0.353261\n",
      "Moderately-contaminated    0.326087\n",
      "Highly-contaminated        0.320652\n",
      "Name: proportion, dtype: float64\n",
      "\n",
      "Test Class_As proportions:\n",
      "Class_As\n",
      "Non-contaminated           0.354430\n",
      "Highly-contaminated        0.329114\n",
      "Moderately-contaminated    0.316456\n",
      "Name: proportion, dtype: float64\n"
     ]
    }
   ],
   "source": [
    "from sklearn.model_selection import train_test_split\n",
    "\n",
    "np.random.seed(101)\n",
    "\n",
    "# Create interaction for stratification\n",
    "df['strata'] = df['Land_type'].astype(str) + \"_\" + df['Class_As'].astype(str)\n",
    "\n",
    "train, test = train_test_split(\n",
    "    df,\n",
    "    test_size=0.3,\n",
    "    stratify=df['strata'],\n",
    "    random_state=101\n",
    ")\n",
    "\n",
    "train = train.drop(columns=['strata']).reset_index(drop=True)\n",
    "test = test.drop(columns=['strata']).reset_index(drop=True)\n",
    "\n",
    "print(\"Train Class_As proportions:\")\n",
    "print(train['Class_As'].value_counts(normalize=True))\n",
    "\n",
    "print(\"\\nTest Class_As proportions:\")\n",
    "print(test['Class_As'].value_counts(normalize=True))"
   ]
  },
  {
   "cell_type": "markdown",
   "metadata": {},
   "source": [
    "### Prepare Features and Target"
   ]
  },
  {
   "cell_type": "code",
   "execution_count": 24,
   "metadata": {},
   "outputs": [],
   "source": [
    "from sklearn.preprocessing import StandardScaler\n",
    "\n",
    "feature_cols = [\n",
    "    'WAs', 'WFe', 'SOC', 'SAoFe',\n",
    "    'Year_Irrigation', 'Distance_STW',\n",
    "    'Land_type'\n",
    "]\n",
    "\n",
    "# Target: ordinal encoding (0, 1, 2)\n",
    "class_order = ['Non-contaminated', 'Moderately-contaminated', 'Highly-contaminated']\n",
    "train['Class_As_ordinal'] = pd.Categorical(train['Class_As'], categories=class_order, ordered=True).codes\n",
    "test['Class_As_ordinal'] = pd.Categorical(test['Class_As'], categories=class_order, ordered=True).codes\n",
    "\n",
    "train_y = train['Class_As_ordinal']\n",
    "test_y = test['Class_As_ordinal']\n",
    "\n",
    "# Features\n",
    "X_train = train[feature_cols]\n",
    "X_test = test[feature_cols]\n",
    "\n",
    "# One-hot encode Land_type\n",
    "X_train = pd.get_dummies(X_train, drop_first=True)\n",
    "X_test = pd.get_dummies(X_test, drop_first=True)\n",
    "\n",
    "# Align columns\n",
    "X_train, X_test = X_train.align(X_test, join='left', axis=1, fill_value=0)\n",
    "\n",
    "# Scale features\n",
    "scaler = StandardScaler()\n",
    "X_train_scaled = scaler.fit_transform(X_train)\n",
    "X_test_scaled = scaler.transform(X_test)\n",
    "\n",
    "X_train_df = pd.DataFrame(X_train_scaled, columns=X_train.columns)\n",
    "X_test_df = pd.DataFrame(X_test_scaled, columns=X_test.columns)\n",
    "\n"
   ]
  },
  {
   "cell_type": "markdown",
   "metadata": {
    "id": "P3o8Ay9miNcO"
   },
   "source": [
    "### Fit an Ordinal Regression Model\n",
    "\n",
    "We will fit an ordinal regression model using the `OrderedModel` class from the `statsmodels` library.\n"
   ]
  },
  {
   "cell_type": "markdown",
   "metadata": {
    "id": "QELT_e_jqZ_S"
   },
   "source": [
    "###  Only Intercept model"
   ]
  },
  {
   "cell_type": "code",
   "execution_count": 27,
   "metadata": {
    "colab": {
     "base_uri": "https://localhost:8080/"
    },
    "executionInfo": {
     "elapsed": 151,
     "status": "ok",
     "timestamp": 1730772397867,
     "user": {
      "displayName": "Zia Ahmed",
      "userId": "17946583917266624826"
     },
     "user_tz": 300
    },
    "id": "do4-RiQYiQmN",
    "outputId": "403246ed-977f-4770-96c9-4f7f72449c2c"
   },
   "outputs": [
    {
     "name": "stdout",
     "output_type": "stream",
     "text": [
      "                             OrderedModel Results                             \n",
      "==============================================================================\n",
      "Dep. Variable:       Class_As_ordinal   Log-Likelihood:                -201.98\n",
      "Model:                   OrderedModel   AIC:                             408.0\n",
      "Method:            Maximum Likelihood   BIC:                             414.4\n",
      "Date:                Tue, 12 Aug 2025                                         \n",
      "Time:                        10:37:25                                         \n",
      "No. Observations:                 184                                         \n",
      "Df Residuals:                     182                                         \n",
      "Df Model:                           0                                         \n",
      "==============================================================================\n",
      "                 coef    std err          z      P>|z|      [0.025      0.975]\n",
      "------------------------------------------------------------------------------\n",
      "0/1           -0.6047      0.154     -3.921      0.000      -0.907      -0.302\n",
      "1/2            0.3042      0.114      2.662      0.008       0.080       0.528\n",
      "==============================================================================\n"
     ]
    }
   ],
   "source": [
    "from statsmodels.miscmodels.ordinal_model import OrderedModel\n",
    "\n",
    "# intercept-only (thresholds only)\n",
    "intercept_model = OrderedModel(\n",
    "    endog=train_y,\n",
    "    exog=None,        # ← No features, not even a constant!\n",
    "    distr='logit'\n",
    ")\n",
    "\n",
    "result_intercept = intercept_model.fit(method='bfgs', disp=False)\n",
    "print(result_intercept.summary())"
   ]
  },
  {
   "cell_type": "markdown",
   "metadata": {
    "id": "g4bXzeXyqm7A"
   },
   "source": [
    "### Full model with features "
   ]
  },
  {
   "cell_type": "code",
   "execution_count": 28,
   "metadata": {
    "colab": {
     "base_uri": "https://localhost:8080/"
    },
    "executionInfo": {
     "elapsed": 340,
     "status": "ok",
     "timestamp": 1730772403601,
     "user": {
      "displayName": "Zia Ahmed",
      "userId": "17946583917266624826"
     },
     "user_tz": 300
    },
    "id": "X0nbYHoSiUku",
    "outputId": "f90e07ab-2726-4dea-f38f-0bb2e46a2ea0"
   },
   "outputs": [
    {
     "name": "stdout",
     "output_type": "stream",
     "text": [
      "                             OrderedModel Results                             \n",
      "==============================================================================\n",
      "Dep. Variable:       Class_As_ordinal   Log-Likelihood:                -140.77\n",
      "Model:                   OrderedModel   AIC:                             299.5\n",
      "Method:            Maximum Likelihood   BIC:                             328.5\n",
      "Date:                Tue, 12 Aug 2025                                         \n",
      "Time:                        10:38:16                                         \n",
      "No. Observations:                 184                                         \n",
      "Df Residuals:                     175                                         \n",
      "Df Model:                           7                                         \n",
      "===================================================================================\n",
      "                      coef    std err          z      P>|z|      [0.025      0.975]\n",
      "-----------------------------------------------------------------------------------\n",
      "WAs                 0.3713      0.174      2.139      0.032       0.031       0.712\n",
      "WFe                 0.7549      0.178      4.242      0.000       0.406       1.104\n",
      "SOC                 0.4214      0.177      2.374      0.018       0.074       0.769\n",
      "SAoFe              -0.2192      0.161     -1.365      0.172      -0.534       0.096\n",
      "Year_Irrigation     1.0744      0.189      5.676      0.000       0.703       1.445\n",
      "Distance_STW       -0.1957      0.173     -1.132      0.258      -0.535       0.143\n",
      "Land_type_MHL       0.6877      0.175      3.921      0.000       0.344       1.031\n",
      "0/1                -1.0335      0.208     -4.977      0.000      -1.440      -0.627\n",
      "1/2                 0.8466      0.120      7.054      0.000       0.611       1.082\n",
      "===================================================================================\n"
     ]
    }
   ],
   "source": [
    "# Now include exog (your features)\n",
    "full_model = OrderedModel(\n",
    "    endog=train_y,\n",
    "    exog=X_train_df,\n",
    "    distr='logit'\n",
    ")\n",
    "\n",
    "result_full = full_model.fit(method='bfgs', disp=False)\n",
    "print(result_full.summary())"
   ]
  },
  {
   "cell_type": "markdown",
   "metadata": {
    "id": "We-TGcfurJNG"
   },
   "source": [
    "### Likelihood Ratio Test"
   ]
  },
  {
   "cell_type": "code",
   "execution_count": 30,
   "metadata": {
    "colab": {
     "base_uri": "https://localhost:8080/"
    },
    "executionInfo": {
     "elapsed": 147,
     "status": "ok",
     "timestamp": 1730772405777,
     "user": {
      "displayName": "Zia Ahmed",
      "userId": "17946583917266624826"
     },
     "user_tz": 300
    },
    "id": "xCUQFoWbQ-y-",
    "outputId": "5f8bf22e-4aa2-4af1-b9d4-3dd10f4c0204"
   },
   "outputs": [
    {
     "name": "stdout",
     "output_type": "stream",
     "text": [
      "Likelihood Ratio Test\n",
      "LR Statistic: 122.415\n",
      "p-value: 0.00e+00\n"
     ]
    }
   ],
   "source": [
    "from scipy import stats\n",
    "\n",
    "ll_full = result_full.llf\n",
    "ll_intercept = result_intercept.llf\n",
    "lr_stat = 2 * (ll_full - ll_intercept)\n",
    "df_diff = len(result_full.params) - len(result_intercept.params)\n",
    "p_value = 1 - stats.chi2.cdf(lr_stat, df_diff)\n",
    "\n",
    "print(\"Likelihood Ratio Test\")\n",
    "print(f\"LR Statistic: {lr_stat:.3f}\")\n",
    "print(f\"p-value: {p_value:.2e}\")"
   ]
  },
  {
   "cell_type": "markdown",
   "metadata": {},
   "source": [
    "### Odds Ratios\n",
    "\n"
   ]
  },
  {
   "cell_type": "code",
   "execution_count": 31,
   "metadata": {},
   "outputs": [
    {
     "name": "stdout",
     "output_type": "stream",
     "text": [
      "Odds Ratios:\n",
      "                 Odds Ratio   2.5%  97.5%\n",
      "WAs                   1.450  1.032  2.037\n",
      "WFe                   2.127  1.501  3.015\n",
      "SOC                   1.524  1.076  2.158\n",
      "SAoFe                 0.803  0.586  1.100\n",
      "Year_Irrigation       2.928  2.021  4.244\n",
      "Distance_STW          0.822  0.586  1.154\n",
      "Land_type_MHL         1.989  1.411  2.805\n"
     ]
    }
   ],
   "source": [
    "coef_names = X_train_df.columns\n",
    "params = result_full.params[:len(coef_names)]\n",
    "conf_int = result_full.conf_int().loc[coef_names]\n",
    "\n",
    "or_vals = np.exp(params)\n",
    "or_ci_lower = np.exp(conf_int.iloc[:, 0])\n",
    "or_ci_upper = np.exp(conf_int.iloc[:, 1])\n",
    "\n",
    "or_table = pd.DataFrame({\n",
    "    'Odds Ratio': or_vals,\n",
    "    '2.5%': or_ci_lower,\n",
    "    '97.5%': or_ci_upper\n",
    "}).round(3)\n",
    "\n",
    "print(\"Odds Ratios:\")\n",
    "print(or_table)"
   ]
  },
  {
   "cell_type": "markdown",
   "metadata": {
    "id": "xwP9UPY_RC4h"
   },
   "source": [
    "### Training Performance "
   ]
  },
  {
   "cell_type": "code",
   "execution_count": 34,
   "metadata": {
    "colab": {
     "base_uri": "https://localhost:8080/"
    },
    "executionInfo": {
     "elapsed": 491,
     "status": "ok",
     "timestamp": 1730772408840,
     "user": {
      "displayName": "Zia Ahmed",
      "userId": "17946583917266624826"
     },
     "user_tz": 300
    },
    "id": "Vf4SiIA1RDqG",
    "outputId": "531ae1d1-6a37-4ba5-de77-b05a3e6e6ef6"
   },
   "outputs": [
    {
     "name": "stdout",
     "output_type": "stream",
     "text": [
      "Training Accuracy: 0.658\n",
      "Confusion Matrix (Train):\n",
      "[[48 15  2]\n",
      " [15 30 15]\n",
      " [ 2 14 43]]\n"
     ]
    }
   ],
   "source": [
    "from sklearn.metrics import accuracy_score, confusion_matrix\n",
    "\n",
    "# Predict probabilities (returns numpy array)\n",
    "pred_train_prob = result_full.predict()\n",
    "\n",
    "# Get predicted class index (0, 1, 2) with highest probability\n",
    "pred_train_class = np.argmax(pred_train_prob, axis=1)\n",
    "\n",
    "# Now compute accuracy\n",
    "acc_train = accuracy_score(train_y, pred_train_class)\n",
    "print(f\"Training Accuracy: {acc_train:.3f}\")\n",
    "\n",
    "# Confusion matrix\n",
    "cm_train = confusion_matrix(train_y, pred_train_class)\n",
    "print(\"Confusion Matrix (Train):\")\n",
    "print(cm_train)"
   ]
  },
  {
   "cell_type": "markdown",
   "metadata": {},
   "source": [
    "### Prediction and Evaluation"
   ]
  },
  {
   "cell_type": "code",
   "execution_count": 37,
   "metadata": {},
   "outputs": [
    {
     "name": "stdout",
     "output_type": "stream",
     "text": [
      "Test Accuracy: 0.608\n",
      "Confusion Matrix (Test):\n",
      "[[20  4  4]\n",
      " [ 8 11  6]\n",
      " [ 1  8 17]]\n"
     ]
    }
   ],
   "source": [
    "pred_test_prob = result_full.predict(X_test_df)\n",
    "pred_test_class = np.argmax(pred_test_prob, axis=1)\n",
    "\n",
    "acc_test = accuracy_score(test_y, pred_test_class)\n",
    "print(f\"Test Accuracy: {acc_test:.3f}\")\n",
    "\n",
    "cm_test = confusion_matrix(test_y, pred_test_class)\n",
    "print(\"Confusion Matrix (Test):\")\n",
    "print(cm_test)"
   ]
  },
  {
   "cell_type": "markdown",
   "metadata": {},
   "source": [
    "### Cross-validation    "
   ]
  },
  {
   "cell_type": "code",
   "execution_count": 38,
   "metadata": {},
   "outputs": [
    {
     "name": "stdout",
     "output_type": "stream",
     "text": [
      "Cross-Validated Accuracy: 0.615 (+/- 0.171)\n"
     ]
    }
   ],
   "source": [
    "from sklearn.model_selection import StratifiedKFold\n",
    "\n",
    "skf = StratifiedKFold(n_splits=5, shuffle=True, random_state=123)\n",
    "cv_accuracies = []\n",
    "\n",
    "for train_idx, val_idx in skf.split(X_train_df, train_y):\n",
    "    X_tr, X_val = X_train_df.iloc[train_idx], X_train_df.iloc[val_idx]\n",
    "    y_tr, y_val = train_y.iloc[train_idx], train_y.iloc[val_idx]\n",
    "\n",
    "    model_cv = OrderedModel(y_tr, X_tr, distr='logit').fit(method='bfgs', disp=False)\n",
    "    pred = model_cv.predict(X_val).idxmax(axis=1)\n",
    "    acc = accuracy_score(y_val, pred)\n",
    "    cv_accuracies.append(acc)\n",
    "\n",
    "avg_cv_acc = np.mean(cv_accuracies)\n",
    "print(f\"Cross-Validated Accuracy: {avg_cv_acc:.3f} (+/- {np.std(cv_accuracies)*2:.3f})\")"
   ]
  },
  {
   "cell_type": "markdown",
   "metadata": {},
   "source": [
    "### Visualize Odds Ratios"
   ]
  },
  {
   "cell_type": "code",
   "execution_count": 40,
   "metadata": {},
   "outputs": [
    {
     "data": {
      "image/png": "[encoded data removed]",
      "text/plain": [
       "<Figure size 640x480 with 1 Axes>"
      ]
     },
     "metadata": {},
     "output_type": "display_data"
    }
   ],
   "source": [
    "from matplotlib import pyplot as plt\n",
    "\n",
    "or_table['Odds Ratio'].plot(\n",
    "    kind='barh',\n",
    "    xerr=[or_table['Odds Ratio'] - or_table['2.5%'],\n",
    "          or_table['97.5%'] - or_table['Odds Ratio']],\n",
    "    color='skyblue',\n",
    "    edgecolor='black',\n",
    "    title=\"Odds Ratios with 95% Confidence Intervals\"\n",
    ")\n",
    "plt.axvline(x=1, color='red', linestyle='--', label='No effect (OR = 1)')\n",
    "plt.xlabel(\"Odds Ratio\")\n",
    "plt.legend()\n",
    "plt.tight_layout()\n",
    "plt.show()"
   ]
  },
  {
   "cell_type": "markdown",
   "metadata": {
    "id": "6gN-90d3rYsr"
   },
   "source": [
    " ### Predicted Probabilities by `WAs`"
   ]
  },
  {
   "cell_type": "code",
   "execution_count": null,
   "metadata": {
    "colab": {
     "base_uri": "https://localhost:8080/"
    },
    "executionInfo": {
     "elapsed": 279,
     "status": "ok",
     "timestamp": 1730772411345,
     "user": {
      "displayName": "Zia Ahmed",
      "userId": "17946583917266624826"
     },
     "user_tz": 300
    },
    "id": "QT2f1T6ArZr5",
    "outputId": "a8f6d8f0-00d2-4b99-dce3-1dbe23a45bd1"
   },
   "outputs": [
    {
     "data": {
      "image/png": "[encoded data removed]",
      "text/plain": [
       "<Figure size 800x500 with 1 Axes>"
      ]
     },
     "metadata": {},
     "output_type": "display_data"
    }
   ],
   "source": [
    "# Create grid of WAs values\n",
    "wa_grid = np.linspace(X_train_df['WAs'].min(), X_train_df['WAs'].max(), 50)\n",
    "\n",
    "# Hold other variables at mean\n",
    "X_mean = X_train_df.mean().values.reshape(1, -1)\n",
    "X_grid = np.tile(X_mean, (len(wa_grid), 1))\n",
    "X_grid[:, X_train_df.columns.get_loc('WAs')] = wa_grid  # Replace WAs column\n",
    "\n",
    "# Predict probabilities → shape (50, 3)\n",
    "pred_grid = result_full.predict(X_grid)\n",
    "\n",
    "# Now plot: each class is a column\n",
    "class_order = ['Non-contaminated', 'Moderately-contaminated', 'Highly-contaminated']\n",
    "\n",
    "plt.figure(figsize=(7, 5))\n",
    "for i, cls in enumerate(class_order):\n",
    "    plt.plot(wa_grid, pred_grid[:, i], label=f\"P({cls})\")  # ✅ Use [:, i]\n",
    "\n",
    "plt.xlabel(\"Water As (WAs)\")\n",
    "plt.ylabel(\"Predicted Probability\")\n",
    "plt.title(\"Predicted Class Probabilities by Water As (WAs)\")\n",
    "plt.legend(title=\"Soil Arsenic Class\")\n",
    "plt.grid(False)\n",
    "plt.tight_layout()\n",
    "plt.show()"
   ]
  },
  {
   "cell_type": "markdown",
   "metadata": {
    "id": "of4mLrHKtEJf"
   },
   "source": [
    "### Interpret the Odds Ratios\n",
    "\n",
    "-   Exponentiate the coefficient: This converts the log odds ratio to an odds ratio. For example, if the coefficient for WAs is 8.195, the odds ratio associated with a one-unit increase in WAs is $e^{8.195}$\n",
    "\n",
    "-   Interpret the odds ratio: When the odds ratio is greater than 1, it means that for each one-unit increase in the predictor variable, the odds of being in a higher category of the outcome increase by the value of the odds ratio. On the other hand, if the odds ratio is less than 1, it indicates that for each one-unit increase in the predictor variable, the odds of being in a higher category of the outcome decrease by the reciprocal of the odds ratio.\n",
    "\n",
    "-   Check the significance: When interpreting the results, it's important to pay attention to the p-values associated with each coefficient. A p-value that is less than 0.05 suggests that the odds ratio is significantly different from 1, indicating a strong association between the predictor variable and the outcome category. It's crucial to remember that interpretation should always be done in the context of the specific research question and the nature of the data being analyzed.\n"
   ]
  },
  {
   "cell_type": "markdown",
   "metadata": {},
   "source": [
    "### Predicted Probabilities with 95% CI via Bootstrapping"
   ]
  },
  {
   "cell_type": "code",
   "execution_count": 46,
   "metadata": {},
   "outputs": [
    {
     "name": "stdout",
     "output_type": "stream",
     "text": [
      "Computing bootstrapped confidence intervals (this may take ~1-2 minutes)...\n",
      " Done!\n"
     ]
    },
    {
     "data": {
      "image/png": "[encoded data removed]",
      "text/plain": [
       "<Figure size 800x600 with 1 Axes>"
      ]
     },
     "metadata": {},
     "output_type": "display_data"
    }
   ],
   "source": [
    "#  Complete: Predicted Probabilities with 95% CI via Bootstrapping\n",
    "\n",
    "import numpy as np\n",
    "import pandas as pd\n",
    "import matplotlib.pyplot as plt\n",
    "from statsmodels.miscmodels.ordinal_model import OrderedModel\n",
    "\n",
    "# Set seed\n",
    "np.random.seed(11076)\n",
    "\n",
    "def predict_with_bootstrap_ci(X_train_df, train_y, X_new, n_boot=200, alpha=0.05):\n",
    "    \"\"\"\n",
    "    Compute bootstrapped confidence intervals for predicted probabilities.\n",
    "    \"\"\"\n",
    "    n_points = X_new.shape[0]\n",
    "    n_classes = len(np.unique(train_y))\n",
    "    predictions = np.zeros((n_boot, n_points, n_classes)) * np.nan\n",
    "\n",
    "    for i in range(n_boot):\n",
    "        # Bootstrap sample\n",
    "        idx = np.random.choice(len(X_train_df), size=len(X_train_df), replace=True)\n",
    "        X_boot = X_train_df.iloc[idx].copy()\n",
    "        y_boot = train_y.iloc[idx].copy()\n",
    "\n",
    "        try:\n",
    "            model_boot = OrderedModel(endog=y_boot, exog=X_boot, distr='logit')\n",
    "            result_boot = model_boot.fit(method='bfgs', disp=False, maxiter=100)\n",
    "            pred = result_boot.predict(X_new)\n",
    "            pred = pred.values if isinstance(pred, pd.DataFrame) else pred\n",
    "            predictions[i] = pred\n",
    "        except Exception:\n",
    "            continue  # Skip failed fits\n",
    "\n",
    "    # Compute stats, ignoring NaN\n",
    "    pred_mean = np.nanmean(predictions, axis=0)\n",
    "    pred_lower = np.nanquantile(predictions, alpha / 2, axis=0)\n",
    "    pred_upper = np.nanquantile(predictions, 1 - alpha / 2, axis=0)\n",
    "\n",
    "    return pred_mean, pred_lower, pred_upper\n",
    "\n",
    "# --- Define WAs grid in real units (ppm) ---\n",
    "wa_actual = np.linspace(mf['WAs'].min(), mf['WAs'].max(), 50)\n",
    "\n",
    "# Scale WAs using training data min/max\n",
    "w_min, w_max = train['WAs'].min(), train['WAs'].max()\n",
    "wa_scaled = (wa_actual - w_min) / (w_max - w_min)\n",
    "\n",
    "# Prepare X_grid: hold all vars at mean, vary only WAs\n",
    "X_mean_scaled = X_train_df.mean().values.copy()\n",
    "X_grid = np.tile(X_mean_scaled, (len(wa_scaled), 1))\n",
    "w_col_idx = X_train_df.columns.get_loc('WAs')\n",
    "X_grid[:, w_col_idx] = wa_scaled\n",
    "\n",
    "# --- Compute predictions with CI ---\n",
    "print(\"Computing bootstrapped confidence intervals (this may take ~1-2 minutes)...\")\n",
    "pred_mean, pred_lower, pred_upper = predict_with_bootstrap_ci(\n",
    "    X_train_df, train_y, X_grid, n_boot=200\n",
    ")\n",
    "print(\" Done!\")\n",
    "\n",
    "# --- Plotting ---\n",
    "class_order = ['Non-contaminated', 'Moderately-contaminated', 'Highly-contaminated']\n",
    "colors = ['green', 'orange', 'red']\n",
    "\n",
    "plt.figure(figsize=(8, 6))\n",
    "for i, (cls, color) in enumerate(zip(class_order, colors)):\n",
    "    plt.plot(wa_actual, pred_mean[:, i], label=f\"{cls}\", color=color, linewidth=2.2)\n",
    "    plt.fill_between(wa_actual, pred_lower[:, i], pred_upper[:, i],\n",
    "                     color=color, alpha=0.25)\n",
    "\n",
    "# Optional: Add guideline\n",
    "plt.axvline(x=0.01, color='gray', linestyle='--', alpha=0.7, label='WHO Guideline (0.01 ppm)')\n",
    "\n",
    "plt.xlabel(\"Water Arsenic (WAs) [ppm]\", fontsize=12)\n",
    "plt.ylabel(\"Predicted Probability\", fontsize=12)\n",
    "plt.title(\"Soil Arsenic Contamination: Predicted Probabilities\\nwith 95% Confidence Intervals (Bootstrapped)\", \n",
    "          fontsize=13)\n",
    "plt.legend(title=\"Soil Contamination Level\", fontsize=10, title_fontsize=11)\n",
    "plt.grid(False, axis='x')\n",
    "plt.tight_layout()\n",
    "plt.show()"
   ]
  },
  {
   "cell_type": "markdown",
   "metadata": {
    "id": "upcYU_bCVlc1"
   },
   "source": [
    "## Summary and Conclusion\n",
    "\n",
    "\n",
    "Understanding ordinal regression and how to implement it in Python can provide valuable insights into the relationships between predictor variables and ordinal response variables. This can lead to a deeper understanding of the factors influencing the outcome of interest. It's important to approach ordinal regression carefully, taking into consideration the specific data and research question.\n",
    "\n",
    "This notebook has provided a comprehensive overview of ordinal regression, including its theoretical foundations, practical implementation in Python, and interpretation of results. We have explored the use of the `statsmodels` library for fitting ordinal regression models and visualizing the results. "
   ]
  },
  {
   "cell_type": "markdown",
   "metadata": {
    "id": "jadfYvGSWNK8"
   },
   "source": [
    "## References\n",
    "\n",
    "1. [Ordinal logistic regression](https://www.bookdown.org/rwnahhas/RMPH/blr-ordinal.html)\n",
    "\n",
    "2. [statsmodels` – `OrderedModel` Documentation](https://www.statsmodels.org/stable/miscmodels.html#module-statsmodels.miscmodels.ordinal_model)\n",
    "\n",
    "3. [`mord` – Python Library for Ordinal Regression](https://github.com/david-cortes/mord)\n",
    "\n",
    "4. [Blog: \"Ordinal Regression in Python\" by David Cortes](https://towardsdatascience.com/ordinal-regression-in-python-ac170a9b410d) \n",
    "\n",
    "6. [Chapter 12 Ordinal Logistic Regression](https://bookdown.org/chua/ber642_advanced_regression/ordinal-logistic-regression.html)\n",
    "\n",
    "7. [Handbook of Regression Modeling in People Analytics:](https://peopleanalytics-regression-book.org/)"
   ]
  },
  {
   "cell_type": "markdown",
   "metadata": {
    "id": "BgFWJdeDexxy"
   },
   "source": [
    "Here are some books that cover Ordinal Regression and its implementation in R:\n",
    "\n",
    "1. **\"Modern Applied Statistics with S\" by W.N. Venables and B.D. Ripley**\n",
    "   - This book provides a comprehensive introduction to statistical modeling using S-PLUS and R, including chapters on ordinal regression models.\n",
    "\n",
    "2. **\"Ordinal Data Modeling\" by Valen E. Johnson and James H. Albert**\n",
    "   - This book focuses on ordinal data analysis and modeling, including techniques and applications in R.\n",
    "\n",
    "3. **\"Regression Modeling Strategies: With Applications to Linear Models, Logistic and Ordinal Regression, and Survival Analysis\" by Frank E. Harrell Jr.**\n",
    "   - This comprehensive book covers various regression modeling strategies, including ordinal regression, with practical examples and R code.\n",
    "\n",
    "4. **\"Analysis of Ordinal Categorical Data\" by Alan Agresti**\n",
    "   - This book provides an in-depth look at ordinal categorical data analysis, including ordinal regression models, with examples and code that can be adapted to R.\n",
    "\n",
    "5. **\"Generalized Linear Models with Examples in R\" by Peter K. Dunn and Gordon K. Smyth**\n",
    "   - This book offers a detailed introduction to generalized linear models, including ordinal regression models, with practical examples and R code.\n",
    "\n",
    "6. **\"Applied Ordinal Logistic Regression Using Stata: From Single-Level to Multilevel Modeling\" by Xing Liu**\n",
    "   - While this book primarily focuses on Stata, the concepts and methods discussed can be adapted for implementation in R.\n",
    "\n",
    "7. **\"Applied Regression Analysis and Generalized Linear Models\" by John Fox**\n",
    "   - This book provides a thorough introduction to regression analysis, including ordinal regression, with examples and R code.\n",
    "\n",
    "These books provide a thorough understanding of ordinal regression models and their application in R, catering to both beginners and advanced users."
   ]
  }
 ],
 "metadata": {
  "colab": {
   "authorship_tag": "ABX9TyMWnfioaHpQIju8BLMJKYkk",
   "provenance": [
    {
     "file_id": "10hTOhfuZm4Xx79I-BYNuezsXUm1CIFeF",
     "timestamp": 1726584616531
    },
    {
     "file_id": "14F7KOiKG7EhPfxe0MMeqDoLIs0fL5DyH",
     "timestamp": 1726518875512
    }
   ],
   "toc_visible": true
  },
  "kernelspec": {
   "display_name": "Python 3",
   "language": "python",
   "name": "python3"
  },
  "language_info": {
   "codemirror_mode": {
    "name": "ipython",
    "version": 3
   },
   "file_extension": ".py",
   "mimetype": "text/x-python",
   "name": "python",
   "nbconvert_exporter": "python",
   "pygments_lexer": "ipython3",
   "version": "3.10.12"
  }
 },
 "nbformat": 4,
 "nbformat_minor": 0
}
