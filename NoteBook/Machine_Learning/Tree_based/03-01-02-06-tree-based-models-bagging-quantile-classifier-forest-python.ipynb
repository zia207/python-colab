{
  "nbformat": 4,
  "nbformat_minor": 0,
  "metadata": {
    "colab": {
      "provenance": [],
      "toc_visible": true,
      "authorship_tag": "ABX9TyPnWzM15z42lMH8PSyO4Bmp",
      "include_colab_link": true
    },
    "kernelspec": {
      "name": "python3",
      "display_name": "Python 3"
    },
    "language_info": {
      "name": "python"
    }
  },
  "cells": [
    {
      "cell_type": "markdown",
      "metadata": {
        "id": "view-in-github",
        "colab_type": "text"
      },
      "source": [
        "<a href=\"https://colab.research.google.com/github/zia207/python-colab/blob/main/NoteBook/Machine_Learning/Tree_based/03-01-02-06-tree-based-models-bagging-quantile-classifier-forest-python.ipynb\" target=\"_parent\"><img src=\"https://colab.research.google.com/assets/colab-badge.svg\" alt=\"Open In Colab\"/></a>"
      ]
    },
    {
      "cell_type": "markdown",
      "source": [
        "![alt text](http://drive.google.com/uc?export=view&id=1xLlN9eEG2IYFBlAuwl53aDVxcBkRnkEw)"
      ],
      "metadata": {
        "id": "zYZbTX0qQrZb"
      }
    },
    {
      "cell_type": "markdown",
      "source": [
        "# 2.6 Random Forests Quantile Classifier (RFQ)\n",
        "\n",
        "The Random Forests Quantile Classifier (RFQ) is a machine learning method designed to address class imbalance problems in classification tasks. It extends the concept of quantile classifiers (`q-classifiers`) by introducing a `*q-classifier*`, which is implemented using random forests. RFQ is particularly effective for datasets where one class (the minority class) is significantly underrepresented compared to the other (the majority class)."
      ],
      "metadata": {
        "id": "RGBfrL2GQoII"
      }
    },
    {
      "cell_type": "markdown",
      "source": [
        "## Overview\n",
        "\n",
        "RFQ is a classification algorithm that assigns a sample to the minority class if the estimated conditional probability of the minority class exceeds a quantile threshold q*, where q* is set to the unconditional probability of observing a minority class sample (denoted as π). This threshold is estimated empirically using the relative frequency of minority class labels in the dataset. RFQ leverages the ensemble power of random forests to estimate these probabilities and make classification decisions, optimizing performance metrics suited for imbalanced data.\n",
        "\n"
      ],
      "metadata": {
        "id": "S77MsgmqIYD0"
      }
    },
    {
      "cell_type": "markdown",
      "source": [
        "### Key Features\n",
        "\n",
        "1. **Handles Imbalance**: Optimizes `G-mean` (√(TPR × TNR)) for rare minority classes.\n",
        "2. **Random Forests**: Robust ensemble with configurable parameters (e.g., `ntree`, `mtry`).\n",
        "3. **G-mean Importance**: Tailored variable importance for imbalanced data.\n",
        "4. **Efficient**: Uses full dataset, unlike balanced sampling methods.\n",
        "5. **Competitive**: Outperforms or matches methods like BRF, especially in high-dimensional, highly imbalanced settings.\n",
        "6. **Empirical Threshold**: Estimates `q` as the minority class frequency.\n"
      ],
      "metadata": {
        "id": "VwEoykvwI2dS"
      }
    },
    {
      "cell_type": "markdown",
      "source": [
        "### Understanding Imbalanced Data\n",
        "\n",
        "Imbalanced data is common in real-world classification problems, such as detecting rare diseases or fraudulent transactions. The imbalance ratio (IR) quantifies this issue, defined as:\n",
        "\n",
        "$$ \\text{IR} = \\frac{N_0}{N_1}, $$\n",
        "\n",
        "where $N_0$ is the number of majority class samples, and $N_1$ is the number of minority class samples. A dataset is considered imbalanced when $\\text{IR} > 1$.  \n",
        "\n",
        "Standard Random Forest (RF) classifiers often struggle with imbalanced data because they rely on the Bayes rule, which minimizes overall misclassification error:\n",
        "\n",
        "$$ \\delta_{\\text{B}}(x) = \\mathbb{I}\\{p(x) \\geq 0.5\\}, $$\n",
        "\n",
        "\n",
        "where $p(x) = \\mathbb{P}\\{Y = 1 \\mid X = x\\}$ is the probability of the minority class (label 1) given features $x$. In imbalanced datasets, $p(x)$ is typically small, causing the classifier to predominantly predict the majority class, resulting in poor performance on the minority class.\n"
      ],
      "metadata": {
        "id": "fNSn5kBbT7_8"
      }
    },
    {
      "cell_type": "markdown",
      "source": [
        "### How RFQ Works\n",
        "\n",
        "The RFQ classifier extends the Random Forest framework to better handle imbalanced data by estimating conditional quantiles of the response variable, focusing on the minority class. Unlike standard RF, which aggregates predictions via majority voting or averaging, RFQ leverages the full distribution of class probabilities across trees to provide more nuanced predictions. Below are the key steps, with equations, explaining how RFQ operates:\n",
        "\n",
        "1.  Bootstrap Sampling and Tree Construction:\n",
        "\n",
        "    -   RFQ builds a forest of $B$ decision trees, each trained on a bootstrap sample of the dataset, typically with replacement. At each node, a random subset of features is considered for splitting, using a criterion like Gini impurity, adjusted for class imbalance.\n",
        "\n",
        "    -   For a given tree $b$, observations falling into a leaf node are retained, along with their class labels $\\{Y_i : X_i \\in \\text{leaf}_b(x)\\}$.\n",
        "\n",
        "2.  Weight Assignment:\n",
        "\n",
        "    -   For a new input $x$, RFQ assigns weights to each training observation based on its presence in the leaf nodes across all trees:\n",
        "\n",
        "$$ w_i(x) = \\frac{1}{B} \\sum_{b=1}^B \\mathbb{I}\\{X_i \\in \\text{leaf}_b(x)\\},$$\n",
        "\n",
        "where $\\mathbb{I}\\{\\cdot\\}$ is an indicator function (1 if $X_i$ is in the leaf node of tree $b$ containing $x$, 0 otherwise).\n",
        "\n",
        "3.  Estimating Conditional Class Probabilities:\n",
        "\n",
        "    -   RFQ estimates the conditional probability of the minority class (label 1) given $x$:\n",
        "\n",
        "$$ \\hat{p}(x) = \\sum_{i=1}^n w_i(x) \\mathbb{I}\\{Y_i = 1\\},$$\n",
        "\n",
        "where $\\hat{p}(x)$ approximates $\\mathbb{P}\\{Y = 1 \\mid X = x\\}$ This is equivalent to estimating the conditional cumulative distribution function (CDF) for the class probabilities.\n",
        "\n",
        "4.  Quantile-Based Classification:\n",
        "\n",
        "    -   Instead of using a fixed threshold (e.g., 0.5 in Bayes rule), RFQ estimates quantiles of the conditional probability distribution. For a quantile $\\tau \\in (0,1)$, the classifier identifies the threshold $q_\\tau(x)$ such that:\n",
        "\n",
        "$$ \\hat{F}(q | x) = \\sum_{i=1}^n w_i(x) \\mathbb{I}\\{p_i \\leq q\\} \\geq \\tau, $$ where $p_i$ is the class probability for observation $i$. The classification rule becomes:\n",
        "\n",
        "$$ \\hat{Y}(x) = \\mathbb{I}\\{\\hat{p}(x) \\geq q_\\tau(x)\\},$$ allowing flexible thresholding to prioritize the minority class.\n",
        "\n",
        "5.  Handling Imbalance:\n",
        "\n",
        "    -   RFQ incorporates techniques to address imbalance, such as:\n",
        "\n",
        "    -   `Cost-Sensitive Learning`: Assigning higher weights to the minority class in the Gini splitting criterion and terminal node voting. For example, if $w_1$ is the weight for the minority class and $w_0$ for the majority class $w_1 > w_0$, the weighted Gini impurity for a node is:\n",
        "\n",
        "$$ \\text{Gini} = 1 - \\sum_{k=0}^1 \\left( \\frac{w_k \\cdot n_k}{w_0 \\cdot n_0 + w_1 \\cdot n_1} \\right)^2,$$ where $n_k$ is the number of samples of class ( k ) in the node.\n",
        "\n",
        "-   `Balanced Sampling`: Using stratified bootstrap sampling or oversampling the minority class during tree construction to ensure more balanced datasets for each tree.\n",
        "\n",
        "6.  Variable Importance (VIMP):\n",
        "\n",
        "    -   RFQ uses a modified variable importance measure, the $G$-mean, to assess feature importance in imbalanced settings. The $G$-mean is the geometric mean of class-specific accuracies, balancing performance across classes:\n",
        "\n",
        "$$ G\\text{-mean} = \\sqrt{\\text{Sensitivity} \\cdot \\text{Specificity}},$$\n",
        "\n",
        "where Sensitivity is the true positive rate for the minority class, and Specificity is the true negative rate for the majority class. This is combined with the Ishwaran-Kogalur VIMP, which calculates the increase in prediction error when a feature’s values are permuted.\n",
        "\n"
      ],
      "metadata": {
        "id": "uJS_IJgVI-bh"
      }
    },
    {
      "cell_type": "markdown",
      "source": [
        "Below is a flowchart summarizing the RFQ algorithm:\n",
        "\n",
        "\n",
        "![alt text](http://drive.google.com/uc?export=view&id=1dTHrVSHJrlF02Ffa_nCq8gniODKQWFVH)\n"
      ],
      "metadata": {
        "id": "MfeqJ2MyFVfU"
      }
    },
    {
      "cell_type": "markdown",
      "source": [
        "### Advantages and Limitations\n",
        "\n",
        "**Advantages**:\n",
        "\n",
        "1.  **Handles Imbalance**: Optimizes G-mean for minority class detection.\n",
        "2.  **Robust**: Uses random forests, good for high-dimensional data.\n",
        "3.  **Efficient**: Leverages full dataset, unlike undersampling methods.\n",
        "4.  **G-mean Importance**: Better feature ranking for imbalanced data.\n",
        "5.  **Competitive**: Outperforms or matches BRF in imbalanced scenarios.\n",
        "\n",
        "**Limitations**:\n",
        "\n",
        "1.  **Binary Only**: Limited to two-class problems.\n",
        "2.  **Computationally Intensive**: Needs many trees (e.g., ntree ≥ 3000).\n",
        "3.  **Threshold Sensitivity**: q\\* estimation may falter with tiny minority samples.\n",
        "4.  **Tuning Required**: Parameters like mtry, nodesize need optimization.\n",
        "5.  **Niche Use**: Less effective for balanced datasets.\n",
        "6.  **Limited Support**: Mainly in randomForestSRC package.\n",
        "\n",
        "\n"
      ],
      "metadata": {
        "id": "_oHgtdo9Tx-4"
      }
    },
    {
      "cell_type": "markdown",
      "source": [
        "\n",
        "### Applications\n",
        "\n",
        "1.  **Medical Diagnostics**: Detects rare diseases (e.g., cancer) in imbalanced datasets where positive cases are scarce, prioritizing sensitivity to minority class.\n",
        "2.  **Fraud Detection**: Identifies fraudulent transactions (e.g., credit card fraud) in financial data, where fraud cases are significantly outnumbered by legitimate ones.\n",
        "3.  **Remote Sensing**: Classifies rare land cover types or environmental anomalies (e.g., deforestation) in satellite imagery with imbalanced class distributions.\n",
        "4.  **Cybersecurity**: Detects rare security threats (e.g., network intrusions) in large datasets dominated by normal activity.\n",
        "5.  **Marketing**: Targets rare customer segments (e.g., high-value customers) in datasets with uneven class proportions.\n",
        "6.  **Manufacturing**: Identifies defective products in quality control, where defects are rare compared to normal outputs.\n",
        "\n"
      ],
      "metadata": {
        "id": "iQ-vcH8iUBDa"
      }
    },
    {
      "cell_type": "markdown",
      "source": [
        "\n",
        "##  Random Forests Quantile Classifier (RFQ) from scratch\n",
        "\n",
        "To implement the Random Forests Quantile Classifier (RFQ) from scratch in Python, we will create a simplified version of the RFQ model without relying on external. This implementation will focus on the core concepts of RFQ, including bootstrap sampling, decision tree construction, and quantile-based classification. The RFQ model is designed for imbalanced binary classification, using a quantile threshold (q* = minority class proportion) to classify samples, optimizing the G-mean (√(TPR × TNR)). Since we cannot rely on external libraries, we’ll build the random forest components (decision trees, bootstrap sampling, etc.) and implement the RFQ-specific logic manually.\n",
        "\n",
        "1. Simulate a dataset resembling `breast` with ~194 rows, a binary response, and 10 continuous predictors, ensuring some class imbalance.\n",
        "2. Apply the provided train/test split (80% train, 20% test).\n",
        "3. Fit the RFQ model using the `rfq_imbalanced()` function from the previous response.\n",
        "4. Present the results step by step.\n",
        "\n"
      ],
      "metadata": {
        "id": "_W-exb0KKCFd"
      }
    },
    {
      "cell_type": "markdown",
      "source": [
        "### Simulate a  Dataset\n",
        "\n",
        "We’ll create a dataset with:\n",
        "\n",
        "- **Rows**: ~194 (after NA removal in the original).\n",
        "- **Response**: Binary `status` (0 = normal, 1 = tumor), with ~20% minority class (tumor) to simulate imbalance.\n",
        "- **Predictors**: 10 continuous features (e.g., mimicking gene expression or medical measurements).\n",
        "- **Structure**: Features are generated to have some correlation with the response to ensure meaningful splits."
      ],
      "metadata": {
        "id": "NMJamUQ5XZDx"
      }
    },
    {
      "cell_type": "code",
      "source": [
        "import numpy as np\n",
        "import pandas as pd\n",
        "\n",
        "# Set seed for reproducibility\n",
        "np.random.seed(123)\n",
        "\n",
        "# Simulate dataset\n",
        "n = 194\n",
        "n_minority = round(0.2 * n)  # ~20% minority class (tumor)\n",
        "n_majority = n - n_minority\n",
        "\n",
        "# Generate predictors (10 continuous features)\n",
        "p = 10\n",
        "features = np.random.normal(loc=0, scale=1, size=(n, p))\n",
        "feature_names = [f\"V{i}\" for i in range(1, p + 1)]\n",
        "\n",
        "# Generate binary response (status: 0 = normal, 1 = tumor)\n",
        "# Make minority class slightly dependent on first few features\n",
        "status = np.array([0] * n_majority + [1] * n_minority)\n",
        "for i in range(n_minority):\n",
        "  features[n_majority + i, 0:3] = features[n_majority + i, 0:3] + np.random.normal(loc=1, scale=0.5, size=3)\n",
        "\n",
        "breast_data = pd.DataFrame(features, columns=feature_names)\n",
        "breast_data['status'] = status\n",
        "\n",
        "# Verify dimensions and class distribution\n",
        "print(\"Dimensions of breast_data:\", breast_data.shape)\n",
        "print(\"Class distribution of status:\\n\", breast_data['status'].value_counts())"
      ],
      "metadata": {
        "colab": {
          "base_uri": "https://localhost:8080/"
        },
        "id": "RPmAPmxOiigt",
        "outputId": "6e9aec31-c77e-48df-ef5d-e85856c0385b"
      },
      "execution_count": 9,
      "outputs": [
        {
          "output_type": "stream",
          "name": "stdout",
          "text": [
            "Dimensions of breast_data: (194, 11)\n",
            "Class distribution of status:\n",
            " status\n",
            "0    155\n",
            "1     39\n",
            "Name: count, dtype: int64\n"
          ]
        }
      ]
    },
    {
      "cell_type": "markdown",
      "source": [
        "### Apply Train/Test Split"
      ],
      "metadata": {
        "id": "BrOesvibXnLa"
      }
    },
    {
      "cell_type": "code",
      "source": [
        "from sklearn.model_selection import train_test_split\n",
        "\n",
        "# Apply train/test split (80% train, 20% test)\n",
        "train_data, test_data = train_test_split(breast_data, test_size=0.2, random_state=123, stratify=breast_data['status'])\n",
        "\n",
        "# Display the shapes of the resulting dataframes to verify the split\n",
        "print(\"Shape of train_data:\", train_data.shape)\n",
        "print(\"Shape of test_data:\", test_data.shape)"
      ],
      "metadata": {
        "id": "6-o-is1QlfGD",
        "colab": {
          "base_uri": "https://localhost:8080/"
        },
        "outputId": "b3f911c8-cf1c-4c33-a43e-c0739c26ff92"
      },
      "execution_count": 10,
      "outputs": [
        {
          "output_type": "stream",
          "name": "stdout",
          "text": [
            "Shape of train_data: (155, 11)\n",
            "Shape of test_data: (39, 11)\n"
          ]
        }
      ]
    },
    {
      "cell_type": "markdown",
      "source": [
        "### Define Helper Functions\n",
        "\n",
        "We need functions for:\n",
        "\n",
        "- Calculating Gini impurity (for splitting nodes).\n",
        "- Finding the best split for a node.\n",
        "- Building a decision tree.\n",
        "- Predicting with a single tree."
      ],
      "metadata": {
        "id": "7Kajrhp-lhKv"
      }
    },
    {
      "cell_type": "markdown",
      "source": [
        "`Gini Impurity Function`:\n",
        "\n",
        "- Purpose: Measures node purity for binary classification, with optional weights for imbalance.\n",
        "- Input: `y` (binary labels, 0/1), `weights` (observation weights).\n",
        "- Output: Gini impurity value."
      ],
      "metadata": {
        "id": "QpzDL8xjm1OD"
      }
    },
    {
      "cell_type": "code",
      "source": [
        "import numpy as np\n",
        "\n",
        "def gini_impurity(y, weights=None):\n",
        "  \"\"\"Calculates the Gini impurity for binary labels.\n",
        "\n",
        "  Args:\n",
        "    y: A NumPy array or pandas Series of binary labels (0 or 1).\n",
        "    weights: An optional NumPy array of weights for each observation.\n",
        "\n",
        "  Returns:\n",
        "    The Gini impurity value.\n",
        "  \"\"\"\n",
        "  if weights is None:\n",
        "    weights = np.ones(len(y))\n",
        "  if len(y) == 0:\n",
        "    return 0\n",
        "\n",
        "  total_weight = np.sum(weights)\n",
        "  if total_weight == 0:\n",
        "      return 0 # Avoid division by zero if all weights are zero\n",
        "\n",
        "  p1 = np.sum(weights[y == 1]) / total_weight\n",
        "  p0 = np.sum(weights[y == 0]) / total_weight\n",
        "  return 1 - p1**2 - p0**2\n",
        "\n",
        "# Example usage (optional):\n",
        "# y_example = np.array([0, 1, 0, 1, 0])\n",
        "# weights_example = np.array([1, 1, 0.5, 1, 0.5])\n",
        "# print(\"Gini impurity without weights:\", gini_impurity(y_example))\n",
        "# print(\"Gini impurity with weights:\", gini_impurity(y_example, weights_example))"
      ],
      "metadata": {
        "id": "XEGwQbt_bTd1"
      },
      "execution_count": 11,
      "outputs": []
    },
    {
      "cell_type": "markdown",
      "source": [
        "`Find Best Split Function`\n",
        "\n",
        "- Purpose: Identifies the best feature and threshold to split a node, minimizing weighted Gini impurity.\n",
        "- Input: `x` (predictor matrix), `y` (labels), `weights`, `mtry` (number of features to try), `min_node_size` (minimum samples per node).\n",
        "- Output: List with best feature and threshold, or NULL if no valid split."
      ],
      "metadata": {
        "id": "QF70BOZBbZ8j"
      }
    },
    {
      "cell_type": "code",
      "source": [
        "import numpy as np\n",
        "import pandas as pd\n",
        "\n",
        "def find_best_split(x, y, weights, mtry, min_node_size):\n",
        "  \"\"\"Finds the best feature and threshold to split a node.\n",
        "\n",
        "  Args:\n",
        "    x: Predictor data (NumPy array or pandas DataFrame).\n",
        "    y: Binary labels (NumPy array or pandas Series).\n",
        "    weights: Observation weights (NumPy array).\n",
        "    mtry: Number of features to try for splitting.\n",
        "    min_node_size: Minimum number of weighted samples required in each child node.\n",
        "\n",
        "  Returns:\n",
        "    A dictionary with 'feature' (index of the best feature) and 'threshold'\n",
        "    (the best splitting threshold), or None if no valid split is found.\n",
        "  \"\"\"\n",
        "  n_samples, n_features = x.shape\n",
        "  if n_features == 0 or n_samples < min_node_size:\n",
        "    return None\n",
        "\n",
        "  # Ensure y is a NumPy array and handle potential pandas Series input for x\n",
        "  if isinstance(y, pd.Series):\n",
        "      y = y.values\n",
        "  if isinstance(x, pd.DataFrame):\n",
        "      feature_names = x.columns\n",
        "      x = x.values\n",
        "  else:\n",
        "      feature_names = [f\"V{i+1}\" for i in range(n_features)]\n",
        "\n",
        "\n",
        "  # Randomly select mtry features\n",
        "  features_to_try = np.random.choice(n_features, min(mtry, n_features), replace=False)\n",
        "\n",
        "  best_gini = float('inf')\n",
        "  best_feature = None\n",
        "  best_threshold = None\n",
        "\n",
        "  for f_idx in features_to_try:\n",
        "    values = np.sort(np.unique(x[:, f_idx]))\n",
        "    if len(values) <= 1:\n",
        "      continue\n",
        "    thresholds = (values[:-1] + values[1:]) / 2\n",
        "\n",
        "    for t in thresholds:\n",
        "      left_idx = x[:, f_idx] <= t\n",
        "      right_idx = ~left_idx\n",
        "\n",
        "      if np.sum(weights[left_idx]) < min_node_size or np.sum(weights[right_idx]) < min_node_size:\n",
        "        continue\n",
        "\n",
        "      gini_left = gini_impurity(y[left_idx], weights[left_idx])\n",
        "      gini_right = gini_impurity(y[right_idx], weights[right_idx])\n",
        "\n",
        "      n_left_weighted = np.sum(weights[left_idx])\n",
        "      n_right_weighted = np.sum(weights[right_idx])\n",
        "      total_weighted = np.sum(weights)\n",
        "\n",
        "      if total_weighted == 0: # Avoid division by zero\n",
        "          gini_split = 0\n",
        "      else:\n",
        "          gini_split = (n_left_weighted * gini_left + n_right_weighted * gini_right) / total_weighted\n",
        "\n",
        "\n",
        "      if gini_split < best_gini:\n",
        "        best_gini = gini_split\n",
        "        best_feature = f_idx\n",
        "        best_threshold = t\n",
        "\n",
        "  if best_feature is None:\n",
        "    return None\n",
        "\n",
        "  return {'feature': best_feature, 'threshold': best_threshold}\n",
        "\n",
        "# Example usage (optional, requires gini_impurity function):\n",
        "# Assuming you have train_data, train_data['status'], and weights\n",
        "# weights_example = np.ones(len(train_data))\n",
        "# mtry_example = floor(sqrt(train_data.shape[1] - 1))\n",
        "# min_node_size_example = 5\n",
        "# best_split_result = find_best_split(train_data.drop('status', axis=1), train_data['status'], weights_example, mtry_example, min_node_size_example)\n",
        "# print(best_split_result)"
      ],
      "metadata": {
        "id": "FcB-lWU2jTF4"
      },
      "execution_count": 12,
      "outputs": []
    },
    {
      "cell_type": "markdown",
      "source": [
        "`Build Decision Tree Function`:\n",
        "\n",
        "- Purpose: Recursively builds a decision tree using the best splits.\n",
        "- Input: `x`, `y`, `weights`, `mtry`, `min_node_size`, `max_depth`, `depth` (current depth).\n",
        "- Output: A tree (list) with nodes (feature, threshold, left, right) or leaves (class probability)."
      ],
      "metadata": {
        "id": "2S6NVZr8bmZ9"
      }
    },
    {
      "cell_type": "code",
      "source": [
        "import numpy as np\n",
        "import pandas as pd\n",
        "\n",
        "def build_tree(x, y, weights, mtry, min_node_size, max_depth, depth=0):\n",
        "  \"\"\"Recursively builds a decision tree.\n",
        "\n",
        "  Args:\n",
        "    x: Predictor data (NumPy array or pandas DataFrame).\n",
        "    y: Binary labels (NumPy array or pandas Series).\n",
        "    weights: Observation weights (NumPy array).\n",
        "    mtry: Number of features to try for splitting.\n",
        "    min_node_size: Minimum number of weighted samples required in each child node.\n",
        "    max_depth: Maximum depth of the tree.\n",
        "    depth: Current depth of the tree (for recursion).\n",
        "\n",
        "  Returns:\n",
        "    A dictionary representing a node (internal node or leaf).\n",
        "  \"\"\"\n",
        "  # Ensure y is a NumPy array and handle potential pandas Series input for x\n",
        "  if isinstance(y, pd.Series):\n",
        "      y = y.values\n",
        "  if isinstance(x, pd.DataFrame):\n",
        "      x_values = x.values\n",
        "  else:\n",
        "      x_values = x\n",
        "\n",
        "\n",
        "  # Stopping conditions\n",
        "  if depth >= max_depth or len(np.unique(y)) == 1 or np.sum(weights) < min_node_size:\n",
        "    # Leaf node: store class proportions\n",
        "    total_weight = np.sum(weights)\n",
        "    if total_weight == 0:\n",
        "        p1 = 0\n",
        "    else:\n",
        "        p1 = np.sum(weights[y == 1]) / total_weight\n",
        "    return {'leaf': True, 'prob': p1, 'n_samples': len(y)}\n",
        "\n",
        "  # Find best split\n",
        "  split = find_best_split(x_values, y, weights, mtry, min_node_size)\n",
        "\n",
        "  # If no valid split is found\n",
        "  if split is None:\n",
        "    total_weight = np.sum(weights)\n",
        "    if total_weight == 0:\n",
        "        p1 = 0\n",
        "    else:\n",
        "        p1 = np.sum(weights[y == 1]) / total_weight\n",
        "    return {'leaf': True, 'prob': p1, 'n_samples': len(y)}\n",
        "\n",
        "  # Partition data\n",
        "  left_idx = x_values[:, split['feature']] <= split['threshold']\n",
        "  right_idx = ~left_idx\n",
        "\n",
        "  # Handle potential empty splits after applying threshold\n",
        "  if np.sum(weights[left_idx]) == 0 or np.sum(weights[right_idx]) == 0:\n",
        "      total_weight = np.sum(weights)\n",
        "      if total_weight == 0:\n",
        "          p1 = 0\n",
        "      else:\n",
        "          p1 = np.sum(weights[y == 1]) / total_weight\n",
        "      return {'leaf': True, 'prob': p1, 'n_samples': len(y)}\n",
        "\n",
        "\n",
        "  # Recursively build left and right subtrees\n",
        "  left_tree = build_tree(x[left_idx], y[left_idx], weights[left_idx],\n",
        "                         mtry, min_node_size, max_depth, depth + 1)\n",
        "  right_tree = build_tree(x[right_idx], y[right_idx], weights[right_idx],\n",
        "                          mtry, min_node_size, max_depth, depth + 1)\n",
        "\n",
        "  # Internal node\n",
        "  return {'leaf': False, 'feature': split['feature'], 'threshold': split['threshold'],\n",
        "          'left': left_tree, 'right': right_tree}\n",
        "\n",
        "# Note: This function requires the 'find_best_split' and 'gini_impurity' functions to be defined."
      ],
      "metadata": {
        "id": "WqWVrLj0jgSf"
      },
      "execution_count": 13,
      "outputs": []
    },
    {
      "cell_type": "markdown",
      "source": [
        "`Predict with Single Tree Function`:\n",
        "\n",
        "- Purpose: Predicts the minority class probability for a single observation using a tree.\n",
        "- Input: `tree` (tree object), `x_row` (single row of predictors).\n",
        "- Output: Minority class probability."
      ],
      "metadata": {
        "id": "CkucSoDVbuHy"
      }
    },
    {
      "cell_type": "code",
      "source": [
        "import numpy as np\n",
        "import pandas as pd\n",
        "\n",
        "def predict_tree(tree, x_row):\n",
        "  \"\"\"Predicts the minority class probability for a single observation using a tree.\n",
        "\n",
        "  Args:\n",
        "    tree: A dictionary representing a decision tree or subtree node.\n",
        "    x_row: A single row of predictor data (NumPy array or pandas Series).\n",
        "\n",
        "  Returns:\n",
        "    The predicted minority class probability.\n",
        "  \"\"\"\n",
        "  # Ensure x_row is a NumPy array\n",
        "  if isinstance(x_row, pd.Series):\n",
        "      x_row = x_row.values\n",
        "  elif isinstance(x_row, pd.DataFrame):\n",
        "      x_row = x_row.values[0] # Assuming a single row DataFrame\n",
        "\n",
        "  if tree['leaf']:\n",
        "    return tree['prob']\n",
        "\n",
        "  if x_row[tree['feature']] <= tree['threshold']:\n",
        "    return predict_tree(tree['left'], x_row)\n",
        "  else:\n",
        "    return predict_tree(tree['right'], x_row)\n",
        "\n",
        "# Note: This function requires a tree structure generated by the 'build_tree' function.\n"
      ],
      "metadata": {
        "id": "eMs9AvFNbzGN"
      },
      "execution_count": 14,
      "outputs": []
    },
    {
      "cell_type": "markdown",
      "source": [
        "### Implement the Main RFQ Function\n",
        "\n",
        "- Purpose: Builds a random forest, estimates q*, makes predictions, and computes variable importance.\n",
        "- Input:\n",
        "  - `formula`: Specifies response and predictors (e.g., `status ~ .`).\n",
        "  - `data`: Training data.\n",
        "  - `ntree`: Number of trees.\n",
        "  - `mtry`: Features to try per split (default: floor(ncol/3)).\n",
        "  - `nodesize`: Minimum node size (default: 1).\n",
        "  - `maxdepth`: Maximum tree depth (default: 20).\n",
        "  - `test`: Optional test data."
      ],
      "metadata": {
        "id": "JwwI45IvnvtY"
      }
    },
    {
      "cell_type": "code",
      "source": [
        "def rfq_imbalanced(formula, data, ntree=500, mtry=None,\n",
        "                          nodesize=1, maxdepth=20, test=None):\n",
        "  \"\"\"Implements a simplified Random Forests Quantile Classifier (RFQ).\n",
        "\n",
        "  Args:\n",
        "    formula: A string specifying the response and predictors (e.g., 'status ~ .').\n",
        "    data: Training data (pandas DataFrame).\n",
        "    ntree: Number of trees (default: 500).\n",
        "    mtry: Number of features to try per split (default: floor(ncol/3)).\n",
        "    nodesize: Minimum node size (default: 1).\n",
        "    maxdepth: Maximum tree depth (default: 20).\n",
        "    test: Optional test data (pandas DataFrame).\n",
        "\n",
        "  Returns:\n",
        "    A dictionary containing the trained forest, predictions, G-mean scores,\n",
        "    variable importance, and the estimated q*.\n",
        "  \"\"\"\n",
        "  # Extract response and predictors\n",
        "  response_var = formula.split('~')[0].strip()\n",
        "  predictor_vars_str = formula.split('~')[1].strip()\n",
        "\n",
        "  y = data[response_var].values\n",
        "  if predictor_vars_str == '.':\n",
        "      x = data.drop(columns=[response_var]).values\n",
        "      predictor_names = data.drop(columns=[response_var]).columns.tolist()\n",
        "  else:\n",
        "      predictor_vars = [var.strip() for var in predictor_vars_str.split('+')]\n",
        "      x = data[predictor_vars].values\n",
        "      predictor_names = predictor_vars\n",
        "\n",
        "\n",
        "  # Ensure y is binary (0/1)\n",
        "  # Assuming the response is already 0 or 1 based on previous steps\n",
        "  if not np.all(np.isin(y, [0, 1])):\n",
        "      # Attempt to convert if not already 0/1, assuming it's a factor/category\n",
        "      unique_y = np.unique(y)\n",
        "      if len(unique_y) == 2:\n",
        "          # Map the minority class to 1 and majority to 0\n",
        "          minority_class = unique_y[np.argmin(np.bincount(y.astype(int)))] # Assuming 0/1 or similar int representation\n",
        "          y = (y == minority_class).astype(int)\n",
        "      else:\n",
        "          raise ValueError(\"Response must be binary (0 or 1).\")\n",
        "\n",
        "\n",
        "  n_samples, n_features = x.shape\n",
        "\n",
        "  # Set default mtry\n",
        "  if mtry is None:\n",
        "      mtry = floor(sqrt(n_features)) # Using sqrt as in randomForestSRC default for classification\n",
        "\n",
        "\n",
        "  # Estimate minority class proportion (q*)\n",
        "  q_star = np.mean(y == 1)\n",
        "\n",
        "  # Initialize forest\n",
        "  forest = []\n",
        "  oob_counts = np.zeros(n_samples)\n",
        "  oob_probs = np.zeros(n_samples)\n",
        "\n",
        "  # Build trees\n",
        "  for b in range(ntree):\n",
        "    # Bootstrap sample\n",
        "    idx = np.random.choice(n_samples, n_samples, replace=True)\n",
        "    oob_idx_mask = np.ones(n_samples, dtype=bool)\n",
        "    oob_idx_mask[idx] = False\n",
        "    oob_idx = np.where(oob_idx_mask)[0]\n",
        "\n",
        "\n",
        "    # Build tree\n",
        "    # Pass pandas objects to build_tree to maintain column names for find_best_split if needed,\n",
        "    # although the current build_tree uses numpy indexing after conversion inside it.\n",
        "    # Let's stick to numpy arrays for consistency with the helper functions' internal logic.\n",
        "    tree = build_tree(x[idx, :], y[idx], np.ones(len(idx)), # Pass weights as ones for bootstrap samples\n",
        "                       mtry, nodesize, maxdepth)\n",
        "    forest.append(tree)\n",
        "\n",
        "    # Update OOB predictions\n",
        "    if len(oob_idx) > 0:\n",
        "      for i in oob_idx:\n",
        "        prob = predict_tree(tree, x[i, :])\n",
        "        oob_probs[i] += prob\n",
        "        oob_counts[i] += 1\n",
        "\n",
        "  # Finalize OOB predictions\n",
        "  oob_pred = np.full(n_samples, np.nan)\n",
        "  valid_oob_indices = oob_counts > 0\n",
        "  if np.sum(valid_oob_indices) > 0:\n",
        "      oob_pred[valid_oob_indices] = (oob_probs[valid_oob_indices] / oob_counts[valid_oob_indices]) >= q_star\n",
        "\n",
        "\n",
        "  # Predict on training data\n",
        "  train_probs = np.zeros(n_samples)\n",
        "  for i in range(n_samples):\n",
        "    for b in range(ntree):\n",
        "      train_probs[i] += predict_tree(forest[b], x[i, :])\n",
        "  train_probs /= ntree\n",
        "  train_pred = (train_probs >= q_star).astype(int)\n",
        "\n",
        "  # G-mean for training\n",
        "  # Calculate TPR and TNR carefully, handling potential division by zero if a class has no samples\n",
        "  tpr_train = 0\n",
        "  if np.sum(y == 1) > 0:\n",
        "      tpr_train = np.mean(train_pred[y == 1] == 1)\n",
        "\n",
        "  tnr_train = 0\n",
        "  if np.sum(y == 0) > 0:\n",
        "      tnr_train = np.mean(train_pred[y == 0] == 0)\n",
        "\n",
        "  gmean_train = sqrt(tpr_train * tnr_train)\n",
        "\n",
        "\n",
        "  # Variable importance (G-mean based)\n",
        "  var_imp = np.zeros(n_features)\n",
        "  for j in range(n_features):\n",
        "    x_perm = np.copy(x)\n",
        "    np.random.shuffle(x_perm[:, j]) # Permute the j-th feature\n",
        "\n",
        "    perm_probs = np.zeros(n_samples)\n",
        "    for i in range(n_samples):\n",
        "      for b in range(ntree):\n",
        "        perm_probs[i] += predict_tree(forest[b], x_perm[i, :])\n",
        "    perm_probs /= ntree\n",
        "    perm_pred = (perm_probs >= q_star).astype(int)\n",
        "\n",
        "    # G-mean for permuted data\n",
        "    tpr_perm = 0\n",
        "    if np.sum(y == 1) > 0:\n",
        "        tpr_perm = np.mean(perm_pred[y == 1] == 1)\n",
        "\n",
        "    tnr_perm = 0\n",
        "    if np.sum(y == 0) > 0:\n",
        "        tnr_perm = np.mean(perm_pred[y == 0] == 0)\n",
        "\n",
        "    gmean_perm = sqrt(tpr_perm * tnr_perm)\n",
        "\n",
        "    var_imp[j] = gmean_train - gmean_perm\n",
        "\n",
        "  var_imp_dict = dict(zip(predictor_names, var_imp))\n",
        "\n",
        "\n",
        "  # Predict on test data if provided\n",
        "  test_pred = None\n",
        "  test_probs = None\n",
        "  test_gmean = None\n",
        "  if test is not None:\n",
        "    test_y = test[response_var].values\n",
        "    if predictor_vars_str == '.':\n",
        "        test_x = test.drop(columns=[response_var]).values\n",
        "    else:\n",
        "        test_x = test[predictor_vars].values\n",
        "\n",
        "    # Ensure test_y is binary (0/1)\n",
        "    if not np.all(np.isin(test_y, [0, 1])):\n",
        "         unique_test_y = np.unique(test_y)\n",
        "         if len(unique_test_y) == 2:\n",
        "             # Map the minority class to 1 and majority to 0\n",
        "             # Use the same mapping as training data for consistency\n",
        "             minority_class_train = np.unique(data[response_var].values)[np.argmin(np.bincount(data[response_var].values.astype(int)))]\n",
        "             test_y = (test_y == minority_class_train).astype(int)\n",
        "         else:\n",
        "             raise ValueError(\"Test response must be binary (0 or 1).\")\n",
        "\n",
        "\n",
        "    test_probs = np.zeros(test_x.shape[0])\n",
        "    for i in range(test_x.shape[0]):\n",
        "      for b in range(ntree):\n",
        "        test_probs[i] += predict_tree(forest[b], test_x[i, :])\n",
        "    test_probs /= ntree\n",
        "    test_pred = (test_probs >= q_star).astype(int)\n",
        "\n",
        "    # G-mean for test\n",
        "    tpr_test = 0\n",
        "    if np.sum(test_y == 1) > 0:\n",
        "        tpr_test = np.mean(test_pred[test_y == 1] == 1)\n",
        "\n",
        "    tnr_test = 0\n",
        "    if np.sum(test_y == 0) > 0:\n",
        "        tnr_test = np.mean(test_pred[test_y == 0] == 0)\n",
        "\n",
        "    test_gmean = sqrt(tpr_test * tnr_test)\n",
        "\n",
        "\n",
        "  # Return results\n",
        "  return {\n",
        "    'forest': forest,\n",
        "    'train_pred': train_pred,\n",
        "    'train_prob': train_probs,\n",
        "    'test_pred': test_pred,\n",
        "    'test_prob': test_probs,\n",
        "    'oob_pred': oob_pred,\n",
        "    'gmean': gmean_train,\n",
        "    'test_gmean': test_gmean,\n",
        "    'var_imp': var_imp_dict,\n",
        "    'q_star': q_star\n",
        "  }"
      ],
      "metadata": {
        "id": "N5jy_uO6kflF"
      },
      "execution_count": 15,
      "outputs": []
    },
    {
      "cell_type": "markdown",
      "source": [
        "###  Apply to the Breast Dataset"
      ],
      "metadata": {
        "id": "DjAJRnxln8eS"
      }
    },
    {
      "cell_type": "code",
      "source": [
        "# Fit RFQ model\n",
        "# Using the train_data and test_data DataFrames created in previous steps\n",
        "# Using reduced ntree for demonstration as in the R code\n",
        "rfq_model_results = rfq_imbalanced(\n",
        "  formula = 'status ~ V1 + V2 + V3 + V4 + V5 + V6 + V7 + V8 + V9 + V10', # Explicitly list features\n",
        "  data = train_data,\n",
        "  ntree = 20,  # Reduced for demonstration\n",
        "  mtry = floor(sqrt(train_data.shape[1] - 1)), # Calculate mtry based on number of predictors\n",
        "  nodesize = 5,\n",
        "  maxdepth = 10,\n",
        "  test = test_data\n",
        ")\n",
        "\n",
        "# Print results\n",
        "print(f\"Training G-mean: {rfq_model_results['gmean']:.4f}\")\n",
        "print(f\"Test G-mean: {rfq_model_results['test_gmean']:.4f}\")\n",
        "print(\"Variable Importance:\")\n",
        "# Sort variable importance for better readability, similar to R's print output\n",
        "sorted_var_imp = dict(sorted(rfq_model_results['var_imp'].items(), key=lambda item: item[0]))\n",
        "for var, imp in sorted_var_imp.items():\n",
        "    print(f\"  {var}: {imp:.4f}\")\n",
        "print(f\"q* (minority class proportion): {rfq_model_results['q_star']:.4f}\")"
      ],
      "metadata": {
        "colab": {
          "base_uri": "https://localhost:8080/"
        },
        "id": "RjL-NS6jkoNu",
        "outputId": "c6c184b1-e299-41cb-9990-ad60597b68b6"
      },
      "execution_count": 16,
      "outputs": [
        {
          "output_type": "stream",
          "name": "stdout",
          "text": [
            "Training G-mean: 0.9333\n",
            "Test G-mean: 0.6507\n",
            "Variable Importance:\n",
            "  V1: 0.0755\n",
            "  V10: 0.0000\n",
            "  V2: 0.0927\n",
            "  V3: 0.0867\n",
            "  V4: 0.0087\n",
            "  V5: 0.0174\n",
            "  V6: 0.0131\n",
            "  V7: 0.0043\n",
            "  V8: 0.0000\n",
            "  V9: 0.0280\n",
            "q* (minority class proportion): 0.2000\n"
          ]
        }
      ]
    },
    {
      "cell_type": "code",
      "metadata": {
        "colab": {
          "base_uri": "https://localhost:8080/",
          "height": 707
        },
        "id": "0f61108d",
        "outputId": "fb8ce11b-d8a0-4d22-97d7-2a0fcc6cf31b"
      },
      "source": [
        "import matplotlib.pyplot as plt\n",
        "import pandas as pd\n",
        "\n",
        "# Get variable importance from the results dictionary\n",
        "var_imp = rfq_model_results['var_imp']\n",
        "\n",
        "# Convert to a pandas Series for easy plotting and sorting\n",
        "var_imp_series = pd.Series(var_imp)\n",
        "\n",
        "# Sort the variable importance for better visualization\n",
        "sorted_var_imp = var_imp_series.sort_values(ascending=True)\n",
        "\n",
        "# Create a bar plot\n",
        "plt.figure(figsize=(6, 7))\n",
        "sorted_var_imp.plot(kind='barh')\n",
        "plt.title('Variable Importance (G-mean based)')\n",
        "plt.xlabel('Features')\n",
        "plt.ylabel('Importance Score (G-mean decrease)')\n",
        "plt.xticks(rotation=45, ha='right')\n",
        "plt.tight_layout()\n",
        "plt.show()"
      ],
      "execution_count": 20,
      "outputs": [
        {
          "output_type": "display_data",
          "data": {
            "text/plain": [
              "<Figure size 600x700 with 1 Axes>"
            ],
            "image/png": "[encoded data removed]"
          },
          "metadata": {}
        }
      ]
    },
    {
      "cell_type": "markdown",
      "source": [
        "## Random Forests Quantile Classifier (RFQ) in Python\n",
        "\n",
        "In Python, there is no direct equivalent to R pacakge`randomForestSRC’`s `imbalanced()` function, which implements RFQ for imbalanced data with specific handling of `G-mean` and `AUC` splitting. However, we can approximate this using the quantile_forest library for quantile-based random forests and imblearn for handling imbalanced data, adapting the workflow to match the R code’s functionality. The breast cancer dataset is not directly available in Python, so we’ll use a similar dataset (e.g., sklearn.datasets.load_breast_cancer) and implement RFQ, standard RF, and Balanced Random Forest (BRF) equivalents, along with threshold optimization, performance evaluation, and variable importance (VIMP)."
      ],
      "metadata": {
        "id": "uB1JM9lGlRc1"
      }
    },
    {
      "cell_type": "code",
      "source": [
        "!pip install quantile_forest"
      ],
      "metadata": {
        "colab": {
          "base_uri": "https://localhost:8080/"
        },
        "id": "vQ0I-zFNlrAW",
        "outputId": "d67d555f-da0d-4401-f42e-fb3c729b51c4"
      },
      "execution_count": 22,
      "outputs": [
        {
          "output_type": "stream",
          "name": "stdout",
          "text": [
            "Collecting quantile_forest\n",
            "  Downloading quantile_forest-1.4.0-cp311-cp311-manylinux_2_17_x86_64.manylinux2014_x86_64.whl.metadata (5.2 kB)\n",
            "Requirement already satisfied: numpy>=1.23 in /usr/local/lib/python3.11/dist-packages (from quantile_forest) (2.0.2)\n",
            "Requirement already satisfied: scipy>=1.4 in /usr/local/lib/python3.11/dist-packages (from quantile_forest) (1.15.3)\n",
            "Requirement already satisfied: scikit-learn>=1.5 in /usr/local/lib/python3.11/dist-packages (from quantile_forest) (1.6.1)\n",
            "Requirement already satisfied: joblib>=1.2.0 in /usr/local/lib/python3.11/dist-packages (from scikit-learn>=1.5->quantile_forest) (1.5.1)\n",
            "Requirement already satisfied: threadpoolctl>=3.1.0 in /usr/local/lib/python3.11/dist-packages (from scikit-learn>=1.5->quantile_forest) (3.6.0)\n",
            "Downloading quantile_forest-1.4.0-cp311-cp311-manylinux_2_17_x86_64.manylinux2014_x86_64.whl (1.9 MB)\n",
            "\u001b[?25l   \u001b[90m━━━━━━━━━━━━━━━━━━━━━━━━━━━━━━━━━━━━━━━━\u001b[0m \u001b[32m0.0/1.9 MB\u001b[0m \u001b[31m?\u001b[0m eta \u001b[36m-:--:--\u001b[0m\r\u001b[2K   \u001b[91m━━━━━━━━━━━\u001b[0m\u001b[91m╸\u001b[0m\u001b[90m━━━━━━━━━━━━━━━━━━━━━━━━━━━━\u001b[0m \u001b[32m0.6/1.9 MB\u001b[0m \u001b[31m16.7 MB/s\u001b[0m eta \u001b[36m0:00:01\u001b[0m\r\u001b[2K   \u001b[90m━━━━━━━━━━━━━━━━━━━━━━━━━━━━━━━━━━━━━━━━\u001b[0m \u001b[32m1.9/1.9 MB\u001b[0m \u001b[31m28.8 MB/s\u001b[0m eta \u001b[36m0:00:00\u001b[0m\n",
            "\u001b[?25hInstalling collected packages: quantile_forest\n",
            "Successfully installed quantile_forest-1.4.0\n"
          ]
        }
      ]
    },
    {
      "cell_type": "code",
      "source": [
        "import numpy as np\n",
        "import pandas as pd\n",
        "from sklearn.datasets import load_breast_cancer\n",
        "from sklearn.model_selection import train_test_split\n",
        "from sklearn.ensemble import RandomForestClassifier\n",
        "from imblearn.ensemble import BalancedRandomForestClassifier\n",
        "from quantile_forest import RandomForestQuantileRegressor\n",
        "from sklearn.metrics import classification_report, roc_auc_score\n",
        "from sklearn.preprocessing import LabelEncoder\n",
        "import matplotlib.pyplot as plt\n",
        "import seaborn as sns\n",
        "from itertools import product"
      ],
      "metadata": {
        "id": "qIHSMa9Blm2m"
      },
      "execution_count": 23,
      "outputs": []
    },
    {
      "cell_type": "markdown",
      "source": [
        "### Data\n",
        "\n",
        "The breast dataset from randomForestSRC is replaced with sklearn.datasets.load_breast_cancer, which has 569 samples, 30 features, and a binary target (0 = malignant, 1 = benign). This dataset is less imbalanced (~2:1) than the R dataset (~3.2:1), but it’s a suitable substitute.\n",
        "Data is split 80/20, and class distributions are printed for verification."
      ],
      "metadata": {
        "id": "h0DwnlW8lbS7"
      }
    },
    {
      "cell_type": "code",
      "source": [
        "# Load breast cancer dataset (similar to randomForestSRC's breast dataset)\n",
        "data = load_breast_cancer()\n",
        "X = pd.DataFrame(data.data, columns=data.feature_names)\n",
        "y = data.target  # Binary: 0 (malignant), 1 (benign)\n",
        "\n",
        "# Remove any missing values (if any, though this dataset is clean)\n",
        "X = X.dropna()\n",
        "y = y[X.index]\n",
        "\n",
        "# Split into training (80%) and test (20%) sets\n",
        "X_train, X_test, y_train, y_test = train_test_split(X, y, test_size=0.2, random_state=123)\n",
        "\n",
        "# Verify class distribution\n",
        "print(\"Training set class distribution:\")\n",
        "print(pd.Series(y_train).value_counts())\n",
        "print(\"Test set class distribution:\")\n",
        "print(pd.Series(y_test).value_counts())"
      ],
      "metadata": {
        "colab": {
          "base_uri": "https://localhost:8080/"
        },
        "id": "xkCmETBIlkCm",
        "outputId": "78530a32-2132-4682-caa9-a1fe451811b3"
      },
      "execution_count": 24,
      "outputs": [
        {
          "output_type": "stream",
          "name": "stdout",
          "text": [
            "Training set class distribution:\n",
            "1    284\n",
            "0    171\n",
            "Name: count, dtype: int64\n",
            "Test set class distribution:\n",
            "1    73\n",
            "0    41\n",
            "Name: count, dtype: int64\n"
          ]
        }
      ]
    },
    {
      "cell_type": "code",
      "source": [
        "# Function to calculate G-mean\n",
        "def gmean_score(y_true, y_pred):\n",
        "    report = classification_report(y_true, y_pred, output_dict=True)\n",
        "    sensitivity = report['1']['recall']  # True Positive Rate (Recall for positive class)\n",
        "    specificity = report['0']['recall']  # True Negative Rate (Recall for negative class)\n",
        "    return np.sqrt(sensitivity * specificity)"
      ],
      "metadata": {
        "id": "2WTxtCZtmRSU"
      },
      "execution_count": 25,
      "outputs": []
    },
    {
      "cell_type": "markdown",
      "source": [
        "### Default RFQ"
      ],
      "metadata": {
        "id": "oAIJOUhmmZ12"
      }
    },
    {
      "cell_type": "code",
      "source": [
        "# RandomForestQuantileRegressor for quantile-based classification\n",
        "rfq = RandomForestQuantileRegressor(n_estimators=3000, max_depth=None, min_samples_leaf=1, random_state=123)\n",
        "rfq.fit(X_train, y_train)"
      ],
      "metadata": {
        "colab": {
          "base_uri": "https://localhost:8080/",
          "height": 80
        },
        "id": "vmwdZr_ZmZ9b",
        "outputId": "269729a3-f0e8-4739-848b-77ff3fbf52a5"
      },
      "execution_count": 26,
      "outputs": [
        {
          "output_type": "execute_result",
          "data": {
            "text/plain": [
              "RandomForestQuantileRegressor(n_estimators=3000, random_state=123)"
            ],
            "text/html": [
              "<style>#sk-container-id-1 {\n",
              "  /* Definition of color scheme common for light and dark mode */\n",
              "  --sklearn-color-text: #000;\n",
              "  --sklearn-color-text-muted: #666;\n",
              "  --sklearn-color-line: gray;\n",
              "  /* Definition of color scheme for unfitted estimators */\n",
              "  --sklearn-color-unfitted-level-0: #fff5e6;\n",
              "  --sklearn-color-unfitted-level-1: #f6e4d2;\n",
              "  --sklearn-color-unfitted-level-2: #ffe0b3;\n",
              "  --sklearn-color-unfitted-level-3: chocolate;\n",
              "  /* Definition of color scheme for fitted estimators */\n",
              "  --sklearn-color-fitted-level-0: #f0f8ff;\n",
              "  --sklearn-color-fitted-level-1: #d4ebff;\n",
              "  --sklearn-color-fitted-level-2: #b3dbfd;\n",
              "  --sklearn-color-fitted-level-3: cornflowerblue;\n",
              "\n",
              "  /* Specific color for light theme */\n",
              "  --sklearn-color-text-on-default-background: var(--sg-text-color, var(--theme-code-foreground, var(--jp-content-font-color1, black)));\n",
              "  --sklearn-color-background: var(--sg-background-color, var(--theme-background, var(--jp-layout-color0, white)));\n",
              "  --sklearn-color-border-box: var(--sg-text-color, var(--theme-code-foreground, var(--jp-content-font-color1, black)));\n",
              "  --sklearn-color-icon: #696969;\n",
              "\n",
              "  @media (prefers-color-scheme: dark) {\n",
              "    /* Redefinition of color scheme for dark theme */\n",
              "    --sklearn-color-text-on-default-background: var(--sg-text-color, var(--theme-code-foreground, var(--jp-content-font-color1, white)));\n",
              "    --sklearn-color-background: var(--sg-background-color, var(--theme-background, var(--jp-layout-color0, #111)));\n",
              "    --sklearn-color-border-box: var(--sg-text-color, var(--theme-code-foreground, var(--jp-content-font-color1, white)));\n",
              "    --sklearn-color-icon: #878787;\n",
              "  }\n",
              "}\n",
              "\n",
              "#sk-container-id-1 {\n",
              "  color: var(--sklearn-color-text);\n",
              "}\n",
              "\n",
              "#sk-container-id-1 pre {\n",
              "  padding: 0;\n",
              "}\n",
              "\n",
              "#sk-container-id-1 input.sk-hidden--visually {\n",
              "  border: 0;\n",
              "  clip: rect(1px 1px 1px 1px);\n",
              "  clip: rect(1px, 1px, 1px, 1px);\n",
              "  height: 1px;\n",
              "  margin: -1px;\n",
              "  overflow: hidden;\n",
              "  padding: 0;\n",
              "  position: absolute;\n",
              "  width: 1px;\n",
              "}\n",
              "\n",
              "#sk-container-id-1 div.sk-dashed-wrapped {\n",
              "  border: 1px dashed var(--sklearn-color-line);\n",
              "  margin: 0 0.4em 0.5em 0.4em;\n",
              "  box-sizing: border-box;\n",
              "  padding-bottom: 0.4em;\n",
              "  background-color: var(--sklearn-color-background);\n",
              "}\n",
              "\n",
              "#sk-container-id-1 div.sk-container {\n",
              "  /* jupyter's `normalize.less` sets `[hidden] { display: none; }`\n",
              "     but bootstrap.min.css set `[hidden] { display: none !important; }`\n",
              "     so we also need the `!important` here to be able to override the\n",
              "     default hidden behavior on the sphinx rendered scikit-learn.org.\n",
              "     See: https://github.com/scikit-learn/scikit-learn/issues/21755 */\n",
              "  display: inline-block !important;\n",
              "  position: relative;\n",
              "}\n",
              "\n",
              "#sk-container-id-1 div.sk-text-repr-fallback {\n",
              "  display: none;\n",
              "}\n",
              "\n",
              "div.sk-parallel-item,\n",
              "div.sk-serial,\n",
              "div.sk-item {\n",
              "  /* draw centered vertical line to link estimators */\n",
              "  background-image: linear-gradient(var(--sklearn-color-text-on-default-background), var(--sklearn-color-text-on-default-background));\n",
              "  background-size: 2px 100%;\n",
              "  background-repeat: no-repeat;\n",
              "  background-position: center center;\n",
              "}\n",
              "\n",
              "/* Parallel-specific style estimator block */\n",
              "\n",
              "#sk-container-id-1 div.sk-parallel-item::after {\n",
              "  content: \"\";\n",
              "  width: 100%;\n",
              "  border-bottom: 2px solid var(--sklearn-color-text-on-default-background);\n",
              "  flex-grow: 1;\n",
              "}\n",
              "\n",
              "#sk-container-id-1 div.sk-parallel {\n",
              "  display: flex;\n",
              "  align-items: stretch;\n",
              "  justify-content: center;\n",
              "  background-color: var(--sklearn-color-background);\n",
              "  position: relative;\n",
              "}\n",
              "\n",
              "#sk-container-id-1 div.sk-parallel-item {\n",
              "  display: flex;\n",
              "  flex-direction: column;\n",
              "}\n",
              "\n",
              "#sk-container-id-1 div.sk-parallel-item:first-child::after {\n",
              "  align-self: flex-end;\n",
              "  width: 50%;\n",
              "}\n",
              "\n",
              "#sk-container-id-1 div.sk-parallel-item:last-child::after {\n",
              "  align-self: flex-start;\n",
              "  width: 50%;\n",
              "}\n",
              "\n",
              "#sk-container-id-1 div.sk-parallel-item:only-child::after {\n",
              "  width: 0;\n",
              "}\n",
              "\n",
              "/* Serial-specific style estimator block */\n",
              "\n",
              "#sk-container-id-1 div.sk-serial {\n",
              "  display: flex;\n",
              "  flex-direction: column;\n",
              "  align-items: center;\n",
              "  background-color: var(--sklearn-color-background);\n",
              "  padding-right: 1em;\n",
              "  padding-left: 1em;\n",
              "}\n",
              "\n",
              "\n",
              "/* Toggleable style: style used for estimator/Pipeline/ColumnTransformer box that is\n",
              "clickable and can be expanded/collapsed.\n",
              "- Pipeline and ColumnTransformer use this feature and define the default style\n",
              "- Estimators will overwrite some part of the style using the `sk-estimator` class\n",
              "*/\n",
              "\n",
              "/* Pipeline and ColumnTransformer style (default) */\n",
              "\n",
              "#sk-container-id-1 div.sk-toggleable {\n",
              "  /* Default theme specific background. It is overwritten whether we have a\n",
              "  specific estimator or a Pipeline/ColumnTransformer */\n",
              "  background-color: var(--sklearn-color-background);\n",
              "}\n",
              "\n",
              "/* Toggleable label */\n",
              "#sk-container-id-1 label.sk-toggleable__label {\n",
              "  cursor: pointer;\n",
              "  display: flex;\n",
              "  width: 100%;\n",
              "  margin-bottom: 0;\n",
              "  padding: 0.5em;\n",
              "  box-sizing: border-box;\n",
              "  text-align: center;\n",
              "  align-items: start;\n",
              "  justify-content: space-between;\n",
              "  gap: 0.5em;\n",
              "}\n",
              "\n",
              "#sk-container-id-1 label.sk-toggleable__label .caption {\n",
              "  font-size: 0.6rem;\n",
              "  font-weight: lighter;\n",
              "  color: var(--sklearn-color-text-muted);\n",
              "}\n",
              "\n",
              "#sk-container-id-1 label.sk-toggleable__label-arrow:before {\n",
              "  /* Arrow on the left of the label */\n",
              "  content: \"▸\";\n",
              "  float: left;\n",
              "  margin-right: 0.25em;\n",
              "  color: var(--sklearn-color-icon);\n",
              "}\n",
              "\n",
              "#sk-container-id-1 label.sk-toggleable__label-arrow:hover:before {\n",
              "  color: var(--sklearn-color-text);\n",
              "}\n",
              "\n",
              "/* Toggleable content - dropdown */\n",
              "\n",
              "#sk-container-id-1 div.sk-toggleable__content {\n",
              "  max-height: 0;\n",
              "  max-width: 0;\n",
              "  overflow: hidden;\n",
              "  text-align: left;\n",
              "  /* unfitted */\n",
              "  background-color: var(--sklearn-color-unfitted-level-0);\n",
              "}\n",
              "\n",
              "#sk-container-id-1 div.sk-toggleable__content.fitted {\n",
              "  /* fitted */\n",
              "  background-color: var(--sklearn-color-fitted-level-0);\n",
              "}\n",
              "\n",
              "#sk-container-id-1 div.sk-toggleable__content pre {\n",
              "  margin: 0.2em;\n",
              "  border-radius: 0.25em;\n",
              "  color: var(--sklearn-color-text);\n",
              "  /* unfitted */\n",
              "  background-color: var(--sklearn-color-unfitted-level-0);\n",
              "}\n",
              "\n",
              "#sk-container-id-1 div.sk-toggleable__content.fitted pre {\n",
              "  /* unfitted */\n",
              "  background-color: var(--sklearn-color-fitted-level-0);\n",
              "}\n",
              "\n",
              "#sk-container-id-1 input.sk-toggleable__control:checked~div.sk-toggleable__content {\n",
              "  /* Expand drop-down */\n",
              "  max-height: 200px;\n",
              "  max-width: 100%;\n",
              "  overflow: auto;\n",
              "}\n",
              "\n",
              "#sk-container-id-1 input.sk-toggleable__control:checked~label.sk-toggleable__label-arrow:before {\n",
              "  content: \"▾\";\n",
              "}\n",
              "\n",
              "/* Pipeline/ColumnTransformer-specific style */\n",
              "\n",
              "#sk-container-id-1 div.sk-label input.sk-toggleable__control:checked~label.sk-toggleable__label {\n",
              "  color: var(--sklearn-color-text);\n",
              "  background-color: var(--sklearn-color-unfitted-level-2);\n",
              "}\n",
              "\n",
              "#sk-container-id-1 div.sk-label.fitted input.sk-toggleable__control:checked~label.sk-toggleable__label {\n",
              "  background-color: var(--sklearn-color-fitted-level-2);\n",
              "}\n",
              "\n",
              "/* Estimator-specific style */\n",
              "\n",
              "/* Colorize estimator box */\n",
              "#sk-container-id-1 div.sk-estimator input.sk-toggleable__control:checked~label.sk-toggleable__label {\n",
              "  /* unfitted */\n",
              "  background-color: var(--sklearn-color-unfitted-level-2);\n",
              "}\n",
              "\n",
              "#sk-container-id-1 div.sk-estimator.fitted input.sk-toggleable__control:checked~label.sk-toggleable__label {\n",
              "  /* fitted */\n",
              "  background-color: var(--sklearn-color-fitted-level-2);\n",
              "}\n",
              "\n",
              "#sk-container-id-1 div.sk-label label.sk-toggleable__label,\n",
              "#sk-container-id-1 div.sk-label label {\n",
              "  /* The background is the default theme color */\n",
              "  color: var(--sklearn-color-text-on-default-background);\n",
              "}\n",
              "\n",
              "/* On hover, darken the color of the background */\n",
              "#sk-container-id-1 div.sk-label:hover label.sk-toggleable__label {\n",
              "  color: var(--sklearn-color-text);\n",
              "  background-color: var(--sklearn-color-unfitted-level-2);\n",
              "}\n",
              "\n",
              "/* Label box, darken color on hover, fitted */\n",
              "#sk-container-id-1 div.sk-label.fitted:hover label.sk-toggleable__label.fitted {\n",
              "  color: var(--sklearn-color-text);\n",
              "  background-color: var(--sklearn-color-fitted-level-2);\n",
              "}\n",
              "\n",
              "/* Estimator label */\n",
              "\n",
              "#sk-container-id-1 div.sk-label label {\n",
              "  font-family: monospace;\n",
              "  font-weight: bold;\n",
              "  display: inline-block;\n",
              "  line-height: 1.2em;\n",
              "}\n",
              "\n",
              "#sk-container-id-1 div.sk-label-container {\n",
              "  text-align: center;\n",
              "}\n",
              "\n",
              "/* Estimator-specific */\n",
              "#sk-container-id-1 div.sk-estimator {\n",
              "  font-family: monospace;\n",
              "  border: 1px dotted var(--sklearn-color-border-box);\n",
              "  border-radius: 0.25em;\n",
              "  box-sizing: border-box;\n",
              "  margin-bottom: 0.5em;\n",
              "  /* unfitted */\n",
              "  background-color: var(--sklearn-color-unfitted-level-0);\n",
              "}\n",
              "\n",
              "#sk-container-id-1 div.sk-estimator.fitted {\n",
              "  /* fitted */\n",
              "  background-color: var(--sklearn-color-fitted-level-0);\n",
              "}\n",
              "\n",
              "/* on hover */\n",
              "#sk-container-id-1 div.sk-estimator:hover {\n",
              "  /* unfitted */\n",
              "  background-color: var(--sklearn-color-unfitted-level-2);\n",
              "}\n",
              "\n",
              "#sk-container-id-1 div.sk-estimator.fitted:hover {\n",
              "  /* fitted */\n",
              "  background-color: var(--sklearn-color-fitted-level-2);\n",
              "}\n",
              "\n",
              "/* Specification for estimator info (e.g. \"i\" and \"?\") */\n",
              "\n",
              "/* Common style for \"i\" and \"?\" */\n",
              "\n",
              ".sk-estimator-doc-link,\n",
              "a:link.sk-estimator-doc-link,\n",
              "a:visited.sk-estimator-doc-link {\n",
              "  float: right;\n",
              "  font-size: smaller;\n",
              "  line-height: 1em;\n",
              "  font-family: monospace;\n",
              "  background-color: var(--sklearn-color-background);\n",
              "  border-radius: 1em;\n",
              "  height: 1em;\n",
              "  width: 1em;\n",
              "  text-decoration: none !important;\n",
              "  margin-left: 0.5em;\n",
              "  text-align: center;\n",
              "  /* unfitted */\n",
              "  border: var(--sklearn-color-unfitted-level-1) 1pt solid;\n",
              "  color: var(--sklearn-color-unfitted-level-1);\n",
              "}\n",
              "\n",
              ".sk-estimator-doc-link.fitted,\n",
              "a:link.sk-estimator-doc-link.fitted,\n",
              "a:visited.sk-estimator-doc-link.fitted {\n",
              "  /* fitted */\n",
              "  border: var(--sklearn-color-fitted-level-1) 1pt solid;\n",
              "  color: var(--sklearn-color-fitted-level-1);\n",
              "}\n",
              "\n",
              "/* On hover */\n",
              "div.sk-estimator:hover .sk-estimator-doc-link:hover,\n",
              ".sk-estimator-doc-link:hover,\n",
              "div.sk-label-container:hover .sk-estimator-doc-link:hover,\n",
              ".sk-estimator-doc-link:hover {\n",
              "  /* unfitted */\n",
              "  background-color: var(--sklearn-color-unfitted-level-3);\n",
              "  color: var(--sklearn-color-background);\n",
              "  text-decoration: none;\n",
              "}\n",
              "\n",
              "div.sk-estimator.fitted:hover .sk-estimator-doc-link.fitted:hover,\n",
              ".sk-estimator-doc-link.fitted:hover,\n",
              "div.sk-label-container:hover .sk-estimator-doc-link.fitted:hover,\n",
              ".sk-estimator-doc-link.fitted:hover {\n",
              "  /* fitted */\n",
              "  background-color: var(--sklearn-color-fitted-level-3);\n",
              "  color: var(--sklearn-color-background);\n",
              "  text-decoration: none;\n",
              "}\n",
              "\n",
              "/* Span, style for the box shown on hovering the info icon */\n",
              ".sk-estimator-doc-link span {\n",
              "  display: none;\n",
              "  z-index: 9999;\n",
              "  position: relative;\n",
              "  font-weight: normal;\n",
              "  right: .2ex;\n",
              "  padding: .5ex;\n",
              "  margin: .5ex;\n",
              "  width: min-content;\n",
              "  min-width: 20ex;\n",
              "  max-width: 50ex;\n",
              "  color: var(--sklearn-color-text);\n",
              "  box-shadow: 2pt 2pt 4pt #999;\n",
              "  /* unfitted */\n",
              "  background: var(--sklearn-color-unfitted-level-0);\n",
              "  border: .5pt solid var(--sklearn-color-unfitted-level-3);\n",
              "}\n",
              "\n",
              ".sk-estimator-doc-link.fitted span {\n",
              "  /* fitted */\n",
              "  background: var(--sklearn-color-fitted-level-0);\n",
              "  border: var(--sklearn-color-fitted-level-3);\n",
              "}\n",
              "\n",
              ".sk-estimator-doc-link:hover span {\n",
              "  display: block;\n",
              "}\n",
              "\n",
              "/* \"?\"-specific style due to the `<a>` HTML tag */\n",
              "\n",
              "#sk-container-id-1 a.estimator_doc_link {\n",
              "  float: right;\n",
              "  font-size: 1rem;\n",
              "  line-height: 1em;\n",
              "  font-family: monospace;\n",
              "  background-color: var(--sklearn-color-background);\n",
              "  border-radius: 1rem;\n",
              "  height: 1rem;\n",
              "  width: 1rem;\n",
              "  text-decoration: none;\n",
              "  /* unfitted */\n",
              "  color: var(--sklearn-color-unfitted-level-1);\n",
              "  border: var(--sklearn-color-unfitted-level-1) 1pt solid;\n",
              "}\n",
              "\n",
              "#sk-container-id-1 a.estimator_doc_link.fitted {\n",
              "  /* fitted */\n",
              "  border: var(--sklearn-color-fitted-level-1) 1pt solid;\n",
              "  color: var(--sklearn-color-fitted-level-1);\n",
              "}\n",
              "\n",
              "/* On hover */\n",
              "#sk-container-id-1 a.estimator_doc_link:hover {\n",
              "  /* unfitted */\n",
              "  background-color: var(--sklearn-color-unfitted-level-3);\n",
              "  color: var(--sklearn-color-background);\n",
              "  text-decoration: none;\n",
              "}\n",
              "\n",
              "#sk-container-id-1 a.estimator_doc_link.fitted:hover {\n",
              "  /* fitted */\n",
              "  background-color: var(--sklearn-color-fitted-level-3);\n",
              "}\n",
              "</style><div id=\"sk-container-id-1\" class=\"sk-top-container\"><div class=\"sk-text-repr-fallback\"><pre>RandomForestQuantileRegressor(n_estimators=3000, random_state=123)</pre><b>In a Jupyter environment, please rerun this cell to show the HTML representation or trust the notebook. <br />On GitHub, the HTML representation is unable to render, please try loading this page with nbviewer.org.</b></div><div class=\"sk-container\" hidden><div class=\"sk-item\"><div class=\"sk-estimator fitted sk-toggleable\"><input class=\"sk-toggleable__control sk-hidden--visually\" id=\"sk-estimator-id-1\" type=\"checkbox\" checked><label for=\"sk-estimator-id-1\" class=\"sk-toggleable__label fitted sk-toggleable__label-arrow\"><div><div>RandomForestQuantileRegressor</div></div><div><span class=\"sk-estimator-doc-link fitted\">i<span>Fitted</span></span></div></label><div class=\"sk-toggleable__content fitted\"><pre>RandomForestQuantileRegressor(n_estimators=3000, random_state=123)</pre></div> </div></div></div></div>"
            ]
          },
          "metadata": {},
          "execution_count": 26
        }
      ]
    },
    {
      "cell_type": "code",
      "source": [
        "# Predict median (quantile=0.5) and convert to class labels\n",
        "y_pred_quantiles = rfq.predict(X_test, quantiles=[0.5])\n",
        "threshold_default = 0.5  # Default threshold\n",
        "y_pred_rfq = (y_pred_quantiles > threshold_default).astype(int)\n",
        "\n",
        "print(\"\\nDefault RFQ Classification Report:\")\n",
        "print(classification_report(y_test, y_pred_rfq))\n",
        "print(\"Default RFQ G-mean:\", gmean_score(y_test, y_pred_rfq))"
      ],
      "metadata": {
        "colab": {
          "base_uri": "https://localhost:8080/"
        },
        "id": "vICEAN-smsMR",
        "outputId": "908a4ce8-6cad-49c7-d9f1-a798da96a603"
      },
      "execution_count": 28,
      "outputs": [
        {
          "output_type": "stream",
          "name": "stdout",
          "text": [
            "\n",
            "Default RFQ Classification Report:\n",
            "              precision    recall  f1-score   support\n",
            "\n",
            "           0       0.98      0.98      0.98        41\n",
            "           1       0.99      0.99      0.99        73\n",
            "\n",
            "    accuracy                           0.98       114\n",
            "   macro avg       0.98      0.98      0.98       114\n",
            "weighted avg       0.98      0.98      0.98       114\n",
            "\n",
            "Default RFQ G-mean: 0.9809409966408504\n"
          ]
        }
      ]
    },
    {
      "cell_type": "markdown",
      "source": [
        "### Standard RF with G-mean and AUC-like Optimization"
      ],
      "metadata": {
        "id": "jiq1fNhhm3r2"
      }
    },
    {
      "cell_type": "code",
      "source": [
        "# Use ROC AUC as a proxy for AUC splitting\n",
        "rf_std_auc = RandomForestClassifier(n_estimators=3000, criterion='gini', random_state=123)\n",
        "rf_std_auc.fit(X_train, y_train)\n",
        "y_pred_std_auc = rf_std_auc.predict(X_test)"
      ],
      "metadata": {
        "id": "BecCtRWlm8ig"
      },
      "execution_count": 29,
      "outputs": []
    },
    {
      "cell_type": "code",
      "source": [
        "print(\"\\nStandard RF (G-mean, AUC-like) Classification Report:\")\n",
        "print(classification_report(y_test, y_pred_std_auc))\n",
        "print(\"Standard RF G-mean:\", gmean_score(y_test, y_pred_std_auc))"
      ],
      "metadata": {
        "colab": {
          "base_uri": "https://localhost:8080/"
        },
        "id": "Als9zhrmnDhY",
        "outputId": "b4738333-83cc-4d45-ece8-77c13b988ebb"
      },
      "execution_count": 30,
      "outputs": [
        {
          "output_type": "stream",
          "name": "stdout",
          "text": [
            "\n",
            "Standard RF (G-mean, AUC-like) Classification Report:\n",
            "              precision    recall  f1-score   support\n",
            "\n",
            "           0       1.00      0.98      0.99        41\n",
            "           1       0.99      1.00      0.99        73\n",
            "\n",
            "    accuracy                           0.99       114\n",
            "   macro avg       0.99      0.99      0.99       114\n",
            "weighted avg       0.99      0.99      0.99       114\n",
            "\n",
            "Standard RF G-mean: 0.9877295966495896\n"
          ]
        }
      ]
    },
    {
      "cell_type": "markdown",
      "source": [
        "### Balanced Random Forest (BRF) with Misclassification"
      ],
      "metadata": {
        "id": "DJmkwOhNnCVs"
      }
    },
    {
      "cell_type": "code",
      "source": [
        "# Balanced Random Forest (BRF) with Misclassification-\n",
        "brf = BalancedRandomForestClassifier(n_estimators=3000, sampling_strategy='auto', random_state=123)\n",
        "brf.fit(X_train, y_train)\n",
        "y_pred_brf = brf.predict(X_test)"
      ],
      "metadata": {
        "id": "KFFhUXernKGN"
      },
      "execution_count": 31,
      "outputs": []
    },
    {
      "cell_type": "code",
      "source": [
        "print(\"\\nBRF (Misclassification) Classification Report:\")\n",
        "print(classification_report(y_test, y_pred_brf))\n",
        "print(\"BRF G-mean:\", gmean_score(y_test, y_pred_brf))"
      ],
      "metadata": {
        "colab": {
          "base_uri": "https://localhost:8080/"
        },
        "id": "Lumb3RiCnTof",
        "outputId": "def6fa6d-53e3-437f-e35e-63950bbe6b12"
      },
      "execution_count": 32,
      "outputs": [
        {
          "output_type": "stream",
          "name": "stdout",
          "text": [
            "\n",
            "BRF (Misclassification) Classification Report:\n",
            "              precision    recall  f1-score   support\n",
            "\n",
            "           0       0.95      0.98      0.96        41\n",
            "           1       0.99      0.97      0.98        73\n",
            "\n",
            "    accuracy                           0.97       114\n",
            "   macro avg       0.97      0.97      0.97       114\n",
            "weighted avg       0.97      0.97      0.97       114\n",
            "\n",
            "BRF G-mean: 0.9741050875978059\n"
          ]
        }
      ]
    },
    {
      "cell_type": "markdown",
      "source": [
        "### Threshold Optimization for RFQ"
      ],
      "metadata": {
        "id": "qYHMeo5UnSG1"
      }
    },
    {
      "cell_type": "code",
      "source": [
        "# Optimize threshold to maximize G-mean on training data\n",
        "y_train_pred_quantiles = rfq.predict(X_train, quantiles=[0.5])\n",
        "thresholds = np.linspace(0, 1, 100)\n",
        "gmean_scores = []\n",
        "for thresh in thresholds:\n",
        "    y_train_pred = (y_train_pred_quantiles > thresh).astype(int)\n",
        "    gmean_scores.append(gmean_score(y_train, y_train_pred))\n",
        "optimal_threshold = thresholds[np.argmax(gmean_scores)]\n",
        "\n",
        "print(\"\\nDefault Threshold:\", threshold_default)\n",
        "print(\"Optimized Threshold:\", optimal_threshold)"
      ],
      "metadata": {
        "colab": {
          "base_uri": "https://localhost:8080/"
        },
        "id": "wYeiHri-nZ2t",
        "outputId": "0d12776b-190d-44a3-e29f-640c9b5fcc09"
      },
      "execution_count": 36,
      "outputs": [
        {
          "output_type": "stream",
          "name": "stdout",
          "text": [
            "\n",
            "Default Threshold: 0.5\n",
            "Optimized Threshold: 0.0\n"
          ]
        },
        {
          "output_type": "stream",
          "name": "stderr",
          "text": [
            "/usr/local/lib/python3.11/dist-packages/sklearn/metrics/_classification.py:1565: UndefinedMetricWarning: Precision is ill-defined and being set to 0.0 in labels with no predicted samples. Use `zero_division` parameter to control this behavior.\n",
            "  _warn_prf(average, modifier, f\"{metric.capitalize()} is\", len(result))\n",
            "/usr/local/lib/python3.11/dist-packages/sklearn/metrics/_classification.py:1565: UndefinedMetricWarning: Precision is ill-defined and being set to 0.0 in labels with no predicted samples. Use `zero_division` parameter to control this behavior.\n",
            "  _warn_prf(average, modifier, f\"{metric.capitalize()} is\", len(result))\n",
            "/usr/local/lib/python3.11/dist-packages/sklearn/metrics/_classification.py:1565: UndefinedMetricWarning: Precision is ill-defined and being set to 0.0 in labels with no predicted samples. Use `zero_division` parameter to control this behavior.\n",
            "  _warn_prf(average, modifier, f\"{metric.capitalize()} is\", len(result))\n"
          ]
        }
      ]
    },
    {
      "cell_type": "code",
      "source": [
        "# Evaluate RFQ with optimized threshold\n",
        "y_pred_rfq_opt = (y_pred_quantiles > optimal_threshold).astype(int)\n",
        "print(\"\\nRFQ with Optimized Threshold Classification Report:\")\n",
        "print(classification_report(y_test, y_pred_rfq_opt))\n",
        "print(\"RFQ Optimized G-mean:\", gmean_score(y_test, y_pred_rfq_opt))"
      ],
      "metadata": {
        "colab": {
          "base_uri": "https://localhost:8080/"
        },
        "id": "ThiUpFOunjqA",
        "outputId": "a16202a3-e8a8-4d5f-ab99-8f83bdb565a4"
      },
      "execution_count": 38,
      "outputs": [
        {
          "output_type": "stream",
          "name": "stdout",
          "text": [
            "\n",
            "RFQ with Optimized Threshold Classification Report:\n",
            "              precision    recall  f1-score   support\n",
            "\n",
            "           0       0.98      0.98      0.98        41\n",
            "           1       0.99      0.99      0.99        73\n",
            "\n",
            "    accuracy                           0.98       114\n",
            "   macro avg       0.98      0.98      0.98       114\n",
            "weighted avg       0.98      0.98      0.98       114\n",
            "\n",
            "RFQ Optimized G-mean: 0.9809409966408504\n"
          ]
        }
      ]
    },
    {
      "cell_type": "code",
      "source": [
        "# 25% and 75% quantiles for training performance\n",
        "y_train_pred_quantiles_multi = rfq.predict(X_train, quantiles=[0.25, 0.5, 0.75])\n",
        "print(\"\\nTraining Predicted Quantiles (25th, 50th, 75th):\")\n",
        "print(pd.DataFrame(y_train_pred_quantiles_multi, columns=['Quantile_0.25', 'Quantile_0.5', 'Quantile_0.75']).head())"
      ],
      "metadata": {
        "colab": {
          "base_uri": "https://localhost:8080/"
        },
        "id": "VYEtmQbCnjr5",
        "outputId": "64f52f43-8df5-4a8c-df4d-2ad8b7b57979"
      },
      "execution_count": 40,
      "outputs": [
        {
          "output_type": "stream",
          "name": "stdout",
          "text": [
            "\n",
            "Training Predicted Quantiles (25th, 50th, 75th):\n",
            "   Quantile_0.25  Quantile_0.5  Quantile_0.75\n",
            "0            0.0           0.0            0.0\n",
            "1            0.0           0.0            0.0\n",
            "2            1.0           1.0            1.0\n",
            "3            0.0           0.0            0.0\n",
            "4            1.0           1.0            1.0\n"
          ]
        }
      ]
    },
    {
      "cell_type": "markdown",
      "source": [
        "### Variable Importance"
      ],
      "metadata": {
        "id": "WipziV7gn_w0"
      }
    },
    {
      "cell_type": "code",
      "source": [
        "# Standard permutation importance for RFQ (no direct blocked VIMP equivalent in Python)\n",
        "from sklearn.inspection import permutation_importance\n",
        "\n",
        "# VIMP for RFQ\n",
        "rfq_importance = permutation_importance(rfq, X_train, y_train, n_repeats=10, random_state=123)\n",
        "rfq_vimp = pd.DataFrame({'Feature': X.columns, 'RFQ': rfq_importance.importances_mean})\n",
        "\n",
        "# VIMP for BRF\n",
        "brf_importance = permutation_importance(brf, X_train, y_train, n_repeats=10, random_state=123)\n",
        "rfq_vimp['BRF'] = brf_importance.importances_mean\n",
        "\n",
        "print(\"\\nVariable Importance (VIMP):\")\n",
        "print(rfq_vimp.head())"
      ],
      "metadata": {
        "colab": {
          "base_uri": "https://localhost:8080/"
        },
        "id": "Noz9G70goI-u",
        "outputId": "ccfaacd8-ebe4-41be-ad11-cf0cb5e0a55b"
      },
      "execution_count": 41,
      "outputs": [
        {
          "output_type": "stream",
          "name": "stdout",
          "text": [
            "\n",
            "Variable Importance (VIMP):\n",
            "           Feature       RFQ       BRF\n",
            "0      mean radius  0.000000  0.000000\n",
            "1     mean texture  0.004685  0.004835\n",
            "2   mean perimeter  0.000000  0.000000\n",
            "3        mean area  0.000000  0.000000\n",
            "4  mean smoothness  0.000000  0.000659\n"
          ]
        }
      ]
    },
    {
      "cell_type": "code",
      "source": [
        "# Calculate mean VIMP and select top 10 features\n",
        "rfq_vimp['Mean_VIMP'] = rfq_vimp[['RFQ', 'BRF']].mean(axis=1)\n",
        "top_10_vimp = rfq_vimp.nlargest(10, 'Mean_VIMP')\n",
        "\n",
        "# Plotting with seaborn\n",
        "imp_df = pd.melt(top_10_vimp, id_vars=['Feature'], value_vars=['RFQ', 'BRF'], var_name='Model', value_name='VIMP')\n",
        "plt.figure(figsize=(6, 7))\n",
        "sns.barplot(x='VIMP', y='Feature', hue='Model', data=imp_df)\n",
        "plt.title('Top 10 Feature Importance (VIMP)')\n",
        "plt.xlabel('VIMP (Mean Decrease in Accuracy)')\n",
        "plt.ylabel('Feature')\n",
        "plt.legend()\n",
        "plt.tight_layout()\n",
        "plt.show()"
      ],
      "metadata": {
        "colab": {
          "base_uri": "https://localhost:8080/",
          "height": 707
        },
        "id": "dN3ZPhRioQV-",
        "outputId": "669cc755-cbcd-48d5-bcbb-c9d53e4d8306"
      },
      "execution_count": 43,
      "outputs": [
        {
          "output_type": "display_data",
          "data": {
            "text/plain": [
              "<Figure size 600x700 with 1 Axes>"
            ],
            "image/png": "[encoded data removed]"
          },
          "metadata": {}
        }
      ]
    },
    {
      "cell_type": "markdown",
      "metadata": {
        "id": "a9f1d97c"
      },
      "source": [
        "## Summary and Conclusion\n",
        "\n",
        "This notebook explores the concept and implementation of the Random Forests Quantile Classifier (RFQ), a method designed to address class imbalance in classification tasks.\n",
        "\n",
        "The notebook first introduces the theoretical background of RFQ, explaining its key features, how it works (including bootstrap sampling, weight assignment, conditional probability estimation, and quantile-based classification), its advantages, limitations, and applications. A simplified implementation of the RFQ algorithm from scratch in Python is also presented, including helper functions for calculating Gini impurity, finding the best split, building a decision tree, and making predictions with a single tree. This custom implementation was applied to a simulated dataset resembling the `breast` dataset, and its training and test G-mean, as well as variable importance, were calculated and plotted.\n",
        "\n",
        "Subsequently, the notebook demonstrates how to use existing Python libraries (`quantile_forest` and `imblearn`) to approximate the RFQ approach using the `sklearn.datasets.load_breast_cancer` dataset. It compares the performance of:\n",
        "\n",
        "- **Default RFQ**: Using `RandomForestQuantileRegressor` and a default threshold of 0.5.\n",
        "- **Standard RF**: Using `RandomForestClassifier` (with AUC-like optimization as a proxy).\n",
        "- **Balanced Random Forest (BRF)**: Using `BalancedRandomForestClassifier` with misclassification criteria.\n",
        "- **RFQ with Optimized Threshold**: Attempting to optimize the threshold for the `RandomForestQuantileRegressor` based on G-mean on the training data.\n",
        "\n",
        "The results show that the optimized threshold for the `RandomForestQuantileRegressor` was 0.0, indicating a potential issue with using the quantile predictions directly for this type of thresholding in a binary classification context. In contrast, the Standard RF and BRF models achieved high G-mean scores on this particular dataset, which is less severely imbalanced than the one used in the R vignette.\n",
        "\n",
        "Variable importance was also calculated using permutation importance for both RFQ (via `quantile_forest`) and BRF models and the top features were visualized.\n",
        "\n",
        "In conclusion, while a direct equivalent of the `randomForestSRC::imbalanced()` function with its specific G-mean/AUC splitting is not readily available in standard Python libraries, the notebook demonstrates how to build a simplified RFQ from scratch and how to leverage existing libraries like `quantile_forest` and `imblearn` to perform related tasks for imbalanced classification. The experiments highlight the importance of choosing the right tools and understanding their outputs (like the nature of quantile predictions vs. class probabilities) when addressing class imbalance and optimizing metrics like G-mean. For practical applications in Python, `imblearn`'s classifiers are generally more directly suited for handling imbalanced datasets and optimizing metrics like G-mean or AUC by providing accessible probability estimates for thresholding."
      ]
    },
    {
      "cell_type": "markdown",
      "source": [
        "## References\n",
        "\n",
        "1. Ishwaran, H., O’Brien, R., Lu, M., & Kogalur, U. B. (2021). randomForestSRC: Random Forests Quantile Classifier (RFQ) Vignette. http://randomforestsrc.org/articles/imbalance.html[ ](https://www.randomforestsrc.org/articles/imbalance.html)\n",
        "\n",
        "2.  O’Brien, R., & Ishwaran, H. (2019). A random forests quantile classifier for class imbalanced data. Pattern Recognition, 90, 232–249[ ](https://www.randomforestsrc.org/articles/imbalance.html)\n",
        "\n",
        "3.  Breiman, L. (2001). Random forests. Machine Learning, 45, 5–32[ ](https://www.randomforestsrc.org/articles/imbalance.html)\n"
      ],
      "metadata": {
        "id": "SaZTnZx3QPGI"
      }
    }
  ]
}