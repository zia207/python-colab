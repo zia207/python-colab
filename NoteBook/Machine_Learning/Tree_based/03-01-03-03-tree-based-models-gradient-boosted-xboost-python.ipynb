{
  "cells": [
    {
      "cell_type": "markdown",
      "metadata": {
        "colab_type": "text",
        "id": "view-in-github"
      },
      "source": [
        "<a href=\"https://colab.research.google.com/github/zia207/python-colab/blob/main/NoteBook/Machine_Learning/Tree_based/03-01-03-03-tree-based-models-gradient-boosted-xboost-python.ipynb\" target=\"_parent\"><img src=\"https://colab.research.google.com/assets/colab-badge.svg\" alt=\"Open In Colab\"/></a>"
      ]
    },
    {
      "cell_type": "markdown",
      "metadata": {
        "id": "4qrItz_mJNWw"
      },
      "source": [
        "![alt text](http://drive.google.com/uc?export=view&id=1IFEWet-Aw4DhkkVe1xv_2YYqlvRe9m5_)"
      ]
    },
    {
      "cell_type": "markdown",
      "metadata": {
        "id": "Dzp9ZseROTcY"
      },
      "source": [
        "# 3.3 Extreme Gradient Boosting (XGBoost)\n",
        "\n",
        "XGBoost (Extreme Gradient Boosting) is a scalable and efficient machine learning algorithm for supervised learning tasks, particularly effective for regression, classification, and ranking problems. It is an optimized implementation of gradient boosting, a method that builds an ensemble of weak prediction models (typically decision trees) in a sequential manner to produce a strong predictive model. XGBoost is widely used due to its high performance, flexibility, and ability to handle large datasets with missing values, regularization, and parallel processing. This notebook will provide an overview of XGBoost, explain how it works, and demonstrate how to implement it in Python for regression and classification tasks.\n",
        "\n"
      ]
    },
    {
      "cell_type": "markdown",
      "metadata": {
        "id": "mLkAu88QToVr"
      },
      "source": [
        "## Overview\n",
        "\n",
        "XGBoost constructs a model by combining multiple decision trees, where each tree corrects the errors of the previous ones. It uses gradient boosting, which minimizes a loss function by iteratively adding trees, with each tree trained to predict the residuals (errors) of the prior ensemble. XGBoost enhances this process with additional features like regularization, second-order gradient optimization, and efficient handling of sparse data.\n"
      ]
    },
    {
      "cell_type": "markdown",
      "metadata": {
        "id": "WL2L7JRduO3P"
      },
      "source": [
        "### Key Features of XGBoost\n",
        "\n",
        "- **Gradient Boosting Framework**: Combines weak learners (typically decision trees) into a strong predictive model.\n",
        "- **Optimization**: Uses advanced techniques like second-order gradient optimization (Newton boosting) for faster convergence.\n",
        "- **Regularization**: Includes L1 (Lasso) and L2 (Ridge) regularization to prevent overfitting.\n",
        "- **Parallelization**: Supports parallel and distributed computing for faster training.\n",
        "- **Handling Missing Data**: Automatically handles missing values by learning the best imputation strategy.\n",
        "- **Feature Importance**: Provides insights into feature importance for model interpretability.\n",
        "- **Flexibility**: Supports custom loss functions and evaluation metrics."
      ]
    },
    {
      "cell_type": "markdown",
      "metadata": {
        "id": "ENBS5aQpTVar"
      },
      "source": [
        "### How XGBoost Works\n",
        "\n",
        "XGBoost is based on the gradient boosting framework, which iteratively combines weak learners (typically decision trees) to form a strong predictive model. It optimizes a loss function while adding regularization to prevent overfitting. Below is a detailed explanation of how XGBoost works, including the key equations.\n",
        "\n",
        "1.  Objective Function\n",
        "\n",
        "The `objective function` is a mathematical expression that a model aims to minimize during training. It quantifies the model’s performance by combining a loss function, which measures prediction error, with a regularization term, which controls model complexity to prevent overfitting. In XGBoost, the objective function guides the construction of decision trees in the gradient boosting process.\n",
        "\n",
        "The core of XGBoost is to minimize an objective function that combines a loss function and a regularization term. For a dataset with $n$samples and $m$ features, the objective function at iteration $t$ is:\n",
        "\n",
        "$$ \\text{Obj}^{(t)} = \\sum_{i=1}^n l(y_i, \\hat{y}_i^{(t)}) + \\sum_{k=1}^t \\Omega(f_k) $$\n",
        "\n",
        "-   $l(y_i, \\hat{y}_i^{(t)})$: Loss function measuring the difference between the true label $y_i$ and the predicted value $\\hat{y}_i^{(t)}$.\n",
        "\n",
        "Common loss functions include:\n",
        "\n",
        "-   Mean Squared Error (MSE) for regression:\n",
        "\n",
        "$$ l(y_i, \\hat{y}_i) = (y_i - \\hat{y}_i)^2 $$\n",
        "\n",
        "-   Log-loss for binary classification:\n",
        "\n",
        "$$ l(y_i, \\hat{y}_i) = -[y_i \\log(\\hat{y}_i) + (1-y_i) \\log(1-\\hat{y}_i)] $$\n",
        "\n",
        "-   $\\Omega(f_k)$: Regularization term for the $k$-th tree to penalize model complexity and prevent overfitting:\n",
        "\n",
        "$$ \\Omega(f_k) = \\gamma T + \\frac{1}{2} \\lambda \\sum_{j=1}^T w_j^2 $$\n",
        "\n",
        "-   $T$: Number of leaves in the tree.\n",
        "\n",
        "-   $w_j$: Weight (score) of the $j$-th leaf.\n",
        "\n",
        "-   $\\gamma$: Penalty for the number of leaves (controls tree size).\n",
        "\n",
        "-   $\\lambda$: L2 regularization parameter on leaf weights.\n",
        "\n",
        "2.  Additive Training\n",
        "\n",
        "XGBoost builds the model additively. At iteration $t$, the prediction for sample $i$ is:\n",
        "\n",
        "$$ \\hat{y}_i^{(t)} = \\hat{y}_i^{(t-1)} + \\eta f_t(x_i) $$\n",
        "\n",
        "-   $f_t(x_i)$: Output of the $t$-th tree for input $x_i$.\n",
        "\n",
        "-   $\\eta$: Learning rate (shrinkage factor) to scale the contribution of each tree.\n",
        "\n",
        "The goal is to find the tree $f_t$ that minimizes the objective function.\n",
        "\n",
        "3.  Second-Order Approximation\n",
        "\n",
        "To optimize the objective function, XGBoost uses a second-order Taylor approximation of the loss function. For a given sample ( i ), the loss function is approximated as:\n",
        "\n",
        "$$ l(y_i, \\hat{y}_i^{(t)}) \\approx l(y_i, \\hat{y}_i^{(t-1)}) + g_i f_t(x_i) + \\frac{1}{2} h_i f_t(x_i)^2 $$\n",
        "\n",
        "-   $g_i = \\partial_{\\hat{y}_i^{(t-1)}} l(y_i, \\hat{y}_i^{(t-1)})$: First-order gradient (gradient of the loss w.r.t. the prediction).\n",
        "\n",
        "-   $h_i = \\partial_{\\hat{y}_i^{(t-1)}}^2 l(y_i, \\hat{y}_i^{(t-1)})$: Second-order gradient (Hessian of the loss).\n",
        "\n",
        "The objective function becomes:\n",
        "\n",
        "$$ \\text{Obj}^{(t)} \\approx \\sum_{i=1}^n \\left[ g_i f_t(x_i) + \\frac{1}{2} h_i f_t(x_i)^2 \\right] + \\Omega(f_t) $$\n",
        "\n",
        "4.  Tree Structure Optimization\n",
        "\n",
        "Each tree partitions the data into leaves, and each leaf has a weight $w_j$. For a given tree structure, the optimal leaf weight for leaf $j$ is:\n",
        "\n",
        "$$ w_j^* = -\\frac{\\sum_{i \\in I_j} g_i}{\\sum_{i \\in I_j} h_i + \\lambda} $$\n",
        "\n",
        "-   $I_j$: Set of samples in leaf $j$.\n",
        "\n",
        "-   The corresponding objective value for the leaf is:\n",
        "\n",
        "$$ \\text{Obj}_j = -\\frac{1}{2} \\frac{(\\sum_{i \\in I_j} g_i)^2}{\\sum_{i \\in I_j} h_i + \\lambda} + \\gamma $$\n",
        "\n",
        "The algorithm greedily searches for the best split by maximizing the gain:\n",
        "\n",
        "$$ \\text{Gain} = \\frac{1}{2} \\left[ \\frac{(\\sum_{i \\in I_L} g_i)^2}{\\sum_{i \\in I_L} h_i + \\lambda} + \\frac{(\\sum_{i \\in I_R} g_i)^2}{\\sum_{i \\in I_R} h_i + \\lambda} - \\frac{(\\sum_{i \\in I} g_i)^2}{\\sum_{i \\in I} h_i + \\lambda} \\right] - \\gamma $$\n",
        "\n",
        "-   $I_L$, $I_R$: Left and right child nodes after a split.\n",
        "\n",
        "-   $I$: Parent node before the split."
      ]
    },
    {
      "cell_type": "markdown",
      "metadata": {
        "id": "uWCTcHkzvHE2"
      },
      "source": [
        "Here below is a flowchart illustrating the XGBoost workflow:\n",
        "\n",
        "\n",
        "![alt text](http://drive.google.com/uc?export=view&id=1Dc3bkYebbiQG5D-q-LOG0BbDeATZliXn\n",
        ")\n",
        "\n",
        "\n",
        "\n",
        "\n",
        "\n",
        "\n"
      ]
    },
    {
      "cell_type": "markdown",
      "metadata": {
        "id": "NuhrbXQxGIIy"
      },
      "source": [
        "### Advantages of XGBoost\n",
        "\n",
        "1. `High Performance`: Consistently outperforms other algorithms in machine learning competitions (e.g., Kaggle) due to its accuracy and efficiency.\n",
        "2. `Scalability`: Handles large datasets efficiently through parallel processing and optimized memory usage.\n",
        "3. `Robustness to Overfitting`: Built-in regularization (L1 and L2) and tree pruning reduce overfitting compared to traditional gradient boosting.\n",
        "4. `Handles Diverse Data`: Works well with structured/tabular data, missing values, and categorical features (with preprocessing).\n",
        "5. `Flexibility`: Supports a wide range of tasks (classification, regression, ranking) and custom optimization objectives.\n",
        "6. `Feature Importance`: Provides clear insights into which features drive predictions, aiding interpretability.\n",
        "7. `Community and Ecosystem`: Widely used, with strong community support, extensive documentation, and integration with tools like scikit-learn and Spark."
      ]
    },
    {
      "cell_type": "markdown",
      "metadata": {
        "id": "70UMhkxtGPsU"
      },
      "source": [
        "### Limitations of XGBoost\n",
        "\n",
        "1. `Complexity`: Requires careful hyperparameter tuning (e.g., learning rate, max depth, number of trees) to achieve optimal performance, which can be time-consuming.\n",
        "2. `Computational Cost`: Despite optimizations, training can be resource-intensive for very large datasets or deep trees compared to simpler models like linear regression.\n",
        "3. `Not Ideal for Unstructured Data`: Less effective for unstructured data (e.g., images, text) compared to deep learning models like neural networks.\n",
        "4. `Interpretability`: While feature importance is provided, the ensemble nature of many trees can make it harder to interpret compared to single decision trees or linear models.\n",
        "5. `Sensitivity to Noisy Data`: Can overfit on noisy datasets if not properly tuned or regularized.\n",
        "6. `Cold Start Problem`: Struggles with new or unseen data patterns unless retrained, unlike online learning algorithms.\n",
        "7. `Over-reliance on Tuning`: Performance heavily depends on hyperparameter optimization, which requires expertise or extensive grid search.\n"
      ]
    },
    {
      "cell_type": "markdown",
      "metadata": {
        "id": "EEG0JrW9GQRV"
      },
      "source": [
        "### Key Tunable Hyperparameters in XGBoost\n",
        "\n",
        "1. General Parameters\n",
        "\n",
        "- `booste`: Type of learner (`gbtree`, `gblinear`, `dart`). Default: `gbtree`.\n",
        "\n",
        "2. Booster Parameters\n",
        "\n",
        "- `eta (learning_rate)`: Step size shrinkage (0.01–0.3). Default: 0.3.\n",
        "- `max_depth`: Max tree depth (3–10). Default: 6.\n",
        "- `min_child_weight`: Min sum of instance weights in a child (1–10). Default: 1.\n",
        "- `subsample`: Fraction of data sampled per tree (0.5–1). Default: 1.\n",
        "- `colsample_bytree`: Fraction of features per tree (0.5–1). Default: 1.\n",
        "- `colsample_bylevel`: Fraction of features per level (0.5–1). Default: 1.\n",
        "- `colsample_bynode`: Fraction of features per node (0.5–1). Default: 1.\n",
        "- `gamma*` Min loss reduction for a split (0–5). Default: 0.\n",
        "- `lambda (reg_lambda)`: L2 regularization on weights (0–10). Default: 1.\n",
        "- `alpha (reg_alpha)`: L1 regularization on weights (0–1). Default: 0.\n",
        "\n",
        "3. Training Parameters\n",
        "\n",
        "- `n_estimators (num_boost_round)`: Number of trees (100–1000). Default: 100.\n",
        "- `early_stopping_rounds`: Stops if no improvement (10–50). Default: None.\n",
        "\n",
        "4. Task-Specific Parameters\n",
        "\n",
        "- `objective`: Loss function (e.g., `reg:squarederror`, `binary:logistic`). Depends on task.\n",
        "- *`eval_metric`: Evaluation metric (e.g., `rmse`, `logloss`, `auc`). Matches objective.\n",
        "\n",
        "5. Tuning Tips\n",
        "\n",
        "- Start with defaults, adjust `eta`, `max_depth`, `subsample`, `colsample_bytree` first.\n",
        "- Use lower `eta` with more `n_estimators` for robustness.\n",
        "- Increase `gamma`, `lambda`, `alpha` to reduce overfitting.\n",
        "- Apply early stopping with a validation set.\n",
        "- Use grid search, random search, or Bayesian optimization (e.g., Optuna)."
      ]
    },
    {
      "cell_type": "markdown",
      "metadata": {
        "id": "a6b4S4mWSAyQ"
      },
      "source": [
        "### Differences Between XGBoost, GBM, LightGBM, and Random Forest\n",
        "\n",
        "XGBoost, GBM (Gradient Boosting Machine), LightGBM, and Random Forest are all tree-based machine learning algorithms, but they differ in their approach, optimization techniques, and performance characteristics. Below is a detailed comparison of these algorithms, followed by a table summarizing their differences.\n",
        "\n",
        "Here’s a table summarizing the key differences across **GBM**, **XGBoost**, **LightGBM**, and **Random Forest**:\n",
        "\n",
        "| **Aspect**                  | **GBM**                                                                 | **XGBoost**                                                             | **LightGBM**                                                            | **Random Forest**                                                       |\n",
        "|-----------------------------|-------------------------------------------------------------------------|-------------------------------------------------------------------------|-------------------------------------------------------------------------|-------------------------------------------------------------------------|\n",
        "| `Algorithm Type`          | Gradient boosting (sequential tree building)                            | Optimized gradient boosting                                             | Gradient boosting with histogram-based optimization                     | Bagging-based ensemble of independent trees                            |\n",
        "| `Tree Construction`       | Sequential, additive (each tree corrects previous errors)               | Sequential, additive with regularization                                | Sequential, leaf-wise growth (splits best leaf)                        | Parallel, independent trees with bagging                               |\n",
        "| `Optimization`            | Gradient descent (first-order)                                          | Second-order gradient (Newton boosting) for faster convergence          | Gradient-based one-side sampling (GOSS) and histogram binning           | No gradient optimization; uses random feature subsets and bagging       |\n",
        "| `Speed`                   | Slower due to lack of parallelization and optimizations                 | Faster than GBM due to parallelization and caching                      | Faster than XGBoost for large datasets due to histogram-based approach  | Fast due to parallel tree construction, but no sequential optimization  |\n",
        "| `Memory Efficiency`       | Moderate to high memory usage                                           | Improved memory efficiency over GBM                                     | Highly memory-efficient due to histogram binning                        | Moderate to high, depending on number of trees                         |\n",
        "| `Regularization`          | Limited or none (depends on implementation)                            | L1 (Lasso) and L2 (Ridge) regularization to prevent overfitting         | L1 and L2 regularization, similar to XGBoost                            | No explicit regularization; relies on randomness and averaging          |\n",
        "| `Handling Missing Values` | Not natively supported (requires preprocessing)                        | Natively handles missing values by learning optimal split directions    | Natively handles missing values                                         | Not natively supported (requires imputation)                           |\n",
        "| `Scalability`             | Poor for large datasets due to sequential processing                    | Good scalability with parallel and distributed computing                | Excellent for large datasets due to histogram-based approach            | Good scalability due to parallel tree building                         |\n",
        "| `Categorical Features`    | Requires preprocessing (e.g., one-hot encoding)                         | Requires preprocessing, but handles sparse data well                    | Native support for categorical features (no encoding needed)            | Requires preprocessing (e.g., one-hot encoding)                         |\n",
        "| `Feature Importance`      | Supported, but less refined                                            | Detailed feature importance (gain, cover, frequency)                    | Detailed feature importance, similar to XGBoost                         | Feature importance based on Gini impurity or permutation importance     |\n",
        "| `Overfitting Control`     | Prone to overfitting without careful tuning                             | Strong control via regularization and early stopping                    | Strong control via regularization and efficient leaf-wise growth        | Less prone to overfitting due to bagging and random feature selection   |\n",
        "| `Interpretability`        | Moderate (complex due to sequential trees)                              | Moderate, but feature importance aids interpretability                  | Moderate, similar to XGBoost                                            | Relatively interpretable due to independent trees                      |\n",
        "|`Use Case Suitability`    | General-purpose, smaller datasets                                       | High-performance tasks (e.g., Kaggle competitions, tabular data)        | Large-scale datasets, high-dimensional data                            | General-purpose, robust for noisy data, tabular data                   |\n",
        "| `Implementation*`        | Available in scikit-learn, R, etc.                                      | Dedicated library (`xgboost`), integrates with scikit-learn, Spark      | Dedicated library (`lightgbm`), integrates with scikit-learn, Spark     | Available in scikit-learn, R, and other libraries                      |\n",
        "| `GPU Support`            | Limited or none (depends on implementation)                            | Supported for faster training                                           | Strong GPU support for large-scale training                            | Limited or no GPU support in most implementations                      |\n",
        "| `Hyperparameter Tuning`   | Moderate tuning complexity                                             | Extensive tuning (learning rate, max depth, etc.)                      | Moderate tuning, but fewer parameters than XGBoost                      | Simpler tuning (e.g., number of trees, max features)                   |\n",
        "| `Limitations`             | Slow, lacks advanced optimizations, no native missing value handling    | Requires tuning, less effective for unstructured data                   | May overfit with leaf-wise growth if not tuned properly                | Less accurate than boosting for complex patterns, no sequential learning|\n",
        "\n"
      ]
    },
    {
      "cell_type": "markdown",
      "metadata": {
        "id": "LKRKhCnskRNu"
      },
      "source": [
        "### Key Distinctions\n",
        "\n",
        "1. Boosting vs. Bagging\n",
        "\n",
        "   - GBM, XGBoost, and LightGBM use **boosting**, where trees are built sequentially to correct errors, making them more powerful for capturing complex patterns but prone to overfitting if not tuned.\n",
        "   - Random Forest uses **bagging**, building independent trees in parallel, which is faster and more robust to noise but may not capture intricate patterns as effectively.\n",
        "\n",
        "2. Optimization and Speed\n",
        "\n",
        "   - GBM is the slowest due to its basic implementation and lack of parallelization.\n",
        "   - XGBoost improves on GBM with parallel processing and second-order optimization.\n",
        "   - LightGBM is optimized for speed and memory efficiency, especially for large datasets, using histogram-based techniques and leaf-wise growth.\n",
        "   - Random Forest is fast due to parallel tree construction but lacks the iterative optimization of boosting methods.\n",
        "\n",
        "3. Scalability and Data Handling\n",
        "\n",
        "   - LightGBM excels with large, high-dimensional datasets due to its histogram-based approach and native categorical feature support.\n",
        "   - XGBoost is scalable but slightly less efficient than LightGBM for very large datasets.\n",
        "   - GBM struggles with large datasets due to its sequential nature.\n",
        "   - Random Forest scales well but requires preprocessing for missing values and categorical features.\n",
        "\n",
        "4. Overfitting and Robustness\n",
        "\n",
        "   - XGBoost and LightGBM include regularization to control overfitting, but their sequential nature makes them sensitive to noise if not tuned.\n",
        "   - Random Forest is inherently robust to overfitting due to bagging and randomness but may underperform on complex tasks.\n",
        "   - GBM is prone to overfitting without careful tuning or regularization.\n",
        "\n",
        "5. Use Cases\n",
        "\n",
        "   - `GBM`: Suitable for smaller datasets or when simplicity is preferred, but less common in modern applications.\n",
        "   - `XGBoost`: Widely used in competitions and tabular data tasks requiring high accuracy (e.g., finance, healthcare).\n",
        "   - `LightGBM`: Preferred for large-scale datasets, such as in big data environments or real-time applications.\n",
        "   - `Random Forest`: Ideal for quick prototyping, noisy data, or when interpretability and robustness are prioritized.\n"
      ]
    },
    {
      "cell_type": "markdown",
      "metadata": {
        "id": "ztl1QBDb4MYe"
      },
      "source": [
        "\n",
        "## Extreme Gradient Boosting from Scratch\n",
        "\n",
        "Fitting an `XGBoost` model manually without using R packages like {xgboost} is a complex task because XGBoost relies on optimized implementations for gradient boosting, tree construction, and parallel processing. However, it’s possible to implement a simplified version of the XGBoost algorithm from scratch in R by following its core principles: gradient boosting with decision trees, second-order gradient optimization, and regularization. This requires manually coding the tree construction, gradient and Hessian calculations, and the objective function optimization, which is computationally intensive and less efficient than the optimized {xgboost} package. Below, I’ll explain how to implement a basic version of XGBoost for regression, focusing on the mathematical framework and providing R code without external packages. The explanation will include equations and a step-by-step process to make it clear."
      ]
    },
    {
      "cell_type": "markdown",
      "metadata": {
        "id": "lP2lCzFHBUip"
      },
      "source": [
        "### Data Generation\n",
        "\n",
        "- Generates synthetic data: 100 samples with 2 features (X).\n",
        "- Regression target: `y_reg = 3*X1 + 2*X2 + noise`.\n",
        "- Classification target: `y_class = 1 if X1 + X2 > 1, else 0`.\n",
        "\n",
        "\n",
        "\n",
        "\n"
      ]
    },
    {
      "cell_type": "code",
      "execution_count": null,
      "metadata": {
        "id": "aTjVIV5ZBW96"
      },
      "outputs": [],
      "source": [
        "import numpy as np\n",
        "\n",
        "# Data Generation\n",
        "np.random.seed(123)\n",
        "n = 100\n",
        "X = np.random.rand(n, 2)  # 2 features\n",
        "y_reg = 3 * X[:, 0] + 2 * X[:, 1] + np.random.normal(0, 0.1, n)  # Regression target\n",
        "y_class = (X[:, 0] + X[:, 1] > 1).astype(int)  # Classification target (0 or 1)\n"
      ]
    },
    {
      "cell_type": "markdown",
      "metadata": {
        "id": "fwIhiSZNCO9N"
      },
      "source": [
        "### Initialization and Parameters\n",
        "\n",
        "- Sets hyperparameters: `n_trees=10`, `eta=0.1`, `max_depth=3`, `min_child_weight=1`, `lambda=1`, `gamma=0.`\n",
        "- Initializes predictions to 0 (regression) or 0.5 (classification).\n"
      ]
    },
    {
      "cell_type": "code",
      "execution_count": null,
      "metadata": {
        "id": "vYPiX59GCiTY"
      },
      "outputs": [],
      "source": [
        "# Initialization and Parameters\n",
        "n_trees = 10\n",
        "eta = 0.1\n",
        "max_depth = 3\n",
        "min_child_weight = 1\n",
        "lambda_reg = 1  # Renamed from lambda to avoid keyword conflict\n",
        "gamma = 0\n",
        "\n",
        "# Loss functions\n",
        "def mse_loss(y, pred):\n",
        "  return (y - pred)**2\n",
        "\n",
        "def logloss(y, pred):\n",
        "  pred = np.clip(pred, 1e-15, 1 - 1e-15)  # Avoid log(0)\n",
        "  return -y * np.log(pred) - (1 - y) * np.log(1 - pred)"
      ]
    },
    {
      "cell_type": "markdown",
      "metadata": {
        "id": "8aFvX9PX6t7N"
      },
      "source": [
        "### Gradient and Hessian Calculation\n",
        "\n",
        "To compute the `gradients` and `Hessian`s for regression and classification tasks, we define a function that calculates these values based on the predictions and true labels. The gradients represent the first derivative of the loss function, while the Hessians represent the second derivative."
      ]
    },
    {
      "cell_type": "code",
      "execution_count": null,
      "metadata": {
        "id": "foG5zY1Kcbe9"
      },
      "outputs": [],
      "source": [
        "# Gradient and Hessian Calculation\n",
        "def compute_grad_hess(y, pred, task=\"regression\"):\n",
        "  if task == \"regression\":\n",
        "    return {'grad': 2 * (pred - y), 'hess': np.full_like(y, 2)}\n",
        "  else:\n",
        "    pred = np.clip(pred, 1e-15, 1 - 1e-15)  # Stabilize for classification\n",
        "    return {'grad': (pred - y) / (pred * (1 - pred)), 'hess': 1 / (pred * (1 - pred))}"
      ]
    },
    {
      "cell_type": "markdown",
      "metadata": {
        "id": "VPJv1wf3xLmp"
      },
      "source": [
        "### Finding the Best Split\n",
        "\n",
        "To find the best split for a given feature, we iterate through unique values of that feature and calculate the gain from splitting the data at each value. The gain is computed using the gradients and Hessians for the left and right splits, following the XGBoost formula. Applies `min_child_weight`, `lambda`, and `gamma` to control splits.\n",
        "\n",
        "\n"
      ]
    },
    {
      "cell_type": "code",
      "execution_count": null,
      "metadata": {
        "id": "aSuBBDLKDHML"
      },
      "outputs": [],
      "source": [
        "# Finding the Best Split\n",
        "def find_best_split(X, grad, hess, feature_idx, min_child_weight, lambda_reg, gamma):\n",
        "  n = X.shape[0]\n",
        "  values = np.sort(np.unique(X[:, feature_idx]))\n",
        "  best_gain = -np.inf\n",
        "  best_split = None\n",
        "  total_G = np.sum(grad)\n",
        "  total_H = np.sum(hess)\n",
        "\n",
        "  for val in values[:-1]:\n",
        "    left_idx = np.where(X[:, feature_idx] <= val)[0]\n",
        "    right_idx = np.where(X[:, feature_idx] > val)[0]\n",
        "\n",
        "    if len(left_idx) == 0 or len(right_idx) == 0:\n",
        "      continue\n",
        "\n",
        "    G_left = np.sum(grad[left_idx])\n",
        "    H_left = np.sum(hess[left_idx])\n",
        "    G_right = total_G - G_left\n",
        "    H_right = total_H - H_left\n",
        "\n",
        "    if H_left < min_child_weight or H_right < min_child_weight:\n",
        "      continue\n",
        "\n",
        "    gain = 0.5 * ((G_left**2 / (H_left + lambda_reg)) + (G_right**2 / (H_right + lambda_reg)) -\n",
        "                   (total_G**2 / (total_H + lambda_reg))) - gamma\n",
        "\n",
        "    if gain > best_gain:\n",
        "      best_gain = gain\n",
        "      best_split = {'feature': feature_idx, 'value': val, 'gain': gain}\n",
        "  return best_split"
      ]
    },
    {
      "cell_type": "markdown",
      "metadata": {
        "id": "tzQKJ-urbCtn"
      },
      "source": [
        "### Building the Decision Tree\n",
        "\n",
        "To build the decision tree, we recursively split the data based on the best splits found in the previous step. The tree construction continues until reaching the maximum depth or when no further splits improve the gain. Each leaf node is assigned a weight based on the gradients and Hessians of the samples in that leaf. Computes optimal leaf weights: `-sum(grad)/(sum(hess) + lambda)`."
      ]
    },
    {
      "cell_type": "code",
      "execution_count": null,
      "metadata": {
        "id": "Z8mxvvBkbGBc"
      },
      "outputs": [],
      "source": [
        "# Building the Decision Tree\n",
        "def build_tree(X, grad, hess, depth, max_depth, min_child_weight, lambda_reg, gamma):\n",
        "  if depth >= max_depth or X.shape[0] < 2:\n",
        "    w = -np.sum(grad) / (np.sum(hess) + lambda_reg)\n",
        "    return {'leaf': True, 'weight': w}\n",
        "\n",
        "  best_split = None\n",
        "  best_gain = -np.inf\n",
        "  for feature_idx in range(X.shape[1]):\n",
        "    split = find_best_split(X, grad, hess, feature_idx, min_child_weight, lambda_reg, gamma)\n",
        "    if split is not None and split['gain'] > best_gain:\n",
        "      best_gain = split['gain']\n",
        "      best_split = split\n",
        "\n",
        "  if best_split is None or best_gain <= 0:\n",
        "    w = -np.sum(grad) / (np.sum(hess) + lambda_reg)\n",
        "    return {'leaf': True, 'weight': w}\n",
        "\n",
        "  left_idx = np.where(X[:, best_split['feature']] <= best_split['value'])[0]\n",
        "  right_idx = np.where(X[:, best_split['feature']] > best_split['value'])[0]\n",
        "\n",
        "  left_subtree = build_tree(X[left_idx, :], grad[left_idx], hess[left_idx],\n",
        "                            depth + 1, max_depth, min_child_weight, lambda_reg, gamma)\n",
        "  right_subtree = build_tree(X[right_idx, :], grad[right_idx], hess[right_idx],\n",
        "                             depth + 1, max_depth, min_child_weight, lambda_reg, gamma)\n",
        "\n",
        "  return {'leaf': False, 'feature': best_split['feature'], 'value': best_split['value'],\n",
        "          'left': left_subtree, 'right': right_subtree}"
      ]
    },
    {
      "cell_type": "markdown",
      "metadata": {
        "id": "OFCR0x3ZbLAS"
      },
      "source": [
        "### Predicting with the Tree\n",
        "\n",
        "To make predictions with the decision tree, we traverse the tree based on the feature values of the input data. If we reach a leaf node, we return the weight assigned to that leaf. This function recursively checks the feature value against the split value to navigate through the tree. Applies sigmoid transformation for classification predictions."
      ]
    },
    {
      "cell_type": "code",
      "execution_count": null,
      "metadata": {
        "id": "5DqGjw3RbLyH"
      },
      "outputs": [],
      "source": [
        "# Predicting with the Tree\n",
        "def predict_tree(tree, x):\n",
        "  if tree['leaf']:\n",
        "    return tree['weight']\n",
        "  if x[tree['feature']] <= tree['value']:\n",
        "    return predict_tree(tree['left'], x)\n",
        "  else:\n",
        "    return predict_tree(tree['right'], x)"
      ]
    },
    {
      "cell_type": "markdown",
      "metadata": {
        "id": "okobJFvfbTzD"
      },
      "source": [
        "### Main Boosting Loop\n",
        "\n",
        "The main boosting loop iterates through the number of trees to be built. In each iteration, it computes the gradients and Hessians for the current predictions, builds a decision tree based on these values, and updates the predictions by adding the tree's output scaled by the learning rate (`eta`). The predictions are updated for both regression (direct addition) and classification (applying a sigmoid function)."
      ]
    },
    {
      "cell_type": "code",
      "execution_count": null,
      "metadata": {
        "id": "eClvfwtHbUoD"
      },
      "outputs": [],
      "source": [
        "# Main Boosting Loop\n",
        "def xgboost_train(X, y, n_trees, eta, max_depth, min_child_weight, lambda_reg, gamma, task=\"regression\"):\n",
        "  n = X.shape[0]\n",
        "  pred = np.full(n, 0) if task == \"regression\" else np.full(n, 0.5)\n",
        "  trees = []\n",
        "\n",
        "  for t in range(n_trees):\n",
        "    gh = compute_grad_hess(y, pred, task)\n",
        "    tree = build_tree(X, gh['grad'], gh['hess'], 0, max_depth, min_child_weight, lambda_reg, gamma)\n",
        "    trees.append(tree)\n",
        "\n",
        "    for i in range(n):\n",
        "      pred[i] += eta * predict_tree(tree, X[i, :])\n",
        "      if task == \"classification\":\n",
        "        pred[i] = 1 / (1 + np.exp(-pred[i]))  # Sigmoid\n",
        "\n",
        "  return {'trees': trees, 'pred': pred, 'task': task}"
      ]
    },
    {
      "cell_type": "markdown",
      "metadata": {
        "id": "xJhzNiflbZ7C"
      },
      "source": [
        "### Final Prediction and Evaluation\n",
        "\n",
        "- Predicts using the ensemble of trees.\n",
        "- Evaluates regression with `MSE` and classification with `log-loss` and `accuracy`.\n"
      ]
    },
    {
      "cell_type": "code",
      "execution_count": null,
      "metadata": {
        "id": "UPgnmNq7bgpj"
      },
      "outputs": [],
      "source": [
        "# Final Prediction and Evaluation\n",
        "def predict_xgboost(model, X):\n",
        "  n = X.shape[0]\n",
        "  pred = np.full(n, 0) if model['task'] == \"regression\" else np.full(n, 0.5)\n",
        "\n",
        "  for tree in model['trees']:\n",
        "    for i in range(n):\n",
        "      pred[i] += eta * predict_tree(tree, X[i, :])\n",
        "      if model['task'] == \"classification\":\n",
        "        pred[i] = 1 / (1 + np.exp(-pred[i]))\n",
        "  return pred\n",
        "\n",
        "# Evaluation Metrics\n",
        "def mse(y_true, y_pred):\n",
        "  return np.mean((y_true - y_pred)**2)\n",
        "\n",
        "def logloss_eval(y_true, y_pred):\n",
        "  y_pred = np.clip(y_pred, 1e-15, 1 - 1e-15)\n",
        "  return np.mean(-y_true * np.log(y_pred) - (1 - y_true) * np.log(1 - y_pred))\n",
        "\n",
        "def accuracy(y_true, y_pred):\n",
        "  return np.mean(y_true == (y_pred > 0.5))"
      ]
    },
    {
      "cell_type": "markdown",
      "metadata": {
        "id": "zd78Wrt6bk6d"
      },
      "source": [
        "### Train and Evaluate Regression Model\n"
      ]
    },
    {
      "cell_type": "code",
      "execution_count": null,
      "metadata": {
        "colab": {
          "base_uri": "https://localhost:8080/"
        },
        "id": "1MCBol9qbloE",
        "outputId": "663bb1b5-1996-431b-8546-1b9a8b3a9ebd"
      },
      "outputs": [
        {
          "name": "stdout",
          "output_type": "stream",
          "text": [
            "Regression MSE: 7.07126477855163\n",
            "\n"
          ]
        }
      ],
      "source": [
        "# Train and evaluate regression model\n",
        "model_reg = xgboost_train(X, y_reg, n_trees, eta, max_depth, min_child_weight, lambda_reg, gamma, task=\"regression\")\n",
        "pred_reg = predict_xgboost(model_reg, X)\n",
        "mse_reg = mse(y_reg, pred_reg)\n",
        "print(f\"Regression MSE: {mse_reg}\\n\")"
      ]
    },
    {
      "cell_type": "markdown",
      "metadata": {
        "id": "CtuWG-OJbukf"
      },
      "source": [
        "### Train and Evaluate Classification Model"
      ]
    },
    {
      "cell_type": "code",
      "execution_count": null,
      "metadata": {
        "colab": {
          "base_uri": "https://localhost:8080/"
        },
        "id": "x0r8G-cJbux5",
        "outputId": "4c010383-121c-4b4d-eddc-3fae68ec1ea4"
      },
      "outputs": [
        {
          "name": "stdout",
          "output_type": "stream",
          "text": [
            "Classification Log-loss: 0.7190060213707795\n",
            "\n",
            "Classification Accuracy: 0.5\n",
            "\n"
          ]
        }
      ],
      "source": [
        "# Train and evaluate classification model\n",
        "model_class = xgboost_train(X, y_class, n_trees, eta, max_depth, min_child_weight, lambda_reg, gamma, task=\"classification\")\n",
        "pred_class = predict_xgboost(model_class, X)\n",
        "logloss_class = logloss_eval(y_class, pred_class)\n",
        "acc_class = accuracy(y_class, pred_class)\n",
        "print(f\"Classification Log-loss: {logloss_class}\\n\")\n",
        "print(f\"Classification Accuracy: {acc_class}\\n\")"
      ]
    },
    {
      "cell_type": "markdown",
      "metadata": {
        "id": "n5Z1SpIUbgLy"
      },
      "source": [
        "## Extreme Gradient Boosting with Python\n",
        "\n",
        "{XGBoost} is a powerful gradient boosting library in Python, optimized for speed and performance. Below is a concise guide to using XGBoost for a typical machine learning task, including installation, basic usage, and a simple example.\n",
        "\n",
        "XGBoost (eXtreme Gradient Boosting) is a highly optimized, scalable, and fast machine learning library in Python designed for gradient boosting. It excels in supervised learning tasks like classification, regression, and ranking, offering state-of-the-art performance on structured/tabular data. Known for its efficiency, flexibility, and robustness, XGBoost is widely used in data science competitions and real-world applications due to its ability to handle large datasets, missing values, and complex patterns with minimal preprocessing.\n",
        "\n",
        "Key features of XGBoost:\n",
        "\n",
        "- **Gradient Boosting**: Implements advanced gradient boosting algorithms with tree-based models, optimized for speed and accuracy.\n",
        "- **Scalability**: Supports parallel processing, distributed computing, and GPU acceleration for faster training on large datasets.\n",
        "- **Regularization**: Includes L1 (Lasso) and L2 (Ridge) regularization to prevent overfitting.\n",
        "- **Flexibility**: Handles various objective functions (e.g., binary classification, regression, ranking) and custom loss functions.\n",
        "- **Feature Importance**: Provides tools to assess and visualize feature importance for model interpretability.\n",
        "- **Cross-Validation and Early Stopping**: Built-in support for cross-validation and early stopping to optimize model performance.\n",
        "- **Handling Missing Values**: Automatically handles missing data without requiring imputation.\n",
        "- **Scikit-Learn Compatibility**: Offers a scikit-learn API (`XGBClassifier`, `XGBRegressor`) for seamless integration with Python’s ML ecosystem.\n",
        "- **Multi-Language Support**: Available in Python, R, Java, and more, with a focus on Python for its rich ecosystem.\n",
        "\n",
        "Key functions of {XGboost} package are:\n",
        "\n",
        "- **`xgboost.train(params, dtrain, num_boost_round, evals)`**: Trains a model using the native API with a `DMatrix` dataset, customizable parameters, and optional evaluation sets for monitoring performance.\n",
        "- **`xgboost.cv(params, dtrain, num_boost_round, nfold)`**: Performs k-fold cross-validation to evaluate model performance and tune hyperparameters.\n",
        "- **`xgboost.DMatrix(data, label)`**: Converts input data (e.g., numpy arrays, pandas DataFrames) into XGBoost’s optimized `DMatrix` format for efficient training.\n",
        "- **`model.predict(data)`**: Generates predictions for new data using a trained model (available in both native and scikit-learn APIs).\n",
        "- **`model.fit(X, y)`**: Trains a model using the scikit-learn API, compatible with pandas/numpy inputs.\n",
        "- **`xgboost.plot_importance(model)`**: Visualizes feature importance scores to interpret model behavior.\n",
        "- **`model.save_model(filename)` / `model.load_model(filename)`**: Saves or loads a trained model for reusability.\n",
        "\n",
        "For more details, visit the [XGBoost Documentation](https://xgboost.readthedocs.io/) or check the [GitHub repository](https://github.com/dmlc/xgboost).\n",
        "\n",
        ".\n"
      ]
    },
    {
      "cell_type": "code",
      "execution_count": 12,
      "metadata": {
        "id": "3c0z1O63NvnL"
      },
      "outputs": [],
      "source": [
        "import pandas as pd\n",
        "import numpy as np\n",
        "from sklearn.model_selection import train_test_split, GridSearchCV, RandomizedSearchCV, cross_val_score\n",
        "from sklearn.preprocessing import StandardScaler\n",
        "from sklearn.metrics import root_mean_squared_error, r2_score\n",
        "from sklearn.preprocessing import LabelEncoder\n",
        "from sklearn.metrics import accuracy_score, classification_report, log_loss\n",
        "import xgboost as xgb\n",
        "import matplotlib.pyplot as plt"
      ]
    },
    {
      "cell_type": "markdown",
      "metadata": {
        "id": "QabVFLr5jgrD"
      },
      "source": [
        "### Regression with XGBoost\n",
        "\n",
        "This section of tutorial will focus on using the XGBoost package to perform regression analysis. We will load the dataset, preprocess it, and then fit an XGBoost model for regression. The dataset will be split into training and testing sets, and we will evaluate the model's performance using RMSE (Root Mean Squared Error)."
      ]
    },
    {
      "cell_type": "markdown",
      "metadata": {
        "id": "rSJqB05rO5ES"
      },
      "source": [
        "#### Data and Data Preparation\n",
        "\n"
      ]
    },
    {
      "cell_type": "code",
      "execution_count": 5,
      "metadata": {
        "id": "CFpt_H01OPsa"
      },
      "outputs": [],
      "source": [
        "# Load Boston Housing dataset\n",
        "url = 'https://raw.githubusercontent.com/ageron/handson-ml/master/datasets/housing/housing.csv'\n",
        "df_boston = pd.read_csv(url)\n",
        "\n",
        "# Prepare the data for regression\n",
        "features = df_boston.drop('median_house_value', axis=1)\n",
        "target = df_boston['median_house_value']\n",
        "\n",
        "# Handle categorical features by one-hot encoding\n",
        "features = pd.get_dummies(features, columns=['ocean_proximity'], drop_first=True)\n",
        "\n",
        "# Split the dataset into training and testing sets\n",
        "X_train, X_test, y_train, y_test = train_test_split(features, target, test_size=0.25, random_state=42)\n",
        "\n",
        "# Convert the data into xgb.DMatrix objects for native API\n",
        "dtrain = xgb.DMatrix(X_train, label=y_train)\n",
        "dtest = xgb.DMatrix(X_test, label=y_test)"
      ]
    },
    {
      "cell_type": "markdown",
      "metadata": {
        "id": "k6EFndFdP5qq"
      },
      "source": [
        "#### Fit Initial Model with Fixed Parameters\n",
        "\n",
        "Next, we'll fit the XGBoost model by using the `xgb.train()` function, which displays the training and testing RMSE (root mean squared error) for each round of boosting. We use a few tunning prameters with default values."
      ]
    },
    {
      "cell_type": "code",
      "execution_count": 11,
      "metadata": {
        "id": "p7fPSLSxsZie"
      },
      "outputs": [],
      "source": [
        "# Define parameters for the initial XGBoost regression model\n",
        "params = {\n",
        "    'objective': 'reg:squarederror',\n",
        "    'eval_metric': 'rmse',\n",
        "    'max_depth': 6,\n",
        "    'eta': 0.3,\n",
        "    'gamma': 0,\n",
        "    'colsample_bytree': 0.8,\n",
        "    'min_child_weight': 1,\n",
        "    'subsample': 0.8\n",
        "}\n",
        "\n",
        "# Train the initial XGBoost model\n",
        "initial_model = xgb.train(\n",
        "    params=params,\n",
        "    dtrain=dtrain,\n",
        "    num_boost_round=100,\n",
        "    evals=[(dtrain, 'train'), (dtest, 'test')],\n",
        "    verbose_eval=False # Set to True to see progress\n",
        ")\n",
        "\n"
      ]
    },
    {
      "cell_type": "markdown",
      "metadata": {},
      "source": [
        "#### Cross-validation"
      ]
    },
    {
      "cell_type": "code",
      "execution_count": 16,
      "metadata": {},
      "outputs": [
        {
          "name": "stdout",
          "output_type": "stream",
          "text": [
            "Cross-validation RMSE (mean): 49148.39826059182\n"
          ]
        }
      ],
      "source": [
        "cv_results = xgb.cv(\n",
        "    params=params,\n",
        "    dtrain=dtrain,\n",
        "    num_boost_round=100,\n",
        "    nfold=5,\n",
        "    metrics={'rmse'},\n",
        "    early_stopping_rounds=10,\n",
        "    seed=42\n",
        ")\n",
        "print(\"Cross-validation RMSE (mean):\", cv_results['test-rmse-mean'].iloc[-1])"
      ]
    },
    {
      "cell_type": "markdown",
      "metadata": {
        "id": "ioqlVpARP_pN"
      },
      "source": [
        "#### Predict and Evaluate Initial Model"
      ]
    },
    {
      "cell_type": "code",
      "execution_count": 15,
      "metadata": {
        "colab": {
          "base_uri": "https://localhost:8080/"
        },
        "id": "uwTfSah-QYwz",
        "outputId": "0b416fba-6179-486e-e107-86d5f54a4da7"
      },
      "outputs": [
        {
          "name": "stdout",
          "output_type": "stream",
          "text": [
            "Initial Model - RMSE: 48209.76, R2: 0.82\n"
          ]
        }
      ],
      "source": [
        "\n",
        "from sklearn.metrics import mean_squared_error\n",
        "\n",
        "y_pred_initial = initial_model.predict(dtest)\n",
        "rmse_initial = np.sqrt(mean_squared_error(y_test, y_pred_initial))  # Compute RMSE\n",
        "r2_initial = r2_score(y_test, y_pred_initial)\n",
        "print(f\"Initial Model - RMSE: {rmse_initial:.2f}, R2: {r2_initial:.2f}\")"
      ]
    },
    {
      "cell_type": "markdown",
      "metadata": {},
      "source": [
        "#### Variable Importance (Initial Model)\n",
        "\n",
        "Variable importance in XGBoost indicates how much each feature contributes to the model's predictions. It helps identify which predictors are most influential in determining the target variable. The importance can be measured using metrics like gain, cover, and frequency. Gain measures the contribution of a feature to the model's accuracy, cover indicates the relative quantity of observations concerned by a feature, and frequency counts how often a feature is used in trees."
      ]
    },
    {
      "cell_type": "code",
      "execution_count": 17,
      "metadata": {},
      "outputs": [
        {
          "data": {
            "text/plain": [
              "<Figure size 1000x600 with 0 Axes>"
            ]
          },
          "metadata": {},
          "output_type": "display_data"
        },
        {
          "data": {
            "image/png": "[encoded data removed]",
            "text/plain": [
              "<Figure size 640x480 with 1 Axes>"
            ]
          },
          "metadata": {},
          "output_type": "display_data"
        }
      ],
      "source": [
        "plt.figure(figsize=(8, 6))\n",
        "xgb.plot_importance(initial_model, max_num_features=10)\n",
        "plt.title(\"Feature Importance - Initial Model\")\n",
        "plt.show()"
      ]
    },
    {
      "cell_type": "markdown",
      "metadata": {
        "id": "GqOYNF6YnQMo"
      },
      "source": [
        "#### Hyperparameter Tuning for the Best Parameters\n",
        "\n",
        "To optimize the XGBoost model, we can perform cross-validation to find the best hyperparameters. This involves testing different combinations of parameters like `max_depth`, `eta`, and `nrounds` to minimize the RMSE on the validation set.\n"
      ]
    },
    {
      "cell_type": "markdown",
      "metadata": {
        "id": "PpIEnQNDoWLq"
      },
      "source": [
        "##### Define Parameter Grid and Initialize Variables"
      ]
    },
    {
      "cell_type": "code",
      "execution_count": 18,
      "metadata": {
        "colab": {
          "base_uri": "https://localhost:8080/",
          "height": 183
        },
        "id": "RjnlDmSzoWzn",
        "outputId": "3307677f-5a56-4876-9a0f-8cbb57194310"
      },
      "outputs": [
        {
          "name": "stdout",
          "output_type": "stream",
          "text": [
            "Fitting 5 folds for each of 20 candidates, totalling 100 fits\n"
          ]
        },
        {
          "data": {
            "text/html": [
              "<style>#sk-container-id-1 {\n",
              "  /* Definition of color scheme common for light and dark mode */\n",
              "  --sklearn-color-text: #000;\n",
              "  --sklearn-color-text-muted: #666;\n",
              "  --sklearn-color-line: gray;\n",
              "  /* Definition of color scheme for unfitted estimators */\n",
              "  --sklearn-color-unfitted-level-0: #fff5e6;\n",
              "  --sklearn-color-unfitted-level-1: #f6e4d2;\n",
              "  --sklearn-color-unfitted-level-2: #ffe0b3;\n",
              "  --sklearn-color-unfitted-level-3: chocolate;\n",
              "  /* Definition of color scheme for fitted estimators */\n",
              "  --sklearn-color-fitted-level-0: #f0f8ff;\n",
              "  --sklearn-color-fitted-level-1: #d4ebff;\n",
              "  --sklearn-color-fitted-level-2: #b3dbfd;\n",
              "  --sklearn-color-fitted-level-3: cornflowerblue;\n",
              "\n",
              "  /* Specific color for light theme */\n",
              "  --sklearn-color-text-on-default-background: var(--sg-text-color, var(--theme-code-foreground, var(--jp-content-font-color1, black)));\n",
              "  --sklearn-color-background: var(--sg-background-color, var(--theme-background, var(--jp-layout-color0, white)));\n",
              "  --sklearn-color-border-box: var(--sg-text-color, var(--theme-code-foreground, var(--jp-content-font-color1, black)));\n",
              "  --sklearn-color-icon: #696969;\n",
              "\n",
              "  @media (prefers-color-scheme: dark) {\n",
              "    /* Redefinition of color scheme for dark theme */\n",
              "    --sklearn-color-text-on-default-background: var(--sg-text-color, var(--theme-code-foreground, var(--jp-content-font-color1, white)));\n",
              "    --sklearn-color-background: var(--sg-background-color, var(--theme-background, var(--jp-layout-color0, #111)));\n",
              "    --sklearn-color-border-box: var(--sg-text-color, var(--theme-code-foreground, var(--jp-content-font-color1, white)));\n",
              "    --sklearn-color-icon: #878787;\n",
              "  }\n",
              "}\n",
              "\n",
              "#sk-container-id-1 {\n",
              "  color: var(--sklearn-color-text);\n",
              "}\n",
              "\n",
              "#sk-container-id-1 pre {\n",
              "  padding: 0;\n",
              "}\n",
              "\n",
              "#sk-container-id-1 input.sk-hidden--visually {\n",
              "  border: 0;\n",
              "  clip: rect(1px 1px 1px 1px);\n",
              "  clip: rect(1px, 1px, 1px, 1px);\n",
              "  height: 1px;\n",
              "  margin: -1px;\n",
              "  overflow: hidden;\n",
              "  padding: 0;\n",
              "  position: absolute;\n",
              "  width: 1px;\n",
              "}\n",
              "\n",
              "#sk-container-id-1 div.sk-dashed-wrapped {\n",
              "  border: 1px dashed var(--sklearn-color-line);\n",
              "  margin: 0 0.4em 0.5em 0.4em;\n",
              "  box-sizing: border-box;\n",
              "  padding-bottom: 0.4em;\n",
              "  background-color: var(--sklearn-color-background);\n",
              "}\n",
              "\n",
              "#sk-container-id-1 div.sk-container {\n",
              "  /* jupyter's `normalize.less` sets `[hidden] { display: none; }`\n",
              "     but bootstrap.min.css set `[hidden] { display: none !important; }`\n",
              "     so we also need the `!important` here to be able to override the\n",
              "     default hidden behavior on the sphinx rendered scikit-learn.org.\n",
              "     See: https://github.com/scikit-learn/scikit-learn/issues/21755 */\n",
              "  display: inline-block !important;\n",
              "  position: relative;\n",
              "}\n",
              "\n",
              "#sk-container-id-1 div.sk-text-repr-fallback {\n",
              "  display: none;\n",
              "}\n",
              "\n",
              "div.sk-parallel-item,\n",
              "div.sk-serial,\n",
              "div.sk-item {\n",
              "  /* draw centered vertical line to link estimators */\n",
              "  background-image: linear-gradient(var(--sklearn-color-text-on-default-background), var(--sklearn-color-text-on-default-background));\n",
              "  background-size: 2px 100%;\n",
              "  background-repeat: no-repeat;\n",
              "  background-position: center center;\n",
              "}\n",
              "\n",
              "/* Parallel-specific style estimator block */\n",
              "\n",
              "#sk-container-id-1 div.sk-parallel-item::after {\n",
              "  content: \"\";\n",
              "  width: 100%;\n",
              "  border-bottom: 2px solid var(--sklearn-color-text-on-default-background);\n",
              "  flex-grow: 1;\n",
              "}\n",
              "\n",
              "#sk-container-id-1 div.sk-parallel {\n",
              "  display: flex;\n",
              "  align-items: stretch;\n",
              "  justify-content: center;\n",
              "  background-color: var(--sklearn-color-background);\n",
              "  position: relative;\n",
              "}\n",
              "\n",
              "#sk-container-id-1 div.sk-parallel-item {\n",
              "  display: flex;\n",
              "  flex-direction: column;\n",
              "}\n",
              "\n",
              "#sk-container-id-1 div.sk-parallel-item:first-child::after {\n",
              "  align-self: flex-end;\n",
              "  width: 50%;\n",
              "}\n",
              "\n",
              "#sk-container-id-1 div.sk-parallel-item:last-child::after {\n",
              "  align-self: flex-start;\n",
              "  width: 50%;\n",
              "}\n",
              "\n",
              "#sk-container-id-1 div.sk-parallel-item:only-child::after {\n",
              "  width: 0;\n",
              "}\n",
              "\n",
              "/* Serial-specific style estimator block */\n",
              "\n",
              "#sk-container-id-1 div.sk-serial {\n",
              "  display: flex;\n",
              "  flex-direction: column;\n",
              "  align-items: center;\n",
              "  background-color: var(--sklearn-color-background);\n",
              "  padding-right: 1em;\n",
              "  padding-left: 1em;\n",
              "}\n",
              "\n",
              "\n",
              "/* Toggleable style: style used for estimator/Pipeline/ColumnTransformer box that is\n",
              "clickable and can be expanded/collapsed.\n",
              "- Pipeline and ColumnTransformer use this feature and define the default style\n",
              "- Estimators will overwrite some part of the style using the `sk-estimator` class\n",
              "*/\n",
              "\n",
              "/* Pipeline and ColumnTransformer style (default) */\n",
              "\n",
              "#sk-container-id-1 div.sk-toggleable {\n",
              "  /* Default theme specific background. It is overwritten whether we have a\n",
              "  specific estimator or a Pipeline/ColumnTransformer */\n",
              "  background-color: var(--sklearn-color-background);\n",
              "}\n",
              "\n",
              "/* Toggleable label */\n",
              "#sk-container-id-1 label.sk-toggleable__label {\n",
              "  cursor: pointer;\n",
              "  display: flex;\n",
              "  width: 100%;\n",
              "  margin-bottom: 0;\n",
              "  padding: 0.5em;\n",
              "  box-sizing: border-box;\n",
              "  text-align: center;\n",
              "  align-items: start;\n",
              "  justify-content: space-between;\n",
              "  gap: 0.5em;\n",
              "}\n",
              "\n",
              "#sk-container-id-1 label.sk-toggleable__label .caption {\n",
              "  font-size: 0.6rem;\n",
              "  font-weight: lighter;\n",
              "  color: var(--sklearn-color-text-muted);\n",
              "}\n",
              "\n",
              "#sk-container-id-1 label.sk-toggleable__label-arrow:before {\n",
              "  /* Arrow on the left of the label */\n",
              "  content: \"▸\";\n",
              "  float: left;\n",
              "  margin-right: 0.25em;\n",
              "  color: var(--sklearn-color-icon);\n",
              "}\n",
              "\n",
              "#sk-container-id-1 label.sk-toggleable__label-arrow:hover:before {\n",
              "  color: var(--sklearn-color-text);\n",
              "}\n",
              "\n",
              "/* Toggleable content - dropdown */\n",
              "\n",
              "#sk-container-id-1 div.sk-toggleable__content {\n",
              "  max-height: 0;\n",
              "  max-width: 0;\n",
              "  overflow: hidden;\n",
              "  text-align: left;\n",
              "  /* unfitted */\n",
              "  background-color: var(--sklearn-color-unfitted-level-0);\n",
              "}\n",
              "\n",
              "#sk-container-id-1 div.sk-toggleable__content.fitted {\n",
              "  /* fitted */\n",
              "  background-color: var(--sklearn-color-fitted-level-0);\n",
              "}\n",
              "\n",
              "#sk-container-id-1 div.sk-toggleable__content pre {\n",
              "  margin: 0.2em;\n",
              "  border-radius: 0.25em;\n",
              "  color: var(--sklearn-color-text);\n",
              "  /* unfitted */\n",
              "  background-color: var(--sklearn-color-unfitted-level-0);\n",
              "}\n",
              "\n",
              "#sk-container-id-1 div.sk-toggleable__content.fitted pre {\n",
              "  /* unfitted */\n",
              "  background-color: var(--sklearn-color-fitted-level-0);\n",
              "}\n",
              "\n",
              "#sk-container-id-1 input.sk-toggleable__control:checked~div.sk-toggleable__content {\n",
              "  /* Expand drop-down */\n",
              "  max-height: 200px;\n",
              "  max-width: 100%;\n",
              "  overflow: auto;\n",
              "}\n",
              "\n",
              "#sk-container-id-1 input.sk-toggleable__control:checked~label.sk-toggleable__label-arrow:before {\n",
              "  content: \"▾\";\n",
              "}\n",
              "\n",
              "/* Pipeline/ColumnTransformer-specific style */\n",
              "\n",
              "#sk-container-id-1 div.sk-label input.sk-toggleable__control:checked~label.sk-toggleable__label {\n",
              "  color: var(--sklearn-color-text);\n",
              "  background-color: var(--sklearn-color-unfitted-level-2);\n",
              "}\n",
              "\n",
              "#sk-container-id-1 div.sk-label.fitted input.sk-toggleable__control:checked~label.sk-toggleable__label {\n",
              "  background-color: var(--sklearn-color-fitted-level-2);\n",
              "}\n",
              "\n",
              "/* Estimator-specific style */\n",
              "\n",
              "/* Colorize estimator box */\n",
              "#sk-container-id-1 div.sk-estimator input.sk-toggleable__control:checked~label.sk-toggleable__label {\n",
              "  /* unfitted */\n",
              "  background-color: var(--sklearn-color-unfitted-level-2);\n",
              "}\n",
              "\n",
              "#sk-container-id-1 div.sk-estimator.fitted input.sk-toggleable__control:checked~label.sk-toggleable__label {\n",
              "  /* fitted */\n",
              "  background-color: var(--sklearn-color-fitted-level-2);\n",
              "}\n",
              "\n",
              "#sk-container-id-1 div.sk-label label.sk-toggleable__label,\n",
              "#sk-container-id-1 div.sk-label label {\n",
              "  /* The background is the default theme color */\n",
              "  color: var(--sklearn-color-text-on-default-background);\n",
              "}\n",
              "\n",
              "/* On hover, darken the color of the background */\n",
              "#sk-container-id-1 div.sk-label:hover label.sk-toggleable__label {\n",
              "  color: var(--sklearn-color-text);\n",
              "  background-color: var(--sklearn-color-unfitted-level-2);\n",
              "}\n",
              "\n",
              "/* Label box, darken color on hover, fitted */\n",
              "#sk-container-id-1 div.sk-label.fitted:hover label.sk-toggleable__label.fitted {\n",
              "  color: var(--sklearn-color-text);\n",
              "  background-color: var(--sklearn-color-fitted-level-2);\n",
              "}\n",
              "\n",
              "/* Estimator label */\n",
              "\n",
              "#sk-container-id-1 div.sk-label label {\n",
              "  font-family: monospace;\n",
              "  font-weight: bold;\n",
              "  display: inline-block;\n",
              "  line-height: 1.2em;\n",
              "}\n",
              "\n",
              "#sk-container-id-1 div.sk-label-container {\n",
              "  text-align: center;\n",
              "}\n",
              "\n",
              "/* Estimator-specific */\n",
              "#sk-container-id-1 div.sk-estimator {\n",
              "  font-family: monospace;\n",
              "  border: 1px dotted var(--sklearn-color-border-box);\n",
              "  border-radius: 0.25em;\n",
              "  box-sizing: border-box;\n",
              "  margin-bottom: 0.5em;\n",
              "  /* unfitted */\n",
              "  background-color: var(--sklearn-color-unfitted-level-0);\n",
              "}\n",
              "\n",
              "#sk-container-id-1 div.sk-estimator.fitted {\n",
              "  /* fitted */\n",
              "  background-color: var(--sklearn-color-fitted-level-0);\n",
              "}\n",
              "\n",
              "/* on hover */\n",
              "#sk-container-id-1 div.sk-estimator:hover {\n",
              "  /* unfitted */\n",
              "  background-color: var(--sklearn-color-unfitted-level-2);\n",
              "}\n",
              "\n",
              "#sk-container-id-1 div.sk-estimator.fitted:hover {\n",
              "  /* fitted */\n",
              "  background-color: var(--sklearn-color-fitted-level-2);\n",
              "}\n",
              "\n",
              "/* Specification for estimator info (e.g. \"i\" and \"?\") */\n",
              "\n",
              "/* Common style for \"i\" and \"?\" */\n",
              "\n",
              ".sk-estimator-doc-link,\n",
              "a:link.sk-estimator-doc-link,\n",
              "a:visited.sk-estimator-doc-link {\n",
              "  float: right;\n",
              "  font-size: smaller;\n",
              "  line-height: 1em;\n",
              "  font-family: monospace;\n",
              "  background-color: var(--sklearn-color-background);\n",
              "  border-radius: 1em;\n",
              "  height: 1em;\n",
              "  width: 1em;\n",
              "  text-decoration: none !important;\n",
              "  margin-left: 0.5em;\n",
              "  text-align: center;\n",
              "  /* unfitted */\n",
              "  border: var(--sklearn-color-unfitted-level-1) 1pt solid;\n",
              "  color: var(--sklearn-color-unfitted-level-1);\n",
              "}\n",
              "\n",
              ".sk-estimator-doc-link.fitted,\n",
              "a:link.sk-estimator-doc-link.fitted,\n",
              "a:visited.sk-estimator-doc-link.fitted {\n",
              "  /* fitted */\n",
              "  border: var(--sklearn-color-fitted-level-1) 1pt solid;\n",
              "  color: var(--sklearn-color-fitted-level-1);\n",
              "}\n",
              "\n",
              "/* On hover */\n",
              "div.sk-estimator:hover .sk-estimator-doc-link:hover,\n",
              ".sk-estimator-doc-link:hover,\n",
              "div.sk-label-container:hover .sk-estimator-doc-link:hover,\n",
              ".sk-estimator-doc-link:hover {\n",
              "  /* unfitted */\n",
              "  background-color: var(--sklearn-color-unfitted-level-3);\n",
              "  color: var(--sklearn-color-background);\n",
              "  text-decoration: none;\n",
              "}\n",
              "\n",
              "div.sk-estimator.fitted:hover .sk-estimator-doc-link.fitted:hover,\n",
              ".sk-estimator-doc-link.fitted:hover,\n",
              "div.sk-label-container:hover .sk-estimator-doc-link.fitted:hover,\n",
              ".sk-estimator-doc-link.fitted:hover {\n",
              "  /* fitted */\n",
              "  background-color: var(--sklearn-color-fitted-level-3);\n",
              "  color: var(--sklearn-color-background);\n",
              "  text-decoration: none;\n",
              "}\n",
              "\n",
              "/* Span, style for the box shown on hovering the info icon */\n",
              ".sk-estimator-doc-link span {\n",
              "  display: none;\n",
              "  z-index: 9999;\n",
              "  position: relative;\n",
              "  font-weight: normal;\n",
              "  right: .2ex;\n",
              "  padding: .5ex;\n",
              "  margin: .5ex;\n",
              "  width: min-content;\n",
              "  min-width: 20ex;\n",
              "  max-width: 50ex;\n",
              "  color: var(--sklearn-color-text);\n",
              "  box-shadow: 2pt 2pt 4pt #999;\n",
              "  /* unfitted */\n",
              "  background: var(--sklearn-color-unfitted-level-0);\n",
              "  border: .5pt solid var(--sklearn-color-unfitted-level-3);\n",
              "}\n",
              "\n",
              ".sk-estimator-doc-link.fitted span {\n",
              "  /* fitted */\n",
              "  background: var(--sklearn-color-fitted-level-0);\n",
              "  border: var(--sklearn-color-fitted-level-3);\n",
              "}\n",
              "\n",
              ".sk-estimator-doc-link:hover span {\n",
              "  display: block;\n",
              "}\n",
              "\n",
              "/* \"?\"-specific style due to the `<a>` HTML tag */\n",
              "\n",
              "#sk-container-id-1 a.estimator_doc_link {\n",
              "  float: right;\n",
              "  font-size: 1rem;\n",
              "  line-height: 1em;\n",
              "  font-family: monospace;\n",
              "  background-color: var(--sklearn-color-background);\n",
              "  border-radius: 1rem;\n",
              "  height: 1rem;\n",
              "  width: 1rem;\n",
              "  text-decoration: none;\n",
              "  /* unfitted */\n",
              "  color: var(--sklearn-color-unfitted-level-1);\n",
              "  border: var(--sklearn-color-unfitted-level-1) 1pt solid;\n",
              "}\n",
              "\n",
              "#sk-container-id-1 a.estimator_doc_link.fitted {\n",
              "  /* fitted */\n",
              "  border: var(--sklearn-color-fitted-level-1) 1pt solid;\n",
              "  color: var(--sklearn-color-fitted-level-1);\n",
              "}\n",
              "\n",
              "/* On hover */\n",
              "#sk-container-id-1 a.estimator_doc_link:hover {\n",
              "  /* unfitted */\n",
              "  background-color: var(--sklearn-color-unfitted-level-3);\n",
              "  color: var(--sklearn-color-background);\n",
              "  text-decoration: none;\n",
              "}\n",
              "\n",
              "#sk-container-id-1 a.estimator_doc_link.fitted:hover {\n",
              "  /* fitted */\n",
              "  background-color: var(--sklearn-color-fitted-level-3);\n",
              "}\n",
              "</style><div id=\"sk-container-id-1\" class=\"sk-top-container\"><div class=\"sk-text-repr-fallback\"><pre>RandomizedSearchCV(cv=5,\n",
              "                   estimator=XGBRegressor(base_score=None, booster=None,\n",
              "                                          callbacks=None,\n",
              "                                          colsample_bylevel=None,\n",
              "                                          colsample_bynode=None,\n",
              "                                          colsample_bytree=None, device=None,\n",
              "                                          early_stopping_rounds=None,\n",
              "                                          enable_categorical=False,\n",
              "                                          eval_metric=&#x27;rmse&#x27;,\n",
              "                                          feature_types=None,\n",
              "                                          feature_weights=None, gamma=None,\n",
              "                                          grow_policy=None,\n",
              "                                          importance_type=None,\n",
              "                                          interaction_constrai...\n",
              "                                          monotone_constraints=None,\n",
              "                                          multi_strategy=None,\n",
              "                                          n_estimators=None, n_jobs=None,\n",
              "                                          num_parallel_tree=None, ...),\n",
              "                   n_iter=20, n_jobs=-1,\n",
              "                   param_distributions={&#x27;colsample_bytree&#x27;: [0.6, 0.8, 1.0],\n",
              "                                        &#x27;eta&#x27;: [0.05, 0.1, 0.2, 0.3],\n",
              "                                        &#x27;gamma&#x27;: [0, 0.1, 0.5],\n",
              "                                        &#x27;max_depth&#x27;: [3, 5, 7, 9],\n",
              "                                        &#x27;min_child_weight&#x27;: [1, 3, 5],\n",
              "                                        &#x27;subsample&#x27;: [0.6, 0.8, 1.0]},\n",
              "                   random_state=42, scoring=&#x27;neg_root_mean_squared_error&#x27;,\n",
              "                   verbose=1)</pre><b>In a Jupyter environment, please rerun this cell to show the HTML representation or trust the notebook. <br />On GitHub, the HTML representation is unable to render, please try loading this page with nbviewer.org.</b></div><div class=\"sk-container\" hidden><div class=\"sk-item sk-dashed-wrapped\"><div class=\"sk-label-container\"><div class=\"sk-label fitted sk-toggleable\"><input class=\"sk-toggleable__control sk-hidden--visually\" id=\"sk-estimator-id-1\" type=\"checkbox\" ><label for=\"sk-estimator-id-1\" class=\"sk-toggleable__label fitted sk-toggleable__label-arrow\"><div><div>RandomizedSearchCV</div></div><div><a class=\"sk-estimator-doc-link fitted\" rel=\"noreferrer\" target=\"_blank\" href=\"https://scikit-learn.org/1.6/modules/generated/sklearn.model_selection.RandomizedSearchCV.html\">?<span>Documentation for RandomizedSearchCV</span></a><span class=\"sk-estimator-doc-link fitted\">i<span>Fitted</span></span></div></label><div class=\"sk-toggleable__content fitted\"><pre>RandomizedSearchCV(cv=5,\n",
              "                   estimator=XGBRegressor(base_score=None, booster=None,\n",
              "                                          callbacks=None,\n",
              "                                          colsample_bylevel=None,\n",
              "                                          colsample_bynode=None,\n",
              "                                          colsample_bytree=None, device=None,\n",
              "                                          early_stopping_rounds=None,\n",
              "                                          enable_categorical=False,\n",
              "                                          eval_metric=&#x27;rmse&#x27;,\n",
              "                                          feature_types=None,\n",
              "                                          feature_weights=None, gamma=None,\n",
              "                                          grow_policy=None,\n",
              "                                          importance_type=None,\n",
              "                                          interaction_constrai...\n",
              "                                          monotone_constraints=None,\n",
              "                                          multi_strategy=None,\n",
              "                                          n_estimators=None, n_jobs=None,\n",
              "                                          num_parallel_tree=None, ...),\n",
              "                   n_iter=20, n_jobs=-1,\n",
              "                   param_distributions={&#x27;colsample_bytree&#x27;: [0.6, 0.8, 1.0],\n",
              "                                        &#x27;eta&#x27;: [0.05, 0.1, 0.2, 0.3],\n",
              "                                        &#x27;gamma&#x27;: [0, 0.1, 0.5],\n",
              "                                        &#x27;max_depth&#x27;: [3, 5, 7, 9],\n",
              "                                        &#x27;min_child_weight&#x27;: [1, 3, 5],\n",
              "                                        &#x27;subsample&#x27;: [0.6, 0.8, 1.0]},\n",
              "                   random_state=42, scoring=&#x27;neg_root_mean_squared_error&#x27;,\n",
              "                   verbose=1)</pre></div> </div></div><div class=\"sk-parallel\"><div class=\"sk-parallel-item\"><div class=\"sk-item\"><div class=\"sk-label-container\"><div class=\"sk-label fitted sk-toggleable\"><input class=\"sk-toggleable__control sk-hidden--visually\" id=\"sk-estimator-id-2\" type=\"checkbox\" ><label for=\"sk-estimator-id-2\" class=\"sk-toggleable__label fitted sk-toggleable__label-arrow\"><div><div>best_estimator_: XGBRegressor</div></div></label><div class=\"sk-toggleable__content fitted\"><pre>XGBRegressor(base_score=None, booster=None, callbacks=None,\n",
              "             colsample_bylevel=None, colsample_bynode=None,\n",
              "             colsample_bytree=0.6, device=None, early_stopping_rounds=None,\n",
              "             enable_categorical=False, eta=0.05, eval_metric=&#x27;rmse&#x27;,\n",
              "             feature_types=None, feature_weights=None, gamma=0.1,\n",
              "             grow_policy=None, importance_type=None,\n",
              "             interaction_constraints=None, learning_rate=None, max_bin=None,\n",
              "             max_cat_threshold=None, max_cat_to_onehot=None,\n",
              "             max_delta_step=None, max_depth=9, max_leaves=None,\n",
              "             min_child_weight=1, missing=nan, monotone_constraints=None,\n",
              "             multi_strategy=None, n_estimators=None, n_jobs=None, ...)</pre></div> </div></div><div class=\"sk-serial\"><div class=\"sk-item\"><div class=\"sk-estimator fitted sk-toggleable\"><input class=\"sk-toggleable__control sk-hidden--visually\" id=\"sk-estimator-id-3\" type=\"checkbox\" ><label for=\"sk-estimator-id-3\" class=\"sk-toggleable__label fitted sk-toggleable__label-arrow\"><div><div>XGBRegressor</div></div><div><a class=\"sk-estimator-doc-link fitted\" rel=\"noreferrer\" target=\"_blank\" href=\"https://xgboost.readthedocs.io/en/release_3.0.0/python/python_api.html#xgboost.XGBRegressor\">?<span>Documentation for XGBRegressor</span></a></div></label><div class=\"sk-toggleable__content fitted\"><pre>XGBRegressor(base_score=None, booster=None, callbacks=None,\n",
              "             colsample_bylevel=None, colsample_bynode=None,\n",
              "             colsample_bytree=0.6, device=None, early_stopping_rounds=None,\n",
              "             enable_categorical=False, eta=0.05, eval_metric=&#x27;rmse&#x27;,\n",
              "             feature_types=None, feature_weights=None, gamma=0.1,\n",
              "             grow_policy=None, importance_type=None,\n",
              "             interaction_constraints=None, learning_rate=None, max_bin=None,\n",
              "             max_cat_threshold=None, max_cat_to_onehot=None,\n",
              "             max_delta_step=None, max_depth=9, max_leaves=None,\n",
              "             min_child_weight=1, missing=nan, monotone_constraints=None,\n",
              "             multi_strategy=None, n_estimators=None, n_jobs=None, ...)</pre></div> </div></div></div></div></div></div></div></div></div>"
            ],
            "text/plain": [
              "RandomizedSearchCV(cv=5,\n",
              "                   estimator=XGBRegressor(base_score=None, booster=None,\n",
              "                                          callbacks=None,\n",
              "                                          colsample_bylevel=None,\n",
              "                                          colsample_bynode=None,\n",
              "                                          colsample_bytree=None, device=None,\n",
              "                                          early_stopping_rounds=None,\n",
              "                                          enable_categorical=False,\n",
              "                                          eval_metric='rmse',\n",
              "                                          feature_types=None,\n",
              "                                          feature_weights=None, gamma=None,\n",
              "                                          grow_policy=None,\n",
              "                                          importance_type=None,\n",
              "                                          interaction_constrai...\n",
              "                                          monotone_constraints=None,\n",
              "                                          multi_strategy=None,\n",
              "                                          n_estimators=None, n_jobs=None,\n",
              "                                          num_parallel_tree=None, ...),\n",
              "                   n_iter=20, n_jobs=-1,\n",
              "                   param_distributions={'colsample_bytree': [0.6, 0.8, 1.0],\n",
              "                                        'eta': [0.05, 0.1, 0.2, 0.3],\n",
              "                                        'gamma': [0, 0.1, 0.5],\n",
              "                                        'max_depth': [3, 5, 7, 9],\n",
              "                                        'min_child_weight': [1, 3, 5],\n",
              "                                        'subsample': [0.6, 0.8, 1.0]},\n",
              "                   random_state=42, scoring='neg_root_mean_squared_error',\n",
              "                   verbose=1)"
            ]
          },
          "execution_count": 18,
          "metadata": {},
          "output_type": "execute_result"
        }
      ],
      "source": [
        "# Hyperparameter Tuning - Random Grid Search\n",
        "param_grid = {\n",
        "    'max_depth': [3, 5, 7, 9],\n",
        "    'eta': [0.05, 0.1, 0.2, 0.3],\n",
        "    'subsample': [0.6, 0.8, 1.0],\n",
        "    'colsample_bytree': [0.6, 0.8, 1.0],\n",
        "    'min_child_weight': [1, 3, 5],\n",
        "    'gamma': [0, 0.1, 0.5]\n",
        "}\n",
        "\n",
        "xgb_reg = xgb.XGBRegressor(objective='reg:squarederror', eval_metric='rmse')\n",
        "random_search = RandomizedSearchCV(\n",
        "    estimator=xgb_reg,\n",
        "    param_distributions=param_grid,\n",
        "    n_iter=20,\n",
        "    scoring='neg_root_mean_squared_error',\n",
        "    cv=5,\n",
        "    verbose=1,\n",
        "    random_state=42,\n",
        "    n_jobs=-1\n",
        ")\n",
        "random_search.fit(X_train, y_train)"
      ]
    },
    {
      "cell_type": "markdown",
      "metadata": {
        "id": "EuPB-9Tnot5f"
      },
      "source": [
        "##### The best parameters"
      ]
    },
    {
      "cell_type": "code",
      "execution_count": 20,
      "metadata": {
        "colab": {
          "base_uri": "https://localhost:8080/"
        },
        "id": "UYbWhgako6J4",
        "outputId": "0ea597c9-7c4f-47d4-d0e7-401e67b01981"
      },
      "outputs": [
        {
          "name": "stdout",
          "output_type": "stream",
          "text": [
            "Best Parameters: {'subsample': 1.0, 'min_child_weight': 1, 'max_depth': 9, 'gamma': 0.1, 'eta': 0.05, 'colsample_bytree': 0.6}\n"
          ]
        }
      ],
      "source": [
        "best_params = random_search.best_params_\n",
        "print(\"Best Parameters:\", best_params)"
      ]
    },
    {
      "cell_type": "markdown",
      "metadata": {
        "id": "qlo7UGqjpMJm"
      },
      "source": [
        "##### Train and Validate Model with Best Parameters"
      ]
    },
    {
      "cell_type": "code",
      "execution_count": 22,
      "metadata": {
        "colab": {
          "base_uri": "https://localhost:8080/",
          "height": 254
        },
        "id": "MWa_RuR3pMhJ",
        "outputId": "f48c5f05-942f-483f-a7b9-9d60c95aa07e"
      },
      "outputs": [],
      "source": [
        "# Train the final XGBoost model with best parameters\n",
        "best_params.update({'objective': 'reg:squarederror', 'eval_metric': 'rmse'})\n",
        "dtrain = xgb.DMatrix(X_train, label=y_train)\n",
        "dtest = xgb.DMatrix(X_test, label=y_test)\n",
        "final_model = xgb.train(\n",
        "    params=best_params,\n",
        "    dtrain=dtrain,\n",
        "    num_boost_round=100,\n",
        "    evals=[(dtrain, 'train'), (dtest, 'test')],\n",
        "    verbose_eval=False)"
      ]
    },
    {
      "cell_type": "markdown",
      "metadata": {
        "id": "Q99NFqvipTF2"
      },
      "source": [
        "##### Predictions and Evaluation"
      ]
    },
    {
      "cell_type": "code",
      "execution_count": 24,
      "metadata": {
        "colab": {
          "base_uri": "https://localhost:8080/"
        },
        "id": "IDzGkXFPpaFR",
        "outputId": "253fb7b7-ab6f-40b4-9b86-a25ffd2ad9d4"
      },
      "outputs": [
        {
          "name": "stdout",
          "output_type": "stream",
          "text": [
            "\n",
            "Final Model RMSE: 47601.52\n"
          ]
        }
      ],
      "source": [
        "# Make predictions on the training and testing sets using the trained final model\n",
        "y_pred_final = final_model.predict(dtest)\n",
        "rmse_final = np.sqrt(mean_squared_error(y_test, y_pred_final))\n",
        "print(f\"\\nFinal Model RMSE: {rmse_final:.2f}\")\n",
        "\n"
      ]
    },
    {
      "cell_type": "code",
      "execution_count": 25,
      "metadata": {
        "colab": {
          "base_uri": "https://localhost:8080/",
          "height": 507
        },
        "id": "Ic0gVXQEzDOd",
        "outputId": "a4c3aea4-ebbc-4160-e3aa-934637c8bd23"
      },
      "outputs": [
        {
          "data": {
            "image/png": "[encoded data removed]",
            "text/plain": [
              "<Figure size 600x500 with 1 Axes>"
            ]
          },
          "metadata": {},
          "output_type": "display_data"
        }
      ],
      "source": [
        "plt.figure(figsize=(6, 5))\n",
        "plt.scatter(y_test, y_pred_final, alpha=0.5)\n",
        "plt.plot([y_test.min(), y_test.max()], [y_test.min(), y_test.max()], 'r--', lw=2)\n",
        "plt.xlabel('Observed Values')\n",
        "plt.ylabel('Predicted Values')\n",
        "plt.title('Observed vs Predicted Values (Final Model)')\n",
        "plt.show()\n"
      ]
    },
    {
      "cell_type": "markdown",
      "metadata": {
        "id": "5AKztLwDzNj3"
      },
      "source": [
        "##### Variable Importance\n",
        "\n"
      ]
    },
    {
      "cell_type": "code",
      "execution_count": 26,
      "metadata": {
        "colab": {
          "base_uri": "https://localhost:8080/",
          "height": 504
        },
        "id": "IOT-EVsOzOZP",
        "outputId": "f4866930-2a23-4ef5-a550-97cba0ad3bae"
      },
      "outputs": [
        {
          "data": {
            "text/plain": [
              "<Figure size 600x550 with 0 Axes>"
            ]
          },
          "metadata": {},
          "output_type": "display_data"
        },
        {
          "data": {
            "image/png": "[encoded data removed]",
            "text/plain": [
              "<Figure size 640x480 with 1 Axes>"
            ]
          },
          "metadata": {},
          "output_type": "display_data"
        }
      ],
      "source": [
        "# Variable Importance\n",
        "plt.figure(figsize=(6, 5.5))\n",
        "xgb.plot_importance(final_model, max_num_features=10)\n",
        "plt.title('Feature Importance')\n",
        "plt.show()\n"
      ]
    },
    {
      "cell_type": "markdown",
      "metadata": {
        "id": "USrLldhbrbGw"
      },
      "source": [
        "#### Early Stopping\n",
        "\n",
        "Early stopping in XGBoost is a technique used to prevent overfitting by monitoring the model's performance on a validation set during training. If the model's performance does not improve for a specified number of rounds (defined by `early_stopping_rounds`), training is halted. This helps to find the optimal number of boosting rounds without excessive computation and ensures that the model generalizes well to unseen data.\n",
        "\n",
        "In XGBoost, this is implemented by monitoring a performance metric (e.g., RMSE for regression) on a validation dataset during training. If the metric does not improve for a defined number of consecutive rounds (early_stopping_rounds), training stops, and the model returns the iteration with the best performance. This helps select an optimal number of boosting rounds (nrounds) without overfitting to the training data."
      ]
    },
    {
      "cell_type": "code",
      "execution_count": 27,
      "metadata": {
        "id": "MP5768CXrmcS"
      },
      "outputs": [],
      "source": [
        "# Fit Model with Early Stopping\n",
        "early_stopping_model = xgb.train(\n",
        "    params=best_params,\n",
        "    dtrain=dtrain,\n",
        "    num_boost_round=1000,\n",
        "    evals=[(dtrain, 'train'), (dtest, 'test')],\n",
        "    early_stopping_rounds=10,\n",
        "    verbose_eval=False\n",
        ")\n"
      ]
    },
    {
      "cell_type": "code",
      "execution_count": 29,
      "metadata": {
        "colab": {
          "base_uri": "https://localhost:8080/"
        },
        "id": "h_mE8_Lsrjc8",
        "outputId": "7135aa96-ffba-46ec-9fb9-7c4e93a84ce4"
      },
      "outputs": [
        {
          "name": "stdout",
          "output_type": "stream",
          "text": [
            "Final Model (Early Stopping) - RMSE: 47601.52, R2: 0.84\n"
          ]
        }
      ],
      "source": [
        "# Prediction and Evaluation (Final Model with Early Stopping)\n",
        "y_pred_final = early_stopping_model.predict(dtest)\n",
        "r2_final = r2_score(y_test, y_pred_final)\n",
        "print(f\"Final Model (Early Stopping) - RMSE: {rmse_final:.2f}, R2: {r2_final:.2f}\")"
      ]
    },
    {
      "cell_type": "markdown",
      "metadata": {
        "id": "Irqlj8sYYKas"
      },
      "source": [
        "### Classification with XGBoost\n",
        "\n",
        "In this section, we will use the XGBoost package to perform classification on a dataset. We will load the dataset, preprocess it, and then fit an XGBoost model for classification. The dataset will be split into training and testing sets, and we will evaluate the model's performance using accuracy and confusion matrix."
      ]
    },
    {
      "cell_type": "markdown",
      "metadata": {
        "id": "NRpPJB6-YUUo"
      },
      "source": [
        "#### Data and Data Preparation\n",
        "\n",
        "We will use`health insurance` dataset to predict the product type (A, B, or C) based on various features such as age, household size, position level, and absence records."
      ]
    },
    {
      "cell_type": "code",
      "execution_count": 30,
      "metadata": {
        "id": "UfumDV8yYaI2"
      },
      "outputs": [],
      "source": [
        "# Load the health insurance dataset for classification\n",
        "data_classification = pd.read_csv(\"https://github.com/zia207/r-colab/raw/main/Data/Machine_Learning/health_insurance.csv\")\n",
        "\n",
        "# Convert gender to numeric (Male: 0, Female: 1)\n",
        "data_classification['gender'] = data_classification['gender'].astype('category').cat.codes\n",
        "\n",
        "# Convert product to numeric labels (A: 0, B: 1, C: 2)\n",
        "data_classification['product'] = data_classification['product'].astype('category').cat.codes\n",
        "\n",
        "# Select features and target for classification\n",
        "features_classification = ['age', 'household', 'position_level', 'absent', 'gender']\n",
        "X_classification = data_classification[features_classification]\n",
        "y_classification = data_classification['product']\n",
        "\n",
        "# Split data into training (80%) and test (20%) sets for classification\n",
        "X_train_classification, X_test_classification, y_train_classification, y_test_classification = train_test_split(X_classification, y_classification, test_size=0.2, random_state=123)\n",
        "\n",
        "# Convert data to DMatrix format for XGBoost classification\n",
        "dtrain_classification = xgb.DMatrix(data=X_train_classification, label=y_train_classification)\n",
        "dtest_classification = xgb.DMatrix(data=X_test_classification, label=y_test_classification)"
      ]
    },
    {
      "cell_type": "markdown",
      "metadata": {
        "id": "5yliW4QeZMpE"
      },
      "source": [
        "#### Fit lightGBM Classification Model"
      ]
    },
    {
      "cell_type": "code",
      "execution_count": 31,
      "metadata": {
        "id": "0H3OVcIrZNK8"
      },
      "outputs": [],
      "source": [
        "# Define parameters for the initial XGBoost classification model\n",
        "params_classification = {\n",
        "    'objective': 'multi:softmax',  # For multi-class classification with raw predictions\n",
        "    'num_class': 3,                # Number of classes (A, B, C)\n",
        "    'eval_metric': 'merror',       # Classification error rate\n",
        "    'max_depth': 6,\n",
        "    'eta': 0.3,\n",
        "    'gamma': 0,\n",
        "    'colsample_bytree': 0.8,\n",
        "    'min_child_weight': 1,\n",
        "    'subsample': 0.8\n",
        "}\n",
        "\n",
        "# Train the initial XGBoost classification model\n",
        "initial_model_classification = xgb.train(\n",
        "    params=params_classification,\n",
        "    dtrain=dtrain_classification,\n",
        "    num_boost_round=100,\n",
        "    evals=[(dtrain_classification, 'train'), (dtest_classification, 'test')],\n",
        "    verbose_eval=False, # Set to True to see progress\n",
        "    # early_stopping_rounds=10 # Can be used for early stopping\n",
        ")\n"
      ]
    },
    {
      "cell_type": "markdown",
      "metadata": {},
      "source": [
        "#### Cross-validation"
      ]
    },
    {
      "cell_type": "code",
      "execution_count": 39,
      "metadata": {},
      "outputs": [
        {
          "name": "stdout",
          "output_type": "stream",
          "text": [
            "Cross-validation MERROR (mean): 0.1951821167338409\n"
          ]
        }
      ],
      "source": [
        "# Cross-validation\n",
        "cv_results = xgb.cv(\n",
        "    params=params_classification,\n",
        "    dtrain=dtrain_classification,\n",
        "    num_boost_round=100,\n",
        "    nfold=5,\n",
        "    metrics={'merror'},\n",
        "    early_stopping_rounds=10,\n",
        "    seed=123\n",
        ")\n",
        "print(\"Cross-validation MERROR (mean):\", cv_results['test-merror-mean'].iloc[-1])"
      ]
    },
    {
      "cell_type": "markdown",
      "metadata": {
        "id": "Gp7pWvYaZS7T"
      },
      "source": [
        "#### Predictions and Evaluation\n",
        "\n"
      ]
    },
    {
      "cell_type": "code",
      "execution_count": 44,
      "metadata": {
        "colab": {
          "base_uri": "https://localhost:8080/"
        },
        "id": "D3Kv94NoZTyA",
        "outputId": "41eef583-a1f3-455c-c67b-4688d99a84f6"
      },
      "outputs": [
        {
          "name": "stdout",
          "output_type": "stream",
          "text": [
            "Initial Model - Accuracy: 0.78\n",
            "\n",
            "Classification Report (Initial Model):\n",
            "              precision    recall  f1-score   support\n",
            "\n",
            "           0       0.77      0.76      0.77        95\n",
            "           1       0.79      0.78      0.79        97\n",
            "           2       0.76      0.79      0.77        98\n",
            "\n",
            "    accuracy                           0.78       290\n",
            "   macro avg       0.78      0.78      0.78       290\n",
            "weighted avg       0.78      0.78      0.78       290\n",
            "\n"
          ]
        },
        {
          "data": {
            "image/png": "[encoded data removed]",
            "text/plain": [
              "<Figure size 800x600 with 2 Axes>"
            ]
          },
          "metadata": {},
          "output_type": "display_data"
        }
      ],
      "source": [
        "from sklearn.metrics import accuracy_score, confusion_matrix\n",
        "import seaborn as sns\n",
        "\n",
        "# Prediction and Evaluation (Initial Model)\n",
        "# Ensure feature names are consistent between training and test datasets\n",
        "dtest_classification = xgb.DMatrix(data=X_test_classification, label=y_test_classification, feature_names=dtrain_classification.feature_names)\n",
        "\n",
        "# Prediction and Evaluation (Initial Model)\n",
        "y_pred_initial = initial_model_classification.predict(dtest_classification)\n",
        "accuracy_initial = accuracy_score(y_test_classification, y_pred_initial)\n",
        "print(f\"Initial Model - Accuracy: {accuracy_initial:.2f}\")\n",
        "print(\"\\nClassification Report (Initial Model):\")\n",
        "print(classification_report(y_test_classification, y_pred_initial))\n",
        "cm_initial = confusion_matrix(y_test_classification, y_pred_initial)\n",
        "plt.figure(figsize=(8, 6))\n",
        "sns.heatmap(cm_initial, annot=True, fmt='d', cmap='Blues')\n",
        "plt.title('Confusion Matrix - Initial Model')\n",
        "plt.xlabel('Predicted')\n",
        "plt.ylabel('Actual')\n",
        "plt.show()"
      ]
    },
    {
      "cell_type": "markdown",
      "metadata": {
        "id": "FIr4gd7Ikuv2"
      },
      "source": [
        "#### Hyperparameter Tuning for the Best Parameters"
      ]
    },
    {
      "cell_type": "markdown",
      "metadata": {
        "id": "Zi_NWubmkzUK"
      },
      "source": [
        "##### Define Parameter Grid and Initialize Variables"
      ]
    },
    {
      "cell_type": "code",
      "execution_count": 45,
      "metadata": {
        "colab": {
          "base_uri": "https://localhost:8080/",
          "height": 253
        },
        "id": "UMzN860Yk0XN",
        "outputId": "14c943e6-cd3c-4bc7-9506-291ce3746e9d"
      },
      "outputs": [
        {
          "name": "stdout",
          "output_type": "stream",
          "text": [
            "Fitting 3 folds for each of 20 candidates, totalling 60 fits\n"
          ]
        },
        {
          "data": {
            "text/html": [
              "<style>#sk-container-id-4 {\n",
              "  /* Definition of color scheme common for light and dark mode */\n",
              "  --sklearn-color-text: #000;\n",
              "  --sklearn-color-text-muted: #666;\n",
              "  --sklearn-color-line: gray;\n",
              "  /* Definition of color scheme for unfitted estimators */\n",
              "  --sklearn-color-unfitted-level-0: #fff5e6;\n",
              "  --sklearn-color-unfitted-level-1: #f6e4d2;\n",
              "  --sklearn-color-unfitted-level-2: #ffe0b3;\n",
              "  --sklearn-color-unfitted-level-3: chocolate;\n",
              "  /* Definition of color scheme for fitted estimators */\n",
              "  --sklearn-color-fitted-level-0: #f0f8ff;\n",
              "  --sklearn-color-fitted-level-1: #d4ebff;\n",
              "  --sklearn-color-fitted-level-2: #b3dbfd;\n",
              "  --sklearn-color-fitted-level-3: cornflowerblue;\n",
              "\n",
              "  /* Specific color for light theme */\n",
              "  --sklearn-color-text-on-default-background: var(--sg-text-color, var(--theme-code-foreground, var(--jp-content-font-color1, black)));\n",
              "  --sklearn-color-background: var(--sg-background-color, var(--theme-background, var(--jp-layout-color0, white)));\n",
              "  --sklearn-color-border-box: var(--sg-text-color, var(--theme-code-foreground, var(--jp-content-font-color1, black)));\n",
              "  --sklearn-color-icon: #696969;\n",
              "\n",
              "  @media (prefers-color-scheme: dark) {\n",
              "    /* Redefinition of color scheme for dark theme */\n",
              "    --sklearn-color-text-on-default-background: var(--sg-text-color, var(--theme-code-foreground, var(--jp-content-font-color1, white)));\n",
              "    --sklearn-color-background: var(--sg-background-color, var(--theme-background, var(--jp-layout-color0, #111)));\n",
              "    --sklearn-color-border-box: var(--sg-text-color, var(--theme-code-foreground, var(--jp-content-font-color1, white)));\n",
              "    --sklearn-color-icon: #878787;\n",
              "  }\n",
              "}\n",
              "\n",
              "#sk-container-id-4 {\n",
              "  color: var(--sklearn-color-text);\n",
              "}\n",
              "\n",
              "#sk-container-id-4 pre {\n",
              "  padding: 0;\n",
              "}\n",
              "\n",
              "#sk-container-id-4 input.sk-hidden--visually {\n",
              "  border: 0;\n",
              "  clip: rect(1px 1px 1px 1px);\n",
              "  clip: rect(1px, 1px, 1px, 1px);\n",
              "  height: 1px;\n",
              "  margin: -1px;\n",
              "  overflow: hidden;\n",
              "  padding: 0;\n",
              "  position: absolute;\n",
              "  width: 1px;\n",
              "}\n",
              "\n",
              "#sk-container-id-4 div.sk-dashed-wrapped {\n",
              "  border: 1px dashed var(--sklearn-color-line);\n",
              "  margin: 0 0.4em 0.5em 0.4em;\n",
              "  box-sizing: border-box;\n",
              "  padding-bottom: 0.4em;\n",
              "  background-color: var(--sklearn-color-background);\n",
              "}\n",
              "\n",
              "#sk-container-id-4 div.sk-container {\n",
              "  /* jupyter's `normalize.less` sets `[hidden] { display: none; }`\n",
              "     but bootstrap.min.css set `[hidden] { display: none !important; }`\n",
              "     so we also need the `!important` here to be able to override the\n",
              "     default hidden behavior on the sphinx rendered scikit-learn.org.\n",
              "     See: https://github.com/scikit-learn/scikit-learn/issues/21755 */\n",
              "  display: inline-block !important;\n",
              "  position: relative;\n",
              "}\n",
              "\n",
              "#sk-container-id-4 div.sk-text-repr-fallback {\n",
              "  display: none;\n",
              "}\n",
              "\n",
              "div.sk-parallel-item,\n",
              "div.sk-serial,\n",
              "div.sk-item {\n",
              "  /* draw centered vertical line to link estimators */\n",
              "  background-image: linear-gradient(var(--sklearn-color-text-on-default-background), var(--sklearn-color-text-on-default-background));\n",
              "  background-size: 2px 100%;\n",
              "  background-repeat: no-repeat;\n",
              "  background-position: center center;\n",
              "}\n",
              "\n",
              "/* Parallel-specific style estimator block */\n",
              "\n",
              "#sk-container-id-4 div.sk-parallel-item::after {\n",
              "  content: \"\";\n",
              "  width: 100%;\n",
              "  border-bottom: 2px solid var(--sklearn-color-text-on-default-background);\n",
              "  flex-grow: 1;\n",
              "}\n",
              "\n",
              "#sk-container-id-4 div.sk-parallel {\n",
              "  display: flex;\n",
              "  align-items: stretch;\n",
              "  justify-content: center;\n",
              "  background-color: var(--sklearn-color-background);\n",
              "  position: relative;\n",
              "}\n",
              "\n",
              "#sk-container-id-4 div.sk-parallel-item {\n",
              "  display: flex;\n",
              "  flex-direction: column;\n",
              "}\n",
              "\n",
              "#sk-container-id-4 div.sk-parallel-item:first-child::after {\n",
              "  align-self: flex-end;\n",
              "  width: 50%;\n",
              "}\n",
              "\n",
              "#sk-container-id-4 div.sk-parallel-item:last-child::after {\n",
              "  align-self: flex-start;\n",
              "  width: 50%;\n",
              "}\n",
              "\n",
              "#sk-container-id-4 div.sk-parallel-item:only-child::after {\n",
              "  width: 0;\n",
              "}\n",
              "\n",
              "/* Serial-specific style estimator block */\n",
              "\n",
              "#sk-container-id-4 div.sk-serial {\n",
              "  display: flex;\n",
              "  flex-direction: column;\n",
              "  align-items: center;\n",
              "  background-color: var(--sklearn-color-background);\n",
              "  padding-right: 1em;\n",
              "  padding-left: 1em;\n",
              "}\n",
              "\n",
              "\n",
              "/* Toggleable style: style used for estimator/Pipeline/ColumnTransformer box that is\n",
              "clickable and can be expanded/collapsed.\n",
              "- Pipeline and ColumnTransformer use this feature and define the default style\n",
              "- Estimators will overwrite some part of the style using the `sk-estimator` class\n",
              "*/\n",
              "\n",
              "/* Pipeline and ColumnTransformer style (default) */\n",
              "\n",
              "#sk-container-id-4 div.sk-toggleable {\n",
              "  /* Default theme specific background. It is overwritten whether we have a\n",
              "  specific estimator or a Pipeline/ColumnTransformer */\n",
              "  background-color: var(--sklearn-color-background);\n",
              "}\n",
              "\n",
              "/* Toggleable label */\n",
              "#sk-container-id-4 label.sk-toggleable__label {\n",
              "  cursor: pointer;\n",
              "  display: flex;\n",
              "  width: 100%;\n",
              "  margin-bottom: 0;\n",
              "  padding: 0.5em;\n",
              "  box-sizing: border-box;\n",
              "  text-align: center;\n",
              "  align-items: start;\n",
              "  justify-content: space-between;\n",
              "  gap: 0.5em;\n",
              "}\n",
              "\n",
              "#sk-container-id-4 label.sk-toggleable__label .caption {\n",
              "  font-size: 0.6rem;\n",
              "  font-weight: lighter;\n",
              "  color: var(--sklearn-color-text-muted);\n",
              "}\n",
              "\n",
              "#sk-container-id-4 label.sk-toggleable__label-arrow:before {\n",
              "  /* Arrow on the left of the label */\n",
              "  content: \"▸\";\n",
              "  float: left;\n",
              "  margin-right: 0.25em;\n",
              "  color: var(--sklearn-color-icon);\n",
              "}\n",
              "\n",
              "#sk-container-id-4 label.sk-toggleable__label-arrow:hover:before {\n",
              "  color: var(--sklearn-color-text);\n",
              "}\n",
              "\n",
              "/* Toggleable content - dropdown */\n",
              "\n",
              "#sk-container-id-4 div.sk-toggleable__content {\n",
              "  max-height: 0;\n",
              "  max-width: 0;\n",
              "  overflow: hidden;\n",
              "  text-align: left;\n",
              "  /* unfitted */\n",
              "  background-color: var(--sklearn-color-unfitted-level-0);\n",
              "}\n",
              "\n",
              "#sk-container-id-4 div.sk-toggleable__content.fitted {\n",
              "  /* fitted */\n",
              "  background-color: var(--sklearn-color-fitted-level-0);\n",
              "}\n",
              "\n",
              "#sk-container-id-4 div.sk-toggleable__content pre {\n",
              "  margin: 0.2em;\n",
              "  border-radius: 0.25em;\n",
              "  color: var(--sklearn-color-text);\n",
              "  /* unfitted */\n",
              "  background-color: var(--sklearn-color-unfitted-level-0);\n",
              "}\n",
              "\n",
              "#sk-container-id-4 div.sk-toggleable__content.fitted pre {\n",
              "  /* unfitted */\n",
              "  background-color: var(--sklearn-color-fitted-level-0);\n",
              "}\n",
              "\n",
              "#sk-container-id-4 input.sk-toggleable__control:checked~div.sk-toggleable__content {\n",
              "  /* Expand drop-down */\n",
              "  max-height: 200px;\n",
              "  max-width: 100%;\n",
              "  overflow: auto;\n",
              "}\n",
              "\n",
              "#sk-container-id-4 input.sk-toggleable__control:checked~label.sk-toggleable__label-arrow:before {\n",
              "  content: \"▾\";\n",
              "}\n",
              "\n",
              "/* Pipeline/ColumnTransformer-specific style */\n",
              "\n",
              "#sk-container-id-4 div.sk-label input.sk-toggleable__control:checked~label.sk-toggleable__label {\n",
              "  color: var(--sklearn-color-text);\n",
              "  background-color: var(--sklearn-color-unfitted-level-2);\n",
              "}\n",
              "\n",
              "#sk-container-id-4 div.sk-label.fitted input.sk-toggleable__control:checked~label.sk-toggleable__label {\n",
              "  background-color: var(--sklearn-color-fitted-level-2);\n",
              "}\n",
              "\n",
              "/* Estimator-specific style */\n",
              "\n",
              "/* Colorize estimator box */\n",
              "#sk-container-id-4 div.sk-estimator input.sk-toggleable__control:checked~label.sk-toggleable__label {\n",
              "  /* unfitted */\n",
              "  background-color: var(--sklearn-color-unfitted-level-2);\n",
              "}\n",
              "\n",
              "#sk-container-id-4 div.sk-estimator.fitted input.sk-toggleable__control:checked~label.sk-toggleable__label {\n",
              "  /* fitted */\n",
              "  background-color: var(--sklearn-color-fitted-level-2);\n",
              "}\n",
              "\n",
              "#sk-container-id-4 div.sk-label label.sk-toggleable__label,\n",
              "#sk-container-id-4 div.sk-label label {\n",
              "  /* The background is the default theme color */\n",
              "  color: var(--sklearn-color-text-on-default-background);\n",
              "}\n",
              "\n",
              "/* On hover, darken the color of the background */\n",
              "#sk-container-id-4 div.sk-label:hover label.sk-toggleable__label {\n",
              "  color: var(--sklearn-color-text);\n",
              "  background-color: var(--sklearn-color-unfitted-level-2);\n",
              "}\n",
              "\n",
              "/* Label box, darken color on hover, fitted */\n",
              "#sk-container-id-4 div.sk-label.fitted:hover label.sk-toggleable__label.fitted {\n",
              "  color: var(--sklearn-color-text);\n",
              "  background-color: var(--sklearn-color-fitted-level-2);\n",
              "}\n",
              "\n",
              "/* Estimator label */\n",
              "\n",
              "#sk-container-id-4 div.sk-label label {\n",
              "  font-family: monospace;\n",
              "  font-weight: bold;\n",
              "  display: inline-block;\n",
              "  line-height: 1.2em;\n",
              "}\n",
              "\n",
              "#sk-container-id-4 div.sk-label-container {\n",
              "  text-align: center;\n",
              "}\n",
              "\n",
              "/* Estimator-specific */\n",
              "#sk-container-id-4 div.sk-estimator {\n",
              "  font-family: monospace;\n",
              "  border: 1px dotted var(--sklearn-color-border-box);\n",
              "  border-radius: 0.25em;\n",
              "  box-sizing: border-box;\n",
              "  margin-bottom: 0.5em;\n",
              "  /* unfitted */\n",
              "  background-color: var(--sklearn-color-unfitted-level-0);\n",
              "}\n",
              "\n",
              "#sk-container-id-4 div.sk-estimator.fitted {\n",
              "  /* fitted */\n",
              "  background-color: var(--sklearn-color-fitted-level-0);\n",
              "}\n",
              "\n",
              "/* on hover */\n",
              "#sk-container-id-4 div.sk-estimator:hover {\n",
              "  /* unfitted */\n",
              "  background-color: var(--sklearn-color-unfitted-level-2);\n",
              "}\n",
              "\n",
              "#sk-container-id-4 div.sk-estimator.fitted:hover {\n",
              "  /* fitted */\n",
              "  background-color: var(--sklearn-color-fitted-level-2);\n",
              "}\n",
              "\n",
              "/* Specification for estimator info (e.g. \"i\" and \"?\") */\n",
              "\n",
              "/* Common style for \"i\" and \"?\" */\n",
              "\n",
              ".sk-estimator-doc-link,\n",
              "a:link.sk-estimator-doc-link,\n",
              "a:visited.sk-estimator-doc-link {\n",
              "  float: right;\n",
              "  font-size: smaller;\n",
              "  line-height: 1em;\n",
              "  font-family: monospace;\n",
              "  background-color: var(--sklearn-color-background);\n",
              "  border-radius: 1em;\n",
              "  height: 1em;\n",
              "  width: 1em;\n",
              "  text-decoration: none !important;\n",
              "  margin-left: 0.5em;\n",
              "  text-align: center;\n",
              "  /* unfitted */\n",
              "  border: var(--sklearn-color-unfitted-level-1) 1pt solid;\n",
              "  color: var(--sklearn-color-unfitted-level-1);\n",
              "}\n",
              "\n",
              ".sk-estimator-doc-link.fitted,\n",
              "a:link.sk-estimator-doc-link.fitted,\n",
              "a:visited.sk-estimator-doc-link.fitted {\n",
              "  /* fitted */\n",
              "  border: var(--sklearn-color-fitted-level-1) 1pt solid;\n",
              "  color: var(--sklearn-color-fitted-level-1);\n",
              "}\n",
              "\n",
              "/* On hover */\n",
              "div.sk-estimator:hover .sk-estimator-doc-link:hover,\n",
              ".sk-estimator-doc-link:hover,\n",
              "div.sk-label-container:hover .sk-estimator-doc-link:hover,\n",
              ".sk-estimator-doc-link:hover {\n",
              "  /* unfitted */\n",
              "  background-color: var(--sklearn-color-unfitted-level-3);\n",
              "  color: var(--sklearn-color-background);\n",
              "  text-decoration: none;\n",
              "}\n",
              "\n",
              "div.sk-estimator.fitted:hover .sk-estimator-doc-link.fitted:hover,\n",
              ".sk-estimator-doc-link.fitted:hover,\n",
              "div.sk-label-container:hover .sk-estimator-doc-link.fitted:hover,\n",
              ".sk-estimator-doc-link.fitted:hover {\n",
              "  /* fitted */\n",
              "  background-color: var(--sklearn-color-fitted-level-3);\n",
              "  color: var(--sklearn-color-background);\n",
              "  text-decoration: none;\n",
              "}\n",
              "\n",
              "/* Span, style for the box shown on hovering the info icon */\n",
              ".sk-estimator-doc-link span {\n",
              "  display: none;\n",
              "  z-index: 9999;\n",
              "  position: relative;\n",
              "  font-weight: normal;\n",
              "  right: .2ex;\n",
              "  padding: .5ex;\n",
              "  margin: .5ex;\n",
              "  width: min-content;\n",
              "  min-width: 20ex;\n",
              "  max-width: 50ex;\n",
              "  color: var(--sklearn-color-text);\n",
              "  box-shadow: 2pt 2pt 4pt #999;\n",
              "  /* unfitted */\n",
              "  background: var(--sklearn-color-unfitted-level-0);\n",
              "  border: .5pt solid var(--sklearn-color-unfitted-level-3);\n",
              "}\n",
              "\n",
              ".sk-estimator-doc-link.fitted span {\n",
              "  /* fitted */\n",
              "  background: var(--sklearn-color-fitted-level-0);\n",
              "  border: var(--sklearn-color-fitted-level-3);\n",
              "}\n",
              "\n",
              ".sk-estimator-doc-link:hover span {\n",
              "  display: block;\n",
              "}\n",
              "\n",
              "/* \"?\"-specific style due to the `<a>` HTML tag */\n",
              "\n",
              "#sk-container-id-4 a.estimator_doc_link {\n",
              "  float: right;\n",
              "  font-size: 1rem;\n",
              "  line-height: 1em;\n",
              "  font-family: monospace;\n",
              "  background-color: var(--sklearn-color-background);\n",
              "  border-radius: 1rem;\n",
              "  height: 1rem;\n",
              "  width: 1rem;\n",
              "  text-decoration: none;\n",
              "  /* unfitted */\n",
              "  color: var(--sklearn-color-unfitted-level-1);\n",
              "  border: var(--sklearn-color-unfitted-level-1) 1pt solid;\n",
              "}\n",
              "\n",
              "#sk-container-id-4 a.estimator_doc_link.fitted {\n",
              "  /* fitted */\n",
              "  border: var(--sklearn-color-fitted-level-1) 1pt solid;\n",
              "  color: var(--sklearn-color-fitted-level-1);\n",
              "}\n",
              "\n",
              "/* On hover */\n",
              "#sk-container-id-4 a.estimator_doc_link:hover {\n",
              "  /* unfitted */\n",
              "  background-color: var(--sklearn-color-unfitted-level-3);\n",
              "  color: var(--sklearn-color-background);\n",
              "  text-decoration: none;\n",
              "}\n",
              "\n",
              "#sk-container-id-4 a.estimator_doc_link.fitted:hover {\n",
              "  /* fitted */\n",
              "  background-color: var(--sklearn-color-fitted-level-3);\n",
              "}\n",
              "</style><div id=\"sk-container-id-4\" class=\"sk-top-container\"><div class=\"sk-text-repr-fallback\"><pre>RandomizedSearchCV(cv=3,\n",
              "                   estimator=XGBClassifier(base_score=None, booster=None,\n",
              "                                           callbacks=None,\n",
              "                                           colsample_bylevel=None,\n",
              "                                           colsample_bynode=None,\n",
              "                                           colsample_bytree=None, device=None,\n",
              "                                           early_stopping_rounds=None,\n",
              "                                           enable_categorical=False,\n",
              "                                           eval_metric=&#x27;merror&#x27;,\n",
              "                                           feature_types=None,\n",
              "                                           feature_weights=None, gamma=None,\n",
              "                                           grow_policy=None,\n",
              "                                           importance_type=None,\n",
              "                                           interaction_const...\n",
              "                                           monotone_constraints=None,\n",
              "                                           multi_strategy=None,\n",
              "                                           n_estimators=None, n_jobs=None,\n",
              "                                           num_class=3, ...),\n",
              "                   n_iter=20, n_jobs=-1,\n",
              "                   param_distributions={&#x27;colsample_bytree&#x27;: [0.8, 1.0],\n",
              "                                        &#x27;gamma&#x27;: [0, 0.1, 0.5],\n",
              "                                        &#x27;learning_rate&#x27;: [0.01, 0.1, 0.3],\n",
              "                                        &#x27;max_depth&#x27;: [3, 5, 7],\n",
              "                                        &#x27;min_child_weight&#x27;: [1, 3, 5],\n",
              "                                        &#x27;n_estimators&#x27;: [50, 100, 200],\n",
              "                                        &#x27;subsample&#x27;: [0.8, 1.0]},\n",
              "                   random_state=123, scoring=&#x27;accuracy&#x27;, verbose=1)</pre><b>In a Jupyter environment, please rerun this cell to show the HTML representation or trust the notebook. <br />On GitHub, the HTML representation is unable to render, please try loading this page with nbviewer.org.</b></div><div class=\"sk-container\" hidden><div class=\"sk-item sk-dashed-wrapped\"><div class=\"sk-label-container\"><div class=\"sk-label fitted sk-toggleable\"><input class=\"sk-toggleable__control sk-hidden--visually\" id=\"sk-estimator-id-8\" type=\"checkbox\" ><label for=\"sk-estimator-id-8\" class=\"sk-toggleable__label fitted sk-toggleable__label-arrow\"><div><div>RandomizedSearchCV</div></div><div><a class=\"sk-estimator-doc-link fitted\" rel=\"noreferrer\" target=\"_blank\" href=\"https://scikit-learn.org/1.6/modules/generated/sklearn.model_selection.RandomizedSearchCV.html\">?<span>Documentation for RandomizedSearchCV</span></a><span class=\"sk-estimator-doc-link fitted\">i<span>Fitted</span></span></div></label><div class=\"sk-toggleable__content fitted\"><pre>RandomizedSearchCV(cv=3,\n",
              "                   estimator=XGBClassifier(base_score=None, booster=None,\n",
              "                                           callbacks=None,\n",
              "                                           colsample_bylevel=None,\n",
              "                                           colsample_bynode=None,\n",
              "                                           colsample_bytree=None, device=None,\n",
              "                                           early_stopping_rounds=None,\n",
              "                                           enable_categorical=False,\n",
              "                                           eval_metric=&#x27;merror&#x27;,\n",
              "                                           feature_types=None,\n",
              "                                           feature_weights=None, gamma=None,\n",
              "                                           grow_policy=None,\n",
              "                                           importance_type=None,\n",
              "                                           interaction_const...\n",
              "                                           monotone_constraints=None,\n",
              "                                           multi_strategy=None,\n",
              "                                           n_estimators=None, n_jobs=None,\n",
              "                                           num_class=3, ...),\n",
              "                   n_iter=20, n_jobs=-1,\n",
              "                   param_distributions={&#x27;colsample_bytree&#x27;: [0.8, 1.0],\n",
              "                                        &#x27;gamma&#x27;: [0, 0.1, 0.5],\n",
              "                                        &#x27;learning_rate&#x27;: [0.01, 0.1, 0.3],\n",
              "                                        &#x27;max_depth&#x27;: [3, 5, 7],\n",
              "                                        &#x27;min_child_weight&#x27;: [1, 3, 5],\n",
              "                                        &#x27;n_estimators&#x27;: [50, 100, 200],\n",
              "                                        &#x27;subsample&#x27;: [0.8, 1.0]},\n",
              "                   random_state=123, scoring=&#x27;accuracy&#x27;, verbose=1)</pre></div> </div></div><div class=\"sk-parallel\"><div class=\"sk-parallel-item\"><div class=\"sk-item\"><div class=\"sk-label-container\"><div class=\"sk-label fitted sk-toggleable\"><input class=\"sk-toggleable__control sk-hidden--visually\" id=\"sk-estimator-id-9\" type=\"checkbox\" ><label for=\"sk-estimator-id-9\" class=\"sk-toggleable__label fitted sk-toggleable__label-arrow\"><div><div>best_estimator_: XGBClassifier</div></div></label><div class=\"sk-toggleable__content fitted\"><pre>XGBClassifier(base_score=None, booster=None, callbacks=None,\n",
              "              colsample_bylevel=None, colsample_bynode=None,\n",
              "              colsample_bytree=1.0, device=None, early_stopping_rounds=None,\n",
              "              enable_categorical=False, eval_metric=&#x27;merror&#x27;,\n",
              "              feature_types=None, feature_weights=None, gamma=0.5,\n",
              "              grow_policy=None, importance_type=None,\n",
              "              interaction_constraints=None, learning_rate=0.01, max_bin=None,\n",
              "              max_cat_threshold=None, max_cat_to_onehot=None,\n",
              "              max_delta_step=None, max_depth=3, max_leaves=None,\n",
              "              min_child_weight=1, missing=nan, monotone_constraints=None,\n",
              "              multi_strategy=None, n_estimators=200, n_jobs=None, num_class=3, ...)</pre></div> </div></div><div class=\"sk-serial\"><div class=\"sk-item\"><div class=\"sk-estimator fitted sk-toggleable\"><input class=\"sk-toggleable__control sk-hidden--visually\" id=\"sk-estimator-id-10\" type=\"checkbox\" ><label for=\"sk-estimator-id-10\" class=\"sk-toggleable__label fitted sk-toggleable__label-arrow\"><div><div>XGBClassifier</div></div><div><a class=\"sk-estimator-doc-link fitted\" rel=\"noreferrer\" target=\"_blank\" href=\"https://xgboost.readthedocs.io/en/release_3.0.0/python/python_api.html#xgboost.XGBClassifier\">?<span>Documentation for XGBClassifier</span></a></div></label><div class=\"sk-toggleable__content fitted\"><pre>XGBClassifier(base_score=None, booster=None, callbacks=None,\n",
              "              colsample_bylevel=None, colsample_bynode=None,\n",
              "              colsample_bytree=1.0, device=None, early_stopping_rounds=None,\n",
              "              enable_categorical=False, eval_metric=&#x27;merror&#x27;,\n",
              "              feature_types=None, feature_weights=None, gamma=0.5,\n",
              "              grow_policy=None, importance_type=None,\n",
              "              interaction_constraints=None, learning_rate=0.01, max_bin=None,\n",
              "              max_cat_threshold=None, max_cat_to_onehot=None,\n",
              "              max_delta_step=None, max_depth=3, max_leaves=None,\n",
              "              min_child_weight=1, missing=nan, monotone_constraints=None,\n",
              "              multi_strategy=None, n_estimators=200, n_jobs=None, num_class=3, ...)</pre></div> </div></div></div></div></div></div></div></div></div>"
            ],
            "text/plain": [
              "RandomizedSearchCV(cv=3,\n",
              "                   estimator=XGBClassifier(base_score=None, booster=None,\n",
              "                                           callbacks=None,\n",
              "                                           colsample_bylevel=None,\n",
              "                                           colsample_bynode=None,\n",
              "                                           colsample_bytree=None, device=None,\n",
              "                                           early_stopping_rounds=None,\n",
              "                                           enable_categorical=False,\n",
              "                                           eval_metric='merror',\n",
              "                                           feature_types=None,\n",
              "                                           feature_weights=None, gamma=None,\n",
              "                                           grow_policy=None,\n",
              "                                           importance_type=None,\n",
              "                                           interaction_const...\n",
              "                                           monotone_constraints=None,\n",
              "                                           multi_strategy=None,\n",
              "                                           n_estimators=None, n_jobs=None,\n",
              "                                           num_class=3, ...),\n",
              "                   n_iter=20, n_jobs=-1,\n",
              "                   param_distributions={'colsample_bytree': [0.8, 1.0],\n",
              "                                        'gamma': [0, 0.1, 0.5],\n",
              "                                        'learning_rate': [0.01, 0.1, 0.3],\n",
              "                                        'max_depth': [3, 5, 7],\n",
              "                                        'min_child_weight': [1, 3, 5],\n",
              "                                        'n_estimators': [50, 100, 200],\n",
              "                                        'subsample': [0.8, 1.0]},\n",
              "                   random_state=123, scoring='accuracy', verbose=1)"
            ]
          },
          "execution_count": 45,
          "metadata": {},
          "output_type": "execute_result"
        }
      ],
      "source": [
        "from sklearn.model_selection import RandomizedSearchCV\n",
        "from sklearn.metrics import accuracy_score, confusion_matrix\n",
        "import xgboost as xgb\n",
        "\n",
        "param_grid = {\n",
        "    'max_depth': [3, 5, 7],\n",
        "    'learning_rate': [0.01, 0.1, 0.3],\n",
        "    'n_estimators': [50, 100, 200],\n",
        "    'subsample': [0.8, 1.0],\n",
        "    'colsample_bytree': [0.8, 1.0],\n",
        "    'min_child_weight': [1, 3, 5],\n",
        "    'gamma': [0, 0.1, 0.5]\n",
        "}\n",
        "\n",
        "# Initialize XGBClassifier\n",
        "xgb_model_classification = xgb.XGBClassifier(\n",
        "    objective='multi:softmax',\n",
        "    num_class=3,\n",
        "    eval_metric='merror',\n",
        "    random_state=123\n",
        ")\n",
        "\n",
        "# Initialize RandomizedSearchCV\n",
        "random_search = RandomizedSearchCV(\n",
        "    estimator=xgb_model_classification,\n",
        "    param_distributions=param_grid,\n",
        "    n_iter=20,\n",
        "    scoring='accuracy',\n",
        "    cv=3,\n",
        "    verbose=1,\n",
        "    n_jobs=-1,\n",
        "    random_state=123\n",
        ")\n",
        "\n",
        "# Fit RandomizedSearchCV\n",
        "random_search.fit(X_train_classification, y_train_classification)"
      ]
    },
    {
      "cell_type": "markdown",
      "metadata": {
        "id": "JE0H5GJ5k5z5"
      },
      "source": [
        "##### The Best Parameters"
      ]
    },
    {
      "cell_type": "code",
      "execution_count": 46,
      "metadata": {
        "colab": {
          "base_uri": "https://localhost:8080/"
        },
        "id": "pQ5V-jdqk_Ro",
        "outputId": "2823fd08-44ce-4174-e6e4-a66b379f8d6f"
      },
      "outputs": [
        {
          "name": "stdout",
          "output_type": "stream",
          "text": [
            "\n",
            "Best Parameters for Classification:\n",
            "{'subsample': 1.0, 'n_estimators': 100, 'max_depth': 3, 'learning_rate': 0.01, 'colsample_bytree': 1.0}\n"
          ]
        }
      ],
      "source": [
        "# Print the best parameters found during hyperparameter tuning for classification\n",
        "print(\"\\nBest Parameters for Classification:\")\n",
        "print(random_search.best_params_)"
      ]
    },
    {
      "cell_type": "markdown",
      "metadata": {
        "id": "zQ0l-7_HlDhA"
      },
      "source": [
        "#### Train Final Model with Best Parameters with Early Stopping"
      ]
    },
    {
      "cell_type": "code",
      "execution_count": 50,
      "metadata": {},
      "outputs": [],
      "source": [
        "# Fit Model with Early Stopping\n",
        "early_stopping_model = xgb.train(\n",
        "    params=best_params,\n",
        "    dtrain=dtrain_classification,\n",
        "    num_boost_round=1000,\n",
        "    evals=[(dtrain_classification, 'train'), (dtest_classification, 'test')],\n",
        "    early_stopping_rounds=10,\n",
        "    verbose_eval=False\n",
        ")\n"
      ]
    },
    {
      "cell_type": "markdown",
      "metadata": {
        "id": "Tx6tVeXzlMNT"
      },
      "source": [
        "##### Predictions and Evaluation"
      ]
    },
    {
      "cell_type": "code",
      "execution_count": 51,
      "metadata": {
        "colab": {
          "base_uri": "https://localhost:8080/"
        },
        "id": "VNc2qbtelNAu",
        "outputId": "2bddb017-3992-4e65-8d9f-1d8d45fd7497"
      },
      "outputs": [
        {
          "name": "stdout",
          "output_type": "stream",
          "text": [
            "Final Model (Early Stopping) - Accuracy: 0.77\n",
            "\n",
            "Classification Report (Final Model):\n",
            "              precision    recall  f1-score   support\n",
            "\n",
            "           0       0.79      0.71      0.74        95\n",
            "           1       0.73      0.84      0.78        97\n",
            "           2       0.81      0.78      0.79        98\n",
            "\n",
            "    accuracy                           0.77       290\n",
            "   macro avg       0.78      0.77      0.77       290\n",
            "weighted avg       0.78      0.77      0.77       290\n",
            "\n"
          ]
        },
        {
          "data": {
            "image/png": "[encoded data removed]",
            "text/plain": [
              "<Figure size 800x600 with 2 Axes>"
            ]
          },
          "metadata": {},
          "output_type": "display_data"
        }
      ],
      "source": [
        "# Prediction and Evaluation (Final Model with Early Stopping)\n",
        "y_pred_final = early_stopping_model.predict(dtest_classification)\n",
        "y_pred_final = y_pred_final.astype(int)  # Ensure predictions are integers\n",
        "accuracy_final = accuracy_score(y_test_classification, y_pred_final)\n",
        "print(f\"Final Model (Early Stopping) - Accuracy: {accuracy_final:.2f}\")\n",
        "print(\"\\nClassification Report (Final Model):\")\n",
        "print(classification_report(y_test_classification, y_pred_final))\n",
        "cm_final = confusion_matrix(y_test_classification, y_pred_final)\n",
        "plt.figure(figsize=(8, 6))S\n",
        "sns.heatmap(cm_final, annot=True, fmt='d', cmap='Blues')\n",
        "plt.title('Confusion Matrix - Final Model with Early Stopping')\n",
        "plt.xlabel('Predicted')\n",
        "plt.ylabel('Actual')\n",
        "plt.show()"
      ]
    },
    {
      "cell_type": "markdown",
      "metadata": {
        "id": "a-JpJLkCZbAz"
      },
      "source": [
        "##### Feature Importance\n",
        "\n"
      ]
    },
    {
      "cell_type": "code",
      "execution_count": 53,
      "metadata": {
        "colab": {
          "base_uri": "https://localhost:8080/",
          "height": 504
        },
        "id": "lWflJ_FPZoso",
        "outputId": "88e426a2-a836-4510-c870-073ee78fe684"
      },
      "outputs": [
        {
          "data": {
            "text/plain": [
              "<Figure size 1000x600 with 0 Axes>"
            ]
          },
          "metadata": {},
          "output_type": "display_data"
        },
        {
          "data": {
            "image/png": "[encoded data removed]",
            "text/plain": [
              "<Figure size 640x480 with 1 Axes>"
            ]
          },
          "metadata": {},
          "output_type": "display_data"
        }
      ],
      "source": [
        "# Variable Importance (Final Model)\n",
        "plt.figure(figsize=(10, 6))\n",
        "xgb.plot_importance(early_stopping_model, max_num_features=10)\n",
        "plt.title(\"Feature Importance - Final Model with Early Stopping\")\n",
        "plt.show()"
      ]
    },
    {
      "cell_type": "markdown",
      "metadata": {
        "id": "256d8e5a"
      },
      "source": [
        "## Summary and Conclusion\n",
        "\n",
        "This notebook provided a comprehensive overview of Extreme Gradient Boosting (XGBoost), a powerful and widely-used machine learning algorithm. We began by explaining the core concepts of XGBoost, including its objective function, additive training, second-order approximation, and tree structure optimization. Key features, advantages, and limitations of XGBoost were discussed, along with a comparison to other tree-based ensemble methods like GBM, LightGBM, and Random Forest.\n",
        "\n",
        "A simplified implementation of XGBoost from scratch was demonstrated, illustrating the fundamental steps involved in building and training an XGBoost model for both regression and classification tasks. This hands-on approach helped in understanding the internal workings of the algorithm.\n",
        "\n",
        "Subsequently, we delved into using the official XGBoost Python package, highlighting its key functions and demonstrating its application to real-world datasets. For regression, we used the Boston Housing dataset to showcase data preparation, initial model fitting, hyperparameter tuning using GridSearchCV, evaluating the final model, visualizing observed vs. predicted values, and analyzing feature importance. Early stopping was also implemented as a technique to prevent overfitting.\n",
        "\n",
        "For classification, we utilized a health insurance dataset to predict product types. Similar steps were followed, including data preparation, initial model fitting, hyperparameter tuning, evaluating the final model using accuracy and confusion matrix, and visualizing feature importance for the classification task.\n",
        "\n",
        "In conclusion, XGBoost is a highly effective and versatile algorithm for both regression and classification problems. Its optimized implementation, regularization techniques, and flexibility make it a go-to choice for many machine learning tasks. While it requires careful hyperparameter tuning and can be computationally intensive for extremely large datasets, its performance and feature importance capabilities make it a valuable tool in the data scientist's arsenal. The practical examples in this notebook demonstrated how to effectively apply XGBoost using its Python package, including crucial steps like hyperparameter tuning and model evaluation."
      ]
    },
    {
      "cell_type": "markdown",
      "metadata": {
        "id": "ACNQyq1seLc7"
      },
      "source": [
        "\n",
        "## References\n",
        "\n",
        "1.  Chen, T., & Guestrin, C. (2016). *XGBoost: A Scalable Tree Boosting System*. In *KDD '16* (pp. 785–794). arXiv:1603.02754.\n",
        "\n",
        "2.  Kuhn, M., & Johnson, K. (2019). *Applied Predictive Modeling*. Springer. ISBN: 978-1461468486.\n",
        "\n",
        "3.  Zhang, Y., & Haghani, A. (2015). *A gradient boosting method to improve travel time prediction*. *Transportation Research Part C*, 58, 308–324. DOI: 10.1016/j.trc.2015.02.019.\n",
        "\n",
        "Here are some useful online resources for XGBoost in Python:\n",
        "\n",
        "*   **XGBoost Official Python Documentation:** [https://xgboost.readthedocs.io/en/stable/python/python_api.html](https://xgboost.readthedocs.io/en/stable/python/python_api.html)\n",
        "*   **XGBoost GitHub Repository:** [https://github.com/dmlc/xgboost](https://github.com/dmlc/xgboost)\n",
        "*   **Kaggle Learn - Intro to Gradient Boosting:** [https://www.kaggle.com/learn/intro-to-gradient-boosting](https://www.kaggle.com/learn/intro-to-gradient-boosting)\n"
      ]
    }
  ],
  "metadata": {
    "colab": {
      "authorship_tag": "ABX9TyMAar//gMaHN0hZeX5hL1Wv",
      "include_colab_link": true,
      "provenance": [],
      "toc_visible": true
    },
    "kernelspec": {
      "display_name": "3.11.11",
      "language": "python",
      "name": "python3"
    },
    "language_info": {
      "codemirror_mode": {
        "name": "ipython",
        "version": 3
      },
      "file_extension": ".py",
      "mimetype": "text/x-python",
      "name": "python",
      "nbconvert_exporter": "python",
      "pygments_lexer": "ipython3",
      "version": "3.11.11"
    }
  },
  "nbformat": 4,
  "nbformat_minor": 0
}
