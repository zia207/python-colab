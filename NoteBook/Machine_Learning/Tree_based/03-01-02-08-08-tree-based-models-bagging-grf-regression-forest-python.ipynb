{
  "cells": [
    {
      "cell_type": "markdown",
      "metadata": {
        "id": "view-in-github",
        "colab_type": "text"
      },
      "source": [
        "<a href=\"https://colab.research.google.com/github/zia207/python-colab/blob/main/NoteBook/Machine_Learning/Tree_based/03-01-02-08-08-tree-based-models-bagging-grf-regression-forest-python.ipynb\" target=\"_parent\"><img src=\"https://colab.research.google.com/assets/colab-badge.svg\" alt=\"Open In Colab\"/></a>"
      ]
    },
    {
      "cell_type": "markdown",
      "metadata": {
        "id": "zYZbTX0qQrZb"
      },
      "source": [
        "![alt text](http://drive.google.com/uc?export=view&id=1xLlN9eEG2IYFBlAuwl53aDVxcBkRnkEw)"
      ]
    },
    {
      "cell_type": "markdown",
      "metadata": {
        "id": "RGBfrL2GQoII"
      },
      "source": [
        "# 2.8.8 Regression Forest\n",
        "\n",
        "A **Regression Forest** is a machine learning model that extends the random forest algorithm to predict continuous outcomes (regression tasks). It consists of an ensemble of decision trees, each trained on a random subset of the data and features, to estimate the conditional mean $E[Y|X=x]$, where $Y$ is the outcome and $X$ are the features. Here's a concise overview:\n",
        "\n"
      ]
    },
    {
      "cell_type": "markdown",
      "metadata": {
        "id": "S77MsgmqIYD0"
      },
      "source": [
        "## Overview\n",
        "\n",
        "A regression forest is an ensemble learning method that extends the random forest algorithm, originally proposed by Breiman (2001), to predict continuous outcomes (regression) or estimate causal effects. It combines multiple decision trees, each trained on a random subset of the data and features, to produce robust and accurate predictions. The key idea is to average the predictions of many trees to reduce variance and improve generalization. However, A regression forest in the {grf} package in R differs from a regular random forest (as implemented in packages like {randomForest} or {ranger}) in several key ways, primarily due to its focus on advanced statistical tasks like `causal inference`, `honest estimation,` and flexibility for `heterogeneous treatment effects`. The regression forest in {grf} is specifically used to estimate conditional mean outcomes, i.e., predicting a continuous outcome variable based on covariates.\n",
        "\n"
      ]
    },
    {
      "cell_type": "markdown",
      "source": [
        "### Key Features of Regression Forests\n",
        "\n",
        "- **Ensemble of Trees**: Combines predictions from multiple decision trees (e.g., hundreds or thousands) to reduce overfitting and improve accuracy.\n",
        "- **Randomization**: Each tree is trained on:\n",
        "  - A random subsample of the data (via bootstrapping or subsampling).\n",
        "  - A random subset of features at each split.\n",
        "- **Prediction**: The final prediction is the average of the predictions from all trees, providing a robust estimate of the expected outcome.\n",
        "- **Honest Splitting** (in some implementations): Splits data into two parts—one for choosing tree splits and another for estimating outcomes in leaves—to reduce bias.\n",
        "- **Confidence Intervals** (in advanced implementations): Can provide uncertainty estimates for predictions, e.g., via bootstrap methods.\n",
        "\n",
        "`Specific to `econml.grf.RegressionForest` (Python)`\n",
        "- Part of the `econml` library, designed for econometrics and causal inference.\n",
        "- Built on scikit-learn’s regression trees, supporting honest splitting and confidence intervals via a \"bootstrap-of-little-bags\" approach.\n",
        "- Used for estimating $E[Y|X=x]$ or as a component in causal models (e.g., `CausalForest`).\n",
        "- Key parameters: `n_estimators`, `max_depth`, `max_samples`, `honest`.\n",
        "\n",
        "\n",
        "\n"
      ],
      "metadata": {
        "id": "EnR-z3S9vTpk"
      }
    },
    {
      "cell_type": "markdown",
      "metadata": {
        "id": "VwEoykvwI2dS"
      },
      "source": [
        "### How It Work\n",
        "\n",
        "The `{grf}` package provides the `regression_forest()` function to build a regression forest. Here’s a high-level overview of how it works:\n",
        "\n",
        "1. Input Data\n",
        "\n",
        "   - A matrix of features ($X$) and a vector of continuous outcomes ($YY).\n",
        "   - Optional parameters like the number of trees, minimum node size, and honesty settings.\n",
        "\n",
        "2. Tree Construction\n",
        "\n",
        "   - For each tree, a random subset of the data is sampled (with replacement, i.e., bootstrapping).\n",
        "   - At each node, a random subset of features is considered, and the best split is chosen to minimize a loss function (e.g., mean squared error for regression).\n",
        "   - If honesty is enabled, the data is split into two parts: one for building the tree structure and another for estimating leaf values.\n",
        "\n",
        "3. Prediction\n",
        "\n",
        "   - For a new data point, each tree predicts an outcome based on the leaf it falls into.\n",
        "   - The final prediction is the average of all tree predictions (or a weighted average in some cases).\n",
        "\n",
        "4. Output\n",
        "\n",
        "   - For standard regression, the output is a predicted value for each input.\n",
        "   - For causal inference tasks (using `causal_forest()`), the output includes estimated treatment effects or other statistical quantities.\n"
      ]
    },
    {
      "cell_type": "markdown",
      "metadata": {
        "id": "bIBhNo81s-Nt"
      },
      "source": [
        "\n",
        "### Advantages of Regression Forests\n",
        "\n",
        "- `Flexibility`: Handles standard regression, causal inference, and quantile regression in one framework.\n",
        "- `Robustness`: Performs well in high-dimensional settings and with noisy data.\n",
        "- `Causal Inference`: Unique in its ability to estimate heterogeneous treatment effects, which is critical in fields like economics, medicine, and policy analysis.\n",
        "- `Honesty`: Reduces bias in predictions, especially for causal inference tasks.\n",
        "- `Scalability`: Efficiently handles large datasets with many features.\n"
      ]
    },
    {
      "cell_type": "markdown",
      "source": [
        "### Limitations\n",
        "\n",
        "- `Computational Cost`: Training a large number of trees on big datasets can be slow, though `{grf}` is optimized for performance.\n",
        "- `Interpretability`: While variable importance measures are available, random forests are less interpretable than simpler models like linear regression.\n",
        "- `Tuning`: Requires careful tuning of parameters (e.g., number of trees, node size) for optimal performance."
      ],
      "metadata": {
        "id": "NmMsBJhJvpJR"
      }
    },
    {
      "cell_type": "markdown",
      "source": [
        "### Key differences between Regression Forests in `{grf}` and Regular Random Forests\n",
        "\n",
        "\n",
        "A **regression forest** in the `{grf}` package in R differs from a **regular random forest** (as implemented in packages like `{randomForest}` or `{ranger}`) in several key ways, primarily due to its focus on advanced statistical tasks like causal inference, honest estimation, and flexibility for heterogeneous treatment effects. Below, I outline the main differences in a concise and structured manner:\n",
        "\n",
        "\n",
        "| Feature                     | Regular Random Forest | Regression Forest in `{grf}` |\n",
        "|-----------------------------|-----------------------|-----------------------------|\n",
        "| `Primary Use`             | Prediction            | Prediction, Causal Inference, Quantile Regression |\n",
        "| `Honest Splitting`        | No                    | Yes (reduces bias)          |\n",
        "| `Causal Inference`        | Limited               | Built-in (`causal_forest`)  |\n",
        "| `Local Linear Corrections`| No                    | Yes                         |\n",
        "| `Quantile Regression`     | Limited (requires add-ons) | Built-in (`quantile_forest`) |\n",
        "| `Statistical Inference`   | Minimal               | Confidence intervals, asymptotic guarantees |\n",
        "| `Theoretical Grounding`   | Empirical             | Advanced (Athey & Wager)    |\n",
        "| `Speed`                   | Faster                | Slower (due to rigor)       |\n",
        "\n",
        "\n"
      ],
      "metadata": {
        "id": "-u2tkR3KvrbW"
      }
    },
    {
      "cell_type": "markdown",
      "metadata": {
        "id": "bh7jEhGCLDZA"
      },
      "source": [
        "## Regression Forest with Python\n",
        "\n",
        "The `RegressionForest` of {EconML} is a flexible estimator for regression tasks and can be used as a base learner in meta-learners or by itself for non-causal regression. Below is a basic example of using RegressionForest in Python with EconML.\n",
        "\n",
        "\n",
        "\n",
        "\n"
      ]
    },
    {
      "cell_type": "code",
      "source": [
        "!pip install econml"
      ],
      "metadata": {
        "id": "92DRTtij0Fsb"
      },
      "execution_count": null,
      "outputs": []
    },
    {
      "cell_type": "code",
      "source": [
        "import pandas as pd\n",
        "import numpy as np\n",
        "from econml.grf import RegressionForest\n",
        "from sklearn.model_selection import train_test_split, cross_val_score\n",
        "from sklearn.metrics import mean_squared_error, r2_score\n",
        "import matplotlib.pyplot as plt"
      ],
      "metadata": {
        "id": "4pRnJyJQ0EqN"
      },
      "execution_count": 3,
      "outputs": []
    },
    {
      "cell_type": "markdown",
      "metadata": {
        "id": "IPobetr0zFC5"
      },
      "source": [
        "### Load and Prepare the Dataset\n",
        "\n",
        "The lung dataset contains survival data for lung cancer patients with variables like `time` (survival time), `status` (censoring indicator), `age`, s`ex`, and `ph.ecog` (ECOG performance score). We’ll simulate a binary `health_status `variable (1 = improved, 0 = not improved) and use age, sex, and ph.ecog as covariates.\n"
      ]
    },
    {
      "cell_type": "code",
      "source": [
        "# Load and prepare the Boston Housing dataset\n",
        "data_url = \"http://lib.stat.cmu.edu/datasets/boston\"\n",
        "raw_df = pd.read_csv(data_url, sep=\"\\s+\", skiprows=22, header=None)\n",
        "data = np.hstack([raw_df.values[::2, :], raw_df.values[1::2, :2]])\n",
        "target = raw_df.values[1::2, 2]\n",
        "feature_names = ['CRIM', 'ZN', 'INDUS', 'CHAS', 'NOX', 'RM', 'AGE', 'DIS', 'RAD', 'TAX', 'PTRATIO', 'B', 'LSTAT']\n",
        "boston_df = pd.DataFrame(data, columns=feature_names)\n",
        "boston_df['medv'] = target\n",
        "boston_df = boston_df.dropna()\n",
        "\n",
        "# Prepare features and target\n",
        "X = boston_df[feature_names]\n",
        "y = boston_df['medv']\n",
        "\n",
        "# Split data into training and testing sets\n",
        "X_train, X_test, y_train, y_test = train_test_split(X, y, test_size=0.2, random_state=42)"
      ],
      "metadata": {
        "id": "AghRAMOs1Lrd"
      },
      "execution_count": 4,
      "outputs": []
    },
    {
      "cell_type": "markdown",
      "metadata": {
        "id": "jxK5d0frBs8O"
      },
      "source": [
        "### Fit Regression Forest Model\n",
        "\n",
        "regression_forest() is a function from the `{grf}` package that fits a regression forest model to the training data. It uses the features (X_train) and target variable (Y_train) to build the model, with options for the number of trees and honesty."
      ]
    },
    {
      "cell_type": "code",
      "execution_count": 5,
      "metadata": {
        "id": "Ou9edbC9Bt5M",
        "colab": {
          "base_uri": "https://localhost:8080/",
          "height": 80
        },
        "outputId": "38a45768-78ae-4c6f-e24a-f487deae7caf"
      },
      "outputs": [
        {
          "output_type": "execute_result",
          "data": {
            "text/plain": [
              "RegressionForest(max_depth=10, n_estimators=1000, random_state=42)"
            ],
            "text/html": [
              "<style>#sk-container-id-1 {\n",
              "  /* Definition of color scheme common for light and dark mode */\n",
              "  --sklearn-color-text: #000;\n",
              "  --sklearn-color-text-muted: #666;\n",
              "  --sklearn-color-line: gray;\n",
              "  /* Definition of color scheme for unfitted estimators */\n",
              "  --sklearn-color-unfitted-level-0: #fff5e6;\n",
              "  --sklearn-color-unfitted-level-1: #f6e4d2;\n",
              "  --sklearn-color-unfitted-level-2: #ffe0b3;\n",
              "  --sklearn-color-unfitted-level-3: chocolate;\n",
              "  /* Definition of color scheme for fitted estimators */\n",
              "  --sklearn-color-fitted-level-0: #f0f8ff;\n",
              "  --sklearn-color-fitted-level-1: #d4ebff;\n",
              "  --sklearn-color-fitted-level-2: #b3dbfd;\n",
              "  --sklearn-color-fitted-level-3: cornflowerblue;\n",
              "\n",
              "  /* Specific color for light theme */\n",
              "  --sklearn-color-text-on-default-background: var(--sg-text-color, var(--theme-code-foreground, var(--jp-content-font-color1, black)));\n",
              "  --sklearn-color-background: var(--sg-background-color, var(--theme-background, var(--jp-layout-color0, white)));\n",
              "  --sklearn-color-border-box: var(--sg-text-color, var(--theme-code-foreground, var(--jp-content-font-color1, black)));\n",
              "  --sklearn-color-icon: #696969;\n",
              "\n",
              "  @media (prefers-color-scheme: dark) {\n",
              "    /* Redefinition of color scheme for dark theme */\n",
              "    --sklearn-color-text-on-default-background: var(--sg-text-color, var(--theme-code-foreground, var(--jp-content-font-color1, white)));\n",
              "    --sklearn-color-background: var(--sg-background-color, var(--theme-background, var(--jp-layout-color0, #111)));\n",
              "    --sklearn-color-border-box: var(--sg-text-color, var(--theme-code-foreground, var(--jp-content-font-color1, white)));\n",
              "    --sklearn-color-icon: #878787;\n",
              "  }\n",
              "}\n",
              "\n",
              "#sk-container-id-1 {\n",
              "  color: var(--sklearn-color-text);\n",
              "}\n",
              "\n",
              "#sk-container-id-1 pre {\n",
              "  padding: 0;\n",
              "}\n",
              "\n",
              "#sk-container-id-1 input.sk-hidden--visually {\n",
              "  border: 0;\n",
              "  clip: rect(1px 1px 1px 1px);\n",
              "  clip: rect(1px, 1px, 1px, 1px);\n",
              "  height: 1px;\n",
              "  margin: -1px;\n",
              "  overflow: hidden;\n",
              "  padding: 0;\n",
              "  position: absolute;\n",
              "  width: 1px;\n",
              "}\n",
              "\n",
              "#sk-container-id-1 div.sk-dashed-wrapped {\n",
              "  border: 1px dashed var(--sklearn-color-line);\n",
              "  margin: 0 0.4em 0.5em 0.4em;\n",
              "  box-sizing: border-box;\n",
              "  padding-bottom: 0.4em;\n",
              "  background-color: var(--sklearn-color-background);\n",
              "}\n",
              "\n",
              "#sk-container-id-1 div.sk-container {\n",
              "  /* jupyter's `normalize.less` sets `[hidden] { display: none; }`\n",
              "     but bootstrap.min.css set `[hidden] { display: none !important; }`\n",
              "     so we also need the `!important` here to be able to override the\n",
              "     default hidden behavior on the sphinx rendered scikit-learn.org.\n",
              "     See: https://github.com/scikit-learn/scikit-learn/issues/21755 */\n",
              "  display: inline-block !important;\n",
              "  position: relative;\n",
              "}\n",
              "\n",
              "#sk-container-id-1 div.sk-text-repr-fallback {\n",
              "  display: none;\n",
              "}\n",
              "\n",
              "div.sk-parallel-item,\n",
              "div.sk-serial,\n",
              "div.sk-item {\n",
              "  /* draw centered vertical line to link estimators */\n",
              "  background-image: linear-gradient(var(--sklearn-color-text-on-default-background), var(--sklearn-color-text-on-default-background));\n",
              "  background-size: 2px 100%;\n",
              "  background-repeat: no-repeat;\n",
              "  background-position: center center;\n",
              "}\n",
              "\n",
              "/* Parallel-specific style estimator block */\n",
              "\n",
              "#sk-container-id-1 div.sk-parallel-item::after {\n",
              "  content: \"\";\n",
              "  width: 100%;\n",
              "  border-bottom: 2px solid var(--sklearn-color-text-on-default-background);\n",
              "  flex-grow: 1;\n",
              "}\n",
              "\n",
              "#sk-container-id-1 div.sk-parallel {\n",
              "  display: flex;\n",
              "  align-items: stretch;\n",
              "  justify-content: center;\n",
              "  background-color: var(--sklearn-color-background);\n",
              "  position: relative;\n",
              "}\n",
              "\n",
              "#sk-container-id-1 div.sk-parallel-item {\n",
              "  display: flex;\n",
              "  flex-direction: column;\n",
              "}\n",
              "\n",
              "#sk-container-id-1 div.sk-parallel-item:first-child::after {\n",
              "  align-self: flex-end;\n",
              "  width: 50%;\n",
              "}\n",
              "\n",
              "#sk-container-id-1 div.sk-parallel-item:last-child::after {\n",
              "  align-self: flex-start;\n",
              "  width: 50%;\n",
              "}\n",
              "\n",
              "#sk-container-id-1 div.sk-parallel-item:only-child::after {\n",
              "  width: 0;\n",
              "}\n",
              "\n",
              "/* Serial-specific style estimator block */\n",
              "\n",
              "#sk-container-id-1 div.sk-serial {\n",
              "  display: flex;\n",
              "  flex-direction: column;\n",
              "  align-items: center;\n",
              "  background-color: var(--sklearn-color-background);\n",
              "  padding-right: 1em;\n",
              "  padding-left: 1em;\n",
              "}\n",
              "\n",
              "\n",
              "/* Toggleable style: style used for estimator/Pipeline/ColumnTransformer box that is\n",
              "clickable and can be expanded/collapsed.\n",
              "- Pipeline and ColumnTransformer use this feature and define the default style\n",
              "- Estimators will overwrite some part of the style using the `sk-estimator` class\n",
              "*/\n",
              "\n",
              "/* Pipeline and ColumnTransformer style (default) */\n",
              "\n",
              "#sk-container-id-1 div.sk-toggleable {\n",
              "  /* Default theme specific background. It is overwritten whether we have a\n",
              "  specific estimator or a Pipeline/ColumnTransformer */\n",
              "  background-color: var(--sklearn-color-background);\n",
              "}\n",
              "\n",
              "/* Toggleable label */\n",
              "#sk-container-id-1 label.sk-toggleable__label {\n",
              "  cursor: pointer;\n",
              "  display: flex;\n",
              "  width: 100%;\n",
              "  margin-bottom: 0;\n",
              "  padding: 0.5em;\n",
              "  box-sizing: border-box;\n",
              "  text-align: center;\n",
              "  align-items: start;\n",
              "  justify-content: space-between;\n",
              "  gap: 0.5em;\n",
              "}\n",
              "\n",
              "#sk-container-id-1 label.sk-toggleable__label .caption {\n",
              "  font-size: 0.6rem;\n",
              "  font-weight: lighter;\n",
              "  color: var(--sklearn-color-text-muted);\n",
              "}\n",
              "\n",
              "#sk-container-id-1 label.sk-toggleable__label-arrow:before {\n",
              "  /* Arrow on the left of the label */\n",
              "  content: \"▸\";\n",
              "  float: left;\n",
              "  margin-right: 0.25em;\n",
              "  color: var(--sklearn-color-icon);\n",
              "}\n",
              "\n",
              "#sk-container-id-1 label.sk-toggleable__label-arrow:hover:before {\n",
              "  color: var(--sklearn-color-text);\n",
              "}\n",
              "\n",
              "/* Toggleable content - dropdown */\n",
              "\n",
              "#sk-container-id-1 div.sk-toggleable__content {\n",
              "  max-height: 0;\n",
              "  max-width: 0;\n",
              "  overflow: hidden;\n",
              "  text-align: left;\n",
              "  /* unfitted */\n",
              "  background-color: var(--sklearn-color-unfitted-level-0);\n",
              "}\n",
              "\n",
              "#sk-container-id-1 div.sk-toggleable__content.fitted {\n",
              "  /* fitted */\n",
              "  background-color: var(--sklearn-color-fitted-level-0);\n",
              "}\n",
              "\n",
              "#sk-container-id-1 div.sk-toggleable__content pre {\n",
              "  margin: 0.2em;\n",
              "  border-radius: 0.25em;\n",
              "  color: var(--sklearn-color-text);\n",
              "  /* unfitted */\n",
              "  background-color: var(--sklearn-color-unfitted-level-0);\n",
              "}\n",
              "\n",
              "#sk-container-id-1 div.sk-toggleable__content.fitted pre {\n",
              "  /* unfitted */\n",
              "  background-color: var(--sklearn-color-fitted-level-0);\n",
              "}\n",
              "\n",
              "#sk-container-id-1 input.sk-toggleable__control:checked~div.sk-toggleable__content {\n",
              "  /* Expand drop-down */\n",
              "  max-height: 200px;\n",
              "  max-width: 100%;\n",
              "  overflow: auto;\n",
              "}\n",
              "\n",
              "#sk-container-id-1 input.sk-toggleable__control:checked~label.sk-toggleable__label-arrow:before {\n",
              "  content: \"▾\";\n",
              "}\n",
              "\n",
              "/* Pipeline/ColumnTransformer-specific style */\n",
              "\n",
              "#sk-container-id-1 div.sk-label input.sk-toggleable__control:checked~label.sk-toggleable__label {\n",
              "  color: var(--sklearn-color-text);\n",
              "  background-color: var(--sklearn-color-unfitted-level-2);\n",
              "}\n",
              "\n",
              "#sk-container-id-1 div.sk-label.fitted input.sk-toggleable__control:checked~label.sk-toggleable__label {\n",
              "  background-color: var(--sklearn-color-fitted-level-2);\n",
              "}\n",
              "\n",
              "/* Estimator-specific style */\n",
              "\n",
              "/* Colorize estimator box */\n",
              "#sk-container-id-1 div.sk-estimator input.sk-toggleable__control:checked~label.sk-toggleable__label {\n",
              "  /* unfitted */\n",
              "  background-color: var(--sklearn-color-unfitted-level-2);\n",
              "}\n",
              "\n",
              "#sk-container-id-1 div.sk-estimator.fitted input.sk-toggleable__control:checked~label.sk-toggleable__label {\n",
              "  /* fitted */\n",
              "  background-color: var(--sklearn-color-fitted-level-2);\n",
              "}\n",
              "\n",
              "#sk-container-id-1 div.sk-label label.sk-toggleable__label,\n",
              "#sk-container-id-1 div.sk-label label {\n",
              "  /* The background is the default theme color */\n",
              "  color: var(--sklearn-color-text-on-default-background);\n",
              "}\n",
              "\n",
              "/* On hover, darken the color of the background */\n",
              "#sk-container-id-1 div.sk-label:hover label.sk-toggleable__label {\n",
              "  color: var(--sklearn-color-text);\n",
              "  background-color: var(--sklearn-color-unfitted-level-2);\n",
              "}\n",
              "\n",
              "/* Label box, darken color on hover, fitted */\n",
              "#sk-container-id-1 div.sk-label.fitted:hover label.sk-toggleable__label.fitted {\n",
              "  color: var(--sklearn-color-text);\n",
              "  background-color: var(--sklearn-color-fitted-level-2);\n",
              "}\n",
              "\n",
              "/* Estimator label */\n",
              "\n",
              "#sk-container-id-1 div.sk-label label {\n",
              "  font-family: monospace;\n",
              "  font-weight: bold;\n",
              "  display: inline-block;\n",
              "  line-height: 1.2em;\n",
              "}\n",
              "\n",
              "#sk-container-id-1 div.sk-label-container {\n",
              "  text-align: center;\n",
              "}\n",
              "\n",
              "/* Estimator-specific */\n",
              "#sk-container-id-1 div.sk-estimator {\n",
              "  font-family: monospace;\n",
              "  border: 1px dotted var(--sklearn-color-border-box);\n",
              "  border-radius: 0.25em;\n",
              "  box-sizing: border-box;\n",
              "  margin-bottom: 0.5em;\n",
              "  /* unfitted */\n",
              "  background-color: var(--sklearn-color-unfitted-level-0);\n",
              "}\n",
              "\n",
              "#sk-container-id-1 div.sk-estimator.fitted {\n",
              "  /* fitted */\n",
              "  background-color: var(--sklearn-color-fitted-level-0);\n",
              "}\n",
              "\n",
              "/* on hover */\n",
              "#sk-container-id-1 div.sk-estimator:hover {\n",
              "  /* unfitted */\n",
              "  background-color: var(--sklearn-color-unfitted-level-2);\n",
              "}\n",
              "\n",
              "#sk-container-id-1 div.sk-estimator.fitted:hover {\n",
              "  /* fitted */\n",
              "  background-color: var(--sklearn-color-fitted-level-2);\n",
              "}\n",
              "\n",
              "/* Specification for estimator info (e.g. \"i\" and \"?\") */\n",
              "\n",
              "/* Common style for \"i\" and \"?\" */\n",
              "\n",
              ".sk-estimator-doc-link,\n",
              "a:link.sk-estimator-doc-link,\n",
              "a:visited.sk-estimator-doc-link {\n",
              "  float: right;\n",
              "  font-size: smaller;\n",
              "  line-height: 1em;\n",
              "  font-family: monospace;\n",
              "  background-color: var(--sklearn-color-background);\n",
              "  border-radius: 1em;\n",
              "  height: 1em;\n",
              "  width: 1em;\n",
              "  text-decoration: none !important;\n",
              "  margin-left: 0.5em;\n",
              "  text-align: center;\n",
              "  /* unfitted */\n",
              "  border: var(--sklearn-color-unfitted-level-1) 1pt solid;\n",
              "  color: var(--sklearn-color-unfitted-level-1);\n",
              "}\n",
              "\n",
              ".sk-estimator-doc-link.fitted,\n",
              "a:link.sk-estimator-doc-link.fitted,\n",
              "a:visited.sk-estimator-doc-link.fitted {\n",
              "  /* fitted */\n",
              "  border: var(--sklearn-color-fitted-level-1) 1pt solid;\n",
              "  color: var(--sklearn-color-fitted-level-1);\n",
              "}\n",
              "\n",
              "/* On hover */\n",
              "div.sk-estimator:hover .sk-estimator-doc-link:hover,\n",
              ".sk-estimator-doc-link:hover,\n",
              "div.sk-label-container:hover .sk-estimator-doc-link:hover,\n",
              ".sk-estimator-doc-link:hover {\n",
              "  /* unfitted */\n",
              "  background-color: var(--sklearn-color-unfitted-level-3);\n",
              "  color: var(--sklearn-color-background);\n",
              "  text-decoration: none;\n",
              "}\n",
              "\n",
              "div.sk-estimator.fitted:hover .sk-estimator-doc-link.fitted:hover,\n",
              ".sk-estimator-doc-link.fitted:hover,\n",
              "div.sk-label-container:hover .sk-estimator-doc-link.fitted:hover,\n",
              ".sk-estimator-doc-link.fitted:hover {\n",
              "  /* fitted */\n",
              "  background-color: var(--sklearn-color-fitted-level-3);\n",
              "  color: var(--sklearn-color-background);\n",
              "  text-decoration: none;\n",
              "}\n",
              "\n",
              "/* Span, style for the box shown on hovering the info icon */\n",
              ".sk-estimator-doc-link span {\n",
              "  display: none;\n",
              "  z-index: 9999;\n",
              "  position: relative;\n",
              "  font-weight: normal;\n",
              "  right: .2ex;\n",
              "  padding: .5ex;\n",
              "  margin: .5ex;\n",
              "  width: min-content;\n",
              "  min-width: 20ex;\n",
              "  max-width: 50ex;\n",
              "  color: var(--sklearn-color-text);\n",
              "  box-shadow: 2pt 2pt 4pt #999;\n",
              "  /* unfitted */\n",
              "  background: var(--sklearn-color-unfitted-level-0);\n",
              "  border: .5pt solid var(--sklearn-color-unfitted-level-3);\n",
              "}\n",
              "\n",
              ".sk-estimator-doc-link.fitted span {\n",
              "  /* fitted */\n",
              "  background: var(--sklearn-color-fitted-level-0);\n",
              "  border: var(--sklearn-color-fitted-level-3);\n",
              "}\n",
              "\n",
              ".sk-estimator-doc-link:hover span {\n",
              "  display: block;\n",
              "}\n",
              "\n",
              "/* \"?\"-specific style due to the `<a>` HTML tag */\n",
              "\n",
              "#sk-container-id-1 a.estimator_doc_link {\n",
              "  float: right;\n",
              "  font-size: 1rem;\n",
              "  line-height: 1em;\n",
              "  font-family: monospace;\n",
              "  background-color: var(--sklearn-color-background);\n",
              "  border-radius: 1rem;\n",
              "  height: 1rem;\n",
              "  width: 1rem;\n",
              "  text-decoration: none;\n",
              "  /* unfitted */\n",
              "  color: var(--sklearn-color-unfitted-level-1);\n",
              "  border: var(--sklearn-color-unfitted-level-1) 1pt solid;\n",
              "}\n",
              "\n",
              "#sk-container-id-1 a.estimator_doc_link.fitted {\n",
              "  /* fitted */\n",
              "  border: var(--sklearn-color-fitted-level-1) 1pt solid;\n",
              "  color: var(--sklearn-color-fitted-level-1);\n",
              "}\n",
              "\n",
              "/* On hover */\n",
              "#sk-container-id-1 a.estimator_doc_link:hover {\n",
              "  /* unfitted */\n",
              "  background-color: var(--sklearn-color-unfitted-level-3);\n",
              "  color: var(--sklearn-color-background);\n",
              "  text-decoration: none;\n",
              "}\n",
              "\n",
              "#sk-container-id-1 a.estimator_doc_link.fitted:hover {\n",
              "  /* fitted */\n",
              "  background-color: var(--sklearn-color-fitted-level-3);\n",
              "}\n",
              "</style><div id=\"sk-container-id-1\" class=\"sk-top-container\"><div class=\"sk-text-repr-fallback\"><pre>RegressionForest(max_depth=10, n_estimators=1000, random_state=42)</pre><b>In a Jupyter environment, please rerun this cell to show the HTML representation or trust the notebook. <br />On GitHub, the HTML representation is unable to render, please try loading this page with nbviewer.org.</b></div><div class=\"sk-container\" hidden><div class=\"sk-item\"><div class=\"sk-estimator fitted sk-toggleable\"><input class=\"sk-toggleable__control sk-hidden--visually\" id=\"sk-estimator-id-1\" type=\"checkbox\" checked><label for=\"sk-estimator-id-1\" class=\"sk-toggleable__label fitted sk-toggleable__label-arrow\"><div><div>RegressionForest</div></div><div><span class=\"sk-estimator-doc-link fitted\">i<span>Fitted</span></span></div></label><div class=\"sk-toggleable__content fitted\"><pre>RegressionForest(max_depth=10, n_estimators=1000, random_state=42)</pre></div> </div></div></div></div>"
            ]
          },
          "metadata": {},
          "execution_count": 5
        }
      ],
      "source": [
        "# Initialize and fit the RegressionForest model\n",
        "regr = RegressionForest(n_estimators=1000, max_depth=10, min_samples_leaf=5, random_state=42, honest=True)\n",
        "regr.fit(X_train, y_train)"
      ]
    },
    {
      "cell_type": "markdown",
      "metadata": {
        "id": "7KgHx7kY9EEg"
      },
      "source": [
        "### Prediction and Evaluation"
      ]
    },
    {
      "cell_type": "code",
      "execution_count": 6,
      "metadata": {
        "colab": {
          "base_uri": "https://localhost:8080/"
        },
        "id": "m0vovr-CfwBZ",
        "outputId": "ade8e919-dfc0-4874-e306-3c7c057c1b64"
      },
      "outputs": [
        {
          "output_type": "stream",
          "name": "stdout",
          "text": [
            "Test MSE: 18.03\n",
            "Test R^2: 0.75\n"
          ]
        }
      ],
      "source": [
        "# Predict on test set\n",
        "y_pred = regr.predict(X_test)\n",
        "\n",
        "# Evaluate model performance\n",
        "mse = mean_squared_error(y_test, y_pred)\n",
        "r2 = r2_score(y_test, y_pred)\n",
        "print(f\"Test MSE: {mse:.2f}\")\n",
        "print(f\"Test R^2: {r2:.2f}\")"
      ]
    },
    {
      "cell_type": "code",
      "source": [
        "plt.figure(figsize=(6, 6))\n",
        "plt.scatter(y_test, y_pred, alpha=0.5)\n",
        "plt.plot([y_test.min(), y_test.max()], [y_test.min(), y_test.max()], 'k--', lw=2) # 1:1 line\n",
        "plt.xlabel(\"Observed Values (y_test)\")\n",
        "plt.ylabel(\"Predicted Values (y_pred)\")\n",
        "plt.title(\"Observed vs. Predicted Values (Regression Forest)\")\n",
        "plt.show()"
      ],
      "metadata": {
        "colab": {
          "base_uri": "https://localhost:8080/",
          "height": 564
        },
        "id": "k4I_KiD71d3T",
        "outputId": "7bc3abb8-3cb7-415b-a812-d4cf4f9fac1e"
      },
      "execution_count": 7,
      "outputs": [
        {
          "output_type": "display_data",
          "data": {
            "text/plain": [
              "<Figure size 600x600 with 1 Axes>"
            ],
            "image/png": "[encoded data removed]"
          },
          "metadata": {}
        }
      ]
    },
    {
      "cell_type": "markdown",
      "source": [
        "### Cross-Valiadtion"
      ],
      "metadata": {
        "id": "S2O-git91kTz"
      }
    },
    {
      "cell_type": "code",
      "source": [
        "# Perform 5-fold cross-validation\n",
        "cv_scores = cross_val_score(regr, X, y, cv=5, scoring='r2')\n",
        "print(f\"Cross-validation R^2 scores: {cv_scores}\")\n",
        "print(f\"Mean CV R^2: {cv_scores.mean():.2f} (± {cv_scores.std():.2f})\")"
      ],
      "metadata": {
        "colab": {
          "base_uri": "https://localhost:8080/"
        },
        "id": "VqYQnaKe1n2f",
        "outputId": "6077b4e2-ac73-46fe-835f-8e2941e32de3"
      },
      "execution_count": 8,
      "outputs": [
        {
          "output_type": "stream",
          "name": "stdout",
          "text": [
            "Cross-validation R^2 scores: [0.78375785 0.8120444  0.55618565 0.40420734 0.26186641]\n",
            "Mean CV R^2: 0.56 (± 0.21)\n"
          ]
        }
      ]
    },
    {
      "cell_type": "markdown",
      "source": [
        "### Feature Importance"
      ],
      "metadata": {
        "id": "7tX8lEzs1qpJ"
      }
    },
    {
      "cell_type": "code",
      "source": [
        "# Get feature importance\n",
        "feature_importance = regr.feature_importances_\n",
        "importance_df = pd.DataFrame({'Feature': feature_names, 'Importance': feature_importance})\n",
        "importance_df = importance_df.sort_values(by='Importance', ascending=True)\n",
        "\n",
        "# Plot feature importance\n",
        "plt.figure(figsize=(5, 6))\n",
        "plt.barh(importance_df['Feature'], importance_df['Importance'])\n",
        "plt.xlabel('Features')\n",
        "plt.ylabel('Importance')\n",
        "plt.title('Feature Importance in RegressionForest for Boston Housing')\n",
        "plt.xticks(rotation=45)\n",
        "plt.tight_layout()\n",
        "plt.show()"
      ],
      "metadata": {
        "colab": {
          "base_uri": "https://localhost:8080/",
          "height": 607
        },
        "id": "RK2EDN2p1raF",
        "outputId": "b52147c3-285c-4275-8bce-8fd6a872a8d8"
      },
      "execution_count": 9,
      "outputs": [
        {
          "output_type": "display_data",
          "data": {
            "text/plain": [
              "<Figure size 500x600 with 1 Axes>"
            ],
            "image/png": "[encoded data removed]"
          },
          "metadata": {}
        }
      ]
    },
    {
      "cell_type": "markdown",
      "source": [
        "## Regression Forest for Causal Inference\n",
        "\n",
        "To fit a **Regression Forest** using the `regression_forest()` function from the `{grf}` package in R for a causal inference task, we need to adapt the approach since `regression_forest()` is typically used for predicting conditional means ($E[Y | X]$) rather than directly estimating treatment effects like `causal_forest()`. However, we can use `regression_forest()` to estimate treatment effects indirectly by modeling the outcome $Y$ as a function of covariates $X$ and treatment $W$ then deriving treatment effects through predictions under different treatment conditions.\n",
        "\n",
        "Use `regression_forest()` to estimate conditional mean outcomes and derive heterogeneous treatment effects ($\\tau(X) = E[Y | X, W=1] - E[Y | X, W=0]$).\n",
        "\n"
      ],
      "metadata": {
        "id": "Bc--ln7ZkHTz"
      }
    },
    {
      "cell_type": "markdown",
      "source": [
        "\n",
        "### Synthetic Data Generation\n",
        "\n",
        "   - `X`: Matrix of 5 covariates drawn from a standard normal distribution.\n",
        "   - `W`: Binary treatment indicator (0 or 1), randomly assigned with equal probability (simulating a randomized experiment).\n",
        "   - `tau`: True treatment effect, set as $\\tau = 2 \\cdot X_1$, making it heterogeneous.\n",
        "   - `Y`: Outcome, generated as $Y = X_1 + X_2^2 + \\tau \\cdot W + \\text{noise}$.\n",
        "   - `XW`: Combines covariates and treatment into a single matrix for modeling.\n"
      ],
      "metadata": {
        "id": "RRJV7XKbkP1B"
      }
    },
    {
      "cell_type": "code",
      "source": [
        "# Set seed for reproducibility\n",
        "np.random.seed(123)\n",
        "\n",
        "# Generate synthetic experimental data\n",
        "n = 1000  # Number of observations\n",
        "p = 5     # Number of covariates\n",
        "X = np.random.randn(n, p)  # Covariates\n",
        "W = np.random.randint(0, 2, n)           # Binary treatment (0 or 1, balanced)\n",
        "# True treatment effect: depends on X[:,0]\n",
        "tau = 2 * X[:, 0]  # Heterogeneous treatment effect\n",
        "# Outcome: Y = baseline + treatment effect + noise\n",
        "Y = X[:, 0] + X[:, 1]**2 + tau * W + np.random.randn(n) * 0.5\n",
        "\n",
        "# Combine covariates and treatment into a single matrix\n",
        "XW = np.c_[X, W]\n"
      ],
      "metadata": {
        "id": "mx4nyGR_kYpX"
      },
      "execution_count": 33,
      "outputs": []
    },
    {
      "cell_type": "markdown",
      "source": [
        "### Fitting the Regression Forest\n",
        "\n",
        "This code initializes and trains a RegressionForest model from the econml library on the synthetic data (XW and Y) for causal inference, using 1000 trees and honest splitting.\n",
        "\n"
      ],
      "metadata": {
        "id": "9LgJ4JiakcnN"
      }
    },
    {
      "cell_type": "code",
      "source": [
        "# Initialize and fit the RegressionForest model\n",
        "# Note: Parameters are matched as closely as possible to the R code,\n",
        "# using econml.grf.RegressionForest parameter names.\n",
        "# honest=True enables honest splitting.\n",
        "rf = RegressionForest(\n",
        "    n_estimators=1000,\n",
        "    max_depth=10, # Note: R's min.node.size=5 is not directly max_depth, but influences tree structure.\n",
        "                  # We'll use max_depth=10 and min_samples_leaf=5 as reasonable defaults\n",
        "                  # based on the typical relationship between these parameters and tree complexity,\n",
        "                  # and the R code using min.node.size=5.\n",
        "    min_samples_leaf=5,\n",
        "    random_state=42, # Setting a random state for reproducibility\n",
        "    honest=True,\n",
        "    # sample.fraction=0.5 is the default in econml.grf.RegressionForest\n",
        "    # ci.group.size=2 is related to confidence intervals, not directly model fitting structure.\n",
        ")\n",
        "\n",
        "# Fit the model to the synthetic data (XW and Y)\n",
        "rf.fit(XW, Y)\n",
        "\n",
        "print(\"RegressionForest model fitted successfully.\")"
      ],
      "metadata": {
        "colab": {
          "base_uri": "https://localhost:8080/"
        },
        "id": "huLxzWpbkdcA",
        "outputId": "bac423c9-2844-406f-e78a-285ee4de6ab0"
      },
      "execution_count": 34,
      "outputs": [
        {
          "output_type": "stream",
          "name": "stdout",
          "text": [
            "RegressionForest model fitted successfully.\n"
          ]
        }
      ]
    },
    {
      "cell_type": "markdown",
      "source": [
        "###  Predicting Treatment Effects\n",
        "\n",
        "This code predicts outcomes under treatment and control using the trained model, then calculates individual treatment effects (`tau_hat`) and their standard errors based on prediction intervals. It prints the first few results."
      ],
      "metadata": {
        "id": "uy6z1da-klPj"
      }
    },
    {
      "cell_type": "code",
      "source": [
        "# Predict outcomes for the treatment and control scenarios using the new model\n",
        "alpha = 0.05\n",
        "z_alpha_half = 1.96 # For 95% confidence interval\n",
        "\n",
        "# Use the new model fitted on synthetic data\n",
        "# Unpack the tuple returned by predict with interval=True\n",
        "pred_treat_predictions, pred_treat_lower, pred_treat_upper = regr_synthetic.predict(XW_treat, interval=True, alpha=alpha)\n",
        "pred_control_predictions, pred_control_lower, pred_control_upper = regr_synthetic.predict(XW_control, interval=True, alpha=alpha)\n",
        "\n",
        "# Estimate treatment effects (point estimate)\n",
        "tau_hat = pred_treat_predictions - pred_control_predictions\n",
        "\n",
        "# Estimate standard error of the prediction from confidence intervals\n",
        "# SE = CI width / (2 * Z_alpha/2)\n",
        "se_pred_treat = (pred_treat_upper - pred_treat_lower) / (2 * z_alpha_half)\n",
        "se_pred_control = (pred_control_upper - pred_control_lower) / (2 * z_alpha_half)\n",
        "\n",
        "# Calculate the standard error of the treatment effect (tau_hat)\n",
        "# SE(tau_hat) = sqrt(Var(pred_treat) + Var(pred_control))\n",
        "# Var = SE^2\n",
        "tau_se = np.sqrt(se_pred_treat**2 + se_pred_control**2)\n",
        "\n",
        "print(\"Treatment effects (tau_hat) calculated. First 5 values:\")\n",
        "print(tau_hat[:5])\n",
        "print(\"\\nStandard errors of treatment effects (tau_se) calculated. First 5 values:\")\n",
        "print(tau_se[:5])"
      ],
      "metadata": {
        "id": "MwJkL1-Zkl2_",
        "colab": {
          "base_uri": "https://localhost:8080/"
        },
        "outputId": "9d1b36b9-908e-4135-c523-3a1cb0c96e4f"
      },
      "execution_count": 35,
      "outputs": [
        {
          "output_type": "stream",
          "name": "stdout",
          "text": [
            "Treatment effects (tau_hat) calculated. First 5 values:\n",
            "[[-2.08938498]\n",
            " [ 2.10685789]\n",
            " [-1.37414651]\n",
            " [-0.5747332 ]\n",
            " [ 1.05510659]]\n",
            "\n",
            "Standard errors of treatment effects (tau_se) calculated. First 5 values:\n",
            "[[0.28142061]\n",
            " [0.62345271]\n",
            " [0.17133268]\n",
            " [1.07628874]\n",
            " [0.63803497]]\n"
          ]
        }
      ]
    },
    {
      "cell_type": "markdown",
      "source": [
        "### Evalute the Model\n",
        "\n",
        "   - Compare predicted treatment effects ($\\hat{\\tau}$) with true treatment effects ($\\tau$).\n",
        "   - Calculate Mean Squared Error (MSE) to evaluate the accuracy of CATE estimates.\n",
        "   - Variable importance can be assessed to understand the contribution of each feature in predicting treatment effects."
      ],
      "metadata": {
        "id": "PtB8JGkmkrKg"
      }
    },
    {
      "cell_type": "code",
      "source": [
        "from sklearn.metrics import mean_squared_error\n",
        "\n",
        "# Evaluate model: Compare predicted vs true treatment effects\n",
        "# Use the true tau generated with the synthetic data and the calculated tau_hat\n",
        "mse = mean_squared_error(tau, tau_hat)\n",
        "print(f\"Mean Squared Error of CATE estimates: {mse}\")"
      ],
      "metadata": {
        "colab": {
          "base_uri": "https://localhost:8080/"
        },
        "id": "-xSE649Xkr5G",
        "outputId": "ca552234-1113-43f3-b045-cbbee2be2106"
      },
      "execution_count": 36,
      "outputs": [
        {
          "output_type": "stream",
          "name": "stdout",
          "text": [
            "Mean Squared Error of CATE estimates: 0.41885543012162\n"
          ]
        }
      ]
    },
    {
      "cell_type": "code",
      "source": [
        "# Plot predicted vs true treatment effects\n",
        "plt.figure(figsize=(5.5, 4.5))\n",
        "plt.scatter(tau, tau_hat, alpha=0.5)\n",
        "plt.plot([tau.min(), tau.max()], [tau.min(), tau.max()], 'r--', lw=2) # 45-degree line\n",
        "plt.xlabel(\"True Treatment Effect\")\n",
        "plt.ylabel(\"Predicted Treatment Effect\")\n",
        "plt.title(\"True vs Predicted CATE (Regression Forest)\")\n",
        "plt.grid(True)\n",
        "plt.show()"
      ],
      "metadata": {
        "colab": {
          "base_uri": "https://localhost:8080/",
          "height": 449
        },
        "id": "rcSRjDjBkzRw",
        "outputId": "691a6076-7fde-48ee-fb9a-24a9eb0a7a8f"
      },
      "execution_count": 40,
      "outputs": [
        {
          "output_type": "display_data",
          "data": {
            "text/plain": [
              "<Figure size 550x450 with 1 Axes>"
            ],
            "image/png": "[encoded data removed]"
          },
          "metadata": {}
        }
      ]
    },
    {
      "cell_type": "markdown",
      "source": [
        "### Variable Importance\n",
        "\n",
        "   - Assess variable importance to understand which features contribute most to the model's predictions.\n",
        "   - The `variable_importance()` function provides a measure of how much each feature contributes to the prediction accuracy.\n"
      ],
      "metadata": {
        "id": "pZwdTc6Wkxsm"
      }
    },
    {
      "cell_type": "code",
      "source": [
        "# Get feature importance from the fitted RegressionForest model\n",
        "# The feature_importances_ attribute provides the importance scores.\n",
        "feature_importance = regr_synthetic.feature_importances_\n",
        "\n",
        "# Define the column names for the synthetic data\n",
        "# X has 5 features, W is the 6th feature\n",
        "synthetic_feature_names = [f'X{i+1}' for i in range(p)] + ['W']\n",
        "\n",
        "# Create a pandas DataFrame for importance scores\n",
        "importance_df_synthetic = pd.DataFrame({\n",
        "    'Variable': synthetic_feature_names,\n",
        "    'Importance': feature_importance\n",
        "})\n",
        "\n",
        "# Sort the DataFrame by 'Importance' in ascending order for the bar plot\n",
        "importance_df_synthetic = importance_df_synthetic.sort_values(by='Importance', ascending=True)\n",
        "\n",
        "# Plot feature importance\n",
        "plt.figure(figsize=(6, 5)) # Adjusted figure size for horizontal bars\n",
        "plt.barh(importance_df_synthetic['Variable'], importance_df_synthetic['Importance'])\n",
        "plt.xlabel('Importance Score')\n",
        "plt.ylabel('Variable')\n",
        "plt.title('Variable Importance (Regression Forest) - Synthetic Data')\n",
        "plt.tight_layout() # Adjust layout to prevent labels overlapping\n",
        "plt.show()"
      ],
      "metadata": {
        "colab": {
          "base_uri": "https://localhost:8080/",
          "height": 507
        },
        "id": "SJQVjy96k4Qs",
        "outputId": "75d2e778-5bed-410b-a636-320bc33a5d5d"
      },
      "execution_count": 39,
      "outputs": [
        {
          "output_type": "display_data",
          "data": {
            "text/plain": [
              "<Figure size 600x500 with 1 Axes>"
            ],
            "image/png": "[encoded data removed]"
          },
          "metadata": {}
        }
      ]
    },
    {
      "cell_type": "markdown",
      "metadata": {
        "id": "_j759RVMQMut"
      },
      "source": [
        "## Summary and Conclusion\n",
        "\n",
        " The notebook then shifts to the `econml.grf.RegressionForest` in Python, which is a standard regression forest for predicting continuous outcomes. It describes the key characteristics of regression forests and how the `econml` implementation works, including honest splitting. Using the Boston Housing dataset, it demonstrates loading and preparing the data, training the `RegressionForest` model, evaluating its performance using MSE and R-squared, visualizing observed vs. predicted values, and assessing feature importance.\n",
        "\n",
        "\n",
        "  "
      ]
    }
  ],
  "metadata": {
    "colab": {
      "provenance": [],
      "toc_visible": true,
      "authorship_tag": "ABX9TyN09RPoDLfS8TivK2eMLdTv",
      "include_colab_link": true
    },
    "kernelspec": {
      "display_name": "Python 3",
      "name": "python3"
    },
    "language_info": {
      "name": "python"
    }
  },
  "nbformat": 4,
  "nbformat_minor": 0
}