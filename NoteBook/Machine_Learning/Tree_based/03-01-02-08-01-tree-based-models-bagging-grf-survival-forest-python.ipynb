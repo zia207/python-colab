{
  "cells": [
    {
      "cell_type": "markdown",
      "metadata": {
        "colab_type": "text",
        "id": "view-in-github"
      },
      "source": [
        "<a href=\"https://colab.research.google.com/github/zia207/python-colab/blob/main/NoteBook/Machine_Learning/Tree_based/03-01-02-08-01-tree-based-models-bagging-grf-survival-forest-python.ipynb\" target=\"_parent\"><img src=\"https://colab.research.google.com/assets/colab-badge.svg\" alt=\"Open In Colab\"/></a>"
      ]
    },
    {
      "cell_type": "markdown",
      "metadata": {
        "id": "zYZbTX0qQrZb"
      },
      "source": [
        "![alt text](http://drive.google.com/uc?export=view&id=1IFEWet-Aw4DhkkVe1xv_2YYqlvRe9m5_)"
      ]
    },
    {
      "cell_type": "markdown",
      "metadata": {
        "id": "RGBfrL2GQoII"
      },
      "source": [
        "# 2.8.1 Survival Forest\n",
        "\n",
        "A **Survival Forest** is a specialized random forest model designed for analyzing right-censored survival data, estimating conditional survival functions, and supporting causal inference with survival outcomes. It extends the generalized random forest framework to handle survival analysis tasks, such as estimating the probability of survival past a given time point conditional on covariates, $(t, x) = P(T > t | X = x)$."
      ]
    },
    {
      "cell_type": "markdown",
      "metadata": {
        "id": "S77MsgmqIYD0"
      },
      "source": [
        "## Overview\n",
        "\n",
        "Survival Forests extend random forests to estimate survival probabilities, hazard functions, or cumulative hazard functions for censored data. They:\n",
        "\n",
        "- `Handle right-censored data` (e.g., patients lost to follow-up).\n",
        "- `Predict` survival curves or risk scores for individuals.\n",
        "- Support `heterogeneous effect`s and non-linear relationships.\n",
        "- Use `ensemble tree-based` methods to improve robustness.\n",
        "\n",
        "\n"
      ]
    },
    {
      "cell_type": "markdown",
      "metadata": {
        "id": "VwEoykvwI2dS"
      },
      "source": [
        "### Key Features\n",
        "\n",
        "-   `Honest Estimation`: Reduces bias by separating data for splits and leaf estimates.[ ](https://rdrr.io/cran/grf/man/grf-package.html)\n",
        "-   `Causal Survival Analysis`: Supports estimating heterogeneous treatment effects for survival outcomes using `causal_survival_forest()`.[ ](https://grf-labs.github.io/grf/)\n",
        "-   `Missing Data`: Handles missing covariates via imputation methods.\n",
        "-   `Statistical Inference`: Provides confidence intervals for survival function estimates and treatment effects.[ ](https://rdrr.io/cran/grf/man/grf-package.html)\n",
        "-   `Non-Parametric`: Makes no distributional assumptions, suitable for complex survival data.\n"
      ]
    },
    {
      "cell_type": "markdown",
      "metadata": {
        "id": "HVyDC3TvQkyB"
      },
      "source": [
        "### How It Works\n",
        "\n",
        "1.  Input Data:\n",
        "\n",
        "  -   A feature matrix $X$ (covariates).\n",
        "  -   A vector of observed times $Y$ (minimum of survival time and censoring time).\n",
        "  -   A vector of censoring indicators $D$ (1 if the event is observed, 0 if censored).\n",
        "  -   Parameters like `num.trees`, `honesty`, and `min.node.size`.\n",
        "\n",
        "2.  Tree Construction\n",
        "\n",
        "  -   Trees are grown using bootstrap samples and random feature selection, as in standard random forests.\n",
        "  -   Splits are chosen to maximize heterogeneity in the survival function, using a criterion tailored for survival data (e.g., log-rank or related statistics).\n",
        "  -   If `honesty = TRUE`, data is split into two subsets: one for building the tree structure and another for estimating survival functions in the leaves.\n",
        "\n",
        "3.  Prediction\n",
        "\n",
        "   -   For a new data point $x$, the forest estimates $S(t, x)$ by averaging survival function estimates across trees, based on the Kaplan-Meier estimator or similar methods within each leaf.\n",
        "\n",
        "4.  Output\n",
        "\n",
        "  -   Conditional survival function estimates for specified time points.\n",
        "  -   Supports causal survival analysis (e.g., via `causal_survival_forest()` for heterogeneous treatment effects with censored data).\n",
        "  -   Provides confidence intervals and variable importance measures."
      ]
    },
    {
      "cell_type": "markdown",
      "metadata": {
        "id": "iQ-vcH8iUBDa"
      },
      "source": [
        "### Use Case\n",
        "\n",
        "-   Estimating conditional survival probabilities (e.g., patient survival given clinical features).\n",
        "-   Causal inference with survival outcomes (e.g., treatment effects in clinical trials with censoring).\n"
      ]
    },
    {
      "cell_type": "markdown",
      "metadata": {
        "id": "bh7jEhGCLDZA"
      },
      "source": [
        "## Survival Forest with  in Python\n",
        "\n",
        "We will creat a custom `survival_forest()` function provides a Python-native, flexible, and feature-rich alternative to R’s `grf::survival_forest`, addressing gaps in existing libraries while maintaining compatibility with survival analysis workflows. This code will trains a forest for right-censored surival data that can be used to estimate the conditional survival function $S(t, x) = P[T > t | X = x]$, handle right-censored data, and support key features like Kaplan-Meier predictions, variable importance, and optional parameters for tree construction. Since EconML does not natively support survival analysis with censoring, scikit-survival is the best choice. The function will mimic the interface and functionality of `grf::survival_forest` as closely as possible, with notes on differences (e.g., lack of native honesty support).\n",
        "\n",
        "\n",
        "1. **Mimic R’s `grf::survival_forest`**: The R `grf` package’s `survival_forest` is a standard for survival analysis with right-censored data, offering features like Kaplan-Meier estimation, honesty, and variable importance. This Python function bridges the gap for Python users, replicating key functionalities not fully available in existing libraries like **EconML** or **scikit-survival**.\n",
        "\n",
        "2. **Address Limitations in `scikit-survival`**: While `scikit-survival`’s `RandomSurvivalForest` supports survival analysis, it lacks native support for advanced features like honesty (separating data for tree construction and prediction) and exact sample fraction control. The custom function implements these (e.g., manual honesty splitting) to align with `grf`.\n",
        "\n",
        "3. **Flexibility and Customization**: The custom function allows tailoring parameters (e.g., `num_trees`, `mtry`, `prediction_type`) and outputs (e.g., survival curves, variable importance) to match specific research needs, improving usability for tasks like estimating \\( S(t, x) = P[T > t | X = x] \\).\n",
        "\n",
        "4. **Avoid Dependency on R**: Instead of relying on R’s `grf` via `rpy2`, a native Python implementation ensures seamless integration into Python workflows, especially in environments like Google Colab.\n",
        "\n",
        "5. **Enhanced Output**: The function returns a structured dictionary with the model, event times, OOB predictions, and variable importance, making it easier to interpret and visualize results compared to raw `scikit-survival` outputs.\n",
        "\n",
        "We will creat  custom `survival_forest()` function provides a Python-native, flexible, and feature-rich alternative to R’s `grf::survival_forest`, addressing gaps in existing libraries while maintaining compatibility with survival analysis workflows.\n",
        "\n",
        "\n"
      ]
    },
    {
      "cell_type": "code",
      "execution_count": null,
      "metadata": {
        "id": "zOu8GeqnqXMl"
      },
      "outputs": [],
      "source": [
        "!pip install econml\n",
        "!pip install sckit-survival"
      ]
    },
    {
      "cell_type": "code",
      "execution_count": 51,
      "metadata": {
        "id": "wv9WdOgR40Od"
      },
      "outputs": [],
      "source": [
        "# Import libraries\n",
        "import numpy as np\n",
        "import pandas as pd\n",
        "from sksurv.datasets import load_veterans_lung_cancer\n",
        "from sksurv.util import Surv\n",
        "from sksurv.metrics import concordance_index_censored\n",
        "import matplotlib.pyplot as plt\n",
        "import seaborn as sns\n",
        "from sklearn.model_selection import train_test_split\n",
        "from sklearn.preprocessing import LabelEncoder\n",
        "from typing import Optional, List\n",
        "\n",
        "# Define the survival_forest function\n",
        "def survival_forest(\n",
        "    X: np.ndarray,\n",
        "    Y: np.ndarray,\n",
        "    D: np.ndarray,\n",
        "    num_trees: int = 1000,\n",
        "    sample_fraction: float = 0.5,\n",
        "    mtry: Optional[int] = None,\n",
        "    min_node_size: int = 15,\n",
        "    honesty: bool = True,\n",
        "    honesty_fraction: float = 0.5,\n",
        "    prediction_type: str = \"Kaplan-Meier\",\n",
        "    compute_oob_predictions: bool = True,\n",
        "    seed: Optional[int] = None,\n",
        "    feature_names: Optional[List[str]] = None\n",
        ") -> dict:\n",
        "    \"\"\"\n",
        "    Train a survival forest for right-censored survival data to estimate S(t, x) = P[T > t | X = x].\n",
        "    \"\"\"\n",
        "    # Input validation\n",
        "    if not isinstance(X, np.ndarray) or X.ndim != 2:\n",
        "        raise ValueError(\"X must be a 2D numpy array\")\n",
        "    if not isinstance(Y, np.ndarray) or not isinstance(D, np.ndarray):\n",
        "        raise ValueError(\"Y and D must be numpy arrays\")\n",
        "    if len(X) != len(Y) or len(Y) != len(D):\n",
        "        raise ValueError(\"X, Y, and D must have the same length\")\n",
        "    if not np.all(Y > 0):\n",
        "        raise ValueError(\"Survival times (Y) must be positive\")\n",
        "    if not np.all(np.isin(D, [0, 1])):\n",
        "        raise ValueError(\"Event indicators (D) must be 0 (censored) or 1 (event)\")\n",
        "    if sample_fraction <= 0 or sample_fraction > 1:\n",
        "        raise ValueError(\"sample_fraction must be in (0, 1]\")\n",
        "    if prediction_type not in [\"Kaplan-Meier\", \"Nelson-Aalen\"]:\n",
        "        raise ValueError(\"prediction_type must be 'Kaplan-Meier' or 'Nelson-Aalen'\")\n",
        "\n",
        "    # Set random seed\n",
        "    if seed is not None:\n",
        "        np.random.seed(seed)\n",
        "\n",
        "    # Prepare structured survival data\n",
        "    y_struct = Surv.from_arrays(event=D, time=Y)\n",
        "\n",
        "    # Handle mtry\n",
        "    n_features = X.shape[1]\n",
        "    if mtry is None:\n",
        "        mtry = min(int(np.sqrt(n_features) + 20), n_features)\n",
        "\n",
        "    # Handle honesty\n",
        "    if honesty:\n",
        "        n = len(X)\n",
        "        train_idx = np.random.choice(n, size=int(honesty_fraction * n), replace=False)\n",
        "        pred_idx = np.setdiff1d(np.arange(n), train_idx)\n",
        "        X_train, y_train = X[train_idx], y_struct[train_idx]\n",
        "        X_pred, y_pred = X[pred_idx], y_struct[pred_idx]\n",
        "    else:\n",
        "        X_train, y_train = X, y_struct\n",
        "        X_pred, y_pred = X, y_struct\n",
        "\n",
        "    # Initialize and train RandomSurvivalForest\n",
        "    from sksurv.ensemble import RandomSurvivalForest\n",
        "    rsf = RandomSurvivalForest(\n",
        "        n_estimators=num_trees,\n",
        "        max_features=mtry,\n",
        "        min_samples_split=min_node_size,\n",
        "        min_samples_leaf=min_node_size // 2,\n",
        "        bootstrap=True,\n",
        "        random_state=seed\n",
        "    )\n",
        "    rsf.fit(X_train, y_train)\n",
        "\n",
        "    # Compute event times from training data (unique times where events occurred)\n",
        "    event_times = np.sort(np.unique(y_train['time'][y_train['event']]))\n",
        "\n",
        "    # Compute predictions\n",
        "    if prediction_type == \"Kaplan-Meier\":\n",
        "        predict_fn = rsf.predict_survival_function\n",
        "    else:\n",
        "        predict_fn = rsf.predict_cumulative_hazard_function\n",
        "\n",
        "    # OOB predictions (approximated)\n",
        "    oob_predictions = None\n",
        "    if compute_oob_predictions:\n",
        "        oob_predictions = predict_fn(X_pred)\n",
        "\n",
        "    # Variable importance (not supported in scikit-survival, set to None)\n",
        "    variable_importance = None\n",
        "    if feature_names is not None:\n",
        "        print(\"Warning: Variable importance not supported in scikit-survival's RandomSurvivalForest.\")\n",
        "        variable_importance = pd.DataFrame({\n",
        "            'Feature': feature_names,\n",
        "            'Importance': [np.nan] * len(feature_names)  # Placeholder\n",
        "        })\n",
        "\n",
        "    return {\n",
        "        'model': rsf,\n",
        "        'event_times': event_times,\n",
        "        'oob_predictions': oob_predictions,\n",
        "        'variable_importance': variable_importance\n",
        "    }"
      ]
    },
    {
      "cell_type": "markdown",
      "metadata": {
        "id": "ThhlXPmzzK7v"
      },
      "source": [
        "### Prepare the Data"
      ]
    },
    {
      "cell_type": "code",
      "execution_count": 52,
      "metadata": {
        "colab": {
          "base_uri": "https://localhost:8080/",
          "height": 1000
        },
        "id": "GoNEX_QN48F_",
        "outputId": "71ea90af-5cb0-4cea-d438-bb738d066c20"
      },
      "outputs": [
        {
          "name": "stdout",
          "output_type": "stream",
          "text": [
            "Fields in y: ('Status', 'Survival_in_days')\n",
            "NAs in time: 0\n",
            "NAs in status: 0\n",
            "First few rows of lung dataset:\n",
            "    Age_in_years  Celltype  Karnofsky_score  Months_from_Diagnosis  \\\n",
            "0          69.0  squamous             60.0                    7.0   \n",
            "1          64.0  squamous             70.0                    5.0   \n",
            "2          38.0  squamous             60.0                    3.0   \n",
            "3          63.0  squamous             60.0                    9.0   \n",
            "4          65.0  squamous             70.0                   11.0   \n",
            "\n",
            "  Prior_therapy Treatment   time  status  \n",
            "0            no  standard   72.0    True  \n",
            "1           yes  standard  411.0    True  \n",
            "2            no  standard  228.0    True  \n",
            "3           yes  standard  126.0    True  \n",
            "4           yes  standard  118.0    True  \n",
            "Rows after removing NAs: 137\n",
            "Number of events (D=True):\n",
            "True     128\n",
            "False      9\n",
            "Name: count, dtype: int64\n",
            "Summary of event times where event observed:\n",
            "count    128.000000\n",
            "mean     122.125000\n",
            "std      162.610156\n",
            "min        1.000000\n",
            "25%       23.500000\n",
            "50%       62.000000\n",
            "75%      145.750000\n",
            "max      999.000000\n",
            "dtype: float64\n"
          ]
        },
        {
          "data": {
            "image/png": "[encoded data removed]",
            "text/plain": [
              "<Figure size 640x480 with 1 Axes>"
            ]
          },
          "metadata": {},
          "output_type": "display_data"
        },
        {
          "name": "stdout",
          "output_type": "stream",
          "text": [
            "Using horizon = 999.0\n"
          ]
        }
      ],
      "source": [
        "# Load the veterans_lung_cancer dataset\n",
        "X, y = load_veterans_lung_cancer()\n",
        "\n",
        "# Inspect the field names of y\n",
        "print(\"Fields in y:\", y.dtype.names)  # Should show ('Status', 'Survival_in_days')\n",
        "\n",
        "# Convert to DataFrame for easier manipulation\n",
        "lung = X.copy()\n",
        "lung['time'] = y['Survival_in_days']  # Correct field name\n",
        "lung['status'] = y['Status']  # Keep as boolean (True=event, False=censored)\n",
        "\n",
        "# Check for NAs in key variables\n",
        "print(\"NAs in time:\", lung['time'].isna().sum())\n",
        "print(\"NAs in status:\", lung['status'].isna().sum())\n",
        "print(\"First few rows of lung dataset:\\n\", lung.head())\n",
        "\n",
        "# --- Prepare the Data ---\n",
        "# Choose covariates (limited to available features in veterans_lung_cancer)\n",
        "covar_names = ['Age_in_years', 'Karnofsky_score', 'Months_from_Diagnosis', 'Prior_therapy']\n",
        "\n",
        "# Encode categorical variable 'Prior_therapy'\n",
        "le = LabelEncoder()\n",
        "lung['Prior_therapy'] = le.fit_transform(lung['Prior_therapy'])  # Convert 'yes'/'no' to 0/1\n",
        "\n",
        "# Drop rows with missing values\n",
        "lung2 = lung[['time', 'status', 'Treatment'] + covar_names].dropna()\n",
        "print(\"Rows after removing NAs:\", len(lung2))\n",
        "\n",
        "# Prepare variables for survival forest\n",
        "Y = lung2['time'].values  # Survival times\n",
        "D = lung2['status'].values  # Boolean (True=event, False=censored)\n",
        "W = (lung2['Treatment'] == 'test').astype(int).values  # 1=test, 0=standard\n",
        "X = lung2[covar_names].values  # Covariates as numpy array\n",
        "feature_names = covar_names\n",
        "\n",
        "# Convert D to int for survival_forest\n",
        "D_int = D.astype(int)\n",
        "\n",
        "# Check distribution of events and event times\n",
        "print(\"Number of events (D=True):\")\n",
        "print(pd.Series(D).value_counts())\n",
        "print(\"Summary of event times where event observed:\")\n",
        "print(pd.Series(Y[D]).describe())\n",
        "plt.hist(Y[D], bins=30, edgecolor='k')\n",
        "plt.title(\"Histogram of Event Times (Deaths)\")\n",
        "plt.xlabel(\"Survival Time (days)\")\n",
        "plt.ylabel(\"Frequency\")\n",
        "plt.show()\n",
        "\n",
        "# Find a valid horizon (latest time with at least one event)\n",
        "event_times = np.sort(np.unique(Y[D]))\n",
        "last_valid_ht = event_times[-1]\n",
        "for ht in event_times:\n",
        "    n_events = np.sum(D & (Y <= ht))\n",
        "    if n_events > 0:\n",
        "        last_valid_ht = ht\n",
        "print(\"Using horizon =\", last_valid_ht)"
      ]
    },
    {
      "cell_type": "markdown",
      "metadata": {
        "id": "RMe3nasHz9g-"
      },
      "source": [
        "### Split Data into Training and Test Sets"
      ]
    },
    {
      "cell_type": "code",
      "execution_count": 53,
      "metadata": {
        "colab": {
          "base_uri": "https://localhost:8080/"
        },
        "id": "JifkRNMPz-RR",
        "outputId": "4f1f9d79-d76b-4f14-b220-c08c9d49473f"
      },
      "outputs": [
        {
          "name": "stdout",
          "output_type": "stream",
          "text": [
            "Training set size: 109\n",
            "Test set size: 28\n",
            "Column names of X_train: ['Age_in_years', 'Karnofsky_score', 'Months_from_Diagnosis', 'Prior_therapy']\n"
          ]
        }
      ],
      "source": [
        "train_prop = 0.8\n",
        "n = len(lung2)\n",
        "train_idx = np.random.choice(n, size=int(train_prop * n), replace=False)\n",
        "test_idx = np.setdiff1d(np.arange(n), train_idx)\n",
        "\n",
        "# Training data\n",
        "X_train = X[train_idx]\n",
        "Y_train = Y[train_idx]\n",
        "D_train = D_int[train_idx]  # Use int for survival_forest\n",
        "W_train = W[train_idx]\n",
        "\n",
        "# Test data\n",
        "X_test = X[test_idx]\n",
        "Y_test = Y[test_idx]\n",
        "D_test = D[test_idx]  # Use boolean for concordance\n",
        "W_test = W[test_idx]\n",
        "\n",
        "print(\"Training set size:\", len(X_train))\n",
        "print(\"Test set size:\", len(X_test))\n",
        "print(\"Column names of X_train:\", covar_names)"
      ]
    },
    {
      "cell_type": "markdown",
      "metadata": {
        "id": "iCuXY1W30Kf2"
      },
      "source": [
        "### Train the Survival Forest\n",
        "\n",
        "Survival forest is trained using the `survival_forest()` function, which estimates the conditional survival function based on the training data."
      ]
    },
    {
      "cell_type": "code",
      "execution_count": 54,
      "metadata": {
        "colab": {
          "base_uri": "https://localhost:8080/"
        },
        "id": "K8_YZmzb0LTO",
        "outputId": "4e44eacc-dff2-44f9-e898-a82a52a6b3d7"
      },
      "outputs": [
        {
          "name": "stdout",
          "output_type": "stream",
          "text": [
            "Warning: Variable importance not supported in scikit-survival's RandomSurvivalForest.\n",
            "RandomSurvivalForest(max_features=4, min_samples_leaf=7, min_samples_split=15,\n",
            "                     n_estimators=1000, random_state=123)\n"
          ]
        }
      ],
      "source": [
        "# --- Train the Survival Forest ---\n",
        "result = survival_forest(\n",
        "    X=X_train,\n",
        "    Y=Y_train,\n",
        "    D=D_train,\n",
        "    num_trees=1000,\n",
        "    sample_fraction=0.5,\n",
        "    mtry=min(int(np.sqrt(X_train.shape[1]) + 20), X_train.shape[1]),\n",
        "    min_node_size=15,\n",
        "    honesty=True,\n",
        "    honesty_fraction=0.5,\n",
        "    prediction_type=\"Kaplan-Meier\",\n",
        "    compute_oob_predictions=True,\n",
        "    seed=123,\n",
        "    feature_names=feature_names\n",
        ")\n",
        "\n",
        "# Print model summary\n",
        "print(result['model'])"
      ]
    },
    {
      "cell_type": "markdown",
      "metadata": {
        "id": "2KI7kD5R0Qa9"
      },
      "source": [
        "### Evaluate the Survival Forest"
      ]
    },
    {
      "cell_type": "code",
      "execution_count": 55,
      "metadata": {
        "colab": {
          "base_uri": "https://localhost:8080/"
        },
        "id": "JipnL_6X0RJl",
        "outputId": "be8aebc4-4e32-400c-cc95-b0c784fa4658"
      },
      "outputs": [
        {
          "name": "stdout",
          "output_type": "stream",
          "text": [
            "Test Set Concordance: 0.655786350148368\n"
          ]
        }
      ],
      "source": [
        "# Predict on test set\n",
        "surv_fns_test = result['model'].predict_survival_function(X_test)\n",
        "time_points = result['event_times']\n",
        "\n",
        "# Evaluate using concordance (using boolean D_test)\n",
        "risk_scores = result['model'].predict(X_test)  # Risk scores\n",
        "concordance = concordance_index_censored(D_test, Y_test, risk_scores)[0]\n",
        "print(\"Test Set Concordance:\", concordance)"
      ]
    },
    {
      "cell_type": "markdown",
      "metadata": {
        "id": "pXppijnA0WiH"
      },
      "source": [
        "### Visualize Survival Curves"
      ]
    },
    {
      "cell_type": "code",
      "execution_count": 56,
      "metadata": {
        "colab": {
          "base_uri": "https://localhost:8080/",
          "height": 410
        },
        "id": "CGpOFOm80XQe",
        "outputId": "fd72371f-1aa7-4d44-d8a2-d6b7704cffb0"
      },
      "outputs": [
        {
          "data": {
            "image/png": "[encoded data removed]",
            "text/plain": [
              "<Figure size 600x400 with 1 Axes>"
            ]
          },
          "metadata": {},
          "output_type": "display_data"
        }
      ],
      "source": [
        "plt.figure(figsize=(6, 4))\n",
        "for i, surv_fn in enumerate(surv_fns_test[:min(3, len(X_test))]):\n",
        "    # Ensure surv_fn is evaluated at the correct time points\n",
        "    surv_values = surv_fn(time_points)  # Evaluate survival function at time_points\n",
        "    plt.step(time_points, surv_values, where=\"post\", label=f\"Sample {i+1}\", linewidth=2)\n",
        "plt.title(\"Survival Curves for Test Set Samples\")\n",
        "plt.xlabel(\"Time (days)\")\n",
        "plt.ylabel(\"Survival Probability\")\n",
        "plt.xlim(min(time_points), max(time_points))\n",
        "plt.ylim(0, 1)\n",
        "plt.legend()\n",
        "plt.show()\n"
      ]
    },
    {
      "cell_type": "markdown",
      "metadata": {
        "id": "k3sB7ApD0e7K"
      },
      "source": [
        "### Compute Median Survival Time"
      ]
    },
    {
      "cell_type": "code",
      "execution_count": 57,
      "metadata": {
        "colab": {
          "base_uri": "https://localhost:8080/"
        },
        "id": "nThsYP_a0fqX",
        "outputId": "45890d9f-65ad-4b52-a166-b124abc87dc1"
      },
      "outputs": [
        {
          "name": "stdout",
          "output_type": "stream",
          "text": [
            "Median survival times for test set (first 5 samples): [np.float64(132.0), np.float64(92.0), np.float64(151.0), np.float64(151.0), np.float64(20.0)]\n"
          ]
        }
      ],
      "source": [
        "# Compute Median Survival Time\n",
        "median_survival = []\n",
        "for surv_fn in surv_fns_test:\n",
        "    surv_values = surv_fn(time_points)  # Evaluate at time_points\n",
        "    idx = np.where(surv_values <= 0.5)[0]\n",
        "    median_time = time_points[idx[0]] if len(idx) > 0 else np.nan\n",
        "    median_survival.append(median_time)\n",
        "print(\"Median survival times for test set (first 5 samples):\", median_survival[:5])"
      ]
    },
    {
      "cell_type": "markdown",
      "metadata": {
        "id": "Syuh1wgigEM4"
      },
      "source": [
        "### Variable Importance\n",
        "\n",
        "The code below calculates permutation importance for your survival forest model. It measures how much shuffling a feature's values affects the model's prediction performance (using the concordance index or C-Index) to determine its importance. The results are stored and displayed in a table.\n",
        "\n",
        "`concordance_index_censored` is a function from the `sksurv.metrics `module that calculates the concordance index (C-index) for survival data that may contain censored observations."
      ]
    },
    {
      "cell_type": "code",
      "execution_count": 58,
      "metadata": {
        "colab": {
          "base_uri": "https://localhost:8080/"
        },
        "id": "0I0sOVtJgEmG",
        "outputId": "0e581e36-b001-429e-b20d-265053230f3b"
      },
      "outputs": [
        {
          "name": "stdout",
          "output_type": "stream",
          "text": [
            "Permutation Importance:\n",
            "                 Feature  Importance_Mean  Importance_Std\n",
            "1        Karnofsky_score         0.193323        0.055980\n",
            "0           Age_in_years        -0.013798        0.004787\n",
            "3          Prior_therapy        -0.020623        0.019040\n",
            "2  Months_from_Diagnosis        -0.030267        0.020561\n"
          ]
        }
      ],
      "source": [
        "from sklearn.inspection import permutation_importance\n",
        "from sksurv.metrics import concordance_index_censored\n",
        "from sksurv.util import Surv\n",
        "import pandas as pd\n",
        "\n",
        "# Define a wrapper function for concordance_index_censored\n",
        "def concordance_scorer(estimator, X, y):\n",
        "    \"\"\"\n",
        "    Wrapper for concordance_index_censored to be used with permutation_importance.\n",
        "    \"\"\"\n",
        "    # y is a structured array with 'event' and 'time' fields\n",
        "    event_indicator = y['event']\n",
        "    event_time = y['time']\n",
        "    # Predict risk scores (lower score = higher survival)\n",
        "    # sksurv's predict gives risk scores by default (higher score = lower survival)\n",
        "    # We need to negate or invert the prediction for concordance\n",
        "    risk_scores = estimator.predict(X)\n",
        "    # concordance_index_censored expects estimate where higher values mean higher risk\n",
        "    # sksurv.predict gives higher values for lower survival, so we can use it directly as a risk score\n",
        "    cindex, _, _, _, _ = concordance_index_censored(event_indicator, event_time, risk_scores)\n",
        "    return cindex\n",
        "\n",
        "# Calculate permutation importance\n",
        "# Note: Permutation importance can be computationally expensive\n",
        "result_importance = permutation_importance(\n",
        "    result['model'],\n",
        "    X_test,\n",
        "    Surv.from_arrays(event=D_test, time=Y_test), # Pass y as a structured array\n",
        "    scoring=concordance_scorer, # Use the wrapper function\n",
        "    n_repeats=10,  # Number of times to permute a feature\n",
        "    random_state=123,\n",
        "    n_jobs=-1  # Use all available CPU cores\n",
        ")\n",
        "\n",
        "# Store the importance results\n",
        "importance_mean = result_importance.importances_mean\n",
        "importance_std = result_importance.importances_std\n",
        "\n",
        "# Create a DataFrame for easier plotting\n",
        "importance_df = pd.DataFrame({\n",
        "    'Feature': feature_names,\n",
        "    'Importance_Mean': importance_mean,\n",
        "    'Importance_Std': importance_std\n",
        "})\n",
        "\n",
        "# Sort by importance\n",
        "importance_df = importance_df.sort_values('Importance_Mean', ascending=False)\n",
        "\n",
        "# Print the importance scores\n",
        "print(\"Permutation Importance:\")\n",
        "print(importance_df)"
      ]
    },
    {
      "cell_type": "code",
      "execution_count": 59,
      "metadata": {
        "colab": {
          "base_uri": "https://localhost:8080/",
          "height": 487
        },
        "id": "baa5a595",
        "outputId": "0b5d4230-8778-4c85-c5c2-fe82310cae4c"
      },
      "outputs": [
        {
          "data": {
            "image/png": "[encoded data removed]",
            "text/plain": [
              "<Figure size 600x500 with 1 Axes>"
            ]
          },
          "metadata": {},
          "output_type": "display_data"
        }
      ],
      "source": [
        "# Plot the permutation importance using matplotlib directly\n",
        "plt.figure(figsize=(6, 5))\n",
        "plt.barh(importance_df['Feature'], importance_df['Importance_Mean'], xerr=importance_df['Importance_Std'])\n",
        "plt.title(\"Permutation Importance of Features\")\n",
        "plt.xlabel(\"Importance (Mean Decrease in Concordance Index)\")\n",
        "plt.ylabel(\"Feature\")\n",
        "plt.gca().invert_yaxis() # Invert y-axis to have the most important feature on top\n",
        "plt.show()"
      ]
    },
    {
      "cell_type": "markdown",
      "metadata": {
        "id": "0CEhZOZr873O"
      },
      "source": [
        "\n",
        "## Summary and Conclusion\n",
        "\n",
        "This notebook explores the concept and implementation of a Survival Forest, a machine learning model tailored for analyzing right-censored survival data. It explains how Survival Forests extend standard random forests to handle survival outcomes, providing insights into key features like handling censored data, predicting survival curves, and supporting causal inference. The notebook highlights the motivation for creating a custom Python survival_forest() function to mimic the functionality of R's grf::survival_forest and address limitations in existing Python libraries like scikit-survival.\n",
        "\n",
        "The practical implementation uses the sksurv library to build the Survival Forest. The notebook demonstrates the process with the veterans lung cancer dataset, including data loading, preprocessing (handling categorical variables and missing data), splitting data into training and testing sets, training the survival_forest() function, and evaluating the model's performance using the concordance index. It also shows how to visualize survival curves for individual test samples and compute median survival times. Finally, it calculates and visualizes the permutation importance of features to understand their impact on the model's predictions.\n",
        "\n",
        "The notebook successfully demonstrates how to implement and utilize a Survival Forest in Python for analyzing right-censored survival data. By creating a custom function and leveraging sksurv, it provides a flexible approach to estimate conditional survival functions and assess feature importance. While acknowledging the current limitations of scikit-survival regarding native honesty support and direct variable importance calculation within the model object, the notebook showcases how permutation importance can be used as an alternative for understanding feature contributions. The results, including the concordance index and feature importance plot, provide valuable insights into the factors influencing survival in the veterans lung cancer dataset. This approach offers a powerful tool for researchers and practitioners working with survival data in Python."
      ]
    },
    {
      "cell_type": "markdown",
      "metadata": {
        "id": "SaZTnZx3QPGI"
      },
      "source": [
        "\n",
        "## References\n",
        "\n",
        "1.  Cui, Yifan, Michael R. Kosorok, Erik Sverdrup, Stefan Wager, and Ruoqing Zhu. \"Estimating Heterogeneous Treatment Effects with Right-Censored Data via Causal Survival Forests.\" Journal of the Royal Statistical Society: Series B, 85(2), 2023.\n",
        "\n",
        "2.  Ishwaran, Hemant, Udaya B. Kogalur, Eugene H. Blackstone, and Michael S. Lauer. \"Random survival forests.\" The Annals of Applied Statistics 2.3 (2008): 841-860.\n",
        "\n",
        "3.  [Survival forest](hhttps://grf-labs.github.io/grf/reference/survival_forest.html#arguments)\n"
      ]
    }
  ],
  "metadata": {
    "colab": {
      "authorship_tag": "ABX9TyPbVmm15u1SEHvVlJpFfJwy",
      "include_colab_link": true,
      "provenance": [],
      "toc_visible": true
    },
    "kernelspec": {
      "display_name": "Python 3",
      "name": "python3"
    },
    "language_info": {
      "name": "python"
    }
  },
  "nbformat": 4,
  "nbformat_minor": 0
}
