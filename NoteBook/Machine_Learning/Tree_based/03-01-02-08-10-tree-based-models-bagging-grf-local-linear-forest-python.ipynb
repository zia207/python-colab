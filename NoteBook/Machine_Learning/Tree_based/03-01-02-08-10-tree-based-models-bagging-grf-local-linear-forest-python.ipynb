{
  "cells": [
    {
      "cell_type": "markdown",
      "metadata": {
        "colab_type": "text",
        "id": "view-in-github"
      },
      "source": [
        "<a href=\"https://colab.research.google.com/github/zia207/python-colab/blob/main/NoteBook/Machine_Learning/Tree_based/03-01-02-08-10-tree-based-models-bagging-grf-local-linear-forest-python.ipynb\" target=\"_parent\"><img src=\"https://colab.research.google.com/assets/colab-badge.svg\" alt=\"Open In Colab\"/></a>"
      ]
    },
    {
      "cell_type": "markdown",
      "metadata": {
        "id": "zYZbTX0qQrZb"
      },
      "source": [
        "![alt text](http://drive.google.com/uc?export=view&id=1IFEWet-Aw4DhkkVe1xv_2YYqlvRe9m5_)"
      ]
    },
    {
      "cell_type": "markdown",
      "metadata": {
        "id": "RGBfrL2GQoII"
      },
      "source": [
        "# 2.8.10 Local Linear Forest\n",
        "\n",
        "A **Local Linear Forest (LLF)**, as implemented in the `{grf}` package in R, is an advanced extension of the random forest framework that combines the flexibility of random forests with local linear regression to improve prediction accuracy, particularly for smooth relationships between features and outcomes. It is designed to refine the predictions of a standard random forest by incorporating local linear corrections, making it especially effective for regression tasks where the underlying relationship varies smoothly across the feature space. Below, I’ll explain the concept, its implementation in `{grf}`, and how it differs from standard regression forests.\n"
      ]
    },
    {
      "cell_type": "markdown",
      "metadata": {
        "id": "S77MsgmqIYD0"
      },
      "source": [
        "## Overview\n",
        "\n",
        "A Local Linear Forest builds on the generalized random forest framework by adding a **local linear correction** step to the predictions made by a random forest. While a standard random forest predicts outcomes by averaging the response values in a leaf (a step function), LLF refines these predictions by fitting a local linear regression model at each prediction point, using the forest’s similarity weights to define the \"neighborhood\" of that point. This approach captures smooth trends in the data while retaining the random forest’s ability to handle non-linear relationships and high-dimensional feature spaces.\n",
        "\n"
      ]
    },
    {
      "cell_type": "markdown",
      "metadata": {
        "id": "EnR-z3S9vTpk"
      },
      "source": [
        "Key features\n",
        "\n",
        "- `Random Forest Foundation`: Like other random forests, LLF uses an ensemble of decision trees trained on random subsets of data and features.\n",
        "- `Local Linear Correction`: For each prediction, LLF fits a weighted linear regression model, where weights are derived from the forest’s tree structure (based on how often data points share leaves with the target point).\n",
        "- `Honest Splitting`: Supports honest estimation (separating data for tree splits and leaf estimates) to reduce bias.\n",
        "- `Smooth Predictions`: Produces smoother predictions than standard random forests, which are piecewise constant within leaves.\n"
      ]
    },
    {
      "cell_type": "markdown",
      "metadata": {
        "id": "VwEoykvwI2dS"
      },
      "source": [
        "### How Local Linear Forests Work\n",
        "\n",
        "The `ll_regression_forest()` function in `{grf}` in R implements Local Linear Forests. Here’s how it works:\n",
        "\n",
        "1. Input Data\n",
        "\n",
        "   - A feature matrix $X$ (predictors) and a vector $Y$ (continuous outcome).\n",
        "   - Optional parameters like `num.trees`, `honesty`, `ll.lambda` (regularization for the linear correction), and `enable.ll.split` (to incorporate local linear splitting).\n",
        "\n",
        "2. Tree Construction\n",
        "\n",
        "   - Each tree is grown using a bootstrap sample of the data and a random subset of features for splits.\n",
        "   - Splits are typically chosen to minimize mean squared error (MSE), but `{grf}` allows for local linear splitting criteria (`enable.ll.split = TRUE`), which optimize splits based on local linear fits.\n",
        "   - If `honesty = TRUE`, data is split into two parts: one for building the tree structure and another for estimating leaf values.\n",
        "\n",
        "3. Local Linear Correction\n",
        "\n",
        "   - For a new data point $x$, the forest computes **similarity weights** based on how often $x$ shares a leaf with training points across all trees. These weights define a local neighborhood around $x$.\n",
        "   \n",
        "   - A weighted linear regression is fitted using the training data, with weights from the forest, to predict the outcome at $x$. The regression model is typically of the form:\n",
        "  \n",
        "  $$ \\hat{y}(x) = \\hat{\\beta}_0 + \\hat{\\beta}_1 x_1 + \\cdots + \\hat{\\beta}_p x_p $$\n",
        "  \n",
        "  where $\\hat{\\beta}$coefficients are estimated locally, and `ll.lambda` controls ridge regularization to prevent overfitting.\n",
        "\n",
        "4. Prediction\n",
        "\n",
        "   - The final prediction combines the forest’s structure with the local linear fit, producing a smoother estimate than the step-wise predictions of a standard random forest.\n",
        "\n",
        "5. Output\n",
        "\n",
        "   - Predictions for new data points.\n",
        "   - Optional outputs like variable importance or variance estimates.\n"
      ]
    },
    {
      "cell_type": "markdown",
      "metadata": {
        "id": "bIBhNo81s-Nt"
      },
      "source": [
        "### Advantages of Local Linear Forests\n",
        "\n",
        "1. `Smoother Predictions`: LLF produces predictions that vary smoothly with features, unlike the step-like predictions of standard random forests, making it better suited for smooth relationships.\n",
        "\n",
        "2. `Improved Accuracy`: The local linear correction can improve predictive performance, especially in regions where the relationship between features and outcomes is approximately linear.\n",
        "\n",
        "3. `Flexibility`: Combines the non-linear modeling of random forests with the local linearity of regression, balancing complexity and smoothness.\n",
        "\n",
        "4. `Honest Estimation`: Inherits `{grf}`’s honest splitting, reducing bias in predictions.\n",
        "\n",
        "5. `Robustness`: Handles high-dimensional data and non-linear relationships effectively, like standard random forests."
      ]
    },
    {
      "cell_type": "markdown",
      "metadata": {
        "id": "NmMsBJhJvpJR"
      },
      "source": [
        "### Limitations`\n",
        "\n",
        "1. `Computational Cost`: The local linear correction step increases computation time compared to standard regression forests, especially for large datasets or many predictions.\n",
        "\n",
        "2. `Regularization Sensitivity`: The `ll.lambda` parameter (ridge penalty) needs careful tuning to avoid overfitting or underfitting the local linear models.\n",
        "\n",
        "3. `Assumes Local Smoothness`: LLF performs best when the outcome varies smoothly with features. If the relationship is highly non-linear or discontinuous, a standard regression forest may be sufficient.\n",
        "\n",
        "4. `Complexity`: Interpreting the local linear coefficients can be challenging compared to the simpler averaging in standard forests."
      ]
    },
    {
      "cell_type": "markdown",
      "metadata": {
        "id": "sB4AWWpIHVOa"
      },
      "source": [
        "### Applications\n",
        "\n",
        "- `Economics`: Predicting outcomes like housing prices or income, where smooth relationships with features (e.g., location, size) are expected.\n",
        "- `Environmental Science`: Modeling smooth spatial or temporal trends, such as temperature or pollution levels.\n",
        "- `Healthcare`: Predicting continuous health metrics (e.g., blood pressure) that vary smoothly with patient characteristics.\n",
        "- `Any Regression Task`: Where the outcome is expected to have locally smooth behavior with respect to predictors."
      ]
    },
    {
      "cell_type": "markdown",
      "metadata": {
        "id": "-u2tkR3KvrbW"
      },
      "source": [
        "### Key Differences from Standard Regression Forest\n",
        "\n",
        "| **Aspect**                     | **Standard Regression Forest** (`regression_forest`) | **Local Linear Forest** (`ll_regression_forest`) |\n",
        "|--------------------------------|----------------------------------------------------|-----------------------------------------------|\n",
        "| `Prediction Method`          | Averages outcomes in the leaf where a point falls. | Fits a local linear regression using forest weights. |\n",
        "| `Smoothness`                 | Piecewise constant (step function within leaves).  | Smooth predictions via local linear adjustments. |\n",
        "| `Splitting Criterion`        | Minimizes MSE for the outcome.                    | Can use local linear splitting (`enable.ll.split`). |\n",
        "| `Use Case`                   | General regression tasks with complex, non-smooth relationships. | Regression tasks where the outcome varies smoothly with features. |\n",
        "| `Computational Cost`         | Lower (simpler prediction step).                  | Higher (due to local linear regression per prediction). |\n",
        "| `Regularization`             | No explicit regularization in prediction.          | Uses ridge regularization (`ll.lambda`) in local fits. |\n",
        "\n",
        "\n",
        "\n"
      ]
    },
    {
      "cell_type": "markdown",
      "metadata": {
        "id": "bh7jEhGCLDZA"
      },
      "source": [
        "\n",
        "##  Local Linear Forest (LLF) with Python\n",
        "\n",
        "There is no standard optimized Python package like {scikit-learn} for LLF.  Below, a Python implementation of LLF by adapting the {grf} package of  R via Python’s R interface (rpy2).\n",
        "\n",
        "To illustrate, let’s use the Boston Housing dataset to predict two related outcomes: `medv` (median housing price) and `tax` (property tax rate). We’ll fit a `multi_regression_forest()`, predict on a test set, and evaluate performance.\n",
        "\n",
        "\n"
      ]
    },
    {
      "cell_type": "code",
      "execution_count": 2,
      "metadata": {
        "colab": {
          "base_uri": "https://localhost:8080/"
        },
        "id": "x15PhGH6fUSt",
        "outputId": "15240b54-8f56-421c-ef12-81c3548f9776"
      },
      "outputs": [
        {
          "name": "stdout",
          "output_type": "stream",
          "text": [
            "Requirement already satisfied: rpy2 in /usr/local/lib/python3.11/dist-packages (3.5.17)\n",
            "Requirement already satisfied: cffi>=1.15.1 in /usr/local/lib/python3.11/dist-packages (from rpy2) (1.17.1)\n",
            "Requirement already satisfied: jinja2 in /usr/local/lib/python3.11/dist-packages (from rpy2) (3.1.6)\n",
            "Requirement already satisfied: tzlocal in /usr/local/lib/python3.11/dist-packages (from rpy2) (5.3.1)\n",
            "Requirement already satisfied: pycparser in /usr/local/lib/python3.11/dist-packages (from cffi>=1.15.1->rpy2) (2.22)\n",
            "Requirement already satisfied: MarkupSafe>=2.0 in /usr/local/lib/python3.11/dist-packages (from jinja2->rpy2) (3.0.2)\n"
          ]
        }
      ],
      "source": [
        "# Install required Python packages\n",
        "!pip install rpy2"
      ]
    },
    {
      "cell_type": "code",
      "execution_count": 53,
      "metadata": {
        "id": "Xub98A4ljQVk"
      },
      "outputs": [],
      "source": [
        "# Import necessary libraries\n",
        "import pandas as pd\n",
        "import numpy as np\n",
        "import matplotlib.pyplot as plt\n",
        "import seaborn as sns\n",
        "import rpy2.robjects as ro\n",
        "from rpy2.robjects import pandas2ri, numpy2ri\n",
        "from rpy2.robjects.packages import importr\n",
        "from sklearn.model_selection import train_test_split\n"
      ]
    },
    {
      "cell_type": "code",
      "execution_count": 54,
      "metadata": {
        "id": "cQQDTyGyjVcc"
      },
      "outputs": [],
      "source": [
        "# Activate automatic conversion between pandas/numpy and R objects\n",
        "pandas2ri.activate()\n",
        "numpy2ri.activate()"
      ]
    },
    {
      "cell_type": "code",
      "execution_count": null,
      "metadata": {
        "id": "hYHPWoYofWQu"
      },
      "outputs": [],
      "source": [
        "%load_ext rpy2.ipython\n",
        "\n",
        "r = ro.r\n",
        "r['install.packages'](\"grf\", repos='http://cran.us.r-project.org')\n",
        "r.library(\"grf\")\n",
        "# Load R packages\n",
        "base = importr('base')\n",
        "grf = importr('grf')"
      ]
    },
    {
      "cell_type": "markdown",
      "metadata": {
        "id": "IPobetr0zFC5"
      },
      "source": [
        "### Load and Prepare the Dataset\n"
      ]
    },
    {
      "cell_type": "code",
      "execution_count": 59,
      "metadata": {
        "id": "7gr31Y2-26Rr"
      },
      "outputs": [],
      "source": [
        "# Set seed for reproducibility\n",
        "np.random.seed(123)\n",
        "r('set.seed(123)')\n",
        "\n",
        "# Load the Boston Housing dataset\n",
        "data_url = \"http://lib.stat.cmu.edu/datasets/boston\"\n",
        "raw_df = pd.read_csv(data_url, sep=\"\\s+\", skiprows=22, header=None)\n",
        "data = np.hstack([raw_df.values[::2, :], raw_df.values[1::2, :2]])\n",
        "target = raw_df.values[1::2, 2]\n",
        "feature_names = ['CRIM', 'ZN', 'INDUS', 'CHAS', 'NOX', 'RM', 'AGE', 'DIS', 'RAD', 'TAX', 'PTRATIO', 'B', 'LSTAT']\n",
        "\n",
        "# Create a pandas DataFrame\n",
        "boston_df = pd.DataFrame(data, columns=feature_names)\n",
        "boston_df['medv'] = target\n",
        "\n",
        "# Split data into training (70%) and test (30%) sets\n",
        "train_data, test_data = train_test_split(boston_df, test_size=0.3, random_state=123)\n",
        "\n",
        "# Prepare features (X) and target (Y) as pandas DataFrames\n",
        "X_train = train_data.drop('medv', axis=1)\n",
        "Y_train = train_data['medv']\n",
        "X_test = test_data.drop('medv', axis=1)\n",
        "Y_test = test_data['medv']\n",
        "\n",
        "# Convert to R objects for grf\n",
        "X_train_r = pandas2ri.py2rpy(X_train)  # Convert pandas DataFrame to R matrix\n",
        "Y_train_r = pandas2ri.py2rpy(Y_train)  # Convert pandas Series to R vector\n",
        "X_test_r = pandas2ri.py2rpy(X_test)    # Convert pandas DataFrame to R matrix"
      ]
    },
    {
      "cell_type": "markdown",
      "metadata": {
        "id": "jxK5d0frBs8O"
      },
      "source": [
        "### Fit Local Linear Forest\n",
        "\n",
        "We  will use `ll_regression_forest()` with 500 trees, `honesty = TRUE,` and a small ridge penalty (`ll.split.lambda = 0.01`) for the local linear correction. The `ll.split.lambda` parameter controls regularization to stabilize the local linear fits."
      ]
    },
    {
      "cell_type": "code",
      "execution_count": 60,
      "metadata": {
        "colab": {
          "base_uri": "https://localhost:8080/"
        },
        "id": "Ou9edbC9Bt5M",
        "outputId": "30f45a86-d0a3-4f1b-d717-6f5fba2ab93b"
      },
      "outputs": [
        {
          "name": "stdout",
          "output_type": "stream",
          "text": [
            "GRF forest object of type ll_regression_forest \n",
            "Number of trees: 500 \n",
            "Number of training samples: 354 \n",
            "Variable importance: \n",
            "    1     2     3     4     5     6     7     8     9    10    11    12    13 \n",
            "0.026 0.003 0.008 0.000 0.022 0.490 0.011 0.027 0.003 0.010 0.015 0.009 0.377 \n",
            "\n"
          ]
        }
      ],
      "source": [
        "# Fit local linear forest\n",
        "ll_rf = grf.ll_regression_forest(X_train_r,\n",
        "                                 Y_train_r,\n",
        "                                 num_trees=500,\n",
        "                                 honesty=True,\n",
        "                                 ll_split_lambda=0.1)\n",
        "print(ll_rf)"
      ]
    },
    {
      "cell_type": "markdown",
      "metadata": {
        "id": "7KgHx7kY9EEg"
      },
      "source": [
        "### Prediction and Evaluation"
      ]
    },
    {
      "cell_type": "code",
      "execution_count": 61,
      "metadata": {
        "colab": {
          "base_uri": "https://localhost:8080/"
        },
        "id": "m0vovr-CfwBZ",
        "outputId": "c6985ad1-3391-4234-bff0-3acb4a25175e"
      },
      "outputs": [
        {
          "name": "stdout",
          "output_type": "stream",
          "text": [
            "Test Set RMSE: 3.793\n",
            "Test Set R-squared: 0.822\n"
          ]
        }
      ],
      "source": [
        "# Predict on test set\n",
        "predictions_r = grf.predict_ll_regression_forest(ll_rf, X_test_r)\n",
        "predictions = np.array(predictions_r.rx2('predictions'))\n",
        "\n",
        "# Calculate RMSE and R-squared\n",
        "rmse = np.sqrt(np.mean((predictions - Y_test) ** 2))\n",
        "sst = np.sum((Y_test - np.mean(Y_test)) ** 2)\n",
        "sse = np.sum((predictions - Y_test) ** 2)\n",
        "r_squared = 1 - sse / sst\n",
        "\n",
        "# Print performance metrics\n",
        "print(f\"Test Set RMSE: {rmse:.3f}\")\n",
        "print(f\"Test Set R-squared: {r_squared:.3f}\")"
      ]
    },
    {
      "cell_type": "code",
      "execution_count": 62,
      "metadata": {
        "colab": {
          "base_uri": "https://localhost:8080/",
          "height": 487
        },
        "id": "6SoYugD6CEgf",
        "outputId": "9b96ab3e-83a9-4fb3-9b5a-053fc6de57b1"
      },
      "outputs": [
        {
          "data": {
            "image/png": "[encoded data removed]",
            "text/plain": [
              "<Figure size 650x500 with 1 Axes>"
            ]
          },
          "metadata": {},
          "output_type": "display_data"
        }
      ],
      "source": [
        "# Scatter plot of predicted vs observed values\n",
        "plt.figure(figsize=(6.5, 5))\n",
        "plt.scatter(Y_test, predictions, c='blue', marker='o', label='Predictions')\n",
        "plt.plot([min(Y_test.min(), predictions.min()), max(Y_test.max(), predictions.max())],\n",
        "         [min(Y_test.min(), predictions.min()), max(Y_test.max(), predictions.max())],\n",
        "         'r--', label='45-degree line')\n",
        "plt.xlabel(\"Observed medv ($1000s)\")\n",
        "plt.ylabel(\"Predicted medv ($1000s)\")\n",
        "plt.title(\"Predicted vs Observed Median Housing Prices (Local Linear Forest)\")\n",
        "plt.legend([f'R-squared: {r_squared:.3f}', f'RMSE: {rmse:.3f}'], loc='upper left')\n",
        "plt.grid(True)\n",
        "plt.show()"
      ]
    },
    {
      "cell_type": "markdown",
      "metadata": {
        "id": "57e2a12d"
      },
      "source": [
        "## Summary and Conclusion\n",
        "\n",
        "This notebook explored the concept and implementation of Local Linear Forests (LLF) using the `{grf}` package in R via the `rpy2` interface in Python.\n",
        "\n",
        "We started by explaining the theoretical foundations of LLF, highlighting its key features, how it works, its advantages (smoother predictions, potentially improved accuracy), and its limitations (computational cost, regularization sensitivity). We also compared LLF to standard regression forests, emphasizing the difference in their prediction methods and the smoothness of their outputs.\n",
        "\n",
        "To demonstrate LLF in practice, we used the Boston Housing dataset to predict median housing prices (`medv`). We loaded and prepared the data, splitting it into training and test sets. We then fit a Local Linear Forest model using `grf.ll_regression_forest()` and made predictions on the test set.\n",
        "\n",
        "The performance of the LLF model was evaluated using Root Mean Squared Error (RMSE) and R-squared. The results indicated a good fit to the data, with an RMSE of **3.793** and an R-squared of **0.822**. The scatter plot of predicted versus observed values visually confirmed the model's ability to capture the trend in the median housing prices.\n",
        "\n",
        "Although an attempt was made to extract and plot variable importance, an error occurred during the extraction process.\n",
        "\n",
        "In conclusion, this notebook successfully demonstrated how to implement and evaluate a Local Linear Forest model for a regression task using `rpy2` to bridge Python and the `{grf}` package in R. LLF provides a powerful alternative to standard regression forests when smoother predictions and local linear corrections are desired."
      ]
    },
    {
      "cell_type": "markdown",
      "metadata": {
        "id": "SaZTnZx3QPGI"
      },
      "source": [
        "\n",
        "## References\n",
        "\n",
        "1. Friedberg, Rina, Julie Tibshirani, Susan Athey, and Stefan Wager. \"Local Linear Forests\". Journal of Computational and Graphical Statistics, 30(2), 2020.\n",
        "\n",
        "\n",
        "2. [Local linear forest](https://grf-labs.github.io/grf/reference/ll_regression_forest.html)\n",
        "\n"
      ]
    }
  ],
  "metadata": {
    "colab": {
      "authorship_tag": "ABX9TyPCnKOHdkRztLpVVKVNo9m+",
      "include_colab_link": true,
      "provenance": [],
      "toc_visible": true
    },
    "kernelspec": {
      "display_name": "Python 3",
      "name": "python3"
    },
    "language_info": {
      "name": "python"
    }
  },
  "nbformat": 4,
  "nbformat_minor": 0
}
