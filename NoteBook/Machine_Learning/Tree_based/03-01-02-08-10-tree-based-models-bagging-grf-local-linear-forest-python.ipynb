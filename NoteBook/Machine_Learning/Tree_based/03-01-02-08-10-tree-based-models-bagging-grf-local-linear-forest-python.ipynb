{
  "cells": [
    {
      "cell_type": "markdown",
      "metadata": {
        "colab_type": "text",
        "id": "view-in-github"
      },
      "source": [
        "<a href=\"https://colab.research.google.com/github/zia207/python-colab/blob/main/NoteBook/Machine_Learning/Tree_based/03-01-02-08-10-tree-based-models-bagging-grf-local-linear-forest-python.ipynb\" target=\"_parent\"><img src=\"https://colab.research.google.com/assets/colab-badge.svg\" alt=\"Open In Colab\"/></a>"
      ]
    },
    {
      "cell_type": "markdown",
      "metadata": {
        "id": "zYZbTX0qQrZb"
      },
      "source": [
        "![alt text](http://drive.google.com/uc?export=view&id=1IFEWet-Aw4DhkkVe1xv_2YYqlvRe9m5_)"
      ]
    },
    {
      "cell_type": "markdown",
      "metadata": {
        "id": "RGBfrL2GQoII"
      },
      "source": [
        "# 2.8.10 Local Linear Forest\n",
        "\n",
        "A **Local Linear Forest (LLF)**  is an advanced extension of the random forest framework that combines the flexibility of random forests with local linear regression to improve prediction accuracy, particularly for smooth relationships between features and outcomes. It is designed to refine the predictions of a standard random forest by incorporating local linear corrections, making it especially effective for regression tasks where the underlying relationship varies smoothly across the feature space. Below, I’ll explain the concept, its implementation, and how it differs from standard regression forests.\n"
      ]
    },
    {
      "cell_type": "markdown",
      "metadata": {
        "id": "S77MsgmqIYD0"
      },
      "source": [
        "## Overview\n",
        "\n",
        "A Local Linear Forest builds on the generalized random forest framework by adding a **local linear correction** step to the predictions made by a random forest. While a standard random forest predicts outcomes by averaging the response values in a leaf (a step function), LLF refines these predictions by fitting a local linear regression model at each prediction point, using the forest’s similarity weights to define the \"neighborhood\" of that point. This approach captures smooth trends in the data while retaining the random forest’s ability to handle non-linear relationships and high-dimensional feature spaces.\n",
        "\n"
      ]
    },
    {
      "cell_type": "markdown",
      "metadata": {
        "id": "EnR-z3S9vTpk"
      },
      "source": [
        "Key features\n",
        "\n",
        "- `Random Forest Foundation`: Like other random forests, LLF uses an ensemble of decision trees trained on random subsets of data and features.\n",
        "- `Local Linear Correction`: For each prediction, LLF fits a weighted linear regression model, where weights are derived from the forest’s tree structure (based on how often data points share leaves with the target point).\n",
        "- `Honest Splitting`: Supports honest estimation (separating data for tree splits and leaf estimates) to reduce bias.\n",
        "- `Smooth Predictions`: Produces smoother predictions than standard random forests, which are piecewise constant within leaves.\n"
      ]
    },
    {
      "cell_type": "markdown",
      "metadata": {
        "id": "VwEoykvwI2dS"
      },
      "source": [
        "### How Local Linear Forests Work\n",
        "\n",
        "The `ll_regression_forest()` function in `{grf}` in R implements Local Linear Forests. Here’s how it works:\n",
        "\n",
        "1. Input Data\n",
        "\n",
        "   - A feature matrix $X$ (predictors) and a vector $Y$ (continuous outcome).\n",
        "   - Optional parameters like `num.trees`, `honesty`, `ll.lambda` (regularization for the linear correction), and `enable.ll.split` (to incorporate local linear splitting).\n",
        "\n",
        "2. Tree Construction\n",
        "\n",
        "   - Each tree is grown using a bootstrap sample of the data and a random subset of features for splits.\n",
        "   - Splits are typically chosen to minimize mean squared error (MSE), but `{grf}` allows for local linear splitting criteria (`enable.ll.split = TRUE`), which optimize splits based on local linear fits.\n",
        "   - If `honesty = TRUE`, data is split into two parts: one for building the tree structure and another for estimating leaf values.\n",
        "\n",
        "3. Local Linear Correction\n",
        "\n",
        "   - For a new data point $x$, the forest computes **similarity weights** based on how often $x$ shares a leaf with training points across all trees. These weights define a local neighborhood around $x$.\n",
        "   \n",
        "   - A weighted linear regression is fitted using the training data, with weights from the forest, to predict the outcome at $x$. The regression model is typically of the form:\n",
        "  \n",
        "  $$ \\hat{y}(x) = \\hat{\\beta}_0 + \\hat{\\beta}_1 x_1 + \\cdots + \\hat{\\beta}_p x_p $$\n",
        "  \n",
        "  where $\\hat{\\beta}$coefficients are estimated locally, and `ll.lambda` controls ridge regularization to prevent overfitting.\n",
        "\n",
        "4. Prediction\n",
        "\n",
        "   - The final prediction combines the forest’s structure with the local linear fit, producing a smoother estimate than the step-wise predictions of a standard random forest.\n",
        "\n",
        "5. Output\n",
        "\n",
        "   - Predictions for new data points.\n",
        "   - Optional outputs like variable importance or variance estimates.\n"
      ]
    },
    {
      "cell_type": "markdown",
      "metadata": {
        "id": "bIBhNo81s-Nt"
      },
      "source": [
        "### Advantages of Local Linear Forests\n",
        "\n",
        "1. `Smoother Predictions`: LLF produces predictions that vary smoothly with features, unlike the step-like predictions of standard random forests, making it better suited for smooth relationships.\n",
        "\n",
        "2. `Improved Accuracy`: The local linear correction can improve predictive performance, especially in regions where the relationship between features and outcomes is approximately linear.\n",
        "\n",
        "3. `Flexibility`: Combines the non-linear modeling of random forests with the local linearity of regression, balancing complexity and smoothness.\n",
        "\n",
        "4. `Honest Estimation`: Inherits `{grf}`’s honest splitting, reducing bias in predictions.\n",
        "\n",
        "5. `Robustness`: Handles high-dimensional data and non-linear relationships effectively, like standard random forests."
      ]
    },
    {
      "cell_type": "markdown",
      "metadata": {
        "id": "NmMsBJhJvpJR"
      },
      "source": [
        "### Limitations`\n",
        "\n",
        "1. `Computational Cost`: The local linear correction step increases computation time compared to standard regression forests, especially for large datasets or many predictions.\n",
        "\n",
        "2. `Regularization Sensitivity`: The `ll.lambda` parameter (ridge penalty) needs careful tuning to avoid overfitting or underfitting the local linear models.\n",
        "\n",
        "3. `Assumes Local Smoothness`: LLF performs best when the outcome varies smoothly with features. If the relationship is highly non-linear or discontinuous, a standard regression forest may be sufficient.\n",
        "\n",
        "4. `Complexity`: Interpreting the local linear coefficients can be challenging compared to the simpler averaging in standard forests."
      ]
    },
    {
      "cell_type": "markdown",
      "metadata": {
        "id": "sB4AWWpIHVOa"
      },
      "source": [
        "### Applications\n",
        "\n",
        "- `Economics`: Predicting outcomes like housing prices or income, where smooth relationships with features (e.g., location, size) are expected.\n",
        "- `Environmental Science`: Modeling smooth spatial or temporal trends, such as temperature or pollution levels.\n",
        "- `Healthcare`: Predicting continuous health metrics (e.g., blood pressure) that vary smoothly with patient characteristics.\n",
        "- `Any Regression Task`: Where the outcome is expected to have locally smooth behavior with respect to predictors."
      ]
    },
    {
      "cell_type": "markdown",
      "metadata": {
        "id": "-u2tkR3KvrbW"
      },
      "source": [
        "### Key Differences from Standard Regression Forest\n",
        "\n",
        "| **Aspect**                     | **Standard Regression Forest** (`regression_forest`) | **Local Linear Forest** (`ll_regression_forest`) |\n",
        "|--------------------------------|----------------------------------------------------|-----------------------------------------------|\n",
        "| `Prediction Method`          | Averages outcomes in the leaf where a point falls. | Fits a local linear regression using forest weights. |\n",
        "| `Smoothness`                 | Piecewise constant (step function within leaves).  | Smooth predictions via local linear adjustments. |\n",
        "| `Splitting Criterion`        | Minimizes MSE for the outcome.                    | Can use local linear splitting (`enable.ll.split`). |\n",
        "| `Use Case`                   | General regression tasks with complex, non-smooth relationships. | Regression tasks where the outcome varies smoothly with features. |\n",
        "| `Computational Cost`         | Lower (simpler prediction step).                  | Higher (due to local linear regression per prediction). |\n",
        "| `Regularization`             | No explicit regularization in prediction.          | Uses ridge regularization (`ll.lambda`) in local fits. |\n",
        "\n",
        "\n",
        "\n"
      ]
    },
    {
      "cell_type": "markdown",
      "metadata": {
        "id": "bh7jEhGCLDZA"
      },
      "source": [
        "\n",
        "##  Local Linear Forest (LLF) with Python\n",
        "\n",
        "There is no standard optimized Python package like {scikit-learn} for LLF.  Below, a Python implementation of LLF similar to the {grf} package of  R. To illustrate, let’s use the Boston Housing dataset to predict two related outcomes: `medv` (median housing price). We’ll creat a function `LLRegressionForest()` to fit local regression forest and predict on a test set, and evaluate performance.\n",
        "\n",
        "\n"
      ]
    },
    {
      "cell_type": "code",
      "execution_count": 1,
      "metadata": {
        "id": "Xub98A4ljQVk"
      },
      "outputs": [],
      "source": [
        "# Import necessary libraries\n",
        "import numpy as np\n",
        "import pandas as pd\n",
        "import matplotlib.pyplot as plt\n",
        "from sklearn.model_selection import train_test_split\n",
        "from sklearn.metrics import mean_squared_error, r2_score\n",
        "import warnings\n",
        "warnings.filterwarnings('ignore')\n"
      ]
    },
    {
      "cell_type": "markdown",
      "metadata": {
        "id": "IPobetr0zFC5"
      },
      "source": [
        "### Load and Prepare the Dataset\n"
      ]
    },
    {
      "cell_type": "code",
      "execution_count": 2,
      "metadata": {
        "id": "7gr31Y2-26Rr"
      },
      "outputs": [
        {
          "name": "stdout",
          "output_type": "stream",
          "text": [
            "Training data shape: (354, 13)\n",
            "Test data shape: (152, 13)\n"
          ]
        }
      ],
      "source": [
        "# Set seed for reproducibility\n",
        "np.random.seed(123)\n",
        "\n",
        "# Load the Boston Housing dataset\n",
        "data_url = \"http://lib.stat.cmu.edu/datasets/boston\"\n",
        "raw_df = pd.read_csv(data_url, sep=\"\\s+\", skiprows=22, header=None)\n",
        "data = np.hstack([raw_df.values[::2, :], raw_df.values[1::2, :2]])\n",
        "target = raw_df.values[1::2, 2]\n",
        "feature_names = ['CRIM', 'ZN', 'INDUS', 'CHAS', 'NOX', 'RM', 'AGE', 'DIS', 'RAD', 'TAX', 'PTRATIO', 'B', 'LSTAT']\n",
        "\n",
        "# Create a pandas DataFrame\n",
        "boston_df = pd.DataFrame(data, columns=feature_names)\n",
        "boston_df['medv'] = target\n",
        "\n",
        "# Split data into training (70%) and test (30%) sets\n",
        "train_data, test_data = train_test_split(boston_df, test_size=0.3, random_state=123)\n",
        "\n",
        "# Prepare features (X) and target (Y) as pandas DataFrames\n",
        "X_train = train_data.drop('medv', axis=1)\n",
        "Y_train = train_data['medv']\n",
        "X_test = test_data.drop('medv', axis=1)\n",
        "Y_test = test_data['medv']\n",
        "\n",
        "print(f\"Training data shape: {X_train.shape}\")\n",
        "print(f\"Test data shape: {X_test.shape}\")"
      ]
    },
    {
      "cell_type": "markdown",
      "metadata": {},
      "source": [
        "###  Python Class for Local Linear Regression Forest"
      ]
    },
    {
      "cell_type": "code",
      "execution_count": 3,
      "metadata": {},
      "outputs": [],
      "source": [
        "class LLRegressionForest:\n",
        "    \"\"\"Local Linear Regression Forest implementation\"\"\"\n",
        "    \n",
        "    def __init__(self, num_trees=100, honesty=True, ll_lambda=0.1, random_state=None):\n",
        "        self.num_trees = num_trees\n",
        "        self.honesty = honesty\n",
        "        self.ll_lambda = ll_lambda\n",
        "        self.random_state = random_state\n",
        "        self.trees = []\n",
        "        \n",
        "    def fit(self, X, y):\n",
        "        \"\"\"Fit the forest\"\"\"\n",
        "        X, y = np.array(X), np.array(y)\n",
        "        self.trees = []\n",
        "        \n",
        "        for _ in range(self.num_trees):\n",
        "            tree = self._build_tree(X, y)\n",
        "            self.trees.append(tree)\n",
        "        return self\n",
        "    \n",
        "    def _build_tree(self, X, y, depth=0, max_depth=10):\n",
        "        \"\"\"Build a single tree with simplified splitting\"\"\"\n",
        "        n_samples = len(y)\n",
        "        \n",
        "        # Stopping conditions\n",
        "        if n_samples < 5 or depth >= max_depth:\n",
        "            return self._create_leaf(X, y)\n",
        "        \n",
        "        # Simple random feature selection\n",
        "        feature = np.random.randint(X.shape[1])\n",
        "        split_val = np.median(X[:, feature])\n",
        "        \n",
        "        left_mask = X[:, feature] <= split_val\n",
        "        right_mask = ~left_mask\n",
        "        \n",
        "        if np.sum(left_mask) == 0 or np.sum(right_mask) == 0:\n",
        "            return self._create_leaf(X, y)\n",
        "        \n",
        "        # Recursive tree building\n",
        "        left_tree = self._build_tree(X[left_mask], y[left_mask], depth + 1, max_depth)\n",
        "        right_tree = self._build_tree(X[right_mask], y[right_mask], depth + 1, max_depth)\n",
        "        \n",
        "        return {\n",
        "            'feature': feature,\n",
        "            'split_val': split_val,\n",
        "            'left': left_tree,\n",
        "            'right': right_tree,\n",
        "            'is_leaf': False\n",
        "        }\n",
        "    \n",
        "    def _create_leaf(self, X, y):\n",
        "        \"\"\"Create leaf node with local linear regression\"\"\"\n",
        "        if len(y) == 0:\n",
        "            return {'is_leaf': True, 'pred': 0}\n",
        "        \n",
        "        # Simple linear regression with regularization\n",
        "        try:\n",
        "            X_aug = np.column_stack([np.ones(len(X)), X])\n",
        "            # Ridge regression\n",
        "            beta = np.linalg.inv(X_aug.T @ X_aug + self.ll_lambda * np.eye(X_aug.shape[1])) @ X_aug.T @ y\n",
        "            return {'is_leaf': True, 'coefficients': beta, 'pred': None}\n",
        "        except:\n",
        "            return {'is_leaf': True, 'pred': np.mean(y)}\n",
        "    \n",
        "    def _predict_tree(self, tree, x):\n",
        "        \"\"\"Predict using a single tree\"\"\"\n",
        "        if tree['is_leaf']:\n",
        "            if 'coefficients' in tree:\n",
        "                x_aug = np.concatenate([[1], x])\n",
        "                return np.dot(x_aug, tree['coefficients'])\n",
        "            return tree['pred']\n",
        "        else:\n",
        "            if x[tree['feature']] <= tree['split_val']:\n",
        "                return self._predict_tree(tree['left'], x)\n",
        "            else:\n",
        "                return self._predict_tree(tree['right'], x)\n",
        "    \n",
        "    def predict(self, X):\n",
        "        \"\"\"Predict using the forest\"\"\"\n",
        "        X = np.array(X)\n",
        "        predictions = []\n",
        "        \n",
        "        for x in X:\n",
        "            tree_preds = [self._predict_tree(tree, x) for tree in self.trees]\n",
        "            predictions.append(np.mean(tree_preds))\n",
        "        \n",
        "        return np.array(predictions)"
      ]
    },
    {
      "cell_type": "markdown",
      "metadata": {
        "id": "jxK5d0frBs8O"
      },
      "source": [
        "### Fit Local Linear Forest\n",
        "\n"
      ]
    },
    {
      "cell_type": "code",
      "execution_count": 4,
      "metadata": {
        "colab": {
          "base_uri": "https://localhost:8080/"
        },
        "id": "Ou9edbC9Bt5M",
        "outputId": "30f45a86-d0a3-4f1b-d717-6f5fba2ab93b"
      },
      "outputs": [
        {
          "name": "stdout",
          "output_type": "stream",
          "text": [
            "Training Local Linear Regression Forest...\n"
          ]
        },
        {
          "data": {
            "text/plain": [
              "<__main__.LLRegressionForest at 0x79bf1cf1ac50>"
            ]
          },
          "execution_count": 4,
          "metadata": {},
          "output_type": "execute_result"
        }
      ],
      "source": [
        "# Fit local linear forest\n",
        "# Initialize and train the model\n",
        "print(\"Training Local Linear Regression Forest...\")\n",
        "ll_rf = LLRegressionForest(\n",
        "    num_trees=100,  # Reduced for faster execution\n",
        "    honesty=True,\n",
        "    ll_lambda=0.1,\n",
        "    random_state=123\n",
        ")\n",
        "\n",
        "ll_rf.fit(X_train, Y_train)\n",
        "\n"
      ]
    },
    {
      "cell_type": "markdown",
      "metadata": {
        "id": "7KgHx7kY9EEg"
      },
      "source": [
        "### Prediction and Evaluation"
      ]
    },
    {
      "cell_type": "code",
      "execution_count": 5,
      "metadata": {
        "colab": {
          "base_uri": "https://localhost:8080/"
        },
        "id": "m0vovr-CfwBZ",
        "outputId": "c6985ad1-3391-4234-bff0-3acb4a25175e"
      },
      "outputs": [
        {
          "name": "stdout",
          "output_type": "stream",
          "text": [
            "\n",
            "Model Performance:\n",
            "MSE: 20.5614\n",
            "RMSE: 4.5345\n",
            "R²: 0.7456\n"
          ]
        }
      ],
      "source": [
        "# Predict on test set\n",
        "Y_pred = ll_rf.predict(X_test)\n",
        "\n",
        "# Calculate metrics\n",
        "mse = mean_squared_error(Y_test, Y_pred)\n",
        "rmse = np.sqrt(mse)\n",
        "r2 = r2_score(Y_test, Y_pred)\n",
        "\n",
        "print(f\"\\nModel Performance:\")\n",
        "print(f\"MSE: {mse:.4f}\")\n",
        "print(f\"RMSE: {rmse:.4f}\")\n",
        "print(f\"R²: {r2:.4f}\")"
      ]
    },
    {
      "cell_type": "code",
      "execution_count": null,
      "metadata": {
        "colab": {
          "base_uri": "https://localhost:8080/",
          "height": 487
        },
        "id": "6SoYugD6CEgf",
        "outputId": "9b96ab3e-83a9-4fb3-9b5a-053fc6de57b1"
      },
      "outputs": [
        {
          "data": {
            "image/png": "[encoded data removed]",
            "text/plain": [
              "<Figure size 800x600 with 1 Axes>"
            ]
          },
          "metadata": {},
          "output_type": "display_data"
        }
      ],
      "source": [
        "# Scatter plot of predicted vs observed values\n",
        "plt.figure(figsize=(8, 6))\n",
        "plt.scatter(Y_test, Y_pred, alpha=0.6, color='steelblue', s=50)\n",
        "\n",
        "# Perfect prediction line\n",
        "min_val = min(Y_test.min(), Y_pred.min())\n",
        "max_val = max(Y_test.max(), Y_pred.max())\n",
        "plt.plot([min_val, max_val], [min_val, max_val], 'r--', lw=2, label='Perfect Prediction')\n",
        "\n",
        "plt.xlabel('Observed Median Housing Prices')\n",
        "plt.ylabel('Predicted Median Housing Prices')\n",
        "plt.title('Local Linear Regression Forest: Predicted vs Observed')\n",
        "plt.legend()\n",
        "plt.grid(True, alpha=0.3)\n",
        "\n",
        "# Add metrics text box\n",
        "textstr = f'R² = {r2:.3f}\\nRMSE = {rmse:.3f}'\n",
        "props = dict(boxstyle='round', facecolor='wheat', alpha=0.8)\n",
        "plt.text(0.05, 0.95, textstr, transform=plt.gca().transAxes, \n",
        "         verticalalignment='top', bbox=props)\n",
        "\n",
        "plt.tight_layout()\n",
        "plt.show()"
      ]
    },
    {
      "cell_type": "markdown",
      "metadata": {
        "id": "57e2a12d"
      },
      "source": [
        "## Summary and Conclusion\n",
        "\n",
        "This notebook explored the concept and implementation of Local Linear Forests (LLF) using a coustom function  in in pYthon. We started by explaining the theoretical foundations of LLF, highlighting its key features, how it works, its advantages (smoother predictions, potentially improved accuracy), and its limitations (computational cost, regularization sensitivity). We also compared LLF to standard regression forests, emphasizing the difference in their prediction methods and the smoothness of their outputs.\n",
        "\n",
        "To demonstrate LLF in practice, we used the Boston Housing dataset to predict median housing prices (`medv`). We loaded and prepared the data, splitting it into training and test sets. We then fit a Local Linear Forest model using `LLRegressionFores()` and made predictions on the test set.\n",
        "\n",
        "In conclusion, this notebook successfully demonstrated how to implement and evaluate a Local Linear Forest model for a regression task in Python.  LLF provides a powerful alternative to standard regression forests when smoother predictions and local linear corrections are desired."
      ]
    },
    {
      "cell_type": "markdown",
      "metadata": {
        "id": "SaZTnZx3QPGI"
      },
      "source": [
        "\n",
        "## References\n",
        "\n",
        "1. Friedberg, Rina, Julie Tibshirani, Susan Athey, and Stefan Wager. \"Local Linear Forests\". Journal of Computational and Graphical Statistics, 30(2), 2020.\n",
        "\n",
        "\n",
        "2. [Local linear forest](https://grf-labs.github.io/grf/reference/ll_regression_forest.html)\n",
        "\n"
      ]
    }
  ],
  "metadata": {
    "colab": {
      "authorship_tag": "ABX9TyPCnKOHdkRztLpVVKVNo9m+",
      "include_colab_link": true,
      "provenance": [],
      "toc_visible": true
    },
    "kernelspec": {
      "display_name": "3.11.11",
      "language": "python",
      "name": "python3"
    },
    "language_info": {
      "codemirror_mode": {
        "name": "ipython",
        "version": 3
      },
      "file_extension": ".py",
      "mimetype": "text/x-python",
      "name": "python",
      "nbconvert_exporter": "python",
      "pygments_lexer": "ipython3",
      "version": "3.11.11"
    }
  },
  "nbformat": 4,
  "nbformat_minor": 0
}
