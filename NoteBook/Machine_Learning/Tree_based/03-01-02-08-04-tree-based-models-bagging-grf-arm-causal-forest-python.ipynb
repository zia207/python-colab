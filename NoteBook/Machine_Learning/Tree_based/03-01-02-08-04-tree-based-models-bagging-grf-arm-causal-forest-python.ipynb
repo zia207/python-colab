{
  "cells": [
    {
      "cell_type": "markdown",
      "metadata": {
        "colab_type": "text",
        "id": "view-in-github"
      },
      "source": [
        "<a href=\"https://colab.research.google.com/github/zia207/python-colab/blob/main/NoteBook/Machine_Learning/Tree_based/03-01-02-08-04-tree-based-models-bagging-grf-arm-causal-forest-python.ipynb\" target=\"_parent\"><img src=\"https://colab.research.google.com/assets/colab-badge.svg\" alt=\"Open In Colab\"/></a>"
      ]
    },
    {
      "cell_type": "markdown",
      "metadata": {
        "id": "zYZbTX0qQrZb"
      },
      "source": [
        "![alt text](http://drive.google.com/uc?export=view&id=1IFEWet-Aw4DhkkVe1xv_2YYqlvRe9m5_)\n"
      ]
    },
    {
      "cell_type": "markdown",
      "metadata": {
        "id": "RGBfrL2GQoII"
      },
      "source": [
        "# 2.8.4 Multi-arm/multi-outcome Causal Forest\n",
        "\n",
        "A **Multi-Arm/Multi-Outcome Causal Forest** is an extension of the **Causal Forest** framework designed to estimate heterogeneous treatment effects in scenarios with **multiple treatment arms** (e.g., different interventions) and/or **multiple outcome variables** simultaneously. It builds on random forest principles to provide flexible, data-driven estimates of causal effects across diverse subgroups, leveraging shared information across treatments or outcomes to improve accuracy. This approach is particularly useful in complex experimental designs, such as clinical trials with multiple drugs or policy evaluations with various interventions affecting multiple metrics."
      ]
    },
    {
      "cell_type": "markdown",
      "metadata": {
        "id": "S77MsgmqIYD0"
      },
      "source": [
        "## Overview\n",
        "\n",
        "A multi-arm/multi-outcome causal forest is an advanced A multi-arm/multi-outcome causal forest is an advanced machine learning method for estimating heterogeneous treatment effects (HTE) in settings with:\n",
        "\n",
        "-   `Multiple treatments (multi-arm)`: More than two possible interventions or choices, not just \"treatment\" and \"control\".\n",
        "\n",
        "-   `Multiple outcomes (multi-outcome)`: Several different outcome variables of interest, not just a single outcome.\n",
        "\n",
        "Estimates causal effects (treatment effects) for multiple treatments (arms) or multiple outcomes in a single model, accounting for heterogeneity across covariates (e.g., patient characteristics). It answers questions like: \"How does each treatment affect different outcomes across different subgroups?\" Handles multiple treatment options (e.g., drug A, drug B, placebo) instead of a single treatment vs. control.\n",
        "\n",
        "-   Use Cases:\n",
        "\n",
        "  -   Clinical trials comparing multiple drugs on multiple health outcomes.\n",
        "  -   Policy evaluation with several interventions and diverse impacts (e.g., education programs affecting test scores and attendance).\n",
        "  -   Marketing studies analyzing multiple campaign strategies on various customer metrics.\n",
        "\n"
      ]
    },
    {
      "cell_type": "markdown",
      "metadata": {
        "id": "VwEoykvwI2dS"
      },
      "source": [
        "### How It Work\n",
        "\n",
        "The Multi-Arm/Multi-Outcome Causal Forest builds on the **Generalized Random Forest (GRF)** framework, extending the Causal Forest algorithm (designed for single treatment/outcome) to handle multiple treatments and outcomes. Here’s a step-by-step explanation of its mechanics:\n",
        "\n",
        "1.  Data Setup\n",
        "\n",
        "  -   A dataset with:\n",
        "  -   Covariates $X$ (e.g., patient age, gender).\n",
        "  -   Treatment assignments $W$, where $W$ can take multiple values (e.g., 0 for control, 1 for treatment A, 2 for treatment B).\n",
        "  -   Multiple outcome variables $Y_1, Y_2, \\ldots, Y_k$ (e.g., different health metrics).\n",
        "\n",
        "2.  Tree Construction\n",
        "\n",
        "  -   `Splitting Rule`: Each tree in the forest splits the covariate space to maximize heterogeneity in treatment effects across all arms and outcomes. The splitting criterion optimizes a loss function that measures the quality of treatment effect estimates (e.g., variance of estimated effects).\n",
        "  -   `Multi-Arm`: For multiple treatments, the tree estimates treatment effects for each arm relative to a baseline (e.g., control) or pairwise differences.\n",
        "  -   `Multi-Outcome`: For multiple outcomes, the tree models correlations between outcomes, sharing information to improve estimation efficiency (e.g., using a joint loss function or covariance structure).\n",
        "  -   `Honest Splitting*` Uses separate data for splitting and estimation within each tree to reduce bias (a hallmark of GRF).\n",
        "\n",
        "3.  Treatment Effect Estimation\n",
        "\n",
        "  -   For each leaf node in a tree, the algorithm estimates treatment effects for each treatment arm and outcome using local observations.\n",
        "  -   `Multi-Arm`: Computes the effect of each treatment (e.g., $\\tau_j(X) = E[Y | W=j, X] - E[Y | W=0, X]$) for treatment $j$ vs. control).\n",
        "  -   `Multi-Outcome`: Estimates effects for each outcome (e.g., $\\tau_{j,k}(X)$ for treatment $j$ on outcome $k$), often modeling outcome correlations to improve precision.\n",
        "    -   Methods like local linear regression or moment-based estimation may be used within leaves to estimate effects.\n",
        "\n",
        "4.  Forest Aggregation\n",
        "\n",
        "  -   The forest averages predictions across many trees (typically hundreds or thousands) to produce robust estimates.\n",
        "  -   For a given covariate $X$, the forest outputs a vector of treatment effect estimates for each treatment arm and outcome, e.g., $\\hat{\\tau}(X) = [\\hat{\\tau}_{1,1}(X), \\hat{\\tau}_{1,2}(X), \\ldots, \\hat{\\tau}_{j,k}(X)]$.\n",
        "  -   Variance estimates are also provided to assess uncertainty.\n",
        "\n",
        "5.  Handling Complexity\n",
        "\n",
        "  -   `Multi-Arm`: The forest balances comparisons across multiple treatments, reducing overfitting by sharing information across arms.\n",
        "  -   `Multi-Outcome`: Leverages correlations between outcomes (e.g., via covariance weighting) to improve efficiency, especially when outcomes are related (e.g., systolic and diastolic blood pressure).\n",
        "  -   `Nuisance Parameters`: Estimates propensity scores (probability of receiving each treatment) or outcome regressions to adjust for confounding, often using separate forests for these nuisance functions.\n",
        "\n",
        "6.  Output:\n",
        "\n",
        "  -   For each individual (defined by covariates $X$, the model provides:\n",
        "        -   Estimated treatment effects for each treatment arm and outcome.\n",
        "        -   Confidence intervals or standard errors for uncertainty.\n",
        "    -   Visualizations or summaries of heterogeneous effects (e.g., which subgroups benefit most from a specific treatment).\n"
      ]
    },
    {
      "cell_type": "markdown",
      "metadata": {
        "id": "A2tB_TxOs0nQ"
      },
      "source": [
        "### Key Differences from Standard Causal Forest\n",
        "\n",
        "-   `Standard Causal Forest`: Handles one treatment (binary or continuous) and one outcome, estimating a single treatment effect per individual.\n",
        "-   `Multi-Arm/Multi-Outcome Causal Forest`:\n",
        "    -   Models multiple treatments (e.g., multiple drugs) and/or multiple outcomes (e.g., multiple health metrics).\n",
        "    -   Shares information across arms/outcomes to improve estimation efficiency.\n",
        "    -   Uses a joint objective function to optimize splits for all treatments and outcomes simultaneously.\n"
      ]
    },
    {
      "cell_type": "markdown",
      "metadata": {
        "id": "bIBhNo81s-Nt"
      },
      "source": [
        "### Advantages\n",
        "\n",
        "-   Handles complex experiments with multiple treatments and outcomes.\n",
        "-   Captures heterogeneity in treatment effects across subgroups.\n",
        "-   Robust to non-linear relationships and high-dimensional covariates.\n",
        "-   Improves efficiency by sharing information across arms/outcomes.\n"
      ]
    },
    {
      "cell_type": "markdown",
      "metadata": {
        "id": "aT54GhcZvKS_"
      },
      "source": [
        "### Limitations\n",
        "\n",
        "-   Requires sufficient sample size for each treatment arm and outcome.\n",
        "-   Assumes unconfoundedness (no unmeasured confounders) unless combined with other methods (e.g., instrumental variables).\n",
        "-   Computationally intensive for large datasets or many outcomes.\n",
        "-   Interpretability can be challenging due to complex output (multiple effects per individual)."
      ]
    },
    {
      "cell_type": "markdown",
      "metadata": {
        "id": "bh7jEhGCLDZA"
      },
      "source": [
        "## Multi-arm/multi-outcome Causal Forest with Python\n",
        "\n",
        "The Generalized Random Forest (GRF) package, which implements the multi-arm/multi-outcome causal forest, is primarily available in R and does not have a direct, officially supported Python implementation in the {grf} package. However, Python users can leverage alternative libraries like {econml}, which provides a `CausalForest` class that supports `multi-arm` and `multi-outcome` causal inference. Below, I outline how to perform a multi-arm/multi-outcome causal forest analysis in Python using the {econml} package, based on available resources and the conceptual framework of causal forests\n"
      ]
    },
    {
      "cell_type": "markdown",
      "metadata": {
        "id": "IPobetr0zFC5"
      },
      "source": [
        "### Load and Prepare the Lung Dataset\n",
        "\n",
        "The lung dataset includes survival data for lung cancer patients. Since lung lacks a treatment variable and multiple outcomes, we:\n",
        "\n",
        "-   Simulates a multi-arm `treatment` variable with three levels: `placebo`, `A`, and `B` and Assigns probabilities (40% placebo, 30% A, 30% B) for each treatment.\n",
        "\n",
        "-   Simulates a binary secondary outcome (e.g., `health_status`, 1 = yes, 0 = no) with treatment-dependent probabilities.\n",
        "\n",
        "-   Use log-transformed survival time (`log_time`) as the primary outcome to ensure numerical stability\n"
      ]
    },
    {
      "cell_type": "code",
      "execution_count": 2,
      "metadata": {
        "colab": {
          "base_uri": "https://localhost:8080/",
          "height": 258
        },
        "id": "yhPSobMMMF2-",
        "outputId": "5a537a24-5241-495f-9bdd-ce1e9785fff2"
      },
      "outputs": [
        {
          "data": {
            "text/html": [
              "<div>\n",
              "<style scoped>\n",
              "    .dataframe tbody tr th:only-of-type {\n",
              "        vertical-align: middle;\n",
              "    }\n",
              "\n",
              "    .dataframe tbody tr th {\n",
              "        vertical-align: top;\n",
              "    }\n",
              "\n",
              "    .dataframe thead th {\n",
              "        text-align: right;\n",
              "    }\n",
              "</style>\n",
              "<table border=\"1\" class=\"dataframe\">\n",
              "  <thead>\n",
              "    <tr style=\"text-align: right;\">\n",
              "      <th></th>\n",
              "      <th>inst</th>\n",
              "      <th>time</th>\n",
              "      <th>status</th>\n",
              "      <th>age</th>\n",
              "      <th>sex</th>\n",
              "      <th>ph.ecog</th>\n",
              "      <th>ph.karno</th>\n",
              "      <th>pat.karno</th>\n",
              "      <th>meal.cal</th>\n",
              "      <th>wt.loss</th>\n",
              "      <th>treatment</th>\n",
              "      <th>health_status</th>\n",
              "      <th>log_time</th>\n",
              "    </tr>\n",
              "  </thead>\n",
              "  <tbody>\n",
              "    <tr>\n",
              "      <th>0</th>\n",
              "      <td>3.0</td>\n",
              "      <td>306</td>\n",
              "      <td>2</td>\n",
              "      <td>74</td>\n",
              "      <td>1</td>\n",
              "      <td>1.0</td>\n",
              "      <td>90.0</td>\n",
              "      <td>100.0</td>\n",
              "      <td>1175.0</td>\n",
              "      <td>NaN</td>\n",
              "      <td>A</td>\n",
              "      <td>0</td>\n",
              "      <td>5.723585</td>\n",
              "    </tr>\n",
              "    <tr>\n",
              "      <th>1</th>\n",
              "      <td>3.0</td>\n",
              "      <td>455</td>\n",
              "      <td>2</td>\n",
              "      <td>68</td>\n",
              "      <td>1</td>\n",
              "      <td>0.0</td>\n",
              "      <td>90.0</td>\n",
              "      <td>90.0</td>\n",
              "      <td>1225.0</td>\n",
              "      <td>15.0</td>\n",
              "      <td>placebo</td>\n",
              "      <td>0</td>\n",
              "      <td>6.120297</td>\n",
              "    </tr>\n",
              "    <tr>\n",
              "      <th>2</th>\n",
              "      <td>3.0</td>\n",
              "      <td>1010</td>\n",
              "      <td>1</td>\n",
              "      <td>56</td>\n",
              "      <td>1</td>\n",
              "      <td>0.0</td>\n",
              "      <td>90.0</td>\n",
              "      <td>90.0</td>\n",
              "      <td>NaN</td>\n",
              "      <td>15.0</td>\n",
              "      <td>placebo</td>\n",
              "      <td>0</td>\n",
              "      <td>6.917706</td>\n",
              "    </tr>\n",
              "    <tr>\n",
              "      <th>3</th>\n",
              "      <td>5.0</td>\n",
              "      <td>210</td>\n",
              "      <td>2</td>\n",
              "      <td>57</td>\n",
              "      <td>1</td>\n",
              "      <td>1.0</td>\n",
              "      <td>90.0</td>\n",
              "      <td>60.0</td>\n",
              "      <td>1150.0</td>\n",
              "      <td>11.0</td>\n",
              "      <td>A</td>\n",
              "      <td>0</td>\n",
              "      <td>5.347108</td>\n",
              "    </tr>\n",
              "    <tr>\n",
              "      <th>4</th>\n",
              "      <td>1.0</td>\n",
              "      <td>883</td>\n",
              "      <td>2</td>\n",
              "      <td>60</td>\n",
              "      <td>1</td>\n",
              "      <td>0.0</td>\n",
              "      <td>100.0</td>\n",
              "      <td>90.0</td>\n",
              "      <td>NaN</td>\n",
              "      <td>0.0</td>\n",
              "      <td>B</td>\n",
              "      <td>0</td>\n",
              "      <td>6.783325</td>\n",
              "    </tr>\n",
              "  </tbody>\n",
              "</table>\n",
              "</div>"
            ],
            "text/plain": [
              "   inst  time  status  age  sex  ph.ecog  ph.karno  pat.karno  meal.cal  \\\n",
              "0   3.0   306       2   74    1      1.0      90.0      100.0    1175.0   \n",
              "1   3.0   455       2   68    1      0.0      90.0       90.0    1225.0   \n",
              "2   3.0  1010       1   56    1      0.0      90.0       90.0       NaN   \n",
              "3   5.0   210       2   57    1      1.0      90.0       60.0    1150.0   \n",
              "4   1.0   883       2   60    1      0.0     100.0       90.0       NaN   \n",
              "\n",
              "   wt.loss treatment  health_status  log_time  \n",
              "0      NaN         A              0  5.723585  \n",
              "1     15.0   placebo              0  6.120297  \n",
              "2     15.0   placebo              0  6.917706  \n",
              "3     11.0         A              0  5.347108  \n",
              "4      0.0         B              0  6.783325  "
            ]
          },
          "metadata": {},
          "output_type": "display_data"
        },
        {
          "name": "stdout",
          "output_type": "stream",
          "text": [
            "Shape of X: (227, 3)\n",
            "Shape of W: (227,)\n",
            "Shape of Y: (227, 2)\n"
          ]
        }
      ],
      "source": [
        "import pandas as pd\n",
        "import numpy as np\n",
        "\n",
        "# Load the lung dataset\n",
        "url = \"https://github.com/zia207/r-colab/raw/main/Data/Machine_Learning/lung.csv\"\n",
        "lung_data = pd.read_csv(url)\n",
        "\n",
        "# Filter the DataFrame\n",
        "lung_data = lung_data.dropna(subset=['age', 'sex', 'ph.ecog'])\n",
        "\n",
        "# Create the 'treatment' column\n",
        "np.random.seed(123) # for reproducibility\n",
        "treatment_arms = ['placebo', 'A', 'B']\n",
        "treatment_probs = [0.4, 0.3, 0.3]\n",
        "lung_data['treatment'] = np.random.choice(treatment_arms, size=len(lung_data), p=treatment_probs)\n",
        "\n",
        "# Create the 'health_status' column\n",
        "# Simulate probabilities based on treatment: base_prob + effect_A * (treatment == 'A') + effect_B * (treatment == 'B')\n",
        "base_prob = 0.3\n",
        "effect_A = 0.1\n",
        "effect_B = 0.15\n",
        "prob_health_status = base_prob + effect_A * (lung_data['treatment'] == 'A') + effect_B * (lung_data['treatment'] == 'B')\n",
        "lung_data['health_status'] = np.random.binomial(1, prob_health_status, size=len(lung_data))\n",
        "\n",
        "# Create the 'log_time' column\n",
        "lung_data['log_time'] = np.log(lung_data['time'])\n",
        "\n",
        "# Define X, W, Y\n",
        "X = lung_data[['age', 'sex', 'ph.ecog']].values\n",
        "W = lung_data['treatment'].values\n",
        "Y = lung_data[['log_time', 'health_status']].values\n",
        "\n",
        "# Ensure Y has correct column names (for later reference if needed, though numpy array doesn't store names like pandas)\n",
        "# We'll keep track of names conceptually or use pandas for operations where names are important.\n",
        "# For the numpy array Y, we can add a comment or store names separately.\n",
        "# Y_colnames = ['log_time', 'health_status']\n",
        "\n",
        "display(lung_data.head())\n",
        "print(\"Shape of X:\", X.shape)\n",
        "print(\"Shape of W:\", W.shape)\n",
        "print(\"Shape of Y:\", Y.shape)"
      ]
    },
    {
      "cell_type": "code",
      "execution_count": 3,
      "metadata": {
        "colab": {
          "base_uri": "https://localhost:8080/"
        },
        "id": "fvc1_moAMYNP",
        "outputId": "755f62fd-7e33-41f5-f711-6e43bd7413ee"
      },
      "outputs": [
        {
          "name": "stdout",
          "output_type": "stream",
          "text": [
            "Shape of X_train: (181, 3)\n",
            "Shape of X_test: (46, 3)\n",
            "Shape of W_train: (181,)\n",
            "Shape of W_test: (46,)\n",
            "Shape of Y_train: (181, 2)\n",
            "Shape of Y_test: (46, 2)\n"
          ]
        }
      ],
      "source": [
        "from sklearn.model_selection import train_test_split\n",
        "\n",
        "# Split into training and test sets\n",
        "X_train, X_test, W_train, W_test, Y_train, Y_test = train_test_split(\n",
        "    X, W, Y, test_size=0.2, random_state=123\n",
        ")\n",
        "\n",
        "# Print the shapes\n",
        "print(\"Shape of X_train:\", X_train.shape)\n",
        "print(\"Shape of X_test:\", X_test.shape)\n",
        "print(\"Shape of W_train:\", W_train.shape)\n",
        "print(\"Shape of W_test:\", W_test.shape)\n",
        "print(\"Shape of Y_train:\", Y_train.shape)\n",
        "print(\"Shape of Y_test:\", Y_test.shape)"
      ]
    },
    {
      "cell_type": "code",
      "execution_count": 4,
      "metadata": {
        "colab": {
          "base_uri": "https://localhost:8080/"
        },
        "id": "p0OqMvCrgZ8a",
        "outputId": "b5dd12a6-2c7a-4754-a241-a45c734df725"
      },
      "outputs": [
        {
          "name": "stdout",
          "output_type": "stream",
          "text": [
            "econml library is available for research.\n",
            "Research suggests econml's CausalForestDML and ORF can handle multi-arm treatments.\n"
          ]
        }
      ],
      "source": [
        "import econml\n",
        "print(\"econml library is available for research.\")\n",
        "\n",
        "# Placeholder for research findings - this would typically involve\n",
        "# reading econml documentation online or using help()\n",
        "# Example check for relevant classes/functions in econml:\n",
        "# help(econml.dml)\n",
        "# help(econml.metalearners)\n",
        "# help(econml.orf) # May contain multi-treatment options\n",
        "\n",
        "# Based on external research (as the notebook environment doesn't allow web browsing):\n",
        "# econml's CausalForestDML supports multiple treatments. The 'W' parameter\n",
        "# in fit() can be a multi-column matrix where each column represents\n",
        "# a binary treatment indicator, or a single column with multiple discrete values.\n",
        "# This allows for multi-arm treatment scenarios.\n",
        "# It estimates the Conditional Average Treatment Effect (CATE) for each treatment\n",
        "# relative to a baseline (usually the first treatment value encountered unless specified).\n",
        "# It can handle multiple outcomes by either fitting a separate model for each outcome\n",
        "# or by using multi-output regressors/classifiers internally if supported by the base learners.\n",
        "# econml's Orthogonal Random Forest (ORF) also supports multiple treatments.\n",
        "\n",
        "print(\"Research suggests econml's CausalForestDML and ORF can handle multi-arm treatments.\")"
      ]
    },
    {
      "cell_type": "markdown",
      "metadata": {
        "id": "12NpLJZFglCj"
      },
      "source": [
        "### Train the Multi-arm/Multi-outcome Causal Forest\n",
        "\n"
      ]
    },
    {
      "cell_type": "code",
      "execution_count": 5,
      "metadata": {
        "colab": {
          "base_uri": "https://localhost:8080/"
        },
        "id": "eq3MKNguggj0",
        "outputId": "c300592e-edef-476f-f05a-3104cece3167"
      },
      "outputs": [
        {
          "name": "stdout",
          "output_type": "stream",
          "text": [
            "Causal Forest models for log_time and health_status trained successfully using encoded treatment.\n"
          ]
        }
      ],
      "source": [
        "from econml.dml import CausalForestDML\n",
        "from sklearn.preprocessing import LabelEncoder\n",
        "from sklearn.ensemble import RandomForestRegressor, RandomForestClassifier\n",
        "\n",
        "# Instantiate CausalForestDML models for each outcome\n",
        "macf_log_time = CausalForestDML()\n",
        "macf_health_status = CausalForestDML()\n",
        "\n",
        "# Encode the treatment variable W_train\n",
        "label_encoder = LabelEncoder()\n",
        "W_train_encoded = label_encoder.fit_transform(W_train)\n",
        "\n",
        "# Fit the models to the training data using the encoded treatment variable\n",
        "# For log_time, Y_train[:, 0] is the outcome column (Y)\n",
        "# W_train_encoded is the encoded treatment column (T)\n",
        "# X_train is the covariates (X)\n",
        "macf_log_time.fit(Y=Y_train[:, 0], T=W_train_encoded, X=X_train)\n",
        "\n",
        "# For health_status, Y_train[:, 1] is the outcome column (Y)\n",
        "# W_train_encoded is the encoded treatment column (T)\n",
        "# X_train is the covariates (X)\n",
        "macf_health_status.fit(Y=Y_train[:, 1], T=W_train_encoded, X=X_train)\n",
        "\n",
        "print(\"Causal Forest models for log_time and health_status trained successfully using encoded treatment.\")\n",
        "\n",
        "# Store the encoder for later use in prediction\n",
        "treatment_encoder = label_encoder"
      ]
    },
    {
      "cell_type": "markdown",
      "metadata": {
        "id": "SXoS24GIhCLO"
      },
      "source": [
        "### Prediction and Evaluation"
      ]
    },
    {
      "cell_type": "code",
      "execution_count": 6,
      "metadata": {
        "colab": {
          "base_uri": "https://localhost:8080/"
        },
        "id": "Iv0rri02hFuY",
        "outputId": "6bc4407a-4124-4a66-912d-e233740106a3"
      },
      "outputs": [
        {
          "name": "stdout",
          "output_type": "stream",
          "text": [
            "Predicted treatment effects for log_time on the test set (shape: num_test_samples x num_treatments-1):\n",
            "(46,)\n",
            "\n",
            "Predicted treatment effects for health_status on the test set (shape: num_test_samples x num_treatments-1):\n",
            "(46,)\n"
          ]
        }
      ],
      "source": [
        "# Predict treatment effects on the test set\n",
        "# Use the trained models (macf_log_time and macf_health_status) and the test covariates (X_test)\n",
        "# The effect method of CausalForestDML returns the estimated treatment effects (CATE)\n",
        "# for each treatment relative to the baseline treatment (which is typically the first encountered\n",
        "# encoded treatment level, usually 0 after LabelEncoding, corresponding to 'placebo' in our case).\n",
        "\n",
        "tau_hat_log_time = macf_log_time.effect(X_test)\n",
        "tau_hat_health_status = macf_health_status.effect(X_test)\n",
        "\n",
        "print(\"Predicted treatment effects for log_time on the test set (shape: num_test_samples x num_treatments-1):\")\n",
        "print(tau_hat_log_time.shape)\n",
        "print(\"\\nPredicted treatment effects for health_status on the test set (shape: num_test_samples x num_treatments-1):\")\n",
        "print(tau_hat_health_status.shape)"
      ]
    },
    {
      "cell_type": "markdown",
      "metadata": {
        "id": "7KgHx7kY9EEg"
      },
      "source": [
        "### Calculate Doubly Robust Average Treatment Effects (AIPW)\n",
        "\n",
        "We compute the average treatment effects (ATE) for each arm relative to \"placebo\" using the doubly robust Augmented Inverse Propensity Weighting (AIPW) method  similar to R package {grf}."
      ]
    },
    {
      "cell_type": "code",
      "execution_count": 8,
      "metadata": {
        "colab": {
          "base_uri": "https://localhost:8080/"
        },
        "id": "cp7YIpT5iS1Z",
        "outputId": "4cff0374-c5e2-4e13-8d8d-4eea1a1246f0"
      },
      "outputs": [
        {
          "name": "stdout",
          "output_type": "stream",
          "text": [
            "Average Treatment Effects for log_time:\n",
            "  A - placebo: 0.279552\n",
            "  B - placebo: 0.139776\n",
            "\n",
            "Average Treatment Effects for health_status:\n",
            "  A - placebo: 0.127971\n",
            "  B - placebo: 0.063985\n"
          ]
        }
      ],
      "source": [
        "# Retrieve the encoded numerical values for 'placebo', 'A', and 'B'\n",
        "encoded_placebo = treatment_encoder.transform(['placebo'])[0]\n",
        "encoded_A = treatment_encoder.transform(['A'])[0]\n",
        "encoded_B = treatment_encoder.transform(['B'])[0]\n",
        "\n",
        "# Calculate the Average Treatment Effect (ATE) for 'A' vs 'placebo' for the log_time outcome\n",
        "# Call the effect() method with T0 as encoded_placebo and T1 as encoded_A\n",
        "tau_hat_log_time_A_vs_placebo = macf_log_time.effect(X_test, T0=encoded_placebo, T1=encoded_A)\n",
        "# Compute the mean of the returned array to get the ATE\n",
        "ate_log_time_A_vs_placebo = np.mean(tau_hat_log_time_A_vs_placebo)\n",
        "\n",
        "# Calculate the ATE for 'B' vs 'placebo' for the log_time outcome\n",
        "# Call the effect() method with T0 as encoded_placebo and T1 as encoded_B\n",
        "tau_hat_log_time_B_vs_placebo = macf_log_time.effect(X_test, T0=encoded_placebo, T1=encoded_B)\n",
        "# Compute the mean of the returned array to get the ATE\n",
        "ate_log_time_B_vs_placebo = np.mean(tau_hat_log_time_B_vs_placebo)\n",
        "\n",
        "# Repeat for the health_status outcome\n",
        "# Calculate the ATE for 'A' vs 'placebo' for the health_status outcome\n",
        "tau_hat_health_status_A_vs_placebo = macf_health_status.effect(X_test, T0=encoded_placebo, T1=encoded_A)\n",
        "ate_health_status_A_vs_placebo = np.mean(tau_hat_health_status_A_vs_placebo)\n",
        "\n",
        "# Calculate the ATE for 'B' vs 'placebo' for the health_status outcome\n",
        "tau_hat_health_status_B_vs_placebo = macf_health_status.effect(X_test, T0=encoded_placebo, T1=encoded_B)\n",
        "ate_health_status_B_vs_placebo = np.mean(tau_hat_health_status_B_vs_placebo)\n",
        "\n",
        "# Print the calculated ATEs\n",
        "print(\"Average Treatment Effects for log_time:\")\n",
        "print(f\"  A - placebo: {ate_log_time_A_vs_placebo:.6f}\")\n",
        "print(f\"  B - placebo: {ate_log_time_B_vs_placebo:.6f}\")\n",
        "\n",
        "print(\"\\nAverage Treatment Effects for health_status:\")\n",
        "print(f\"  A - placebo: {ate_health_status_A_vs_placebo:.6f}\")\n",
        "print(f\"  B - placebo: {ate_health_status_B_vs_placebo:.6f}\")"
      ]
    },
    {
      "cell_type": "markdown",
      "metadata": {
        "id": "6Uc9PcoOgJjF"
      },
      "source": [
        "### Plot Variable Importance\n",
        "\n"
      ]
    },
    {
      "cell_type": "code",
      "execution_count": 9,
      "metadata": {
        "colab": {
          "base_uri": "https://localhost:8080/"
        },
        "id": "04QVrhr19V9R",
        "outputId": "7ecc31fa-f026-4fcf-98a7-b002dc0d2e73"
      },
      "outputs": [
        {
          "name": "stdout",
          "output_type": "stream",
          "text": [
            "Outcome model for log_time not found or does not have feature_importances_.\n",
            "Outcome model for health_status not found or does not have feature_importances_.\n",
            "Feature importances from base outcome models were not accessible for plotting.\n"
          ]
        }
      ],
      "source": [
        "import matplotlib.pyplot as plt\n",
        "import seaborn as sns\n",
        "import pandas as pd\n",
        "\n",
        "\n",
        "outcome_model_log_time = getattr(macf_log_time, '_model_y', None)\n",
        "outcome_model_health_status = getattr(macf_health_status, '_model_y', None)\n",
        "\n",
        "log_time_importances = None\n",
        "health_status_importances = None\n",
        "\n",
        "# Check if the outcome models were found and have feature_importances_\n",
        "if outcome_model_log_time is not None and hasattr(outcome_model_log_time, 'feature_importances_'):\n",
        "    log_time_importances = outcome_model_log_time.feature_importances_\n",
        "    print(\"Feature importances found for log_time outcome model.\")\n",
        "elif outcome_model_log_time is not None and hasattr(outcome_model_log_time, 'estimators_'):\n",
        "    # If _model_y is a forest-like object (e.g., RandomForestRegressor),\n",
        "    # its estimators_ (individual trees) might have feature_importances_.\n",
        "    # We can average them or check the top-level attribute.\n",
        "    # Let's check the top-level attribute first.\n",
        "     print(\"Outcome model for log_time found, but no direct feature_importances_ attribute.\")\n",
        "     # As a fallback, if the base model is a forest, we might look into its components\n",
        "     # but this gets deep into implementation details.\n",
        "     # Let's assume if _model_y exists, it's the right place to look for importances if available.\n",
        "     # If the above didn't find it, let's try accessing a potential internal forest object\n",
        "     # which is less reliable as an API.\n",
        "     # macf_log_time.model_y_x # Model for Y | X\n",
        "     # macf_log_time.model_t_x # Model for T | X\n",
        "     # None of these directly give importance for Y | X, T that the CausalForestDML uses.\n",
        "     # The `_model_y` was the most plausible attribute found in docs/examples for the Y|X,T model.\n",
        "     # If it doesn't have feature_importances_, it might not be directly exposed or calculated this way.\n",
        "else:\n",
        "     print(\"Outcome model for log_time not found or does not have feature_importances_.\")\n",
        "\n",
        "\n",
        "if outcome_model_health_status is not None and hasattr(outcome_model_health_status, 'feature_importances_'):\n",
        "    health_status_importances = outcome_model_health_status.feature_importances_\n",
        "    print(\"Feature importances found for health_status outcome model.\")\n",
        "elif outcome_model_health_status is not None and hasattr(outcome_model_health_status, 'estimators_'):\n",
        "     print(\"Outcome model for health_status found, but no direct feature_importances_ attribute.\")\n",
        "else:\n",
        "    print(\"Outcome model for health_status not found or does not have feature_importances_.\")\n",
        "\n",
        "# Proceed to plotting only if importances were found\n",
        "if log_time_importances is not None or health_status_importances is not None:\n",
        "    # Get original covariate names\n",
        "    covariate_names = ['age', 'sex', 'ph.ecog'] # Assuming X columns correspond to these\n",
        "\n",
        "    # Plot for log_time outcome\n",
        "    if log_time_importances is not None and len(log_time_importances) == len(covariate_names):\n",
        "        var_imp_df_log_time = pd.DataFrame({\n",
        "          'Variable': covariate_names,\n",
        "          'Importance': log_time_importances\n",
        "        })\n",
        "\n",
        "        plt.figure(figsize=(8, 5))\n",
        "        sns.barplot(x='Importance', y='Variable', data=var_imp_df_log_time.sort_values('Importance', ascending=False), palette=\"viridis\")\n",
        "        plt.title(\"Variable Importance for log_time (Outcome Model)\")\n",
        "        plt.xlabel(\"Importance\")\n",
        "        plt.ylabel(\"Variable\")\n",
        "        plt.tight_layout()\n",
        "        plt.show()\n",
        "    elif log_time_importances is not None:\n",
        "         print(f\"Mismatch in importance length ({len(log_time_importances)}) and covariate names ({len(covariate_names)}) for log_time.\")\n",
        "    else:\n",
        "        print(\"Variable importance data not available for plotting log_time.\")\n",
        "\n",
        "\n",
        "    # Plot for health_status outcome\n",
        "    if health_status_importances is not None and len(health_status_importances) == len(covariate_names):\n",
        "        var_imp_df_health_status = pd.DataFrame({\n",
        "          'Variable': covariate_names,\n",
        "          'Importance': health_status_importances\n",
        "        })\n",
        "\n",
        "        plt.figure(figsize=(8, 5))\n",
        "        sns.barplot(x='Importance', y='Variable', data=var_imp_df_health_status.sort_values('Importance', ascending=False), palette=\"viridis\")\n",
        "        plt.title(\"Variable Importance for health_status (Outcome Model)\")\n",
        "        plt.xlabel(\"Importance\")\n",
        "        plt.ylabel(\"Variable\")\n",
        "        plt.tight_layout()\n",
        "        plt.show()\n",
        "    elif health_status_importances is not None:\n",
        "        print(f\"Mismatch in importance length ({len(health_status_importances)}) and covariate names ({len(covariate_names)}) for health_status.\")\n",
        "    else:\n",
        "        print(\"Variable importance data not available for plotting health_status.\")\n",
        "\n",
        "else:\n",
        "    print(\"Feature importances from base outcome models were not accessible for plotting.\")"
      ]
    },
    {
      "cell_type": "markdown",
      "metadata": {
        "id": "0QaY9XkzH6NQ"
      },
      "source": [
        "## Multi-arm/multi-outcome Causal Forest with `multi_arm_causal_forest()` function\n",
        "\n",
        "Alternatively, we can create a Python implementation similar to R's `multi_arm_causal_forest()` of the {grf} package. This will include fitting the model, calculating doubly robust average treatment effects, and plotting variable importance."
      ]
    },
    {
      "cell_type": "markdown",
      "metadata": {},
      "source": [
        "Here's a step-by-step explanation of the `multi_arm_causal_forest()` function:\n",
        "\n",
        "1. **Input Preparation**:\n",
        "   - Takes pre-split training/test data (X, W, Y for both sets)\n",
        "   - Assumes treatments (W) are categorical and outcomes (Y) can be multi-dimensional\n",
        "\n",
        "2. **Treatment Encoding**:\n",
        "   - One-hot encodes treatment assignments (W) into binary matrices\n",
        "   - Stores original treatment names for reference\n",
        "\n",
        "3. **Model Training**:\n",
        "   - Trains separate outcome models for each treatment-outcome combination\n",
        "   - Uses Random Forest regressors for continuous outcomes\n",
        "   - Trains a propensity model (Random Forest) to estimate treatment probabilities\n",
        "\n",
        "4. **Doubly Robust Scores**:\n",
        "   - Calculates AIPW (Augmented Inverse Probability Weighting) scores:\n",
        "     - Predicts potential outcomes under each treatment\n",
        "     - Adjusts for treatment assignment probabilities\n",
        "     - Combines models to reduce bias in effect estimation\n",
        "\n",
        "5. **Treatment Effects**:\n",
        "   - Computes Average Treatment Effects (ATE) between all treatment pairs\n",
        "   - For each outcome, compares all possible treatment combinations\n",
        "\n",
        "6. **Variable Importance**:\n",
        "   - Extracts feature importance from the outcome models\n",
        "   - Provides importance scores for each covariate-outcome pair\n",
        "\n",
        "7. **Predictions**:\n",
        "   - Generates test set predictions for all treatment-outcome combinations\n",
        "\n",
        "8. **Output**:\n",
        "   - Returns:\n",
        "     - ATE results as a DataFrame\n",
        "     - Variable importance as a DataFrame\n",
        "     - Test predictions\n",
        "     - Treatment and outcome names for reference\n",
        "\n",
        "Key Features:\n",
        "- Handles multiple treatments and multiple outcomes\n",
        "- Uses doubly robust estimation for unbiased effect sizes\n",
        "- Provides interpretable variable importance\n",
        "- Returns organized DataFrames for easy analysis\n",
        "\n",
        "The function focuses purely on causal estimation after data preparation, making it modular and reusable across different datasets."
      ]
    },
    {
      "cell_type": "code",
      "execution_count": 35,
      "metadata": {},
      "outputs": [],
      "source": [
        "import numpy as np\n",
        "import pandas as pd\n",
        "import matplotlib.pyplot as plt\n",
        "from sklearn.ensemble import RandomForestRegressor\n",
        "from sklearn.preprocessing import OneHotEncoder\n",
        "\n",
        "def multi_arm_causal_forest(X_train, W_train, Y_train, X_test, W_test, Y_test, num_trees=2000, min_node_size=5):\n",
        "    \"\"\"\n",
        "    Multi-arm causal forest implementation without data splitting/processing.\n",
        "    \n",
        "    Parameters:\n",
        "    X_train, X_test: Training and test covariates\n",
        "    W_train, W_test: Training and test treatment assignments\n",
        "    Y_train, Y_test: Training and test outcomes\n",
        "    num_trees: Number of trees in the forest\n",
        "    min_node_size: Minimum node size\n",
        "    \n",
        "    Returns:\n",
        "    Dictionary containing:\n",
        "    - ate_df: DataFrame of Average Treatment Effects\n",
        "    - var_imp_df: DataFrame of Variable Importance\n",
        "    - test_predictions: Predictions on test set\n",
        "    \"\"\"\n",
        "    \n",
        "    # One-hot encode treatments\n",
        "    encoder = OneHotEncoder()\n",
        "    W_train_encoded = encoder.fit_transform(W_train.reshape(-1, 1)).toarray()\n",
        "    W_test_encoded = encoder.transform(W_test.reshape(-1, 1)).toarray()\n",
        "    treatment_names = encoder.categories_[0]\n",
        "    \n",
        "    num_treatments = len(treatment_names)\n",
        "    num_outcomes = Y_train.shape[1] if len(Y_train.shape) > 1 else 1\n",
        "    \n",
        "    # Train outcome models (one per treatment per outcome)\n",
        "    outcome_models = {}\n",
        "    for t_idx, t in enumerate(treatment_names):\n",
        "        mask = (W_train == t)\n",
        "        X_t = X_train[mask]\n",
        "        \n",
        "        for o_idx in range(num_outcomes):\n",
        "            Y_t = Y_train[mask, o_idx] if num_outcomes > 1 else Y_train[mask]\n",
        "            \n",
        "            model = RandomForestRegressor(\n",
        "                n_estimators=num_trees,\n",
        "                min_samples_leaf=min_node_size,\n",
        "                random_state=42\n",
        "            )\n",
        "            model.fit(X_t, Y_t)\n",
        "            outcome_models[(t_idx, o_idx)] = model\n",
        "    \n",
        "    # Train propensity model\n",
        "    propensity_model = RandomForestRegressor(\n",
        "        n_estimators=num_trees,\n",
        "        min_samples_leaf=min_node_size,\n",
        "        random_state=42\n",
        "    )\n",
        "    propensity_model.fit(X_train, W_train_encoded)\n",
        "    \n",
        "    # Get propensity scores\n",
        "    propensities_train = propensity_model.predict(X_train)\n",
        "    propensities_test = propensity_model.predict(X_test)\n",
        "    \n",
        "    # Calculate doubly robust scores (AIPW)\n",
        "    def calculate_dr_scores(X, W, Y, propensities):\n",
        "        dr_scores = np.zeros((len(X), num_treatments, num_outcomes))\n",
        "        \n",
        "        for t_idx in range(num_treatments):\n",
        "            p_t = propensities[:, t_idx]\n",
        "            \n",
        "            for o_idx in range(num_outcomes):\n",
        "                Y_vals = Y[:, o_idx] if num_outcomes > 1 else Y\n",
        "                mu_t = outcome_models[(t_idx, o_idx)].predict(X)\n",
        "                indicator = (W == treatment_names[t_idx])\n",
        "                dr_scores[:, t_idx, o_idx] = mu_t + indicator * (Y_vals - mu_t) / np.clip(p_t, 1e-3, 1-1e-3)\n",
        "        \n",
        "        return dr_scores\n",
        "    \n",
        "    dr_test = calculate_dr_scores(X_test, W_test, Y_test, propensities_test)\n",
        "    \n",
        "    # Calculate average treatment effects\n",
        "    ate_results = []\n",
        "    for o_idx in range(num_outcomes):\n",
        "        outcome_name = f\"outcome_{o_idx}\" if num_outcomes > 1 else \"outcome\"\n",
        "        \n",
        "        for i in range(num_treatments):\n",
        "            for j in range(i+1, num_treatments):\n",
        "                ate_ij = np.mean(dr_test[:, j, o_idx] - dr_test[:, i, o_idx])\n",
        "                ate_results.append({\n",
        "                    'Outcome': outcome_name,\n",
        "                    'Comparison': f\"{treatment_names[j]} vs {treatment_names[i]}\",\n",
        "                    'ATE': ate_ij\n",
        "                })\n",
        "    \n",
        "    # Calculate variable importance\n",
        "    var_imp_results = []\n",
        "    feature_names = ['age', 'sex', 'ph.ecog']  # Should be passed if not using lung data\n",
        "    \n",
        "    for o_idx in range(num_outcomes):\n",
        "        outcome_name = f\"outcome_{o_idx}\" if num_outcomes > 1 else \"outcome\"\n",
        "        model = outcome_models[(0, o_idx)]\n",
        "        importances = model.feature_importances_\n",
        "        \n",
        "        for feat_idx, imp in enumerate(importances):\n",
        "            var_imp_results.append({\n",
        "                'Outcome': outcome_name,\n",
        "                'Feature': feature_names[feat_idx],\n",
        "                'Importance': imp\n",
        "            })\n",
        "    \n",
        "    # Generate test predictions\n",
        "    test_predictions = {}\n",
        "    for t_idx, t in enumerate(treatment_names):\n",
        "        for o_idx in range(num_outcomes):\n",
        "            outcome_name = f\"outcome_{o_idx}\" if num_outcomes > 1 else \"outcome\"\n",
        "            key = f\"{t}_{outcome_name}\"\n",
        "            test_predictions[key] = outcome_models[(t_idx, o_idx)].predict(X_test)\n",
        "    \n",
        "    return {\n",
        "        'ate_df': pd.DataFrame(ate_results),\n",
        "        'var_imp_df': pd.DataFrame(var_imp_results),\n",
        "        'test_predictions': pd.DataFrame(test_predictions),\n",
        "        'treatment_names': treatment_names,\n",
        "        'outcome_names': ['log_time', 'health_status'] if num_outcomes > 1 else ['outcome']\n",
        "    }\n",
        "\n",
        "def plot_results(results):\n",
        "    \"\"\"Plot variable importance and display results.\"\"\"\n",
        "    # Variable importance plot\n",
        "    fig, axes = plt.subplots(1, len(results['outcome_names']), figsize=(12, 5))\n",
        "    if len(results['outcome_names']) == 1:\n",
        "        axes = [axes]\n",
        "    \n",
        "    for i, outcome in enumerate(results['outcome_names']):\n",
        "        df = results['var_imp_df'][results['var_imp_df']['Outcome'] == (f\"outcome_{i}\" if len(results['outcome_names']) > 1 else \"outcome\")]\n",
        "        df = df.sort_values('Importance')\n",
        "        axes[i].barh(df['Feature'], df['Importance'])\n",
        "        axes[i].set_title(f'Variable Importance - {outcome}')\n",
        "    \n",
        "    plt.tight_layout()\n",
        "    plt.show()\n",
        "    \n",
        "    # Display ATE results using print instead of display\n",
        "    print(\"\\nAverage Treatment Effects (AIPW):\")\n",
        "    print(results['ate_df'].to_string())\n",
        "    \n",
        "    # Show first few test predictions\n",
        "    print(\"\\nTest Set Predictions (first 5 samples):\")\n",
        "    print(results['test_predictions'].head().to_string())"
      ]
    },
    {
      "cell_type": "markdown",
      "metadata": {
        "id": "EDgTlysSMx5g"
      },
      "source": [
        "### Data"
      ]
    },
    {
      "cell_type": "code",
      "execution_count": 24,
      "metadata": {
        "colab": {
          "base_uri": "https://localhost:8080/",
          "height": 258
        },
        "id": "vdn2mHGLMAQi",
        "outputId": "a73df70e-af14-4204-903b-3826508c0c98"
      },
      "outputs": [],
      "source": [
        "# Load and prepare the data\n",
        "url = \"https://github.com/zia207/r-colab/raw/main/Data/Machine_Learning/lung.csv\"\n",
        "lung_data = pd.read_csv(url)\n",
        "\n",
        "# Filter the DataFrame\n",
        "lung_data = lung_data.dropna(subset=['age', 'sex', 'ph.ecog'])\n",
        "\n",
        "# Create the 'treatment' column\n",
        "np.random.seed(123) # for reproducibility\n",
        "treatment_arms = ['placebo', 'A', 'B']\n",
        "treatment_probs = [0.4, 0.3, 0.3]\n",
        "lung_data['treatment'] = np.random.choice(treatment_arms, size=len(lung_data), p=treatment_probs)\n",
        "\n",
        "# Create the 'health_status' column\n",
        "base_prob = 0.3\n",
        "effect_A = 0.1\n",
        "effect_B = 0.15\n",
        "prob_health_status = base_prob + effect_A * (lung_data['treatment'] == 'A') + effect_B * (lung_data['treatment'] == 'B')\n",
        "lung_data['health_status'] = np.random.binomial(1, prob_health_status, size=len(lung_data))\n",
        "\n",
        "# Create the 'log_time' column\n",
        "lung_data['log_time'] = np.log(lung_data['time'])\n",
        "\n",
        "# Define X, W, Y\n",
        "X = lung_data[['age', 'sex', 'ph.ecog']].values\n",
        "W = lung_data['treatment'].values\n",
        "Y = lung_data[['log_time', 'health_status']].values"
      ]
    },
    {
      "cell_type": "code",
      "execution_count": 30,
      "metadata": {
        "colab": {
          "base_uri": "https://localhost:8080/"
        },
        "id": "kIlth8UhModj",
        "outputId": "c907fdff-cb03-480c-e576-08ceb1aded20"
      },
      "outputs": [
        {
          "name": "stdout",
          "output_type": "stream",
          "text": [
            "Shape of X_train: (181, 3)\n",
            "Shape of X_test: (46, 3)\n",
            "Shape of W_train: (181,)\n",
            "Shape of W_test: (46,)\n",
            "Shape of Y_train: (181, 2)\n",
            "Shape of Y_test: (46, 2)\n"
          ]
        }
      ],
      "source": [
        "from sklearn.model_selection import train_test_split\n",
        "\n",
        "# Split into training and test sets\n",
        "X_train, X_test, W_train, W_test, Y_train, Y_test = train_test_split(\n",
        "    X, W, Y, test_size=0.2, random_state=123\n",
        ")\n",
        "\n",
        "# Print the shapes\n",
        "print(\"Shape of X_train:\", X_train.shape)\n",
        "print(\"Shape of X_test:\", X_test.shape)\n",
        "print(\"Shape of W_train:\", W_train.shape)\n",
        "print(\"Shape of W_test:\", W_test.shape)\n",
        "print(\"Shape of Y_train:\", Y_train.shape)\n",
        "print(\"Shape of Y_test:\", Y_test.shape)\n"
      ]
    },
    {
      "cell_type": "markdown",
      "metadata": {
        "id": "wSpVMNw7M1UH"
      },
      "source": [
        "### Train Multi-arm Causal_Forest"
      ]
    },
    {
      "cell_type": "code",
      "execution_count": 31,
      "metadata": {
        "colab": {
          "base_uri": "https://localhost:8080/"
        },
        "id": "WnO-HKeRNDpI",
        "outputId": "47a10897-81c3-4518-c9f0-d381d02015bf"
      },
      "outputs": [
        {
          "data": {
            "image/png": "[encoded data removed]",
            "text/plain": [
              "<Figure size 1200x500 with 2 Axes>"
            ]
          },
          "metadata": {},
          "output_type": "display_data"
        },
        {
          "name": "stdout",
          "output_type": "stream",
          "text": [
            "Average Treatment Effects (AIPW):\n"
          ]
        },
        {
          "data": {
            "text/html": [
              "<div>\n",
              "<style scoped>\n",
              "    .dataframe tbody tr th:only-of-type {\n",
              "        vertical-align: middle;\n",
              "    }\n",
              "\n",
              "    .dataframe tbody tr th {\n",
              "        vertical-align: top;\n",
              "    }\n",
              "\n",
              "    .dataframe thead th {\n",
              "        text-align: right;\n",
              "    }\n",
              "</style>\n",
              "<table border=\"1\" class=\"dataframe\">\n",
              "  <thead>\n",
              "    <tr style=\"text-align: right;\">\n",
              "      <th></th>\n",
              "      <th>Outcome</th>\n",
              "      <th>Comparison</th>\n",
              "      <th>ATE</th>\n",
              "    </tr>\n",
              "  </thead>\n",
              "  <tbody>\n",
              "    <tr>\n",
              "      <th>0</th>\n",
              "      <td>outcome_0</td>\n",
              "      <td>B vs A</td>\n",
              "      <td>0.011760</td>\n",
              "    </tr>\n",
              "    <tr>\n",
              "      <th>1</th>\n",
              "      <td>outcome_0</td>\n",
              "      <td>placebo vs A</td>\n",
              "      <td>-0.263888</td>\n",
              "    </tr>\n",
              "    <tr>\n",
              "      <th>2</th>\n",
              "      <td>outcome_0</td>\n",
              "      <td>placebo vs B</td>\n",
              "      <td>-0.275647</td>\n",
              "    </tr>\n",
              "    <tr>\n",
              "      <th>3</th>\n",
              "      <td>outcome_1</td>\n",
              "      <td>B vs A</td>\n",
              "      <td>-0.231666</td>\n",
              "    </tr>\n",
              "    <tr>\n",
              "      <th>4</th>\n",
              "      <td>outcome_1</td>\n",
              "      <td>placebo vs A</td>\n",
              "      <td>0.019756</td>\n",
              "    </tr>\n",
              "    <tr>\n",
              "      <th>5</th>\n",
              "      <td>outcome_1</td>\n",
              "      <td>placebo vs B</td>\n",
              "      <td>0.251423</td>\n",
              "    </tr>\n",
              "  </tbody>\n",
              "</table>\n",
              "</div>"
            ],
            "text/plain": [
              "     Outcome    Comparison       ATE\n",
              "0  outcome_0        B vs A  0.011760\n",
              "1  outcome_0  placebo vs A -0.263888\n",
              "2  outcome_0  placebo vs B -0.275647\n",
              "3  outcome_1        B vs A -0.231666\n",
              "4  outcome_1  placebo vs A  0.019756\n",
              "5  outcome_1  placebo vs B  0.251423"
            ]
          },
          "metadata": {},
          "output_type": "display_data"
        },
        {
          "name": "stdout",
          "output_type": "stream",
          "text": [
            "\n",
            "Test Set Predictions (first 5 samples):\n"
          ]
        },
        {
          "data": {
            "text/html": [
              "<div>\n",
              "<style scoped>\n",
              "    .dataframe tbody tr th:only-of-type {\n",
              "        vertical-align: middle;\n",
              "    }\n",
              "\n",
              "    .dataframe tbody tr th {\n",
              "        vertical-align: top;\n",
              "    }\n",
              "\n",
              "    .dataframe thead th {\n",
              "        text-align: right;\n",
              "    }\n",
              "</style>\n",
              "<table border=\"1\" class=\"dataframe\">\n",
              "  <thead>\n",
              "    <tr style=\"text-align: right;\">\n",
              "      <th></th>\n",
              "      <th>A_outcome_0</th>\n",
              "      <th>A_outcome_1</th>\n",
              "      <th>B_outcome_0</th>\n",
              "      <th>B_outcome_1</th>\n",
              "      <th>placebo_outcome_0</th>\n",
              "      <th>placebo_outcome_1</th>\n",
              "    </tr>\n",
              "  </thead>\n",
              "  <tbody>\n",
              "    <tr>\n",
              "      <th>0</th>\n",
              "      <td>5.660590</td>\n",
              "      <td>0.315100</td>\n",
              "      <td>5.210497</td>\n",
              "      <td>0.390598</td>\n",
              "      <td>5.591504</td>\n",
              "      <td>0.144341</td>\n",
              "    </tr>\n",
              "    <tr>\n",
              "      <th>1</th>\n",
              "      <td>5.584289</td>\n",
              "      <td>0.352231</td>\n",
              "      <td>5.034483</td>\n",
              "      <td>0.662400</td>\n",
              "      <td>4.886838</td>\n",
              "      <td>0.410708</td>\n",
              "    </tr>\n",
              "    <tr>\n",
              "      <th>2</th>\n",
              "      <td>5.364255</td>\n",
              "      <td>0.279721</td>\n",
              "      <td>5.208544</td>\n",
              "      <td>0.427713</td>\n",
              "      <td>5.501072</td>\n",
              "      <td>0.257715</td>\n",
              "    </tr>\n",
              "    <tr>\n",
              "      <th>3</th>\n",
              "      <td>5.467306</td>\n",
              "      <td>0.296532</td>\n",
              "      <td>5.273451</td>\n",
              "      <td>0.388984</td>\n",
              "      <td>5.687326</td>\n",
              "      <td>0.166180</td>\n",
              "    </tr>\n",
              "    <tr>\n",
              "      <th>4</th>\n",
              "      <td>5.471690</td>\n",
              "      <td>0.296404</td>\n",
              "      <td>5.273451</td>\n",
              "      <td>0.388984</td>\n",
              "      <td>5.687804</td>\n",
              "      <td>0.099725</td>\n",
              "    </tr>\n",
              "  </tbody>\n",
              "</table>\n",
              "</div>"
            ],
            "text/plain": [
              "   A_outcome_0  A_outcome_1  B_outcome_0  B_outcome_1  placebo_outcome_0  \\\n",
              "0     5.660590     0.315100     5.210497     0.390598           5.591504   \n",
              "1     5.584289     0.352231     5.034483     0.662400           4.886838   \n",
              "2     5.364255     0.279721     5.208544     0.427713           5.501072   \n",
              "3     5.467306     0.296532     5.273451     0.388984           5.687326   \n",
              "4     5.471690     0.296404     5.273451     0.388984           5.687804   \n",
              "\n",
              "   placebo_outcome_1  \n",
              "0           0.144341  \n",
              "1           0.410708  \n",
              "2           0.257715  \n",
              "3           0.166180  \n",
              "4           0.099725  "
            ]
          },
          "metadata": {},
          "output_type": "display_data"
        }
      ],
      "source": [
        "# Run causal forest\n",
        "results = multi_arm_causal_forest(\n",
        "    X_train, W_train, Y_train,\n",
        "    X_test, W_test, Y_test,\n",
        "    num_trees=1000,\n",
        "    min_node_size=10\n",
        ")\n",
        "\n",
        "# Visualize results\n",
        "plot_results(results)"
      ]
    },
    {
      "cell_type": "markdown",
      "metadata": {
        "id": "_j759RVMQMut"
      },
      "source": [
        "## Summary and Conclusion\n",
        "\n",
        "This notebook demonstrates two methods for implementing Multi-arm/Multi-outcome Causal Forests in Python: using the {econml} library and using the a  function`multi_arm_causal_forest()` similar to  {grf} R package.   While {econml} allows for handling multiple treatments and outcomes, the multi_arm_causal_forest()` function provides a more direct implementation with for calculating Average Treatment Effects (ATE) and plotting variable importance for multiple outcomes and treatment arms."
      ]
    },
    {
      "cell_type": "markdown",
      "metadata": {
        "id": "SaZTnZx3QPGI"
      },
      "source": [
        "## References\n",
        "\n",
        "1.  Wager, S., & Athey, S. (2018). Estimation and Inference of Heterogeneous Treatment Effects using Random Forests. JASA.\n",
        "\n",
        "2.  Athey, S., Tibshirani, J., & Wager, S. (2019). Generalized Random Forests. Ann. Statist.\n",
        "\n",
        "3.  Multi-arm/multi-outcome implementation available in grf R package"
      ]
    }
  ],
  "metadata": {
    "colab": {
      "authorship_tag": "ABX9TyNHJ2khIRPZBt/MFMBSEtDt",
      "include_colab_link": true,
      "provenance": [],
      "toc_visible": true
    },
    "kernelspec": {
      "display_name": "3.11.11",
      "language": "python",
      "name": "python3"
    },
    "language_info": {
      "codemirror_mode": {
        "name": "ipython",
        "version": 3
      },
      "file_extension": ".py",
      "mimetype": "text/x-python",
      "name": "python",
      "nbconvert_exporter": "python",
      "pygments_lexer": "ipython3",
      "version": "3.11.11"
    }
  },
  "nbformat": 4,
  "nbformat_minor": 0
}
