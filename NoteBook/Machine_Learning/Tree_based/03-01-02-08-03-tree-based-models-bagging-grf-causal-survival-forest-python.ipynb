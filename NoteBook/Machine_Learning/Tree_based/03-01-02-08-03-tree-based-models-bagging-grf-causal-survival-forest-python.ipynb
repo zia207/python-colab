{
  "cells": [
    {
      "cell_type": "markdown",
      "metadata": {
        "colab_type": "text",
        "id": "view-in-github"
      },
      "source": [
        "<a href=\"https://colab.research.google.com/github/zia207/python-colab/blob/main/NoteBook/Machine_Learning/Tree_based/03-01-02-08-03-tree-based-models-bagging-grf-causal-survival-forest-python.ipynb\" target=\"_parent\"><img src=\"https://colab.research.google.com/assets/colab-badge.svg\" alt=\"Open In Colab\"/></a>"
      ]
    },
    {
      "cell_type": "markdown",
      "metadata": {
        "id": "zYZbTX0qQrZb"
      },
      "source": [
        "![alt text](http://drive.google.com/uc?export=view&id=1IFEWet-Aw4DhkkVe1xv_2YYqlvRe9m5_)\n"
      ]
    },
    {
      "cell_type": "markdown",
      "metadata": {
        "id": "RGBfrL2GQoII"
      },
      "source": [
        "# 2.8.3 Causal Survival Forest (CSF)\n",
        "\n",
        "This notebook demonstrates how to use the **Causal Survival Forest (CSF)** from the `{grf}` package in R to estimate heterogeneous treatment effects on survival data, particularly when outcomes are right-censored. The example uses the `lung` dataset, which contains survival data for patients with advanced lung cancer."
      ]
    },
    {
      "cell_type": "markdown",
      "metadata": {
        "id": "S77MsgmqIYD0"
      },
      "source": [
        "## Overview\n",
        "\n",
        "A **Causal Survival Forest (CSF)** is designed to estimate **heterogeneous treatment effects** for survival data, particularly when outcomes are right-censored. It extends the concept of causal forests to handle time-to-event data, enabling researchers to estimate how a treatment impacts survival outcomes across different subgroups defined by covariates, without relying on restrictive parametric assumptions. CSFs are useful in fields like medicine, economics, and social sciences, where understanding how treatments affect survival outcomes across diverse populations is critical (e.g., estimating the effect of a drug on patient survival based on age, sex, or disease severity).\n",
        "\n"
      ]
    },
    {
      "cell_type": "markdown",
      "metadata": {
        "id": "L2J4liLUc4FO"
      },
      "source": [
        "### Key Concepts of Causal Survival Forests\n",
        "\n",
        "1.  `Heterogeneous Treatment Effects`: CSFs estimate the **conditional average treatment effect (CATE)**, denoted as $\\tau(X)$, which varies across individuals based on their covariate profile $X$. For survival data, this effect can be defined in two ways:\n",
        "\n",
        "-   `Restricted Mean Survival Time (RMST)`: $\\tau(X) = E[\\min(T(1), h) - \\min(T(0), h) | X = x]$, where $T(1)$ and $T(0)$ are the potential survival times under treatment and control, respectively, and $h$ is a specified time horizon.\n",
        "\n",
        "-   `Survival Probability`: $\\tau(X) = P[T(1) \\> h \\| X = x] - P[T(0) \\> h \\| X = x$, which compares the probability of surviving past time $h$ under treatment versus control.\n",
        "\n",
        "2.  `Right-Censoring`: Survival data often involves censoring, where the event time is not observed for all subjects. CSFs account for this by incorporating ensoring indicators and using techniques like inverse probability of censoring weighting (IPCW).\n",
        "\n",
        "3.  `Non-parametric Approach`: Unlike traditional survival models (e.g., Cox proportional hazards), CSFs are non-parametric, making them flexible for capturing complex, non-linear relationships between covariates and treatment effects.\n",
        "\n",
        "4.  `Forest-Based Estimation`: CSFs build an ensemble of trees, where each tree splits the covariate space to maximize heterogeneity in treatment effects. Predictions are made by aggregating estimates across trees, weighted by how often a test sample falls into the same leaf as training samples.\n",
        "\n",
        "5.  `Honest Estimation`: The `grf` package uses \"honest\" estimation, splitting the data into subsets for choosing tree splits and populating leaf estimates, reducing overfitting.\n",
        "\n",
        "6.  `Applications`: CSFs are useful in fields like medicine, economics, and social sciences, where understanding how treatments affect survival outcomes across diverse populations is critical (e.g., estimating the effect of a drug on patient survival based on age, sex, or disease severity)."
      ]
    },
    {
      "cell_type": "markdown",
      "metadata": {
        "id": "VwEoykvwI2dS"
      },
      "source": [
        "### How CSFs Work\n",
        "\n",
        "1.  Input Data\n",
        "\n",
        "-   $X$: Covariates (e.g., age, sex, clinical measurements).\n",
        "\n",
        "-   $Y$: Observed time (minimum of event time and censoring time).\n",
        "\n",
        "-   $W$: Treatment assignment (binary or continuous).\n",
        "\n",
        "-   $D$: Censoring indicator (1 if the event is observed, 0 if censored).\n",
        "\n",
        "-   $h$: Time horizon for RMST or survival probability.\n",
        "\n",
        "2.  Splitting Criterion\n",
        "\n",
        "-   Trees are grown by maximizing the difference in treatment effects between child nodes, using a modified objective that accounts for censoring (e.g., via AIPW scores, as described in Cui et al., 2023).\n",
        "\n",
        "3.  Prediction\n",
        "\n",
        "-   For a given covariate profile (X = x), the forest estimates $\\tau(x)$ by averaging treatment effect estimates from trees, using weights based on sample: CSFs use techniques like IPCW or survival forests to estimate censoring probabilities, ensuring unbiased treatment effect estimates.\n"
      ]
    },
    {
      "cell_type": "markdown",
      "metadata": {
        "id": "A2tB_TxOs0nQ"
      },
      "source": [
        "### How does it differ from Causal Forest and Survival Forest?\n",
        "\n",
        "\n",
        "\n",
        "| **Aspect**                | **Survival Forest**                              | **Causal Forest**                              | **Causal Survival Forest**                     |\n",
        "|---------------------------|--------------------------------------------------|-----------------------------------------------|-----------------------------------------------|\n",
        "| `Objective`             | Predict survival probability or hazard over time | Estimate heterogeneous treatment effects       | Estimate treatment effects on survival outcomes |\n",
        "| `Outcome Type`          | Time-to-event (censored)                        | Continuous or binary                          | Time-to-event (censored)                      |\n",
        "| `Treatment Variable`    | None                                            | Required (W: 0/1)                            | Required (W: 0/1)                             |\n",
        "| `Inputs`                | X, Y, D                                         | X, Y, W                                      | X, Y, D, W                                    |\n",
        "| `Output`                | Survival curves or hazard functions             | Treatment effect estimates $\\tau(X)$)      | Treatment effect on survival $\\tau(t | X)$ |\n",
        "| `Use Case`              | Survival prediction (e.g., patient prognosis)   | Treatment effect heterogeneity (e.g., drug impact) | Treatment effect on survival (e.g., therapy impact) |\n",
        "| `Assumptions`           | Handles censoring                               | Unconfoundedness, overlap                    | Unconfoundedness, overlap, censoring handled  |\n",
        "| `{grf} Function`        | `survival_forest()`                             | `causal_forest()`                            | `causal_survival_forest()`                    |\n"
      ]
    },
    {
      "cell_type": "markdown",
      "metadata": {
        "id": "bIBhNo81s-Nt"
      },
      "source": [
        "### Practical Notes\n",
        "\n",
        "- `Survival Forest`: Used when the goal is purely predictive (e.g., forecasting patient survival based on covariates). It does not involve a treatment variable.\n",
        "\n",
        "- `Causal Forest`: Used for non-survival outcomes (e.g., blood pressure, test scores) to understand how treatment effects vary across individuals.\n",
        "\n",
        "`Causal Survival Forest`: Used when both treatment effects and survival outcomes are of interest, combining the strengths of the other two models.\n"
      ]
    },
    {
      "cell_type": "markdown",
      "metadata": {
        "id": "bh7jEhGCLDZA"
      },
      "source": [
        "## Causal Survival Forest with Python\n",
        "\n",
        "Unfortunately, the primary implementation of CSFs is in the R package {grf} (Generalized Random Forests), which is widely used for this purpose. However, Python users can access grf functionality via the {rpy2} library, which allows R code to be executed within Python. Alternatively, Python libraries like {econml} offer causal forest implementations, but they are less tailored for survival data with censoring. Below, I’ll focus on using {rpy2} to leverage {grf’s} causal_survival_forest function, as it’s the most direct way to implement CSFs in Python.\n",
        "\n"
      ]
    },
    {
      "cell_type": "markdown",
      "metadata": {
        "id": "7TTOI_HYNXAn"
      },
      "source": [
        "### Set up the python environment\n",
        "\n",
        "Install necessary Python libraries, including `rpy2` and any other libraries required for data handling and visualization."
      ]
    },
    {
      "cell_type": "code",
      "execution_count": null,
      "metadata": {
        "id": "apgsUowyNZUJ"
      },
      "outputs": [],
      "source": [
        "%pip install rpy2 scikit-survival"
      ]
    },
    {
      "cell_type": "markdown",
      "metadata": {
        "id": "LQkMM5o_NihO"
      },
      "source": [
        "### Load r libraries"
      ]
    },
    {
      "cell_type": "code",
      "execution_count": null,
      "metadata": {
        "id": "2Jae95u_Nmpe"
      },
      "outputs": [],
      "source": [
        "%load_ext rpy2.ipython\n",
        "\n",
        "import rpy2.robjects as ro\n",
        "from rpy2.robjects.packages import importr\n",
        "\n",
        "r = ro.r\n",
        "\n",
        "r['install.packages'](\"grf\", repos='http://cran.us.r-project.org')\n",
        "r.library(\"grf\")\n",
        "r.library(\"survival\")\n",
        "r.library(\"ggplot2\")"
      ]
    },
    {
      "cell_type": "markdown",
      "metadata": {
        "id": "IYYxCKtVtO-I"
      },
      "source": [
        "### Prepare the Data"
      ]
    },
    {
      "cell_type": "code",
      "execution_count": 3,
      "metadata": {
        "colab": {
          "base_uri": "https://localhost:8080/",
          "height": 854
        },
        "id": "RmfGVScmzF8P",
        "outputId": "71ed1548-70c7-4af5-84e4-ff3cf56ea1a2"
      },
      "outputs": [
        {
          "name": "stderr",
          "output_type": "stream",
          "text": [
            "WARNING:rpy2.rinterface_lib.callbacks:R[write to console]: In addition: \n",
            "WARNING:rpy2.rinterface_lib.callbacks:R[write to console]: Warning message:\n",
            "\n",
            "WARNING:rpy2.rinterface_lib.callbacks:R[write to console]: In data(lung) :\n",
            "WARNING:rpy2.rinterface_lib.callbacks:R[write to console]:  data set ‘lung’ not found\n",
            "\n"
          ]
        },
        {
          "name": "stdout",
          "output_type": "stream",
          "text": [
            "Rows after removing NAs: 168\n",
            "Number of events (D=1):\n",
            "0     47\n",
            "1    121\n",
            "Name: count, dtype: int64\n",
            "Summary of event times where event observed:\n",
            "count    121.000000\n",
            "mean     289.074380\n",
            "std      200.249102\n",
            "min        5.000000\n",
            "25%      147.000000\n",
            "50%      246.000000\n",
            "75%      426.000000\n",
            "max      814.000000\n",
            "dtype: float64\n"
          ]
        },
        {
          "data": {
            "image/png": "[encoded data removed]",
            "text/plain": [
              "<Figure size 640x480 with 1 Axes>"
            ]
          },
          "metadata": {},
          "output_type": "display_data"
        },
        {
          "name": "stdout",
          "output_type": "stream",
          "text": [
            "Using horizon = 814.0\n"
          ]
        }
      ],
      "source": [
        "import rpy2.robjects as ro\n",
        "from rpy2.robjects import pandas2ri\n",
        "import pandas as pd\n",
        "import numpy as np\n",
        "import matplotlib.pyplot as plt\n",
        "\n",
        "# Activate the automatic conversion between pandas and R data frames\n",
        "pandas2ri.activate()\n",
        "\n",
        "# Load the lung dataset from R\n",
        "ro.r('data(lung)')\n",
        "lung_r = ro.r['lung']\n",
        "\n",
        "# Convert R data frame to pandas DataFrame\n",
        "lung_df = pandas2ri.rpy2py(lung_r)\n",
        "\n",
        "# Define covariate names\n",
        "covar_names = [\"age\", \"ph.ecog\", \"ph.karno\", \"pat.karno\", \"meal.cal\", \"wt.loss\"]\n",
        "\n",
        "# Handle missing values in specified columns\n",
        "cols_to_check = [\"time\", \"status\", \"sex\"] + covar_names\n",
        "lung2_df = lung_df.dropna(subset=cols_to_check)\n",
        "\n",
        "# Print number of rows after removing NAs\n",
        "print(f\"Rows after removing NAs: {len(lung2_df)}\")\n",
        "\n",
        "# Prepare variables for grf\n",
        "Y = lung2_df['time'].values\n",
        "D = np.where(lung2_df['status'] == 2, 1, 0)   # 1=event(death), 0=censored\n",
        "W = np.where(lung2_df['sex'] == 2, 1, 0)      # 1=female, 0=male (treatment: female)\n",
        "X = lung2_df[covar_names].values\n",
        "\n",
        "# Check distribution of events and event times\n",
        "print(\"Number of events (D=1):\")\n",
        "print(pd.Series(D).value_counts().sort_index())\n",
        "print(\"Summary of event times where event observed:\")\n",
        "print(pd.Series(Y[D == 1]).describe())\n",
        "\n",
        "# Plot histogram of event times where event observed\n",
        "plt.hist(Y[D == 1], bins=20)\n",
        "plt.title(\"Histogram of Event Times (Deaths)\")\n",
        "plt.xlabel(\"Survival Time (days)\")\n",
        "plt.ylabel(\"Frequency\")\n",
        "plt.show()\n",
        "\n",
        "# Find a valid horizon (latest time with at least one event)\n",
        "event_times = np.sort(np.unique(Y[D == 1]))\n",
        "last_valid_ht = None\n",
        "for ht in event_times:\n",
        "  n_events = np.sum((D == 1) & (Y <= ht))\n",
        "  if n_events > 0:\n",
        "    last_valid_ht = ht\n",
        "\n",
        "# Print the chosen horizon\n",
        "print(f\"Using horizon = {last_valid_ht}\")"
      ]
    },
    {
      "cell_type": "markdown",
      "metadata": {
        "id": "ThhlXPmzzK7v"
      },
      "source": [
        "### Split Data into Training and Test Sets"
      ]
    },
    {
      "cell_type": "code",
      "execution_count": 8,
      "metadata": {
        "colab": {
          "base_uri": "https://localhost:8080/"
        },
        "id": "jbX9jRGczLuL",
        "outputId": "15d9df5c-e99d-461d-d97a-9e658eb2a2df"
      },
      "outputs": [
        {
          "name": "stdout",
          "output_type": "stream",
          "text": [
            "Training set size: 134\n",
            "Test set size: 34\n",
            "Column names of X_train: ['age', 'ph.ecog', 'ph.karno', 'pat.karno', 'meal.cal', 'wt.loss']\n"
          ]
        }
      ],
      "source": [
        "from sklearn.model_selection import train_test_split\n",
        "\n",
        "# Split data into training (80%) and test (20%) sets\n",
        "X_train, X_test, Y_train, Y_test, W_train, W_test, D_train, D_test = train_test_split(\n",
        "    X, Y, W, D, test_size=0.2, random_state=123\n",
        ")\n",
        "\n",
        "# Print sizes of the training and test sets\n",
        "print(f\"Training set size: {len(X_train)}\")\n",
        "print(f\"Test set size: {len(X_test)}\")\n",
        "\n",
        "# Print column names of X_train to confirm structure\n",
        "# Since X is a numpy array, it doesn't have column names directly.\n",
        "# We can use the original covariate names as column names for X_train for clarity.\n",
        "print(f\"Column names of X_train: {covar_names}\")"
      ]
    },
    {
      "cell_type": "markdown",
      "metadata": {
        "id": "RMe3nasHz9g-"
      },
      "source": [
        "### Train the Causal Survival Forest\n",
        "\n",
        "Fit a CSF to estimate treatment effects on RMST with valid horizon."
      ]
    },
    {
      "cell_type": "code",
      "execution_count": 9,
      "metadata": {
        "colab": {
          "base_uri": "https://localhost:8080/"
        },
        "id": "K8_YZmzb0LTO",
        "outputId": "45ccb571-53ed-4023-bba6-56400bcda087"
      },
      "outputs": [
        {
          "name": "stdout",
          "output_type": "stream",
          "text": [
            "Training ATE: 94.12355 ± 93.71873 (95% CI)\n"
          ]
        }
      ],
      "source": [
        "# Convert numpy arrays to R vectors\n",
        "Y_train_r = ro.FloatVector(Y_train)\n",
        "W_train_r = ro.IntVector(W_train)\n",
        "D_train_r = ro.IntVector(D_train)\n",
        "\n",
        "# Call the R causal_survival_forest function\n",
        "csf_model = r.causal_survival_forest(\n",
        "  X = X_train, # X_train is already a numpy array, which rpy2 can handle\n",
        "  Y = Y_train_r,\n",
        "  W = W_train_r,\n",
        "  D = D_train_r,\n",
        "  num_trees = 1000,\n",
        "  sample_fraction = 0.5,\n",
        "  mtry = min(int(np.ceil(np.sqrt(X_train.shape[1]))), int(X_train.shape[1]/3)),\n",
        "  min_node_size = 5,\n",
        "  honesty = True,\n",
        "  honesty_fraction = 0.5,\n",
        "  ci_group_size = 2,\n",
        "  alpha = 0.05,\n",
        "  imbalance_penalty = 0,\n",
        "  stabilize_splits = True,\n",
        "  tune_parameters = \"all\",\n",
        "  horizon = last_valid_ht,  # Set the horizon for survival analysis\n",
        "  seed = 123\n",
        ")\n",
        "\n",
        "# Estimate ATE on training data\n",
        "ate_train_r = r.average_treatment_effect(csf_model, target_sample = \"all\")\n",
        "\n",
        "# Extract the estimate and standard error from the numpy array\n",
        "ate_estimate = ate_train_r[0]\n",
        "ate_std_err = ate_train_r[1]\n",
        "\n",
        "# Print the training ATE and its 95% confidence interval\n",
        "print(f\"Training ATE: {ate_estimate:.5f} ± {1.96 * ate_std_err:.5f} (95% CI)\")"
      ]
    },
    {
      "cell_type": "markdown",
      "metadata": {
        "id": "2KI7kD5R0Qa9"
      },
      "source": [
        "### Predict Treatment Effects"
      ]
    },
    {
      "cell_type": "code",
      "execution_count": 10,
      "metadata": {
        "colab": {
          "base_uri": "https://localhost:8080/",
          "height": 559
        },
        "id": "JipnL_6X0RJl",
        "outputId": "9ffc1052-5d61-48c1-f3aa-38c2f0e189ae"
      },
      "outputs": [
        {
          "name": "stdout",
          "output_type": "stream",
          "text": [
            "Head of predicted treatment effects:\n",
            "[ 80.35973854 110.93993735  98.77796014  92.25565947  96.91901075\n",
            "  92.0225111 ]\n"
          ]
        },
        {
          "data": {
            "image/png": "[encoded data removed]",
            "text/plain": [
              "<Figure size 640x480 with 1 Axes>"
            ]
          },
          "metadata": {},
          "output_type": "display_data"
        },
        {
          "name": "stdout",
          "output_type": "stream",
          "text": [
            "Overall Average Treatment Effect (ATE):\n",
            "Estimate: 94.12355, Std. Error: 47.81568\n"
          ]
        }
      ],
      "source": [
        "# Access the R predict function via rpy2\n",
        "r_predict = ro.r['predict']\n",
        "r_average_treatment_effect = ro.r['average_treatment_effect']\n",
        "\n",
        "# 1. Predict treatment effects for the test set\n",
        "# X_test is already a numpy array, which rpy2 can handle as newdata\n",
        "tau_hat_r = r_predict(csf_model, newdata=X_test, times=last_valid_ht)\n",
        "\n",
        "# Convert the R list containing predictions to a Python list\n",
        "tau_hat_predictions = np.array(tau_hat_r[0])\n",
        "\n",
        "# 2. Print the head of the predicted treatment effects\n",
        "print(\"Head of predicted treatment effects:\")\n",
        "print(tau_hat_predictions[:6])\n",
        "\n",
        "# 3. Predict out-of-bag treatment effects\n",
        "csf_pred_r = r_predict(csf_model)\n",
        "\n",
        "# Convert the R list containing OOB predictions to a Python list\n",
        "csf_pred_predictions = np.array(csf_pred_r[0])\n",
        "\n",
        "# 4. Plot a histogram of the estimated out-of-bag treatment effects\n",
        "plt.hist(csf_pred_predictions, bins=20, color='lightblue')\n",
        "plt.title(\"Distribution of Estimated Treatment Effects (RMST)\")\n",
        "plt.xlabel(\"Treatment Effect (Days)\")\n",
        "plt.ylabel(\"Frequency\")\n",
        "plt.show()\n",
        "\n",
        "# 5. Calculate the average treatment effect (ATE)\n",
        "ate_result_r = r_average_treatment_effect(csf_model)\n",
        "\n",
        "# Convert the R vector result to a numpy array\n",
        "ate_result = np.array(ate_result_r)\n",
        "\n",
        "# 6. Print the calculated ATE (estimate and standard error)\n",
        "print(\"Overall Average Treatment Effect (ATE):\")\n",
        "print(f\"Estimate: {ate_result[0]:.5f}, Std. Error: {ate_result[1]:.5f}\")\n"
      ]
    },
    {
      "cell_type": "markdown",
      "metadata": {
        "id": "diTm7dIrevFe"
      },
      "source": [
        "### Assess Heterogeneity\n",
        "\n",
        "Evaluate treatment effect heterogeneity using the Average Treatment effect on the Ordered Characteristic (AUTOC) and plot the Treatment Outcome Curve (TOC).\n"
      ]
    },
    {
      "cell_type": "code",
      "execution_count": 11,
      "metadata": {
        "colab": {
          "base_uri": "https://localhost:8080/"
        },
        "id": "uolnRWp_exqn",
        "outputId": "a7bbed56-cedd-4864-b2b2-0f69371d19bb"
      },
      "outputs": [
        {
          "name": "stdout",
          "output_type": "stream",
          "text": [
            "AUTOC: 57.47 +/- 139.24\n"
          ]
        }
      ],
      "source": [
        "# Split data into training and evaluation sets\n",
        "n = len(X)\n",
        "np.random.seed(123) # Set seed for reproducibility\n",
        "train_idx = np.random.choice(n, size = n // 2, replace = False)\n",
        "eval_idx = np.setdiff1d(np.arange(n), train_idx)\n",
        "\n",
        "# Convert numpy arrays to R vectors for training and evaluation sets\n",
        "Y_train_r_eval = ro.FloatVector(Y[train_idx])\n",
        "W_train_r_eval = ro.IntVector(W[train_idx])\n",
        "D_train_r_eval = ro.IntVector(D[train_idx])\n",
        "\n",
        "Y_eval_r = ro.FloatVector(Y[eval_idx])\n",
        "W_eval_r = ro.IntVector(W[eval_idx])\n",
        "D_eval_r = ro.IntVector(D[eval_idx])\n",
        "\n",
        "\n",
        "# Access the R causal_survival_forest and rank_average_treatment_effect and plot functions\n",
        "r_causal_survival_forest = ro.r['causal_survival_forest']\n",
        "r_rank_average_treatment_effect = ro.r['rank_average_treatment_effect']\n",
        "r_plot = ro.r['plot']\n",
        "r_predict = ro.r['predict']\n",
        "\n",
        "\n",
        "# Train forests on training and evaluation sets\n",
        "train_csf_r = r_causal_survival_forest(\n",
        "  X = X[train_idx, :], # X is already a numpy array, which rpy2 can handle\n",
        "  Y = Y_train_r_eval,\n",
        "  W = W_train_r_eval,\n",
        "  D = D_train_r_eval,\n",
        "  horizon = last_valid_ht,\n",
        "  seed = 123\n",
        ")\n",
        "\n",
        "eval_csf_r = r_causal_survival_forest(\n",
        "  X = X[eval_idx, :],\n",
        "  Y = Y_eval_r,\n",
        "  W = W_eval_r,\n",
        "  D = D_eval_r,\n",
        "  horizon = last_valid_ht,\n",
        "  seed = 123\n",
        ")\n",
        "\n",
        "# Predict treatment effects on the evaluation set using the training forest\n",
        "train_predictions_r = r_predict(train_csf_r, newdata = X[eval_idx, :])\n",
        "\n",
        "# Convert the R list containing predictions to a numpy array\n",
        "train_predictions_np = np.array(train_predictions_r[0])\n",
        "\n",
        "# Compute AUTOC and plot TOC\n",
        "rate_r = r_rank_average_treatment_effect(eval_csf_r, train_predictions_np)\n",
        "\n",
        "# Plot the Treatment Outcome Curve (TOC)\n",
        "r_plot(rate_r)\n",
        "\n",
        "# Extract the estimate and standard error from the R object using rpy2 accessors\n",
        "# Based on grf documentation, rank_average_treatment_effect returns an object with\n",
        "# 'estimate' and 'std.err' elements.\n",
        "autoc_estimate = np.array(rate_r.rx2('estimate'))[0]\n",
        "autoc_std_err = np.array(rate_r.rx2('std.err'))[0]\n",
        "\n",
        "# Print AUTOC with 95% confidence interval\n",
        "print(f\"AUTOC: {autoc_estimate:.2f} +/- {1.96 * autoc_std_err:.2f}\")"
      ]
    },
    {
      "cell_type": "markdown",
      "metadata": {
        "id": "6Uc9PcoOgJjF"
      },
      "source": [
        "### Variable Importnace"
      ]
    },
    {
      "cell_type": "code",
      "execution_count": 12,
      "metadata": {
        "colab": {
          "base_uri": "https://localhost:8080/",
          "height": 657
        },
        "id": "y2LLqsOhgJqM",
        "outputId": "ba51b5b9-bb71-4ed9-d88c-6f73f2daf1e0"
      },
      "outputs": [
        {
          "data": {
            "image/png": "[encoded data removed]",
            "text/plain": [
              "<Figure size 600x650 with 1 Axes>"
            ]
          },
          "metadata": {},
          "output_type": "display_data"
        }
      ],
      "source": [
        "# Access the R variable_importance function\n",
        "r_variable_importance = ro.r['variable_importance']\n",
        "\n",
        "# Call the R variable_importance function with the trained CSF model\n",
        "var_importance_r = r_variable_importance(csf_model)\n",
        "\n",
        "# Convert the R vector of variable importance values to a numpy array and flatten it\n",
        "var_importance_np = np.array(var_importance_r).flatten()\n",
        "\n",
        "# Create a data frame for plotting\n",
        "importance_df = pd.DataFrame({\n",
        "  'Feature': covar_names,\n",
        "  'Importance': var_importance_np\n",
        "})\n",
        "\n",
        "# Sort the DataFrame by importance\n",
        "importance_df = importance_df.sort_values('Importance', ascending=True)\n",
        "\n",
        "# Create a horizontal bar plot using matplotlib\n",
        "plt.figure(figsize=(6, 6.5)) # Adjust figure size for readability\n",
        "plt.barh(importance_df['Feature'], importance_df['Importance'], color='steelblue')\n",
        "plt.xlabel(\"Importance\")\n",
        "plt.ylabel(\"Feature\")\n",
        "plt.title(\"Variable Importance in Causal Survival Forest\")\n",
        "plt.tight_layout() # Adjust layout to prevent labels overlapping\n",
        "plt.show()"
      ]
    },
    {
      "cell_type": "markdown",
      "metadata": {
        "id": "_j759RVMQMut"
      },
      "source": [
        "## Summary and Conclusion\n",
        "\n",
        "This notebook demonstrates using the R grf package's Causal Survival Forest (CSF) via Python (rpy2) on the lung dataset to analyze heterogeneous treatment effects on survival time. The data was prepared, split, and the CSF model was trained. The analysis showed an Average Treatment Effect (ATE) near zero but with a wide confidence interval, and the AUTOC indicated significant heterogeneity in treatment effects. Variable importance was also assessed. These results suggest that treatment effects vary considerably among individuals, warranting further investigation into subgroups and key influential factors."
      ]
    },
    {
      "cell_type": "markdown",
      "metadata": {
        "id": "SaZTnZx3QPGI"
      },
      "source": [
        "## References\n",
        "\n",
        "\n",
        "1.  Cui, Y., Kosorok, M. R., Sverdrup, E., Wager, S., & Zhu, R. (2023). Estimating Heterogeneous Treatment Effects with Right-Censored Data via Causal Survival Forests. *Journal of the Royal Statistical Society: Series B*, 85(2).\n",
        "\n",
        "2.  Sverdrup, E., & Wager, S. (2024). Treatment Heterogeneity with Right-Censored Outcomes Using grf. *ASA Lifetime Data Science Newsletter*.[(https://search.r-project.org/CRAN/refmans/grf/html/causal_survival_forest.html)}\n",
        "\n",
        "3.  [grf Causal Survival Forest documentation](https://grf-labs.github.io/grf/articles/causal_survival_forest.html)\n",
        "\n",
        "4.  [Original Causal Survival Forests paper](https://arxiv.org/abs/2006.09639)\n",
        "\n"
      ]
    }
  ],
  "metadata": {
    "colab": {
      "authorship_tag": "ABX9TyMgfdFn/ZmLsA109vwjyp0Q",
      "include_colab_link": true,
      "provenance": [],
      "toc_visible": true
    },
    "kernelspec": {
      "display_name": "Python 3",
      "name": "python3"
    },
    "language_info": {
      "name": "python"
    }
  },
  "nbformat": 4,
  "nbformat_minor": 0
}
