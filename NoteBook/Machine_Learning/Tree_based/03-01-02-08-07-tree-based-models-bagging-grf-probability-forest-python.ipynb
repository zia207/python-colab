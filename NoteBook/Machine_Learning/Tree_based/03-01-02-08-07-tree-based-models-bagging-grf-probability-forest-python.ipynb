{
  "cells": [
    {
      "cell_type": "markdown",
      "metadata": {
        "id": "view-in-github",
        "colab_type": "text"
      },
      "source": [
        "<a href=\"https://colab.research.google.com/github/zia207/python-colab/blob/main/NoteBook/Machine_Learning/Tree_based/03-01-02-08-07-tree-based-models-bagging-grf-probability-forest-python.ipynb\" target=\"_parent\"><img src=\"https://colab.research.google.com/assets/colab-badge.svg\" alt=\"Open In Colab\"/></a>"
      ]
    },
    {
      "cell_type": "markdown",
      "metadata": {
        "id": "zYZbTX0qQrZb"
      },
      "source": [
        "![alt text](http://drive.google.com/uc?export=view&id=1xLlN9eEG2IYFBlAuwl53aDVxcBkRnkEw)"
      ]
    },
    {
      "cell_type": "markdown",
      "metadata": {
        "id": "RGBfrL2GQoII"
      },
      "source": [
        "# 2.8.7 Probability Forest\n",
        "\n",
        "A **Probability Forest** is a machine learning model based on the random forest framework, designed to estimate **conditional probabilities** for categorical outcomes. It extends the standard random forest classifier by outputting the probability of each class for a given set of covariates, rather than just predicting the most likely class. It is implemented in packages like `{grf}` in R (as `probability_forest`) and is particularly useful for tasks requiring probabilistic predictions, such as risk estimation or classification with uncertainty quantification. Below, I’ll explain what it is, how it works, and its key features, keeping it concise and clear.\n"
      ]
    },
    {
      "cell_type": "markdown",
      "metadata": {
        "id": "S77MsgmqIYD0"
      },
      "source": [
        "## Overview\n",
        "\n",
        "Probability Forest Estimates the conditional probability $P(Y = k | X)$) for each class $k$ of a categorical outcome $Y$, given covariates $X$. For example, it can predict the probability of a patient having a disease (yes/no) based on features like age or symptoms.\n",
        "\n",
        "\n"
      ]
    },
    {
      "cell_type": "markdown",
      "source": [
        "### Key Features\n",
        "\n",
        "-   `Non-Parametric`: Captures complex, non-linear relationships between $X$ and $Y$.\n",
        "-   `Robustness`: Averaging over many trees reduces overfitting and improves generalization.\n",
        "-   `Heterogeneity`: Estimates probabilities that vary across individuals based on covariates.\n",
        "-   `Calibration`: In `{grf}`, probabilities are well-calibrated due to honest estimation and local smoothing.\n",
        "-   `Multi-Class Support`: Handles binary or multi-class outcomes seamlessly.\n"
      ],
      "metadata": {
        "id": "EnR-z3S9vTpk"
      }
    },
    {
      "cell_type": "markdown",
      "metadata": {
        "id": "VwEoykvwI2dS"
      },
      "source": [
        "### How It Work\n",
        "\n",
        "A Probability Forest builds on the random forest algorithm but focuses on estimating class probabilities. Here’s a step-by-step overview:\n",
        "\n",
        "1.  Data Setup\n",
        "\n",
        "   -   `Input`: Covariates $X$ (e.g., age, sex) and a categorical outcome $Y$ (e.g., 0/1 for binary, or multiple classes).\n",
        "   -   $Y$ is typically a factor or integer vector indicating class labels.\n",
        "\n",
        "2.  Tree Construction\n",
        "\n",
        "   -   Like a standard random forest, it grows multiple decision trees (e.g., 1000).\n",
        "   -   Each tree is trained on a random subset of data (bootstrap sampling) and features.\n",
        "   -   At each node, splits are chosen to maximize the separation of classes (e.g., using Gini impurity or entropy).\n",
        "\n",
        "3.  Probability Estimation:\n",
        "\n",
        "  -   For each tree, the leaf nodes contain the proportion of training observations for each class.\n",
        "  -   For a given input $X$ the tree assigns $X$ to a leaf, and the class proportions in that leaf are the estimated probabilities.\n",
        "   -   The forest averages the probability estimates across all trees to produce $P(Y = k | X)$ for each class $k$.\n",
        "\n",
        "4.  Output\n",
        "\n",
        "  -   A matrix of probabilities for each observation and class, e.g., $[P(Y=0|X), P(Y=1|X)]$ for binary outcomes.\n",
        "  -   Optionally, the predicted class (highest probability) can be derived.\n",
        "\n",
        "5.  Honest Estimation (in `{grf}`):\n",
        "\n",
        "   -   Uses`honest`splitting (separating data for tree structure and estimation) to reduce bias.\n",
        "   -   Employs local maximum likelihood estimation within leaves for smoother probability estimates."
      ]
    },
    {
      "cell_type": "markdown",
      "metadata": {
        "id": "bIBhNo81s-Nt"
      },
      "source": [
        "### Differences from Other Forests\n",
        "\n",
        "-   `Vs. Regression Forest`: Estimates continuous outcomes ($E[Y|X]$), not probabilities for categorical outcomes.\n",
        "-   `Vs. Causal Forest*` Focuses on treatment effect estimation ($E[Y(1) - Y(0)|X]$), not class probabilities.\n",
        "-   `Vs. Standard Random Forest Classifier`: Outputs probabilities rather than just class predictions, with enhanced calibration in `{grf}`.\n",
        "\n"
      ]
    },
    {
      "cell_type": "markdown",
      "source": [
        "### Limitations\n",
        "\n",
        "-   `Computational Cost`: Training many trees can be slow for large datasets.\n",
        "-   `Interpretability`: Probabilities are data-driven but less interpretable than parametric models like logistic regression.\n",
        "-   `Assumes Data Quality`: Requires sufficient data per class and no missing values in ( X )."
      ],
      "metadata": {
        "id": "NmMsBJhJvpJR"
      }
    },
    {
      "cell_type": "markdown",
      "source": [
        "### Use Cases\n",
        "\n",
        "-   `Scenario`: Predict the probability of patient survival (0 = no, 1 = yes) based on age, sex, and health metrics.\n",
        "-   `Data`: $X$ = \\[age, sex, health_score\\], $Y$ = survival status (0/1).\n",
        "-   `Output`: For a patient, the model might estimate $P(Y=1|X) = 0.75$, indicating a 75% chance of survival."
      ],
      "metadata": {
        "id": "-u2tkR3KvrbW"
      }
    },
    {
      "cell_type": "markdown",
      "metadata": {
        "id": "bh7jEhGCLDZA"
      },
      "source": [
        "## Probability Forest with Python\n",
        "\n",
        "This tutorial shows how to use `probability_forest()` function of {grf} package through Python to estimate  $P(\\text{health_status} = 1 | X)$, the probability of health improvement, for each patient in the lung dataset. We’ll cover data preparation, model fitting, prediction, and visualization of the estimated probabilities.\n",
        "\n"
      ]
    },
    {
      "cell_type": "code",
      "source": [
        "# Install required Python packages\n",
        "!pip install rpy2\n"
      ],
      "metadata": {
        "id": "L-1YVY7wtjaf"
      },
      "execution_count": null,
      "outputs": []
    },
    {
      "cell_type": "code",
      "source": [
        "import numpy as np\n",
        "import pandas as pd\n",
        "import rpy2.robjects as robjects\n",
        "from rpy2.robjects import pandas2ri\n",
        "from rpy2.robjects.packages import importr\n",
        "import matplotlib.pyplot as plt\n",
        "import seaborn as sns\n",
        "\n",
        "# Activate automatic conversion between pandas and R data frames\n",
        "pandas2ri.activate()\n",
        "\n",
        "# Load R packages\n",
        "base = importr('base')\n",
        "grf = importr('grf')\n",
        "survival = importr('survival')\n",
        "dplyr = importr('dplyr')\n",
        "parallel = importr('parallel')"
      ],
      "metadata": {
        "id": "-ciRpcGdte2H"
      },
      "execution_count": 70,
      "outputs": []
    },
    {
      "cell_type": "markdown",
      "metadata": {
        "id": "IPobetr0zFC5"
      },
      "source": [
        "### Load and Prepare the Lung Dataset\n",
        "\n",
        "The lung dataset contains survival data for lung cancer patients with variables like `time` (survival time), `status` (censoring indicator), `age`, s`ex`, and `ph.ecog` (ECOG performance score). We’ll simulate a binary `health_status `variable (1 = improved, 0 = not improved) and use age, sex, and ph.ecog as covariates.\n"
      ]
    },
    {
      "cell_type": "code",
      "execution_count": 71,
      "metadata": {
        "id": "RmfGVScmzF8P",
        "colab": {
          "base_uri": "https://localhost:8080/"
        },
        "outputId": "44666b17-31e5-47fb-fa4e-fb9eb8a1c0a2"
      },
      "outputs": [
        {
          "output_type": "stream",
          "name": "stderr",
          "text": [
            "WARNING:rpy2.rinterface_lib.callbacks:R[write to console]: In addition: \n",
            "WARNING:rpy2.rinterface_lib.callbacks:R[write to console]: Warning message:\n",
            "\n",
            "WARNING:rpy2.rinterface_lib.callbacks:R[write to console]: In data(lung) :\n",
            "WARNING:rpy2.rinterface_lib.callbacks:R[write to console]:  data set ‘lung’ not found\n",
            "\n"
          ]
        },
        {
          "output_type": "stream",
          "name": "stdout",
          "text": [
            "Column names in lung dataset: [np.str_('inst'), np.str_('time'), np.str_('status'), np.str_('age'), np.str_('sex'), np.str_('ph.ecog'), np.str_('ph.karno'), np.str_('pat.karno'), np.str_('meal.cal'), np.str_('wt.loss')]\n",
            "Column names in lung_data after filtering: [np.str_('inst'), np.str_('time'), np.str_('status'), np.str_('age'), np.str_('sex'), np.str_('ph.ecog'), np.str_('ph.karno'), np.str_('pat.karno'), np.str_('meal.cal'), np.str_('wt.loss')]\n",
            "Shape of lung_data: (227, 10)\n",
            "Outcome levels: Index(['0', '1'], dtype='object')\n",
            "Y structure: category (227,)\n",
            "X structure: float64 (227, 3)\n"
          ]
        }
      ],
      "source": [
        "# Set seed for reproducibility\n",
        "base.set_seed(123)\n",
        "\n",
        "# Load the lung dataset explicitly from survival package\n",
        "robjects.r('library(survival)')  # Ensure survival package is loaded\n",
        "robjects.r('data(lung)')  # Load lung dataset\n",
        "lung = pandas2ri.rpy2py(robjects.r['lung'])  # Convert to pandas DataFrame\n",
        "\n",
        "# Debug: Print column names to verify\n",
        "print(\"Column names in lung dataset:\", lung.columns.tolist())\n",
        "\n",
        "# Filter out missing values and create health_status\n",
        "lung_data = lung.dropna(subset=['age', 'sex', 'ph.ecog']).copy()  # Use .copy() to avoid SettingWithCopyWarning\n",
        "print(\"Column names in lung_data after filtering:\", lung_data.columns.tolist())\n",
        "print(\"Shape of lung_data:\", lung_data.shape)\n",
        "\n",
        "# Simulate health_status: prob = 0.3 + 0.1 * (ph.ecog < 2) + 0.05 * (sex == 1)\n",
        "lung_data['health_status'] = np.random.binomial(\n",
        "    1,\n",
        "    p=0.3 + 0.1 * (lung_data['ph.ecog'] < 2) + 0.05 * (lung_data['sex'] == 1)\n",
        ")\n",
        "# Convert to categorical with string categories for R compatibility\n",
        "lung_data['health_status'] = pd.Categorical(lung_data['health_status'].astype(str), categories=['0', '1'])\n",
        "\n",
        "# Define covariates (X) and outcome (Y)\n",
        "X = lung_data[['age', 'sex', 'ph.ecog']].values\n",
        "Y = lung_data['health_status']\n",
        "\n",
        "# Verify inputs\n",
        "print(\"Outcome levels:\", Y.cat.categories)\n",
        "print(\"Y structure:\", Y.dtype, Y.shape)\n",
        "print(\"X structure:\", X.dtype, X.shape)"
      ]
    },
    {
      "cell_type": "markdown",
      "metadata": {
        "id": "jxK5d0frBs8O"
      },
      "source": [
        "### Fit Probability Forest Model\n",
        "\n",
        "We use `probability_forest()` from the `{grf}` package to fit a Probability Forest model. We specify parameters like the number of trees, honesty, minimum node size, and number of threads for parallel processing."
      ]
    },
    {
      "cell_type": "code",
      "execution_count": 73,
      "metadata": {
        "id": "Ou9edbC9Bt5M",
        "colab": {
          "base_uri": "https://localhost:8080/"
        },
        "outputId": "7e90a846-0b7d-4805-9a83-0f09b2af53c9"
      },
      "outputs": [
        {
          "output_type": "stream",
          "name": "stdout",
          "text": [
            "Probability Forest model: GRF forest object of type probability_forest \n",
            "Number of trees: 1000 \n",
            "Number of training samples: 227 \n",
            "Variable importance: \n",
            "    1     2     3 \n",
            "0.623 0.160 0.217 \n",
            "\n"
          ]
        }
      ],
      "source": [
        "# Fit Probability Forest model\n",
        "pf = grf.probability_forest(\n",
        "    X=X,\n",
        "    Y=Y,\n",
        "    num_trees=1000,\n",
        "    honesty=True,\n",
        "    min_node_size=5,\n",
        "    num_threads=int(parallel.detectCores()[0]) - 1  # Convert IntVector to Python int\n",
        ")\n",
        "print(\"Probability Forest model:\", pf)"
      ]
    },
    {
      "cell_type": "markdown",
      "metadata": {
        "id": "7KgHx7kY9EEg"
      },
      "source": [
        "### Predict Probabilities and Variance Estimates"
      ]
    },
    {
      "cell_type": "code",
      "execution_count": 74,
      "metadata": {
        "colab": {
          "base_uri": "https://localhost:8080/"
        },
        "id": "m0vovr-CfwBZ",
        "outputId": "0c1e9826-d32f-4985-eae8-7ef0eec32a17"
      },
      "outputs": [
        {
          "output_type": "stream",
          "name": "stdout",
          "text": [
            "Structure of probs (via R):\n",
            "List of 2\n",
            " $ predictions       : num [1:227, 1:2] 0.491 0.666 0.62 0.638 0.647 ...\n",
            "  ..- attr(*, \"dimnames\")=List of 2\n",
            "  .. ..$ : NULL\n",
            "  .. ..$ : chr [1:2] \"0\" \"1\"\n",
            " $ variance.estimates: num [1:227, 1:2] 0.00647 0.0033 0.00206 0.00862 0.00626 ...\n",
            "  ..- attr(*, \"dimnames\")=List of 2\n",
            "  .. ..$ : NULL\n",
            "  .. ..$ : chr [1:2] \"0\" \"1\"\n",
            "Column names of probs$predictions (via R):\n",
            "<rpy2.rinterface_lib.sexp.NULLType object at 0x7f84af952550> [0]\n",
            "Warning: Column names not available from R prediction object, assuming numerical order.\n"
          ]
        }
      ],
      "source": [
        "# Predict probabilities with variance estimates\n",
        "probs = grf.predict_probability_forest(pf, estimate_variance=True)\n",
        "\n",
        "# Debug: Inspect prediction structure in R\n",
        "robjects.r.assign('probs', probs)  # Assign probs to R environment\n",
        "print(\"Structure of probs (via R):\")\n",
        "robjects.r('str(probs)')  # Print structure in R\n",
        "print(\"Column names of probs$predictions (via R):\")\n",
        "predictions_r = probs.rx2('predictions')\n",
        "predictions_colnames_r = robjects.r.colnames(predictions_r)\n",
        "print(predictions_colnames_r)\n",
        "\n",
        "# Check if variance estimates are available\n",
        "variance_estimates = probs.rx2('variance.estimates')\n",
        "if variance_estimates is rinterface.NULL:\n",
        "    print(\"Warning: Variance estimates are NULL. Proceeding without variance.\")\n",
        "    variance = np.full(len(X), np.nan)  # Use NaN for variance if unavailable\n",
        "else:\n",
        "    variance = np.asarray(variance_estimates)[:, 1]  # Variance for class 1\n",
        "\n",
        "# Get column names for predictions\n",
        "predictions_colnames = []\n",
        "if not isinstance(predictions_colnames_r, rinterface.NULLType):\n",
        "    predictions_colnames = list(predictions_colnames_r)\n",
        "else:\n",
        "    predictions_colnames = [str(i) for i in range(np.asarray(predictions_r).shape[1])]\n",
        "    print(\"Warning: Column names not available from R prediction object, assuming numerical order.\")\n",
        "\n",
        "# Find the index for class '1'\n",
        "prob_health_improved_col_index = None\n",
        "try:\n",
        "    prob_health_improved_col_index = predictions_colnames.index(\"1\")\n",
        "except ValueError:\n",
        "    print(\"Warning: '1' not found in prediction column names. Using default index 1 for class 1.\")\n",
        "    prob_health_improved_col_index = 1  # Assume class 1 is the second column"
      ]
    },
    {
      "cell_type": "markdown",
      "metadata": {
        "id": "6Uc9PcoOgJjF"
      },
      "source": [
        "### Extract Predictions"
      ]
    },
    {
      "cell_type": "code",
      "execution_count": 75,
      "metadata": {
        "id": "6SoYugD6CEgf",
        "colab": {
          "base_uri": "https://localhost:8080/"
        },
        "outputId": "5b17729d-e040-4af2-ee3f-6fb97860962e"
      },
      "outputs": [
        {
          "output_type": "stream",
          "name": "stdout",
          "text": [
            "\n",
            "Summary Results:\n",
            "avg_prob_health_improved    0.428215\n",
            "avg_variance                0.008426\n",
            "dtype: float64\n",
            "\n",
            "First 5 rows of the results DataFrame:\n",
            "   patient_id   age  prob_health_improved  variance\n",
            "0           1  74.0              0.509284  0.006472\n",
            "1           2  68.0              0.333586  0.003302\n",
            "2           3  56.0              0.379551  0.002061\n",
            "3           4  57.0              0.361801  0.008622\n",
            "4           5  60.0              0.353457  0.006265\n"
          ]
        }
      ],
      "source": [
        "# Extract predictions into a DataFrame\n",
        "results = pd.DataFrame({\n",
        "    'patient_id': np.arange(1, len(X) + 1),  # Match R's 1:nrow(X)\n",
        "    'age': lung_data['age'].values,  # Explicitly use 'age' column\n",
        "    'prob_health_improved': np.asarray(predictions_r)[:, prob_health_improved_col_index] if prob_health_improved_col_index is not None else np.full(len(X), np.nan),\n",
        "    'variance': variance  # Use variance or NaN\n",
        "})\n",
        "\n",
        "# Summarize average probability and variance\n",
        "summary_results = results.agg({\n",
        "    'prob_health_improved': 'mean',\n",
        "    'variance': 'mean'\n",
        "}).rename({\n",
        "    'prob_health_improved': 'avg_prob_health_improved',\n",
        "    'variance': 'avg_variance'\n",
        "})\n",
        "print(\"\\nSummary Results:\")\n",
        "print(summary_results)\n",
        "\n",
        "# Display first few rows of results DataFrame\n",
        "print(\"\\nFirst 5 rows of the results DataFrame:\")\n",
        "print(results.head())"
      ]
    },
    {
      "cell_type": "markdown",
      "source": [
        "### Visualize Probability of Health Improvement by Age"
      ],
      "metadata": {
        "id": "tMGzwdza71Qu"
      }
    },
    {
      "cell_type": "code",
      "source": [
        "# Visualize Probability of Health Improvement by Age\n",
        "plt.figure(figsize=(5.5, 5))\n",
        "sns.scatterplot(data=results, x='age', y='prob_health_improved', color='blue', alpha=0.5)\n",
        "sns.regplot(data=results, x='age', y='prob_health_improved', lowess=True, scatter=False, color='red')\n",
        "plt.title('Probability of Health Improvement by Age')\n",
        "plt.xlabel('Age')\n",
        "plt.ylabel('P(Health Status = 1 | X)')\n",
        "sns.set_style('white')  # Approximate theme_minimal()\n",
        "plt.show()"
      ],
      "metadata": {
        "colab": {
          "base_uri": "https://localhost:8080/",
          "height": 487
        },
        "id": "gb2EtLC472c3",
        "outputId": "c3a9c322-8e91-4a28-e13c-e613e3f96027"
      },
      "execution_count": 77,
      "outputs": [
        {
          "output_type": "display_data",
          "data": {
            "text/plain": [
              "<Figure size 550x500 with 1 Axes>"
            ],
            "image/png": "[encoded data removed]"
          },
          "metadata": {}
        }
      ]
    },
    {
      "cell_type": "markdown",
      "metadata": {
        "id": "_j759RVMQMut"
      },
      "source": [
        "## Summary and Conclusion\n",
        "\n",
        "\n",
        "  "
      ]
    },
    {
      "cell_type": "markdown",
      "metadata": {
        "id": "SaZTnZx3QPGI"
      },
      "source": [
        "\n",
        "## References\n",
        "\n",
        "1. [Probabilty Forest](https://grf-labs.github.io/grf/reference/probability_forest.html)"
      ]
    }
  ],
  "metadata": {
    "colab": {
      "provenance": [],
      "toc_visible": true,
      "authorship_tag": "ABX9TyP5OlqlBZUb+WZDO60rsyM2",
      "include_colab_link": true
    },
    "kernelspec": {
      "display_name": "Python 3",
      "name": "python3"
    },
    "language_info": {
      "name": "python"
    }
  },
  "nbformat": 4,
  "nbformat_minor": 0
}