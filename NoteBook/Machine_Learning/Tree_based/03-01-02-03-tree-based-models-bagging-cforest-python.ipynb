{
  "cells": [
    {
      "cell_type": "markdown",
      "metadata": {
        "colab_type": "text",
        "id": "view-in-github"
      },
      "source": [
        "<a href=\"https://colab.research.google.com/github/zia207/python-colab/blob/main/NoteBook/Machine_Learning/Tree_based/03-01-02-03-tree-based-models-bagging-cforest-python.ipynb\" target=\"_parent\"><img src=\"https://colab.research.google.com/assets/colab-badge.svg\" alt=\"Open In Colab\"/></a>"
      ]
    },
    {
      "cell_type": "markdown",
      "metadata": {
        "id": "zYZbTX0qQrZb"
      },
      "source": [
        "![alt text](http://drive.google.com/uc?export=view&id=1IFEWet-Aw4DhkkVe1xv_2YYqlvRe9m5_)"
      ]
    },
    {
      "cell_type": "markdown",
      "metadata": {
        "id": "RGBfrL2GQoII"
      },
      "source": [
        "# 2.3 Conditional Random Forest (cforest)\n",
        "\n",
        "Conditional Random Forest (cforest) builds on ensemble learning method that constructs multiple decision trees but uses **conditional inference trees** (implemented via the `ctree` algorithm) instead of standard CART (Classification and Regression Trees). These trees are based on a statistical framework that tests the independence between predictors and the response variable to guide splitting decisions. This notebook will cover the theoretical background, implementation details, and practical applications of cforest in R."
      ]
    },
    {
      "cell_type": "markdown",
      "metadata": {
        "id": "7ZqlGV65Qme0"
      },
      "source": [
        "## Overview\n",
        "\n",
        "A **Conditional Random Forest (cforest)** is an extension of the Random Forest algorithm that uses **conditional inference trees** as its base learners instead of standard decision trees. It was introduced to address some limitations of traditional Random Forests, particularly in handling variable selection bias and providing more robust statistical inference. The `cforest` algorithm is implemented in the R package `party` and is designed to work within a conditional inference framework, which ensures unbiased variable selection and better handling of complex data structures.\n",
        "\n",
        "Key Features of cforest:\n",
        "\n",
        "-   `Unbiased Variable Selection`: Unlike traditional Random Forests, which may favor variables with more categories or continuous variables, cforest uses conditional inference to select variables without bias.\n",
        "\n",
        "-   `Statistical Rigor`: It incorporates permutation-based significance tests to decide splits, making it more robust for datasets with complex relationships or correlated predictors.\n",
        "\n",
        "-`Flexibility`: cforest can handle various types of response variables (e.g., continuous, categorical, survival data) and is less sensitive to overfitting in certain scenarios.\n"
      ]
    },
    {
      "cell_type": "markdown",
      "metadata": {
        "id": "8TpOehy1B7gE"
      },
      "source": [
        "### How Does Conditional Random Forest (cforest) Work?\n",
        "\n",
        "The **Conditional Random Forest (cforest)** algorithm combines the ensemble approach of Random Forests with the **conditional inference framework** to reduce bias in variable selection and handle mixed data types effectively. Below is a detailed explanation, incorporating mathematical formulations where relevant:\n",
        "\n",
        "1. Input Data\n",
        "\n",
        "-   `Dataset`: Let $D = \\{(\\mathbf{x}_i, y_i)\\}_{i=1}^n$ be the dataset, where:\n",
        "\n",
        "  -   $\\mathbf{x}_i = (x_{i1}, x_{i2}, \\dots, x_{ip})$ is a vector of $p$ predictor variables (numeric or categorical).\n",
        "\n",
        "  -   $y_i$ is the response variable (continuous for regression, categorical for classification).\n",
        "\n",
        "-   The goal is to predict $y$ given $\\mathbf{x}$ using an ensemble of conditional inference trees.\n",
        "\n",
        "2. Bootstrapping or Subsampling\n",
        "\n",
        "-   `Bagging`: For each tree $t = 1, 2, \\dots, T$, a bootstrap sample $D_t$ is drawn from $D$ with replacement, typically of size $n$. The probability that a specific observation $(\\mathbf{x}_i, y_i)$ is included in $D_t$ is approximately $1 - (1 - 1/n)^n \\approx 1 - e^{-1} \\approx 0.632$.\n",
        "\n",
        "-   `Subsampling`: Alternatively, a random subset of size $m< n$ is drawn without replacement. This reduces correlation between trees compared to bagging.\n",
        "\n",
        "-   `Out-of-Bag (OOB) Sample`: Observations not included in $D_t$ form the OOB sample, used for estimating generalization error.\n",
        "\n",
        "3.  Building Conditional Inference Trees\n",
        "\n",
        "Each tree in cforest is a **conditional inference tree** (`ctree`), constructed using a statistical framework to ensure unbiased variable selection. The process involves:\n",
        "\n",
        "3.1  `Variable Selection via Conditional Inference`:\n",
        "\n",
        "  -   At each node, cforest tests the null hypothesis $H_0: Y \\perp X_j \\mid \\mathbf{X}_{-j}$ for each predictor $X_j$, where $\\mathbf{X}_{-j}$ denotes all other predictors.\n",
        "\n",
        "    -   The test is based on a `permutation test`:\n",
        "\n",
        "        -   Compute a test statistic (e.g., for regression, a correlation-based statistic; for classification, a chi-squared or Gini-based statistic).\n",
        "\n",
        "        -   Permute the values of $X_j$ while keeping $Y$ and $\\mathbf{X}_{-j}$ fixed to generate a null distribution.\n",
        "\n",
        "        -   Calculate the p-value as the proportion of permuted test statistics exceeding the observed statistic:\n",
        "\n",
        "$$  p_j = P(T(\\mathbf{X}_j^{\\text{perm}}, Y) \\geq T(\\mathbf{X}_j, Y) \\mid \\mathbf{X}_{-j}) $$\n",
        "\n",
        "        \n",
        " - Select the predictor $X_j$ with the smallest p-value, provided $p_j < \\alpha$ (e.g., $\\alpha = 0.05$).\n",
        "\n",
        "  - This ensures unbiased variable selection, unlike standard Random Forest, which may favor variables with more split points (e.g., continuous variables).\n",
        "\n",
        "\n",
        "3.2 `Split Point Selection`:\n",
        "\n",
        "  -   For the selected predictor $X_j$:\n",
        "\n",
        "        -   If $X_j$ is continuous, evaluate split points $\\in {x_{ij} \\mid i \\in \\text{node}}$.\n",
        "\n",
        "        -   If $X_j$ is categorical with levels ${c_1, c_2, \\dots, c_k}$, consider all possible binary splits (e.g., ${c_1, c_2}$ vs. ${c_3, \\dots, c_k}$).\n",
        "\n",
        "    -   Choose the split that maximizes a test statistic, such as the standardized linear statistic:\n",
        "\n",
        "$$  T_j(s) = \\sum_{i \\in \\text{node}} w_i (y_i - \\bar{y}) (x_{ij} - \\bar{x}_j) \\cdot I(x_{ij} \\leq s) $$\n",
        "\n",
        "        \n",
        " where $w_i $ are weights (typically 1), and $I$ is the indicator function.\n",
        "\n",
        "\n",
        "-   The split maximizes the separation of $Y$ values in the child nodes.\n",
        "\n",
        "3.3  `Recursive Partitioning*`\n",
        "\n",
        "   -   Split the node into two child nodes based on the selected variable and split point.\n",
        "\n",
        "   -   Recursively apply the above steps to each child node until a stopping criterion is met.\n",
        "\n",
        "3.4  `topping Criteria`:\n",
        "\n",
        "  -   Stop splitting if:\n",
        "\n",
        "       -   No predictor has a p-value $< \\alpha$ (no significant association).\n",
        "\n",
        "        -   The node size is below a threshold (e.g., $n_{\\text{min}} = 10$).\n",
        "\n",
        "        -   A maximum tree depth is reached.\n",
        "\n",
        "    -   The terminal node assigns a prediction (e.g., mean $y$ for regression, majority class for classification).\n",
        "\n",
        "4. Ensemble Prediction\n",
        "\n",
        "-   `Regression`:\n",
        "\n",
        "   -   For a new observation $\\mathbf{x}$, each tree \\$t \\$ predicts $\\hat{y}_t(\\mathbf{x})$.\n",
        "\n",
        "   -   The final prediction is the average across all trees:\n",
        "\n",
        "$$ \\hat{y}(\\mathbf{x}) = \\frac{1}{T} \\sum_{t=1}^T \\hat{y}_t(\\mathbf{x}) $$\n",
        "\n",
        "-   `Classification`:\n",
        "\n",
        "  -   Each tree votes for a class $\\hat{y}_t(\\mathbf{x})$.\n",
        "  -   The final prediction is the majority class or averaged class probabilities:\n",
        "\n",
        "$$  \\hat{y}(\\mathbf{x}) = \\arg\\max_c \\left( \\frac{1}{T} \\sum_{t=1}^T I(\\hat{y}_t(\\mathbf{x}) = c) \\right) $$\n",
        "\n",
        "-   `OOB Error`:\n",
        "\n",
        "   -   For each observation $(\\mathbf{x}_i, y_i)$, use only trees where $(\\mathbf{x}_i, y_i) \\notin D_t$.\n",
        "\n",
        "  -   Compute OOB predictions and estimate error (e.g., RMSE for regression, misclassification rate for classification).\n",
        "\n",
        "5. Variable Importance\n",
        "\n",
        "-   `Permutation Importance`:\n",
        "\n",
        "  -   For predictor $X_j$, permute its values in the OOB sample for tree $t$.\n",
        "  \n",
        "  -   Compute the increase in OOB error (e.g., MSE for regression):\n",
        "\n",
        "$$  \\text{Importance}(X_j) = \\frac{1}{T} \\sum_{t=1}^T \\left( \\text{MSE}_{\\text{perm},t} - \\text{MSE}_{\\text{orig},t} \\right) $$\n",
        "\n",
        "-   Higher values indicate greater importance.\n"
      ]
    },
    {
      "cell_type": "markdown",
      "metadata": {
        "id": "MfeqJ2MyFVfU"
      },
      "source": [
        "Below is a flowchart illustrating the process of building a Conditional Random Forest (cforest):\n",
        "\n",
        "![alt text](http://drive.google.com/uc?export=view&id=1nRfrCMuys21NkrUx43xOsJ_mkTSQDNyr)\n"
      ]
    },
    {
      "cell_type": "markdown",
      "metadata": {
        "id": "5kbEVEgICPd5"
      },
      "source": [
        "### Comparison with Standard Random Forest\n",
        "\n",
        "| **Aspect** | **Random Forest (CART)** | **Conditional Random Forest (cforest)** |\n",
        "|------------------|---------------------------|---------------------------|\n",
        "| **Base Learner** | CART (decision trees) | Conditional inference trees (`ctree`) |\n",
        "| **Variable Selection** | Based on impurity (Gini, MSE) | Based on conditional inference (p-values) |\n",
        "| **Bias in Splitting** | Biased toward variables with more categories | Unbiased, uses permutation tests |\n",
        "| **Computational Speed** | Faster | Slower due to statistical tests |\n",
        "| **Implementation** | Widely available (e.g., scikit-learn, R) | Primarily in R’s `partykit` package |\n",
        "| **Interpretability** | Less statistically rigorous | More rigorous (p-value-based splits) |"
      ]
    },
    {
      "cell_type": "markdown",
      "metadata": {
        "id": "xLU0BT_LCVBr"
      },
      "source": [
        "## Conditional Random Forest (cforest) in Python\n",
        "\n",
        "In Python, the equivalent of Conditional Random Forests (cforest)—which is a concept from the {partykit} package in R—can be approximated using the {sklearn} or {rpy2} libraries, though there is no direct implementation of cforest in native Python libraries.\n",
        "\n",
        "The below ode provides a foundational implementation of `cforest` in Python, demonstrating the core concepts of conditional inference trees and ensemble learning as applied in the R {partykit} package.\n"
      ]
    },
    {
      "cell_type": "markdown",
      "metadata": {
        "id": "h-nSrtPMOMZr"
      },
      "source": [
        "### Coustom `cforest()` function"
      ]
    },
    {
      "cell_type": "markdown",
      "metadata": {
        "id": "_W-exb0KKCFd"
      },
      "source": [
        "This code cell contains the implementation of a custom conditional random forest algorithm (`cforest`) and its supporting functions in Python.\n",
        "\n",
        "Here's a breakdown of the key parts:\n",
        "\n",
        "1.  **`Node and TreeData structures`**: These define the basic building blocks for the decision trees. `Node` represents a node in the tree with information about the split, children, and prediction. `TreeData` stores the model frame, variable information, and terms used in the model.\n",
        "\n",
        "2.  **`aggregate_predictions`**: This function takes an array of predictions (from multiple trees) and aggregates them. For classification, it uses a majority vote, and for regression, it uses the mean.\n",
        "\n",
        "3.  **`permutation_test`**: This function performs a permutation test to assess the independence between a predictor variable and the response variable. This is used in the tree splitting process to find the most significant split. It handles both classification (using chi-squared) and regression (using correlation).\n",
        "\n",
        "4.  **`find_best_split`**: This function iterates through the available predictor variables and their unique values to find the best split point based on the permutation test p-value. It aims to find the split that results in the most significant separation of the response variable.\n",
        "\n",
        "5.  **`build_tree`**: This is the core function for building a single conditional inference tree. It recursively splits the data based on the best split found by `find_best_split` until a stopping criterion is met (e.g., maximum depth, minimum samples in a node, or no significant split).\n",
        "\n",
        "6.  **`ctree`**: This function serves as a wrapper to set up the data and call `build_tree` to create a single conditional inference tree. It handles formula parsing, data preparation, and determines the task type (classification or regression).\n",
        "\n",
        "7.  **`constparties`, `nodeids`, `fitted_node`, `nodeprune`, `predict_tree`, `predict_forest`**: These are helper functions for managing the forest structure, extracting node information, making predictions from a single tree or the entire forest, and pruning nodes (though pruning is not actively used in the main `cforest` function as implemented here).\n",
        "\n",
        "8.  **`compute_feature_importance` and `plot_feature_importance`**: These functions calculate and visualize the permutation-based feature importance for the trained random forest model.\n",
        "\n",
        "9.  **`cforest`**: This is the main function that trains the conditional random forest. It takes the formula, data, number of trees (`ntree`), perturbation settings (`perturb`), number of variables to randomly sample at each split (`mtry`), and other control parameters. It builds multiple conditional inference trees in parallel and combines them into a forest model.\n",
        "\n",
        "In essence, the code implements a conditional random forest, which is a type of ensemble learning method that builds multiple decision trees based on statistical tests to determine optimal splits, providing a potentially more robust and interpretable model compared to traditional random forests."
      ]
    },
    {
      "cell_type": "code",
      "execution_count": 1,
      "metadata": {
        "id": "Y60dxHPUVNZb"
      },
      "outputs": [],
      "source": [
        "# Load necessary Python libraries\n",
        "\n",
        "import pandas as pd\n",
        "import numpy as np\n",
        "from sklearn.preprocessing import StandardScaler, LabelEncoder\n",
        "from sklearn.model_selection import train_test_split\n",
        "from sklearn.metrics import accuracy_score, confusion_matrix, classification_report, mean_squared_error, r2_score\n",
        "import progressbar\n",
        "from collections import namedtuple\n",
        "from scipy import stats\n",
        "from joblib import Parallel, delayed\n",
        "import matplotlib.pyplot as plt\n",
        "from typing import Optional, List, Dict, Any, Union, Callable, Tuple\n",
        "from pandas.api.types import CategoricalDtype\n",
        "\n",
        "\n",
        "# Define Node structure\n",
        "Node = namedtuple('Node', ['id', 'split_var', 'split_value', 'left', 'right', 'terminal', 'prediction'])\n",
        "\n",
        "class TreeData:\n",
        "    def __init__(self, model_frame: pd.DataFrame, variables: Dict, terms: Dict):\n",
        "        self.model_frame = model_frame\n",
        "        self.variables = variables\n",
        "        self.terms = terms\n",
        "        self.data = model_frame\n",
        "\n",
        "def aggregate_predictions(arr: np.ndarray, task_type: str, default: Any = None) -> Any:\n",
        "    arr = np.array([x for x in arr if x is not None], dtype=object if task_type == \"classification\" else float)\n",
        "    if arr.size == 0:\n",
        "        return default\n",
        "    if task_type == \"classification\":\n",
        "        unique, counts = np.unique(arr, return_counts=True)\n",
        "        return unique[np.argmax(counts)]\n",
        "    else:\n",
        "        return np.mean(arr)\n",
        "\n",
        "def permutation_test(x: np.ndarray, y: np.ndarray, task_type: str, n_perm: int = 50) -> Tuple[float, float]:\n",
        "    x = x.astype(float)\n",
        "    if task_type == \"classification\":\n",
        "        y = y.astype(str)\n",
        "        unique_x, x_idx = np.unique(x, return_inverse=True)\n",
        "        unique_y, y_idx = np.unique(y, return_inverse=True)\n",
        "        if len(unique_x) <= 1 or len(unique_y) <= 1:\n",
        "            return 0.0, 1.0\n",
        "        contingency = np.histogram2d(x_idx, y_idx, bins=(len(unique_x), len(unique_y)))[0]\n",
        "        try:\n",
        "            obs_stat, _, _, _ = stats.chi2_contingency(contingency, correction=False)\n",
        "        except ValueError:\n",
        "            return 0.0, 1.0\n",
        "        perm_stats = np.zeros(n_perm)\n",
        "        for i in range(n_perm):\n",
        "            perm_y_idx = np.random.permutation(y_idx)\n",
        "            perm_contingency = np.histogram2d(x_idx, perm_y_idx, bins=(len(unique_x), len(unique_y)))[0]\n",
        "            perm_stats[i], _, _, _ = stats.chi2_contingency(perm_contingency, correction=False)\n",
        "        p_value = np.mean(perm_stats >= obs_stat)\n",
        "    else:\n",
        "        y = y.astype(float)\n",
        "        if len(np.unique(x)) <= 1 or len(np.unique(y)) <= 1:\n",
        "            return 0.0, 1.0\n",
        "        try:\n",
        "            obs_stat = np.abs(np.corrcoef(x, y)[0, 1])\n",
        "        except Exception:\n",
        "            return 0.0, 1.0\n",
        "        perm_stats = np.zeros(n_perm)\n",
        "        for i in range(n_perm):\n",
        "            perm_y = np.random.permutation(y)\n",
        "            perm_stats[i] = np.abs(np.corrcoef(x, perm_y)[0, 1])\n",
        "        p_value = np.mean(perm_stats >= obs_stat)\n",
        "    return obs_stat, p_value\n",
        "\n",
        "def find_best_split(X: np.ndarray, y: np.ndarray, indices: np.ndarray, task_type: str, n_jobs: int = -1, n_perm: int = 50) -> Tuple[Optional[int], Optional[float], float]:\n",
        "    best_p = 1.0\n",
        "    best_var = None\n",
        "    best_value = None\n",
        "    unique_values = []\n",
        "    for i in range(X.shape[1]):\n",
        "        vals = np.unique(X[indices, i])\n",
        "        unique_values.append(vals if len(vals) > 0 else np.array([]))\n",
        "\n",
        "    def test_variable(var_idx):\n",
        "        x_var = X[indices, var_idx]\n",
        "        stat, p_value = permutation_test(x_var, y[indices], task_type, n_perm=n_perm)\n",
        "        return var_idx, p_value, unique_values[var_idx]\n",
        "\n",
        "    results = Parallel(n_jobs=n_jobs)(delayed(test_variable)(i) for i in range(X.shape[1]))\n",
        "\n",
        "    for var_idx, p_value, values in results:\n",
        "        if len(values) == 0:\n",
        "            continue\n",
        "        if p_value < best_p and p_value < 0.99:\n",
        "            best_p = p_value\n",
        "            best_var = var_idx\n",
        "            for value in values:\n",
        "                left_idx = indices[X[indices, var_idx] <= value]\n",
        "                right_idx = indices[X[indices, var_idx] > value]\n",
        "                if len(left_idx) > 0 and len(right_idx) > 0:\n",
        "                    best_value = value\n",
        "                    break\n",
        "\n",
        "    return best_var, best_value, best_p\n",
        "\n",
        "def build_tree(X: np.ndarray, y: np.ndarray, indices: np.ndarray, task_type: str, control: Dict, node_id: int = 1, depth: int = 0, default_prediction: Any = None) -> Node:\n",
        "    if depth >= control.get(\"max_depth\", 10) or len(np.unique(y[indices])) == 1 or len(indices) < 2:\n",
        "        prediction = aggregate_predictions(y[indices], task_type, default=default_prediction)\n",
        "        return Node(node_id, None, None, None, None, True, prediction)\n",
        "\n",
        "    best_var, best_value, best_p = find_best_split(X, y, indices, task_type, n_jobs=control.get(\"cores\", -1), n_perm=control.get(\"n_perm\", 50))\n",
        "\n",
        "    if best_var is None or best_p >= 0.99:\n",
        "        prediction = aggregate_predictions(y[indices], task_type, default=default_prediction)\n",
        "        return Node(node_id, None, None, None, None, True, prediction)\n",
        "\n",
        "    x_var = X[indices, best_var]\n",
        "    left_idx = indices[x_var <= best_value]\n",
        "    right_idx = indices[x_var > best_value]\n",
        "\n",
        "    left_node = build_tree(X, y, left_idx, task_type, control, node_id * 2, depth + 1, default_prediction)\n",
        "    right_node = build_tree(X, y, right_idx, task_type, control, node_id * 2 + 1, depth + 1, default_prediction)\n",
        "    return Node(node_id, best_var, best_value, left_node, right_node, False, None)\n",
        "\n",
        "def ctree(formula: str, data: pd.DataFrame, control: Dict[str, Any] = None, doFit: bool = True) -> Dict:\n",
        "    if control is None:\n",
        "        control = {\"teststat\": \"quad\", \"testtype\": \"Univ\", \"mincriterion\": 0.01, \"saveinfo\": False, \"max_depth\": 10, \"n_perm\": 50}\n",
        "\n",
        "    response, predictors = formula.split('~')\n",
        "    response = response.strip()\n",
        "    predictors = [p.strip() for p in predictors.split('+')]\n",
        "\n",
        "    df = data.dropna()\n",
        "    y = df[response].values\n",
        "    X = df[predictors].values.astype(float)\n",
        "    task_type = \"classification\" if isinstance(df[response].dtype, CategoricalDtype) or pd.api.types.is_object_dtype(df[response]) else \"regression\"\n",
        "    print(f\"Detected task: {task_type}\")\n",
        "    if task_type == \"regression\":\n",
        "        y = y.astype(float)\n",
        "\n",
        "    variables = {'y': response, 'z': np.ones(len(predictors), dtype=int)}\n",
        "    terms = {'all': formula}\n",
        "\n",
        "    def update(X: np.ndarray, y: np.ndarray, indices: np.ndarray, control: Dict, doFit: bool = True) -> Dict:\n",
        "        if not doFit:\n",
        "            return {'nodes': None, 'trafo': lambda x: x}\n",
        "        default_prediction = aggregate_predictions(y, task_type, default=df[response].cat.categories[0] if task_type == \"classification\" else np.mean(y))\n",
        "        tree = build_tree(X, y, np.arange(len(y)), task_type, control, default_prediction=default_prediction)\n",
        "        return {'nodes': tree, 'trafo': lambda x: x}\n",
        "\n",
        "    model_frame = df\n",
        "    d = TreeData(model_frame, variables, terms)\n",
        "    tree = update(X, y, np.arange(len(y)), control, doFit) if doFit else {'nodes': None, 'trafo': lambda x: x}\n",
        "    return {'d': d, 'update': update, 'nodes': tree['nodes'], 'trafo': tree['trafo'], 'task_type': task_type, 'response': response}\n",
        "\n",
        "def constparties(nodes: List[Node], data: pd.DataFrame, weights: List[np.ndarray], fitted: pd.DataFrame, terms: Dict, info: Dict, task_type: str, predictors: List[str], d: TreeData) -> Dict:\n",
        "    return {\n",
        "        'nodes': nodes,\n",
        "        'data': data,\n",
        "        'weights': weights,\n",
        "        'fitted': fitted,\n",
        "        'terms': terms,\n",
        "        'info': info,\n",
        "        'task_type': task_type,\n",
        "        'predict': lambda newdata, default_prediction=None: predict_forest(nodes, newdata, predictors, task_type, default_prediction),\n",
        "        'predictors': predictors,\n",
        "        'd': d\n",
        "    }\n",
        "\n",
        "def nodeids(node: Node, terminal: bool = False) -> List[int]:\n",
        "    ids = []\n",
        "    def traverse(n: Node):\n",
        "        if n is None:\n",
        "            return\n",
        "        if terminal and n.terminal:\n",
        "            ids.append(n.id)\n",
        "        elif not terminal:\n",
        "            ids.append(n.id)\n",
        "        traverse(n.left)\n",
        "        traverse(n.right)\n",
        "    traverse(node)\n",
        "    return ids\n",
        "\n",
        "def fitted_node(node: Node, data: pd.DataFrame, obs: np.ndarray, predictors: List[str]) -> np.ndarray:\n",
        "    data_subset = data.iloc[obs]\n",
        "\n",
        "    def get_node_idx(row, n: Node, predictors: List[str]):\n",
        "        if n.terminal:\n",
        "            return n.id\n",
        "        if n.split_var is None or n.split_var >= len(predictors):\n",
        "            return n.id\n",
        "        var = predictors[n.split_var]\n",
        "        value = n.split_value\n",
        "        if var not in row or value is None:\n",
        "            return n.id\n",
        "        if pd.api.types.is_number(row[var]):\n",
        "            if row[var] <= value:\n",
        "                return get_node_idx(row, n.left, predictors)\n",
        "            return get_node_idx(row, n.right, predictors)\n",
        "        else:\n",
        "            if row[var] == value:\n",
        "                return get_node_idx(row, n.left, predictors)\n",
        "            return get_node_idx(row, n.right, predictors)\n",
        "\n",
        "    return np.array([get_node_idx(row, node, predictors) for _, row in data_subset.iterrows()])\n",
        "\n",
        "def nodeprune(nodes: Node, ids: List[int]) -> Node:\n",
        "    def prune(n: Node) -> Node:\n",
        "        if n is None:\n",
        "            return None\n",
        "        if n.id in ids and not n.terminal:\n",
        "            return Node(n.id, None, None, None, None, True, n.prediction)\n",
        "        return Node(n.id, n.split_var, n.split_value, prune(n.left), prune(n.right), n.terminal, n.prediction)\n",
        "\n",
        "    return prune(nodes)\n",
        "\n",
        "def predict_tree(node: Node, data: pd.DataFrame, predictors: List[str], task_type: str, default_prediction: Any) -> List:\n",
        "    def get_prediction(row, n: Node, predictors: List[str]):\n",
        "        if n is None or n.terminal:\n",
        "            return n.prediction if n is not None and n.prediction is not None else default_prediction\n",
        "        if n.split_var is None or n.split_var >= len(predictors):\n",
        "            return default_prediction\n",
        "        var = predictors[n.split_var]\n",
        "        if var not in row:\n",
        "            return default_prediction\n",
        "        value = n.split_value\n",
        "        if value is None:\n",
        "            return default_prediction\n",
        "        try:\n",
        "            if pd.api.types.is_number(row[var]):\n",
        "                if row[var] <= value:\n",
        "                    return get_prediction(row, n.left, predictors)\n",
        "                return get_prediction(row, n.right, predictors)\n",
        "            else:\n",
        "                if row[var] == value:\n",
        "                    return get_prediction(row, n.left, predictors)\n",
        "                return get_prediction(row, n.right, predictors)\n",
        "        except Exception:\n",
        "            return default_prediction\n",
        "\n",
        "    predictions = [get_prediction(row, node, predictors) for _, row in data.iterrows()]\n",
        "    return predictions\n",
        "\n",
        "def predict_forest(nodes: List[Node], newdata: pd.DataFrame, predictors: List[str], task_type: str, default_prediction: Any = None) -> np.ndarray:\n",
        "    if not all(col in newdata.columns for col in predictors):\n",
        "        missing_cols = [col for col in predictors if col not in newdata.columns]\n",
        "        raise ValueError(f\"Missing columns in newdata: {missing_cols}\")\n",
        "    predictions = Parallel(n_jobs=-1)(\n",
        "        delayed(predict_tree)(node, newdata, predictors, task_type, default_prediction) for node in nodes\n",
        "    )\n",
        "    predictions = np.array(predictions, dtype=object if task_type == \"classification\" else float).T\n",
        "    return np.array([aggregate_predictions(pred_row, task_type, default=default_prediction) for pred_row in predictions])\n",
        "\n",
        "def compute_feature_importance(model: Dict, test_data: pd.DataFrame, predictors: List[str], true_labels: np.ndarray, task_type: str, n_permutations: int = 5) -> Dict:\n",
        "    baseline_pred = model['predict'](test_data[predictors], default_prediction=model.get('default_prediction'))\n",
        "    if task_type == \"classification\":\n",
        "        response_var = model['d'].variables['y']\n",
        "        label_encoder = LabelEncoder().fit(model['data'][response_var].cat.categories)\n",
        "        baseline_pred_encoded = np.array([label_encoder.transform([pred])[0] for pred in baseline_pred])\n",
        "        baseline_metric = accuracy_score(true_labels, baseline_pred_encoded)\n",
        "    else:\n",
        "        baseline_metric = mean_squared_error(true_labels, baseline_pred)\n",
        "\n",
        "    importance = {pred: [] for pred in predictors}\n",
        "\n",
        "    for pred in predictors:\n",
        "        for _ in range(n_permutations):\n",
        "            permuted_data = test_data.copy()\n",
        "            permuted_data[pred] = np.random.permutation(permuted_data[pred].values)\n",
        "            perm_pred = model['predict'](permuted_data[predictors], default_prediction=model.get('default_prediction'))\n",
        "            if task_type == \"classification\":\n",
        "                perm_pred_encoded = np.array([label_encoder.transform([pred])[0] for pred in perm_pred])\n",
        "                perm_metric = accuracy_score(true_labels, perm_pred_encoded)\n",
        "                importance[pred].append(baseline_metric - perm_metric)\n",
        "            else:\n",
        "                perm_metric = mean_squared_error(true_labels, perm_pred)\n",
        "                importance[pred].append(perm_metric - baseline_metric)\n",
        "\n",
        "    return {k: np.mean(v) for k, v in importance.items()}\n",
        "\n",
        "def plot_feature_importance(importance: Dict, predictors: List[str], task_type: str):\n",
        "    # Sort features by importance in descending order\n",
        "    sorted_items = sorted(importance.items(), key=lambda x: x[1], reverse=True)\n",
        "    features = [item[0] for item in sorted_items]\n",
        "    scores = [item[1] for item in sorted_items]\n",
        "    colors = ['#1f77b4', '#ff7f0e', '#2ca02c', '#d62728', '#9467bd', '#8c564b', '#e377c2', '#7f7f7f', '#bcbd22', '#17becf'] * 2\n",
        "\n",
        "    plt.figure(figsize=(6, 5))\n",
        "    plt.barh(range(len(features)), scores, color=colors[:len(features)], edgecolor='black')\n",
        "    plt.yticks(range(len(features)), features)\n",
        "    plt.xlabel(f\"Importance ({'Accuracy Drop' if task_type == 'classification' else 'MSE Increase'})\")\n",
        "    plt.ylabel('Feature')\n",
        "    plt.title(f\"Feature Importance for cforest {'Classification' if task_type == 'classification' else 'Regression'} Model\")\n",
        "    plt.tight_layout()\n",
        "    plt.show()\n",
        "\n",
        "def set_progress(pb, b: int, ntree: int):\n",
        "    if pb:\n",
        "        pb.update(b)\n",
        "\n",
        "def process_tree(b: int, updatefun: Callable, rw: List[np.ndarray], task_type: str, control: Dict, hn: Optional[List[np.ndarray]], d: TreeData, predictors: List[str]) -> Node:\n",
        "    ret = updatefun(d.data[predictors].values, d.model_frame[d.variables['y']].values, np.sort(rw[b]), control)\n",
        "    if hn is not None:\n",
        "        nid = nodeids(ret['nodes'], terminal=True)\n",
        "        hn_indices = hn[b] if hn[b] is not None else np.array([])\n",
        "        if len(hn_indices) > 0:\n",
        "            nd = np.unique(fitted_node(ret['nodes'], d.data.iloc[hn_indices], np.arange(len(hn_indices)), predictors=predictors))\n",
        "            prn = [n for n in nid if n not in nd]\n",
        "            if prn:\n",
        "                ret = {'nodes': nodeprune(ret['nodes'], prn), 'trafo': ret['trafo']}\n",
        "    return ret['nodes']\n",
        "\n",
        "def cforest(formula: str, data: pd.DataFrame, ntree: int = 100, perturb: Dict[str, Any] = {\"replace\": False, \"fraction\": [0.632]}, mtry: Optional[int] = None, cores: Optional[int] = None, trace: bool = False) -> Dict:\n",
        "    control = {\n",
        "        \"teststat\": \"quad\",\n",
        "        \"testtype\": \"Univ\",\n",
        "        \"mincriterion\": 0.01,\n",
        "        \"saveinfo\": False,\n",
        "        \"max_depth\": 10,\n",
        "        \"n_perm\": 50\n",
        "    }\n",
        "    if cores is not None:\n",
        "        control[\"cores\"] = cores\n",
        "\n",
        "    tree = ctree(formula=formula, data=data, control=control, doFit=False)\n",
        "    task_type = tree['task_type']\n",
        "    response = tree['response']\n",
        "    d = tree['d']\n",
        "\n",
        "    updatefun = tree[\"update\"]\n",
        "    predictors = d.terms['all'].split('~')[1].strip().split(' + ')\n",
        "    nvar = sum(d.variables[\"z\"] > 0)\n",
        "\n",
        "    if mtry is None:\n",
        "        mtry = int(np.ceil(np.sqrt(nvar)))\n",
        "    control[\"mtry\"] = mtry\n",
        "\n",
        "    N = len(d.model_frame)\n",
        "    idx = np.arange(N)\n",
        "    frctn = min(1.0, sum(perturb.get(\"fraction\", [0.632])))\n",
        "    size = int(np.floor(N * frctn))\n",
        "    rw = [np.random.choice(idx, size=size, replace=perturb.get(\"replace\", False)) for _ in range(ntree)]\n",
        "    hn = [np.setdiff1d(idx, r) for r in rw]\n",
        "\n",
        "    default_prediction = aggregate_predictions(d.model_frame[response].values, task_type, default=d.model_frame[response].cat.categories[0] if task_type == \"classification\" else np.mean(d.model_frame[response].values))\n",
        "\n",
        "    forest = Parallel(n_jobs=control.get(\"cores\", -1))(\n",
        "        delayed(process_tree)(b, updatefun, rw, task_type, control, hn, d, predictors) for b in range(ntree)\n",
        "    )\n",
        "\n",
        "    if trace:\n",
        "        pb = progressbar.ProgressBar(maxval=ntree).start()\n",
        "        for b in range(ntree):\n",
        "            set_progress(pb, b, ntree)\n",
        "        pb.finish()\n",
        "\n",
        "    fitted = pd.DataFrame({'idx': np.arange(N)})\n",
        "    mf = d.model_frame\n",
        "    fitted['(response)'] = mf[d.variables['y']].values\n",
        "\n",
        "    ret = constparties(\n",
        "        nodes=forest,\n",
        "        data=mf,\n",
        "        weights=[np.bincount(r, minlength=N).astype(np.int32) for r in rw],\n",
        "        fitted=fitted,\n",
        "        terms=d.terms,\n",
        "        info={'call': {'formula': formula, 'control': control}, 'control': control},\n",
        "        task_type=task_type,\n",
        "        predictors=predictors,\n",
        "        d=d\n",
        "    )\n",
        "\n",
        "    ret['honest_weights'] = [np.bincount(h, minlength=N).astype(np.int32) for h in hn]\n",
        "    ret['trafo'] = tree['trafo']\n",
        "    ret['predictf'] = predictors\n",
        "    ret['class'] = ['cforest']\n",
        "    ret['default_prediction'] = default_prediction\n",
        "    return ret"
      ]
    },
    {
      "cell_type": "markdown",
      "metadata": {
        "id": "oDzbe_164skG"
      },
      "source": [
        "### Classification Example\n",
        "\n",
        "This section demonstrates how to use the custom `cforest` function for a classification task.\n",
        "\n",
        "- `Data Loading and Preparation`: The code loads the health insurance dataset, converts categorical features, performs a stratified train-test split, and scales the numerical features.\n",
        "\n",
        "- `Model Fitting`: A cforest model is trained on the training data with specified control parameters.\n",
        "\n",
        "- `Prediction`: The trained model is used to make predictions on the unseen test data.\n",
        "\n",
        "- `Evaluation`: The model's performance is evaluated using accuracy, a confusion matrix, and a classification report.\n",
        "\n",
        "- `Feature Importance`: Permutation-based feature importance is computed and visualized to understand the contribution of each predictor to the model's performance."
      ]
    },
    {
      "cell_type": "markdown",
      "metadata": {
        "id": "WsPGh8XzOdmR"
      },
      "source": [
        "#### Data"
      ]
    },
    {
      "cell_type": "code",
      "execution_count": 14,
      "metadata": {
        "id": "iGj5QL9rOgly"
      },
      "outputs": [],
      "source": [
        "# Load dataset\n",
        "url = \"https://github.com/zia207/r-colab/raw/main/Data/Machine_Learning/health_insurance.csv\"\n",
        "df = pd.read_csv(url)\n",
        "\n",
        "# Convert to categorical\n",
        "df['product'] = df['product'].astype('category')\n",
        "df['gender'] = df['gender'].astype('category')\n",
        "df['gender_encoded'] = LabelEncoder().fit_transform(df['gender'])\n",
        "\n",
        "# Stratified split\n",
        "stratify_cols = ['product']\n",
        "train, test = train_test_split(df, train_size=0.70, stratify=df[stratify_cols], random_state=101)\n",
        "\n",
        "# Define predictors\n",
        "predictors = ['age', 'household', 'position_level', 'absent', 'gender_encoded']\n",
        "available_predictors = [col for col in predictors if col in train.columns and col in test.columns]\n",
        "formula = f\"product ~ {' + '.join(available_predictors)}\"\n",
        "\n",
        "# Feature scaling\n",
        "numeric_cols = ['age', 'household', 'position_level', 'absent']\n",
        "numeric_cols = [col for col in numeric_cols if col in train.columns and col in test.columns]\n",
        "scaler = StandardScaler()\n",
        "train[numeric_cols] = scaler.fit_transform(train[numeric_cols])\n",
        "test[numeric_cols] = scaler.transform(test[numeric_cols])\n"
      ]
    },
    {
      "cell_type": "markdown",
      "metadata": {
        "id": "96G1T79bPMK0"
      },
      "source": [
        "#### Fit cforest Classification Model"
      ]
    },
    {
      "cell_type": "code",
      "execution_count": 3,
      "metadata": {
        "colab": {
          "base_uri": "https://localhost:8080/"
        },
        "id": "PWiZIC6zPMUs",
        "outputId": "174f9aa5-4c13-491f-868b-d6a201e6e358"
      },
      "outputs": [
        {
          "name": "stdout",
          "output_type": "stream",
          "text": [
            "Fitting cforest model...\n",
            "Detected task: classification\n"
          ]
        },
        {
          "name": "stderr",
          "output_type": "stream",
          "text": [
            "\u001b[38;2;0;255;0m100%\u001b[39m \u001b[38;2;0;255;0m(100 of 100)\u001b[39m |######################| Elapsed Time: 0:00:00 Time:  0:00:00\n"
          ]
        }
      ],
      "source": [
        "# Fit cforest model\n",
        "control = {\n",
        "    \"teststat\": \"quad\",\n",
        "    \"testtype\": \"Univ\",\n",
        "    \"mincriterion\": 0.01,\n",
        "    \"max_depth\": 10,\n",
        "    \"saveinfo\": False,\n",
        "    \"n_perm\": 50,\n",
        "    \"cores\": 4\n",
        "}\n",
        "try:\n",
        "    print(\"Fitting cforest model...\")\n",
        "    forest_model = cforest(\n",
        "        formula=formula,\n",
        "        data=train,\n",
        "        ntree=100,\n",
        "        mtry=None,\n",
        "        perturb={\"replace\": False, \"fraction\": [0.632]},\n",
        "        cores=4,\n",
        "        trace=True\n",
        "    )\n",
        "except Exception as e:\n",
        "    print(f\"Error in fitting cforest model: {e}\")\n",
        "    exit()"
      ]
    },
    {
      "cell_type": "markdown",
      "metadata": {
        "id": "-jLE9d81PY5a"
      },
      "source": [
        "#### Prediction on the Test Data"
      ]
    },
    {
      "cell_type": "code",
      "execution_count": 4,
      "metadata": {
        "colab": {
          "base_uri": "https://localhost:8080/"
        },
        "id": "7SFR3GOuPbEm",
        "outputId": "1d97233a-7b47-4f52-b6ce-57eb152bf67a"
      },
      "outputs": [
        {
          "name": "stdout",
          "output_type": "stream",
          "text": [
            "Predicting with predictors: ['age', 'household', 'position_level', 'absent', 'gender_encoded']\n",
            "\n",
            "Shape of test_predictions: (435,)\n",
            "Sample test_predictions: ['C' 'C' 'A' 'A' 'A']\n",
            "Unique test_predictions: ['A' 'B' 'C']\n"
          ]
        }
      ],
      "source": [
        "# Predict on test set\n",
        "try:\n",
        "    print(f\"Predicting with predictors: {predictors}\")\n",
        "    test_predictions = forest_model['predict'](test[predictors], default_prediction=forest_model['default_prediction'])\n",
        "except Exception as e:\n",
        "    print(f\"Error in prediction: {e}\")\n",
        "    exit()\n",
        "print(\"\\nShape of test_predictions:\", test_predictions.shape)\n",
        "print(\"Sample test_predictions:\", test_predictions[:5])\n",
        "print(f\"Unique test_predictions:\", np.unique(test_predictions))"
      ]
    },
    {
      "cell_type": "markdown",
      "metadata": {
        "id": "j5Du32yrPdxX"
      },
      "source": [
        "#### Evaluate Model"
      ]
    },
    {
      "cell_type": "code",
      "execution_count": 17,
      "metadata": {
        "colab": {
          "base_uri": "https://localhost:8080/"
        },
        "id": "ltnKKgoTPeNu",
        "outputId": "370e65ff-810a-4574-cfc6-7a322a9566d8"
      },
      "outputs": [
        {
          "name": "stdout",
          "output_type": "stream",
          "text": [
            "\n",
            "Model Evaluation Results:\n",
            "Accuracy: 0.5655\n",
            "\n",
            "Confusion Matrix:\n",
            "[[ 86   7  55]\n",
            " [ 19  10 108]\n",
            " [  0   0 150]]\n",
            "\n",
            "Classification Report:\n",
            "              precision    recall  f1-score   support\n",
            "\n",
            "           A       0.82      0.58      0.68       148\n",
            "           B       0.59      0.07      0.13       137\n",
            "           C       0.48      1.00      0.65       150\n",
            "\n",
            "    accuracy                           0.57       435\n",
            "   macro avg       0.63      0.55      0.49       435\n",
            "weighted avg       0.63      0.57      0.50       435\n",
            "\n"
          ]
        }
      ],
      "source": [
        "# Evaluate model\n",
        "response_var = formula.split('~')[0].strip()\n",
        "true_labels = test[response_var].cat.codes.values\n",
        "product_categories = train[response_var].cat.categories\n",
        "\n",
        "try:\n",
        "    label_encoder = LabelEncoder().fit(product_categories)\n",
        "    # Use the fitted label encoder to transform test_predictions\n",
        "    # Handle potential unseen labels by coercing errors, then fill NaNs with a default or handle separately\n",
        "    predicted_labels_transformed = label_encoder.transform(test_predictions)\n",
        "    predicted_labels = predicted_labels_transformed.astype(int)\n",
        "\n",
        "except ValueError as e:\n",
        "    print(f\"\\nError during label encoding of predictions: {e}\")\n",
        "    print(\"Predictions:\", np.unique(test_predictions))\n",
        "    print(\"Known categories:\", product_categories)\n",
        "    # Fallback or error handling if prediction labels are not in known categories\n",
        "    # For simplicity, let's assume the predictions are always within the categories for now,\n",
        "    # or handle the error as a failure to evaluate.\n",
        "    exit()\n",
        "\n",
        "\n",
        "if len(predicted_labels) == len(true_labels) and len(predicted_labels) > 0:\n",
        "    print(\"\\nModel Evaluation Results:\")\n",
        "    accuracy = accuracy_score(true_labels, predicted_labels)\n",
        "    conf_matrix = confusion_matrix(true_labels, predicted_labels)\n",
        "    class_report = classification_report(true_labels, predicted_labels, target_names=product_categories)\n",
        "    print(f\"Accuracy: {accuracy:.4f}\")\n",
        "    print(\"\\nConfusion Matrix:\")\n",
        "    print(conf_matrix)\n",
        "    print(\"\\nClassification Report:\")\n",
        "    print(class_report)\n",
        "else:\n",
        "    print(\"\\nError: No valid predictions were made for evaluation.\")\n",
        "    exit()"
      ]
    },
    {
      "cell_type": "markdown",
      "metadata": {
        "id": "3daMWpa1epea"
      },
      "source": [
        "#### Feature Importnace"
      ]
    },
    {
      "cell_type": "code",
      "execution_count": 18,
      "metadata": {
        "colab": {
          "base_uri": "https://localhost:8080/"
        },
        "id": "9GbwZJv6elRJ",
        "outputId": "e155bab8-aa33-43c7-a125-f981d07db922"
      },
      "outputs": [
        {
          "name": "stdout",
          "output_type": "stream",
          "text": [
            "\n",
            "Computing feature importance...\n",
            "\n",
            "Feature Importance Scores:\n",
            "age: 0.2106\n",
            "household: 0.0138\n",
            "position_level: 0.0060\n",
            "absent: 0.0000\n",
            "gender_encoded: 0.0193\n"
          ]
        }
      ],
      "source": [
        "# Compute feature importance\n",
        "print(\"\\nComputing feature importance...\")\n",
        "feature_importance = compute_feature_importance(forest_model, test, predictors, true_labels, forest_model['task_type'], n_permutations=5)\n",
        "print(\"\\nFeature Importance Scores:\")\n",
        "for feature, score in feature_importance.items():\n",
        "    print(f\"{feature}: {score:.4f}\")"
      ]
    },
    {
      "cell_type": "code",
      "execution_count": 19,
      "metadata": {
        "colab": {
          "base_uri": "https://localhost:8080/",
          "height": 507
        },
        "id": "-208PRFaPtio",
        "outputId": "feea773d-217a-47cb-ae6b-898ff702d09e"
      },
      "outputs": [
        {
          "data": {
            "image/png": "[encoded data removed]",
            "text/plain": [
              "<Figure size 600x500 with 1 Axes>"
            ]
          },
          "metadata": {},
          "output_type": "display_data"
        }
      ],
      "source": [
        "# Plot feature importance\n",
        "plot_feature_importance(feature_importance, predictors, forest_model['task_type'])"
      ]
    },
    {
      "cell_type": "markdown",
      "metadata": {
        "id": "q8gySvcobeNI"
      },
      "source": [
        "#### Hyperparameter Tuning for cforest"
      ]
    },
    {
      "cell_type": "code",
      "execution_count": null,
      "metadata": {
        "id": "0iZDm_4ZdODm"
      },
      "outputs": [],
      "source": [
        "import pandas as pd\n",
        "import numpy as np\n",
        "from sklearn.preprocessing import StandardScaler, LabelEncoder\n",
        "from sklearn.model_selection import train_test_split, ParameterGrid\n",
        "from sklearn.metrics import accuracy_score, confusion_matrix, classification_report, mean_squared_error\n",
        "from joblib import Parallel, delayed\n",
        "import matplotlib.pyplot as plt"
      ]
    },
    {
      "cell_type": "markdown",
      "metadata": {
        "id": "3EjDLdiGdF4-"
      },
      "source": [
        "1. Define Control Prameters"
      ]
    },
    {
      "cell_type": "code",
      "execution_count": null,
      "metadata": {
        "id": "3QWuim2AdPKi"
      },
      "outputs": [],
      "source": [
        "# Define control parameters with defaults\n",
        "control = {\n",
        "    \"teststat\": \"quad\",\n",
        "    \"testtype\": \"Univ\",\n",
        "    \"mincriterion\": 0.01,\n",
        "    \"saveinfo\": False,\n",
        "    \"n_perm\": 50,\n",
        "    \"cores\": 4\n",
        "}\n"
      ]
    },
    {
      "cell_type": "markdown",
      "metadata": {
        "id": "CbbBihggdRjM"
      },
      "source": [
        "2. Define hyperparameter grid"
      ]
    },
    {
      "cell_type": "code",
      "execution_count": null,
      "metadata": {
        "id": "5G_Bk4eVdSAh"
      },
      "outputs": [],
      "source": [
        "# Define hyperparameter grid\n",
        "param_grid = {\n",
        "    'ntree': [50, 100, 200],\n",
        "    'mtry': [int(np.sqrt(len(available_predictors))), len(available_predictors) // 2, len(available_predictors)],\n",
        "    'max_depth': [5, 10, 15]\n",
        "}"
      ]
    },
    {
      "cell_type": "markdown",
      "metadata": {
        "id": "v-oiAUa6dhAN"
      },
      "source": [
        "3. Perform grid search"
      ]
    },
    {
      "cell_type": "code",
      "execution_count": null,
      "metadata": {
        "id": "ZxyHVYnrbecd"
      },
      "outputs": [],
      "source": [
        "# Perform grid search\n",
        "results = []\n",
        "print(\"Performing grid search for classification...\")\n",
        "for params in ParameterGrid(param_grid):\n",
        "    try:\n",
        "        # Update control with max_depth\n",
        "        control['max_depth'] = params['max_depth']\n",
        "        # Fit cforest model\n",
        "        forest_model = cforest(\n",
        "            formula=formula,\n",
        "            data=train,\n",
        "            ntree=params['ntree'],\n",
        "            mtry=params['mtry'],\n",
        "            perturb={\"replace\": False, \"fraction\": [0.632]},\n",
        "            cores=4,\n",
        "            trace=False\n",
        "        )\n",
        "        # Compute OOB predictions\n",
        "        oob_predictions = forest_model['predict'](train[available_predictors], default_prediction=forest_model['default_prediction'])\n",
        "        oob_accuracy = accuracy_score(train['product'].values, oob_predictions)\n",
        "        results.append({\n",
        "            'ntree': params['ntree'],\n",
        "            'mtry': params['mtry'],\n",
        "            'max_depth': params['max_depth'],\n",
        "            'oob_accuracy': oob_accuracy\n",
        "        })\n",
        "        print(f\"ntree={params['ntree']}, mtry={params['mtry']}, max_depth={params['max_depth']}, OOB Accuracy={oob_accuracy:.4f}\")\n",
        "    except Exception as e:\n",
        "        print(f\"Error for params {params}: {e}\")\n",
        "        continue"
      ]
    },
    {
      "cell_type": "markdown",
      "metadata": {
        "id": "IpuTPwxkc1vi"
      },
      "source": [
        "4. Find best parameters"
      ]
    },
    {
      "cell_type": "code",
      "execution_count": null,
      "metadata": {
        "id": "6fb0E11Zc4B2"
      },
      "outputs": [],
      "source": [
        "# Find best parameters\n",
        "best_result = max(results, key=lambda x: x['oob_accuracy'])\n",
        "print(f\"\\nBest parameters: ntree={best_result['ntree']}, mtry={best_result['mtry']}, max_depth={best_result['max_depth']}, OOB Accuracy={best_result['oob_accuracy']:.4f}\")"
      ]
    },
    {
      "cell_type": "markdown",
      "metadata": {
        "id": "D0hcoPJldxrJ"
      },
      "source": [
        "5.Fit model with best parameters"
      ]
    },
    {
      "cell_type": "code",
      "execution_count": null,
      "metadata": {
        "id": "TOGGNG8Ud3s_"
      },
      "outputs": [],
      "source": [
        "# Fit model with best parameters\n",
        "try:\n",
        "    print(\"\\nFitting cforest model with best parameters...\")\n",
        "    cforest_final = cforest(\n",
        "        formula=formula,\n",
        "        data=train,\n",
        "        ntree=best_result['ntree'],\n",
        "        mtry=best_result['mtry'],\n",
        "        perturb={\"replace\": False, \"fraction\": [0.632]},\n",
        "        cores=4,\n",
        "        trace=True\n",
        "    )\n",
        "except Exception as e:\n",
        "    print(f\"Error in fitting best model: {e}\")\n",
        "    exit()\n"
      ]
    },
    {
      "cell_type": "markdown",
      "metadata": {
        "id": "YjcXGIaQeKaI"
      },
      "source": [
        "6. Prediction and Evaluation"
      ]
    },
    {
      "cell_type": "code",
      "execution_count": null,
      "metadata": {
        "id": "Uqe6XIJueKiK"
      },
      "outputs": [],
      "source": [
        "# Predict on test set\n",
        "try:\n",
        "    predictions = cforest_final['predict'](test[available_predictors], default_prediction=cforest_final['default_prediction'])\n",
        "except Exception as e:\n",
        "    print(f\"Error in prediction: {e}\")\n",
        "    exit()\n",
        "\n",
        "# Evaluate classification performance\n",
        "true_labels = test['product'].values\n",
        "print(\"\\nClassification Performance (Test Set):\")\n",
        "print(f\"Accuracy: {accuracy_score(true_labels, predictions):.4f}\")\n",
        "print(\"\\nConfusion Matrix:\")\n",
        "print(confusion_matrix(true_labels, predictions))\n",
        "print(\"\\nClassification Report:\")\n",
        "print(classification_report(true_labels, predictions))"
      ]
    },
    {
      "cell_type": "markdown",
      "metadata": {
        "id": "vi9sxLAfPmeq"
      },
      "source": [
        "7. Feature Importance"
      ]
    },
    {
      "cell_type": "code",
      "execution_count": 7,
      "metadata": {
        "colab": {
          "base_uri": "https://localhost:8080/"
        },
        "id": "wMwSvG6GPs3j",
        "outputId": "f54f9cc6-33b8-427f-cec0-b5417593a1c2"
      },
      "outputs": [
        {
          "name": "stdout",
          "output_type": "stream",
          "text": [
            "\n",
            "Computing feature importance...\n",
            "\n",
            "Feature Importance Scores:\n",
            "age: 0.2023\n",
            "household: 0.0152\n",
            "position_level: 0.0087\n",
            "absent: -0.0018\n",
            "gender_encoded: 0.0170\n"
          ]
        }
      ],
      "source": [
        "# Compute feature importance\n",
        "print(\"\\nComputing feature importance...\")\n",
        "feature_importance_final = compute_feature_importance(cforest_final, test, predictors, true_labels, cforest_final['task_type'], n_permutations=5)\n",
        "print(\"\\nFeature Importance Scores:\")\n",
        "for feature, score in feature_importance.items():\n",
        "    print(f\"{feature}: {score:.4f}\")"
      ]
    },
    {
      "cell_type": "markdown",
      "metadata": {
        "id": "98aHHRYsPyOp"
      },
      "source": [
        "### Regression Example\n",
        "\n",
        "This section demonstrates how to use the custom cforest function for a regression task."
      ]
    },
    {
      "cell_type": "markdown",
      "metadata": {
        "id": "YMLWcjZKYmf9"
      },
      "source": [
        "#### Data"
      ]
    },
    {
      "cell_type": "code",
      "execution_count": 20,
      "metadata": {
        "id": "q9TMZ9pHYoav"
      },
      "outputs": [],
      "source": [
        "import pandas as pd\n",
        "import numpy as np\n",
        "from sklearn.preprocessing import StandardScaler, LabelEncoder\n",
        "from sklearn.preprocessing import StandardScaler\n",
        "from sklearn.model_selection import train_test_split\n",
        "from sklearn.metrics import accuracy_score, confusion_matrix, classification_report, mean_squared_error, r2_score\n",
        "\n",
        "\n",
        "# Load and prepare Boston Housing data\n",
        "boston = fetch_openml(name='boston', version=1, as_frame=True)\n",
        "df = boston.frame\n",
        "\n",
        "# Set random seed for reproducibility\n",
        "np.random.seed(123)\n",
        "\n",
        "# Select relevant columns\n",
        "df = df[['MEDV', 'CRIM', 'ZN', 'INDUS', 'CHAS', 'NOX', 'RM', 'AGE', 'DIS', 'RAD', 'TAX', 'PTRATIO', 'B', 'LSTAT']]\n",
        "\n",
        "# Convert CHAS to category\n",
        "df['CHAS'] = df['CHAS'].astype('category')\n",
        "\n",
        "# Ensure RAD and TAX are numeric\n",
        "df['RAD'] = df['RAD'].astype(float)\n",
        "df['TAX'] = df['TAX'].astype(float)\n",
        "\n",
        "# Apply one-hot encoding to CHAS\n",
        "df = pd.get_dummies(df, columns=['CHAS'], drop_first=True)\n",
        "\n",
        "# Split data into training (70%) and test (30%) sets\n",
        "train, test = train_test_split(df, train_size=0.70, random_state=101)\n",
        "\n",
        "# Feature scaling\n",
        "scaler = StandardScaler()\n",
        "numeric_cols = ['CRIM', 'ZN', 'INDUS', 'NOX', 'RM', 'AGE', 'DIS', 'RAD', 'TAX', 'PTRATIO', 'B', 'LSTAT']\n",
        "train[numeric_cols] = scaler.fit_transform(train[numeric_cols])\n",
        "test[numeric_cols] = scaler.transform(test[numeric_cols])\n",
        "\n",
        "# Define predictors\n",
        "predictors = ['CRIM', 'ZN', 'INDUS', 'NOX', 'RM', 'AGE', 'DIS', 'RAD', 'TAX', 'PTRATIO', 'B', 'LSTAT', 'CHAS_1']\n",
        "available_predictors = [col for col in predictors if col in train.columns and col in test.columns]\n",
        "formula = f\"MEDV ~ {' + '.join(available_predictors)}\""
      ]
    },
    {
      "cell_type": "markdown",
      "metadata": {
        "id": "cnWcePAQZ2w1"
      },
      "source": [
        "#### Fit cforest Regression Model"
      ]
    },
    {
      "cell_type": "code",
      "execution_count": 21,
      "metadata": {
        "colab": {
          "base_uri": "https://localhost:8080/"
        },
        "id": "Q9DUHzH8Zto4",
        "outputId": "b333b2f6-dfed-48b2-9e1c-41bae310c53a"
      },
      "outputs": [
        {
          "name": "stdout",
          "output_type": "stream",
          "text": [
            "Fitting cforest model for regression...\n",
            "Detected task: regression\n"
          ]
        },
        {
          "name": "stderr",
          "output_type": "stream",
          "text": [
            "\u001b[38;2;0;255;0m100%\u001b[39m \u001b[38;2;0;255;0m(100 of 100)\u001b[39m |######################| Elapsed Time: 0:00:00 Time:  0:00:00\n"
          ]
        }
      ],
      "source": [
        "# Define control parameters\n",
        "control = {\n",
        "    \"teststat\": \"quad\",\n",
        "    \"testtype\": \"Univ\",\n",
        "    \"mincriterion\": 0.01,\n",
        "    \"max_depth\": 10,\n",
        "    \"saveinfo\": False,\n",
        "    \"n_perm\": 50,\n",
        "    \"cores\": 4\n",
        "}\n",
        "\n",
        "# Fit cforest model\n",
        "try:\n",
        "    print(\"Fitting cforest model for regression...\")\n",
        "    forest_model = cforest(\n",
        "        formula=formula,\n",
        "        data=train,\n",
        "        ntree=100,\n",
        "        mtry=None,\n",
        "        perturb={\"replace\": False, \"fraction\": [0.632]},\n",
        "        cores=4,\n",
        "        trace=True\n",
        "    )\n",
        "except Exception as e:\n",
        "    print(f\"Error in fitting cforest model: {e}\")\n",
        "    exit()"
      ]
    },
    {
      "cell_type": "markdown",
      "metadata": {
        "id": "zj3RNzZ0bBFj"
      },
      "source": [
        "#### Predict on the Test Data"
      ]
    },
    {
      "cell_type": "code",
      "execution_count": 22,
      "metadata": {
        "id": "LO1QwXb2bE0J"
      },
      "outputs": [],
      "source": [
        "# Predict on test set\n",
        "try:\n",
        "    predictions = forest_model['predict'](test[available_predictors], default_prediction=forest_model['default_prediction'])\n",
        "except Exception as e:\n",
        "    print(f\"Error in prediction: {e}\")\n",
        "    exit()\n"
      ]
    },
    {
      "cell_type": "markdown",
      "metadata": {
        "id": "G5JOtHkbbHvu"
      },
      "source": [
        "#### Evaluate Model"
      ]
    },
    {
      "cell_type": "code",
      "execution_count": 23,
      "metadata": {
        "colab": {
          "base_uri": "https://localhost:8080/"
        },
        "id": "b_PrnIWDbJ7z",
        "outputId": "ecbf9bd0-c73a-43c0-93d5-330ed2d89cf7"
      },
      "outputs": [
        {
          "name": "stdout",
          "output_type": "stream",
          "text": [
            "\n",
            "Regression Performance:\n",
            "Mean Squared Error (MSE): 105.0163\n",
            "R² Score: -0.0580\n"
          ]
        }
      ],
      "source": [
        "# Evaluate regression performance\n",
        "true_labels = test['MEDV'].values\n",
        "mse = mean_squared_error(true_labels, predictions)\n",
        "r2 = r2_score(true_labels, predictions)\n",
        "print(\"\\nRegression Performance:\")\n",
        "print(f\"Mean Squared Error (MSE): {mse:.4f}\")\n",
        "print(f\"R² Score: {r2:.4f}\")\n"
      ]
    },
    {
      "cell_type": "markdown",
      "metadata": {
        "id": "uOXuWoo8hZsY"
      },
      "source": [
        "#### Feature Importnace"
      ]
    },
    {
      "cell_type": "code",
      "execution_count": 24,
      "metadata": {
        "colab": {
          "base_uri": "https://localhost:8080/",
          "height": 507
        },
        "id": "vZgX2zgkhqVr",
        "outputId": "4a786ba3-a61c-4e81-ce08-63c494537cc0"
      },
      "outputs": [
        {
          "data": {
            "image/png": "[encoded data removed]",
            "text/plain": [
              "<Figure size 600x500 with 1 Axes>"
            ]
          },
          "metadata": {},
          "output_type": "display_data"
        }
      ],
      "source": [
        "# Compute and plot feature importance\n",
        "forest_model['task_type'] = 'regression'\n",
        "try:\n",
        "    importance = compute_feature_importance(forest_model, test, available_predictors, true_labels, task_type='regression')\n",
        "    plot_feature_importance(importance, available_predictors, task_type='regression')\n",
        "except Exception as e:\n",
        "    print(f\"Error in computing feature importance: {e}\")"
      ]
    },
    {
      "cell_type": "markdown",
      "metadata": {
        "id": "c7f72bde"
      },
      "source": [
        "## Summary and Conclusion\n",
        "\n",
        "This notebook provides a comprehensive overview and custom implementation of the Conditional Random Forest (cforest) algorithm in Python, inspired by the `partykit` package in R.\n",
        "\n",
        "**Summary:**\n",
        "\n",
        "- The notebook begins with a detailed theoretical explanation of cforest, highlighting its use of conditional inference trees and its advantages over traditional Random Forests, particularly in unbiased variable selection.\n",
        "- A custom Python implementation of the `cforest` algorithm and its supporting functions (`ctree`, `predict_forest`, `compute_feature_importance`, etc.) is presented and explained.\n",
        "- Two practical examples demonstrate the application of the custom `cforest` function:\n",
        "    - **Classification Example:** Using a health insurance dataset to predict product type based on various features. The model's performance is evaluated using accuracy, confusion matrix, and classification report. Permutation-based feature importance is computed and visualized.\n",
        "    - **Regression Example:** Using the Boston Housing dataset to predict median house value. The model's performance is evaluated using Mean Squared Error (MSE) and R-squared. Permutation-based feature importance is also computed and visualized for this task.\n",
        "- Hyperparameter tuning for the classification example is performed using a grid search approach to find optimal values for `ntree`, `mtry`, and `max_depth` based on Out-of-Bag (OOB) accuracy.\n",
        "\n",
        "**Conclusion:**\n",
        "\n",
        "The custom `cforest` implementation in this notebook successfully demonstrates the core principles of conditional inference forests in Python. While the performance on the provided examples (health insurance classification and Boston Housing regression) might not be superior to highly optimized implementations in libraries like scikit-learn, the notebook serves as a valuable educational resource for understanding the internal workings of cforest. The implementation allows for exploring the impact of conditional inference and permutation tests on tree building and variable importance. The hyperparameter tuning section illustrates a practical approach to improving model performance. Overall, this notebook provides a solid foundation for understanding and experimenting with conditional random forests in a Python environment."
      ]
    },
    {
      "cell_type": "markdown",
      "metadata": {
        "id": "SaZTnZx3QPGI"
      },
      "source": [
        "## References\n",
        "\n",
        "1.  Hothorn, T., Hornik, K., & Zeileis, A. (2006). Unbiased Recursive Partitioning: A Conditional Inference Framework. *Journal of Computational and Graphical Statistics, 15*(3), 651–674.\n",
        "\n",
        "2.  Strobl, C., Boulesteix, A.-L., Zeileis, A., & Hothorn, T. (2007). Bias in Random Forest Variable Importance Measures: Illustrations, Sources and a Solution. *BMC Bioinformatics, 8*(25).\n",
        "\n",
        "3.  Hothorn, T., & Zeileis, A. (2015). partykit: A Modular Toolkit for Recursive Partytioning in R. *The Journal of Machine Learning Research, 16*(1), 3905–3909.\n",
        "\n",
        "4.  Hastie, T., Tibshirani, R., & Friedman, J. (2009). *The Elements of Statistical Learning: Data Mining, Inference, and Prediction* (2nd ed.). Springer.\n",
        "\n",
        "\n"
      ]
    }
  ],
  "metadata": {
    "colab": {
      "authorship_tag": "ABX9TyNVuUiUsTJtgqDQz/6TZsk8",
      "include_colab_link": true,
      "provenance": [],
      "toc_visible": true
    },
    "kernelspec": {
      "display_name": "Python 3",
      "name": "python3"
    },
    "language_info": {
      "name": "python"
    }
  },
  "nbformat": 4,
  "nbformat_minor": 0
}
