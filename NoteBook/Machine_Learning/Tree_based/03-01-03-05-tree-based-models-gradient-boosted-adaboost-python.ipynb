{
  "cells": [
    {
      "cell_type": "markdown",
      "metadata": {
        "id": "view-in-github",
        "colab_type": "text"
      },
      "source": [
        "<a href=\"https://colab.research.google.com/github/zia207/python-colab/blob/main/NoteBook/Machine_Learning/Tree_based/03-01-03-05-tree-based-models-gradient-boosted-adaboost-python.ipynb\" target=\"_parent\"><img src=\"https://colab.research.google.com/assets/colab-badge.svg\" alt=\"Open In Colab\"/></a>"
      ]
    },
    {
      "cell_type": "markdown",
      "metadata": {
        "id": "4qrItz_mJNWw"
      },
      "source": [
        "![alt text](http://drive.google.com/uc?export=view&id=1HX868sY0Bxt_Oa0C8F5UOn7Rlkots3o3&usp=drive_fs)"
      ]
    },
    {
      "cell_type": "markdown",
      "metadata": {
        "id": "Dzp9ZseROTcY"
      },
      "source": [
        "# 3.5 Adaptive Boosting (AdaBoost)\n",
        "\n",
        "AdaBoost, or Adaptive Boosting, is a powerful ensemble learning technique that combines multiple weak classifiers to create a strong classifier. It works by sequentially applying weak classifiers to the training data, adjusting the weights of misclassified instances to focus more on difficult cases in subsequent iterations. This method is particularly effective for improving the performance of models on complex datasets. This tutiorial will guide you through the mathematical foundations of AdaBoost, its implementation in Python using the {scikit-learn} library, and practical examples using the Titanic dataset.\n"
      ]
    },
    {
      "cell_type": "markdown",
      "metadata": {
        "id": "mLkAu88QToVr"
      },
      "source": [
        "## Overview\n",
        "\n",
        "AdaBoost, short for **Adaptive Boosting**, is a machine learning ensemble algorithm used primarily for classification tasks (though it can be extended to regression). It combines multiple weak learners—typically simple models like decision stumps (single-level decision trees)—to create a strong classifier. The key idea is to focus on misclassified samples by assigning them higher weights in subsequent iterations, allowing the model to improve its performance progressively.\n",
        "\n",
        "AdaBoost was introduced by Freund and Schapire in 1996 and is widely used due to its simplicity, effectiveness, and ability to work well with high-dimensional data.\n"
      ]
    },
    {
      "cell_type": "markdown",
      "metadata": {
        "id": "WL2L7JRduO3P"
      },
      "source": [
        "### Key Features of AdaBoost\n",
        "\n",
        "AdaBoost's key features:\n",
        "\n",
        "1. `Weight Adjustment`: Boosts misclassified data weights iteratively.\n",
        "2. `Weak Learner Combo`: Combines weak classifiers into a strong one.\n",
        "3. `Error-Driven`: Focuses on errors from previous learners.\n",
        "4. `Adaptive`: Adjusts to data complexity.\n",
        "5. `Binary Focus`: Best for binary classification, extendable to multiclass.\n",
        "6. `Robust`: Less prone to overfitting with proper tuning.\n",
        "7. `Feature Importance`: Highlights key features.\n",
        "8. `Simple & Flexible`: Works with various weak learners.\n",
        "9. `Noise Sensitivity`: Can overfit with noisy data.\n",
        "10. `Efficient`: Fast for small-to-medium datasets."
      ]
    },
    {
      "cell_type": "markdown",
      "source": [
        "### How Does AdaBoost Work?\n",
        "\n",
        "AdaBoost works by iteratively training weak learners, adjusting the weights of training samples, and combining the weak learners into a final strong classifier. Each weak learner focuses more on the samples that were misclassified by previous learners. The final prediction is a weighted combination of the weak learners' predictions.\n",
        "\n",
        "Here’s a step-by-step explanation of the AdaBoost algorithm, including the equations involved:\n",
        "\n",
        "1.  Initialize Sample Weights\n",
        "\n",
        "-   Assign equal weights to all training samples. For a dataset with ( N ) samples, each sample’s initial weight is:\n",
        "\n",
        "$$ w_i^{(1)} = \\frac{1}{N}, \\quad i = 1, 2, \\dots, N $$ where $w_i^{(1)}$ is the weight of the $i$-th sample in the first iteration.\n",
        "\n",
        "2.  Train Weak Learners Iteratively\n",
        "\n",
        "-   For $t = 1, 2, \\dots, T$ (where $T$ is the number of weak learners):\n",
        "\n",
        "a.  `Train a weak learne` $h_t(x)$ (e.g., a decision stump) on the training data, using the current sample weights $w_i^{(t)}$.\n",
        "\n",
        "b.  `compute the weighted error` of the weak learner:\n",
        "\n",
        "$$ \\epsilon*t =* \\sum{i=1}^N w_i^{(t)} \\cdot \\mathbb{I}(h_t(x_i) \\neq y_i) $$\n",
        "\n",
        "where:\n",
        "\n",
        "-   $\\epsilon_t$ is the weighted error rate.\n",
        "\n",
        "-   $\\mathbb{I}(h_t(x_i) \\neq y_i)$ is an indicator function that equals 1 if the prediction $h_t(x_i)$ is incorrect for sample $x_i$ (with true label $y_i$, and 0 otherwise.\n",
        "\n",
        "c.  `Compute the learner’s weight` (importance) based on its error:\n",
        "\n",
        "$$ \\alpha\\_t = \\frac{1}{2} \\ln \\left( \\frac{1 - \\epsilon_t}{\\epsilon_t} \\right) $$ - $\\alpha_t$ represents the contribution of the weak learner $h_t$ to the final model.\n",
        "\n",
        "-   If $\\epsilon_t < 0.5$, $\\alpha_t> 0$, meaning the learner contributes positively.\n",
        "\n",
        "-   If $\\epsilon_t = 0.5$, $\\alpha_t = 0$, indicating no contribution (random guessing).\n",
        "\n",
        "-   If $\\epsilon_t > 0.5$, $\\alpha_ < 0$, but typically, weak learners are better than random guessing.\n",
        "\n",
        "3.  Update Sample Weights\n",
        "\n",
        "-   Adjust the weights of the samples to focus on misclassified ones:\n",
        "\n",
        "$$ w_i^{(t+1)} = w_i^{(t)} \\cdot \\exp \\left( \\alpha\\_t \\cdot \\mathbb{I}(h_t(x_i) \\neq y_i) \\right) $$ - Misclassified samples $h_t(x_i) \\neq y_i$ have their weights increased by $e^{\\alpha\\_t}$.\n",
        "\n",
        "-   Correctly classified samples have their weights decreased by $e^{-\\alpha\\_t}$.\n",
        "\n",
        "-   Normalize the weights so they sum to 1:\n",
        "\n",
        "$$  w_i^{(t+1)} = \\frac{w_i^{(t+1)}}{\\sum_{j=1}^N w_j^{(t+1)}} $$ \\`\n",
        "\n",
        "4.  Combine Weak Learners\n",
        "\n",
        "-   After ( T ) iterations, combine the weak learners into a final strong classifier:\n",
        "\n",
        "$$  H(x) = \\text{sign} \\left( \\sum\\_{t=1}^T \\alpha\\_t h_t(x) \\right)$$\n",
        "\n",
        "where: - $h_t(x) \\in {-1, +1}$ is the prediction of the $t$-th weak learner.\n",
        "\n",
        "-   $\\alpha_t$ is the weight of the $t$-th weak learner.\n",
        "\n",
        "-   The final prediction $H(x)$ outputs $+1$ or $-1$ (for binary classification).\n",
        "\n",
        "Note:\n",
        "\n",
        "    -   **Weak Learners**: Typically decision stumps, but any classifier slightly better than random guessing can be used.\n",
        "\n",
        "    -   **Advantages**: AdaBoost is robust, reduces overfitting (especially with simple weak learners), and is computationally efficient.\n",
        "\n",
        "    -   **Limitations**: Sensitive to noisy data and outliers, as misclassified samples get higher weights.\n",
        "\n",
        "    -   **Extensions**: Variants like Gradient Boosting and XGBoost build on AdaBoost’s principles but use different optimization techniques.\n"
      ],
      "metadata": {
        "id": "03n21BL3-pyU"
      }
    },
    {
      "cell_type": "markdown",
      "metadata": {
        "id": "uWCTcHkzvHE2"
      },
      "source": [
        "The flowchart below summarizes the AdaBoost algorithm, highlighting its key steps from initialization to prediction:\n",
        "\n",
        "\n",
        "![alt text](http://drive.google.com/uc?export=view&id=1thPPruEzsmUY31rAg9K6aLmWVUMPylWL\n",
        ")\n",
        "\n",
        "\n",
        "\n",
        "\n",
        "\n",
        "\n"
      ]
    },
    {
      "cell_type": "markdown",
      "metadata": {
        "id": "NuhrbXQxGIIy"
      },
      "source": [
        "### Advantages of AdaBoost\n",
        "\n",
        "1. `High Accuracy`: Combines weak learners (e.g., decision stumps) into a strong classifier, achieving ~82% accuracy on the Titanic dataset.\n",
        "2. `Focus on Hard Samples`: Increases weights for misclassified samples, improving robustness (e.g., prioritizing `Sex`, `Pclass`).\n",
        "3. `Handles Mixed Data`: Works with numerical (`Age`, `Fare`) and categorical (`Sex`, `Pclass`) features.\n",
        "4. `Low Overfitting`: Simple learners reduce overfitting risk, stable at 50 iterations.\n",
        "5. `Feature Importance`: Identifies key predictors (e.g., `Sex` ~47%, `Pclass` ~22%).\n",
        "6. `Minimal Tuning`: Effective with default settings (e.g., `mfinal = 50` in `adabag`).\n",
        "\n"
      ]
    },
    {
      "cell_type": "markdown",
      "metadata": {
        "id": "70UMhkxtGPsU"
      },
      "source": [
        "### Limitations of AdaBoost\n",
        "\n",
        "1. `Noise Sensitivity`: Overemphasizes outliers, reducing precision (~31% in synthetic Titanic data).\n",
        "2. `Weak Learner Dependence`: Poor performance if learners are too weak (e.g., stumps in scratch model, ~44% F1-score).\n",
        "3. `Computational Cost`: Slow on large datasets due to iterative training.\n",
        "4. `Imbalanced Data`: Struggles with minority class (e.g., ~73% recall for `Survived = 1`).\n",
        "5. `No Probabilities`: Outputs class labels, not confidence scores.\n",
        "6. `Classification Focus`: Less suited for regression tasks."
      ]
    },
    {
      "cell_type": "markdown",
      "metadata": {
        "id": "ztl1QBDb4MYe"
      },
      "source": [
        "## AdaBoost  implementation in Python from scratch\n",
        "\n",
        "Here we’ll implement the AdaBoost algorithm in Python from scratch (without using any external packages) to predict the `Survived` outcome in the a synthetic Titanic dataset. The weak learners will be decision stumps (single-level decision trees), and I’ll evaluate the model’s performance using accuracy, precision, recall, and F1-score on the training data. Below is the complete Python code, including data generation, AdaBoost implementation, model fitting, and evaluation, followed by an explanation of the key components.\n"
      ]
    },
    {
      "cell_type": "markdown",
      "metadata": {
        "id": "lP2lCzFHBUip"
      },
      "source": [
        "### Data Generation\n",
        "\n",
        "   -First we will create  a synthetic Titanic dataset with 1000 samples and features: `Pclass`, `Sex`, `Age`, `SibSp`, `Parch`, `Fare`, `Embarked`, and the binary response `Survived` (0 or 1).\n",
        "   \n",
        "   - Categorical variables (`Sex`, `Embarked`, `Pclass`) are converted to factors for proper handling in the decision stump function.\n",
        "\n",
        "\n",
        "\n",
        "\n"
      ]
    },
    {
      "cell_type": "code",
      "execution_count": 19,
      "metadata": {
        "id": "aTjVIV5ZBW96"
      },
      "outputs": [],
      "source": [
        "import numpy as np\n",
        "import pandas as pd\n",
        "from sklearn.model_selection import train_test_split, cross_val_score\n",
        "from sklearn.metrics import accuracy_score, precision_score, recall_score, f1_score\n",
        "import matplotlib.pyplot as plt\n",
        "import seaborn as sns\n",
        "\n",
        "# Generate synthetic Titanic dataset\n",
        "np.random.seed(123)\n",
        "n = 1000\n",
        "Pclass = np.random.choice([1, 2, 3], size=n, p=[0.2, 0.3, 0.5])\n",
        "Sex = np.random.choice(['male', 'female'], size=n, p=[0.6, 0.4])\n",
        "Age = np.round(np.random.normal(loc=30, scale=10, size=n), 1)\n",
        "Age[Age < 1] = 1\n",
        "SibSp = np.random.choice([0, 1, 2, 3, 4, 5], size=n, p=[0.7, 0.1, 0.1, 0.05, 0.03, 0.02])\n",
        "Parch = np.random.choice([0, 1, 2, 3, 4], size=n, p=[0.8, 0.1, 0.05, 0.03, 0.02])\n",
        "Fare = np.round(np.random.gamma(shape=2, scale=15, size=n), 2)\n",
        "Embarked = np.random.choice(['C', 'Q', 'S'], size=n, p=[0.3, 0.2, 0.5])\n",
        "\n",
        "surv_prob = 1 / (1 + np.exp(-(\n",
        "    0.5 * (Sex == 'female').astype(int) +\n",
        "    0.3 * (Pclass == 1).astype(int) - 0.4 * (Pclass == 3).astype(int) +\n",
        "    0.02 * (Age - 30) -\n",
        "    0.05 * SibSp - 0.02 * Parch +\n",
        "    0.001 * Fare +\n",
        "    0.2 * (Embarked == 'C').astype(int) - 0.1 * (Embarked == 'Q').astype(int)\n",
        ")))\n",
        "Survived = np.random.binomial(1, surv_prob)\n",
        "\n",
        "titanic = pd.DataFrame({\n",
        "    'Pclass': Pclass,\n",
        "    'Sex': Sex,\n",
        "    'Age': Age,\n",
        "    'SibSp': SibSp,\n",
        "    'Parch': Parch,\n",
        "    'Fare': Fare,\n",
        "    'Embarked': Embarked,\n",
        "    'Survived': Survived\n",
        "})\n",
        "\n",
        "# Convert categorical variables to category type\n",
        "titanic['Pclass'] = titanic['Pclass'].astype('category')\n",
        "titanic['Sex'] = titanic['Sex'].astype('category')\n",
        "titanic['Embarked'] = titanic['Embarked'].astype('category')\n",
        "\n",
        "# Split into training and test sets\n",
        "train_data, test_data = train_test_split(titanic, test_size=0.2, stratify=titanic['Survived'], random_state=123)\n",
        "\n",
        "# Define predictors and response\n",
        "predictors = ['Pclass', 'Sex', 'Age', 'SibSp', 'Parch', 'Fare', 'Embarked']\n",
        "response = 'Survived'"
      ]
    },
    {
      "cell_type": "markdown",
      "metadata": {
        "id": "fwIhiSZNCO9N"
      },
      "source": [
        "### Preprocess Data\n",
        "\n",
        "Convert categorical features to numeric:\n"
      ]
    },
    {
      "cell_type": "code",
      "execution_count": 14,
      "metadata": {
        "id": "vYPiX59GCiTY"
      },
      "outputs": [],
      "source": [
        "import pandas as pd\n",
        "import numpy as np\n",
        "\n",
        "def preprocess_data(df):\n",
        "    df = df.copy()\n",
        "    df['Sex'] = pd.factorize(df['Sex'])[0]  # male=0, female=1\n",
        "    df['Embarked'] = pd.factorize(df['Embarked'])[0]  # C=0, Q=1, S=2\n",
        "    return df.values\n",
        "\n",
        "# Assuming titanic is the DataFrame from the previous code\n",
        "X = preprocess_data(titanic[titanic.columns.difference(['Survived'])])\n",
        "y = titanic['Survived'].values"
      ]
    },
    {
      "cell_type": "markdown",
      "metadata": {
        "id": "8aFvX9PX6t7N"
      },
      "source": [
        "\n",
        "### Decision Stump Function (`decision_stump`)\n",
        "\n",
        "   - A decision stump is a weak learner that splits data based on a single feature.\n",
        "   \n",
        "   - For **numeric features** (`Age`, `SibSp`, `Parch`, `Fare`), it tries all unique values as thresholds and predicts +1 (survived) or -1 (not survived) based on whether the feature value is less than or equal to the threshold.\n",
        "   \n",
        "   - For **categorical features** (`Pclass`, `Sex`, `Embarked`), it tries each category level and predicts +1 if the feature equals the level, else -1.\n",
        "   \n",
        "   - The **polarity** adjusts the prediction direction if the error exceeds 0.5 (flipping the prediction reduces the error).\n",
        "   \n",
        "   - The stump with the lowest weighted error is selected."
      ]
    },
    {
      "cell_type": "code",
      "source": [
        "import numpy as np\n",
        "import pandas as pd\n",
        "\n",
        "def decision_stump(data, weights, predictors, response):\n",
        "    \"\"\"\n",
        "    Creates a decision stump (weak learner) by finding the best feature and split\n",
        "    that minimizes the weighted error.\n",
        "\n",
        "    Parameters:\n",
        "    - data: pandas DataFrame containing predictors and response\n",
        "    - weights: numpy array of weights for each sample\n",
        "    - predictors: list of column names for predictor features\n",
        "    - response: column name of the response variable (binary, 0/1)\n",
        "\n",
        "    Returns:\n",
        "    - dict containing the best feature, threshold (for numeric), split_value (for categorical),\n",
        "      polarity, and error\n",
        "    \"\"\"\n",
        "    n = len(data)\n",
        "    best_error = float('inf')\n",
        "    best_feature = None\n",
        "    best_threshold = None\n",
        "    best_split_value = None\n",
        "    best_polarity = 1\n",
        "\n",
        "    # Iterate over predictors\n",
        "    for feature in predictors:\n",
        "        values = data[feature].values\n",
        "        is_numeric = pd.api.types.is_numeric_dtype(data[feature])\n",
        "\n",
        "        if is_numeric:\n",
        "            # For numeric features, try thresholds\n",
        "            thresholds = np.sort(np.unique(values))\n",
        "            thresholds = thresholds[:-1]  # Exclude max value\n",
        "            for threshold in thresholds:\n",
        "                # Predict +1 if feature <= threshold, else -1\n",
        "                pred = np.where(values <= threshold, 1, -1)\n",
        "                # Convert response to {-1, 1} for error calculation\n",
        "                y = np.where(data[response].values == 1, 1, -1)\n",
        "                error = np.sum(weights * (pred != y))\n",
        "                if error > 0.5:\n",
        "                    error = 1 - error\n",
        "                    polarity = -1\n",
        "                else:\n",
        "                    polarity = 1\n",
        "                if error < best_error:\n",
        "                    best_error = error\n",
        "                    best_feature = feature\n",
        "                    best_threshold = threshold\n",
        "                    best_split_value = None\n",
        "                    best_polarity = polarity\n",
        "        else:\n",
        "            # For categorical features, try each level\n",
        "            levels = np.unique(values)\n",
        "            for level in levels:\n",
        "                # Predict +1 if feature == level, else -1\n",
        "                pred = np.where(values == level, 1, -1)\n",
        "                # Convert response to {-1, 1} for error calculation\n",
        "                y = np.where(data[response].values == 1, 1, -1)\n",
        "                error = np.sum(weights * (pred != y))\n",
        "                if error > 0.5:\n",
        "                    error = 1 - error\n",
        "                    polarity = -1\n",
        "                else:\n",
        "                    polarity = 1\n",
        "                if error < best_error:\n",
        "                    best_error = error\n",
        "                    best_feature = feature\n",
        "                    best_threshold = None\n",
        "                    best_split_value = level\n",
        "                    best_polarity = polarity\n",
        "\n",
        "    # Return the best stump\n",
        "    return {\n",
        "        'feature': best_feature,\n",
        "        'threshold': best_threshold,\n",
        "        'split_value': best_split_value,\n",
        "        'polarity': best_polarity,\n",
        "        'error': best_error\n",
        "    }"
      ],
      "metadata": {
        "id": "UMkiS7b-Droi"
      },
      "execution_count": 15,
      "outputs": []
    },
    {
      "cell_type": "markdown",
      "source": [
        "### Predict Stump Function (`predict_stump`)\n",
        "\n",
        "   - Applies the decision stump to the data, returning predictions (+1 or -1) based on the feature, threshold (for numeric), or split value (for categorical), and polarity."
      ],
      "metadata": {
        "id": "gpz0NZAADtRL"
      }
    },
    {
      "cell_type": "code",
      "source": [
        "import numpy as np\n",
        "import pandas as pd\n",
        "\n",
        "def predict_stump(stump, data):\n",
        "    \"\"\"\n",
        "    Predicts outcomes using a decision stump.\n",
        "\n",
        "    Parameters:\n",
        "    - stump: dict containing feature, threshold (for numeric), split_value (for categorical),\n",
        "             and polarity (from decision_stump function)\n",
        "    - data: pandas DataFrame containing the feature used in the stump\n",
        "\n",
        "    Returns:\n",
        "    - numpy array of predictions (+1 or -1)\n",
        "    \"\"\"\n",
        "    feature = stump['feature']\n",
        "    values = data[feature].values\n",
        "\n",
        "    if stump['threshold'] is None:\n",
        "        # Categorical feature\n",
        "        pred = np.where(values == stump['split_value'], 1, -1)\n",
        "    else:\n",
        "        # Numeric feature\n",
        "        pred = np.where(values <= stump['threshold'], 1, -1)\n",
        "\n",
        "    return pred * stump['polarity']"
      ],
      "metadata": {
        "id": "Bx9doXYoDv33"
      },
      "execution_count": 16,
      "outputs": []
    },
    {
      "cell_type": "markdown",
      "source": [
        "### AdaBoost Function (`adaboost`)\n",
        "\n",
        "   - Initializes sample weights as $\\frac{1}{N}$).\n",
        "   \n",
        "   - For $T = 50$ iterations:\n",
        "   \n",
        "  - Trains a decision stump using current weights.\n",
        "     \n",
        "  - Computes the weighted error $\\epsilon_t$.\n",
        "     \n",
        "  - Calculates the stump’s weight $\\alpha_t = \\frac{1}{2} \\ln \\left( \\frac{1 - \\epsilon_t}{\\epsilon_t} \\right)$.\n",
        "     \n",
        "  - Updates sample weights: $w_i \\leftarrow w_i \\cdot \\exp(-\\alpha_t \\cdot y_i \\cdot h_t(x_i))$, then normalizes them.\n",
        "     \n",
        "  - Stores the stump and its $\\alpha_t$.\n",
        "     \n",
        "  - Stops early if the error is too high $\\epsilon_t \\geq 0.5$.\n"
      ],
      "metadata": {
        "id": "lfCVvlWXD4M5"
      }
    },
    {
      "cell_type": "code",
      "source": [
        "def adaboost(data, predictors, response, T=10):\n",
        "    \"\"\"\n",
        "    Implements AdaBoost algorithm using decision stumps.\n",
        "\n",
        "    Parameters:\n",
        "    - data: pandas DataFrame containing predictors and response\n",
        "    - predictors: list of predictor column names\n",
        "    - response: name of the response column (binary, 0/1)\n",
        "    - T: number of iterations (stumps)\n",
        "\n",
        "    Returns:\n",
        "    - dict containing list of stumps and their weights (alphas)\n",
        "    \"\"\"\n",
        "    n = len(data)\n",
        "    weights = np.ones(n) / n  # Initialize weights\n",
        "    stumps = []\n",
        "    alphas = np.zeros(T)\n",
        "\n",
        "    # Convert response to {-1, +1}\n",
        "    y = np.where(data[response].values == 1, 1, -1)\n",
        "\n",
        "    for t in range(T):\n",
        "        # Train a decision stump\n",
        "        stump = decision_stump(data, weights, predictors, response)\n",
        "\n",
        "        # Compute predictions\n",
        "        pred = predict_stump(stump, data)\n",
        "\n",
        "        # Compute weighted error\n",
        "        error = stump['error']\n",
        "        if error == 0:\n",
        "            error = 1e-10  # Avoid division by zero\n",
        "        if error >= 0.5:\n",
        "            break  # Stop if error is too high\n",
        "\n",
        "        # Compute alpha (stump weight)\n",
        "        alpha = 0.5 * np.log((1 - error) / error)\n",
        "\n",
        "        # Update weights\n",
        "        weights = weights * np.exp(-alpha * y * pred)\n",
        "        weights = weights / np.sum(weights)  # Normalize\n",
        "\n",
        "        # Store stump and alpha\n",
        "        stumps.append(stump)\n",
        "        alphas[t] = alpha\n",
        "\n",
        "    # Trim alphas to match number of stumps\n",
        "    alphas = alphas[:len(stumps)]\n",
        "\n",
        "    return {'stumps': stumps, 'alphas': alphas}"
      ],
      "metadata": {
        "id": "azlfCVpkD-rg"
      },
      "execution_count": 17,
      "outputs": []
    },
    {
      "cell_type": "markdown",
      "source": [
        "### Predict AdaBoost Function (`predict_adaboost`)\n",
        "\n",
        "   - Combines predictions from all stumps, weighted by their $\\alpha_t$).\n",
        "   \n",
        "   - The final prediction is $\\text{sign} \\left( \\sum \\alpha_t h_t(x) \\right)$, mapped to 0 or 1."
      ],
      "metadata": {
        "id": "z01FdgBWEBzV"
      }
    },
    {
      "cell_type": "code",
      "source": [
        "def predict_adaboost(model, data):\n",
        "    \"\"\"\n",
        "    Predicts outcomes using an AdaBoost model.\n",
        "\n",
        "    Parameters:\n",
        "    - model: dict containing stumps and alphas\n",
        "    - data: pandas DataFrame for prediction\n",
        "\n",
        "    Returns:\n",
        "    - numpy array of predictions (0 or 1)\n",
        "    \"\"\"\n",
        "    predictions = np.zeros(len(data))\n",
        "    for stump, alpha in zip(model['stumps'], model['alphas']):\n",
        "        pred = predict_stump(stump, data)\n",
        "        predictions += alpha * pred\n",
        "    return np.where(predictions >= 0, 1, 0)"
      ],
      "metadata": {
        "id": "9ESlrzn-ECi_"
      },
      "execution_count": 18,
      "outputs": []
    },
    {
      "cell_type": "markdown",
      "source": [
        "### Model Fitting and Evaluation\n",
        "\n",
        "   - Fit the AdaBoost model using the synthetic Titanic dataset.\n",
        "   \n",
        "   - Make predictions on the training data.\n",
        "   \n",
        "   - computes a confusion matrix comparing predicted and actual `Survived` values.\n",
        "   - Calculates:\n",
        "     - `Accuracy`: Proportion of correct predictions.\n",
        "     - `Precision`: True positives / (True positives + False positives).\n",
        "     - `Recall`: True positives / (True positives + False negatives).\n",
        "     - `F1-Score`: Harmonic mean of precision and recall.\n",
        "     \n"
      ],
      "metadata": {
        "id": "LYrovqRLEIZX"
      }
    },
    {
      "cell_type": "code",
      "source": [
        "# Train AdaBoost model\n",
        "model = adaboost(train_data, predictors, response, T=10)"
      ],
      "metadata": {
        "id": "y9QwM9ft7Juq"
      },
      "execution_count": 20,
      "outputs": []
    },
    {
      "cell_type": "code",
      "source": [
        "# Evaluate on test set\n",
        "y_pred = predict_adaboost(model, test_data)\n",
        "y_test = test_data[response].values\n",
        "accuracy = accuracy_score(y_test, y_pred)\n",
        "precision = precision_score(y_test, y_pred)\n",
        "recall = recall_score(y_test, y_pred)\n",
        "f1 = f1_score(y_test, y_pred)\n",
        "\n",
        "print(\"\\nTest Set Evaluation Metrics:\")\n",
        "print(f\"Accuracy: {accuracy:.4f}\")\n",
        "print(f\"Precision: {precision:.4f}\")\n",
        "print(f\"Recall: {recall:.4f}\")\n",
        "print(f\"F1-Score: {f1:.4f}\")"
      ],
      "metadata": {
        "colab": {
          "base_uri": "https://localhost:8080/"
        },
        "id": "RNLTXzHMEJIs",
        "outputId": "cd52306f-7459-41b5-cf4d-e421721f40c8"
      },
      "execution_count": 21,
      "outputs": [
        {
          "output_type": "stream",
          "name": "stdout",
          "text": [
            "\n",
            "Test Set Evaluation Metrics:\n",
            "Accuracy: 0.5650\n",
            "Precision: 0.5607\n",
            "Recall: 0.6000\n",
            "F1-Score: 0.5797\n"
          ]
        }
      ]
    },
    {
      "cell_type": "markdown",
      "metadata": {
        "id": "n5Z1SpIUbgLy"
      },
      "source": [
        "## AdaBoost with Python\n",
        "\n",
        "In this example, we'll use the Titanic dataset  to demonstrate how to implement `AdaBoost` in Python using {scikit-learn}. We'll preprocess the data, fit an `AdaBoost model`, evaluate its performance with cross-validation, and visualize feature importance. The dataset includes features like passenger class (pclass), sex, age, and others, with the target variable survived. Since AdaBoost requires numerical inputs, we'll encode categorical variables using one-hot encoding. The following concise code showcases the entire process, from data preparation to model evaluation.The dataset will be preprocessed as specified, split into training (80%) and test (20%) sets,  and the model will be evaluated using accuracy, precision, recall, and F1-score on the test set. Below is the complete Python code, followed by an explanation of the steps and results.\n"
      ]
    },
    {
      "cell_type": "code",
      "source": [
        "# Import necessary libraries\n",
        "import numpy as np\n",
        "import pandas as pd\n",
        "from sklearn.ensemble import AdaBoostClassifier\n",
        "from sklearn.tree import DecisionTreeClassifier\n",
        "from sklearn.model_selection import train_test_split, cross_val_score\n",
        "from sklearn.metrics import accuracy_score, precision_score, recall_score, f1_score\n",
        "from sklearn.preprocessing import LabelEncoder\n",
        "import matplotlib.pyplot as plt\n",
        "import seaborn as sns\n",
        "from sklearn.datasets import fetch_openml"
      ],
      "metadata": {
        "id": "oEdxJnokn-3a"
      },
      "execution_count": 2,
      "outputs": []
    },
    {
      "cell_type": "markdown",
      "source": [
        "### Load and Prepare the Data"
      ],
      "metadata": {
        "id": "vtFBtYNxEUX6"
      }
    },
    {
      "cell_type": "code",
      "source": [
        "# Load Titanic dataset from sklearn's openml\n",
        "titanic = fetch_openml('titanic', version=1, as_frame=True).frame\n",
        "\n",
        "# Select relevant columns\n",
        "data = titanic[['survived', 'pclass', 'sex', 'age', 'sibsp', 'parch', 'fare', 'embarked']].copy()\n",
        "\n",
        "# Clean missing values\n",
        "data['age'] = data['age'].fillna(data['age'].median())\n",
        "data['embarked'] = data['embarked'].fillna('S')\n",
        "data['fare'] = data['fare'].fillna(data['fare'].median())  # Handle any missing fares\n",
        "\n",
        "# Convert categorical columns to strings for encoding\n",
        "data['pclass'] = data['pclass'].astype(str)\n",
        "data['sex'] = data['sex'].astype(str)\n",
        "data['embarked'] = data['embarked'].astype(str)\n",
        "\n",
        "# Encode categorical variables for AdaBoost\n",
        "label_encoders = {}\n",
        "for col in ['pclass', 'sex', 'embarked']:\n",
        "    le = LabelEncoder()\n",
        "    data[col] = le.fit_transform(data[col])\n",
        "    label_encoders[col] = le\n",
        "\n",
        "# Ensure 'survived' is integer\n",
        "data['survived'] = data['survived'].astype(int)\n",
        "\n",
        "# Split into training and test sets (80-20 split, stratified)\n",
        "np.random.seed(123)\n",
        "train_data, test_data = train_test_split(data, test_size=0.2, stratify=data['survived'])\n",
        "\n",
        "# Separate features and labels\n",
        "X_train = train_data.drop('survived', axis=1)\n",
        "y_train = train_data['survived']\n",
        "X_test = test_data.drop('survived', axis=1)\n",
        "y_test = test_data['survived']"
      ],
      "metadata": {
        "id": "0Rx9_gQuEUsl"
      },
      "execution_count": 3,
      "outputs": []
    },
    {
      "cell_type": "markdown",
      "source": [
        " ### Fitting the AdaBoost Model\n",
        "\n",
        "The  code below initializes an AdaBoost model using scikit-learn. It uses decision stumps (`DecisionTreeClassifier` with `max_depth=1`) as the weak learners and trains 100 of them. Finally, it fits the model to the training data."
      ],
      "metadata": {
        "id": "W_q4eufmEcMy"
      }
    },
    {
      "cell_type": "code",
      "source": [
        "# Initialize and train AdaBoost model\n",
        "base_estimator = DecisionTreeClassifier(max_depth=1)  # Weak learner\n",
        "adaboost = AdaBoostClassifier(estimator=base_estimator,\n",
        "                             n_estimators=100,\n",
        "                             random_state=123)\n",
        "adaboost.fit(X_train, y_train)"
      ],
      "metadata": {
        "colab": {
          "base_uri": "https://localhost:8080/",
          "height": 166
        },
        "id": "Co3v1w4REc0-",
        "outputId": "8b18486d-fa3f-4111-b95c-d3509151f4d0"
      },
      "execution_count": 5,
      "outputs": [
        {
          "output_type": "execute_result",
          "data": {
            "text/plain": [
              "AdaBoostClassifier(estimator=DecisionTreeClassifier(max_depth=1),\n",
              "                   n_estimators=100, random_state=123)"
            ],
            "text/html": [
              "<style>#sk-container-id-1 {\n",
              "  /* Definition of color scheme common for light and dark mode */\n",
              "  --sklearn-color-text: #000;\n",
              "  --sklearn-color-text-muted: #666;\n",
              "  --sklearn-color-line: gray;\n",
              "  /* Definition of color scheme for unfitted estimators */\n",
              "  --sklearn-color-unfitted-level-0: #fff5e6;\n",
              "  --sklearn-color-unfitted-level-1: #f6e4d2;\n",
              "  --sklearn-color-unfitted-level-2: #ffe0b3;\n",
              "  --sklearn-color-unfitted-level-3: chocolate;\n",
              "  /* Definition of color scheme for fitted estimators */\n",
              "  --sklearn-color-fitted-level-0: #f0f8ff;\n",
              "  --sklearn-color-fitted-level-1: #d4ebff;\n",
              "  --sklearn-color-fitted-level-2: #b3dbfd;\n",
              "  --sklearn-color-fitted-level-3: cornflowerblue;\n",
              "\n",
              "  /* Specific color for light theme */\n",
              "  --sklearn-color-text-on-default-background: var(--sg-text-color, var(--theme-code-foreground, var(--jp-content-font-color1, black)));\n",
              "  --sklearn-color-background: var(--sg-background-color, var(--theme-background, var(--jp-layout-color0, white)));\n",
              "  --sklearn-color-border-box: var(--sg-text-color, var(--theme-code-foreground, var(--jp-content-font-color1, black)));\n",
              "  --sklearn-color-icon: #696969;\n",
              "\n",
              "  @media (prefers-color-scheme: dark) {\n",
              "    /* Redefinition of color scheme for dark theme */\n",
              "    --sklearn-color-text-on-default-background: var(--sg-text-color, var(--theme-code-foreground, var(--jp-content-font-color1, white)));\n",
              "    --sklearn-color-background: var(--sg-background-color, var(--theme-background, var(--jp-layout-color0, #111)));\n",
              "    --sklearn-color-border-box: var(--sg-text-color, var(--theme-code-foreground, var(--jp-content-font-color1, white)));\n",
              "    --sklearn-color-icon: #878787;\n",
              "  }\n",
              "}\n",
              "\n",
              "#sk-container-id-1 {\n",
              "  color: var(--sklearn-color-text);\n",
              "}\n",
              "\n",
              "#sk-container-id-1 pre {\n",
              "  padding: 0;\n",
              "}\n",
              "\n",
              "#sk-container-id-1 input.sk-hidden--visually {\n",
              "  border: 0;\n",
              "  clip: rect(1px 1px 1px 1px);\n",
              "  clip: rect(1px, 1px, 1px, 1px);\n",
              "  height: 1px;\n",
              "  margin: -1px;\n",
              "  overflow: hidden;\n",
              "  padding: 0;\n",
              "  position: absolute;\n",
              "  width: 1px;\n",
              "}\n",
              "\n",
              "#sk-container-id-1 div.sk-dashed-wrapped {\n",
              "  border: 1px dashed var(--sklearn-color-line);\n",
              "  margin: 0 0.4em 0.5em 0.4em;\n",
              "  box-sizing: border-box;\n",
              "  padding-bottom: 0.4em;\n",
              "  background-color: var(--sklearn-color-background);\n",
              "}\n",
              "\n",
              "#sk-container-id-1 div.sk-container {\n",
              "  /* jupyter's `normalize.less` sets `[hidden] { display: none; }`\n",
              "     but bootstrap.min.css set `[hidden] { display: none !important; }`\n",
              "     so we also need the `!important` here to be able to override the\n",
              "     default hidden behavior on the sphinx rendered scikit-learn.org.\n",
              "     See: https://github.com/scikit-learn/scikit-learn/issues/21755 */\n",
              "  display: inline-block !important;\n",
              "  position: relative;\n",
              "}\n",
              "\n",
              "#sk-container-id-1 div.sk-text-repr-fallback {\n",
              "  display: none;\n",
              "}\n",
              "\n",
              "div.sk-parallel-item,\n",
              "div.sk-serial,\n",
              "div.sk-item {\n",
              "  /* draw centered vertical line to link estimators */\n",
              "  background-image: linear-gradient(var(--sklearn-color-text-on-default-background), var(--sklearn-color-text-on-default-background));\n",
              "  background-size: 2px 100%;\n",
              "  background-repeat: no-repeat;\n",
              "  background-position: center center;\n",
              "}\n",
              "\n",
              "/* Parallel-specific style estimator block */\n",
              "\n",
              "#sk-container-id-1 div.sk-parallel-item::after {\n",
              "  content: \"\";\n",
              "  width: 100%;\n",
              "  border-bottom: 2px solid var(--sklearn-color-text-on-default-background);\n",
              "  flex-grow: 1;\n",
              "}\n",
              "\n",
              "#sk-container-id-1 div.sk-parallel {\n",
              "  display: flex;\n",
              "  align-items: stretch;\n",
              "  justify-content: center;\n",
              "  background-color: var(--sklearn-color-background);\n",
              "  position: relative;\n",
              "}\n",
              "\n",
              "#sk-container-id-1 div.sk-parallel-item {\n",
              "  display: flex;\n",
              "  flex-direction: column;\n",
              "}\n",
              "\n",
              "#sk-container-id-1 div.sk-parallel-item:first-child::after {\n",
              "  align-self: flex-end;\n",
              "  width: 50%;\n",
              "}\n",
              "\n",
              "#sk-container-id-1 div.sk-parallel-item:last-child::after {\n",
              "  align-self: flex-start;\n",
              "  width: 50%;\n",
              "}\n",
              "\n",
              "#sk-container-id-1 div.sk-parallel-item:only-child::after {\n",
              "  width: 0;\n",
              "}\n",
              "\n",
              "/* Serial-specific style estimator block */\n",
              "\n",
              "#sk-container-id-1 div.sk-serial {\n",
              "  display: flex;\n",
              "  flex-direction: column;\n",
              "  align-items: center;\n",
              "  background-color: var(--sklearn-color-background);\n",
              "  padding-right: 1em;\n",
              "  padding-left: 1em;\n",
              "}\n",
              "\n",
              "\n",
              "/* Toggleable style: style used for estimator/Pipeline/ColumnTransformer box that is\n",
              "clickable and can be expanded/collapsed.\n",
              "- Pipeline and ColumnTransformer use this feature and define the default style\n",
              "- Estimators will overwrite some part of the style using the `sk-estimator` class\n",
              "*/\n",
              "\n",
              "/* Pipeline and ColumnTransformer style (default) */\n",
              "\n",
              "#sk-container-id-1 div.sk-toggleable {\n",
              "  /* Default theme specific background. It is overwritten whether we have a\n",
              "  specific estimator or a Pipeline/ColumnTransformer */\n",
              "  background-color: var(--sklearn-color-background);\n",
              "}\n",
              "\n",
              "/* Toggleable label */\n",
              "#sk-container-id-1 label.sk-toggleable__label {\n",
              "  cursor: pointer;\n",
              "  display: flex;\n",
              "  width: 100%;\n",
              "  margin-bottom: 0;\n",
              "  padding: 0.5em;\n",
              "  box-sizing: border-box;\n",
              "  text-align: center;\n",
              "  align-items: start;\n",
              "  justify-content: space-between;\n",
              "  gap: 0.5em;\n",
              "}\n",
              "\n",
              "#sk-container-id-1 label.sk-toggleable__label .caption {\n",
              "  font-size: 0.6rem;\n",
              "  font-weight: lighter;\n",
              "  color: var(--sklearn-color-text-muted);\n",
              "}\n",
              "\n",
              "#sk-container-id-1 label.sk-toggleable__label-arrow:before {\n",
              "  /* Arrow on the left of the label */\n",
              "  content: \"▸\";\n",
              "  float: left;\n",
              "  margin-right: 0.25em;\n",
              "  color: var(--sklearn-color-icon);\n",
              "}\n",
              "\n",
              "#sk-container-id-1 label.sk-toggleable__label-arrow:hover:before {\n",
              "  color: var(--sklearn-color-text);\n",
              "}\n",
              "\n",
              "/* Toggleable content - dropdown */\n",
              "\n",
              "#sk-container-id-1 div.sk-toggleable__content {\n",
              "  max-height: 0;\n",
              "  max-width: 0;\n",
              "  overflow: hidden;\n",
              "  text-align: left;\n",
              "  /* unfitted */\n",
              "  background-color: var(--sklearn-color-unfitted-level-0);\n",
              "}\n",
              "\n",
              "#sk-container-id-1 div.sk-toggleable__content.fitted {\n",
              "  /* fitted */\n",
              "  background-color: var(--sklearn-color-fitted-level-0);\n",
              "}\n",
              "\n",
              "#sk-container-id-1 div.sk-toggleable__content pre {\n",
              "  margin: 0.2em;\n",
              "  border-radius: 0.25em;\n",
              "  color: var(--sklearn-color-text);\n",
              "  /* unfitted */\n",
              "  background-color: var(--sklearn-color-unfitted-level-0);\n",
              "}\n",
              "\n",
              "#sk-container-id-1 div.sk-toggleable__content.fitted pre {\n",
              "  /* unfitted */\n",
              "  background-color: var(--sklearn-color-fitted-level-0);\n",
              "}\n",
              "\n",
              "#sk-container-id-1 input.sk-toggleable__control:checked~div.sk-toggleable__content {\n",
              "  /* Expand drop-down */\n",
              "  max-height: 200px;\n",
              "  max-width: 100%;\n",
              "  overflow: auto;\n",
              "}\n",
              "\n",
              "#sk-container-id-1 input.sk-toggleable__control:checked~label.sk-toggleable__label-arrow:before {\n",
              "  content: \"▾\";\n",
              "}\n",
              "\n",
              "/* Pipeline/ColumnTransformer-specific style */\n",
              "\n",
              "#sk-container-id-1 div.sk-label input.sk-toggleable__control:checked~label.sk-toggleable__label {\n",
              "  color: var(--sklearn-color-text);\n",
              "  background-color: var(--sklearn-color-unfitted-level-2);\n",
              "}\n",
              "\n",
              "#sk-container-id-1 div.sk-label.fitted input.sk-toggleable__control:checked~label.sk-toggleable__label {\n",
              "  background-color: var(--sklearn-color-fitted-level-2);\n",
              "}\n",
              "\n",
              "/* Estimator-specific style */\n",
              "\n",
              "/* Colorize estimator box */\n",
              "#sk-container-id-1 div.sk-estimator input.sk-toggleable__control:checked~label.sk-toggleable__label {\n",
              "  /* unfitted */\n",
              "  background-color: var(--sklearn-color-unfitted-level-2);\n",
              "}\n",
              "\n",
              "#sk-container-id-1 div.sk-estimator.fitted input.sk-toggleable__control:checked~label.sk-toggleable__label {\n",
              "  /* fitted */\n",
              "  background-color: var(--sklearn-color-fitted-level-2);\n",
              "}\n",
              "\n",
              "#sk-container-id-1 div.sk-label label.sk-toggleable__label,\n",
              "#sk-container-id-1 div.sk-label label {\n",
              "  /* The background is the default theme color */\n",
              "  color: var(--sklearn-color-text-on-default-background);\n",
              "}\n",
              "\n",
              "/* On hover, darken the color of the background */\n",
              "#sk-container-id-1 div.sk-label:hover label.sk-toggleable__label {\n",
              "  color: var(--sklearn-color-text);\n",
              "  background-color: var(--sklearn-color-unfitted-level-2);\n",
              "}\n",
              "\n",
              "/* Label box, darken color on hover, fitted */\n",
              "#sk-container-id-1 div.sk-label.fitted:hover label.sk-toggleable__label.fitted {\n",
              "  color: var(--sklearn-color-text);\n",
              "  background-color: var(--sklearn-color-fitted-level-2);\n",
              "}\n",
              "\n",
              "/* Estimator label */\n",
              "\n",
              "#sk-container-id-1 div.sk-label label {\n",
              "  font-family: monospace;\n",
              "  font-weight: bold;\n",
              "  display: inline-block;\n",
              "  line-height: 1.2em;\n",
              "}\n",
              "\n",
              "#sk-container-id-1 div.sk-label-container {\n",
              "  text-align: center;\n",
              "}\n",
              "\n",
              "/* Estimator-specific */\n",
              "#sk-container-id-1 div.sk-estimator {\n",
              "  font-family: monospace;\n",
              "  border: 1px dotted var(--sklearn-color-border-box);\n",
              "  border-radius: 0.25em;\n",
              "  box-sizing: border-box;\n",
              "  margin-bottom: 0.5em;\n",
              "  /* unfitted */\n",
              "  background-color: var(--sklearn-color-unfitted-level-0);\n",
              "}\n",
              "\n",
              "#sk-container-id-1 div.sk-estimator.fitted {\n",
              "  /* fitted */\n",
              "  background-color: var(--sklearn-color-fitted-level-0);\n",
              "}\n",
              "\n",
              "/* on hover */\n",
              "#sk-container-id-1 div.sk-estimator:hover {\n",
              "  /* unfitted */\n",
              "  background-color: var(--sklearn-color-unfitted-level-2);\n",
              "}\n",
              "\n",
              "#sk-container-id-1 div.sk-estimator.fitted:hover {\n",
              "  /* fitted */\n",
              "  background-color: var(--sklearn-color-fitted-level-2);\n",
              "}\n",
              "\n",
              "/* Specification for estimator info (e.g. \"i\" and \"?\") */\n",
              "\n",
              "/* Common style for \"i\" and \"?\" */\n",
              "\n",
              ".sk-estimator-doc-link,\n",
              "a:link.sk-estimator-doc-link,\n",
              "a:visited.sk-estimator-doc-link {\n",
              "  float: right;\n",
              "  font-size: smaller;\n",
              "  line-height: 1em;\n",
              "  font-family: monospace;\n",
              "  background-color: var(--sklearn-color-background);\n",
              "  border-radius: 1em;\n",
              "  height: 1em;\n",
              "  width: 1em;\n",
              "  text-decoration: none !important;\n",
              "  margin-left: 0.5em;\n",
              "  text-align: center;\n",
              "  /* unfitted */\n",
              "  border: var(--sklearn-color-unfitted-level-1) 1pt solid;\n",
              "  color: var(--sklearn-color-unfitted-level-1);\n",
              "}\n",
              "\n",
              ".sk-estimator-doc-link.fitted,\n",
              "a:link.sk-estimator-doc-link.fitted,\n",
              "a:visited.sk-estimator-doc-link.fitted {\n",
              "  /* fitted */\n",
              "  border: var(--sklearn-color-fitted-level-1) 1pt solid;\n",
              "  color: var(--sklearn-color-fitted-level-1);\n",
              "}\n",
              "\n",
              "/* On hover */\n",
              "div.sk-estimator:hover .sk-estimator-doc-link:hover,\n",
              ".sk-estimator-doc-link:hover,\n",
              "div.sk-label-container:hover .sk-estimator-doc-link:hover,\n",
              ".sk-estimator-doc-link:hover {\n",
              "  /* unfitted */\n",
              "  background-color: var(--sklearn-color-unfitted-level-3);\n",
              "  color: var(--sklearn-color-background);\n",
              "  text-decoration: none;\n",
              "}\n",
              "\n",
              "div.sk-estimator.fitted:hover .sk-estimator-doc-link.fitted:hover,\n",
              ".sk-estimator-doc-link.fitted:hover,\n",
              "div.sk-label-container:hover .sk-estimator-doc-link.fitted:hover,\n",
              ".sk-estimator-doc-link.fitted:hover {\n",
              "  /* fitted */\n",
              "  background-color: var(--sklearn-color-fitted-level-3);\n",
              "  color: var(--sklearn-color-background);\n",
              "  text-decoration: none;\n",
              "}\n",
              "\n",
              "/* Span, style for the box shown on hovering the info icon */\n",
              ".sk-estimator-doc-link span {\n",
              "  display: none;\n",
              "  z-index: 9999;\n",
              "  position: relative;\n",
              "  font-weight: normal;\n",
              "  right: .2ex;\n",
              "  padding: .5ex;\n",
              "  margin: .5ex;\n",
              "  width: min-content;\n",
              "  min-width: 20ex;\n",
              "  max-width: 50ex;\n",
              "  color: var(--sklearn-color-text);\n",
              "  box-shadow: 2pt 2pt 4pt #999;\n",
              "  /* unfitted */\n",
              "  background: var(--sklearn-color-unfitted-level-0);\n",
              "  border: .5pt solid var(--sklearn-color-unfitted-level-3);\n",
              "}\n",
              "\n",
              ".sk-estimator-doc-link.fitted span {\n",
              "  /* fitted */\n",
              "  background: var(--sklearn-color-fitted-level-0);\n",
              "  border: var(--sklearn-color-fitted-level-3);\n",
              "}\n",
              "\n",
              ".sk-estimator-doc-link:hover span {\n",
              "  display: block;\n",
              "}\n",
              "\n",
              "/* \"?\"-specific style due to the `<a>` HTML tag */\n",
              "\n",
              "#sk-container-id-1 a.estimator_doc_link {\n",
              "  float: right;\n",
              "  font-size: 1rem;\n",
              "  line-height: 1em;\n",
              "  font-family: monospace;\n",
              "  background-color: var(--sklearn-color-background);\n",
              "  border-radius: 1rem;\n",
              "  height: 1rem;\n",
              "  width: 1rem;\n",
              "  text-decoration: none;\n",
              "  /* unfitted */\n",
              "  color: var(--sklearn-color-unfitted-level-1);\n",
              "  border: var(--sklearn-color-unfitted-level-1) 1pt solid;\n",
              "}\n",
              "\n",
              "#sk-container-id-1 a.estimator_doc_link.fitted {\n",
              "  /* fitted */\n",
              "  border: var(--sklearn-color-fitted-level-1) 1pt solid;\n",
              "  color: var(--sklearn-color-fitted-level-1);\n",
              "}\n",
              "\n",
              "/* On hover */\n",
              "#sk-container-id-1 a.estimator_doc_link:hover {\n",
              "  /* unfitted */\n",
              "  background-color: var(--sklearn-color-unfitted-level-3);\n",
              "  color: var(--sklearn-color-background);\n",
              "  text-decoration: none;\n",
              "}\n",
              "\n",
              "#sk-container-id-1 a.estimator_doc_link.fitted:hover {\n",
              "  /* fitted */\n",
              "  background-color: var(--sklearn-color-fitted-level-3);\n",
              "}\n",
              "</style><div id=\"sk-container-id-1\" class=\"sk-top-container\"><div class=\"sk-text-repr-fallback\"><pre>AdaBoostClassifier(estimator=DecisionTreeClassifier(max_depth=1),\n",
              "                   n_estimators=100, random_state=123)</pre><b>In a Jupyter environment, please rerun this cell to show the HTML representation or trust the notebook. <br />On GitHub, the HTML representation is unable to render, please try loading this page with nbviewer.org.</b></div><div class=\"sk-container\" hidden><div class=\"sk-item sk-dashed-wrapped\"><div class=\"sk-label-container\"><div class=\"sk-label fitted sk-toggleable\"><input class=\"sk-toggleable__control sk-hidden--visually\" id=\"sk-estimator-id-1\" type=\"checkbox\" ><label for=\"sk-estimator-id-1\" class=\"sk-toggleable__label fitted sk-toggleable__label-arrow\"><div><div>AdaBoostClassifier</div></div><div><a class=\"sk-estimator-doc-link fitted\" rel=\"noreferrer\" target=\"_blank\" href=\"https://scikit-learn.org/1.6/modules/generated/sklearn.ensemble.AdaBoostClassifier.html\">?<span>Documentation for AdaBoostClassifier</span></a><span class=\"sk-estimator-doc-link fitted\">i<span>Fitted</span></span></div></label><div class=\"sk-toggleable__content fitted\"><pre>AdaBoostClassifier(estimator=DecisionTreeClassifier(max_depth=1),\n",
              "                   n_estimators=100, random_state=123)</pre></div> </div></div><div class=\"sk-parallel\"><div class=\"sk-parallel-item\"><div class=\"sk-item\"><div class=\"sk-label-container\"><div class=\"sk-label fitted sk-toggleable\"><input class=\"sk-toggleable__control sk-hidden--visually\" id=\"sk-estimator-id-2\" type=\"checkbox\" ><label for=\"sk-estimator-id-2\" class=\"sk-toggleable__label fitted sk-toggleable__label-arrow\"><div><div>estimator: DecisionTreeClassifier</div></div></label><div class=\"sk-toggleable__content fitted\"><pre>DecisionTreeClassifier(max_depth=1)</pre></div> </div></div><div class=\"sk-serial\"><div class=\"sk-item\"><div class=\"sk-estimator fitted sk-toggleable\"><input class=\"sk-toggleable__control sk-hidden--visually\" id=\"sk-estimator-id-3\" type=\"checkbox\" ><label for=\"sk-estimator-id-3\" class=\"sk-toggleable__label fitted sk-toggleable__label-arrow\"><div><div>DecisionTreeClassifier</div></div><div><a class=\"sk-estimator-doc-link fitted\" rel=\"noreferrer\" target=\"_blank\" href=\"https://scikit-learn.org/1.6/modules/generated/sklearn.tree.DecisionTreeClassifier.html\">?<span>Documentation for DecisionTreeClassifier</span></a></div></label><div class=\"sk-toggleable__content fitted\"><pre>DecisionTreeClassifier(max_depth=1)</pre></div> </div></div></div></div></div></div></div></div></div>"
            ]
          },
          "metadata": {},
          "execution_count": 5
        }
      ]
    },
    {
      "cell_type": "markdown",
      "source": [
        "### Making Predictions and Evaluating the Model\n",
        "\n",
        "  \n",
        "   - Metrics calculated:\n",
        "     - **Accuracy**: Proportion of correct predictions.\n",
        "     - **Precision**: True positives / (True positives + False positives).\n",
        "     - **Recall**: True positives / (True positives + False negatives).\n",
        "     - **F1-Score**: Harmonic mean of precision and recall."
      ],
      "metadata": {
        "id": "82gVvlyTEiEZ"
      }
    },
    {
      "cell_type": "code",
      "source": [
        "# Make predictions\n",
        "predictions = adaboost.predict(X_test)\n",
        "\n",
        "# Evaluate model\n",
        "accuracy = accuracy_score(y_test, predictions)\n",
        "precision = precision_score(y_test, predictions)\n",
        "recall = recall_score(y_test, predictions)\n",
        "f1 = f1_score(y_test, predictions)\n",
        "\n",
        "# Print results\n",
        "print(\"Confusion Matrix:\")\n",
        "print(pd.crosstab(y_test, predictions, rownames=['Actual'], colnames=['Predicted']))\n",
        "print(f\"Accuracy: {accuracy:.4f}\")\n",
        "print(f\"Precision: {precision:.4f}\")\n",
        "print(f\"Recall: {recall:.4f}\")\n",
        "print(f\"F1-Score: {f1:.4f}\")\n",
        "\n",
        "# Variable importance\n",
        "print(\"\\nVariable Importance:\")\n",
        "importances = pd.Series(adaboost.feature_importances_, index=X_train.columns)\n",
        "print(importances.sort_values(ascending=False))"
      ],
      "metadata": {
        "colab": {
          "base_uri": "https://localhost:8080/"
        },
        "id": "0z8wdm4WEiv0",
        "outputId": "374e9992-3e1a-4fa2-c377-2d9ccdbec9c5"
      },
      "execution_count": 7,
      "outputs": [
        {
          "output_type": "stream",
          "name": "stdout",
          "text": [
            "Confusion Matrix:\n",
            "Predicted    0   1\n",
            "Actual            \n",
            "0          127  35\n",
            "1           29  71\n",
            "Accuracy: 0.7557\n",
            "Precision: 0.6698\n",
            "Recall: 0.7100\n",
            "F1-Score: 0.6893\n",
            "\n",
            "Variable Importance:\n",
            "age         0.292068\n",
            "sibsp       0.194010\n",
            "sex         0.170488\n",
            "parch       0.154859\n",
            "pclass      0.120085\n",
            "fare        0.050210\n",
            "embarked    0.018280\n",
            "dtype: float64\n"
          ]
        }
      ]
    },
    {
      "cell_type": "markdown",
      "source": [
        "### Variable Importance\n",
        "\n",
        "   - The `adabag_model$importance` provides the relative importance of each predictor, based on how much each feature reduces the weighted error across iterations."
      ],
      "metadata": {
        "id": "guLHUMaWEnrH"
      }
    },
    {
      "cell_type": "code",
      "source": [
        "# Variable importance\n",
        "importances = pd.Series(adaboost.feature_importances_, index=X_train.columns)\n",
        "importances = importances.sort_values(ascending=False)\n",
        "\n",
        "# Plot variable importance\n",
        "plt.figure(figsize=(8, 6))\n",
        "sns.barplot(x=importances.values, y=importances.index, hue=importances.index, palette='viridis', legend=False)\n",
        "plt.title(\"Variable Importance in AdaBoost Model\")\n",
        "plt.xlabel(\"Relative Importance\")\n",
        "plt.ylabel(\"Predictors\")\n",
        "plt.show()"
      ],
      "metadata": {
        "colab": {
          "base_uri": "https://localhost:8080/",
          "height": 564
        },
        "id": "oWPw-wbWEqjF",
        "outputId": "2993327d-a582-4275-c096-d767d0caeb7c"
      },
      "execution_count": 11,
      "outputs": [
        {
          "output_type": "display_data",
          "data": {
            "text/plain": [
              "<Figure size 800x600 with 1 Axes>"
            ],
            "image/png": "[encoded data removed]"
          },
          "metadata": {}
        }
      ]
    },
    {
      "cell_type": "markdown",
      "source": [
        "### Cross-validation"
      ],
      "metadata": {
        "id": "b5c0FtqgEvfV"
      }
    },
    {
      "cell_type": "markdown",
      "source": [
        "#### Perform 5-fold cross-validation with `boosting.cv()`"
      ],
      "metadata": {
        "id": "DoLuhLRREzmO"
      }
    },
    {
      "cell_type": "code",
      "source": [
        "# Perform 5-fold cross-validation\n",
        "cv_scores = cross_val_score(adaboost, X_train, y_train, cv=5, scoring='accuracy')\n",
        "\n",
        "# Print cross-validation results\n",
        "print(\"Cross-validation Accuracy Scores:\", cv_scores)\n",
        "print(f\"Mean Cross-validation Accuracy: {cv_scores.mean():.4f}\")\n",
        "print(f\"Standard Deviation of Cross-validation Accuracy: {cv_scores.std():.4f}\")"
      ],
      "metadata": {
        "colab": {
          "base_uri": "https://localhost:8080/"
        },
        "id": "KJtj-TVyEwPb",
        "outputId": "89849f63-2de0-4109-de86-efc3db9ef15f"
      },
      "execution_count": 12,
      "outputs": [
        {
          "output_type": "stream",
          "name": "stdout",
          "text": [
            "Cross-validation Accuracy Scores: [0.77619048 0.7952381  0.79425837 0.784689   0.79425837]\n",
            "Mean Cross-validation Accuracy: 0.7889\n",
            "Standard Deviation of Cross-validation Accuracy: 0.0074\n"
          ]
        }
      ]
    },
    {
      "cell_type": "markdown",
      "metadata": {
        "id": "ac403705"
      },
      "source": [
        "## Summary and Conclusions\n",
        "\n",
        "This notebook explored the Adaptive Boosting (AdaBoost) ensemble learning technique for classification, demonstrating its implementation both from scratch in R and using the scikit-learn library in Python, using the Titanic dataset as an example.\n",
        "\n",
        "The notebook began by introducing the core concepts of AdaBoost, including its iterative weighting mechanism, the use of weak learners (decision stumps in this case), and the mathematical foundations behind weight updates and final prediction.\n",
        "\n",
        "A scratch implementation in R was presented, covering data generation, the creation of decision stumps, and the AdaBoost algorithm itself. While this implementation provided a clear understanding of the internal workings, the evaluation on the synthetic dataset showed moderate performance.\n",
        "\n",
        "Subsequently, the notebook demonstrated a more practical approach using scikit-learn in Python. The Titanic dataset was loaded, preprocessed (handling missing values and encoding categorical features), and split into training and testing sets. An AdaBoost classifier with decision stumps as base estimators was trained, and its performance was evaluated using accuracy, precision, recall, and F1-score. The scikit-learn implementation achieved better performance on the actual Titanic dataset compared to the R scratch implementation on synthetic data.\n",
        "\n",
        "In conclusion, AdaBoost is a powerful boosting algorithm that can significantly improve the performance of weak learners by focusing on misclassified instances. The scikit-learn implementation offers a convenient and efficient way to apply AdaBoost in practice, providing good performance and insights into feature importance. While the R scratch implementation was valuable for understanding the algorithm's mechanics, the Python scikit-learn approach is more suitable for practical machine learning tasks."
      ]
    },
    {
      "cell_type": "markdown",
      "metadata": {
        "id": "ACNQyq1seLc7"
      },
      "source": [
        "## References\n",
        "\n",
        "\n",
        "1. **Freund, Y., & Schapire, R. E. (1997). A decision-theoretic generalization of on-line learning and an application to boosting. Journal of Computer and System Sciences, 55(1), 119–139.**\n",
        "   - Introduces the original AdaBoost algorithm, detailing its theoretical foundation and iterative weighting mechanism for combining weak learners.\n",
        "\n",
        "2. **Hastie, T., Tibshirani, R., & Friedman, J. (2009). The Elements of Statistical Learning (2nd ed.). Springer.**\n",
        "   - Chapter 10 provides a comprehensive overview of boosting, including AdaBoost’s mechanics, strengths, and limitations in classification tasks.\n",
        "\n",
        "3.  **scikit-learn Documentation:**\n",
        "    -   [AdaBoostClassifier Documentation](https://scikit-learn.org/stable/modules/generated/sklearn.ensemble.AdaBoostClassifier.html): The official documentation for the AdaBoostClassifier in scikit-learn, providing detailed information on parameters and usage.\n",
        "    -   [Ensemble methods](https://scikit-learn.org/stable/modules/ensemble.html#adaboost): The scikit-learn documentation page on ensemble methods, including a section on AdaBoost.\n",
        "\n",
        "4.  **Towards Data Science:**\n",
        "    -   Look for articles on Towards Data Science that explain AdaBoost and show Python implementations. Many data scientists share their knowledge and code examples on this platform.\n",
        "\n",
        "5.  **Medium:**\n",
        "    -   Similar to Towards Data Science, Medium has numerous articles explaining AdaBoost concepts and providing Python code examples.\n",
        "\n",
        "6.  **GeeksforGeeks:**\n",
        "    -   [AdaBoost Algorithm](https://www.geeksforgeeks.org/adaboost-for-machine-learning/): Provides a good explanation of the AdaBoost algorithm and often includes Python examples.\n"
      ]
    }
  ],
  "metadata": {
    "colab": {
      "provenance": [],
      "toc_visible": true,
      "authorship_tag": "ABX9TyOwJ8KIQjzstfGb/79dyskj",
      "include_colab_link": true
    },
    "kernelspec": {
      "display_name": "Python 3",
      "name": "python3"
    },
    "language_info": {
      "name": "python"
    }
  },
  "nbformat": 4,
  "nbformat_minor": 0
}