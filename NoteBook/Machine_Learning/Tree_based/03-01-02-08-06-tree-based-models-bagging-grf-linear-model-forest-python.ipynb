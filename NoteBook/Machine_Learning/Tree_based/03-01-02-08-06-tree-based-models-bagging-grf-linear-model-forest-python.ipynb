{
  "cells": [
    {
      "cell_type": "markdown",
      "metadata": {
        "id": "view-in-github",
        "colab_type": "text"
      },
      "source": [
        "<a href=\"https://colab.research.google.com/github/zia207/python-colab/blob/main/NoteBook/Machine_Learning/Tree_based/03-01-02-08-06-tree-based-models-bagging-grf-linear-model-forest-python.ipynb\" target=\"_parent\"><img src=\"https://colab.research.google.com/assets/colab-badge.svg\" alt=\"Open In Colab\"/></a>"
      ]
    },
    {
      "cell_type": "markdown",
      "metadata": {
        "id": "zYZbTX0qQrZb"
      },
      "source": [
        "![alt text](http://drive.google.com/uc?export=view&id=1xLlN9eEG2IYFBlAuwl53aDVxcBkRnkEw)"
      ]
    },
    {
      "cell_type": "markdown",
      "metadata": {
        "id": "RGBfrL2GQoII"
      },
      "source": [
        "# 2.8.6 Linear Model Forest\n",
        "\n",
        "A **Linear Model Forest** is a machine learning approach that combines the flexibility of random forests with the interpretability of linear models. It is designed to estimate `heterogeneous effects` or `conditional relationships` in data by fitting local linear models within the leaves of a random forest structure. While not a standard term in the `{grf}` package (which focuses on generalized random forests like `causal_forest` or `probability_forest`), the concept is closely related to methods like **Causal Forests with Linear Models** or **Local Linear Forest** extensions, where linear models are used to estimate effects or outcomes at the leaf level. Below, I’ll explain the concept, how it works, and its relevance, keeping it concise and clear.\n"
      ]
    },
    {
      "cell_type": "markdown",
      "metadata": {
        "id": "S77MsgmqIYD0"
      },
      "source": [
        "## Overview\n",
        "\n",
        "Linear Model Forest estimates conditional relationships (e.g., $E[Y|X]$ or treatment effects $E[Y(1) - Y(0)|X]$) by combining the non-parametric partitioning of random forests with linear models applied locally within subgroups (leaves).  Instead of averaging outcomes in each leaf (as in standard random forests), it fits a `linear model` in each leaf to capture relationships between covariates $X$, outcomes $Y$, or treatments $W$.\n",
        "\n"
      ]
    },
    {
      "cell_type": "markdown",
      "source": [
        "### Key Features\n",
        "\n",
        "- `Heterogeneity`: Captures how relationships or effects vary across subgroups defined by $X$.\n",
        "\n",
        "- `Interpretability`: Local linear models provide coefficients, making it easier to understand covariate effects within leaves compared to black-box random forests.\n",
        "\n",
        "- `Flexibility`: Combines non-parametric partitioning (random forest) with parametric modeling (linear models).\n",
        "\n",
        "- `Robustness`: Ensemble averaging reduces variance and overfitting.\n",
        "\n",
        "- `Applications`: Ideal for causal inference (e.g., personalized medicine) or regression tasks where linear relationships hold locally but not globally.\n"
      ],
      "metadata": {
        "id": "EnR-z3S9vTpk"
      }
    },
    {
      "cell_type": "markdown",
      "metadata": {
        "id": "VwEoykvwI2dS"
      },
      "source": [
        "### How It Work\n",
        "\n",
        "A Linear Model Forest modifies the random forest framework as follows:\n",
        "\n",
        "1. Data Setup\n",
        "\n",
        "   - Input: Covariates $X$ (e.g., age, sex), outcome $Y$ (e.g., house price), and optionally a treatment  $W$ (covariates).\n",
        "   - Data is typically a matrix of features $X$, a vector $Y$, and (if causal) a treatment indicator $W$.\n",
        "\n",
        "2. Tree Construction\n",
        "\n",
        "   - Like a random forest, it builds multiple decision trees (e.g., 1000) using bootstrap sampling and random feature selection.\n",
        "   - Each tree partitions the covariate space $X$ into regions (leaves) based on splits that optimize a criterion (e.g., variance reduction or effect heterogeneity).\n",
        "\n",
        "3. Local Linear Models\n",
        "\n",
        "   - In each leaf, instead of computing a simple average (as in standard random forests), a `linear model` is fitted using the observations in that leaf.\n",
        "   - For example:\n",
        "   \n",
        "     - `Regression`: $Y \\sim \\beta_0 + \\beta_1 X_1 + \\beta_2 X_2$ to predict $E[Y|X]$.\n",
        "     \n",
        "     - `Causal`: Estimate treatment effects $\\tau(X) = E[Y(1) - Y(0)|X]$ using a linear model of $Y$ on $W$ and $X$.\n",
        "  \n",
        "   - The linear model leverages local data to capture linear relationships within the leaf’s subgroup.\n",
        "\n",
        "4. Aggregation\n",
        "\n",
        "   - For a given input $X$, each tree assigns $X$ to a leaf, and the local linear model in that leaf provides a prediction (e.g., outcome or treatment effect).\n",
        "   \n",
        "   - The forest averages predictions across all trees to produce a final estimate, ensuring robustness and reducing overfitting.\n",
        "\n",
        "5. Output\n",
        "\n",
        "   - C`onditional predictions` (e.g., $E[Y|X]$) or heterogeneous treatment effects (e.g., $\\tau(X)$).\n",
        "   \n",
        "   - Optionally, `local linear coefficients` for interpretability (e.g., how covariates influence outcomes in specific subgroups)."
      ]
    },
    {
      "cell_type": "markdown",
      "metadata": {
        "id": "bIBhNo81s-Nt"
      },
      "source": [
        "### Differences from Other Forests\n",
        "\n",
        "- `Vs. Standard Random Forest`: Uses simple averages in leaves, not linear models, and is less interpretable for local relationships.\n",
        "\n",
        "- `Vs. Causal Forest`: Estimates treatment effects non-parametrically, while a Linear Model Forest uses linear models for effects within leaves, potentially improving precision if linear assumptions hold locally.\n",
        "\n",
        "- `Vs. Probability Forest`: Focuses on class probabilities for categorical outcomes, not continuous outcomes or treatment effects with linear modeling.\n",
        "\n"
      ]
    },
    {
      "cell_type": "markdown",
      "source": [
        "### Limitations\n",
        "\n",
        "- `Linear Assumption`: Assumes linear relationships within leaves, which may not hold for complex data.\n",
        "\n",
        "- `Computational Cost`: Fitting linear models in each leaf is more intensive than standard random forest averaging.\n",
        "\n",
        "- `Implementation`: Not natively supported in `{grf}`; requires custom extensions or alternative packages.\n",
        "\n",
        "- `Data Requirements`: Needs sufficient data in each leaf to fit reliable linear models."
      ],
      "metadata": {
        "id": "NmMsBJhJvpJR"
      }
    },
    {
      "cell_type": "markdown",
      "source": [
        "### Use Cases\n",
        "\n",
        "  - Estimating heterogeneous treatment effects (e.g., how a drug’s effect varies by patient characteristics).\n",
        "  - Modeling conditional means with linear relationships within subgroups.\n",
        "  - Improving interpretability of random forest predictions with local linear coefficients."
      ],
      "metadata": {
        "id": "-u2tkR3KvrbW"
      }
    },
    {
      "cell_type": "markdown",
      "metadata": {
        "id": "bh7jEhGCLDZA"
      },
      "source": [
        "## Linear Forest\n",
        "\n",
        "This tutorial demonstrates how to implement an Instrumental Forest using the `{grf}` package in Python through {rpy2} to estimate the heterogeneous treatment effects (e.g., how house prices vary with different covariates) using a Linear Model Forest. We’ll cover data preparation, model fitting, prediction, and visualization of the estimated effects.\n",
        "\n",
        "\n"
      ]
    },
    {
      "cell_type": "markdown",
      "source": [
        "### Setup Python Envrionmewnt"
      ],
      "metadata": {
        "id": "8bXtwlh017eA"
      }
    },
    {
      "cell_type": "code",
      "source": [
        "# Install required Python packages\n",
        "#%pip install rpy2 pandas numpy matplotlib seaborn scipy # Already executed in previous cells\n",
        "\n",
        "# Import necessary libraries\n",
        "import pandas as pd\n",
        "import numpy as np\n",
        "import matplotlib.pyplot as plt\n",
        "import seaborn as sns\n",
        "import rpy2.robjects as ro\n",
        "from rpy2.robjects import pandas2ri, numpy2ri\n",
        "from rpy2.robjects.packages import importr, isinstalled\n",
        "from scipy import stats"
      ],
      "metadata": {
        "id": "yuHGv_st1N4I"
      },
      "execution_count": 66,
      "outputs": []
    },
    {
      "cell_type": "code",
      "source": [
        "# Activate automatic conversion between pandas/numpy and R objects\n",
        "pandas2ri.activate()\n",
        "numpy2ri.activate()"
      ],
      "metadata": {
        "id": "AjkvLM941fqS"
      },
      "execution_count": 67,
      "outputs": []
    },
    {
      "cell_type": "code",
      "source": [
        "%load_ext rpy2.ipython\n",
        "\n",
        "r = ro.r\n",
        "r['install.packages'](\"grf\", repos='http://cran.us.r-project.org')\n",
        "r.library(\"grf\")\n",
        "r.library(\"survival\")\n",
        "r.library(\"ggplot2\")"
      ],
      "metadata": {
        "id": "3iYvQqTu1hst"
      },
      "execution_count": null,
      "outputs": []
    },
    {
      "cell_type": "code",
      "source": [
        "# Custom IKbandwidth function for RDD (approximate implementation if rdd R package fails)\n",
        "def IKbandwidth(Z, Y, cutoff, kernel=\"gaussian\"):\n",
        "    \"\"\"\n",
        "    Compute the Imbens-Kalyanaraman optimal bandwidth for RDD.\n",
        "\n",
        "    Parameters:\n",
        "    Z : array-like, running variable\n",
        "    Y : array-like, outcome variable\n",
        "    cutoff : float, RDD cutoff point\n",
        "    kernel : str, kernel type for density estimation (default: \"gaussian\")\n",
        "\n",
        "    Returns:\n",
        "    float, optimal bandwidth h\n",
        "    \"\"\"\n",
        "    # If rdd R package is available, use its IKbandwidth function\n",
        "    if rdd_package is not None:\n",
        "        try:\n",
        "            print(\"Using rdd R package for IK bandwidth calculation.\")\n",
        "            # Ensure Z, Y are R vectors and cutoff is R numeric\n",
        "            Z_r = ro.FloatVector(Z)\n",
        "            Y_r = ro.FloatVector(Y)\n",
        "            cutoff_r = ro.FloatVector([cutoff])\n",
        "            # Call R's IKbandwidth function\n",
        "            bandwidth_r = rdd_package.IKbandwidth(Z_r, Y_r, cutoff_r)[0]\n",
        "            return bandwidth_r\n",
        "        except Exception as e:\n",
        "            print(f\"Error calling rdd R package IKbandwidth: {str(e)}\")\n",
        "            print(\"Falling back to approximation.\")\n",
        "\n",
        "    # Fallback approximation if rdd R package is not available or fails\n",
        "    print(\"Using fallback approximation for IK bandwidth calculation.\")\n",
        "    Z = np.array(Z)\n",
        "    Y = np.array(Y)\n",
        "    n = len(Z)\n",
        "\n",
        "    # Step 1: Split data at cutoff\n",
        "    Z_left = Z[Z < cutoff]\n",
        "    Y_left = Y[Z < cutoff]\n",
        "    Z_right = Z[Z >= cutoff]\n",
        "    Y_right = Y[Z >= cutoff]\n",
        "    n_left = len(Z_left)\n",
        "    n_right = len(Z_right)\n",
        "\n",
        "    # Avoid errors with insufficient data on one side\n",
        "    if n_left < 2 or n_right < 2:\n",
        "         print(\"Warning: Insufficient data points on one side of the cutoff for a robust bandwidth calculation. Using a simple fallback.\")\n",
        "         return 1.06 * np.std(Z) * n ** (-1/5) # Silverman's rule as simple fallback\n",
        "\n",
        "\n",
        "    # Step 2: Estimate initial bandwidth (Silverman's rule as a starting point)\n",
        "    h1 = 1.06 * np.std(Z) * n ** (-1/5)\n",
        "\n",
        "    # Step 3: Estimate variance of Y (pooled variance)\n",
        "    sigma2_left = np.var(Y_left, ddof=1) if n_left > 1 else 0\n",
        "    sigma2_right = np.var(Y_right, ddof=1) if n_right > 1 else 0\n",
        "    # Use weighted average if sample sizes are different, handle cases where one side is too small\n",
        "    total_n = n_left + n_right\n",
        "    if total_n > 0:\n",
        "      sigma2 = (sigma2_left * n_left + sigma2_right * n_right) / total_n\n",
        "    else:\n",
        "      sigma2 = 1 # Fallback to 1 if no data\n",
        "\n",
        "    if sigma2 <= 0: # Ensure sigma2 is positive for the formula\n",
        "        sigma2 = np.var(Y, ddof=1) if n > 1 else 1 # Fallback to overall variance or 1\n",
        "\n",
        "    # Step 4: Estimate density of Z at cutoff using Gaussian kernel\n",
        "    # Ensure there are enough points to estimate density\n",
        "    if n < 10:\n",
        "         print(\"Warning: Insufficient total data points for KDE density estimation. Using a simple fallback density.\")\n",
        "         f_c = 1.0 / (np.max(Z) - np.min(Z) + 1e-6) # Approximate density over range\n",
        "    else:\n",
        "        try:\n",
        "            # Need at least 2 data points for KDE\n",
        "            if len(Z) < 2:\n",
        "                 f_c = 1e-6\n",
        "            else:\n",
        "                 kde = stats.gaussian_kde(Z)\n",
        "                 f_c = kde(cutoff)[0]\n",
        "                 if f_c <= 0:\n",
        "                     f_c = 1e-6  # Avoid division by zero\n",
        "        except Exception as kde_error:\n",
        "             print(f\"Warning: KDE density estimation failed ({kde_error}). Using a simple fallback density.\")\n",
        "             f_c = 1.0 / (np.max(Z) - np.min(Z) + 1e-6) # Approximate density over range\n",
        "\n",
        "\n",
        "    # Step 5: Estimate second derivative m''(x) using local quadratic regression\n",
        "    # This is a simplified approximation. The R implementation is more robust.\n",
        "    # For a quick Python fallback, we can use polynomial fitting around the cutoff.\n",
        "    def local_poly_regression(X, Y, x0, degree, h):\n",
        "        # Simple unweighted polynomial fit within a window h around x0\n",
        "        subset_indices = np.abs(X - x0) <= h\n",
        "        X_subset = X[subset_indices]\n",
        "        Y_subset = Y[subset_indices]\n",
        "\n",
        "        if len(X_subset) < degree + 1:\n",
        "            return 0.0 # Not enough data for the polynomial degree\n",
        "\n",
        "        try:\n",
        "            # Fit a polynomial of specified degree\n",
        "            coeffs = np.polyfit(X_subset - x0, Y_subset, degree)\n",
        "            if degree >= 2:\n",
        "                # For degree 2 (quadratic), the second derivative is 2 * coefficient of (x-x0)^2\n",
        "                return 2 * coeffs[degree - 2]\n",
        "            else:\n",
        "                 return 0.0 # Second derivative is 0 for degree < 2\n",
        "        except Exception as poly_error:\n",
        "            print(f\"Warning: Local polynomial regression failed ({poly_error}). Returning 0 for m''.\")\n",
        "            return 0.0 # Fallback if fitting fails\n",
        "\n",
        "    # Use a window size for the local quadratic fit, maybe 2*h1\n",
        "    local_window = 2 * h1\n",
        "    m2_left = local_poly_regression(Z_left, Y_left, cutoff, degree=2, h=local_window)\n",
        "    m2_right = local_poly_regression(Z_right, Y_right, cutoff, degree=2, h=local_window)\n",
        "    m2 = (m2_left + m2_right) / 2\n",
        "    if abs(m2) < 1e-6: # Use absolute value and a small tolerance\n",
        "        m2 = 1e-6 if m2 >= 0 else -1e-6 # Avoid division by zero, keep sign\n",
        "\n",
        "    # Step 6: Compute IK constant C_k for Gaussian kernel (approximation)\n",
        "    # C_k = 3.4375 # Approximate constant for Gaussian kernel (from IK paper) - specific to Gaussian\n",
        "    # For triangular kernel (often used in RDD): C_k is different.\n",
        "    # Let's assume the user wants the optimal bandwidth for local linear regression with triangular kernel,\n",
        "    # as often used in RDD. The constant for triangular kernel is often cited around 2.346.\n",
        "    C_k = 2.346 # Constant for Triangular kernel\n",
        "\n",
        "    # Step 7: Compute optimal bandwidth\n",
        "    # Formula: h_opt = C * (sigma^2 / (n * f(c) * (m''(c))^2))^(1/5)\n",
        "    # Ensure denominator is not zero or too small\n",
        "    denominator = n * f_c * m2**2\n",
        "    if denominator < 1e-12:\n",
        "        print(\"Warning: Denominator for bandwidth calculation is too small. Using a simple fallback.\")\n",
        "        h_opt = 1.06 * np.std(Z) * n ** (-1/5) # Silverman's rule as fallback\n",
        "    else:\n",
        "        h_opt = C_k * (sigma2 / denominator) ** (1/5)\n",
        "\n",
        "    return max(h_opt, 1e-6)  # Ensure positive and reasonable bandwidth"
      ],
      "metadata": {
        "id": "TKurt0ta3Epc"
      },
      "execution_count": 69,
      "outputs": []
    },
    {
      "cell_type": "markdown",
      "metadata": {
        "id": "IPobetr0zFC5"
      },
      "source": [
        "### Load Boston Housing Dataset\n",
        "\n",
        "We use the Boston Housing dataset to demonstrate the implementation of a Regression Discontinuity Design (RDD) using the `{grf}` package. The dataset contains information about housing values in suburbs of Boston, including various features like crime rate, number of rooms, and more.\n"
      ]
    },
    {
      "cell_type": "code",
      "execution_count": null,
      "metadata": {
        "id": "RmfGVScmzF8P"
      },
      "outputs": [],
      "source": [
        "data_url = \"http://lib.stat.cmu.edu/datasets/boston\"\n",
        "raw_df = pd.read_csv(data_url, sep=\"\\s+\", skiprows=22, header=None)\n",
        "data = np.hstack([raw_df.values[::2, :], raw_df.values[1::2, :2]])\n",
        "target = raw_df.values[1::2, 2]\n",
        "feature_names = ['CRIM', 'ZN', 'INDUS', 'CHAS', 'NOX', 'RM', 'AGE', 'DIS', 'RAD', 'TAX', 'PTRATIO', 'B', 'LSTAT']\n",
        "boston_df = pd.DataFrame(data, columns=feature_names)\n",
        "boston_df['medv'] = target\n",
        "boston_df = boston_df.dropna() # Remove missing values\n"
      ]
    },
    {
      "cell_type": "markdown",
      "source": [
        "### Prepare Data for RDD Analysis\n",
        "\n",
        "RDD (Regression Discontinuity Design) is a quasi-experimental design used to estimate causal effects when treatment assignment is determined by a cutoff on a continuous variable. In this example, we will use the Boston Housing dataset to demonstrate how to implement RDD using the {grf}\n"
      ],
      "metadata": {
        "id": "9x-DrvvKzMqT"
      }
    },
    {
      "cell_type": "code",
      "source": [
        "# Prepare Data for RDD Analysis (using boston_df)\n",
        "try:\n",
        "    Z = boston_df['NOX'].values  # Running variable (nitric oxides concentration)\n",
        "    cutoff = np.median(Z)  # Cutoff at median NOX\n",
        "    W = (Z >= cutoff).astype(int)  # Treatment: 1 if NOX >= cutoff, else 0\n",
        "    Y = boston_df['medv'].values  # Outcome: median value of owner-occupied homes\n",
        "    X_covariates = boston_df.drop(['medv', 'NOX'], axis=1)  # Covariates excluding outcome & running variable\n",
        "    X_matrix_covariates = np.array(X_covariates)  # Convert to numpy array for R compatibility (if needed)\n",
        "\n",
        "except KeyError as e:\n",
        "    print(f\"Error accessing columns in boston_df: {str(e)}\")\n",
        "    print(\"Available columns:\", boston_df.columns.tolist())\n",
        "    raise"
      ],
      "metadata": {
        "id": "0xVTHc0vzTDJ"
      },
      "execution_count": 70,
      "outputs": []
    },
    {
      "cell_type": "markdown",
      "metadata": {
        "id": "IYYxCKtVtO-I"
      },
      "source": [
        "### Imbens-Kalyanaraman (IK) Optimal Bandwidth and Kernel Weights\n",
        "\n",
        "To implement Regression discontinuity designs (RDD) using the `grf` package, we first need to compute the bandwidth for the running variable and then apply kernel weights to subset the data. First we will use our coustom `IKbandwith()` function to calculate the `Imbens-Kalyanaraman optimal bandwidth` for local linear regression in RDD."
      ]
    },
    {
      "cell_type": "code",
      "execution_count": 71,
      "metadata": {
        "id": "jbX9jRGczLuL",
        "colab": {
          "base_uri": "https://localhost:8080/"
        },
        "outputId": "882820f7-34d8-43c1-bca3-c5e2e52ec88d"
      },
      "outputs": [
        {
          "output_type": "stream",
          "name": "stdout",
          "text": [
            "Using fallback approximation for IK bandwidth calculation.\n",
            "Calculated IK Bandwidth: 0.0771011422807454\n"
          ]
        }
      ],
      "source": [
        "# Compute Imbens-Kalyanaraman (IK) Optimal Bandwidth using our Python function (or R if available)\n",
        "try:\n",
        "    bandwidth_py = IKbandwidth(Z, Y, cutoff)\n",
        "    print(f\"Calculated IK Bandwidth: {bandwidth_py}\")\n",
        "except Exception as e:\n",
        "    print(f\"Error computing IK bandwidth: {str(e)}\")\n",
        "    # Fallback to a simple bandwidth if calculation fails\n",
        "    n = len(Z)\n",
        "    bandwidth_py = 1.06 * np.std(Z) * n ** (-1/5)\n",
        "    print(f\"Fallback to Silverman's rule bandwidth: {bandwidth_py}\")\n"
      ]
    },
    {
      "cell_type": "markdown",
      "metadata": {
        "id": "2KI7kD5R0Qa9"
      },
      "source": [
        "Then we will calculate the kernel weights using the using our function `kernelwts_py()` function. This function will calculate the appropriate kernel weights for a vector. This is useful when, for instance, one wishes to perform local regression."
      ]
    },
    {
      "cell_type": "code",
      "execution_count": 72,
      "metadata": {
        "id": "JipnL_6X0RJl",
        "colab": {
          "base_uri": "https://localhost:8080/"
        },
        "outputId": "302c3c91-1808-41c5-ed33-c98572d27958"
      },
      "outputs": [
        {
          "output_type": "stream",
          "name": "stdout",
          "text": [
            "\n",
            "Number of samples within bandwidth: 226\n"
          ]
        }
      ],
      "source": [
        "# Compute triangular kernel weights using our Python function\n",
        "def kernelwts_py(Z, cutoff, bandwidth, kernel=\"triangular\"):\n",
        "    h = bandwidth\n",
        "    u = (Z - cutoff) / h\n",
        "    if kernel == \"triangular\":\n",
        "        weights = np.maximum(0, 1 - np.abs(u)) # Corrected line\n",
        "    else:\n",
        "        raise ValueError(\"Only triangular kernel is implemented\")\n",
        "    return weights\n",
        "\n",
        "# Calculate sample weights and subset the data within the bandwidth\n",
        "sample_weights_py = kernelwts_py(Z, cutoff, bandwidth_py)\n",
        "subset_py = sample_weights_py > 0\n",
        "\n",
        "print(f\"\\nNumber of samples within bandwidth: {sum(subset_py)}\")\n"
      ]
    },
    {
      "cell_type": "markdown",
      "metadata": {
        "id": "jxK5d0frBs8O"
      },
      "source": [
        "### Fit Local Linear Forest Targeting RDD Effect\n",
        "\n",
        "We will use the `lm_forest()` function from the `{grf}` package to fit a local linear forest model that targets the RDD effect. The `gradient.weights` argument is set to `c(1, 0)` to indicate that we are interested in estimating the treatment effect (tau) at each point in the running variable."
      ]
    },
    {
      "cell_type": "code",
      "execution_count": 73,
      "metadata": {
        "id": "Ou9edbC9Bt5M",
        "colab": {
          "base_uri": "https://localhost:8080/"
        },
        "outputId": "6d55812e-2f40-4d0c-ee18-1e0fbc57e0cf"
      },
      "outputs": [
        {
          "output_type": "stream",
          "name": "stdout",
          "text": [
            "GRF forest object of type lm_forest \n",
            "Number of trees: 2000 \n",
            "Number of training samples: 226 \n",
            "Variable importance: \n",
            "    1     2     3     4     5     6     7     8     9    10    11    12 \n",
            "0.121 0.062 0.148 0.002 0.087 0.050 0.093 0.012 0.082 0.222 0.040 0.082 \n",
            "\n"
          ]
        }
      ],
      "source": [
        "# Fit Local Linear Forest Targeting RDD Effect using grf\n",
        "if grf is None:\n",
        "    raise Exception(\"grf package is required but not installed.\")\n",
        "X_subset = X_matrix_covariates[subset_py, :]\n",
        "Y_subset = Y[subset_py]\n",
        "W_subset = W[subset_py]\n",
        "Z_subset = Z[subset_py]\n",
        "sample_weights_subset = sample_weights_py[subset_py]\n",
        "\n",
        "# Convert data to R objects\n",
        "X_r = ro.r.matrix(X_subset, nrow=X_subset.shape[0], ncol=X_subset.shape[1])\n",
        "Y_r = ro.FloatVector(Y_subset)\n",
        "WZ_r = ro.r.matrix(np.column_stack([W_subset, Z_subset]), nrow=sum(subset_py), ncol=2)\n",
        "sample_weights_r = ro.FloatVector(sample_weights_subset)\n",
        "gradient_weights_r = ro.FloatVector([1, 0])\n",
        "\n",
        "# Fit lm_forest\n",
        "try:\n",
        "    lmf = grf.lm_forest(X_r, Y_r, WZ_r, sample_weights=sample_weights_r, gradient_weights=gradient_weights_r)\n",
        "    print(lmf)\n",
        "except Exception as e:\n",
        "    print(f\"Error fitting lm_forest: {str(e)}\")\n",
        "    raise"
      ]
    },
    {
      "cell_type": "markdown",
      "metadata": {
        "id": "7KgHx7kY9EEg"
      },
      "source": [
        "### Extract RDD Estimates (tau at each x)"
      ]
    },
    {
      "cell_type": "code",
      "execution_count": 74,
      "metadata": {
        "colab": {
          "base_uri": "https://localhost:8080/"
        },
        "id": "m0vovr-CfwBZ",
        "outputId": "6dd6654e-8160-40e9-d265-079173a99dbb"
      },
      "outputs": [
        {
          "output_type": "stream",
          "name": "stdout",
          "text": [
            "First few RDD treatment effect estimates (tau.hat):\n",
            "[[10.4095273 ]\n",
            " [ 3.10756689]\n",
            " [-0.10688567]\n",
            " [ 1.96822885]\n",
            " [ 2.71713393]]\n"
          ]
        }
      ],
      "source": [
        "# Extract RDD Estimates (tau at each x)\n",
        "tau_hat = ro.r.predict(lmf).rx2('predictions')[:, 0]\n",
        "# Display first few RDD treatment effect estimates\n",
        "print(\"First few RDD treatment effect estimates (tau.hat):\")\n",
        "print(tau_hat[:5])"
      ]
    },
    {
      "cell_type": "code",
      "source": [
        "# Summary and diagnostics\n",
        "print(\"\\nSummary of tau.hat:\")\n",
        "# Flatten tau_hat to ensure it's 1-dimensional for pd.Series\n",
        "print(pd.Series(tau_hat.flatten()).describe())\n",
        "\n",
        "# Plot histogram of estimated RDD effects\n",
        "plt.figure(figsize=(5.5, 5))\n",
        "plt.hist(tau_hat.flatten(), bins=30, color='steelblue') # Also flatten for histogram\n",
        "plt.title(\"Estimated RDD Effects (tau.hat)\")\n",
        "plt.xlabel(\"tau.hat\")\n",
        "plt.ylabel(\"Frequency\")\n",
        "plt.show()"
      ],
      "metadata": {
        "colab": {
          "base_uri": "https://localhost:8080/",
          "height": 678
        },
        "id": "Bez7Msi852X_",
        "outputId": "f1255e3b-9b9a-4781-81f6-b9e19488a450"
      },
      "execution_count": 75,
      "outputs": [
        {
          "output_type": "stream",
          "name": "stdout",
          "text": [
            "\n",
            "Summary of tau.hat:\n",
            "count    226.000000\n",
            "mean      -1.436747\n",
            "std        2.220702\n",
            "min       -7.107399\n",
            "25%       -2.710928\n",
            "50%       -1.427106\n",
            "75%       -0.030738\n",
            "max       10.409527\n",
            "dtype: float64\n"
          ]
        },
        {
          "output_type": "display_data",
          "data": {
            "text/plain": [
              "<Figure size 550x500 with 1 Axes>"
            ],
            "image/png": "[encoded data removed]"
          },
          "metadata": {}
        }
      ]
    },
    {
      "cell_type": "markdown",
      "source": [
        "### Prediction and Visualization"
      ],
      "metadata": {
        "id": "tMGzwdza71Qu"
      }
    },
    {
      "cell_type": "code",
      "source": [
        "# Prediction and Visualization\n",
        "Y_pred = ro.r.predict(lmf).rx2('predictions')[:, 0]\n",
        "Y_obs = Y_subset\n",
        "\n",
        "plt.figure(figsize=(5.8, 5))\n",
        "plt.scatter(Y_obs, Y_pred, c='blue', alpha=0.5)\n",
        "plt.xlabel(\"Observed Median Value (Y)\")\n",
        "plt.ylabel(\"Predicted Median Value\")\n",
        "plt.title(\"Predicted vs Observed Median House Prices\")\n",
        "plt.show()"
      ],
      "metadata": {
        "colab": {
          "base_uri": "https://localhost:8080/",
          "height": 487
        },
        "id": "gb2EtLC472c3",
        "outputId": "03cef9f2-4c91-4152-9dcf-ebb83985f154"
      },
      "execution_count": 76,
      "outputs": [
        {
          "output_type": "display_data",
          "data": {
            "text/plain": [
              "<Figure size 580x500 with 1 Axes>"
            ],
            "image/png": "[encoded data removed]"
          },
          "metadata": {}
        }
      ]
    },
    {
      "cell_type": "markdown",
      "metadata": {
        "id": "q8IDjanqCJly"
      },
      "source": [
        "### Variable Importance"
      ]
    },
    {
      "cell_type": "code",
      "source": [
        "# Variable Importance\n",
        "importance = np.array(grf.variable_importance(lmf))\n",
        "importance_df = pd.DataFrame({\n",
        "    'Variable': X.columns,\n",
        "    'Importance': importance.flatten()\n",
        "}).sort_values('Importance', ascending=False)\n",
        "\n",
        "# Plot variable importance\n",
        "plt.figure(figsize=(5.5, 5))\n",
        "sns.barplot(x='Importance', y='Variable', data=importance_df, color='steelblue')\n",
        "plt.title(\"Variable Importance in Linear Model Forest\")\n",
        "plt.xlabel(\"Importance\")\n",
        "plt.ylabel(\"Variables\")\n",
        "plt.show()"
      ],
      "metadata": {
        "colab": {
          "base_uri": "https://localhost:8080/",
          "height": 487
        },
        "id": "G8yXoCmB9RmL",
        "outputId": "e2c678e2-8924-432f-fea3-1ed05dcdec29"
      },
      "execution_count": 77,
      "outputs": [
        {
          "output_type": "display_data",
          "data": {
            "text/plain": [
              "<Figure size 550x500 with 1 Axes>"
            ],
            "image/png": "[encoded data removed]"
          },
          "metadata": {}
        }
      ]
    },
    {
      "cell_type": "markdown",
      "source": [
        "## Regression Forest"
      ],
      "metadata": {
        "id": "r5mMu8pq7U0v"
      }
    },
    {
      "cell_type": "markdown",
      "source": [
        "A **Regression Forest** is a machine learning model that extends the random forest algorithm to predict continuous outcomes (regression tasks). It consists of an ensemble of decision trees, each trained on a random subset of the data and features, to estimate the conditional mean $E[Y|X=x]$, where $Y$ is the outcome and \\( X \\) are the features. Here's a concise overview:\n",
        "\n",
        "`Key Characteristics`\n",
        "- **Ensemble of Trees**: Combines predictions from multiple decision trees (e.g., hundreds or thousands) to reduce overfitting and improve accuracy.\n",
        "- **Randomization**: Each tree is trained on:\n",
        "  - A random subsample of the data (via bootstrapping or subsampling).\n",
        "  - A random subset of features at each split.\n",
        "- **Prediction**: The final prediction is the average of the predictions from all trees, providing a robust estimate of the expected outcome.\n",
        "- **Honest Splitting** (in some implementations): Splits data into two parts—one for choosing tree splits and another for estimating outcomes in leaves—to reduce bias.\n",
        "- **Confidence Intervals** (in advanced implementations): Can provide uncertainty estimates for predictions, e.g., via bootstrap methods.\n",
        "\n",
        "`Specific to `econml.grf.RegressionForest` (Python)`\n",
        "- Part of the `econml` library, designed for econometrics and causal inference.\n",
        "- Built on scikit-learn’s regression trees, supporting honest splitting and confidence intervals via a \"bootstrap-of-little-bags\" approach.\n",
        "- Used for estimating $E[Y|X=x]$ or as a component in causal models (e.g., `CausalForest`).\n",
        "- Key parameters: `n_estimators`, `max_depth`, `max_samples`, `honest`.\n",
        "\n",
        "`Comparison to `lm_forest()` (R, grf)`\n",
        "Unlike `lm_forest()`, which estimates heterogeneous linear coefficients $h_k(x)$for covariates $W$ in a model $Y = c(x) + h_1(x)W_1 + \\dots$, `RegressionForest` focuses on direct outcome prediction without assuming a linear relationship with additional covariates.\n",
        "\n",
        "`Use Cases`\n",
        "- Predicting continuous outcomes (e.g., house prices, sales forecasts).\n",
        "- Serving as a building block in causal inference pipelines (e.g., residualization in double machine learning).\n",
        "- Applications requiring uncertainty quantification (e.g., confidence intervals for predictions).\n",
        "\n",
        "\n"
      ],
      "metadata": {
        "id": "5SwiZY3igwLA"
      }
    },
    {
      "cell_type": "code",
      "source": [
        "!pip install econml"
      ],
      "metadata": {
        "id": "zBjTmepsbyXv"
      },
      "execution_count": null,
      "outputs": []
    },
    {
      "cell_type": "code",
      "source": [
        "import pandas as pd\n",
        "import numpy as np\n",
        "from econml.grf import RegressionForest\n",
        "from sklearn.model_selection import train_test_split, cross_val_score\n",
        "from sklearn.metrics import mean_squared_error, r2_score\n",
        "import matplotlib.pyplot as plt"
      ],
      "metadata": {
        "id": "nu32yGWwbu0Q"
      },
      "execution_count": 3,
      "outputs": []
    },
    {
      "cell_type": "markdown",
      "source": [
        "### Data"
      ],
      "metadata": {
        "id": "tmxR8vnvcCAF"
      }
    },
    {
      "cell_type": "code",
      "source": [
        "# Load and prepare the Boston Housing dataset\n",
        "data_url = \"http://lib.stat.cmu.edu/datasets/boston\"\n",
        "raw_df = pd.read_csv(data_url, sep=\"\\s+\", skiprows=22, header=None)\n",
        "data = np.hstack([raw_df.values[::2, :], raw_df.values[1::2, :2]])\n",
        "target = raw_df.values[1::2, 2]\n",
        "feature_names = ['CRIM', 'ZN', 'INDUS', 'CHAS', 'NOX', 'RM', 'AGE', 'DIS', 'RAD', 'TAX', 'PTRATIO', 'B', 'LSTAT']\n",
        "boston_df = pd.DataFrame(data, columns=feature_names)\n",
        "boston_df['medv'] = target\n",
        "boston_df = boston_df.dropna()\n",
        "\n",
        "# Prepare features and target\n",
        "X = boston_df[feature_names]\n",
        "y = boston_df['medv']\n",
        "\n",
        "# Split data into training and testing sets\n",
        "X_train, X_test, y_train, y_test = train_test_split(X, y, test_size=0.2, random_state=42)\n"
      ],
      "metadata": {
        "id": "rBL3IbVRb9WB"
      },
      "execution_count": 5,
      "outputs": []
    },
    {
      "cell_type": "markdown",
      "source": [
        "### Initialize and fit the RegressionForest model"
      ],
      "metadata": {
        "id": "BG4sFp7QcKYO"
      }
    },
    {
      "cell_type": "code",
      "source": [
        "# Initialize and fit the RegressionForest model\n",
        "regr = RegressionForest(n_estimators=1000, max_depth=10, min_samples_leaf=5, random_state=42, honest=True)\n",
        "regr.fit(X_train, y_train)"
      ],
      "metadata": {
        "colab": {
          "base_uri": "https://localhost:8080/",
          "height": 80
        },
        "id": "hsw6-FqicMU4",
        "outputId": "cb9f22cf-5345-411c-f0ce-2eee1654d73e"
      },
      "execution_count": 6,
      "outputs": [
        {
          "output_type": "execute_result",
          "data": {
            "text/plain": [
              "RegressionForest(max_depth=10, n_estimators=1000, random_state=42)"
            ],
            "text/html": [
              "<style>#sk-container-id-1 {\n",
              "  /* Definition of color scheme common for light and dark mode */\n",
              "  --sklearn-color-text: #000;\n",
              "  --sklearn-color-text-muted: #666;\n",
              "  --sklearn-color-line: gray;\n",
              "  /* Definition of color scheme for unfitted estimators */\n",
              "  --sklearn-color-unfitted-level-0: #fff5e6;\n",
              "  --sklearn-color-unfitted-level-1: #f6e4d2;\n",
              "  --sklearn-color-unfitted-level-2: #ffe0b3;\n",
              "  --sklearn-color-unfitted-level-3: chocolate;\n",
              "  /* Definition of color scheme for fitted estimators */\n",
              "  --sklearn-color-fitted-level-0: #f0f8ff;\n",
              "  --sklearn-color-fitted-level-1: #d4ebff;\n",
              "  --sklearn-color-fitted-level-2: #b3dbfd;\n",
              "  --sklearn-color-fitted-level-3: cornflowerblue;\n",
              "\n",
              "  /* Specific color for light theme */\n",
              "  --sklearn-color-text-on-default-background: var(--sg-text-color, var(--theme-code-foreground, var(--jp-content-font-color1, black)));\n",
              "  --sklearn-color-background: var(--sg-background-color, var(--theme-background, var(--jp-layout-color0, white)));\n",
              "  --sklearn-color-border-box: var(--sg-text-color, var(--theme-code-foreground, var(--jp-content-font-color1, black)));\n",
              "  --sklearn-color-icon: #696969;\n",
              "\n",
              "  @media (prefers-color-scheme: dark) {\n",
              "    /* Redefinition of color scheme for dark theme */\n",
              "    --sklearn-color-text-on-default-background: var(--sg-text-color, var(--theme-code-foreground, var(--jp-content-font-color1, white)));\n",
              "    --sklearn-color-background: var(--sg-background-color, var(--theme-background, var(--jp-layout-color0, #111)));\n",
              "    --sklearn-color-border-box: var(--sg-text-color, var(--theme-code-foreground, var(--jp-content-font-color1, white)));\n",
              "    --sklearn-color-icon: #878787;\n",
              "  }\n",
              "}\n",
              "\n",
              "#sk-container-id-1 {\n",
              "  color: var(--sklearn-color-text);\n",
              "}\n",
              "\n",
              "#sk-container-id-1 pre {\n",
              "  padding: 0;\n",
              "}\n",
              "\n",
              "#sk-container-id-1 input.sk-hidden--visually {\n",
              "  border: 0;\n",
              "  clip: rect(1px 1px 1px 1px);\n",
              "  clip: rect(1px, 1px, 1px, 1px);\n",
              "  height: 1px;\n",
              "  margin: -1px;\n",
              "  overflow: hidden;\n",
              "  padding: 0;\n",
              "  position: absolute;\n",
              "  width: 1px;\n",
              "}\n",
              "\n",
              "#sk-container-id-1 div.sk-dashed-wrapped {\n",
              "  border: 1px dashed var(--sklearn-color-line);\n",
              "  margin: 0 0.4em 0.5em 0.4em;\n",
              "  box-sizing: border-box;\n",
              "  padding-bottom: 0.4em;\n",
              "  background-color: var(--sklearn-color-background);\n",
              "}\n",
              "\n",
              "#sk-container-id-1 div.sk-container {\n",
              "  /* jupyter's `normalize.less` sets `[hidden] { display: none; }`\n",
              "     but bootstrap.min.css set `[hidden] { display: none !important; }`\n",
              "     so we also need the `!important` here to be able to override the\n",
              "     default hidden behavior on the sphinx rendered scikit-learn.org.\n",
              "     See: https://github.com/scikit-learn/scikit-learn/issues/21755 */\n",
              "  display: inline-block !important;\n",
              "  position: relative;\n",
              "}\n",
              "\n",
              "#sk-container-id-1 div.sk-text-repr-fallback {\n",
              "  display: none;\n",
              "}\n",
              "\n",
              "div.sk-parallel-item,\n",
              "div.sk-serial,\n",
              "div.sk-item {\n",
              "  /* draw centered vertical line to link estimators */\n",
              "  background-image: linear-gradient(var(--sklearn-color-text-on-default-background), var(--sklearn-color-text-on-default-background));\n",
              "  background-size: 2px 100%;\n",
              "  background-repeat: no-repeat;\n",
              "  background-position: center center;\n",
              "}\n",
              "\n",
              "/* Parallel-specific style estimator block */\n",
              "\n",
              "#sk-container-id-1 div.sk-parallel-item::after {\n",
              "  content: \"\";\n",
              "  width: 100%;\n",
              "  border-bottom: 2px solid var(--sklearn-color-text-on-default-background);\n",
              "  flex-grow: 1;\n",
              "}\n",
              "\n",
              "#sk-container-id-1 div.sk-parallel {\n",
              "  display: flex;\n",
              "  align-items: stretch;\n",
              "  justify-content: center;\n",
              "  background-color: var(--sklearn-color-background);\n",
              "  position: relative;\n",
              "}\n",
              "\n",
              "#sk-container-id-1 div.sk-parallel-item {\n",
              "  display: flex;\n",
              "  flex-direction: column;\n",
              "}\n",
              "\n",
              "#sk-container-id-1 div.sk-parallel-item:first-child::after {\n",
              "  align-self: flex-end;\n",
              "  width: 50%;\n",
              "}\n",
              "\n",
              "#sk-container-id-1 div.sk-parallel-item:last-child::after {\n",
              "  align-self: flex-start;\n",
              "  width: 50%;\n",
              "}\n",
              "\n",
              "#sk-container-id-1 div.sk-parallel-item:only-child::after {\n",
              "  width: 0;\n",
              "}\n",
              "\n",
              "/* Serial-specific style estimator block */\n",
              "\n",
              "#sk-container-id-1 div.sk-serial {\n",
              "  display: flex;\n",
              "  flex-direction: column;\n",
              "  align-items: center;\n",
              "  background-color: var(--sklearn-color-background);\n",
              "  padding-right: 1em;\n",
              "  padding-left: 1em;\n",
              "}\n",
              "\n",
              "\n",
              "/* Toggleable style: style used for estimator/Pipeline/ColumnTransformer box that is\n",
              "clickable and can be expanded/collapsed.\n",
              "- Pipeline and ColumnTransformer use this feature and define the default style\n",
              "- Estimators will overwrite some part of the style using the `sk-estimator` class\n",
              "*/\n",
              "\n",
              "/* Pipeline and ColumnTransformer style (default) */\n",
              "\n",
              "#sk-container-id-1 div.sk-toggleable {\n",
              "  /* Default theme specific background. It is overwritten whether we have a\n",
              "  specific estimator or a Pipeline/ColumnTransformer */\n",
              "  background-color: var(--sklearn-color-background);\n",
              "}\n",
              "\n",
              "/* Toggleable label */\n",
              "#sk-container-id-1 label.sk-toggleable__label {\n",
              "  cursor: pointer;\n",
              "  display: flex;\n",
              "  width: 100%;\n",
              "  margin-bottom: 0;\n",
              "  padding: 0.5em;\n",
              "  box-sizing: border-box;\n",
              "  text-align: center;\n",
              "  align-items: start;\n",
              "  justify-content: space-between;\n",
              "  gap: 0.5em;\n",
              "}\n",
              "\n",
              "#sk-container-id-1 label.sk-toggleable__label .caption {\n",
              "  font-size: 0.6rem;\n",
              "  font-weight: lighter;\n",
              "  color: var(--sklearn-color-text-muted);\n",
              "}\n",
              "\n",
              "#sk-container-id-1 label.sk-toggleable__label-arrow:before {\n",
              "  /* Arrow on the left of the label */\n",
              "  content: \"▸\";\n",
              "  float: left;\n",
              "  margin-right: 0.25em;\n",
              "  color: var(--sklearn-color-icon);\n",
              "}\n",
              "\n",
              "#sk-container-id-1 label.sk-toggleable__label-arrow:hover:before {\n",
              "  color: var(--sklearn-color-text);\n",
              "}\n",
              "\n",
              "/* Toggleable content - dropdown */\n",
              "\n",
              "#sk-container-id-1 div.sk-toggleable__content {\n",
              "  max-height: 0;\n",
              "  max-width: 0;\n",
              "  overflow: hidden;\n",
              "  text-align: left;\n",
              "  /* unfitted */\n",
              "  background-color: var(--sklearn-color-unfitted-level-0);\n",
              "}\n",
              "\n",
              "#sk-container-id-1 div.sk-toggleable__content.fitted {\n",
              "  /* fitted */\n",
              "  background-color: var(--sklearn-color-fitted-level-0);\n",
              "}\n",
              "\n",
              "#sk-container-id-1 div.sk-toggleable__content pre {\n",
              "  margin: 0.2em;\n",
              "  border-radius: 0.25em;\n",
              "  color: var(--sklearn-color-text);\n",
              "  /* unfitted */\n",
              "  background-color: var(--sklearn-color-unfitted-level-0);\n",
              "}\n",
              "\n",
              "#sk-container-id-1 div.sk-toggleable__content.fitted pre {\n",
              "  /* unfitted */\n",
              "  background-color: var(--sklearn-color-fitted-level-0);\n",
              "}\n",
              "\n",
              "#sk-container-id-1 input.sk-toggleable__control:checked~div.sk-toggleable__content {\n",
              "  /* Expand drop-down */\n",
              "  max-height: 200px;\n",
              "  max-width: 100%;\n",
              "  overflow: auto;\n",
              "}\n",
              "\n",
              "#sk-container-id-1 input.sk-toggleable__control:checked~label.sk-toggleable__label-arrow:before {\n",
              "  content: \"▾\";\n",
              "}\n",
              "\n",
              "/* Pipeline/ColumnTransformer-specific style */\n",
              "\n",
              "#sk-container-id-1 div.sk-label input.sk-toggleable__control:checked~label.sk-toggleable__label {\n",
              "  color: var(--sklearn-color-text);\n",
              "  background-color: var(--sklearn-color-unfitted-level-2);\n",
              "}\n",
              "\n",
              "#sk-container-id-1 div.sk-label.fitted input.sk-toggleable__control:checked~label.sk-toggleable__label {\n",
              "  background-color: var(--sklearn-color-fitted-level-2);\n",
              "}\n",
              "\n",
              "/* Estimator-specific style */\n",
              "\n",
              "/* Colorize estimator box */\n",
              "#sk-container-id-1 div.sk-estimator input.sk-toggleable__control:checked~label.sk-toggleable__label {\n",
              "  /* unfitted */\n",
              "  background-color: var(--sklearn-color-unfitted-level-2);\n",
              "}\n",
              "\n",
              "#sk-container-id-1 div.sk-estimator.fitted input.sk-toggleable__control:checked~label.sk-toggleable__label {\n",
              "  /* fitted */\n",
              "  background-color: var(--sklearn-color-fitted-level-2);\n",
              "}\n",
              "\n",
              "#sk-container-id-1 div.sk-label label.sk-toggleable__label,\n",
              "#sk-container-id-1 div.sk-label label {\n",
              "  /* The background is the default theme color */\n",
              "  color: var(--sklearn-color-text-on-default-background);\n",
              "}\n",
              "\n",
              "/* On hover, darken the color of the background */\n",
              "#sk-container-id-1 div.sk-label:hover label.sk-toggleable__label {\n",
              "  color: var(--sklearn-color-text);\n",
              "  background-color: var(--sklearn-color-unfitted-level-2);\n",
              "}\n",
              "\n",
              "/* Label box, darken color on hover, fitted */\n",
              "#sk-container-id-1 div.sk-label.fitted:hover label.sk-toggleable__label.fitted {\n",
              "  color: var(--sklearn-color-text);\n",
              "  background-color: var(--sklearn-color-fitted-level-2);\n",
              "}\n",
              "\n",
              "/* Estimator label */\n",
              "\n",
              "#sk-container-id-1 div.sk-label label {\n",
              "  font-family: monospace;\n",
              "  font-weight: bold;\n",
              "  display: inline-block;\n",
              "  line-height: 1.2em;\n",
              "}\n",
              "\n",
              "#sk-container-id-1 div.sk-label-container {\n",
              "  text-align: center;\n",
              "}\n",
              "\n",
              "/* Estimator-specific */\n",
              "#sk-container-id-1 div.sk-estimator {\n",
              "  font-family: monospace;\n",
              "  border: 1px dotted var(--sklearn-color-border-box);\n",
              "  border-radius: 0.25em;\n",
              "  box-sizing: border-box;\n",
              "  margin-bottom: 0.5em;\n",
              "  /* unfitted */\n",
              "  background-color: var(--sklearn-color-unfitted-level-0);\n",
              "}\n",
              "\n",
              "#sk-container-id-1 div.sk-estimator.fitted {\n",
              "  /* fitted */\n",
              "  background-color: var(--sklearn-color-fitted-level-0);\n",
              "}\n",
              "\n",
              "/* on hover */\n",
              "#sk-container-id-1 div.sk-estimator:hover {\n",
              "  /* unfitted */\n",
              "  background-color: var(--sklearn-color-unfitted-level-2);\n",
              "}\n",
              "\n",
              "#sk-container-id-1 div.sk-estimator.fitted:hover {\n",
              "  /* fitted */\n",
              "  background-color: var(--sklearn-color-fitted-level-2);\n",
              "}\n",
              "\n",
              "/* Specification for estimator info (e.g. \"i\" and \"?\") */\n",
              "\n",
              "/* Common style for \"i\" and \"?\" */\n",
              "\n",
              ".sk-estimator-doc-link,\n",
              "a:link.sk-estimator-doc-link,\n",
              "a:visited.sk-estimator-doc-link {\n",
              "  float: right;\n",
              "  font-size: smaller;\n",
              "  line-height: 1em;\n",
              "  font-family: monospace;\n",
              "  background-color: var(--sklearn-color-background);\n",
              "  border-radius: 1em;\n",
              "  height: 1em;\n",
              "  width: 1em;\n",
              "  text-decoration: none !important;\n",
              "  margin-left: 0.5em;\n",
              "  text-align: center;\n",
              "  /* unfitted */\n",
              "  border: var(--sklearn-color-unfitted-level-1) 1pt solid;\n",
              "  color: var(--sklearn-color-unfitted-level-1);\n",
              "}\n",
              "\n",
              ".sk-estimator-doc-link.fitted,\n",
              "a:link.sk-estimator-doc-link.fitted,\n",
              "a:visited.sk-estimator-doc-link.fitted {\n",
              "  /* fitted */\n",
              "  border: var(--sklearn-color-fitted-level-1) 1pt solid;\n",
              "  color: var(--sklearn-color-fitted-level-1);\n",
              "}\n",
              "\n",
              "/* On hover */\n",
              "div.sk-estimator:hover .sk-estimator-doc-link:hover,\n",
              ".sk-estimator-doc-link:hover,\n",
              "div.sk-label-container:hover .sk-estimator-doc-link:hover,\n",
              ".sk-estimator-doc-link:hover {\n",
              "  /* unfitted */\n",
              "  background-color: var(--sklearn-color-unfitted-level-3);\n",
              "  color: var(--sklearn-color-background);\n",
              "  text-decoration: none;\n",
              "}\n",
              "\n",
              "div.sk-estimator.fitted:hover .sk-estimator-doc-link.fitted:hover,\n",
              ".sk-estimator-doc-link.fitted:hover,\n",
              "div.sk-label-container:hover .sk-estimator-doc-link.fitted:hover,\n",
              ".sk-estimator-doc-link.fitted:hover {\n",
              "  /* fitted */\n",
              "  background-color: var(--sklearn-color-fitted-level-3);\n",
              "  color: var(--sklearn-color-background);\n",
              "  text-decoration: none;\n",
              "}\n",
              "\n",
              "/* Span, style for the box shown on hovering the info icon */\n",
              ".sk-estimator-doc-link span {\n",
              "  display: none;\n",
              "  z-index: 9999;\n",
              "  position: relative;\n",
              "  font-weight: normal;\n",
              "  right: .2ex;\n",
              "  padding: .5ex;\n",
              "  margin: .5ex;\n",
              "  width: min-content;\n",
              "  min-width: 20ex;\n",
              "  max-width: 50ex;\n",
              "  color: var(--sklearn-color-text);\n",
              "  box-shadow: 2pt 2pt 4pt #999;\n",
              "  /* unfitted */\n",
              "  background: var(--sklearn-color-unfitted-level-0);\n",
              "  border: .5pt solid var(--sklearn-color-unfitted-level-3);\n",
              "}\n",
              "\n",
              ".sk-estimator-doc-link.fitted span {\n",
              "  /* fitted */\n",
              "  background: var(--sklearn-color-fitted-level-0);\n",
              "  border: var(--sklearn-color-fitted-level-3);\n",
              "}\n",
              "\n",
              ".sk-estimator-doc-link:hover span {\n",
              "  display: block;\n",
              "}\n",
              "\n",
              "/* \"?\"-specific style due to the `<a>` HTML tag */\n",
              "\n",
              "#sk-container-id-1 a.estimator_doc_link {\n",
              "  float: right;\n",
              "  font-size: 1rem;\n",
              "  line-height: 1em;\n",
              "  font-family: monospace;\n",
              "  background-color: var(--sklearn-color-background);\n",
              "  border-radius: 1rem;\n",
              "  height: 1rem;\n",
              "  width: 1rem;\n",
              "  text-decoration: none;\n",
              "  /* unfitted */\n",
              "  color: var(--sklearn-color-unfitted-level-1);\n",
              "  border: var(--sklearn-color-unfitted-level-1) 1pt solid;\n",
              "}\n",
              "\n",
              "#sk-container-id-1 a.estimator_doc_link.fitted {\n",
              "  /* fitted */\n",
              "  border: var(--sklearn-color-fitted-level-1) 1pt solid;\n",
              "  color: var(--sklearn-color-fitted-level-1);\n",
              "}\n",
              "\n",
              "/* On hover */\n",
              "#sk-container-id-1 a.estimator_doc_link:hover {\n",
              "  /* unfitted */\n",
              "  background-color: var(--sklearn-color-unfitted-level-3);\n",
              "  color: var(--sklearn-color-background);\n",
              "  text-decoration: none;\n",
              "}\n",
              "\n",
              "#sk-container-id-1 a.estimator_doc_link.fitted:hover {\n",
              "  /* fitted */\n",
              "  background-color: var(--sklearn-color-fitted-level-3);\n",
              "}\n",
              "</style><div id=\"sk-container-id-1\" class=\"sk-top-container\"><div class=\"sk-text-repr-fallback\"><pre>RegressionForest(max_depth=10, n_estimators=1000, random_state=42)</pre><b>In a Jupyter environment, please rerun this cell to show the HTML representation or trust the notebook. <br />On GitHub, the HTML representation is unable to render, please try loading this page with nbviewer.org.</b></div><div class=\"sk-container\" hidden><div class=\"sk-item\"><div class=\"sk-estimator fitted sk-toggleable\"><input class=\"sk-toggleable__control sk-hidden--visually\" id=\"sk-estimator-id-1\" type=\"checkbox\" checked><label for=\"sk-estimator-id-1\" class=\"sk-toggleable__label fitted sk-toggleable__label-arrow\"><div><div>RegressionForest</div></div><div><span class=\"sk-estimator-doc-link fitted\">i<span>Fitted</span></span></div></label><div class=\"sk-toggleable__content fitted\"><pre>RegressionForest(max_depth=10, n_estimators=1000, random_state=42)</pre></div> </div></div></div></div>"
            ]
          },
          "metadata": {},
          "execution_count": 6
        }
      ]
    },
    {
      "cell_type": "markdown",
      "source": [
        "### Prediction and Evaluation"
      ],
      "metadata": {
        "id": "i4wjVBvwcSHD"
      }
    },
    {
      "cell_type": "code",
      "source": [
        "# Predict on test set\n",
        "y_pred = regr.predict(X_test)\n",
        "\n",
        "# Evaluate model performance\n",
        "mse = mean_squared_error(y_test, y_pred)\n",
        "r2 = r2_score(y_test, y_pred)\n",
        "print(f\"Test MSE: {mse:.2f}\")\n",
        "print(f\"Test R^2: {r2:.2f}\")"
      ],
      "metadata": {
        "colab": {
          "base_uri": "https://localhost:8080/"
        },
        "id": "vayge83LcT-7",
        "outputId": "d913e5b8-e21e-43fd-db64-55e2b77838ce"
      },
      "execution_count": 7,
      "outputs": [
        {
          "output_type": "stream",
          "name": "stdout",
          "text": [
            "Test MSE: 18.03\n",
            "Test R^2: 0.75\n"
          ]
        }
      ]
    },
    {
      "cell_type": "code",
      "source": [
        "plt.figure(figsize=(6, 6))\n",
        "plt.scatter(y_test, y_pred, alpha=0.5)\n",
        "plt.plot([y_test.min(), y_test.max()], [y_test.min(), y_test.max()], 'k--', lw=2) # 1:1 line\n",
        "plt.xlabel(\"Observed Values (y_test)\")\n",
        "plt.ylabel(\"Predicted Values (y_pred)\")\n",
        "plt.title(\"Observed vs. Predicted Values (Regression Forest)\")\n",
        "plt.show()"
      ],
      "metadata": {
        "colab": {
          "base_uri": "https://localhost:8080/",
          "height": 564
        },
        "id": "hXc0FLXJcdAQ",
        "outputId": "e3c2b59e-0224-4cf0-a0c2-8abad2c27285"
      },
      "execution_count": 8,
      "outputs": [
        {
          "output_type": "display_data",
          "data": {
            "text/plain": [
              "<Figure size 600x600 with 1 Axes>"
            ],
            "image/png": "[encoded data removed]"
          },
          "metadata": {}
        }
      ]
    },
    {
      "cell_type": "markdown",
      "source": [
        "### Cross-Valiadtion"
      ],
      "metadata": {
        "id": "qKsFtN4jctdR"
      }
    },
    {
      "cell_type": "code",
      "source": [
        "# Perform 5-fold cross-validation\n",
        "cv_scores = cross_val_score(regr, X, y, cv=5, scoring='r2')\n",
        "print(f\"Cross-validation R^2 scores: {cv_scores}\")\n",
        "print(f\"Mean CV R^2: {cv_scores.mean():.2f} (± {cv_scores.std():.2f})\")"
      ],
      "metadata": {
        "colab": {
          "base_uri": "https://localhost:8080/"
        },
        "id": "v_HVCuvVcuR7",
        "outputId": "58fc91f3-6dbd-4305-e9a8-370e05b75a0c"
      },
      "execution_count": 9,
      "outputs": [
        {
          "output_type": "stream",
          "name": "stdout",
          "text": [
            "Cross-validation R^2 scores: [0.78375785 0.8120444  0.55618565 0.40420734 0.26186641]\n",
            "Mean CV R^2: 0.56 (± 0.21)\n"
          ]
        }
      ]
    },
    {
      "cell_type": "markdown",
      "source": [
        "### Feature Importance"
      ],
      "metadata": {
        "id": "cBWRk_PFc8wN"
      }
    },
    {
      "cell_type": "code",
      "source": [
        "# Get feature importance\n",
        "feature_importance = regr.feature_importances_\n",
        "importance_df = pd.DataFrame({'Feature': feature_names, 'Importance': feature_importance})\n",
        "importance_df = importance_df.sort_values(by='Importance', ascending=True)\n",
        "\n",
        "# Plot feature importance\n",
        "plt.figure(figsize=(5, 6))\n",
        "plt.barh(importance_df['Feature'], importance_df['Importance'])\n",
        "plt.xlabel('Features')\n",
        "plt.ylabel('Importance')\n",
        "plt.title('Feature Importance in RegressionForest for Boston Housing')\n",
        "plt.xticks(rotation=45)\n",
        "plt.tight_layout()\n",
        "plt.show()"
      ],
      "metadata": {
        "colab": {
          "base_uri": "https://localhost:8080/",
          "height": 607
        },
        "id": "ad0qP2V6c_NQ",
        "outputId": "557858d9-f07b-4e14-ece6-533a78b7760a"
      },
      "execution_count": 14,
      "outputs": [
        {
          "output_type": "display_data",
          "data": {
            "text/plain": [
              "<Figure size 500x600 with 1 Axes>"
            ],
            "image/png": "[encoded data removed]"
          },
          "metadata": {}
        }
      ]
    },
    {
      "cell_type": "markdown",
      "source": [
        "## Summary and Conclusion\n",
        "\n",
        "This notebook explores two related machine learning models: **Linear Model Forests** and **Regression Forests**, primarily using the Boston Housing dataset to demonstrate their application.\n",
        "\n",
        "1.  **Linear Model Forest**: The notebook first introduces the concept of a Linear Model Forest, explaining how it combines random forest partitioning with local linear models within the leaves to estimate heterogeneous effects. It highlights the key features, how it works, and its differences from other forest types. The practical implementation focuses on using the `grf` R package via `rpy2` in Python to perform a Regression Discontinuity Design (RDD) analysis on the Boston Housing dataset. It calculates the optimal bandwidth, applies kernel weights, fits an `lm_forest` targeting the RDD effect, and visualizes the estimated treatment effects and variable importance.\n",
        "\n",
        "2.  **Regression Forest**: The notebook then shifts to the `econml.grf.RegressionForest` in Python, which is a standard regression forest for predicting continuous outcomes. It describes the key characteristics of regression forests and how the `econml` implementation works, including honest splitting. Using the Boston Housing dataset, it demonstrates loading and preparing the data, training the `RegressionForest` model, evaluating its performance using MSE and R-squared, visualizing observed vs. predicted values, and assessing feature importance.\n",
        "\n",
        "\n",
        "\n",
        "The notebook effectively demonstrates the application of both Linear Model Forests (via RDD with `grf`) and standard Regression Forests (`econml`) for different analytical goals using the Boston Housing dataset. The Linear Model Forest example shows how these models can be used to estimate conditional treatment effects (RDD in this case), providing localized insights. The Regression Forest example illustrates a more traditional predictive modeling task, highlighting performance evaluation and feature importance. Together, these sections provide a practical introduction to fitting and interpreting these powerful tree-based ensemble methods for both causal inference and standard regression problems."
      ],
      "metadata": {
        "id": "fhoXDmzIeMiV"
      }
    },
    {
      "cell_type": "markdown",
      "metadata": {
        "id": "SaZTnZx3QPGI"
      },
      "source": [
        "## References\n",
        "\n",
        "1. Athey, Susan, Julie Tibshirani, and Stefan Wager. \"Generalized Random Forests\". Annals of Statistics, 47(2), 2019.\n",
        "\n",
        "2. Zeileis, Achim, Torsten Hothorn, and Kurt Hornik. \"Model-based Recursive Partitioning.\" Journal of Computational and Graphical Statistics 17(2), 2008.\n",
        "\n",
        "3. [LM Forest](https://grf-labs.github.io/grf/reference/lm_forest.html#references)\n",
        "\n",
        "4. [RegressionForest](https://econml.azurewebsites.net/_autosummary/econml.grf.RegressionForest.html)"
      ]
    }
  ],
  "metadata": {
    "colab": {
      "provenance": [],
      "toc_visible": true,
      "authorship_tag": "ABX9TyOdybMc1J7Xp6JTJ9NCHB1N",
      "include_colab_link": true
    },
    "kernelspec": {
      "display_name": "Python 3",
      "name": "python3"
    },
    "language_info": {
      "name": "python"
    }
  },
  "nbformat": 4,
  "nbformat_minor": 0
}