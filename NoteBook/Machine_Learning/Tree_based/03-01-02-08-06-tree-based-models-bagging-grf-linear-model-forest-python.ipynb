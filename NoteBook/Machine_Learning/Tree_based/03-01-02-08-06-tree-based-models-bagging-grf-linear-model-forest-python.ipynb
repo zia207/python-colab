{
  "cells": [
    {
      "cell_type": "markdown",
      "metadata": {
        "colab_type": "text",
        "id": "view-in-github"
      },
      "source": [
        "<a href=\"https://colab.research.google.com/github/zia207/python-colab/blob/main/NoteBook/Machine_Learning/Tree_based/03-01-02-08-06-tree-based-models-bagging-grf-linear-model-forest-python.ipynb\" target=\"_parent\"><img src=\"https://colab.research.google.com/assets/colab-badge.svg\" alt=\"Open In Colab\"/></a>"
      ]
    },
    {
      "cell_type": "markdown",
      "metadata": {
        "id": "zYZbTX0qQrZb"
      },
      "source": [
        "![alt text](http://drive.google.com/uc?export=view&id=1IFEWet-Aw4DhkkVe1xv_2YYqlvRe9m5_)"
      ]
    },
    {
      "cell_type": "markdown",
      "metadata": {
        "id": "RGBfrL2GQoII"
      },
      "source": [
        "# 2.8.6 Linear Model Forest\n",
        "\n",
        "A **Linear Model Forest** is a machine learning approach that combines the flexibility of random forests with the interpretability of linear models. It is designed to estimate `heterogeneous effects` or `conditional relationships` in data by fitting local linear models within the leaves of a random forest structure. While not a standard term in the `{grf}` package (which focuses on generalized random forests like `causal_forest` or `probability_forest`), the concept is closely related to methods like **Causal Forests with Linear Models** or **Local Linear Forest** extensions, where linear models are used to estimate effects or outcomes at the leaf level. Below, I’ll explain the concept, how it works, and its relevance, keeping it concise and clear.\n"
      ]
    },
    {
      "cell_type": "markdown",
      "metadata": {
        "id": "S77MsgmqIYD0"
      },
      "source": [
        "## Overview\n",
        "\n",
        "Linear Model Forest estimates conditional relationships (e.g., $E[Y|X]$ or treatment effects $E[Y(1) - Y(0)|X]$) by combining the non-parametric partitioning of random forests with linear models applied locally within subgroups (leaves).  Instead of averaging outcomes in each leaf (as in standard random forests), it fits a `linear model` in each leaf to capture relationships between covariates $X$, outcomes $Y$, or treatments $W$.\n",
        "\n"
      ]
    },
    {
      "cell_type": "markdown",
      "metadata": {
        "id": "EnR-z3S9vTpk"
      },
      "source": [
        "### Key Features\n",
        "\n",
        "- `Heterogeneity`: Captures how relationships or effects vary across subgroups defined by $X$.\n",
        "\n",
        "- `Interpretability`: Local linear models provide coefficients, making it easier to understand covariate effects within leaves compared to black-box random forests.\n",
        "\n",
        "- `Flexibility`: Combines non-parametric partitioning (random forest) with parametric modeling (linear models).\n",
        "\n",
        "- `Robustness`: Ensemble averaging reduces variance and overfitting.\n",
        "\n",
        "- `Applications`: Ideal for causal inference (e.g., personalized medicine) or regression tasks where linear relationships hold locally but not globally.\n"
      ]
    },
    {
      "cell_type": "markdown",
      "metadata": {
        "id": "VwEoykvwI2dS"
      },
      "source": [
        "### How It Work\n",
        "\n",
        "A Linear Model Forest modifies the random forest framework as follows:\n",
        "\n",
        "1. Data Setup\n",
        "\n",
        "   - Input: Covariates $X$ (e.g., age, sex), outcome $Y$ (e.g., house price), and optionally a treatment  $W$ (covariates).\n",
        "   - Data is typically a matrix of features $X$, a vector $Y$, and (if causal) a treatment indicator $W$.\n",
        "\n",
        "2. Tree Construction\n",
        "\n",
        "   - Like a random forest, it builds multiple decision trees (e.g., 1000) using bootstrap sampling and random feature selection.\n",
        "   - Each tree partitions the covariate space $X$ into regions (leaves) based on splits that optimize a criterion (e.g., variance reduction or effect heterogeneity).\n",
        "\n",
        "3. Local Linear Models\n",
        "\n",
        "   - In each leaf, instead of computing a simple average (as in standard random forests), a `linear model` is fitted using the observations in that leaf.\n",
        "   - For example:\n",
        "   \n",
        "     - `Regression`: $Y \\sim \\beta_0 + \\beta_1 X_1 + \\beta_2 X_2$ to predict $E[Y|X]$.\n",
        "     \n",
        "     - `Causal`: Estimate treatment effects $\\tau(X) = E[Y(1) - Y(0)|X]$ using a linear model of $Y$ on $W$ and $X$.\n",
        "  \n",
        "   - The linear model leverages local data to capture linear relationships within the leaf’s subgroup.\n",
        "\n",
        "4. Aggregation\n",
        "\n",
        "   - For a given input $X$, each tree assigns $X$ to a leaf, and the local linear model in that leaf provides a prediction (e.g., outcome or treatment effect).\n",
        "   \n",
        "   - The forest averages predictions across all trees to produce a final estimate, ensuring robustness and reducing overfitting.\n",
        "\n",
        "5. Output\n",
        "\n",
        "   - C`onditional predictions` (e.g., $E[Y|X]$) or heterogeneous treatment effects (e.g., $\\tau(X)$).\n",
        "   \n",
        "   - Optionally, `local linear coefficients` for interpretability (e.g., how covariates influence outcomes in specific subgroups)."
      ]
    },
    {
      "cell_type": "markdown",
      "metadata": {
        "id": "bIBhNo81s-Nt"
      },
      "source": [
        "### Differences from Other Forests\n",
        "\n",
        "- `Vs. Standard Random Forest`: Uses simple averages in leaves, not linear models, and is less interpretable for local relationships.\n",
        "\n",
        "- `Vs. Causal Forest`: Estimates treatment effects non-parametrically, while a Linear Model Forest uses linear models for effects within leaves, potentially improving precision if linear assumptions hold locally.\n",
        "\n",
        "- `Vs. Probability Forest`: Focuses on class probabilities for categorical outcomes, not continuous outcomes or treatment effects with linear modeling.\n",
        "\n"
      ]
    },
    {
      "cell_type": "markdown",
      "metadata": {
        "id": "NmMsBJhJvpJR"
      },
      "source": [
        "### Limitations\n",
        "\n",
        "- `Linear Assumption`: Assumes linear relationships within leaves, which may not hold for complex data.\n",
        "\n",
        "- `Computational Cost`: Fitting linear models in each leaf is more intensive than standard random forest averaging.\n",
        "\n",
        "- `Implementation`: Not natively supported in `{grf}`; requires custom extensions or alternative packages.\n",
        "\n",
        "- `Data Requirements`: Needs sufficient data in each leaf to fit reliable linear models."
      ]
    },
    {
      "cell_type": "markdown",
      "metadata": {
        "id": "-u2tkR3KvrbW"
      },
      "source": [
        "### Use Cases\n",
        "\n",
        "  - Estimating heterogeneous treatment effects (e.g., how a drug’s effect varies by patient characteristics).\n",
        "  - Modeling conditional means with linear relationships within subgroups.\n",
        "  - Improving interpretability of random forest predictions with local linear coefficients."
      ]
    },
    {
      "cell_type": "markdown",
      "metadata": {
        "id": "bh7jEhGCLDZA"
      },
      "source": [
        "## Linear Forest\n",
        "\n",
        "This tutorial demonstrates how to implement an Instrumental Forest using the `{grf}` package in Python through {rpy2} to estimate the heterogeneous treatment effects (e.g., how house prices vary with different covariates) using a Linear Model Forest. We’ll cover data preparation, model fitting, prediction, and visualization of the estimated effects.\n",
        "\n",
        "\n"
      ]
    },
    {
      "cell_type": "markdown",
      "metadata": {
        "id": "8bXtwlh017eA"
      },
      "source": [
        "### Setup Python Envrionmewnt"
      ]
    },
    {
      "cell_type": "code",
      "execution_count": null,
      "metadata": {
        "id": "yuHGv_st1N4I"
      },
      "outputs": [],
      "source": [
        "# Install required Python packages\n",
        "#%pip install rpy2 pandas numpy matplotlib seaborn scipy # Already executed in previous cells\n",
        "\n",
        "# Import necessary libraries\n",
        "import pandas as pd\n",
        "import numpy as np\n",
        "import matplotlib.pyplot as plt\n",
        "import seaborn as sns\n",
        "import rpy2.robjects as ro\n",
        "from rpy2.robjects import pandas2ri, numpy2ri\n",
        "from rpy2.robjects.packages import importr, isinstalled\n",
        "from scipy import stats"
      ]
    },
    {
      "cell_type": "code",
      "execution_count": null,
      "metadata": {
        "id": "AjkvLM941fqS"
      },
      "outputs": [],
      "source": [
        "# Activate automatic conversion between pandas/numpy and R objects\n",
        "pandas2ri.activate()\n",
        "numpy2ri.activate()"
      ]
    },
    {
      "cell_type": "code",
      "execution_count": null,
      "metadata": {
        "id": "3iYvQqTu1hst"
      },
      "outputs": [],
      "source": [
        "%load_ext rpy2.ipython\n",
        "\n",
        "r = ro.r\n",
        "r['install.packages'](\"grf\", repos='http://cran.us.r-project.org')\n",
        "r.library(\"grf\")\n",
        "r.library(\"survival\")\n",
        "r.library(\"ggplot2\")"
      ]
    },
    {
      "cell_type": "code",
      "execution_count": null,
      "metadata": {
        "id": "TKurt0ta3Epc"
      },
      "outputs": [],
      "source": [
        "# Custom IKbandwidth function for RDD (approximate implementation if rdd R package fails)\n",
        "def IKbandwidth(Z, Y, cutoff, kernel=\"gaussian\"):\n",
        "    \"\"\"\n",
        "    Compute the Imbens-Kalyanaraman optimal bandwidth for RDD.\n",
        "\n",
        "    Parameters:\n",
        "    Z : array-like, running variable\n",
        "    Y : array-like, outcome variable\n",
        "    cutoff : float, RDD cutoff point\n",
        "    kernel : str, kernel type for density estimation (default: \"gaussian\")\n",
        "\n",
        "    Returns:\n",
        "    float, optimal bandwidth h\n",
        "    \"\"\"\n",
        "    # If rdd R package is available, use its IKbandwidth function\n",
        "    if rdd_package is not None:\n",
        "        try:\n",
        "            print(\"Using rdd R package for IK bandwidth calculation.\")\n",
        "            # Ensure Z, Y are R vectors and cutoff is R numeric\n",
        "            Z_r = ro.FloatVector(Z)\n",
        "            Y_r = ro.FloatVector(Y)\n",
        "            cutoff_r = ro.FloatVector([cutoff])\n",
        "            # Call R's IKbandwidth function\n",
        "            bandwidth_r = rdd_package.IKbandwidth(Z_r, Y_r, cutoff_r)[0]\n",
        "            return bandwidth_r\n",
        "        except Exception as e:\n",
        "            print(f\"Error calling rdd R package IKbandwidth: {str(e)}\")\n",
        "            print(\"Falling back to approximation.\")\n",
        "\n",
        "    # Fallback approximation if rdd R package is not available or fails\n",
        "    print(\"Using fallback approximation for IK bandwidth calculation.\")\n",
        "    Z = np.array(Z)\n",
        "    Y = np.array(Y)\n",
        "    n = len(Z)\n",
        "\n",
        "    # Step 1: Split data at cutoff\n",
        "    Z_left = Z[Z < cutoff]\n",
        "    Y_left = Y[Z < cutoff]\n",
        "    Z_right = Z[Z >= cutoff]\n",
        "    Y_right = Y[Z >= cutoff]\n",
        "    n_left = len(Z_left)\n",
        "    n_right = len(Z_right)\n",
        "\n",
        "    # Avoid errors with insufficient data on one side\n",
        "    if n_left < 2 or n_right < 2:\n",
        "         print(\"Warning: Insufficient data points on one side of the cutoff for a robust bandwidth calculation. Using a simple fallback.\")\n",
        "         return 1.06 * np.std(Z) * n ** (-1/5) # Silverman's rule as simple fallback\n",
        "\n",
        "\n",
        "    # Step 2: Estimate initial bandwidth (Silverman's rule as a starting point)\n",
        "    h1 = 1.06 * np.std(Z) * n ** (-1/5)\n",
        "\n",
        "    # Step 3: Estimate variance of Y (pooled variance)\n",
        "    sigma2_left = np.var(Y_left, ddof=1) if n_left > 1 else 0\n",
        "    sigma2_right = np.var(Y_right, ddof=1) if n_right > 1 else 0\n",
        "    # Use weighted average if sample sizes are different, handle cases where one side is too small\n",
        "    total_n = n_left + n_right\n",
        "    if total_n > 0:\n",
        "      sigma2 = (sigma2_left * n_left + sigma2_right * n_right) / total_n\n",
        "    else:\n",
        "      sigma2 = 1 # Fallback to 1 if no data\n",
        "\n",
        "    if sigma2 <= 0: # Ensure sigma2 is positive for the formula\n",
        "        sigma2 = np.var(Y, ddof=1) if n > 1 else 1 # Fallback to overall variance or 1\n",
        "\n",
        "    # Step 4: Estimate density of Z at cutoff using Gaussian kernel\n",
        "    # Ensure there are enough points to estimate density\n",
        "    if n < 10:\n",
        "         print(\"Warning: Insufficient total data points for KDE density estimation. Using a simple fallback density.\")\n",
        "         f_c = 1.0 / (np.max(Z) - np.min(Z) + 1e-6) # Approximate density over range\n",
        "    else:\n",
        "        try:\n",
        "            # Need at least 2 data points for KDE\n",
        "            if len(Z) < 2:\n",
        "                 f_c = 1e-6\n",
        "            else:\n",
        "                 kde = stats.gaussian_kde(Z)\n",
        "                 f_c = kde(cutoff)[0]\n",
        "                 if f_c <= 0:\n",
        "                     f_c = 1e-6  # Avoid division by zero\n",
        "        except Exception as kde_error:\n",
        "             print(f\"Warning: KDE density estimation failed ({kde_error}). Using a simple fallback density.\")\n",
        "             f_c = 1.0 / (np.max(Z) - np.min(Z) + 1e-6) # Approximate density over range\n",
        "\n",
        "\n",
        "    # Step 5: Estimate second derivative m''(x) using local quadratic regression\n",
        "    # This is a simplified approximation. The R implementation is more robust.\n",
        "    # For a quick Python fallback, we can use polynomial fitting around the cutoff.\n",
        "    def local_poly_regression(X, Y, x0, degree, h):\n",
        "        # Simple unweighted polynomial fit within a window h around x0\n",
        "        subset_indices = np.abs(X - x0) <= h\n",
        "        X_subset = X[subset_indices]\n",
        "        Y_subset = Y[subset_indices]\n",
        "\n",
        "        if len(X_subset) < degree + 1:\n",
        "            return 0.0 # Not enough data for the polynomial degree\n",
        "\n",
        "        try:\n",
        "            # Fit a polynomial of specified degree\n",
        "            coeffs = np.polyfit(X_subset - x0, Y_subset, degree)\n",
        "            if degree >= 2:\n",
        "                # For degree 2 (quadratic), the second derivative is 2 * coefficient of (x-x0)^2\n",
        "                return 2 * coeffs[degree - 2]\n",
        "            else:\n",
        "                 return 0.0 # Second derivative is 0 for degree < 2\n",
        "        except Exception as poly_error:\n",
        "            print(f\"Warning: Local polynomial regression failed ({poly_error}). Returning 0 for m''.\")\n",
        "            return 0.0 # Fallback if fitting fails\n",
        "\n",
        "    # Use a window size for the local quadratic fit, maybe 2*h1\n",
        "    local_window = 2 * h1\n",
        "    m2_left = local_poly_regression(Z_left, Y_left, cutoff, degree=2, h=local_window)\n",
        "    m2_right = local_poly_regression(Z_right, Y_right, cutoff, degree=2, h=local_window)\n",
        "    m2 = (m2_left + m2_right) / 2\n",
        "    if abs(m2) < 1e-6: # Use absolute value and a small tolerance\n",
        "        m2 = 1e-6 if m2 >= 0 else -1e-6 # Avoid division by zero, keep sign\n",
        "\n",
        "    # Step 6: Compute IK constant C_k for Gaussian kernel (approximation)\n",
        "    # C_k = 3.4375 # Approximate constant for Gaussian kernel (from IK paper) - specific to Gaussian\n",
        "    # For triangular kernel (often used in RDD): C_k is different.\n",
        "    # Let's assume the user wants the optimal bandwidth for local linear regression with triangular kernel,\n",
        "    # as often used in RDD. The constant for triangular kernel is often cited around 2.346.\n",
        "    C_k = 2.346 # Constant for Triangular kernel\n",
        "\n",
        "    # Step 7: Compute optimal bandwidth\n",
        "    # Formula: h_opt = C * (sigma^2 / (n * f(c) * (m''(c))^2))^(1/5)\n",
        "    # Ensure denominator is not zero or too small\n",
        "    denominator = n * f_c * m2**2\n",
        "    if denominator < 1e-12:\n",
        "        print(\"Warning: Denominator for bandwidth calculation is too small. Using a simple fallback.\")\n",
        "        h_opt = 1.06 * np.std(Z) * n ** (-1/5) # Silverman's rule as fallback\n",
        "    else:\n",
        "        h_opt = C_k * (sigma2 / denominator) ** (1/5)\n",
        "\n",
        "    return max(h_opt, 1e-6)  # Ensure positive and reasonable bandwidth"
      ]
    },
    {
      "cell_type": "markdown",
      "metadata": {
        "id": "IPobetr0zFC5"
      },
      "source": [
        "### Load Boston Housing Dataset\n",
        "\n",
        "We use the Boston Housing dataset to demonstrate the implementation of a Regression Discontinuity Design (RDD) using the `{grf}` package. The dataset contains information about housing values in suburbs of Boston, including various features like crime rate, number of rooms, and more.\n"
      ]
    },
    {
      "cell_type": "code",
      "execution_count": null,
      "metadata": {
        "id": "RmfGVScmzF8P"
      },
      "outputs": [],
      "source": [
        "data_url = \"http://lib.stat.cmu.edu/datasets/boston\"\n",
        "raw_df = pd.read_csv(data_url, sep=\"\\s+\", skiprows=22, header=None)\n",
        "data = np.hstack([raw_df.values[::2, :], raw_df.values[1::2, :2]])\n",
        "target = raw_df.values[1::2, 2]\n",
        "feature_names = ['CRIM', 'ZN', 'INDUS', 'CHAS', 'NOX', 'RM', 'AGE', 'DIS', 'RAD', 'TAX', 'PTRATIO', 'B', 'LSTAT']\n",
        "boston_df = pd.DataFrame(data, columns=feature_names)\n",
        "boston_df['medv'] = target\n",
        "boston_df = boston_df.dropna() # Remove missing values\n"
      ]
    },
    {
      "cell_type": "markdown",
      "metadata": {
        "id": "9x-DrvvKzMqT"
      },
      "source": [
        "### Prepare Data for RDD Analysis\n",
        "\n",
        "RDD (Regression Discontinuity Design) is a quasi-experimental design used to estimate causal effects when treatment assignment is determined by a cutoff on a continuous variable. In this example, we will use the Boston Housing dataset to demonstrate how to implement RDD using the {grf}\n"
      ]
    },
    {
      "cell_type": "code",
      "execution_count": null,
      "metadata": {
        "id": "0xVTHc0vzTDJ"
      },
      "outputs": [],
      "source": [
        "# Prepare Data for RDD Analysis (using boston_df)\n",
        "try:\n",
        "    Z = boston_df['NOX'].values  # Running variable (nitric oxides concentration)\n",
        "    cutoff = np.median(Z)  # Cutoff at median NOX\n",
        "    W = (Z >= cutoff).astype(int)  # Treatment: 1 if NOX >= cutoff, else 0\n",
        "    Y = boston_df['medv'].values  # Outcome: median value of owner-occupied homes\n",
        "    X_covariates = boston_df.drop(['medv', 'NOX'], axis=1)  # Covariates excluding outcome & running variable\n",
        "    X_matrix_covariates = np.array(X_covariates)  # Convert to numpy array for R compatibility (if needed)\n",
        "\n",
        "except KeyError as e:\n",
        "    print(f\"Error accessing columns in boston_df: {str(e)}\")\n",
        "    print(\"Available columns:\", boston_df.columns.tolist())\n",
        "    raise"
      ]
    },
    {
      "cell_type": "markdown",
      "metadata": {
        "id": "IYYxCKtVtO-I"
      },
      "source": [
        "### Imbens-Kalyanaraman (IK) Optimal Bandwidth and Kernel Weights\n",
        "\n",
        "To implement Regression discontinuity designs (RDD) using the `grf` package, we first need to compute the bandwidth for the running variable and then apply kernel weights to subset the data. First we will use our coustom `IKbandwith()` function to calculate the `Imbens-Kalyanaraman optimal bandwidth` for local linear regression in RDD."
      ]
    },
    {
      "cell_type": "code",
      "execution_count": null,
      "metadata": {
        "colab": {
          "base_uri": "https://localhost:8080/"
        },
        "id": "jbX9jRGczLuL",
        "outputId": "882820f7-34d8-43c1-bca3-c5e2e52ec88d"
      },
      "outputs": [
        {
          "name": "stdout",
          "output_type": "stream",
          "text": [
            "Using fallback approximation for IK bandwidth calculation.\n",
            "Calculated IK Bandwidth: 0.0771011422807454\n"
          ]
        }
      ],
      "source": [
        "# Compute Imbens-Kalyanaraman (IK) Optimal Bandwidth using our Python function (or R if available)\n",
        "try:\n",
        "    bandwidth_py = IKbandwidth(Z, Y, cutoff)\n",
        "    print(f\"Calculated IK Bandwidth: {bandwidth_py}\")\n",
        "except Exception as e:\n",
        "    print(f\"Error computing IK bandwidth: {str(e)}\")\n",
        "    # Fallback to a simple bandwidth if calculation fails\n",
        "    n = len(Z)\n",
        "    bandwidth_py = 1.06 * np.std(Z) * n ** (-1/5)\n",
        "    print(f\"Fallback to Silverman's rule bandwidth: {bandwidth_py}\")\n"
      ]
    },
    {
      "cell_type": "markdown",
      "metadata": {
        "id": "2KI7kD5R0Qa9"
      },
      "source": [
        "Then we will calculate the kernel weights using the using our function `kernelwts_py()` function. This function will calculate the appropriate kernel weights for a vector. This is useful when, for instance, one wishes to perform local regression."
      ]
    },
    {
      "cell_type": "code",
      "execution_count": null,
      "metadata": {
        "colab": {
          "base_uri": "https://localhost:8080/"
        },
        "id": "JipnL_6X0RJl",
        "outputId": "302c3c91-1808-41c5-ed33-c98572d27958"
      },
      "outputs": [
        {
          "name": "stdout",
          "output_type": "stream",
          "text": [
            "\n",
            "Number of samples within bandwidth: 226\n"
          ]
        }
      ],
      "source": [
        "# Compute triangular kernel weights using our Python function\n",
        "def kernelwts_py(Z, cutoff, bandwidth, kernel=\"triangular\"):\n",
        "    h = bandwidth\n",
        "    u = (Z - cutoff) / h\n",
        "    if kernel == \"triangular\":\n",
        "        weights = np.maximum(0, 1 - np.abs(u)) # Corrected line\n",
        "    else:\n",
        "        raise ValueError(\"Only triangular kernel is implemented\")\n",
        "    return weights\n",
        "\n",
        "# Calculate sample weights and subset the data within the bandwidth\n",
        "sample_weights_py = kernelwts_py(Z, cutoff, bandwidth_py)\n",
        "subset_py = sample_weights_py > 0\n",
        "\n",
        "print(f\"\\nNumber of samples within bandwidth: {sum(subset_py)}\")\n"
      ]
    },
    {
      "cell_type": "markdown",
      "metadata": {
        "id": "jxK5d0frBs8O"
      },
      "source": [
        "### Fit Local Linear Forest Targeting RDD Effect\n",
        "\n",
        "We will use the `lm_forest()` function from the `{grf}` package to fit a local linear forest model that targets the RDD effect. The `gradient.weights` argument is set to `c(1, 0)` to indicate that we are interested in estimating the treatment effect (tau) at each point in the running variable."
      ]
    },
    {
      "cell_type": "code",
      "execution_count": null,
      "metadata": {
        "colab": {
          "base_uri": "https://localhost:8080/"
        },
        "id": "Ou9edbC9Bt5M",
        "outputId": "6d55812e-2f40-4d0c-ee18-1e0fbc57e0cf"
      },
      "outputs": [
        {
          "name": "stdout",
          "output_type": "stream",
          "text": [
            "GRF forest object of type lm_forest \n",
            "Number of trees: 2000 \n",
            "Number of training samples: 226 \n",
            "Variable importance: \n",
            "    1     2     3     4     5     6     7     8     9    10    11    12 \n",
            "0.121 0.062 0.148 0.002 0.087 0.050 0.093 0.012 0.082 0.222 0.040 0.082 \n",
            "\n"
          ]
        }
      ],
      "source": [
        "# Fit Local Linear Forest Targeting RDD Effect using grf\n",
        "if grf is None:\n",
        "    raise Exception(\"grf package is required but not installed.\")\n",
        "X_subset = X_matrix_covariates[subset_py, :]\n",
        "Y_subset = Y[subset_py]\n",
        "W_subset = W[subset_py]\n",
        "Z_subset = Z[subset_py]\n",
        "sample_weights_subset = sample_weights_py[subset_py]\n",
        "\n",
        "# Convert data to R objects\n",
        "X_r = ro.r.matrix(X_subset, nrow=X_subset.shape[0], ncol=X_subset.shape[1])\n",
        "Y_r = ro.FloatVector(Y_subset)\n",
        "WZ_r = ro.r.matrix(np.column_stack([W_subset, Z_subset]), nrow=sum(subset_py), ncol=2)\n",
        "sample_weights_r = ro.FloatVector(sample_weights_subset)\n",
        "gradient_weights_r = ro.FloatVector([1, 0])\n",
        "\n",
        "# Fit lm_forest\n",
        "try:\n",
        "    lmf = grf.lm_forest(X_r, Y_r, WZ_r, sample_weights=sample_weights_r, gradient_weights=gradient_weights_r)\n",
        "    print(lmf)\n",
        "except Exception as e:\n",
        "    print(f\"Error fitting lm_forest: {str(e)}\")\n",
        "    raise"
      ]
    },
    {
      "cell_type": "markdown",
      "metadata": {
        "id": "7KgHx7kY9EEg"
      },
      "source": [
        "### Extract RDD Estimates (tau at each x)"
      ]
    },
    {
      "cell_type": "code",
      "execution_count": null,
      "metadata": {
        "colab": {
          "base_uri": "https://localhost:8080/"
        },
        "id": "m0vovr-CfwBZ",
        "outputId": "6dd6654e-8160-40e9-d265-079173a99dbb"
      },
      "outputs": [
        {
          "name": "stdout",
          "output_type": "stream",
          "text": [
            "First few RDD treatment effect estimates (tau.hat):\n",
            "[[10.4095273 ]\n",
            " [ 3.10756689]\n",
            " [-0.10688567]\n",
            " [ 1.96822885]\n",
            " [ 2.71713393]]\n"
          ]
        }
      ],
      "source": [
        "# Extract RDD Estimates (tau at each x)\n",
        "tau_hat = ro.r.predict(lmf).rx2('predictions')[:, 0]\n",
        "# Display first few RDD treatment effect estimates\n",
        "print(\"First few RDD treatment effect estimates (tau.hat):\")\n",
        "print(tau_hat[:5])"
      ]
    },
    {
      "cell_type": "code",
      "execution_count": null,
      "metadata": {
        "colab": {
          "base_uri": "https://localhost:8080/",
          "height": 678
        },
        "id": "Bez7Msi852X_",
        "outputId": "f1255e3b-9b9a-4781-81f6-b9e19488a450"
      },
      "outputs": [
        {
          "name": "stdout",
          "output_type": "stream",
          "text": [
            "\n",
            "Summary of tau.hat:\n",
            "count    226.000000\n",
            "mean      -1.436747\n",
            "std        2.220702\n",
            "min       -7.107399\n",
            "25%       -2.710928\n",
            "50%       -1.427106\n",
            "75%       -0.030738\n",
            "max       10.409527\n",
            "dtype: float64\n"
          ]
        },
        {
          "data": {
            "image/png": "[encoded data removed]",
            "text/plain": [
              "<Figure size 550x500 with 1 Axes>"
            ]
          },
          "metadata": {},
          "output_type": "display_data"
        }
      ],
      "source": [
        "# Summary and diagnostics\n",
        "print(\"\\nSummary of tau.hat:\")\n",
        "# Flatten tau_hat to ensure it's 1-dimensional for pd.Series\n",
        "print(pd.Series(tau_hat.flatten()).describe())\n",
        "\n",
        "# Plot histogram of estimated RDD effects\n",
        "plt.figure(figsize=(5.5, 5))\n",
        "plt.hist(tau_hat.flatten(), bins=30, color='steelblue') # Also flatten for histogram\n",
        "plt.title(\"Estimated RDD Effects (tau.hat)\")\n",
        "plt.xlabel(\"tau.hat\")\n",
        "plt.ylabel(\"Frequency\")\n",
        "plt.show()"
      ]
    },
    {
      "cell_type": "markdown",
      "metadata": {
        "id": "tMGzwdza71Qu"
      },
      "source": [
        "### Prediction and Visualization"
      ]
    },
    {
      "cell_type": "code",
      "execution_count": null,
      "metadata": {
        "colab": {
          "base_uri": "https://localhost:8080/",
          "height": 487
        },
        "id": "gb2EtLC472c3",
        "outputId": "03cef9f2-4c91-4152-9dcf-ebb83985f154"
      },
      "outputs": [
        {
          "data": {
            "image/png": "[encoded data removed]",
            "text/plain": [
              "<Figure size 580x500 with 1 Axes>"
            ]
          },
          "metadata": {},
          "output_type": "display_data"
        }
      ],
      "source": [
        "# Prediction and Visualization\n",
        "Y_pred = ro.r.predict(lmf).rx2('predictions')[:, 0]\n",
        "Y_obs = Y_subset\n",
        "\n",
        "plt.figure(figsize=(5.8, 5))\n",
        "plt.scatter(Y_obs, Y_pred, c='blue', alpha=0.5)\n",
        "plt.xlabel(\"Observed Median Value (Y)\")\n",
        "plt.ylabel(\"Predicted Median Value\")\n",
        "plt.title(\"Predicted vs Observed Median House Prices\")\n",
        "plt.show()"
      ]
    },
    {
      "cell_type": "markdown",
      "metadata": {
        "id": "q8IDjanqCJly"
      },
      "source": [
        "### Variable Importance"
      ]
    },
    {
      "cell_type": "code",
      "execution_count": null,
      "metadata": {
        "colab": {
          "base_uri": "https://localhost:8080/",
          "height": 487
        },
        "id": "G8yXoCmB9RmL",
        "outputId": "e2c678e2-8924-432f-fea3-1ed05dcdec29"
      },
      "outputs": [
        {
          "data": {
            "image/png": "[encoded data removed]",
            "text/plain": [
              "<Figure size 550x500 with 1 Axes>"
            ]
          },
          "metadata": {},
          "output_type": "display_data"
        }
      ],
      "source": [
        "# Variable Importance\n",
        "importance = np.array(grf.variable_importance(lmf))\n",
        "importance_df = pd.DataFrame({\n",
        "    'Variable': X.columns,\n",
        "    'Importance': importance.flatten()\n",
        "}).sort_values('Importance', ascending=False)\n",
        "\n",
        "# Plot variable importance\n",
        "plt.figure(figsize=(5.5, 5))\n",
        "sns.barplot(x='Importance', y='Variable', data=importance_df, color='steelblue')\n",
        "plt.title(\"Variable Importance in Linear Model Forest\")\n",
        "plt.xlabel(\"Importance\")\n",
        "plt.ylabel(\"Variables\")\n",
        "plt.show()"
      ]
    },
    {
      "cell_type": "markdown",
      "metadata": {
        "id": "fhoXDmzIeMiV"
      },
      "source": [
        "## Summary and Conclusion\n",
        "\n",
        "The notebook  introduces the concept of a Linear Model Forest, explaining how it combines random forest partitioning with local linear models within the leaves to estimate heterogeneous effects. It highlights the key features, how it works, and its differences from other forest types. The practical implementation focuses on using the `grf` R package via `rpy2` in Python to perform a Regression Discontinuity Design (RDD) analysis on the Boston Housing dataset. It calculates the optimal bandwidth, applies kernel weights, fits an `lm_forest` targeting the RDD effect, and visualizes the estimated treatment effects and variable importance.\n",
        "\n",
        "\n"
      ]
    },
    {
      "cell_type": "markdown",
      "metadata": {
        "id": "SaZTnZx3QPGI"
      },
      "source": [
        "## References\n",
        "\n",
        "1. Athey, Susan, Julie Tibshirani, and Stefan Wager. \"Generalized Random Forests\". Annals of Statistics, 47(2), 2019.\n",
        "\n",
        "2. Zeileis, Achim, Torsten Hothorn, and Kurt Hornik. \"Model-based Recursive Partitioning.\" Journal of Computational and Graphical Statistics 17(2), 2008.\n",
        "\n",
        "3. [LM Forest](https://grf-labs.github.io/grf/reference/lm_forest.html#references)\n",
        "\n",
        "4. [RegressionForest](https://econml.azurewebsites.net/_autosummary/econml.grf.RegressionForest.html)"
      ]
    }
  ],
  "metadata": {
    "colab": {
      "authorship_tag": "ABX9TyOFmz8VPmq8797COHKrDfXy",
      "include_colab_link": true,
      "provenance": [],
      "toc_visible": true
    },
    "kernelspec": {
      "display_name": "Python 3",
      "name": "python3"
    },
    "language_info": {
      "name": "python"
    }
  },
  "nbformat": 4,
  "nbformat_minor": 0
}
