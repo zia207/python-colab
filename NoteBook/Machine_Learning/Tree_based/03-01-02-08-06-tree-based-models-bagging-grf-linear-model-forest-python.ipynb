{
  "cells": [
    {
      "cell_type": "markdown",
      "metadata": {
        "colab_type": "text",
        "id": "view-in-github"
      },
      "source": [
        "<a href=\"https://colab.research.google.com/github/zia207/python-colab/blob/main/NoteBook/Machine_Learning/Tree_based/03-01-02-08-06-tree-based-models-bagging-grf-linear-model-forest-python.ipynb\" target=\"_parent\"><img src=\"https://colab.research.google.com/assets/colab-badge.svg\" alt=\"Open In Colab\"/></a>"
      ]
    },
    {
      "cell_type": "markdown",
      "metadata": {
        "id": "zYZbTX0qQrZb"
      },
      "source": [
        "![alt text](http://drive.google.com/uc?export=view&id=1IFEWet-Aw4DhkkVe1xv_2YYqlvRe9m5_)"
      ]
    },
    {
      "cell_type": "markdown",
      "metadata": {
        "id": "RGBfrL2GQoII"
      },
      "source": [
        "# 2.8.6 Linear Model Forest\n",
        "\n",
        "A **Linear Model Forest** is a machine learning approach that combines the flexibility of random forests with the interpretability of linear models. It is designed to estimate `heterogeneous effects` or `conditional relationships` in data by fitting local linear models within the leaves of a random forest structure. While not a standard term in the `{grf}` package (which focuses on generalized random forests like `causal_forest` or `probability_forest`), the concept is closely related to methods like **Causal Forests with Linear Models** or **Local Linear Forest** extensions, where linear models are used to estimate effects or outcomes at the leaf level. Below, I’ll explain the concept, how it works, and its relevance, keeping it concise and clear.\n"
      ]
    },
    {
      "cell_type": "markdown",
      "metadata": {
        "id": "S77MsgmqIYD0"
      },
      "source": [
        "## Overview\n",
        "\n",
        "Linear Model Forest estimates conditional relationships (e.g., $E[Y|X]$ or treatment effects $E[Y(1) - Y(0)|X]$) by combining the non-parametric partitioning of random forests with linear models applied locally within subgroups (leaves).  Instead of averaging outcomes in each leaf (as in standard random forests), it fits a `linear model` in each leaf to capture relationships between covariates $X$, outcomes $Y$, or treatments $W$.\n",
        "\n"
      ]
    },
    {
      "cell_type": "markdown",
      "metadata": {
        "id": "EnR-z3S9vTpk"
      },
      "source": [
        "### Key Features\n",
        "\n",
        "- `Heterogeneity`: Captures how relationships or effects vary across subgroups defined by $X$.\n",
        "\n",
        "- `Interpretability`: Local linear models provide coefficients, making it easier to understand covariate effects within leaves compared to black-box random forests.\n",
        "\n",
        "- `Flexibility`: Combines non-parametric partitioning (random forest) with parametric modeling (linear models).\n",
        "\n",
        "- `Robustness`: Ensemble averaging reduces variance and overfitting.\n",
        "\n",
        "- `Applications`: Ideal for causal inference (e.g., personalized medicine) or regression tasks where linear relationships hold locally but not globally.\n"
      ]
    },
    {
      "cell_type": "markdown",
      "metadata": {
        "id": "VwEoykvwI2dS"
      },
      "source": [
        "### How It Work\n",
        "\n",
        "A Linear Model Forest modifies the random forest framework as follows:\n",
        "\n",
        "1. Data Setup\n",
        "\n",
        "   - Input: Covariates $X$ (e.g., age, sex), outcome $Y$ (e.g., house price), and optionally a treatment  $W$ (covariates).\n",
        "   - Data is typically a matrix of features $X$, a vector $Y$, and (if causal) a treatment indicator $W$.\n",
        "\n",
        "2. Tree Construction\n",
        "\n",
        "   - Like a random forest, it builds multiple decision trees (e.g., 1000) using bootstrap sampling and random feature selection.\n",
        "   - Each tree partitions the covariate space $X$ into regions (leaves) based on splits that optimize a criterion (e.g., variance reduction or effect heterogeneity).\n",
        "\n",
        "3. Local Linear Models\n",
        "\n",
        "   - In each leaf, instead of computing a simple average (as in standard random forests), a `linear model` is fitted using the observations in that leaf.\n",
        "   - For example:\n",
        "   \n",
        "     - `Regression`: $Y \\sim \\beta_0 + \\beta_1 X_1 + \\beta_2 X_2$ to predict $E[Y|X]$.\n",
        "     \n",
        "     - `Causal`: Estimate treatment effects $\\tau(X) = E[Y(1) - Y(0)|X]$ using a linear model of $Y$ on $W$ and $X$.\n",
        "  \n",
        "   - The linear model leverages local data to capture linear relationships within the leaf’s subgroup.\n",
        "\n",
        "4. Aggregation\n",
        "\n",
        "   - For a given input $X$, each tree assigns $X$ to a leaf, and the local linear model in that leaf provides a prediction (e.g., outcome or treatment effect).\n",
        "   \n",
        "   - The forest averages predictions across all trees to produce a final estimate, ensuring robustness and reducing overfitting.\n",
        "\n",
        "5. Output\n",
        "\n",
        "   - C`onditional predictions` (e.g., $E[Y|X]$) or heterogeneous treatment effects (e.g., $\\tau(X)$).\n",
        "   \n",
        "   - Optionally, `local linear coefficients` for interpretability (e.g., how covariates influence outcomes in specific subgroups)."
      ]
    },
    {
      "cell_type": "markdown",
      "metadata": {
        "id": "bIBhNo81s-Nt"
      },
      "source": [
        "### Differences from Other Forests\n",
        "\n",
        "- `Vs. Standard Random Forest`: Uses simple averages in leaves, not linear models, and is less interpretable for local relationships.\n",
        "\n",
        "- `Vs. Causal Forest`: Estimates treatment effects non-parametrically, while a Linear Model Forest uses linear models for effects within leaves, potentially improving precision if linear assumptions hold locally.\n",
        "\n",
        "- `Vs. Probability Forest`: Focuses on class probabilities for categorical outcomes, not continuous outcomes or treatment effects with linear modeling.\n",
        "\n"
      ]
    },
    {
      "cell_type": "markdown",
      "metadata": {
        "id": "NmMsBJhJvpJR"
      },
      "source": [
        "### Limitations\n",
        "\n",
        "- `Linear Assumption`: Assumes linear relationships within leaves, which may not hold for complex data.\n",
        "\n",
        "- `Computational Cost`: Fitting linear models in each leaf is more intensive than standard random forest averaging.\n",
        "\n",
        "- `Implementation`: Not natively supported in `{grf}`; requires custom extensions or alternative packages.\n",
        "\n",
        "- `Data Requirements`: Needs sufficient data in each leaf to fit reliable linear models."
      ]
    },
    {
      "cell_type": "markdown",
      "metadata": {
        "id": "-u2tkR3KvrbW"
      },
      "source": [
        "### Use Cases\n",
        "\n",
        "  - Estimating heterogeneous treatment effects (e.g., how a drug’s effect varies by patient characteristics).\n",
        "  - Modeling conditional means with linear relationships within subgroups.\n",
        "  - Improving interpretability of random forest predictions with local linear coefficients."
      ]
    },
    {
      "cell_type": "markdown",
      "metadata": {
        "id": "bh7jEhGCLDZA"
      },
      "source": [
        "## Linear Forest with Python\n",
        "\n",
        "This tutorial demonstrates how to implement an Instrumental Forest in Python to estimate the heterogeneous treatment effects (e.g., how house prices vary with different covariates) using a Linear Model Forest. We’ll cover data preparation, model fitting, prediction, and visualization of the estimated effects."
      ]
    },
    {
      "cell_type": "code",
      "execution_count": 39,
      "metadata": {},
      "outputs": [],
      "source": [
        "import numpy as np\n",
        "import pandas as pd\n",
        "import matplotlib.pyplot as plt\n",
        "from econml.grf import RegressionForest\n",
        "from sklearn.ensemble import RandomForestRegressor\n",
        "from sklearn.inspection import permutation_importance\n"
      ]
    },
    {
      "cell_type": "markdown",
      "metadata": {
        "id": "IPobetr0zFC5"
      },
      "source": [
        "### Load Boston Housing Dataset\n",
        "\n",
        "The Boston Housing dataset is loaded, and the data is prepared for RDD analysis by defining the running variable ('NOX'), the treatment indicator ('W') based on a cutoff (the median of 'NOX'), the outcome variable ('Y' - 'MEDV'), and the covariates ('X')."
      ]
    },
    {
      "cell_type": "code",
      "execution_count": 34,
      "metadata": {
        "id": "RmfGVScmzF8P"
      },
      "outputs": [],
      "source": [
        "# Load Boston Housing Dataset\n",
        "data_url = \"http://lib.stat.cmu.edu/datasets/boston\"\n",
        "raw_df = pd.read_csv(data_url, sep=\"\\s+\", skiprows=22, header=None)\n",
        "data = np.hstack([raw_df.values[::2, :], raw_df.values[1::2, :2]])\n",
        "target = raw_df.values[1::2, 2]\n",
        "feature_names = ['CRIM', 'ZN', 'INDUS', 'CHAS', 'NOX', 'RM', 'AGE', 'DIS', 'RAD', 'TAX', 'PTRATIO', 'B', 'LSTAT']\n",
        "boston_df = pd.DataFrame(data, columns=feature_names)\n",
        "boston_df['MEDV'] = target\n",
        "boston_df = boston_df.dropna()\n"
      ]
    },
    {
      "cell_type": "markdown",
      "metadata": {
        "id": "9x-DrvvKzMqT"
      },
      "source": [
        "### Prepare Data for RDD Analysis\n",
        "\n",
        "RDD (Regression Discontinuity Design) is a quasi-experimental design used to estimate causal effects when treatment assignment is determined by a cutoff on a continuous variable. \n"
      ]
    },
    {
      "cell_type": "code",
      "execution_count": 35,
      "metadata": {
        "id": "0xVTHc0vzTDJ"
      },
      "outputs": [],
      "source": [
        "# Prepare Data for RDD Analysis\n",
        "Z = boston_df['NOX'].values\n",
        "cutoff = np.median(Z)\n",
        "W = (Z >= cutoff).astype(int)\n",
        "Y = boston_df['MEDV'].values\n",
        "X = boston_df.drop(['MEDV', 'NOX'], axis=1).values"
      ]
    },
    {
      "cell_type": "markdown",
      "metadata": {
        "id": "IYYxCKtVtO-I"
      },
      "source": [
        "### Imbens-Kalyanaraman (IK) Optimal Bandwidth and Kernel Weights\n",
        "\n",
        "To implement Regression discontinuity designs (RDD), we first need to compute the bandwidth for the running variable and then apply kernel weights to subset the data. First we will use our coustom ` calculate_bandwidth()` function to calculate the `triangular_kernel()` weights for local linear forest regression in RDD.\n",
        "\n",
        "- A bandwidth is calculated using a method that considers both the standard deviation of the running variable and the potential jump in the outcome at the cutoff.\n",
        "\n",
        "- Triangular Kernel Weights: Triangular kernel weights are applied to give more importance to data points closer to the cutoff."
      ]
    },
    {
      "cell_type": "code",
      "execution_count": 36,
      "metadata": {
        "colab": {
          "base_uri": "https://localhost:8080/"
        },
        "id": "jbX9jRGczLuL",
        "outputId": "882820f7-34d8-43c1-bca3-c5e2e52ec88d"
      },
      "outputs": [
        {
          "name": "stdout",
          "output_type": "stream",
          "text": [
            "Bandwidth: 0.0613\n"
          ]
        }
      ],
      "source": [
        "# Bandwidth calculation\n",
        "def calculate_bandwidth(Z, Y, cutoff):\n",
        "    n = len(Z)\n",
        "    h1 = 1.84 * np.std(Z) * (n ** (-1/5))\n",
        "    left = Z < cutoff\n",
        "    right = Z >= cutoff\n",
        "    sigma_hat = np.sqrt((np.var(Y[left]) + np.var(Y[right])) / 2)\n",
        "    f_hat = 1 / (np.std(Z) * np.sqrt(2 * np.pi))\n",
        "    h_ik = 1.84 * (sigma_hat / (f_hat * (np.mean(Y[right]) - np.mean(Y[left])) ** 2)) ** (1/5) * (n ** (-1/5))\n",
        "    return min(h1, h_ik)\n",
        "\n",
        "bandwidth = calculate_bandwidth(Z, Y, cutoff)\n",
        "print(f\"Bandwidth: {bandwidth:.4f}\")\n"
      ]
    },
    {
      "cell_type": "code",
      "execution_count": 37,
      "metadata": {
        "colab": {
          "base_uri": "https://localhost:8080/"
        },
        "id": "JipnL_6X0RJl",
        "outputId": "302c3c91-1808-41c5-ed33-c98572d27958"
      },
      "outputs": [],
      "source": [
        "# Triangular kernel weights\n",
        "def triangular_kernel(Z, cutoff, bandwidth):\n",
        "    u = (Z - cutoff) / bandwidth\n",
        "    return (1 - np.abs(u)) * (np.abs(u) <= 1)\n",
        "\n",
        "sample_weights = triangular_kernel(Z, cutoff, bandwidth)\n",
        "\n",
        "# Subset data\n",
        "subset = sample_weights > 0\n",
        "X_sub = X[subset]\n",
        "Y_sub = Y[subset]\n",
        "W_sub = W[subset]\n",
        "Z_sub = Z[subset]\n",
        "weights_sub = sample_weights[subset]\n",
        "\n"
      ]
    },
    {
      "cell_type": "markdown",
      "metadata": {
        "id": "jxK5d0frBs8O"
      },
      "source": [
        "### Fit Local Linear Forest Targeting RDD Effect\n",
        "\n",
        "A custom `LocalLinearForest` class is implemented and used to fit a regression forest model to the data within the calculated bandwidth, using the triangular kernel weights. This model estimates the treatment effect (the causal effect of 'NOX' crossing the cutoff) on 'MEDV'."
      ]
    },
    {
      "cell_type": "code",
      "execution_count": 38,
      "metadata": {},
      "outputs": [],
      "source": [
        "# Local Linear Forest implementation\n",
        "class LocalLinearForest:\n",
        "    def __init__(self, n_estimators=1000, min_samples_leaf=5):\n",
        "        self.n_estimators = n_estimators\n",
        "        self.min_samples_leaf = min_samples_leaf\n",
        "        self.forest = RegressionForest(\n",
        "            n_estimators=n_estimators,\n",
        "            min_samples_leaf=min_samples_leaf,\n",
        "            random_state=42\n",
        "        )\n",
        "\n",
        "    def fit(self, X, Y, W, Z, sample_weights=None):\n",
        "        # Combine treatment indicator and running variable\n",
        "        T = np.column_stack((W, Z))\n",
        "        # Pass the combined treatment and running variable as 'y'\n",
        "        self.forest.fit(X, T, sample_weight=sample_weights)\n",
        "        return self\n",
        "\n",
        "    def predict_tau(self, X):\n",
        "        # Predict treatment effects (first column is treatment effect)\n",
        "        return self.forest.predict(X)[:, 0]\n"
      ]
    },
    {
      "cell_type": "markdown",
      "metadata": {},
      "source": [
        "### Fit Local Linear Forest"
      ]
    },
    {
      "cell_type": "code",
      "execution_count": 30,
      "metadata": {},
      "outputs": [
        {
          "name": "stdout",
          "output_type": "stream",
          "text": [
            "Fitting local linear forest...\n",
            "\n",
            "Treatment effect estimates:\n",
            "Mean: 0.52\n",
            "Median: 0.67\n",
            "Std Dev: 0.28\n"
          ]
        }
      ],
      "source": [
        "# Fit the model\n",
        "print(\"Fitting local linear forest...\")\n",
        "lmf = LocalLinearForest(n_estimators=1000, min_samples_leaf=10)\n",
        "lmf.fit(X_sub, Y_sub, W_sub, Z_sub, sample_weights=weights_sub)\n",
        "\n",
        "# Get treatment effects\n",
        "tau_hat = lmf.predict_tau(X_sub)\n",
        "\n",
        "# Results analysis\n",
        "print(\"\\nTreatment effect estimates:\")\n",
        "print(f\"Mean: {np.mean(tau_hat):.2f}\")\n",
        "print(f\"Median: {np.median(tau_hat):.2f}\")\n",
        "print(f\"Std Dev: {np.std(tau_hat):.2f}\")"
      ]
    },
    {
      "cell_type": "markdown",
      "metadata": {
        "id": "tMGzwdza71Qu"
      },
      "source": [
        "### Visualization"
      ]
    },
    {
      "cell_type": "code",
      "execution_count": 31,
      "metadata": {
        "colab": {
          "base_uri": "https://localhost:8080/",
          "height": 487
        },
        "id": "gb2EtLC472c3",
        "outputId": "03cef9f2-4c91-4152-9dcf-ebb83985f154"
      },
      "outputs": [
        {
          "data": {
            "image/png": "[encoded data removed]",
            "text/plain": [
              "<Figure size 1200x500 with 2 Axes>"
            ]
          },
          "metadata": {},
          "output_type": "display_data"
        }
      ],
      "source": [
        "# Visualization\n",
        "plt.figure(figsize=(12, 5))\n",
        "plt.subplot(1, 2, 1)\n",
        "plt.hist(tau_hat, bins=30, color='steelblue')\n",
        "plt.title(\"Distribution of Treatment Effects\")\n",
        "\n",
        "plt.subplot(1, 2, 2)\n",
        "plt.scatter(Z_sub, tau_hat, alpha=0.5)\n",
        "plt.axvline(cutoff, color='red', linestyle='--')\n",
        "plt.title(\"Treatment Effects by Running Variable\")\n",
        "plt.tight_layout()\n",
        "plt.show()"
      ]
    },
    {
      "cell_type": "markdown",
      "metadata": {
        "id": "q8IDjanqCJly"
      },
      "source": [
        "### Variable Importance"
      ]
    },
    {
      "cell_type": "code",
      "execution_count": 32,
      "metadata": {
        "colab": {
          "base_uri": "https://localhost:8080/",
          "height": 487
        },
        "id": "G8yXoCmB9RmL",
        "outputId": "e2c678e2-8924-432f-fea3-1ed05dcdec29"
      },
      "outputs": [
        {
          "data": {
            "image/png": "[encoded data removed]",
            "text/plain": [
              "<Figure size 800x600 with 1 Axes>"
            ]
          },
          "metadata": {},
          "output_type": "display_data"
        }
      ],
      "source": [
        "# Variable importance\n",
        "rf = RandomForestRegressor(n_estimators=1000, min_samples_leaf=10, random_state=42)\n",
        "rf.fit(X_sub, Y_sub, sample_weight=weights_sub)\n",
        "\n",
        "result = permutation_importance(rf, X_sub, Y_sub, n_repeats=10, random_state=42)\n",
        "importance_df = pd.DataFrame({\n",
        "    'Variable': boston_df.drop(['MEDV', 'NOX'], axis=1).columns,\n",
        "    'Importance': result.importances_mean\n",
        "}).sort_values('Importance', ascending=True)\n",
        "\n",
        "plt.figure(figsize=(8, 6))\n",
        "plt.barh(importance_df['Variable'], importance_df['Importance'], color='steelblue')\n",
        "plt.title(\"Variable Importance\")\n",
        "plt.tight_layout()\n",
        "plt.show()"
      ]
    },
    {
      "cell_type": "markdown",
      "metadata": {
        "id": "fhoXDmzIeMiV"
      },
      "source": [
        "## Summary and Conclusion\n",
        "\n",
        "The notebook  introduces the concept of a Linear Model Forest, explaining how it combines random forest partitioning with local linear models within the leaves to estimate heterogeneous effects. This notebook also performs a Regression Discontinuity Design (RDD) analysis on the Boston Housing dataset. It investigates the causal effect of 'NOX' (nitric oxides) on 'MEDV' (median home value) around the median 'NOX' concentration using a Local Linear Forest and triangular kernel weight.\n",
        "\n",
        "\n"
      ]
    },
    {
      "cell_type": "markdown",
      "metadata": {
        "id": "SaZTnZx3QPGI"
      },
      "source": [
        "## References\n",
        "\n",
        "1. Athey, Susan, Julie Tibshirani, and Stefan Wager. \"Generalized Random Forests\". Annals of Statistics, 47(2), 2019.\n",
        "\n",
        "2. Zeileis, Achim, Torsten Hothorn, and Kurt Hornik. \"Model-based Recursive Partitioning.\" Journal of Computational and Graphical Statistics 17(2), 2008.\n",
        "\n",
        "3. [LM Forest](https://grf-labs.github.io/grf/reference/lm_forest.html#references)\n",
        "\n",
        "4. [RegressionForest](https://econml.azurewebsites.net/_autosummary/econml.grf.RegressionForest.html)"
      ]
    }
  ],
  "metadata": {
    "colab": {
      "authorship_tag": "ABX9TyOFmz8VPmq8797COHKrDfXy",
      "include_colab_link": true,
      "provenance": [],
      "toc_visible": true
    },
    "kernelspec": {
      "display_name": "3.11.11",
      "language": "python",
      "name": "python3"
    },
    "language_info": {
      "codemirror_mode": {
        "name": "ipython",
        "version": 3
      },
      "file_extension": ".py",
      "mimetype": "text/x-python",
      "name": "python",
      "nbconvert_exporter": "python",
      "pygments_lexer": "ipython3",
      "version": "3.11.11"
    }
  },
  "nbformat": 4,
  "nbformat_minor": 0
}
