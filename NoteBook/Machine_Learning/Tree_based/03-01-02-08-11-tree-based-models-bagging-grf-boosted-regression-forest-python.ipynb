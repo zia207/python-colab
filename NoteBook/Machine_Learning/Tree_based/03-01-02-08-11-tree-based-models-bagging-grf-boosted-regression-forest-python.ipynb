{
  "cells": [
    {
      "cell_type": "markdown",
      "metadata": {
        "colab_type": "text",
        "id": "view-in-github"
      },
      "source": [
        "<a href=\"https://colab.research.google.com/github/zia207/python-colab/blob/main/NoteBook/Machine_Learning/Tree_based/03-01-02-08-11-tree-based-models-bagging-grf-boosted-regression-forest-python.ipynb\" target=\"_parent\"><img src=\"https://colab.research.google.com/assets/colab-badge.svg\" alt=\"Open In Colab\"/></a>"
      ]
    },
    {
      "cell_type": "markdown",
      "metadata": {
        "id": "zYZbTX0qQrZb"
      },
      "source": [
        "![alt text](http://drive.google.com/uc?export=view&id=1IFEWet-Aw4DhkkVe1xv_2YYqlvRe9m5_)"
      ]
    },
    {
      "cell_type": "markdown",
      "metadata": {
        "id": "RGBfrL2GQoII"
      },
      "source": [
        "# 2.8.11 Boosted Regression Forest\n",
        "\n",
        "A **Boosted Regression Forest**, as implemented in the `{grf}` package in R, is a specialized extension of the random forest framework that combines **boosting** with random forests to improve predictive performance for regression tasks. Unlike standard random forests, which build independent trees and average their predictions, boosted regression forests incorporate a boosting mechanism to iteratively refine predictions by focusing on residuals or errors from previous iterations. This approach enhances accuracy, particularly for complex datasets with non-linear relationships. Below, I’ll explain the concept, its implementation in `{grf}`, and how it differs from other regression forest variants.\n",
        "\n"
      ]
    },
    {
      "cell_type": "markdown",
      "metadata": {
        "id": "S77MsgmqIYD0"
      },
      "source": [
        "## Overview\n",
        "\n",
        "A Boosted Regression Forest is a hybrid model that integrates the principles of **gradient boosting** with the random forest framework. It builds a sequence of regression forests where each subsequent forest focuses on correcting the errors (residuals) of the previous forests, similar to how gradient boosting works in models like XGBoost or LightGBM. In `{grf}`, this is implemented via the `boosted_regression_forest()` function, which is designed to predict continuous outcomes with improved accuracy by leveraging boosting to reduce bias while maintaining the robustness of random forests.\n",
        "\n"
      ]
    },
    {
      "cell_type": "markdown",
      "metadata": {
        "id": "EnR-z3S9vTpk"
      },
      "source": [
        "### Key features\n",
        "\n",
        "\n",
        "- `Sequential Learning`: Trees or forests are built sequentially, with each iteration fitting to the residuals of the previous predictions.\n",
        "- `Random Forest Structure`: Each iteration uses a random forest (with random feature selection and bootstrapping) to ensure robustness and prevent overfitting.\n",
        "- `Honest Splitting`: Like other `{grf}` models, it supports honest splitting to reduce bias by separating data for tree structure and leaf estimation.\n",
        "- `Regularization`: Includes parameters to control the boosting process, such as the number of boosting iterations and shrinkage (learning rate)."
      ]
    },
    {
      "cell_type": "markdown",
      "metadata": {
        "id": "VwEoykvwI2dS"
      },
      "source": [
        "### How Boosted Regression Forests Work in `{grf}`\n",
        "\n",
        "The `boosted_regression_forest()` function in `{grf}` operates as follows:\n",
        "\n",
        "1. Input Data\n",
        "\n",
        "   - A feature matrix $X$ (predictors) and a vector $Y$` (continuous outcome).\n",
        "   - Parameters like `num.trees` (total trees across iterations), `num.trees.per.iter` (trees per boosting iteration), `lambda.reg` (regularization penalty), and `honesty` (for unbiased estimation).\n",
        "\n",
        "2. Boosting Process\n",
        "\n",
        "   - `Initialization`: Start with an initial prediction (e.g., the mean of $Y$ or a simple random forest).\n",
        "   - `Iterative Updates`:\n",
        "     - Compute residuals (differences between observed `Y` and current predictions).\n",
        "     - Fit a new random forest to the residuals, using a subset of features and data (with random sampling, as in standard random forests).\n",
        "     - Update predictions by adding a scaled version of the new forest’s predictions (controlled by a shrinkage factor or learning rate).\n",
        "   - Repeat for a specified number of boosting iterations (`num.trees / num.trees.per.iter`).\n",
        "   - If `honesty = TRUE`, each forest uses separate data for splits and leaf estimates to reduce bias.\n",
        "\n",
        "3. Prediction\n",
        "\n",
        "   - For a new data point, the final prediction is the sum of the initial prediction and the contributions from each boosted forest, adjusted by the shrinkage factor.\n",
        "   - The result is a refined prediction that corrects errors iteratively.\n",
        "\n",
        "4. Output\n",
        "\n",
        "   - Predictions for new data points.\n",
        "   - Optional outputs like variable importance or variance estimates.\n",
        "\n"
      ]
    },
    {
      "cell_type": "markdown",
      "metadata": {
        "id": "bIBhNo81s-Nt"
      },
      "source": [
        "### Advantages of Boosted Regression Forests\n",
        "\n",
        "1. `Improved Accuracy`: By iteratively correcting residuals, boosted regression forests reduce bias compared to standard random forests, often leading to better predictive performance.\n",
        "2. `Robustness`: Inherits random forest’s strengths, such as handling high-dimensional data, non-linear relationships, and robustness to noise.\n",
        "3. `Flexible Regularization`: Parameters like `lambda.reg` and the number of boosting iterations allow control over overfitting and model complexity.\n",
        "4. `Honest Estimation`: Supports `{grf}`’s honest splitting, ensuring unbiased predictions, especially for small or noisy datasets.\n",
        "5. `Versatility`: Suitable for regression tasks where standard random forests underperform due to high bias or complex patterns."
      ]
    },
    {
      "cell_type": "markdown",
      "metadata": {
        "id": "NmMsBJhJvpJR"
      },
      "source": [
        "### Limitations\n",
        "\n",
        "1. `Computational Cost`: The sequential nature of boosting makes it slower than standard regression forests, especially with many iterations or large datasets.\n",
        "2. `Overfitting Risk`: Without proper tuning (e.g., `lambda.reg`, number of iterations), boosting can overfit, especially on noisy data.\n",
        "3. `Tuning Complexity`: Requires careful selection of parameters like `num.trees.per.iter`, `lambda.reg`, and shrinkage to balance bias and variance.\n",
        "4. `Interpretability`: Like other random forests, interpreting the model is challenging, and the boosting component adds complexity."
      ]
    },
    {
      "cell_type": "markdown",
      "metadata": {
        "id": "sB4AWWpIHVOa"
      },
      "source": [
        "### Applications\n",
        "\n",
        "- `Economics`: Predicting outcomes like housing prices or income, where complex patterns require bias reduction.\n",
        "- `Finance`: Forecasting stock returns or risk metrics with non-linear dependencies.\n",
        "- `Environmental Science`: Modeling continuous outcomes like temperature or pollution levels with intricate feature interactions.\n",
        "- `Any Regression Task`: Where standard random forests have high bias or where iterative refinement can improve accuracy."
      ]
    },
    {
      "cell_type": "markdown",
      "metadata": {
        "id": "-u2tkR3KvrbW"
      },
      "source": [
        "### Key Differences from Other `{grf}` Models\n",
        "\n",
        "| **Aspect**                     | **Standard Regression Forest** (`regression_forest`) | **Local Linear Forest** (`ll_regression_forest`) | **Boosted Regression Forest** (`boosted_regression_forest`) |\n",
        "|--------------------------------|----------------------------------------------------|-----------------------------------------------|-----------------------------------------------------------|\n",
        "| `Prediction Method`          | Averages outcomes in leaves.                       | Local linear regression using forest weights. | Iterative boosting of forests to fit residuals.           |\n",
        "| `Learning Approach`          | Parallel (independent trees).                      | Parallel with local linear correction.        | Sequential (boosting iterations).                        |\n",
        "| `Bias Reduction`             | Relies on averaging and honesty.                   | Local linear fits for smoother predictions.   | Boosting reduces bias by focusing on residuals.          |\n",
        "| `Smoothness`                 | Piecewise constant.                                | Smooth predictions.                           | Piecewise constant but refined via boosting.             |\n",
        "| `Use Case`                   | General regression tasks.                          | Smooth relationships.                         | Complex datasets needing bias reduction.                 |\n",
        "| `Computational Cost`         | Moderate.                                          | Higher (due to local linear fits).            | Higher (due to sequential boosting).                    |\n",
        "| `Regularization`             | Minimal (node size, tree depth).                   | Ridge penalty (`ll.lambda`).                  | Shrinkage and `lambda.reg` for boosting.                 |\n",
        "\n",
        "\n",
        "\n"
      ]
    },
    {
      "cell_type": "markdown",
      "metadata": {
        "id": "bh7jEhGCLDZA"
      },
      "source": [
        "## Boosted Regression Forest with Python\n",
        "\n",
        "There is no standard optimized Python package like {scikit-learn} for LBoosted Regression Forest. Below, a Python implementation of boosted regression forest has adapted with a custopm function, `boosted_regression_forest()`.  We will use the Boston Housing dataset to predict median housing prices based on various features. The steps include data preparation, model fitting, prediction, and evaluation of performance metrics like RMSE and R-squared.\n"
      ]
    },
    {
      "cell_type": "code",
      "execution_count": 1,
      "metadata": {
        "id": "tSjmAgv06uI2"
      },
      "outputs": [],
      "source": [
        "# Import necessary libraries\n",
        "import numpy as np\n",
        "import pandas as pd\n",
        "from sklearn.model_selection import train_test_split\n",
        "from sklearn.tree import DecisionTreeRegressor\n",
        "from sklearn.metrics import mean_squared_error, r2_score\n",
        "import matplotlib.pyplot as plt\n",
        "import seaborn as sns\n",
        "import warnings\n",
        "warnings.filterwarnings('ignore')"
      ]
    },
    {
      "cell_type": "markdown",
      "metadata": {
        "id": "IPobetr0zFC5"
      },
      "source": [
        "### Load and Prepare the Dataset\n"
      ]
    },
    {
      "cell_type": "code",
      "execution_count": 2,
      "metadata": {
        "colab": {
          "base_uri": "https://localhost:8080/"
        },
        "id": "RmfGVScmzF8P",
        "outputId": "a484b44b-167d-48f7-eccc-0cbbd6f958ad"
      },
      "outputs": [
        {
          "name": "stdout",
          "output_type": "stream",
          "text": [
            "Training data shape: (354, 13)\n",
            "Test data shape: (152, 13)\n"
          ]
        }
      ],
      "source": [
        "from sklearn.datasets import fetch_openml\n",
        "\n",
        "# Load and prepare Boston Housing data (from your code)\n",
        "boston = fetch_openml(name='boston', version=1, as_frame=True)\n",
        "boston_df = boston.frame\n",
        "\n",
        "# Split data into training (70%) and test (30%) sets\n",
        "train_data, test_data = train_test_split(boston_df, test_size=0.3, random_state=123)\n",
        "\n",
        "# Prepare features (X) and target (Y) as pandas DataFrames\n",
        "X_train = train_data.drop('MEDV', axis=1)\n",
        "Y_train = train_data['MEDV']\n",
        "X_test = test_data.drop('MEDV', axis=1)\n",
        "Y_test = test_data['MEDV']\n",
        "\n",
        "print(f\"Training data shape: {X_train.shape}\")\n",
        "print(f\"Test data shape: {X_test.shape}\")"
      ]
    },
    {
      "cell_type": "markdown",
      "metadata": {},
      "source": [
        "### Custom Function Boosted Regression Forest Model\n",
        "\n",
        "**Boosted Regression Forest Function** is a custom implementation that combines gradient boosting with random forest principles. This code has two parts:\n",
        "\n",
        "1.  `boosted_regression_forest`: This function implements a custom version of a Boosted Regression Forest. It trains an ensemble of decision trees sequentially. In each iteration, a new tree is trained to predict the residuals (the difference between the actual target values and the current predictions) of the previous trees. The predictions of this new tree are then scaled by a `learning_rate` and added to the current predictions. The function also includes options for subsampling the data and implementing \"honesty\" (though honesty is disabled in the subsequent cell). Feature importances are also calculated based on the contribution of each feature across all trees.\n",
        "\n",
        "2.  `predict_brf`: This function takes the trained boosted regression forest model (the output of `boosted_regression_forest`) and a set of new features `X`, and generates predictions. It starts with the initial prediction (the mean of the training target variable) and then iteratively adds the predictions from each tree in the forest, scaled by the learning rate.\n",
        "\n",
        "In essence, this code defines a custom boosting algorithm where individual decision trees are the base learners, and they are trained on the errors of the combined ensemble in an iterative manner."
      ]
    },
    {
      "cell_type": "code",
      "execution_count": 3,
      "metadata": {},
      "outputs": [],
      "source": [
        "# Set random seed for reproducibility\n",
        "np.random.seed(123)\n",
        "\n",
        "def boosted_regression_forest(X, y, num_trees=500, learning_rate=0.1, \n",
        "                             max_depth=3, min_samples_split=2, \n",
        "                             min_samples_leaf=5, honesty=True, \n",
        "                             subsample=0.8, verbose=False):\n",
        "    \"\"\"\n",
        "    Corrected Boosted Regression Forest implementation\n",
        "    \"\"\"\n",
        "    \n",
        "    # Store feature names before converting to numpy array\n",
        "    if hasattr(X, 'columns'):\n",
        "        feature_names = X.columns.tolist()\n",
        "    else:\n",
        "        feature_names = [f'feature_{i}' for i in range(X.shape[1])]\n",
        "    \n",
        "    X = np.array(X)\n",
        "    y = np.array(y)\n",
        "    n_samples = X.shape[0]\n",
        "    \n",
        "    # Initialize predictions with mean of y\n",
        "    current_predictions = np.full(n_samples, np.mean(y))\n",
        "    trees = []\n",
        "    feature_importances = np.zeros(X.shape[1])\n",
        "    \n",
        "    for i in range(num_trees):\n",
        "        if verbose and i % 100 == 0:\n",
        "            print(f\"Training tree {i+1}/{num_trees}\")\n",
        "        \n",
        "        # Calculate residuals (negative gradient)\n",
        "        residuals = y - current_predictions\n",
        "        \n",
        "        # Subsample data\n",
        "        if subsample < 1.0:\n",
        "            sample_indices = np.random.choice(n_samples, size=int(n_samples * subsample), replace=False)\n",
        "            X_sampled = X[sample_indices]\n",
        "            residuals_sampled = residuals[sample_indices]\n",
        "        else:\n",
        "            X_sampled = X\n",
        "            residuals_sampled = residuals\n",
        "        \n",
        "        # Split for honesty if enabled\n",
        "        if honesty:\n",
        "            split_indices = np.random.choice(len(X_sampled), size=len(X_sampled)//2, replace=False)\n",
        "            X_tree = X_sampled[split_indices]\n",
        "            y_tree = residuals_sampled[split_indices]\n",
        "        else:\n",
        "            X_tree = X_sampled\n",
        "            y_tree = residuals_sampled\n",
        "        \n",
        "        # Train decision tree on residuals\n",
        "        tree = DecisionTreeRegressor(\n",
        "            max_depth=max_depth,\n",
        "            min_samples_split=min_samples_split,\n",
        "            min_samples_leaf=min_samples_leaf,\n",
        "            random_state=123 + i\n",
        "        )\n",
        "        tree.fit(X_tree, y_tree)\n",
        "        \n",
        "        # Update feature importance\n",
        "        feature_importances += tree.feature_importances_\n",
        "        \n",
        "        # Update predictions\n",
        "        tree_preds = tree.predict(X)\n",
        "        current_predictions += learning_rate * tree_preds\n",
        "        \n",
        "        trees.append(tree)\n",
        "    \n",
        "    # Normalize feature importance\n",
        "    feature_importances /= num_trees\n",
        "    \n",
        "    model = {\n",
        "        'trees': trees,\n",
        "        'learning_rate': learning_rate,\n",
        "        'initial_prediction': np.mean(y),\n",
        "        'feature_importances': feature_importances,\n",
        "        'feature_names': feature_names  # Use the stored feature names\n",
        "    }\n",
        "    \n",
        "    return model\n",
        "\n",
        "def predict_brf(model, X):\n",
        "    \"\"\"\n",
        "    Make predictions using the boosted regression forest model\n",
        "    \"\"\"\n",
        "    X = np.array(X)\n",
        "    predictions = np.full(X.shape[0], model['initial_prediction'])\n",
        "    \n",
        "    for tree in model['trees']:\n",
        "        predictions += model['learning_rate'] * tree.predict(X)\n",
        "    \n",
        "    return predictions"
      ]
    },
    {
      "cell_type": "markdown",
      "metadata": {
        "id": "jxK5d0frBs8O"
      },
      "source": [
        "### Fit Boosted Regression Forest Model\n",
        "\n",
        "Boosted regression forests are particularly useful for regression tasks where complex relationships exist between features and the target variable. In this example, we will fit a boosted regression forest model to predict median housing prices (`medv`) based on various features in the Boston Housing dataset."
      ]
    },
    {
      "cell_type": "code",
      "execution_count": 4,
      "metadata": {
        "colab": {
          "base_uri": "https://localhost:8080/"
        },
        "id": "Ou9edbC9Bt5M",
        "outputId": "77ea157e-7a7a-4656-f152-b42735caeedc"
      },
      "outputs": [
        {
          "name": "stdout",
          "output_type": "stream",
          "text": [
            "Training Boosted Regression Forest...\n",
            "Training tree 1/200\n",
            "Training tree 101/200\n"
          ]
        }
      ],
      "source": [
        "# Train the boosted regression forest model\n",
        "print(\"Training Boosted Regression Forest...\")\n",
        "brf_model = boosted_regression_forest(X_train, Y_train, \n",
        "                                     num_trees=200,  # Reduced for better performance\n",
        "                                     learning_rate=0.05,  # Smaller learning rate\n",
        "                                     min_samples_leaf=5,  # Regularization\n",
        "                                     honesty=False,  # Disable honesty for now\n",
        "                                     verbose=True)"
      ]
    },
    {
      "cell_type": "markdown",
      "metadata": {
        "id": "7KgHx7kY9EEg"
      },
      "source": [
        "### Predict on Test Set and Evaluate Model"
      ]
    },
    {
      "cell_type": "code",
      "execution_count": 5,
      "metadata": {
        "colab": {
          "base_uri": "https://localhost:8080/"
        },
        "id": "m0vovr-CfwBZ",
        "outputId": "8282cbe0-c9b4-4509-c690-d87a09812e0b"
      },
      "outputs": [
        {
          "name": "stdout",
          "output_type": "stream",
          "text": [
            "\n",
            "Making predictions on test set...\n",
            "\n",
            "Model Performance:\n",
            "MSE: 14.2034\n",
            "RMSE: 3.7687\n",
            "R²: 0.8243\n"
          ]
        }
      ],
      "source": [
        "# Predict on Test Set\n",
        "print(\"\\nMaking predictions on test set...\")\n",
        "Y_pred = predict_brf(brf_model, X_test)\n",
        "\n",
        "# Evaluate Model\n",
        "mse = mean_squared_error(Y_test, Y_pred)\n",
        "rmse = np.sqrt(mse)\n",
        "r2 = r2_score(Y_test, Y_pred)\n",
        "\n",
        "print(f\"\\nModel Performance:\")\n",
        "print(f\"MSE: {mse:.4f}\")\n",
        "print(f\"RMSE: {rmse:.4f}\")\n",
        "print(f\"R²: {r2:.4f}\")"
      ]
    },
    {
      "cell_type": "code",
      "execution_count": 6,
      "metadata": {
        "colab": {
          "base_uri": "https://localhost:8080/",
          "height": 487
        },
        "id": "-P4-wj1vTuL2",
        "outputId": "3946fc5c-e761-4701-8f59-cd9227becd07"
      },
      "outputs": [
        {
          "data": {
            "image/png": "[encoded data removed]",
            "text/plain": [
              "<Figure size 800x600 with 1 Axes>"
            ]
          },
          "metadata": {},
          "output_type": "display_data"
        }
      ],
      "source": [
        "# Visualize Predictions\n",
        "plt.figure(figsize=(8, 6))\n",
        "plt.scatter(Y_test, Y_pred, alpha=0.6)\n",
        "plt.plot([Y_test.min(), Y_test.max()], [Y_test.min(), Y_test.max()], 'r--', lw=2)\n",
        "plt.xlabel('Actual Values')\n",
        "plt.ylabel('Predicted Values')\n",
        "plt.title('1:1 Plot - Actual vs Predicted Values')\n",
        "plt.grid(True, alpha=0.3)\n",
        "plt.show()"
      ]
    },
    {
      "cell_type": "markdown",
      "metadata": {},
      "source": [
        "### Feature Importance"
      ]
    },
    {
      "cell_type": "code",
      "execution_count": 7,
      "metadata": {},
      "outputs": [
        {
          "data": {
            "image/png": "[encoded data removed]",
            "text/plain": [
              "<Figure size 800x600 with 1 Axes>"
            ]
          },
          "metadata": {},
          "output_type": "display_data"
        },
        {
          "name": "stdout",
          "output_type": "stream",
          "text": [
            "\n",
            "Variable Importance:\n",
            "feature  importance\n",
            "    DIS    0.209607\n",
            "     RM    0.178296\n",
            "  LSTAT    0.170302\n",
            "    AGE    0.088848\n",
            "    NOX    0.071977\n",
            "   CRIM    0.070743\n",
            "    TAX    0.064163\n",
            "      B    0.052635\n",
            "PTRATIO    0.049950\n",
            "    RAD    0.030153\n",
            "  INDUS    0.008093\n",
            "     ZN    0.005232\n",
            "   CHAS    0.000000\n"
          ]
        }
      ],
      "source": [
        "if brf_model['feature_names']:\n",
        "    importance_df = pd.DataFrame({\n",
        "        'feature': brf_model['feature_names'],\n",
        "        'importance': brf_model['feature_importances']\n",
        "    })\n",
        "    importance_df = importance_df.sort_values('importance', ascending=False)\n",
        "    \n",
        "    plt.figure(figsize=(8, 6))\n",
        "    plt.barh(importance_df['feature'], importance_df['importance'])\n",
        "    plt.xlabel('Importance')\n",
        "    plt.title('Variable Importance')\n",
        "    plt.gca().invert_yaxis()\n",
        "    plt.tight_layout()\n",
        "    plt.show()\n",
        "    \n",
        "    print(\"\\nVariable Importance:\")\n",
        "    print(importance_df.to_string(index=False))"
      ]
    },
    {
      "cell_type": "markdown",
      "metadata": {
        "id": "75e1b210"
      },
      "source": [
        "## Summary and Conclusion\n",
        "\n",
        "This notebook provides a comprehensive overview and practical implementation of Boosted Regression Forests using custom function `boosted_regression_forest` in Python. The notebook starts by explaining the theoretical foundation of Boosted Regression Forests, highlighting their sequential learning approach to correct residuals from previous iterations. It emphasizes key features such as sequential learning, random forest structure, honest splitting, and regularization. The mechanism of how `boosted_regression_forest()` works is detailed, outlining the boosting process from initialization to iterative updates and final prediction.\n",
        "\n",
        "The advantages and limitations of Boosted Regression Forests are discussed, including improved accuracy, robustness, flexible regularization, and honest estimation as advantages, while computational cost, overfitting risk, tuning complexity, and interpretability are noted as limitations. Potential applications in various fields like economics, finance, and environmental science are also presented. A table clearly differentiates Boosted Regression Forests from Standard Regression Forests and Local Linear Forests within the `{grf}` framework.\n",
        "\n",
        "\n",
        "The core of the practical demonstration involves fitting the `boosted_regression_forest` model using the prepared training data and predicting on the test set. The performance of the model is evaluated using Root Mean Squared Error (RMSE) and R-squared metrics, which are then printed. Finally, a scatter plot is generated to visualize the predicted versus observed median housing prices on the test set, providing a visual assessment of the model's performance.\n",
        "\n",
        "In conclusion, this notebook successfully illustrates the concept and application of Boosted Regression Forests. It demonstrates how this advanced ensemble technique can be used for regression tasks in a Python environment, showcasing its potential for improved predictive accuracy compared to traditional methods. The provided code and explanations serve as a valuable resource for understanding and implementing Boosted Regression Forests for similar regression problems."
      ]
    },
    {
      "cell_type": "markdown",
      "metadata": {
        "id": "SaZTnZx3QPGI"
      },
      "source": [
        "\n",
        "## References\n",
        "\n",
        "1. [Boosted regression forest](https://grf-labs.github.io/grf/reference/boosted_regression_forest.html)\n",
        "\n"
      ]
    }
  ],
  "metadata": {
    "colab": {
      "authorship_tag": "ABX9TyM9EXwIDLDYH+5X9yvOcMab",
      "include_colab_link": true,
      "provenance": [],
      "toc_visible": true
    },
    "kernelspec": {
      "display_name": "3.11.11",
      "language": "python",
      "name": "python3"
    },
    "language_info": {
      "codemirror_mode": {
        "name": "ipython",
        "version": 3
      },
      "file_extension": ".py",
      "mimetype": "text/x-python",
      "name": "python",
      "nbconvert_exporter": "python",
      "pygments_lexer": "ipython3",
      "version": "3.11.11"
    }
  },
  "nbformat": 4,
  "nbformat_minor": 0
}
