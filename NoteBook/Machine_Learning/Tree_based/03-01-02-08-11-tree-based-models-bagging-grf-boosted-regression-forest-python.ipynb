{
  "cells": [
    {
      "cell_type": "markdown",
      "metadata": {
        "colab_type": "text",
        "id": "view-in-github"
      },
      "source": [
        "<a href=\"https://colab.research.google.com/github/zia207/python-colab/blob/main/NoteBook/Machine_Learning/Tree_based/03-01-02-08-11-tree-based-models-bagging-grf-boosted-regression-forest-python.ipynb\" target=\"_parent\"><img src=\"https://colab.research.google.com/assets/colab-badge.svg\" alt=\"Open In Colab\"/></a>"
      ]
    },
    {
      "cell_type": "markdown",
      "metadata": {
        "id": "zYZbTX0qQrZb"
      },
      "source": [
        "![alt text](http://drive.google.com/uc?export=view&id=1IFEWet-Aw4DhkkVe1xv_2YYqlvRe9m5_)"
      ]
    },
    {
      "cell_type": "markdown",
      "metadata": {
        "id": "RGBfrL2GQoII"
      },
      "source": [
        "# 2.8.11 Boosted Regression Forest\n",
        "\n",
        "A **Boosted Regression Forest**, as implemented in the `{grf}` package in R, is a specialized extension of the random forest framework that combines **boosting** with random forests to improve predictive performance for regression tasks. Unlike standard random forests, which build independent trees and average their predictions, boosted regression forests incorporate a boosting mechanism to iteratively refine predictions by focusing on residuals or errors from previous iterations. This approach enhances accuracy, particularly for complex datasets with non-linear relationships. Below, I’ll explain the concept, its implementation in `{grf}`, and how it differs from other regression forest variants.\n",
        "\n"
      ]
    },
    {
      "cell_type": "markdown",
      "metadata": {
        "id": "S77MsgmqIYD0"
      },
      "source": [
        "## Overview\n",
        "\n",
        "A Boosted Regression Forest is a hybrid model that integrates the principles of **gradient boosting** with the random forest framework. It builds a sequence of regression forests where each subsequent forest focuses on correcting the errors (residuals) of the previous forests, similar to how gradient boosting works in models like XGBoost or LightGBM. In `{grf}`, this is implemented via the `boosted_regression_forest()` function, which is designed to predict continuous outcomes with improved accuracy by leveraging boosting to reduce bias while maintaining the robustness of random forests.\n",
        "\n"
      ]
    },
    {
      "cell_type": "markdown",
      "metadata": {
        "id": "EnR-z3S9vTpk"
      },
      "source": [
        "### Key features\n",
        "\n",
        "\n",
        "- `Sequential Learning`: Trees or forests are built sequentially, with each iteration fitting to the residuals of the previous predictions.\n",
        "- `Random Forest Structure`: Each iteration uses a random forest (with random feature selection and bootstrapping) to ensure robustness and prevent overfitting.\n",
        "- `Honest Splitting`: Like other `{grf}` models, it supports honest splitting to reduce bias by separating data for tree structure and leaf estimation.\n",
        "- `Regularization`: Includes parameters to control the boosting process, such as the number of boosting iterations and shrinkage (learning rate)."
      ]
    },
    {
      "cell_type": "markdown",
      "metadata": {
        "id": "VwEoykvwI2dS"
      },
      "source": [
        "### How Boosted Regression Forests Work in `{grf}`\n",
        "\n",
        "The `boosted_regression_forest()` function in `{grf}` operates as follows:\n",
        "\n",
        "1. Input Data\n",
        "\n",
        "   - A feature matrix $X$ (predictors) and a vector $Y$` (continuous outcome).\n",
        "   - Parameters like `num.trees` (total trees across iterations), `num.trees.per.iter` (trees per boosting iteration), `lambda.reg` (regularization penalty), and `honesty` (for unbiased estimation).\n",
        "\n",
        "2. Boosting Process\n",
        "\n",
        "   - `Initialization`: Start with an initial prediction (e.g., the mean of $Y$ or a simple random forest).\n",
        "   - `Iterative Updates`:\n",
        "     - Compute residuals (differences between observed `Y` and current predictions).\n",
        "     - Fit a new random forest to the residuals, using a subset of features and data (with random sampling, as in standard random forests).\n",
        "     - Update predictions by adding a scaled version of the new forest’s predictions (controlled by a shrinkage factor or learning rate).\n",
        "   - Repeat for a specified number of boosting iterations (`num.trees / num.trees.per.iter`).\n",
        "   - If `honesty = TRUE`, each forest uses separate data for splits and leaf estimates to reduce bias.\n",
        "\n",
        "3. Prediction\n",
        "\n",
        "   - For a new data point, the final prediction is the sum of the initial prediction and the contributions from each boosted forest, adjusted by the shrinkage factor.\n",
        "   - The result is a refined prediction that corrects errors iteratively.\n",
        "\n",
        "4. Output\n",
        "\n",
        "   - Predictions for new data points.\n",
        "   - Optional outputs like variable importance or variance estimates.\n",
        "\n"
      ]
    },
    {
      "cell_type": "markdown",
      "metadata": {
        "id": "bIBhNo81s-Nt"
      },
      "source": [
        "### Advantages of Boosted Regression Forests\n",
        "\n",
        "1. `Improved Accuracy`: By iteratively correcting residuals, boosted regression forests reduce bias compared to standard random forests, often leading to better predictive performance.\n",
        "2. `Robustness`: Inherits random forest’s strengths, such as handling high-dimensional data, non-linear relationships, and robustness to noise.\n",
        "3. `Flexible Regularization`: Parameters like `lambda.reg` and the number of boosting iterations allow control over overfitting and model complexity.\n",
        "4. `Honest Estimation`: Supports `{grf}`’s honest splitting, ensuring unbiased predictions, especially for small or noisy datasets.\n",
        "5. `Versatility`: Suitable for regression tasks where standard random forests underperform due to high bias or complex patterns."
      ]
    },
    {
      "cell_type": "markdown",
      "metadata": {
        "id": "NmMsBJhJvpJR"
      },
      "source": [
        "### Limitations\n",
        "\n",
        "1. `Computational Cost`: The sequential nature of boosting makes it slower than standard regression forests, especially with many iterations or large datasets.\n",
        "2. `Overfitting Risk`: Without proper tuning (e.g., `lambda.reg`, number of iterations), boosting can overfit, especially on noisy data.\n",
        "3. `Tuning Complexity`: Requires careful selection of parameters like `num.trees.per.iter`, `lambda.reg`, and shrinkage to balance bias and variance.\n",
        "4. `Interpretability`: Like other random forests, interpreting the model is challenging, and the boosting component adds complexity."
      ]
    },
    {
      "cell_type": "markdown",
      "metadata": {
        "id": "sB4AWWpIHVOa"
      },
      "source": [
        "### Applications\n",
        "\n",
        "- `Economics`: Predicting outcomes like housing prices or income, where complex patterns require bias reduction.\n",
        "- `Finance`: Forecasting stock returns or risk metrics with non-linear dependencies.\n",
        "- `Environmental Science`: Modeling continuous outcomes like temperature or pollution levels with intricate feature interactions.\n",
        "- `Any Regression Task`: Where standard random forests have high bias or where iterative refinement can improve accuracy."
      ]
    },
    {
      "cell_type": "markdown",
      "metadata": {
        "id": "-u2tkR3KvrbW"
      },
      "source": [
        "### Key Differences from Other `{grf}` Models\n",
        "\n",
        "| **Aspect**                     | **Standard Regression Forest** (`regression_forest`) | **Local Linear Forest** (`ll_regression_forest`) | **Boosted Regression Forest** (`boosted_regression_forest`) |\n",
        "|--------------------------------|----------------------------------------------------|-----------------------------------------------|-----------------------------------------------------------|\n",
        "| `Prediction Method`          | Averages outcomes in leaves.                       | Local linear regression using forest weights. | Iterative boosting of forests to fit residuals.           |\n",
        "| `Learning Approach`          | Parallel (independent trees).                      | Parallel with local linear correction.        | Sequential (boosting iterations).                        |\n",
        "| `Bias Reduction`             | Relies on averaging and honesty.                   | Local linear fits for smoother predictions.   | Boosting reduces bias by focusing on residuals.          |\n",
        "| `Smoothness`                 | Piecewise constant.                                | Smooth predictions.                           | Piecewise constant but refined via boosting.             |\n",
        "| `Use Case`                   | General regression tasks.                          | Smooth relationships.                         | Complex datasets needing bias reduction.                 |\n",
        "| `Computational Cost`         | Moderate.                                          | Higher (due to local linear fits).            | Higher (due to sequential boosting).                    |\n",
        "| `Regularization`             | Minimal (node size, tree depth).                   | Ridge penalty (`ll.lambda`).                  | Shrinkage and `lambda.reg` for boosting.                 |\n",
        "\n",
        "\n",
        "\n"
      ]
    },
    {
      "cell_type": "markdown",
      "metadata": {
        "id": "bh7jEhGCLDZA"
      },
      "source": [
        "## Boosted Regression Forest with Python\n",
        "\n",
        "There is no standard optimized Python package like {scikit-learn} for LBoosted Regression Forest.  Below, a Python implementation of LLF by adapting the {grf} package of  R via Python’s R interface (rpy2).\n",
        "\n",
        "This tutorial demonstrates how to use the boosted_regression_forest() function from the {grf} package in Python to fit a Boosted Regression Forest model. We will use the Boston Housing dataset to predict median housing prices based on various features. The steps include data preparation, model fitting, prediction, and evaluation of performance metrics like RMSE and R-squared.\n",
        "\n"
      ]
    },
    {
      "cell_type": "code",
      "execution_count": null,
      "metadata": {
        "id": "rPJEkuFn6tdW"
      },
      "outputs": [],
      "source": [
        "# Install required Python packages\n",
        "!pip install rpy2"
      ]
    },
    {
      "cell_type": "code",
      "execution_count": 15,
      "metadata": {
        "id": "tSjmAgv06uI2"
      },
      "outputs": [],
      "source": [
        "# Import necessary libraries\n",
        "import pandas as pd\n",
        "import numpy as np\n",
        "import matplotlib.pyplot as plt\n",
        "import seaborn as sns\n",
        "import rpy2.robjects as ro\n",
        "from rpy2.robjects import pandas2ri, numpy2ri\n",
        "from rpy2.robjects.packages import importr\n",
        "from sklearn.model_selection import train_test_split\n",
        "from sklearn.metrics import mean_squared_error, r2_score"
      ]
    },
    {
      "cell_type": "code",
      "execution_count": 2,
      "metadata": {
        "id": "jLAjezeU6wmU"
      },
      "outputs": [],
      "source": [
        "# Activate automatic conversion between pandas/numpy and R objects\n",
        "pandas2ri.activate()\n",
        "numpy2ri.activate()"
      ]
    },
    {
      "cell_type": "code",
      "execution_count": null,
      "metadata": {
        "id": "VlzMfKGP8ORW"
      },
      "outputs": [],
      "source": [
        "%load_ext rpy2.ipython\n",
        "\n",
        "r = ro.r\n",
        "r['install.packages'](\"grf\", repos='http://cran.us.r-project.org')\n",
        "r.library(\"grf\")\n",
        "# Load R packages\n",
        "base = importr('base')\n",
        "grf = importr('grf')"
      ]
    },
    {
      "cell_type": "markdown",
      "metadata": {
        "id": "IPobetr0zFC5"
      },
      "source": [
        "### Load and Prepare the Dataset\n"
      ]
    },
    {
      "cell_type": "code",
      "execution_count": 11,
      "metadata": {
        "colab": {
          "base_uri": "https://localhost:8080/"
        },
        "id": "RmfGVScmzF8P",
        "outputId": "a484b44b-167d-48f7-eccc-0cbbd6f958ad"
      },
      "outputs": [
        {
          "name": "stderr",
          "output_type": "stream",
          "text": [
            "WARNING:rpy2.rinterface_lib.callbacks:R[write to console]: In addition: \n",
            "WARNING:rpy2.rinterface_lib.callbacks:R[write to console]: Warning message:\n",
            "\n",
            "WARNING:rpy2.rinterface_lib.callbacks:R[write to console]: In (function (package, help, pos = 2, lib.loc = NULL, character.only = FALSE,  :\n",
            "WARNING:rpy2.rinterface_lib.callbacks:R[write to console]: \n",
            " \n",
            "WARNING:rpy2.rinterface_lib.callbacks:R[write to console]:  library ‘drive/My Drive/R’ contains no packages\n",
            "\n"
          ]
        }
      ],
      "source": [
        "# Set seed for reproducibility\n",
        "np.random.seed(123)\n",
        "r('set.seed(123)')\n",
        "\n",
        "# Load the Boston Housing dataset\n",
        "data_url = \"http://lib.stat.cmu.edu/datasets/boston\"\n",
        "raw_df = pd.read_csv(data_url, sep=\"\\s+\", skiprows=22, header=None)\n",
        "data = np.hstack([raw_df.values[::2, :], raw_df.values[1::2, :2]])\n",
        "target = raw_df.values[1::2, 2]\n",
        "feature_names = ['CRIM', 'ZN', 'INDUS', 'CHAS', 'NOX', 'RM', 'AGE', 'DIS', 'RAD', 'TAX', 'PTRATIO', 'B', 'LSTAT']\n",
        "\n",
        "# Create a pandas DataFrame\n",
        "boston_df = pd.DataFrame(data, columns=feature_names)\n",
        "boston_df['medv'] = target\n",
        "\n",
        "# Split data into training (70%) and test (30%) sets\n",
        "train_data, test_data = train_test_split(boston_df, test_size=0.3, random_state=123)\n",
        "\n",
        "# Prepare features (X) and target (Y) as pandas DataFrames\n",
        "X_train = train_data.drop('medv', axis=1)\n",
        "Y_train = train_data['medv']\n",
        "X_test = test_data.drop('medv', axis=1)\n",
        "Y_test = test_data['medv']\n",
        "\n",
        "# Convert to R objects for grf\n",
        "X_train_r = pandas2ri.py2rpy(X_train)  # Convert pandas DataFrame to R matrix\n",
        "Y_train_r = pandas2ri.py2rpy(Y_train)  # Convert pandas Series to R vector\n",
        "X_test_r = pandas2ri.py2rpy(X_test)    # Convert pandas DataFrame to R matrix"
      ]
    },
    {
      "cell_type": "markdown",
      "metadata": {
        "id": "jxK5d0frBs8O"
      },
      "source": [
        "### Fit Boosted Regression Forest Model\n",
        "\n",
        "Boosted regression forests are particularly useful for regression tasks where complex relationships exist between features and the target variable. In this example, we will fit a boosted regression forest model to predict median housing prices (`medv`) based on various features in the Boston Housing dataset."
      ]
    },
    {
      "cell_type": "code",
      "execution_count": 13,
      "metadata": {
        "colab": {
          "base_uri": "https://localhost:8080/"
        },
        "id": "Ou9edbC9Bt5M",
        "outputId": "77ea157e-7a7a-4656-f152-b42735caeedc"
      },
      "outputs": [
        {
          "name": "stdout",
          "output_type": "stream",
          "text": [
            "Boosted GRF object \n",
            "Number of forests:  3 \n",
            "\n"
          ]
        }
      ],
      "source": [
        "# Fit boosted regression forest using grf in R\n",
        "brf_model = grf.boosted_regression_forest(X_train_r,\n",
        "                                          Y_train_r,\n",
        "                                          num_trees=500,\n",
        "                                          honesty=True)\n",
        "print(brf_model)"
      ]
    },
    {
      "cell_type": "markdown",
      "metadata": {
        "id": "7KgHx7kY9EEg"
      },
      "source": [
        "### Predict on Test Set and Evaluate Model"
      ]
    },
    {
      "cell_type": "code",
      "execution_count": 16,
      "metadata": {
        "colab": {
          "base_uri": "https://localhost:8080/"
        },
        "id": "m0vovr-CfwBZ",
        "outputId": "8282cbe0-c9b4-4509-c690-d87a09812e0b"
      },
      "outputs": [
        {
          "name": "stdout",
          "output_type": "stream",
          "text": [
            "Test Set RMSE: 4.072\n",
            "Test Set R-squared: 0.795\n"
          ]
        }
      ],
      "source": [
        "# Predict on test set\n",
        "predictions_r = grf.predict_boosted_regression_forest(brf_model, X_test_r)\n",
        "predictions = np.array(predictions_r.rx2('predictions'))  # Extract predictions as numpy array\n",
        "\n",
        "# Calculate RMSE and R-squared\n",
        "rmse = np.sqrt(mean_squared_error(Y_test, predictions))\n",
        "r_squared = r2_score(Y_test, predictions)\n",
        "\n",
        "# Print performance metrics\n",
        "print(f\"Test Set RMSE: {rmse:.3f}\")\n",
        "print(f\"Test Set R-squared: {r_squared:.3f}\")"
      ]
    },
    {
      "cell_type": "code",
      "execution_count": 20,
      "metadata": {
        "colab": {
          "base_uri": "https://localhost:8080/",
          "height": 487
        },
        "id": "-P4-wj1vTuL2",
        "outputId": "3946fc5c-e761-4701-8f59-cd9227becd07"
      },
      "outputs": [
        {
          "data": {
            "image/png": "[encoded data removed]",
            "text/plain": [
              "<Figure size 600x500 with 1 Axes>"
            ]
          },
          "metadata": {},
          "output_type": "display_data"
        }
      ],
      "source": [
        "# Visualize Predictions\n",
        "plt.figure(figsize=(6, 5))\n",
        "plt.scatter(Y_test, predictions, color='blue', marker='o', label='Predictions')\n",
        "plt.plot([min(Y_test.min(), predictions.min()), max(Y_test.max(), predictions.max())],\n",
        "         [min(Y_test.min(), predictions.min()), max(Y_test.max(), predictions.max())],\n",
        "         color='red', linestyle='--', label='45-degree line')\n",
        "plt.xlabel(\"Observed medv ($1000s)\")\n",
        "plt.ylabel(\"Predicted medv ($1000s)\")\n",
        "plt.title(\"Predicted vs Observed Median Housing Prices (Boosted Regression Forest)\")\n",
        "plt.xlim(min(Y_test.min(), predictions.min()), max(Y_test.max(), predictions.max()))\n",
        "plt.ylim(min(Y_test.min(), predictions.min()), max(Y_test.max(), predictions.max()))\n",
        "plt.text(0.05, 0.95, f\"R-squared: {r_squared:.3f}\\nRMSE: {rmse:.3f}\",\n",
        "         transform=plt.gca().transAxes, fontsize=12, verticalalignment='top')\n",
        "plt.show()"
      ]
    },
    {
      "cell_type": "markdown",
      "metadata": {
        "id": "75e1b210"
      },
      "source": [
        "## Summary and Conclusion\n",
        "\n",
        "This notebook provides a comprehensive overview and practical implementation of Boosted Regression Forests using the `{grf}` package in R, accessed via `rpy2` in Python.\n",
        "\n",
        "The notebook starts by explaining the theoretical foundation of Boosted Regression Forests, highlighting their sequential learning approach to correct residuals from previous iterations. It emphasizes key features such as sequential learning, random forest structure, honest splitting, and regularization. The mechanism of how `boosted_regression_forest()` works in `{grf}` is detailed, outlining the boosting process from initialization to iterative updates and final prediction.\n",
        "\n",
        "The advantages and limitations of Boosted Regression Forests are discussed, including improved accuracy, robustness, flexible regularization, and honest estimation as advantages, while computational cost, overfitting risk, tuning complexity, and interpretability are noted as limitations. Potential applications in various fields like economics, finance, and environmental science are also presented. A table clearly differentiates Boosted Regression Forests from Standard Regression Forests and Local Linear Forests within the `{grf}` framework.\n",
        "\n",
        "The practical section demonstrates how to implement a Boosted Regression Forest in Python using `rpy2`. It covers installing necessary packages, importing libraries, activating R/Python conversion, and loading the `{grf}` package in R. The Boston Housing dataset is used as an example, with steps for data loading, preparation, splitting into training and test sets, and converting data to R objects.\n",
        "\n",
        "The core of the practical demonstration involves fitting the `boosted_regression_forest` model using the prepared training data and predicting on the test set. The performance of the model is evaluated using Root Mean Squared Error (RMSE) and R-squared metrics, which are then printed. Finally, a scatter plot is generated to visualize the predicted versus observed median housing prices on the test set, providing a visual assessment of the model's performance.\n",
        "\n",
        "In conclusion, this notebook successfully illustrates the concept and application of Boosted Regression Forests. By leveraging the power of the `{grf}` package through `rpy2`, it demonstrates how this advanced ensemble technique can be used for regression tasks in a Python environment, showcasing its potential for improved predictive accuracy compared to traditional methods. The provided code and explanations serve as a valuable resource for understanding and implementing Boosted Regression Forests for similar regression problems."
      ]
    },
    {
      "cell_type": "markdown",
      "metadata": {
        "id": "SaZTnZx3QPGI"
      },
      "source": [
        "\n",
        "## References\n",
        "\n",
        "1. [Boosted regression forest](https://grf-labs.github.io/grf/reference/boosted_regression_forest.html)\n",
        "\n"
      ]
    }
  ],
  "metadata": {
    "colab": {
      "authorship_tag": "ABX9TyM9EXwIDLDYH+5X9yvOcMab",
      "include_colab_link": true,
      "provenance": [],
      "toc_visible": true
    },
    "kernelspec": {
      "display_name": "Python 3",
      "name": "python3"
    },
    "language_info": {
      "name": "python"
    }
  },
  "nbformat": 4,
  "nbformat_minor": 0
}
